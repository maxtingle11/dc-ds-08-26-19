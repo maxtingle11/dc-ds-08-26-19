{
 "cells": [
  {
   "cell_type": "markdown",
   "metadata": {},
   "source": [
    "# REGULAR EXPRESSIONS"
   ]
  },
  {
   "cell_type": "markdown",
   "metadata": {},
   "source": [
    "![faces](imgs/express.jpg)"
   ]
  },
  {
   "cell_type": "markdown",
   "metadata": {},
   "source": [
    "The kinds of faces you will make when working with regular expressions."
   ]
  },
  {
   "cell_type": "markdown",
   "metadata": {},
   "source": [
    "## Objectives\n",
    "\n",
    "- Review foundational `re` syntax \n",
    "- Learn about tools to help\n",
    "- Practice\n",
    "___\n"
   ]
  },
  {
   "cell_type": "markdown",
   "metadata": {},
   "source": [
    "## Overview\n",
    "\n",
    "![terrifying](imgs/example.png)\n",
    "\n",
    "\n",
    "**This.  \n",
    "Is.  \n",
    "Terrifying.**\n",
    "\n",
    "![gif_of_you](imgs/fear_ignorance.gif)"
   ]
  },
  {
   "cell_type": "markdown",
   "metadata": {},
   "source": [
    "## Basic Parts\n",
    "\n",
    "1) Groups - the foundations of regular expressions. A group is a portion in the string you are searching for. <br>\n",
    "- It can be a word: \"bottle\", \"AROUND\", \"Link\"  \n",
    "- It can be a number: \"25\", \"19910312\", \"1.333\"  \n",
    "- It can be anything: \"1337 5P3Ak\", \"<( '.' )>\", \"something@email.com\"  \n",
    "\n",
    "2) Quantifiers - these instruct how to gather information around the group. <br>\n",
    "- Do you want to get everything infront of a group?  \n",
    "- Do you want only the 3 charaters the follow the group?  \n",
    "- Do you want to match only partially match the group?  \n",
    "    \n",
    "3) Anchors, Ranges, and More - these are regex specific terms that concisely picks out groups. <br>\n",
    "- Want a group that contains all lowercase letters?  \n",
    "- Want a group that had only digits?  \n",
    "- Want a group that only appears at the end of a string?  \n",
    "    \n",
    "It is when all these things are thrown together that regex becomes a powerful tool."
   ]
  },
  {
   "cell_type": "code",
   "execution_count": 2,
   "metadata": {},
   "outputs": [],
   "source": [
    "import re"
   ]
  },
  {
   "cell_type": "markdown",
   "metadata": {},
   "source": [
    "First, we need a string. Any old string will do. The next step is to create a pattern (a combination of groups, quantifiers, metacharacters, and then some) to pull put the specific infomation we seek."
   ]
  },
  {
   "cell_type": "code",
   "execution_count": 3,
   "metadata": {},
   "outputs": [],
   "source": [
    "string_1 = ''"
   ]
  },
  {
   "cell_type": "markdown",
   "metadata": {},
   "source": [
    "When specifying a pattern, **best pratice** is to lead the string with `r`. This turns the backslash character into a literal and visible regex and more! [Find out more on that here](https://stackoverflow.com/questions/12871066/what-exactly-is-a-raw-string-regex-and-how-can-you-use-it) if interested.\n",
    "\n",
    "So a standard pattern in Python looks like `r\"( -CAPTURING GROUP- )\"`"
   ]
  },
  {
   "cell_type": "code",
   "execution_count": 4,
   "metadata": {},
   "outputs": [],
   "source": [
    "pattern = r\"()\""
   ]
  },
  {
   "cell_type": "markdown",
   "metadata": {},
   "source": [
    "We will use `re.search` our entire pattern to see if there is a group that matches. "
   ]
  },
  {
   "cell_type": "markdown",
   "metadata": {},
   "source": [
    "### re.findall"
   ]
  },
  {
   "cell_type": "code",
   "execution_count": 7,
   "metadata": {},
   "outputs": [
    {
     "data": {
      "text/plain": [
       "['']"
      ]
     },
     "execution_count": 7,
     "metadata": {},
     "output_type": "execute_result"
    }
   ],
   "source": [
    "result = re.findall(pattern, string_1)\n",
    "result"
   ]
  },
  {
   "cell_type": "markdown",
   "metadata": {},
   "source": [
    "### re.search"
   ]
  },
  {
   "cell_type": "code",
   "execution_count": 6,
   "metadata": {},
   "outputs": [
    {
     "data": {
      "text/plain": [
       "<re.Match object; span=(0, 0), match=''>"
      ]
     },
     "execution_count": 6,
     "metadata": {},
     "output_type": "execute_result"
    }
   ],
   "source": [
    "result = re.search(pattern, string_1)\n",
    "result"
   ]
  },
  {
   "cell_type": "markdown",
   "metadata": {},
   "source": [
    "`re.search` returns a `Match object`. `re.search` finds the first instance of the pattern in the string and then stops. The object gives the the specifc position of the string."
   ]
  },
  {
   "cell_type": "markdown",
   "metadata": {},
   "source": [
    "### re.match"
   ]
  },
  {
   "cell_type": "code",
   "execution_count": 66,
   "metadata": {},
   "outputs": [
    {
     "name": "stdout",
     "output_type": "stream",
     "text": [
      "None\n"
     ]
    }
   ],
   "source": [
    "result = re.match(pattern, string_1)\n",
    "print(result)"
   ]
  },
  {
   "cell_type": "markdown",
   "metadata": {},
   "source": [
    "`re.match` returns a `Match` object. `re.match` only looks for the pattern at the **start** of a string."
   ]
  },
  {
   "cell_type": "code",
   "execution_count": 67,
   "metadata": {},
   "outputs": [],
   "source": [
    "string_2 = \"it is crazy, isn't it!\""
   ]
  },
  {
   "cell_type": "code",
   "execution_count": 68,
   "metadata": {},
   "outputs": [
    {
     "name": "stdout",
     "output_type": "stream",
     "text": [
      "<re.Match object; span=(0, 2), match='it'>\n"
     ]
    }
   ],
   "source": [
    "result = re.match(pattern, string_2)\n",
    "print(result)"
   ]
  },
  {
   "cell_type": "markdown",
   "metadata": {},
   "source": [
    "___\n",
    "## Anchors, Ranges, and More"
   ]
  },
  {
   "cell_type": "markdown",
   "metadata": {},
   "source": [
    "Characters | Anchors | Groups \n",
    "-|-|-\n",
    "![characters](imgs/cclass.png) | ![anchors](imgs/anchors.png) | ![groups](imgs/groups.png)"
   ]
  },
  {
   "cell_type": "code",
   "execution_count": 87,
   "metadata": {},
   "outputs": [],
   "source": [
    "string_1 = 'This is test string. This took me all of 7 \\n seconds to write it. I wrote it fast.'\n",
    "string_2 = 'itiscrazyhowlongthisru790nonsente234nceis!'\n",
    "string_3 = 'How in the world would it work without being crazy?'\n",
    "\n",
    "loop_through = [string_1, string_2, string_3]"
   ]
  },
  {
   "cell_type": "code",
   "execution_count": 88,
   "metadata": {},
   "outputs": [],
   "source": [
    "pattern = r\"(^it)\" #adding the start of string anchor"
   ]
  },
  {
   "cell_type": "code",
   "execution_count": 89,
   "metadata": {},
   "outputs": [
    {
     "name": "stdout",
     "output_type": "stream",
     "text": [
      "None\n",
      "<re.Match object; span=(0, 2), match='it'>\n",
      "None\n"
     ]
    }
   ],
   "source": [
    "for string in loop_through:\n",
    "    print(re.search(pattern, string))"
   ]
  },
  {
   "cell_type": "code",
   "execution_count": 59,
   "metadata": {},
   "outputs": [],
   "source": [
    "pattern = r\"\\d\" #any digit."
   ]
  },
  {
   "cell_type": "code",
   "execution_count": 60,
   "metadata": {},
   "outputs": [
    {
     "name": "stdout",
     "output_type": "stream",
     "text": [
      "<re.Match object; span=(41, 42), match='7'>\n",
      "None\n",
      "None\n"
     ]
    }
   ],
   "source": [
    "for string in loop_through:\n",
    "    print(re.search(pattern, string))"
   ]
  },
  {
   "cell_type": "code",
   "execution_count": 90,
   "metadata": {},
   "outputs": [],
   "source": [
    "pattern = r\"[a-z].*\" #range of a or b or c ... or z with the quantifier '.' that has been made greedy."
   ]
  },
  {
   "cell_type": "code",
   "execution_count": 91,
   "metadata": {},
   "outputs": [
    {
     "name": "stdout",
     "output_type": "stream",
     "text": [
      "<re.Match object; span=(1, 43), match='his is test string. This took me all of 7 '>\n",
      "<re.Match object; span=(0, 36), match='itiscrazyhowlongthisrunonsentenceis!'>\n",
      "<re.Match object; span=(1, 51), match='ow in the world would it work without being crazy>\n"
     ]
    }
   ],
   "source": [
    "for string in loop_through:\n",
    "    print(re.search(pattern, string))"
   ]
  },
  {
   "cell_type": "code",
   "execution_count": 84,
   "metadata": {},
   "outputs": [],
   "source": [
    "pattern = r\"[\\w]+\" #any word AND Matches one or more consecutive `\\w` characters.\n"
   ]
  },
  {
   "cell_type": "code",
   "execution_count": 67,
   "metadata": {},
   "outputs": [
    {
     "name": "stdout",
     "output_type": "stream",
     "text": [
      "<re.Match object; span=(0, 4), match='This'>\n",
      "<re.Match object; span=(0, 33), match='itiscrazyhowlongthisrunonstenceis'>\n",
      "<re.Match object; span=(0, 3), match='How'>\n"
     ]
    }
   ],
   "source": [
    "for string in loop_through:\n",
    "    print(re.search(pattern, string))"
   ]
  },
  {
   "cell_type": "markdown",
   "metadata": {},
   "source": [
    "___\n",
    "## Quantifiers\n",
    "\n",
    "`regex` quanitifers can be broken into roughly three categories: specific, greedy, and lazy.\n",
    "\n",
    "Specific: you will need set a certain quantity or a range of _same_ characters to gather.  \n",
    "Greedy: match as many characters as possible.  \n",
    "Lazy: match as few characters as possible.  "
   ]
  },
  {
   "cell_type": "code",
   "execution_count": null,
   "metadata": {},
   "outputs": [],
   "source": [
    "repeating_patterns = \"ah aaaaaaaah aahhhh aaaahhhhhhh ahah \"\n",
    "\n",
    "pattern_1 = r\"(a{1})\"\n",
    "result = re.search(pattern_1, repeating_patterns)\n",
    "result"
   ]
  },
  {
   "cell_type": "code",
   "execution_count": null,
   "metadata": {},
   "outputs": [],
   "source": [
    "pattern_2 = r\"(a{2})\"\n",
    "result = re.search(pattern_2, repeating_patterns)\n",
    "result"
   ]
  },
  {
   "cell_type": "code",
   "execution_count": null,
   "metadata": {},
   "outputs": [],
   "source": [
    "pattern_3 = r\"(a{3,})\"\n",
    "result = re.search(pattern_3, repeating_patterns)\n",
    "result"
   ]
  },
  {
   "cell_type": "markdown",
   "metadata": {},
   "source": [
    "Now lets take a look at greey and lazy quantifiers."
   ]
  },
  {
   "cell_type": "markdown",
   "metadata": {},
   "source": [
    "The simplest quantifier of regex is just a period, `.`. It matches any single character besides newline."
   ]
  },
  {
   "cell_type": "code",
   "execution_count": null,
   "metadata": {},
   "outputs": [],
   "source": [
    "state = \"Mississippi\"\n",
    "anything_pattern = r\"(.)\"\n",
    "result = re.match(anything_pattern, state)\n",
    "result"
   ]
  },
  {
   "cell_type": "code",
   "execution_count": null,
   "metadata": {},
   "outputs": [],
   "source": [
    "state = \"Mississippi\"\n",
    "specific_pattern = r\"(s{2})\"\n",
    "result = re.search(specific_pattern, state)\n",
    "result"
   ]
  },
  {
   "cell_type": "markdown",
   "metadata": {},
   "source": [
    "To make a lazy pattern, all that is required is a question mark `?`. This will grab the fewest amount of characters while obeying all the group constraints."
   ]
  },
  {
   "cell_type": "code",
   "execution_count": null,
   "metadata": {},
   "outputs": [],
   "source": [
    "state = \"Mississippi\"\n",
    "greedy_pattern = r\"(s{2}.?)\"\n",
    "result = re.search(greedy_pattern, state)\n",
    "result"
   ]
  },
  {
   "cell_type": "markdown",
   "metadata": {},
   "source": [
    "To make a greedy pattern, put an asterisk `*`"
   ]
  },
  {
   "cell_type": "code",
   "execution_count": null,
   "metadata": {},
   "outputs": [],
   "source": [
    "state = \"Mississippi\"\n",
    "lazy_pattern = r\"(s{2}.*)\"\n",
    "result = re.search(lazy_pattern, state)\n",
    "result"
   ]
  },
  {
   "cell_type": "markdown",
   "metadata": {},
   "source": [
    "A `Match object` has a method called `.groups()`. This is helpful when you start adding additional groups and quantifiers."
   ]
  },
  {
   "cell_type": "markdown",
   "metadata": {},
   "source": [
    "\n",
    "## Tools\n",
    "\n",
    "From least helpful to most helpful\n",
    "___\n",
    "Cheat Sheets\n",
    "- [Data Quest](https://www.dataquest.io/wp-content/uploads/2019/03/python-regular-expressions-cheat-sheet.pdf)\n",
    "- [Rexegg](https://www.rexegg.com/regex-quickstart.html)\n",
    "- [Debuggex](https://www.debuggex.com/cheatsheet/regex/python)\n",
    "___\n",
    "Tutorials\n",
    "- [Regular-Expressions.info](https://www.regular-expressions.info/tutorial.html)\n",
    "- [RegexOne](https://regexone.com)\n",
    "- [RegexTutorials](http://regextutorials.com/)\n",
    "___\n",
    "Online live editors\n",
    "- https://regex101.com\n",
    "- https://regexr.com (No Python)\n",
    "- https://www.regextester.com\n",
    "___\n",
    "Stackoverflow\n",
    "- https://stackoverflow.com/questions/22937618/reference-what-does-this-regex-mean/22944075#22944075"
   ]
  },
  {
   "cell_type": "markdown",
   "metadata": {},
   "source": [
    "Even with all these resources, regex still takes a while to learn let alone master. That just means....\n",
    "___\n",
    "___\n",
    "___\n",
    "## PRACTICE"
   ]
  },
  {
   "cell_type": "markdown",
   "metadata": {},
   "source": [
    "    - `re.match` only looks at the beginning of a string. Returns a Match obj.\n",
    "    - `re.search` looks at the entire string and finds the first instance. Returns a Match obj.\n",
    "    - `re.findall' finds all instances of pattern in the string. DOES NOT return a Match obj."
   ]
  },
  {
   "cell_type": "markdown",
   "metadata": {},
   "source": [
    "### 1) Take the first full first word of the strings.\n",
    "\n",
    "_Hint: You will likely use the `+` quantifier_"
   ]
  },
  {
   "cell_type": "code",
   "execution_count": 115,
   "metadata": {},
   "outputs": [
    {
     "name": "stdout",
     "output_type": "stream",
     "text": [
      "<re.Match object; span=(0, 3), match='How'>\n",
      "<re.Match object; span=(0, 3), match='Who'>\n",
      "<re.Match object; span=(0, 9), match='Nevermind'>\n"
     ]
    }
   ],
   "source": [
    "list_of_sentences = [\"How can you even do that?\", \"Who thinks this is a waste of their time?\", \"Nevermind, don't tell me if you think it is.\"]\n",
    "pattern = r\"(\\w+)\"\n",
    "for sentence in list_of_sentences:\n",
    "    result = re.match(pattern, sentence)\n",
    "    print(result)"
   ]
  },
  {
   "cell_type": "markdown",
   "metadata": {},
   "source": [
    "### 2) Find the second full word of the strings but now using `re.search`\n",
    "\n",
    "_Hint: Word boundries paried with something else. Look for patterns._"
   ]
  },
  {
   "cell_type": "code",
   "execution_count": 127,
   "metadata": {},
   "outputs": [
    {
     "name": "stdout",
     "output_type": "stream",
     "text": [
      "<re.Match object; span=(2, 4), match='do'>\n",
      "<re.Match object; span=(5, 9), match='this'>\n",
      "<re.Match object; span=(4, 7), match='now'>\n"
     ]
    }
   ],
   "source": [
    "list_of_statements = [\"I do not think you are having fun yet.\", \"See, this is why people don't like regex.\", \"Try now to your resources!\"]\n",
    "pattern = r\"\\b[a-z]+\"\n",
    "for statment in list_of_statements:\n",
    "    result = re.search(pattern, statment)\n",
    "    print(result)"
   ]
  },
  {
   "cell_type": "markdown",
   "metadata": {},
   "source": [
    "### 3) Find all the lowercase letters in the follow strings\n",
    "\n",
    "_Hint: What would you do if you had to take all the uppercase letters?_"
   ]
  },
  {
   "cell_type": "code",
   "execution_count": 111,
   "metadata": {},
   "outputs": [
    {
     "name": "stdout",
     "output_type": "stream",
     "text": [
      "['g', 'r', 'words', 'be', 'l', 'to', 'r', 'c', 'g', 'x']\n",
      "['k', 'anyone', 'r', 'ly', 'read', 'h', 'z']\n",
      "['nt', 'but', 'd', 'nt', 'me', 'p', 'm', 'using', 't']\n"
     ]
    }
   ],
   "source": [
    "list_of_gibberish = [\"g3N3r471N' words 7O be 48l3 to 3X7r4c7 V14 R3g3x\", \"k4N anyone r34Lly read 7h1z?\", \"1 K4'nt but TH@ d032'nt 5T0P me pHR0m using 1t\"]\n",
    "pattern = r\"[a-z]+\"\n",
    "for gibber in list_of_gibberish:\n",
    "    result = re.findall(pattern, gibber)\n",
    "    print(result)"
   ]
  },
  {
   "cell_type": "markdown",
   "metadata": {},
   "source": [
    "### 4) Extract the **ALL** the phone numbers from the following strings.\n",
    "\n",
    "_Hint: You will need to use a quantifier you JUST used, if you want the pattern as short as possible. Otherwise, make the pattern as long as you need it._"
   ]
  },
  {
   "cell_type": "code",
   "execution_count": 95,
   "metadata": {},
   "outputs": [
    {
     "name": "stdout",
     "output_type": "stream",
     "text": [
      "<re.Match object; span=(11, 23), match='530-657-9090'>\n",
      "<re.Match object; span=(19, 31), match='606-849-9038'>\n",
      "<re.Match object; span=(11, 23), match='703-952-6949'>\n"
     ]
    }
   ],
   "source": [
    "list_of_numbers = [\"Call me at 530-657-9090\", \"Wasn't your number 606-849-9038\", \"No, it was 703-952-6949\"]\n",
    "pattern = r\"[\\d-]+\"\n",
    "for number in list_of_numbers:\n",
    "    result = re.search(pattern, number)\n",
    "    print(result)"
   ]
  },
  {
   "cell_type": "markdown",
   "metadata": {},
   "source": [
    "### 5) Make a pattern that will identify all the following emails address.\n",
    "\n",
    "_Hint: You have seen this before. Go look through everything again._"
   ]
  },
  {
   "cell_type": "code",
   "execution_count": 97,
   "metadata": {},
   "outputs": [
    {
     "name": "stdout",
     "output_type": "stream",
     "text": [
      "['please_stop@gmail.com']\n",
      "['STORMLORD668@doom.com']\n",
      "['jonnel_roxs@aol.com']\n"
     ]
    }
   ],
   "source": [
    "list_of_emails = [\"please_stop@gmail.com\", \"STORMLORD668@doom.com\", \"jonnel_roxs@aol.com\"]\n",
    "pattern = r\"[\\w.%+-]+@[\\w.-]+\\.[a-zA-Z]{2,6}\"\n",
    "for email in list_of_emails:\n",
    "    result = re.findall(pattern, email)\n",
    "    print(result)"
   ]
  },
  {
   "cell_type": "markdown",
   "metadata": {},
   "source": [
    "___\n",
    "## Further Practice\n",
    "\n",
    "https://regexone.com/ - Lessons\n",
    "\n",
    "https://regexcrossword.com - Practice recognizing and reasoning out regex"
   ]
  }
 ],
 "metadata": {
  "kernelspec": {
   "display_name": "Python 3",
   "language": "python",
   "name": "python3"
  },
  "language_info": {
   "codemirror_mode": {
    "name": "ipython",
    "version": 3
   },
   "file_extension": ".py",
   "mimetype": "text/x-python",
   "name": "python",
   "nbconvert_exporter": "python",
   "pygments_lexer": "ipython3",
   "version": "3.7.3"
  }
 },
 "nbformat": 4,
 "nbformat_minor": 4
}
