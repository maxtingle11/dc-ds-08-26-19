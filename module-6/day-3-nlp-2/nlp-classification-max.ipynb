{
 "cells": [
  {
   "cell_type": "code",
   "execution_count": 1,
   "metadata": {
    "ExecuteTime": {
     "end_time": "2019-11-17T00:25:48.847968Z",
     "start_time": "2019-11-17T00:25:48.160762Z"
    }
   },
   "outputs": [],
   "source": [
    "import re\n",
    "import time\n",
    "\n",
    "import numpy as np\n",
    "import pandas as pd\n",
    "import requests"
   ]
  },
  {
   "cell_type": "code",
   "execution_count": 3,
   "metadata": {
    "ExecuteTime": {
     "end_time": "2019-11-13T14:39:48.417616Z",
     "start_time": "2019-11-13T14:39:42.895454Z"
    }
   },
   "outputs": [
    {
     "name": "stdout",
     "output_type": "stream",
     "text": [
      "Collecting progressbar2\n",
      "  Downloading https://files.pythonhosted.org/packages/16/68/adc395e0a3c86571081c8a2e2daaa5b58270f6854276a089a0e9b5fa2c33/progressbar2-3.47.0-py2.py3-none-any.whl\n",
      "Requirement already satisfied: six in /anaconda3/lib/python3.7/site-packages (from progressbar2) (1.12.0)\n",
      "Collecting python-utils>=2.3.0 (from progressbar2)\n",
      "  Downloading https://files.pythonhosted.org/packages/eb/a0/19119d8b7c05be49baf6c593f11c432d571b70d805f2fe94c0585e55e4c8/python_utils-2.3.0-py2.py3-none-any.whl\n",
      "Installing collected packages: python-utils, progressbar2\n",
      "Successfully installed progressbar2-3.47.0 python-utils-2.3.0\n"
     ]
    }
   ],
   "source": [
    "#!pip3 install progressbar2"
   ]
  },
  {
   "cell_type": "code",
   "execution_count": 4,
   "metadata": {
    "ExecuteTime": {
     "end_time": "2019-11-13T14:39:52.285254Z",
     "start_time": "2019-11-13T14:39:52.273867Z"
    }
   },
   "outputs": [],
   "source": [
    "from progressbar import progressbar"
   ]
  },
  {
   "cell_type": "markdown",
   "metadata": {},
   "source": [
    "## Scraping"
   ]
  },
  {
   "cell_type": "markdown",
   "metadata": {},
   "source": [
    "### Scraping Functions"
   ]
  },
  {
   "cell_type": "code",
   "execution_count": 5,
   "metadata": {
    "ExecuteTime": {
     "end_time": "2019-11-13T14:42:43.920657Z",
     "start_time": "2019-11-13T14:42:43.915583Z"
    }
   },
   "outputs": [],
   "source": [
    "# function to scrape reddit page (takes a reddit .json url)\n",
    "# returns posts \n",
    "\n",
    "def scraper_bike(url):\n",
    "    headers = {'User-Agent' : 'override this bad boy!'}\n",
    "    posts = []\n",
    "    after = {}\n",
    "\n",
    "    for page in progressbar(range(40)):\n",
    "        params = {'after': after}\n",
    "        pagepull = requests.get(url=url, params=params, headers=headers)\n",
    "        page_dict = pagepull.json()\n",
    "        posts.extend(page_dict['data']['children'])\n",
    "        after = page_dict['data']['after']\n",
    "        time.sleep(.2)\n",
    "        \n",
    "    return posts"
   ]
  },
  {
   "cell_type": "code",
   "execution_count": 6,
   "metadata": {
    "ExecuteTime": {
     "end_time": "2019-11-13T14:42:46.407127Z",
     "start_time": "2019-11-13T14:42:46.403042Z"
    }
   },
   "outputs": [],
   "source": [
    "# function to convert posts to DataFrame - won't allow duplicate posts since unique id 'name' is set as index\n",
    "# Extract: name (as index) and subreddit, selftext, title (as columns)\n",
    "\n",
    "\n",
    "def posts_to_df(post_list):\n",
    "    i = 0\n",
    "    post_dict = {}\n",
    "\n",
    "    for post in post_list:\n",
    "        ind = post_list[i]['data']\n",
    "        post_dict[ind['name']] = [\n",
    "            ind['subreddit'], ind['title'], ind['selftext']]\n",
    "        i += 1\n",
    "\n",
    "    df_name = pd.DataFrame(post_dict)\n",
    "    df_name = df_name.T\n",
    "    df_name.columns = ['subreddit', 'title', 'selftext']\n",
    "\n",
    "    return df_name"
   ]
  },
  {
   "cell_type": "code",
   "execution_count": 7,
   "metadata": {
    "ExecuteTime": {
     "end_time": "2019-11-13T14:42:47.845265Z",
     "start_time": "2019-11-13T14:42:47.842802Z"
    }
   },
   "outputs": [],
   "source": [
    "# takes scraper function and url - outputs dataframe\n",
    "\n",
    "def scrape_to_df(scrape_func, url):\n",
    "    \n",
    "    return posts_to_df(scrape_func(url))"
   ]
  },
  {
   "cell_type": "code",
   "execution_count": 8,
   "metadata": {
    "ExecuteTime": {
     "end_time": "2019-11-13T14:42:49.070708Z",
     "start_time": "2019-11-13T14:42:49.066935Z"
    }
   },
   "outputs": [],
   "source": [
    "# If you want to scrape repeatedly over time and add to a csv\n",
    "# scrape, import csv, concat, drop duplicate, and output to csv\n",
    "# takes in scraper function, url, csv filename to import, csv filename to output\n",
    "# Outputs - Concatenated DataFrame as csv\n",
    "\n",
    "\n",
    "def scrape_add(scrape_func, url, import_file, export_file):\n",
    "    scrape_df = posts_to_df(scrape_func(url))\n",
    "    imported_df = pd.read_csv(import_file, index_col='Unnamed: 0')\n",
    "    concat_df = pd.concat([imported_df, scrape_df])\n",
    "    concat_df = concat_df[~concat_df.index.duplicated(keep='first')]\n",
    "    concat_df.to_csv(export_file)"
   ]
  },
  {
   "cell_type": "markdown",
   "metadata": {},
   "source": [
    "### Run Scrape"
   ]
  },
  {
   "cell_type": "code",
   "execution_count": 9,
   "metadata": {
    "ExecuteTime": {
     "end_time": "2019-11-13T14:44:00.598905Z",
     "start_time": "2019-11-13T14:42:51.498161Z"
    }
   },
   "outputs": [
    {
     "name": "stderr",
     "output_type": "stream",
     "text": [
      "100% (40 of 40) |########################| Elapsed Time: 0:00:34 Time:  0:00:34\n",
      "100% (40 of 40) |########################| Elapsed Time: 0:00:34 Time:  0:00:34\n"
     ]
    }
   ],
   "source": [
    "# You can also put in any 2 subreddits in as the URL and get results for those\n",
    "\n",
    "nfltest = scrape_to_df(scraper_bike, 'https://www.reddit.com/r/nfl.json')\n",
    "nbatest = scrape_to_df(scraper_bike, 'https://www.reddit.com/r/nba.json')"
   ]
  },
  {
   "cell_type": "code",
   "execution_count": 10,
   "metadata": {
    "ExecuteTime": {
     "end_time": "2019-11-13T14:45:12.761568Z",
     "start_time": "2019-11-13T14:44:04.022770Z"
    }
   },
   "outputs": [
    {
     "name": "stderr",
     "output_type": "stream",
     "text": [
      "100% (40 of 40) |########################| Elapsed Time: 0:00:36 Time:  0:00:36\n",
      "100% (40 of 40) |########################| Elapsed Time: 0:00:32 Time:  0:00:32\n"
     ]
    }
   ],
   "source": [
    "politics_test = scrape_to_df(scraper_bike, 'https://www.reddit.com/r/politics.json')\n",
    "conservative_test = scrape_to_df(scraper_bike, 'https://www.reddit.com/r/conservative.json')"
   ]
  },
  {
   "cell_type": "code",
   "execution_count": 11,
   "metadata": {
    "ExecuteTime": {
     "end_time": "2019-11-13T14:45:12.771222Z",
     "start_time": "2019-11-13T14:45:12.763578Z"
    }
   },
   "outputs": [
    {
     "data": {
      "text/plain": [
       "(775, 3)"
      ]
     },
     "execution_count": 11,
     "metadata": {},
     "output_type": "execute_result"
    }
   ],
   "source": [
    "nbatest.shape"
   ]
  },
  {
   "cell_type": "code",
   "execution_count": 12,
   "metadata": {
    "ExecuteTime": {
     "end_time": "2019-11-13T14:45:12.778612Z",
     "start_time": "2019-11-13T14:45:12.773137Z"
    }
   },
   "outputs": [
    {
     "data": {
      "text/plain": [
       "(892, 3)"
      ]
     },
     "execution_count": 12,
     "metadata": {},
     "output_type": "execute_result"
    }
   ],
   "source": [
    "nfltest.shape"
   ]
  },
  {
   "cell_type": "markdown",
   "metadata": {},
   "source": [
    "##### These scrape_add functions add to already built csvs"
   ]
  },
  {
   "cell_type": "code",
   "execution_count": null,
   "metadata": {},
   "outputs": [],
   "source": [
    "# scrape_add(scraper_bike, 'https://www.reddit.com/r/CollegeBasketball/new.json', 'NCAA_Posts_Update2.csv', 'NCAA_Posts_Update3.csv')\n",
    "# scrape_add(scraper_bike, 'https://www.reddit.com/r/AskScience/new.json', 'AskSci_Posts_Update2.csv', 'AskSci_Posts_Update3.csv')\n",
    "# scrape_add(scraper_bike, 'https://www.reddit.com/r/nba/new.json', 'NBA_Posts_Update2.csv', 'NBA_Posts_Update3.csv')\n",
    "# scrape_add(scraper_bike, 'https://www.reddit.com/r/nfl/new.json', 'NFL_Posts_Update2.csv', 'NFL_Posts_Update3.csv')"
   ]
  },
  {
   "cell_type": "markdown",
   "metadata": {},
   "source": [
    "### Data Cleaning / Preprocessing"
   ]
  },
  {
   "cell_type": "code",
   "execution_count": 13,
   "metadata": {
    "ExecuteTime": {
     "end_time": "2019-11-13T14:46:42.426745Z",
     "start_time": "2019-11-13T14:46:41.344103Z"
    }
   },
   "outputs": [],
   "source": [
    "import nltk\n",
    "from nltk.stem import WordNetLemmatizer\n",
    "from nltk.tokenize import RegexpTokenizer, sent_tokenize\n",
    "from nltk.corpus import stopwords\n",
    "from sklearn.feature_extraction.text import CountVectorizer, TfidfVectorizer\n",
    "\n",
    "pd.set_option('max_colwidth', 300)"
   ]
  },
  {
   "cell_type": "code",
   "execution_count": 14,
   "metadata": {
    "ExecuteTime": {
     "end_time": "2019-11-13T14:46:42.635799Z",
     "start_time": "2019-11-13T14:46:42.625045Z"
    }
   },
   "outputs": [],
   "source": [
    "# drop column\n",
    "\n",
    "nfltest = nfltest.drop(columns='selftext')\n",
    "nbatest = nbatest.drop(columns='selftext')"
   ]
  },
  {
   "cell_type": "code",
   "execution_count": 15,
   "metadata": {
    "ExecuteTime": {
     "end_time": "2019-11-13T14:46:43.926290Z",
     "start_time": "2019-11-13T14:46:43.920132Z"
    }
   },
   "outputs": [],
   "source": [
    "# merge subreddit data\n",
    "\n",
    "train = pd.concat([nfltest, nbatest])"
   ]
  },
  {
   "cell_type": "code",
   "execution_count": 16,
   "metadata": {
    "ExecuteTime": {
     "end_time": "2019-11-13T14:46:44.979315Z",
     "start_time": "2019-11-13T14:46:44.960269Z"
    }
   },
   "outputs": [
    {
     "data": {
      "text/html": [
       "<div>\n",
       "<style scoped>\n",
       "    .dataframe tbody tr th:only-of-type {\n",
       "        vertical-align: middle;\n",
       "    }\n",
       "\n",
       "    .dataframe tbody tr th {\n",
       "        vertical-align: top;\n",
       "    }\n",
       "\n",
       "    .dataframe thead th {\n",
       "        text-align: right;\n",
       "    }\n",
       "</style>\n",
       "<table border=\"1\" class=\"dataframe\">\n",
       "  <thead>\n",
       "    <tr style=\"text-align: right;\">\n",
       "      <th></th>\n",
       "      <th>subreddit</th>\n",
       "      <th>title</th>\n",
       "    </tr>\n",
       "  </thead>\n",
       "  <tbody>\n",
       "    <tr>\n",
       "      <th>t3_dva38v</th>\n",
       "      <td>nfl</td>\n",
       "      <td>Official /r/NFL Sidebar contest</td>\n",
       "    </tr>\n",
       "    <tr>\n",
       "      <th>t3_dvfdhm</th>\n",
       "      <td>nfl</td>\n",
       "      <td>Official Week 10 R/NFL Power Rankings</td>\n",
       "    </tr>\n",
       "    <tr>\n",
       "      <th>t3_dvhdmh</th>\n",
       "      <td>nfl</td>\n",
       "      <td>[Schefter] NFL clubs were informed today that a private workout will be held for Colin Kaepernick on Saturday in Atlanta. Session will include on-field work and an interview. All clubs are invited to attend, and video of both the workout and interview will be made available to clubs.</td>\n",
       "    </tr>\n",
       "    <tr>\n",
       "      <th>t3_dvi5xb</th>\n",
       "      <td>nfl</td>\n",
       "      <td>[Schefter] NFL has flexed the Week 12 Packers-49ers game to Sunday Night Football on NBC.</td>\n",
       "    </tr>\n",
       "    <tr>\n",
       "      <th>t3_dvhocr</th>\n",
       "      <td>nfl</td>\n",
       "      <td>Rapaport: Cam Newton would accept trade to Chicago Bears</td>\n",
       "    </tr>\n",
       "    <tr>\n",
       "      <th>t3_dvnxdw</th>\n",
       "      <td>nfl</td>\n",
       "      <td>[Josh Houtz] Andy Dalton says he was benched because they \"had to think about the draft\"</td>\n",
       "    </tr>\n",
       "    <tr>\n",
       "      <th>t3_dvrvvy</th>\n",
       "      <td>nfl</td>\n",
       "      <td>[Falcons] YEAH, YOUNGHOE! 👉 @YoungHoeKoo has been named NFC Special Teams Player of the Week!</td>\n",
       "    </tr>\n",
       "    <tr>\n",
       "      <th>t3_dvjqtm</th>\n",
       "      <td>nfl</td>\n",
       "      <td>[Colin K] I’m just getting word from my representatives that the NFL league office reached out to them about a workout in Atlanta on Saturday. I’ve been in shape and ready for this for 3 years, can’t wait to see the head coaches and GMs on Saturday.</td>\n",
       "    </tr>\n",
       "    <tr>\n",
       "      <th>t3_dvc1wv</th>\n",
       "      <td>nfl</td>\n",
       "      <td>Seahawks drop in CBS power rankings after defeating 8-0 Niners</td>\n",
       "    </tr>\n",
       "    <tr>\n",
       "      <th>t3_dvgzjt</th>\n",
       "      <td>nfl</td>\n",
       "      <td>5’6” Tarik Cohen complains about towels on the top shelf at 0:32</td>\n",
       "    </tr>\n",
       "    <tr>\n",
       "      <th>t3_dvrgg3</th>\n",
       "      <td>nfl</td>\n",
       "      <td>The 2019 ESPN Playoff Machine is live</td>\n",
       "    </tr>\n",
       "    <tr>\n",
       "      <th>t3_dvrucj</th>\n",
       "      <td>nfl</td>\n",
       "      <td>[NFL] The AFC and NFC Offensive Players of the week are Lamar Jackson and Dalvin Cook</td>\n",
       "    </tr>\n",
       "    <tr>\n",
       "      <th>t3_dvhnsx</th>\n",
       "      <td>nfl</td>\n",
       "      <td>[Siciliano] Geno Smith say, \"Do the math.\" : A coin toss is more likely to land on heads in OT if it lands on tails for the opening kickoff.</td>\n",
       "    </tr>\n",
       "    <tr>\n",
       "      <th>t3_dvlzov</th>\n",
       "      <td>nfl</td>\n",
       "      <td>[Keysor] On Derrick Henry’s touchdown run, the Chiefs only had 10 men on the field</td>\n",
       "    </tr>\n",
       "    <tr>\n",
       "      <th>t3_dveqwt</th>\n",
       "      <td>nfl</td>\n",
       "      <td>In 2010, the Steelers final WR depth chart was Hines Ward, Antonio Brown, Mike Wallace, Emmanuel Sanders, Antwaan Randle El and Arnaz Battle</td>\n",
       "    </tr>\n",
       "    <tr>\n",
       "      <th>t3_dvhuuq</th>\n",
       "      <td>nfl</td>\n",
       "      <td>[Lombardi] Kyle Shanahan was very stern talking about the 49ers WRs today. Said point blank that passes off the hands should be caught. Then on Dante Pettis: “He’s had his opportunities. The more he doesn’t take advantage of his opportunities, the less opportunities he gets.\"</td>\n",
       "    </tr>\n",
       "    <tr>\n",
       "      <th>t3_dvkqtj</th>\n",
       "      <td>nfl</td>\n",
       "      <td>The Indianapolis Colts have won the AFC East more recently than the Buffalo Bills have. What are some other hard to believe yet true facts about the NFL?</td>\n",
       "    </tr>\n",
       "    <tr>\n",
       "      <th>t3_dvi5zv</th>\n",
       "      <td>nfl</td>\n",
       "      <td>Top 5 PFF edge rusher grades: Watt, Bosa, Graham, Watt, Bosa</td>\n",
       "    </tr>\n",
       "    <tr>\n",
       "      <th>t3_dvdlih</th>\n",
       "      <td>nfl</td>\n",
       "      <td>[Dunlap] I thought Sean McVay was reportedly going to change football forever. Keep in mind Mike Tomlin just beat him with: - a backup QB - a retooled offensive line - no running game</td>\n",
       "    </tr>\n",
       "    <tr>\n",
       "      <th>t3_dvbafm</th>\n",
       "      <td>nfl</td>\n",
       "      <td>[Schefter] Buccaneers released former first-round pick Vernon Hargreaves, per source.</td>\n",
       "    </tr>\n",
       "    <tr>\n",
       "      <th>t3_dvp4ts</th>\n",
       "      <td>nfl</td>\n",
       "      <td>Ex-Bears coach John Fox wanted different QB in draft over Mitch Trubisky</td>\n",
       "    </tr>\n",
       "    <tr>\n",
       "      <th>t3_dvqxs8</th>\n",
       "      <td>nfl</td>\n",
       "      <td>Which player or staff member are you surprised is still employed?</td>\n",
       "    </tr>\n",
       "    <tr>\n",
       "      <th>t3_dvc470</th>\n",
       "      <td>nfl</td>\n",
       "      <td>[Schefter] Seahawks’ WR Tyler Lockett spent the night in a Bay Area Hosptial with a lower leg injury that Seattle HC Pete Carroll said Is “a pretty severe situation right now.”</td>\n",
       "    </tr>\n",
       "    <tr>\n",
       "      <th>t3_dvdwrx</th>\n",
       "      <td>nfl</td>\n",
       "      <td>[Jenkins] Jamaal Williams: \"I ain't gonna lie to you. Halfway through your question, I stopped listening.\"</td>\n",
       "    </tr>\n",
       "    <tr>\n",
       "      <th>t3_dvoj92</th>\n",
       "      <td>nfl</td>\n",
       "      <td>On this day in 2005, Jon Gruden goes for 2 and the win rather than OT to cap off a wild 36-35 Tampa Bay win against Washington</td>\n",
       "    </tr>\n",
       "    <tr>\n",
       "      <th>t3_dvrt6a</th>\n",
       "      <td>nfl</td>\n",
       "      <td>Jamal Adams Named AFC Defensive Player of the Week</td>\n",
       "    </tr>\n",
       "    <tr>\n",
       "      <th>t3_dvc8a3</th>\n",
       "      <td>nfl</td>\n",
       "      <td>Just wanted to wish Al Michaels a happy 75th birthday today</td>\n",
       "    </tr>\n",
       "    <tr>\n",
       "      <th>t3_dvo64h</th>\n",
       "      <td>nfl</td>\n",
       "      <td>[Madson] Seattle's drives that didn't start with a 49ers turnover: 7 punts, 3 fumbles, 2 field goals, 1 interception</td>\n",
       "    </tr>\n",
       "    <tr>\n",
       "      <th>t3_dvr0ej</th>\n",
       "      <td>nfl</td>\n",
       "      <td>[NFL Matchup on ESPN]Through Week 10 of the NFL, here are the top play-action QBs according to passer rating.</td>\n",
       "    </tr>\n",
       "    <tr>\n",
       "      <th>t3_dvlimi</th>\n",
       "      <td>nfl</td>\n",
       "      <td>[Silva] #Ravens OC Greg Roman deserves to be 2020’s No. 1 HC candidate: Longtime elite run-game designer, Tailors offense to fit personnel rather than forcing “mah scheme”, Overseen Kap, Tyrod, Lamar career years, Forward-thinking hire exposed to edges analytics provide in Baltimore</td>\n",
       "    </tr>\n",
       "    <tr>\n",
       "      <th>...</th>\n",
       "      <td>...</td>\n",
       "      <td>...</td>\n",
       "    </tr>\n",
       "    <tr>\n",
       "      <th>t3_du5td5</th>\n",
       "      <td>nba</td>\n",
       "      <td>[Highlight] DLo with the buzzer beater long three at the end of Q3 to tie the game!</td>\n",
       "    </tr>\n",
       "    <tr>\n",
       "      <th>t3_dv4t4t</th>\n",
       "      <td>nba</td>\n",
       "      <td>Would you like to see fans storm the court after an upset like in college basketball?</td>\n",
       "    </tr>\n",
       "    <tr>\n",
       "      <th>t3_dulb4g</th>\n",
       "      <td>nba</td>\n",
       "      <td>Are the Magic a playoff team?</td>\n",
       "    </tr>\n",
       "    <tr>\n",
       "      <th>t3_dug9fz</th>\n",
       "      <td>nba</td>\n",
       "      <td>Who’s your favorite “Bottom of the Rotation” guy that never ended up making it in the league?</td>\n",
       "    </tr>\n",
       "    <tr>\n",
       "      <th>t3_du4gin</th>\n",
       "      <td>nba</td>\n",
       "      <td>[Highlight] Robert \"Timelord\" Williams with an insane block on a three, leads the break and gets a hockey assist for a Javonte Green slam!</td>\n",
       "    </tr>\n",
       "    <tr>\n",
       "      <th>t3_dv01bd</th>\n",
       "      <td>nba</td>\n",
       "      <td>Who are the best NBA players you would take Luka over?</td>\n",
       "    </tr>\n",
       "    <tr>\n",
       "      <th>t3_du94kt</th>\n",
       "      <td>nba</td>\n",
       "      <td>Jaylen Brown Full Highlights 2019.11.09 Celtics vs Spurs - 30 Pts, 7 Rebs, 3 Asts</td>\n",
       "    </tr>\n",
       "    <tr>\n",
       "      <th>t3_du66em</th>\n",
       "      <td>nba</td>\n",
       "      <td>[Post game thread] The Oklahoma City Thunder(4-5) Defeat the Golden State Warriors(2-8) by a score of 114-108</td>\n",
       "    </tr>\n",
       "    <tr>\n",
       "      <th>t3_dug1x6</th>\n",
       "      <td>nba</td>\n",
       "      <td>GAME THREAD: Denver Nuggets (6-2) @ Minnesota Timberwolves (5-3) - (November 10, 2019)</td>\n",
       "    </tr>\n",
       "    <tr>\n",
       "      <th>t3_du0daa</th>\n",
       "      <td>nba</td>\n",
       "      <td>[PelicansPR] Brandon Ingram becomes the second player in #NBA history to score over 200 points while shooting over .500 from the field and .400 from three-point range in their first eight games with a team, joining Kevin Durant, who did it with Golden State in 2016</td>\n",
       "    </tr>\n",
       "    <tr>\n",
       "      <th>t3_dv4gxo</th>\n",
       "      <td>nba</td>\n",
       "      <td>Clippers stole Kawhi and marketing material from the Raptors</td>\n",
       "    </tr>\n",
       "    <tr>\n",
       "      <th>t3_dufo4h</th>\n",
       "      <td>nba</td>\n",
       "      <td>Which rules from the Euroleague would you like NBA to implement?</td>\n",
       "    </tr>\n",
       "    <tr>\n",
       "      <th>t3_dui6lu</th>\n",
       "      <td>nba</td>\n",
       "      <td>GAME THREAD: Charlotte Hornets (4-5) @ Philadelphia 76ers (5-3) - (November 10, 2019)</td>\n",
       "    </tr>\n",
       "    <tr>\n",
       "      <th>t3_du2fcc</th>\n",
       "      <td>nba</td>\n",
       "      <td>Paul George on Kawhi Leonard - “Everything is true about his makeup. He works hard, he’s a great teammate, great locker room guy. He actually does talk and he’s a fun guy. The legend is true.”</td>\n",
       "    </tr>\n",
       "    <tr>\n",
       "      <th>t3_dudqan</th>\n",
       "      <td>nba</td>\n",
       "      <td>Veteran Taj Gibson Joins Kevin Knox and Mitchell Robinson for Delta Road Bites</td>\n",
       "    </tr>\n",
       "    <tr>\n",
       "      <th>t3_du3gb5</th>\n",
       "      <td>nba</td>\n",
       "      <td>[Highlight] Gordon Hayward leaves the game after taking a hit from LaMarcus Aldridge on the screen</td>\n",
       "    </tr>\n",
       "    <tr>\n",
       "      <th>t3_duuarb</th>\n",
       "      <td>nba</td>\n",
       "      <td>What happens if a rookie plays entire games with no rest?</td>\n",
       "    </tr>\n",
       "    <tr>\n",
       "      <th>t3_dv3ys3</th>\n",
       "      <td>nba</td>\n",
       "      <td>Anyone not a fan of Kawhi Leonard?</td>\n",
       "    </tr>\n",
       "    <tr>\n",
       "      <th>t3_dupepv</th>\n",
       "      <td>nba</td>\n",
       "      <td>If you are a fan of a playoff contender, would you trade your teams third best player for DeMar Derozan?</td>\n",
       "    </tr>\n",
       "    <tr>\n",
       "      <th>t3_dugu3r</th>\n",
       "      <td>nba</td>\n",
       "      <td>[Velasquez] Kyle Korver is listed as out for the Bucks tonight with a head contusion.</td>\n",
       "    </tr>\n",
       "    <tr>\n",
       "      <th>t3_du55i9</th>\n",
       "      <td>nba</td>\n",
       "      <td>[Highlight] Hamidou Diallo hammers it down over Chriss!</td>\n",
       "    </tr>\n",
       "    <tr>\n",
       "      <th>t3_du97u0</th>\n",
       "      <td>nba</td>\n",
       "      <td>Why did Kobe Bryant only take 3 shots in the 2nd half of 2006 WCQF game 7?</td>\n",
       "    </tr>\n",
       "    <tr>\n",
       "      <th>t3_dukezk</th>\n",
       "      <td>nba</td>\n",
       "      <td>Stats NBA.com endpoints not working?</td>\n",
       "    </tr>\n",
       "    <tr>\n",
       "      <th>t3_du69ug</th>\n",
       "      <td>nba</td>\n",
       "      <td>James Harden casually drops 42/10/9 on the Bulls.</td>\n",
       "    </tr>\n",
       "    <tr>\n",
       "      <th>t3_duc9f8</th>\n",
       "      <td>nba</td>\n",
       "      <td>Trae Young vs. De'Aaron Fox was asked a few times over the offseason. Has Trae shown enough for your opinion to change any?</td>\n",
       "    </tr>\n",
       "    <tr>\n",
       "      <th>t3_du6rrk</th>\n",
       "      <td>nba</td>\n",
       "      <td>Raptor players share memories of Kawhi ahead of LA reunion</td>\n",
       "    </tr>\n",
       "    <tr>\n",
       "      <th>t3_du66po</th>\n",
       "      <td>nba</td>\n",
       "      <td>[FreeDawkins] Luka Doncic Full Highlights 2019.11.09 Mavs vs Grizzlies - 24 Pts, 14 Rebs, 8 Asts</td>\n",
       "    </tr>\n",
       "    <tr>\n",
       "      <th>t3_du3uwt</th>\n",
       "      <td>nba</td>\n",
       "      <td>[Highlight] Robert \"Timelord\" Williams goes high and throws down the inbound alley oop from Smart</td>\n",
       "    </tr>\n",
       "    <tr>\n",
       "      <th>t3_dv1jae</th>\n",
       "      <td>nba</td>\n",
       "      <td>Can someone explain what PG has done to be regularly ranked ahead of Kyrie?</td>\n",
       "    </tr>\n",
       "    <tr>\n",
       "      <th>t3_du5uk6</th>\n",
       "      <td>nba</td>\n",
       "      <td>[Post Game Thread] The New Orleans Pelicans (2-7) defeat the Charlotte Hornets (4-5) 115-110 behind 25 points from Brandon Ingram.</td>\n",
       "    </tr>\n",
       "  </tbody>\n",
       "</table>\n",
       "<p>1667 rows × 2 columns</p>\n",
       "</div>"
      ],
      "text/plain": [
       "          subreddit  \\\n",
       "t3_dva38v       nfl   \n",
       "t3_dvfdhm       nfl   \n",
       "t3_dvhdmh       nfl   \n",
       "t3_dvi5xb       nfl   \n",
       "t3_dvhocr       nfl   \n",
       "t3_dvnxdw       nfl   \n",
       "t3_dvrvvy       nfl   \n",
       "t3_dvjqtm       nfl   \n",
       "t3_dvc1wv       nfl   \n",
       "t3_dvgzjt       nfl   \n",
       "t3_dvrgg3       nfl   \n",
       "t3_dvrucj       nfl   \n",
       "t3_dvhnsx       nfl   \n",
       "t3_dvlzov       nfl   \n",
       "t3_dveqwt       nfl   \n",
       "t3_dvhuuq       nfl   \n",
       "t3_dvkqtj       nfl   \n",
       "t3_dvi5zv       nfl   \n",
       "t3_dvdlih       nfl   \n",
       "t3_dvbafm       nfl   \n",
       "t3_dvp4ts       nfl   \n",
       "t3_dvqxs8       nfl   \n",
       "t3_dvc470       nfl   \n",
       "t3_dvdwrx       nfl   \n",
       "t3_dvoj92       nfl   \n",
       "t3_dvrt6a       nfl   \n",
       "t3_dvc8a3       nfl   \n",
       "t3_dvo64h       nfl   \n",
       "t3_dvr0ej       nfl   \n",
       "t3_dvlimi       nfl   \n",
       "...             ...   \n",
       "t3_du5td5       nba   \n",
       "t3_dv4t4t       nba   \n",
       "t3_dulb4g       nba   \n",
       "t3_dug9fz       nba   \n",
       "t3_du4gin       nba   \n",
       "t3_dv01bd       nba   \n",
       "t3_du94kt       nba   \n",
       "t3_du66em       nba   \n",
       "t3_dug1x6       nba   \n",
       "t3_du0daa       nba   \n",
       "t3_dv4gxo       nba   \n",
       "t3_dufo4h       nba   \n",
       "t3_dui6lu       nba   \n",
       "t3_du2fcc       nba   \n",
       "t3_dudqan       nba   \n",
       "t3_du3gb5       nba   \n",
       "t3_duuarb       nba   \n",
       "t3_dv3ys3       nba   \n",
       "t3_dupepv       nba   \n",
       "t3_dugu3r       nba   \n",
       "t3_du55i9       nba   \n",
       "t3_du97u0       nba   \n",
       "t3_dukezk       nba   \n",
       "t3_du69ug       nba   \n",
       "t3_duc9f8       nba   \n",
       "t3_du6rrk       nba   \n",
       "t3_du66po       nba   \n",
       "t3_du3uwt       nba   \n",
       "t3_dv1jae       nba   \n",
       "t3_du5uk6       nba   \n",
       "\n",
       "                                                                                                                                                                                                                                                                                                  title  \n",
       "t3_dva38v                                                                                                                                                                                                                                                               Official /r/NFL Sidebar contest  \n",
       "t3_dvfdhm                                                                                                                                                                                                                                                         Official Week 10 R/NFL Power Rankings  \n",
       "t3_dvhdmh  [Schefter] NFL clubs were informed today that a private workout will be held for Colin Kaepernick on Saturday in Atlanta. Session will include on-field work and an interview. All clubs are invited to attend, and video of both the workout and interview will be made available to clubs.  \n",
       "t3_dvi5xb                                                                                                                                                                                                     [Schefter] NFL has flexed the Week 12 Packers-49ers game to Sunday Night Football on NBC.  \n",
       "t3_dvhocr                                                                                                                                                                                                                                      Rapaport: Cam Newton would accept trade to Chicago Bears  \n",
       "t3_dvnxdw                                                                                                                                                                                                      [Josh Houtz] Andy Dalton says he was benched because they \"had to think about the draft\"  \n",
       "t3_dvrvvy                                                                                                                                                                                                 [Falcons] YEAH, YOUNGHOE! 👉 @YoungHoeKoo has been named NFC Special Teams Player of the Week!  \n",
       "t3_dvjqtm                                     [Colin K] I’m just getting word from my representatives that the NFL league office reached out to them about a workout in Atlanta on Saturday. I’ve been in shape and ready for this for 3 years, can’t wait to see the head coaches and GMs on Saturday.  \n",
       "t3_dvc1wv                                                                                                                                                                                                                                Seahawks drop in CBS power rankings after defeating 8-0 Niners  \n",
       "t3_dvgzjt                                                                                                                                                                                                                              5’6” Tarik Cohen complains about towels on the top shelf at 0:32  \n",
       "t3_dvrgg3                                                                                                                                                                                                                                                         The 2019 ESPN Playoff Machine is live  \n",
       "t3_dvrucj                                                                                                                                                                                                         [NFL] The AFC and NFC Offensive Players of the week are Lamar Jackson and Dalvin Cook  \n",
       "t3_dvhnsx                                                                                                                                                  [Siciliano] Geno Smith say, \"Do the math.\" : A coin toss is more likely to land on heads in OT if it lands on tails for the opening kickoff.  \n",
       "t3_dvlzov                                                                                                                                                                                                            [Keysor] On Derrick Henry’s touchdown run, the Chiefs only had 10 men on the field  \n",
       "t3_dveqwt                                                                                                                                                  In 2010, the Steelers final WR depth chart was Hines Ward, Antonio Brown, Mike Wallace, Emmanuel Sanders, Antwaan Randle El and Arnaz Battle  \n",
       "t3_dvhuuq          [Lombardi] Kyle Shanahan was very stern talking about the 49ers WRs today. Said point blank that passes off the hands should be caught. Then on Dante Pettis: “He’s had his opportunities. The more he doesn’t take advantage of his opportunities, the less opportunities he gets.\"  \n",
       "t3_dvkqtj                                                                                                                                     The Indianapolis Colts have won the AFC East more recently than the Buffalo Bills have. What are some other hard to believe yet true facts about the NFL?  \n",
       "t3_dvi5zv                                                                                                                                                                                                                                  Top 5 PFF edge rusher grades: Watt, Bosa, Graham, Watt, Bosa  \n",
       "t3_dvdlih                                                                                                       [Dunlap] I thought Sean McVay was reportedly going to change football forever. Keep in mind Mike Tomlin just beat him with: - a backup QB - a retooled offensive line - no running game  \n",
       "t3_dvbafm                                                                                                                                                                                                         [Schefter] Buccaneers released former first-round pick Vernon Hargreaves, per source.  \n",
       "t3_dvp4ts                                                                                                                                                                                                                      Ex-Bears coach John Fox wanted different QB in draft over Mitch Trubisky  \n",
       "t3_dvqxs8                                                                                                                                                                                                                             Which player or staff member are you surprised is still employed?  \n",
       "t3_dvc470                                                                                                              [Schefter] Seahawks’ WR Tyler Lockett spent the night in a Bay Area Hosptial with a lower leg injury that Seattle HC Pete Carroll said Is “a pretty severe situation right now.”  \n",
       "t3_dvdwrx                                                                                                                                                                                    [Jenkins] Jamaal Williams: \"I ain't gonna lie to you. Halfway through your question, I stopped listening.\"  \n",
       "t3_dvoj92                                                                                                                                                                On this day in 2005, Jon Gruden goes for 2 and the win rather than OT to cap off a wild 36-35 Tampa Bay win against Washington  \n",
       "t3_dvrt6a                                                                                                                                                                                                                                            Jamal Adams Named AFC Defensive Player of the Week  \n",
       "t3_dvc8a3                                                                                                                                                                                                                                   Just wanted to wish Al Michaels a happy 75th birthday today  \n",
       "t3_dvo64h                                                                                                                                                                          [Madson] Seattle's drives that didn't start with a 49ers turnover: 7 punts, 3 fumbles, 2 field goals, 1 interception  \n",
       "t3_dvr0ej                                                                                                                                                                                 [NFL Matchup on ESPN]Through Week 10 of the NFL, here are the top play-action QBs according to passer rating.  \n",
       "t3_dvlimi   [Silva] #Ravens OC Greg Roman deserves to be 2020’s No. 1 HC candidate: Longtime elite run-game designer, Tailors offense to fit personnel rather than forcing “mah scheme”, Overseen Kap, Tyrod, Lamar career years, Forward-thinking hire exposed to edges analytics provide in Baltimore  \n",
       "...                                                                                                                                                                                                                                                                                                 ...  \n",
       "t3_du5td5                                                                                                                                                                                                           [Highlight] DLo with the buzzer beater long three at the end of Q3 to tie the game!  \n",
       "t3_dv4t4t                                                                                                                                                                                                         Would you like to see fans storm the court after an upset like in college basketball?  \n",
       "t3_dulb4g                                                                                                                                                                                                                                                                 Are the Magic a playoff team?  \n",
       "t3_dug9fz                                                                                                                                                                                                 Who’s your favorite “Bottom of the Rotation” guy that never ended up making it in the league?  \n",
       "t3_du4gin                                                                                                                                                    [Highlight] Robert \"Timelord\" Williams with an insane block on a three, leads the break and gets a hockey assist for a Javonte Green slam!  \n",
       "t3_dv01bd                                                                                                                                                                                                                                        Who are the best NBA players you would take Luka over?  \n",
       "t3_du94kt                                                                                                                                                                                                             Jaylen Brown Full Highlights 2019.11.09 Celtics vs Spurs - 30 Pts, 7 Rebs, 3 Asts  \n",
       "t3_du66em                                                                                                                                                                                 [Post game thread] The Oklahoma City Thunder(4-5) Defeat the Golden State Warriors(2-8) by a score of 114-108  \n",
       "t3_dug1x6                                                                                                                                                                                                        GAME THREAD: Denver Nuggets (6-2) @ Minnesota Timberwolves (5-3) - (November 10, 2019)  \n",
       "t3_du0daa                     [PelicansPR] Brandon Ingram becomes the second player in #NBA history to score over 200 points while shooting over .500 from the field and .400 from three-point range in their first eight games with a team, joining Kevin Durant, who did it with Golden State in 2016  \n",
       "t3_dv4gxo                                                                                                                                                                                                                                  Clippers stole Kawhi and marketing material from the Raptors  \n",
       "t3_dufo4h                                                                                                                                                                                                                              Which rules from the Euroleague would you like NBA to implement?  \n",
       "t3_dui6lu                                                                                                                                                                                                         GAME THREAD: Charlotte Hornets (4-5) @ Philadelphia 76ers (5-3) - (November 10, 2019)  \n",
       "t3_du2fcc                                                                                              Paul George on Kawhi Leonard - “Everything is true about his makeup. He works hard, he’s a great teammate, great locker room guy. He actually does talk and he’s a fun guy. The legend is true.”  \n",
       "t3_dudqan                                                                                                                                                                                                                Veteran Taj Gibson Joins Kevin Knox and Mitchell Robinson for Delta Road Bites  \n",
       "t3_du3gb5                                                                                                                                                                                            [Highlight] Gordon Hayward leaves the game after taking a hit from LaMarcus Aldridge on the screen  \n",
       "t3_duuarb                                                                                                                                                                                                                                     What happens if a rookie plays entire games with no rest?  \n",
       "t3_dv3ys3                                                                                                                                                                                                                                                            Anyone not a fan of Kawhi Leonard?  \n",
       "t3_dupepv                                                                                                                                                                                      If you are a fan of a playoff contender, would you trade your teams third best player for DeMar Derozan?  \n",
       "t3_dugu3r                                                                                                                                                                                                         [Velasquez] Kyle Korver is listed as out for the Bucks tonight with a head contusion.  \n",
       "t3_du55i9                                                                                                                                                                                                                                       [Highlight] Hamidou Diallo hammers it down over Chriss!  \n",
       "t3_du97u0                                                                                                                                                                                                                    Why did Kobe Bryant only take 3 shots in the 2nd half of 2006 WCQF game 7?  \n",
       "t3_dukezk                                                                                                                                                                                                                                                          Stats NBA.com endpoints not working?  \n",
       "t3_du69ug                                                                                                                                                                                                                                             James Harden casually drops 42/10/9 on the Bulls.  \n",
       "t3_duc9f8                                                                                                                                                                   Trae Young vs. De'Aaron Fox was asked a few times over the offseason. Has Trae shown enough for your opinion to change any?  \n",
       "t3_du6rrk                                                                                                                                                                                                                                    Raptor players share memories of Kawhi ahead of LA reunion  \n",
       "t3_du66po                                                                                                                                                                                              [FreeDawkins] Luka Doncic Full Highlights 2019.11.09 Mavs vs Grizzlies - 24 Pts, 14 Rebs, 8 Asts  \n",
       "t3_du3uwt                                                                                                                                                                                             [Highlight] Robert \"Timelord\" Williams goes high and throws down the inbound alley oop from Smart  \n",
       "t3_dv1jae                                                                                                                                                                                                                   Can someone explain what PG has done to be regularly ranked ahead of Kyrie?  \n",
       "t3_du5uk6                                                                                                                                                            [Post Game Thread] The New Orleans Pelicans (2-7) defeat the Charlotte Hornets (4-5) 115-110 behind 25 points from Brandon Ingram.  \n",
       "\n",
       "[1667 rows x 2 columns]"
      ]
     },
     "execution_count": 16,
     "metadata": {},
     "output_type": "execute_result"
    }
   ],
   "source": [
    "train"
   ]
  },
  {
   "cell_type": "markdown",
   "metadata": {},
   "source": [
    "##### Tokenize (grab only word characters)"
   ]
  },
  {
   "cell_type": "code",
   "execution_count": 17,
   "metadata": {
    "ExecuteTime": {
     "end_time": "2019-11-13T14:47:39.091399Z",
     "start_time": "2019-11-13T14:47:39.089049Z"
    }
   },
   "outputs": [],
   "source": [
    "word_tokenizer = RegexpTokenizer(r'\\w+')"
   ]
  },
  {
   "cell_type": "code",
   "execution_count": 18,
   "metadata": {
    "ExecuteTime": {
     "end_time": "2019-11-13T14:47:39.788014Z",
     "start_time": "2019-11-13T14:47:39.768423Z"
    }
   },
   "outputs": [],
   "source": [
    "train['title'] = train['title'].map(lambda x: word_tokenizer.tokenize(x.lower()))"
   ]
  },
  {
   "cell_type": "code",
   "execution_count": 19,
   "metadata": {
    "ExecuteTime": {
     "end_time": "2019-11-13T14:47:40.549593Z",
     "start_time": "2019-11-13T14:47:40.544221Z"
    }
   },
   "outputs": [],
   "source": [
    "# rejoin list of tokenized words into single string for each row\n",
    "\n",
    "train['title'] = train['title'].map(lambda x: ' '.join(x))"
   ]
  },
  {
   "cell_type": "code",
   "execution_count": 20,
   "metadata": {
    "ExecuteTime": {
     "end_time": "2019-11-13T14:47:41.293073Z",
     "start_time": "2019-11-13T14:47:41.288238Z"
    }
   },
   "outputs": [
    {
     "data": {
      "text/plain": [
       "t3_dva38v                                                                                                                                                                                                                                                            official r nfl sidebar contest\n",
       "t3_dvfdhm                                                                                                                                                                                                                                                     official week 10 r nfl power rankings\n",
       "t3_dvhdmh    schefter nfl clubs were informed today that a private workout will be held for colin kaepernick on saturday in atlanta session will include on field work and an interview all clubs are invited to attend and video of both the workout and interview will be made available to clubs\n",
       "t3_dvi5xb                                                                                                                                                                                                    schefter nfl has flexed the week 12 packers 49ers game to sunday night football on nbc\n",
       "t3_dvhocr                                                                                                                                                                                                                                   rapaport cam newton would accept trade to chicago bears\n",
       "Name: title, dtype: object"
      ]
     },
     "execution_count": 20,
     "metadata": {},
     "output_type": "execute_result"
    }
   ],
   "source": [
    "train['title'][0:5]"
   ]
  },
  {
   "cell_type": "code",
   "execution_count": 21,
   "metadata": {
    "ExecuteTime": {
     "end_time": "2019-11-13T14:47:42.268815Z",
     "start_time": "2019-11-13T14:47:42.264237Z"
    }
   },
   "outputs": [
    {
     "data": {
      "text/plain": [
       "t3_dva38v                                                                                                                                                                                                                                                            official r nfl sidebar contest\n",
       "t3_dvfdhm                                                                                                                                                                                                                                                     official week 10 r nfl power rankings\n",
       "t3_dvhdmh    schefter nfl clubs were informed today that a private workout will be held for colin kaepernick on saturday in atlanta session will include on field work and an interview all clubs are invited to attend and video of both the workout and interview will be made available to clubs\n",
       "t3_dvi5xb                                                                                                                                                                                                    schefter nfl has flexed the week 12 packers 49ers game to sunday night football on nbc\n",
       "t3_dvhocr                                                                                                                                                                                                                                   rapaport cam newton would accept trade to chicago bears\n",
       "Name: title, dtype: object"
      ]
     },
     "execution_count": 21,
     "metadata": {},
     "output_type": "execute_result"
    }
   ],
   "source": [
    "train['title'][0:5]"
   ]
  },
  {
   "cell_type": "markdown",
   "metadata": {},
   "source": [
    "### Train test split and converting series to list of strings then to array"
   ]
  },
  {
   "cell_type": "code",
   "execution_count": 22,
   "metadata": {
    "ExecuteTime": {
     "end_time": "2019-11-13T14:47:56.907794Z",
     "start_time": "2019-11-13T14:47:56.903902Z"
    }
   },
   "outputs": [],
   "source": [
    "X = train[['title']]\n",
    "y = train['subreddit']"
   ]
  },
  {
   "cell_type": "code",
   "execution_count": 23,
   "metadata": {
    "ExecuteTime": {
     "end_time": "2019-11-13T14:47:57.706799Z",
     "start_time": "2019-11-13T14:47:57.696563Z"
    }
   },
   "outputs": [],
   "source": [
    "from sklearn.model_selection import train_test_split\n",
    "\n",
    "X_train, X_test, y_train, y_test = train_test_split(X,\n",
    "                                                    y,\n",
    "                                                    test_size=.25,\n",
    "                                                    random_state=42,\n",
    "                                                    stratify=y) #stratify takes the equal amount of each label"
   ]
  },
  {
   "cell_type": "code",
   "execution_count": 24,
   "metadata": {
    "ExecuteTime": {
     "end_time": "2019-11-13T14:47:58.485034Z",
     "start_time": "2019-11-13T14:47:58.465756Z"
    }
   },
   "outputs": [
    {
     "data": {
      "text/plain": [
       "nfl    0.535093\n",
       "nba    0.464907\n",
       "Name: subreddit, dtype: float64"
      ]
     },
     "execution_count": 24,
     "metadata": {},
     "output_type": "execute_result"
    }
   ],
   "source": [
    "# baseline is\n",
    "\n",
    "y.value_counts(normalize=True)"
   ]
  },
  {
   "cell_type": "code",
   "execution_count": 25,
   "metadata": {
    "ExecuteTime": {
     "end_time": "2019-11-13T14:47:59.475921Z",
     "start_time": "2019-11-13T14:47:59.472666Z"
    }
   },
   "outputs": [],
   "source": [
    "# create our training data list - this is a list of strings, with each string being a post title\n",
    "\n",
    "clean_train_data = []\n",
    "\n",
    "for traindata in X_train['title']:\n",
    "    clean_train_data.append(traindata)"
   ]
  },
  {
   "cell_type": "code",
   "execution_count": 26,
   "metadata": {
    "ExecuteTime": {
     "end_time": "2019-11-13T14:48:00.402446Z",
     "start_time": "2019-11-13T14:48:00.399376Z"
    }
   },
   "outputs": [
    {
     "data": {
      "text/plain": [
       "1250"
      ]
     },
     "execution_count": 26,
     "metadata": {},
     "output_type": "execute_result"
    }
   ],
   "source": [
    "len(clean_train_data)"
   ]
  },
  {
   "cell_type": "code",
   "execution_count": 27,
   "metadata": {
    "ExecuteTime": {
     "end_time": "2019-11-13T14:48:01.235873Z",
     "start_time": "2019-11-13T14:48:01.232864Z"
    }
   },
   "outputs": [],
   "source": [
    "# create test data list\n",
    "\n",
    "clean_test_data = []\n",
    "\n",
    "for testdata in X_test['title']:\n",
    "    clean_test_data.append(testdata)"
   ]
  },
  {
   "cell_type": "code",
   "execution_count": 28,
   "metadata": {
    "ExecuteTime": {
     "end_time": "2019-11-13T14:48:02.043563Z",
     "start_time": "2019-11-13T14:48:02.040254Z"
    }
   },
   "outputs": [
    {
     "data": {
      "text/plain": [
       "417"
      ]
     },
     "execution_count": 28,
     "metadata": {},
     "output_type": "execute_result"
    }
   ],
   "source": [
    "len(clean_test_data)"
   ]
  },
  {
   "cell_type": "markdown",
   "metadata": {},
   "source": [
    "### Count Vectorizer"
   ]
  },
  {
   "cell_type": "code",
   "execution_count": 29,
   "metadata": {
    "ExecuteTime": {
     "end_time": "2019-11-13T14:48:04.627539Z",
     "start_time": "2019-11-13T14:48:04.624523Z"
    }
   },
   "outputs": [],
   "source": [
    "# instantiate our CountVectorizer. This counts the number of appearances of all the words in our training data and\n",
    "# eliminates common english stop words. 5000 max features works well for our purposes (tested various numbers). Our\n",
    "# data is already preprocessed and tokenized manually earlier. ngram_range is 1,3, although all or nearly all our\n",
    "# features are single words\n",
    "\n",
    "vectorizer = CountVectorizer(analyzer=\"word\",\n",
    "                             tokenizer=None,\n",
    "                             preprocessor=None,\n",
    "                             stop_words='english',\n",
    "                             max_features=5000,\n",
    "                             ngram_range=(1, 3))"
   ]
  },
  {
   "cell_type": "code",
   "execution_count": 30,
   "metadata": {
    "ExecuteTime": {
     "end_time": "2019-11-13T14:48:05.640548Z",
     "start_time": "2019-11-13T14:48:05.488088Z"
    }
   },
   "outputs": [],
   "source": [
    "# fit our training data and test data lists to our count_vectorizer\n",
    "\n",
    "train_data_features = vectorizer.fit_transform(clean_train_data)\n",
    "\n",
    "test_data_features = vectorizer.transform(clean_test_data)"
   ]
  },
  {
   "cell_type": "code",
   "execution_count": 31,
   "metadata": {
    "ExecuteTime": {
     "end_time": "2019-11-13T14:48:06.103170Z",
     "start_time": "2019-11-13T14:48:06.088131Z"
    }
   },
   "outputs": [],
   "source": [
    "# convert sparse matrix (one row per observation) to array\n",
    "\n",
    "train_data_features = train_data_features.toarray()"
   ]
  },
  {
   "cell_type": "code",
   "execution_count": 32,
   "metadata": {
    "ExecuteTime": {
     "end_time": "2019-11-13T14:48:06.980408Z",
     "start_time": "2019-11-13T14:48:06.977096Z"
    }
   },
   "outputs": [
    {
     "data": {
      "text/plain": [
       "((1250, 5000), (417, 5000))"
      ]
     },
     "execution_count": 32,
     "metadata": {},
     "output_type": "execute_result"
    }
   ],
   "source": [
    "# check shapes\n",
    "\n",
    "train_data_features.shape, test_data_features.shape"
   ]
  },
  {
   "cell_type": "code",
   "execution_count": 89,
   "metadata": {
    "ExecuteTime": {
     "end_time": "2019-11-13T15:02:08.298426Z",
     "start_time": "2019-11-13T15:02:08.294963Z"
    }
   },
   "outputs": [
    {
     "data": {
      "text/plain": [
       "array([[0, 0, 0, ..., 0, 0, 0],\n",
       "       [0, 0, 0, ..., 0, 0, 0],\n",
       "       [0, 0, 0, ..., 0, 0, 0],\n",
       "       [0, 0, 0, ..., 0, 0, 0],\n",
       "       [0, 0, 0, ..., 0, 0, 0]])"
      ]
     },
     "execution_count": 89,
     "metadata": {},
     "output_type": "execute_result"
    }
   ],
   "source": [
    "train_data_features[:5]"
   ]
  },
  {
   "cell_type": "code",
   "execution_count": 33,
   "metadata": {
    "ExecuteTime": {
     "end_time": "2019-11-13T14:48:08.116167Z",
     "start_time": "2019-11-13T14:48:08.111011Z"
    },
    "scrolled": true
   },
   "outputs": [],
   "source": [
    "# I wanted check that the features corpus was as expected - removed print statement for readability\n",
    "\n",
    "vocab = vectorizer.get_feature_names()"
   ]
  },
  {
   "cell_type": "code",
   "execution_count": 34,
   "metadata": {
    "ExecuteTime": {
     "end_time": "2019-11-13T14:48:09.236435Z",
     "start_time": "2019-11-13T14:48:09.231681Z"
    },
    "scrolled": false
   },
   "outputs": [
    {
     "data": {
      "text/plain": [
       "['00',\n",
       " '000',\n",
       " '09',\n",
       " '10',\n",
       " '10 2019',\n",
       " '10 blazers',\n",
       " '10 blazers vs',\n",
       " '10 games',\n",
       " '10 games seahawks',\n",
       " '10 games season',\n",
       " '10 hawks',\n",
       " '10 hawks vs',\n",
       " '10 mnf',\n",
       " '10 nfl',\n",
       " '10 points',\n",
       " '10 straight',\n",
       " '10 sunday',\n",
       " '10 suns',\n",
       " '10 suns vs',\n",
       " '10 waived',\n",
       " '10 weeks',\n",
       " '10 year',\n",
       " '100',\n",
       " '100 possessions',\n",
       " '100 yard',\n",
       " '1000',\n",
       " '101',\n",
       " '102',\n",
       " '104',\n",
       " '104 year',\n",
       " '104 year old',\n",
       " '106',\n",
       " '108',\n",
       " '108 87',\n",
       " '109',\n",
       " '10th',\n",
       " '11',\n",
       " '11 10',\n",
       " '11 10 blazers',\n",
       " '11 10 hawks',\n",
       " '11 10 suns',\n",
       " '11 11',\n",
       " '11 11 mavs',\n",
       " '11 12',\n",
       " '11 12 heat',\n",
       " '11 2019',\n",
       " '11 asts',\n",
       " '11 mavs',\n",
       " '11 mavs vs',\n",
       " '11 rebs',\n",
       " '11 shooting',\n",
       " '11 signed',\n",
       " '110',\n",
       " '112',\n",
       " '113',\n",
       " '114',\n",
       " '115',\n",
       " '116',\n",
       " '117',\n",
       " '119',\n",
       " '12',\n",
       " '12 2019',\n",
       " '12 22',\n",
       " '12 heat',\n",
       " '12 heat vs',\n",
       " '12 points',\n",
       " '12 team',\n",
       " '120',\n",
       " '121',\n",
       " '122',\n",
       " '123',\n",
       " '125',\n",
       " '12th',\n",
       " '13',\n",
       " '13 2019',\n",
       " '13 points',\n",
       " '136',\n",
       " '138',\n",
       " '14',\n",
       " '15',\n",
       " '15 fga',\n",
       " '15 years',\n",
       " '150',\n",
       " '158',\n",
       " '158 rating',\n",
       " '16',\n",
       " '16 games',\n",
       " '16 points',\n",
       " '17',\n",
       " '173',\n",
       " '17th',\n",
       " '18',\n",
       " '19',\n",
       " '1950',\n",
       " '1972',\n",
       " '1972 dolphins',\n",
       " '1972 dolphins remain',\n",
       " '1983',\n",
       " '1984',\n",
       " '1988',\n",
       " '1st',\n",
       " '20',\n",
       " '20 pts',\n",
       " '20 td',\n",
       " '20 td int',\n",
       " '20 yards',\n",
       " '20 yards downfield',\n",
       " '200',\n",
       " '2001',\n",
       " '2006',\n",
       " '2007',\n",
       " '2009',\n",
       " '2011',\n",
       " '2012',\n",
       " '2013',\n",
       " '2014',\n",
       " '2014 cardinals',\n",
       " '2014 cardinals win',\n",
       " '2015',\n",
       " '2016',\n",
       " '2017',\n",
       " '2017 season',\n",
       " '2018',\n",
       " '2019',\n",
       " '2019 11',\n",
       " '2019 11 10',\n",
       " '2019 11 11',\n",
       " '2019 11 12',\n",
       " '2019 nfl',\n",
       " '2019 season',\n",
       " '202',\n",
       " '2020',\n",
       " '21',\n",
       " '21 days',\n",
       " '22',\n",
       " '23',\n",
       " '24',\n",
       " '24 targets',\n",
       " '25',\n",
       " '25 points',\n",
       " '25 points rebounds',\n",
       " '25 ppg',\n",
       " '250',\n",
       " '258',\n",
       " '258 rushing',\n",
       " '258 rushing yards',\n",
       " '26',\n",
       " '260',\n",
       " '260 413',\n",
       " '260 413 63',\n",
       " '27',\n",
       " '27 pts',\n",
       " '28',\n",
       " '29',\n",
       " '2m',\n",
       " '2nd',\n",
       " '2nd half',\n",
       " '2nd worst',\n",
       " '2nd worst shooting',\n",
       " '30',\n",
       " '30 points',\n",
       " '30 pts',\n",
       " '30 pts rebs',\n",
       " '300',\n",
       " '300 yard',\n",
       " '300 yard passing',\n",
       " '31',\n",
       " '31 points',\n",
       " '32',\n",
       " '33',\n",
       " '34',\n",
       " '34 pts',\n",
       " '34 pts asts',\n",
       " '35',\n",
       " '38',\n",
       " '39',\n",
       " '3p',\n",
       " '3pt',\n",
       " '3rd',\n",
       " '3rd game',\n",
       " '3rd quarter',\n",
       " '3rd round',\n",
       " '3rd round pick',\n",
       " '40',\n",
       " '400',\n",
       " '41',\n",
       " '413',\n",
       " '413 63',\n",
       " '42',\n",
       " '42 pts',\n",
       " '42 pts 11',\n",
       " '45',\n",
       " '47',\n",
       " '48',\n",
       " '49ers',\n",
       " '4th',\n",
       " '4th quarter',\n",
       " '50',\n",
       " '50 years',\n",
       " '500']"
      ]
     },
     "execution_count": 34,
     "metadata": {},
     "output_type": "execute_result"
    }
   ],
   "source": [
    "vocab[0:200]"
   ]
  },
  {
   "cell_type": "markdown",
   "metadata": {},
   "source": [
    "could also do stemming, limitizing, pull out stop words, could do more cleaning"
   ]
  },
  {
   "cell_type": "markdown",
   "metadata": {},
   "source": [
    "## MODELING"
   ]
  },
  {
   "cell_type": "markdown",
   "metadata": {},
   "source": [
    "### Logistic Regression"
   ]
  },
  {
   "cell_type": "code",
   "execution_count": 35,
   "metadata": {
    "ExecuteTime": {
     "end_time": "2019-11-13T14:48:16.467362Z",
     "start_time": "2019-11-13T14:48:16.465044Z"
    }
   },
   "outputs": [],
   "source": [
    "from sklearn.linear_model import LogisticRegression"
   ]
  },
  {
   "cell_type": "code",
   "execution_count": 36,
   "metadata": {
    "ExecuteTime": {
     "end_time": "2019-11-13T14:48:17.043622Z",
     "start_time": "2019-11-13T14:48:17.041419Z"
    }
   },
   "outputs": [],
   "source": [
    "# fit logistic regression model\n",
    "\n",
    "lr = LogisticRegression(penalty='l2')"
   ]
  },
  {
   "cell_type": "code",
   "execution_count": 37,
   "metadata": {
    "ExecuteTime": {
     "end_time": "2019-11-13T14:48:17.652927Z",
     "start_time": "2019-11-13T14:48:17.649406Z"
    }
   },
   "outputs": [
    {
     "data": {
      "text/plain": [
       "((1250, 5000), (1250,))"
      ]
     },
     "execution_count": 37,
     "metadata": {},
     "output_type": "execute_result"
    }
   ],
   "source": [
    "# shape check\n",
    "\n",
    "train_data_features.shape, y_train.shape"
   ]
  },
  {
   "cell_type": "code",
   "execution_count": 38,
   "metadata": {
    "ExecuteTime": {
     "end_time": "2019-11-13T14:48:19.073958Z",
     "start_time": "2019-11-13T14:48:19.001014Z"
    }
   },
   "outputs": [
    {
     "name": "stderr",
     "output_type": "stream",
     "text": [
      "//anaconda3/lib/python3.7/site-packages/sklearn/linear_model/logistic.py:432: FutureWarning: Default solver will be changed to 'lbfgs' in 0.22. Specify a solver to silence this warning.\n",
      "  FutureWarning)\n"
     ]
    },
    {
     "data": {
      "text/plain": [
       "LogisticRegression(C=1.0, class_weight=None, dual=False, fit_intercept=True,\n",
       "                   intercept_scaling=1, l1_ratio=None, max_iter=100,\n",
       "                   multi_class='warn', n_jobs=None, penalty='l2',\n",
       "                   random_state=None, solver='warn', tol=0.0001, verbose=0,\n",
       "                   warm_start=False)"
      ]
     },
     "execution_count": 38,
     "metadata": {},
     "output_type": "execute_result"
    }
   ],
   "source": [
    "lr.fit(train_data_features, y_train)"
   ]
  },
  {
   "cell_type": "code",
   "execution_count": 39,
   "metadata": {
    "ExecuteTime": {
     "end_time": "2019-11-13T14:48:19.946883Z",
     "start_time": "2019-11-13T14:48:19.917609Z"
    }
   },
   "outputs": [
    {
     "data": {
      "text/plain": [
       "0.9984"
      ]
     },
     "execution_count": 39,
     "metadata": {},
     "output_type": "execute_result"
    }
   ],
   "source": [
    "lr.score(train_data_features, y_train)"
   ]
  },
  {
   "cell_type": "code",
   "execution_count": 40,
   "metadata": {
    "ExecuteTime": {
     "end_time": "2019-11-13T14:48:21.165500Z",
     "start_time": "2019-11-13T14:48:21.158778Z"
    }
   },
   "outputs": [
    {
     "data": {
      "text/plain": [
       "0.9136690647482014"
      ]
     },
     "execution_count": 40,
     "metadata": {},
     "output_type": "execute_result"
    }
   ],
   "source": [
    "lr.score(test_data_features, y_test)"
   ]
  },
  {
   "cell_type": "markdown",
   "metadata": {},
   "source": [
    "### Feature comparison"
   ]
  },
  {
   "cell_type": "markdown",
   "metadata": {},
   "source": [
    "Creates a dataframe that matches features to coefficients"
   ]
  },
  {
   "cell_type": "code",
   "execution_count": 41,
   "metadata": {
    "ExecuteTime": {
     "end_time": "2019-11-13T14:48:26.337763Z",
     "start_time": "2019-11-13T14:48:26.335209Z"
    }
   },
   "outputs": [],
   "source": [
    "coef_list = lr.coef_.tolist()"
   ]
  },
  {
   "cell_type": "code",
   "execution_count": 42,
   "metadata": {
    "ExecuteTime": {
     "end_time": "2019-11-13T14:48:27.786842Z",
     "start_time": "2019-11-13T14:48:27.784399Z"
    }
   },
   "outputs": [],
   "source": [
    "coef_list = coef_list[0]"
   ]
  },
  {
   "cell_type": "code",
   "execution_count": 43,
   "metadata": {
    "ExecuteTime": {
     "end_time": "2019-11-13T14:48:28.589948Z",
     "start_time": "2019-11-13T14:48:28.582849Z"
    }
   },
   "outputs": [],
   "source": [
    "coef_df = pd.DataFrame({'features': vectorizer.get_feature_names(),\n",
    "                        'coefs': coef_list})"
   ]
  },
  {
   "cell_type": "code",
   "execution_count": 44,
   "metadata": {
    "ExecuteTime": {
     "end_time": "2019-11-13T14:48:29.629109Z",
     "start_time": "2019-11-13T14:48:29.615807Z"
    },
    "scrolled": true
   },
   "outputs": [
    {
     "data": {
      "text/html": [
       "<div>\n",
       "<style scoped>\n",
       "    .dataframe tbody tr th:only-of-type {\n",
       "        vertical-align: middle;\n",
       "    }\n",
       "\n",
       "    .dataframe tbody tr th {\n",
       "        vertical-align: top;\n",
       "    }\n",
       "\n",
       "    .dataframe thead th {\n",
       "        text-align: right;\n",
       "    }\n",
       "</style>\n",
       "<table border=\"1\" class=\"dataframe\">\n",
       "  <thead>\n",
       "    <tr style=\"text-align: right;\">\n",
       "      <th></th>\n",
       "      <th>features</th>\n",
       "      <th>coefs</th>\n",
       "    </tr>\n",
       "  </thead>\n",
       "  <tbody>\n",
       "    <tr>\n",
       "      <th>1823</th>\n",
       "      <td>nba</td>\n",
       "      <td>-2.383849</td>\n",
       "    </tr>\n",
       "    <tr>\n",
       "      <th>1514</th>\n",
       "      <td>knicks</td>\n",
       "      <td>-1.384745</td>\n",
       "    </tr>\n",
       "    <tr>\n",
       "      <th>4334</th>\n",
       "      <td>tonight</td>\n",
       "      <td>-1.341233</td>\n",
       "    </tr>\n",
       "    <tr>\n",
       "      <th>3341</th>\n",
       "      <td>raptors</td>\n",
       "      <td>-1.295483</td>\n",
       "    </tr>\n",
       "    <tr>\n",
       "      <th>1570</th>\n",
       "      <td>lebron</td>\n",
       "      <td>-1.154119</td>\n",
       "    </tr>\n",
       "    <tr>\n",
       "      <th>1482</th>\n",
       "      <td>kawhi</td>\n",
       "      <td>-1.104883</td>\n",
       "    </tr>\n",
       "    <tr>\n",
       "      <th>4142</th>\n",
       "      <td>suns</td>\n",
       "      <td>-0.947967</td>\n",
       "    </tr>\n",
       "    <tr>\n",
       "      <th>1535</th>\n",
       "      <td>lakers</td>\n",
       "      <td>-0.945168</td>\n",
       "    </tr>\n",
       "    <tr>\n",
       "      <th>391</th>\n",
       "      <td>basketball</td>\n",
       "      <td>-0.914138</td>\n",
       "    </tr>\n",
       "    <tr>\n",
       "      <th>635</th>\n",
       "      <td>clippers</td>\n",
       "      <td>-0.911033</td>\n",
       "    </tr>\n",
       "    <tr>\n",
       "      <th>4647</th>\n",
       "      <td>wiggins</td>\n",
       "      <td>-0.861239</td>\n",
       "    </tr>\n",
       "    <tr>\n",
       "      <th>1531</th>\n",
       "      <td>kyrie</td>\n",
       "      <td>-0.852775</td>\n",
       "    </tr>\n",
       "    <tr>\n",
       "      <th>3994</th>\n",
       "      <td>shooting</td>\n",
       "      <td>-0.840831</td>\n",
       "    </tr>\n",
       "    <tr>\n",
       "      <th>1257</th>\n",
       "      <td>heat</td>\n",
       "      <td>-0.840107</td>\n",
       "    </tr>\n",
       "    <tr>\n",
       "      <th>4332</th>\n",
       "      <td>tomorrow</td>\n",
       "      <td>-0.838163</td>\n",
       "    </tr>\n",
       "    <tr>\n",
       "      <th>4481</th>\n",
       "      <td>warriors</td>\n",
       "      <td>-0.832740</td>\n",
       "    </tr>\n",
       "    <tr>\n",
       "      <th>4078</th>\n",
       "      <td>standings</td>\n",
       "      <td>-0.819252</td>\n",
       "    </tr>\n",
       "    <tr>\n",
       "      <th>570</th>\n",
       "      <td>celtics</td>\n",
       "      <td>-0.800502</td>\n",
       "    </tr>\n",
       "    <tr>\n",
       "      <th>4109</th>\n",
       "      <td>steph</td>\n",
       "      <td>-0.758891</td>\n",
       "    </tr>\n",
       "    <tr>\n",
       "      <th>2701</th>\n",
       "      <td>players</td>\n",
       "      <td>-0.752384</td>\n",
       "    </tr>\n",
       "    <tr>\n",
       "      <th>1677</th>\n",
       "      <td>magic</td>\n",
       "      <td>-0.721546</td>\n",
       "    </tr>\n",
       "    <tr>\n",
       "      <th>458</th>\n",
       "      <td>boucher</td>\n",
       "      <td>-0.714567</td>\n",
       "    </tr>\n",
       "    <tr>\n",
       "      <th>4363</th>\n",
       "      <td>trae</td>\n",
       "      <td>-0.713137</td>\n",
       "    </tr>\n",
       "    <tr>\n",
       "      <th>3835</th>\n",
       "      <td>rockets</td>\n",
       "      <td>-0.695637</td>\n",
       "    </tr>\n",
       "    <tr>\n",
       "      <th>789</th>\n",
       "      <td>defeat</td>\n",
       "      <td>-0.690334</td>\n",
       "    </tr>\n",
       "    <tr>\n",
       "      <th>1504</th>\n",
       "      <td>kings</td>\n",
       "      <td>-0.671285</td>\n",
       "    </tr>\n",
       "    <tr>\n",
       "      <th>728</th>\n",
       "      <td>curry</td>\n",
       "      <td>-0.659486</td>\n",
       "    </tr>\n",
       "    <tr>\n",
       "      <th>1265</th>\n",
       "      <td>hell</td>\n",
       "      <td>-0.652937</td>\n",
       "    </tr>\n",
       "    <tr>\n",
       "      <th>1668</th>\n",
       "      <td>luka</td>\n",
       "      <td>-0.644287</td>\n",
       "    </tr>\n",
       "    <tr>\n",
       "      <th>315</th>\n",
       "      <td>ankle</td>\n",
       "      <td>-0.643064</td>\n",
       "    </tr>\n",
       "    <tr>\n",
       "      <th>...</th>\n",
       "      <td>...</td>\n",
       "      <td>...</td>\n",
       "    </tr>\n",
       "    <tr>\n",
       "      <th>4702</th>\n",
       "      <td>win</td>\n",
       "      <td>0.796381</td>\n",
       "    </tr>\n",
       "    <tr>\n",
       "      <th>1952</th>\n",
       "      <td>packers</td>\n",
       "      <td>0.816403</td>\n",
       "    </tr>\n",
       "    <tr>\n",
       "      <th>1438</th>\n",
       "      <td>jets</td>\n",
       "      <td>0.822434</td>\n",
       "    </tr>\n",
       "    <tr>\n",
       "      <th>1966</th>\n",
       "      <td>pass</td>\n",
       "      <td>0.826903</td>\n",
       "    </tr>\n",
       "    <tr>\n",
       "      <th>1850</th>\n",
       "      <td>nfc</td>\n",
       "      <td>0.830084</td>\n",
       "    </tr>\n",
       "    <tr>\n",
       "      <th>273</th>\n",
       "      <td>afc</td>\n",
       "      <td>0.833310</td>\n",
       "    </tr>\n",
       "    <tr>\n",
       "      <th>4527</th>\n",
       "      <td>week 10</td>\n",
       "      <td>0.839064</td>\n",
       "    </tr>\n",
       "    <tr>\n",
       "      <th>1393</th>\n",
       "      <td>jackson</td>\n",
       "      <td>0.868723</td>\n",
       "    </tr>\n",
       "    <tr>\n",
       "      <th>4350</th>\n",
       "      <td>touchdown</td>\n",
       "      <td>0.874923</td>\n",
       "    </tr>\n",
       "    <tr>\n",
       "      <th>3182</th>\n",
       "      <td>rams</td>\n",
       "      <td>0.893292</td>\n",
       "    </tr>\n",
       "    <tr>\n",
       "      <th>4973</th>\n",
       "      <td>yates</td>\n",
       "      <td>0.894427</td>\n",
       "    </tr>\n",
       "    <tr>\n",
       "      <th>262</th>\n",
       "      <td>adam</td>\n",
       "      <td>0.896611</td>\n",
       "    </tr>\n",
       "    <tr>\n",
       "      <th>980</th>\n",
       "      <td>falcons</td>\n",
       "      <td>0.901418</td>\n",
       "    </tr>\n",
       "    <tr>\n",
       "      <th>500</th>\n",
       "      <td>browns</td>\n",
       "      <td>0.929223</td>\n",
       "    </tr>\n",
       "    <tr>\n",
       "      <th>852</th>\n",
       "      <td>dolphins</td>\n",
       "      <td>0.938297</td>\n",
       "    </tr>\n",
       "    <tr>\n",
       "      <th>412</th>\n",
       "      <td>bengals</td>\n",
       "      <td>0.961501</td>\n",
       "    </tr>\n",
       "    <tr>\n",
       "      <th>4669</th>\n",
       "      <td>wilson</td>\n",
       "      <td>0.962835</td>\n",
       "    </tr>\n",
       "    <tr>\n",
       "      <th>395</th>\n",
       "      <td>bears</td>\n",
       "      <td>0.965289</td>\n",
       "    </tr>\n",
       "    <tr>\n",
       "      <th>4451</th>\n",
       "      <td>vikings</td>\n",
       "      <td>1.057027</td>\n",
       "    </tr>\n",
       "    <tr>\n",
       "      <th>3935</th>\n",
       "      <td>seahawks</td>\n",
       "      <td>1.144566</td>\n",
       "    </tr>\n",
       "    <tr>\n",
       "      <th>598</th>\n",
       "      <td>chiefs</td>\n",
       "      <td>1.170077</td>\n",
       "    </tr>\n",
       "    <tr>\n",
       "      <th>3436</th>\n",
       "      <td>ravens</td>\n",
       "      <td>1.224252</td>\n",
       "    </tr>\n",
       "    <tr>\n",
       "      <th>1146</th>\n",
       "      <td>giants</td>\n",
       "      <td>1.225584</td>\n",
       "    </tr>\n",
       "    <tr>\n",
       "      <th>4179</th>\n",
       "      <td>td</td>\n",
       "      <td>1.225807</td>\n",
       "    </tr>\n",
       "    <tr>\n",
       "      <th>3143</th>\n",
       "      <td>qb</td>\n",
       "      <td>1.240437</td>\n",
       "    </tr>\n",
       "    <tr>\n",
       "      <th>4953</th>\n",
       "      <td>yards</td>\n",
       "      <td>1.309913</td>\n",
       "    </tr>\n",
       "    <tr>\n",
       "      <th>4104</th>\n",
       "      <td>steelers</td>\n",
       "      <td>1.332431</td>\n",
       "    </tr>\n",
       "    <tr>\n",
       "      <th>4526</th>\n",
       "      <td>week</td>\n",
       "      <td>1.369938</td>\n",
       "    </tr>\n",
       "    <tr>\n",
       "      <th>194</th>\n",
       "      <td>49ers</td>\n",
       "      <td>1.444109</td>\n",
       "    </tr>\n",
       "    <tr>\n",
       "      <th>1852</th>\n",
       "      <td>nfl</td>\n",
       "      <td>2.385135</td>\n",
       "    </tr>\n",
       "  </tbody>\n",
       "</table>\n",
       "<p>5000 rows × 2 columns</p>\n",
       "</div>"
      ],
      "text/plain": [
       "        features     coefs\n",
       "1823         nba -2.383849\n",
       "1514      knicks -1.384745\n",
       "4334     tonight -1.341233\n",
       "3341     raptors -1.295483\n",
       "1570      lebron -1.154119\n",
       "1482       kawhi -1.104883\n",
       "4142        suns -0.947967\n",
       "1535      lakers -0.945168\n",
       "391   basketball -0.914138\n",
       "635     clippers -0.911033\n",
       "4647     wiggins -0.861239\n",
       "1531       kyrie -0.852775\n",
       "3994    shooting -0.840831\n",
       "1257        heat -0.840107\n",
       "4332    tomorrow -0.838163\n",
       "4481    warriors -0.832740\n",
       "4078   standings -0.819252\n",
       "570      celtics -0.800502\n",
       "4109       steph -0.758891\n",
       "2701     players -0.752384\n",
       "1677       magic -0.721546\n",
       "458      boucher -0.714567\n",
       "4363        trae -0.713137\n",
       "3835     rockets -0.695637\n",
       "789       defeat -0.690334\n",
       "1504       kings -0.671285\n",
       "728        curry -0.659486\n",
       "1265        hell -0.652937\n",
       "1668        luka -0.644287\n",
       "315        ankle -0.643064\n",
       "...          ...       ...\n",
       "4702         win  0.796381\n",
       "1952     packers  0.816403\n",
       "1438        jets  0.822434\n",
       "1966        pass  0.826903\n",
       "1850         nfc  0.830084\n",
       "273          afc  0.833310\n",
       "4527     week 10  0.839064\n",
       "1393     jackson  0.868723\n",
       "4350   touchdown  0.874923\n",
       "3182        rams  0.893292\n",
       "4973       yates  0.894427\n",
       "262         adam  0.896611\n",
       "980      falcons  0.901418\n",
       "500       browns  0.929223\n",
       "852     dolphins  0.938297\n",
       "412      bengals  0.961501\n",
       "4669      wilson  0.962835\n",
       "395        bears  0.965289\n",
       "4451     vikings  1.057027\n",
       "3935    seahawks  1.144566\n",
       "598       chiefs  1.170077\n",
       "3436      ravens  1.224252\n",
       "1146      giants  1.225584\n",
       "4179          td  1.225807\n",
       "3143          qb  1.240437\n",
       "4953       yards  1.309913\n",
       "4104    steelers  1.332431\n",
       "4526        week  1.369938\n",
       "194        49ers  1.444109\n",
       "1852         nfl  2.385135\n",
       "\n",
       "[5000 rows x 2 columns]"
      ]
     },
     "execution_count": 44,
     "metadata": {},
     "output_type": "execute_result"
    }
   ],
   "source": [
    "coef_df.sort_values(by = ['coefs'])"
   ]
  },
  {
   "cell_type": "markdown",
   "metadata": {},
   "source": [
    "### Let's throw out these unfair words and rerun"
   ]
  },
  {
   "cell_type": "code",
   "execution_count": 45,
   "metadata": {
    "ExecuteTime": {
     "end_time": "2019-11-13T14:48:36.823966Z",
     "start_time": "2019-11-13T14:48:36.817464Z"
    }
   },
   "outputs": [],
   "source": [
    "stopwords = set(stopwords.words('english'))\n",
    "\n",
    "extra_stopwords = ['nba', 'basketball', 'football', 'nfl']\n",
    "\n",
    "stopwords.update(extra_stopwords)"
   ]
  },
  {
   "cell_type": "code",
   "execution_count": 46,
   "metadata": {
    "ExecuteTime": {
     "end_time": "2019-11-13T14:48:38.808549Z",
     "start_time": "2019-11-13T14:48:38.688215Z"
    }
   },
   "outputs": [
    {
     "data": {
      "text/plain": [
       "((1250, 5000), (417, 5000))"
      ]
     },
     "execution_count": 46,
     "metadata": {},
     "output_type": "execute_result"
    }
   ],
   "source": [
    "vectorizer = CountVectorizer(analyzer = \"word\",\n",
    "                             tokenizer = None,\n",
    "                             preprocessor = None,\n",
    "                             stop_words = stopwords,\n",
    "                             max_features = 5000,\n",
    "                             ngram_range = (1, 3))\n",
    "\n",
    "train_data_features = vectorizer.fit_transform(clean_train_data)\n",
    "\n",
    "test_data_features = vectorizer.transform(clean_test_data)\n",
    "\n",
    "train_data_features = train_data_features.toarray()\n",
    "\n",
    "train_data_features.shape, test_data_features.shape"
   ]
  },
  {
   "cell_type": "code",
   "execution_count": 47,
   "metadata": {
    "ExecuteTime": {
     "end_time": "2019-11-13T14:48:40.863778Z",
     "start_time": "2019-11-13T14:48:40.816283Z"
    }
   },
   "outputs": [
    {
     "name": "stderr",
     "output_type": "stream",
     "text": [
      "//anaconda3/lib/python3.7/site-packages/sklearn/linear_model/logistic.py:432: FutureWarning: Default solver will be changed to 'lbfgs' in 0.22. Specify a solver to silence this warning.\n",
      "  FutureWarning)\n"
     ]
    },
    {
     "data": {
      "text/plain": [
       "LogisticRegression(C=1.0, class_weight=None, dual=False, fit_intercept=True,\n",
       "                   intercept_scaling=1, l1_ratio=None, max_iter=100,\n",
       "                   multi_class='warn', n_jobs=None, penalty='l2',\n",
       "                   random_state=None, solver='warn', tol=0.0001, verbose=0,\n",
       "                   warm_start=False)"
      ]
     },
     "execution_count": 47,
     "metadata": {},
     "output_type": "execute_result"
    }
   ],
   "source": [
    "lr.fit(train_data_features, y_train)"
   ]
  },
  {
   "cell_type": "code",
   "execution_count": 48,
   "metadata": {
    "ExecuteTime": {
     "end_time": "2019-11-13T14:48:42.029374Z",
     "start_time": "2019-11-13T14:48:42.007799Z"
    }
   },
   "outputs": [
    {
     "data": {
      "text/plain": [
       "0.9968"
      ]
     },
     "execution_count": 48,
     "metadata": {},
     "output_type": "execute_result"
    }
   ],
   "source": [
    "lr.score(train_data_features, y_train)"
   ]
  },
  {
   "cell_type": "code",
   "execution_count": 49,
   "metadata": {
    "ExecuteTime": {
     "end_time": "2019-11-13T14:48:43.069424Z",
     "start_time": "2019-11-13T14:48:43.064444Z"
    }
   },
   "outputs": [
    {
     "data": {
      "text/plain": [
       "0.9112709832134293"
      ]
     },
     "execution_count": 49,
     "metadata": {},
     "output_type": "execute_result"
    }
   ],
   "source": [
    "lr.score(test_data_features, y_test)"
   ]
  },
  {
   "cell_type": "code",
   "execution_count": 50,
   "metadata": {
    "ExecuteTime": {
     "end_time": "2019-11-13T14:48:44.482786Z",
     "start_time": "2019-11-13T14:48:44.464385Z"
    },
    "scrolled": true
   },
   "outputs": [
    {
     "data": {
      "text/html": [
       "<div>\n",
       "<style scoped>\n",
       "    .dataframe tbody tr th:only-of-type {\n",
       "        vertical-align: middle;\n",
       "    }\n",
       "\n",
       "    .dataframe tbody tr th {\n",
       "        vertical-align: top;\n",
       "    }\n",
       "\n",
       "    .dataframe thead th {\n",
       "        text-align: right;\n",
       "    }\n",
       "</style>\n",
       "<table border=\"1\" class=\"dataframe\">\n",
       "  <thead>\n",
       "    <tr style=\"text-align: right;\">\n",
       "      <th></th>\n",
       "      <th>features</th>\n",
       "      <th>coefs</th>\n",
       "    </tr>\n",
       "  </thead>\n",
       "  <tbody>\n",
       "    <tr>\n",
       "      <th>1585</th>\n",
       "      <td>knicks</td>\n",
       "      <td>-1.380130</td>\n",
       "    </tr>\n",
       "    <tr>\n",
       "      <th>3342</th>\n",
       "      <td>raptors</td>\n",
       "      <td>-1.358685</td>\n",
       "    </tr>\n",
       "    <tr>\n",
       "      <th>4325</th>\n",
       "      <td>tonight</td>\n",
       "      <td>-1.181148</td>\n",
       "    </tr>\n",
       "    <tr>\n",
       "      <th>1552</th>\n",
       "      <td>kawhi</td>\n",
       "      <td>-1.107103</td>\n",
       "    </tr>\n",
       "    <tr>\n",
       "      <th>1655</th>\n",
       "      <td>lebron</td>\n",
       "      <td>-1.040217</td>\n",
       "    </tr>\n",
       "    <tr>\n",
       "      <th>1606</th>\n",
       "      <td>lakers</td>\n",
       "      <td>-1.017407</td>\n",
       "    </tr>\n",
       "    <tr>\n",
       "      <th>4128</th>\n",
       "      <td>suns</td>\n",
       "      <td>-0.922338</td>\n",
       "    </tr>\n",
       "    <tr>\n",
       "      <th>1602</th>\n",
       "      <td>kyrie</td>\n",
       "      <td>-0.919873</td>\n",
       "    </tr>\n",
       "    <tr>\n",
       "      <th>655</th>\n",
       "      <td>clippers</td>\n",
       "      <td>-0.915033</td>\n",
       "    </tr>\n",
       "    <tr>\n",
       "      <th>590</th>\n",
       "      <td>celtics</td>\n",
       "      <td>-0.852854</td>\n",
       "    </tr>\n",
       "    <tr>\n",
       "      <th>1325</th>\n",
       "      <td>heat</td>\n",
       "      <td>-0.837985</td>\n",
       "    </tr>\n",
       "    <tr>\n",
       "      <th>4615</th>\n",
       "      <td>wiggins</td>\n",
       "      <td>-0.836937</td>\n",
       "    </tr>\n",
       "    <tr>\n",
       "      <th>3965</th>\n",
       "      <td>shooting</td>\n",
       "      <td>-0.819899</td>\n",
       "    </tr>\n",
       "    <tr>\n",
       "      <th>4323</th>\n",
       "      <td>tomorrow</td>\n",
       "      <td>-0.815295</td>\n",
       "    </tr>\n",
       "    <tr>\n",
       "      <th>432</th>\n",
       "      <td>best</td>\n",
       "      <td>-0.790431</td>\n",
       "    </tr>\n",
       "    <tr>\n",
       "      <th>4061</th>\n",
       "      <td>standings</td>\n",
       "      <td>-0.789408</td>\n",
       "    </tr>\n",
       "    <tr>\n",
       "      <th>4479</th>\n",
       "      <td>warriors</td>\n",
       "      <td>-0.788092</td>\n",
       "    </tr>\n",
       "    <tr>\n",
       "      <th>3800</th>\n",
       "      <td>rockets</td>\n",
       "      <td>-0.769363</td>\n",
       "    </tr>\n",
       "    <tr>\n",
       "      <th>2693</th>\n",
       "      <td>players</td>\n",
       "      <td>-0.754065</td>\n",
       "    </tr>\n",
       "    <tr>\n",
       "      <th>4095</th>\n",
       "      <td>stephen</td>\n",
       "      <td>-0.734748</td>\n",
       "    </tr>\n",
       "    <tr>\n",
       "      <th>4356</th>\n",
       "      <td>trae</td>\n",
       "      <td>-0.723040</td>\n",
       "    </tr>\n",
       "    <tr>\n",
       "      <th>1761</th>\n",
       "      <td>magic</td>\n",
       "      <td>-0.713835</td>\n",
       "    </tr>\n",
       "    <tr>\n",
       "      <th>1751</th>\n",
       "      <td>luka</td>\n",
       "      <td>-0.700755</td>\n",
       "    </tr>\n",
       "    <tr>\n",
       "      <th>816</th>\n",
       "      <td>defeat</td>\n",
       "      <td>-0.690686</td>\n",
       "    </tr>\n",
       "    <tr>\n",
       "      <th>475</th>\n",
       "      <td>boucher</td>\n",
       "      <td>-0.674514</td>\n",
       "    </tr>\n",
       "    <tr>\n",
       "      <th>4092</th>\n",
       "      <td>steph</td>\n",
       "      <td>-0.669743</td>\n",
       "    </tr>\n",
       "    <tr>\n",
       "      <th>4279</th>\n",
       "      <td>three</td>\n",
       "      <td>-0.646407</td>\n",
       "    </tr>\n",
       "    <tr>\n",
       "      <th>319</th>\n",
       "      <td>ankle</td>\n",
       "      <td>-0.641633</td>\n",
       "    </tr>\n",
       "    <tr>\n",
       "      <th>883</th>\n",
       "      <td>doncic</td>\n",
       "      <td>-0.631908</td>\n",
       "    </tr>\n",
       "    <tr>\n",
       "      <th>1232</th>\n",
       "      <td>gobert</td>\n",
       "      <td>-0.628672</td>\n",
       "    </tr>\n",
       "    <tr>\n",
       "      <th>...</th>\n",
       "      <td>...</td>\n",
       "      <td>...</td>\n",
       "    </tr>\n",
       "    <tr>\n",
       "      <th>3304</th>\n",
       "      <td>qbs</td>\n",
       "      <td>0.787700</td>\n",
       "    </tr>\n",
       "    <tr>\n",
       "      <th>1946</th>\n",
       "      <td>nfc</td>\n",
       "      <td>0.805414</td>\n",
       "    </tr>\n",
       "    <tr>\n",
       "      <th>4124</th>\n",
       "      <td>sunday</td>\n",
       "      <td>0.812041</td>\n",
       "    </tr>\n",
       "    <tr>\n",
       "      <th>1510</th>\n",
       "      <td>jets</td>\n",
       "      <td>0.846684</td>\n",
       "    </tr>\n",
       "    <tr>\n",
       "      <th>4971</th>\n",
       "      <td>yates</td>\n",
       "      <td>0.867641</td>\n",
       "    </tr>\n",
       "    <tr>\n",
       "      <th>2087</th>\n",
       "      <td>patriots</td>\n",
       "      <td>0.869207</td>\n",
       "    </tr>\n",
       "    <tr>\n",
       "      <th>3867</th>\n",
       "      <td>saints</td>\n",
       "      <td>0.870453</td>\n",
       "    </tr>\n",
       "    <tr>\n",
       "      <th>1464</th>\n",
       "      <td>jackson</td>\n",
       "      <td>0.876538</td>\n",
       "    </tr>\n",
       "    <tr>\n",
       "      <th>2064</th>\n",
       "      <td>pass</td>\n",
       "      <td>0.884494</td>\n",
       "    </tr>\n",
       "    <tr>\n",
       "      <th>3329</th>\n",
       "      <td>rams</td>\n",
       "      <td>0.892749</td>\n",
       "    </tr>\n",
       "    <tr>\n",
       "      <th>4342</th>\n",
       "      <td>touchdown</td>\n",
       "      <td>0.896536</td>\n",
       "    </tr>\n",
       "    <tr>\n",
       "      <th>517</th>\n",
       "      <td>browns</td>\n",
       "      <td>0.907230</td>\n",
       "    </tr>\n",
       "    <tr>\n",
       "      <th>261</th>\n",
       "      <td>adam</td>\n",
       "      <td>0.924217</td>\n",
       "    </tr>\n",
       "    <tr>\n",
       "      <th>4492</th>\n",
       "      <td>week 10</td>\n",
       "      <td>0.958793</td>\n",
       "    </tr>\n",
       "    <tr>\n",
       "      <th>428</th>\n",
       "      <td>bengals</td>\n",
       "      <td>0.959206</td>\n",
       "    </tr>\n",
       "    <tr>\n",
       "      <th>406</th>\n",
       "      <td>bears</td>\n",
       "      <td>0.960658</td>\n",
       "    </tr>\n",
       "    <tr>\n",
       "      <th>1016</th>\n",
       "      <td>falcons</td>\n",
       "      <td>0.963667</td>\n",
       "    </tr>\n",
       "    <tr>\n",
       "      <th>4635</th>\n",
       "      <td>wilson</td>\n",
       "      <td>0.973541</td>\n",
       "    </tr>\n",
       "    <tr>\n",
       "      <th>4449</th>\n",
       "      <td>vikings</td>\n",
       "      <td>1.030040</td>\n",
       "    </tr>\n",
       "    <tr>\n",
       "      <th>876</th>\n",
       "      <td>dolphins</td>\n",
       "      <td>1.076661</td>\n",
       "    </tr>\n",
       "    <tr>\n",
       "      <th>3902</th>\n",
       "      <td>seahawks</td>\n",
       "      <td>1.129144</td>\n",
       "    </tr>\n",
       "    <tr>\n",
       "      <th>618</th>\n",
       "      <td>chiefs</td>\n",
       "      <td>1.187715</td>\n",
       "    </tr>\n",
       "    <tr>\n",
       "      <th>4167</th>\n",
       "      <td>td</td>\n",
       "      <td>1.230251</td>\n",
       "    </tr>\n",
       "    <tr>\n",
       "      <th>3428</th>\n",
       "      <td>ravens</td>\n",
       "      <td>1.250317</td>\n",
       "    </tr>\n",
       "    <tr>\n",
       "      <th>4087</th>\n",
       "      <td>steelers</td>\n",
       "      <td>1.307518</td>\n",
       "    </tr>\n",
       "    <tr>\n",
       "      <th>1213</th>\n",
       "      <td>giants</td>\n",
       "      <td>1.372776</td>\n",
       "    </tr>\n",
       "    <tr>\n",
       "      <th>4949</th>\n",
       "      <td>yards</td>\n",
       "      <td>1.398403</td>\n",
       "    </tr>\n",
       "    <tr>\n",
       "      <th>3293</th>\n",
       "      <td>qb</td>\n",
       "      <td>1.435948</td>\n",
       "    </tr>\n",
       "    <tr>\n",
       "      <th>193</th>\n",
       "      <td>49ers</td>\n",
       "      <td>1.449540</td>\n",
       "    </tr>\n",
       "    <tr>\n",
       "      <th>4491</th>\n",
       "      <td>week</td>\n",
       "      <td>1.476017</td>\n",
       "    </tr>\n",
       "  </tbody>\n",
       "</table>\n",
       "<p>5000 rows × 2 columns</p>\n",
       "</div>"
      ],
      "text/plain": [
       "       features     coefs\n",
       "1585     knicks -1.380130\n",
       "3342    raptors -1.358685\n",
       "4325    tonight -1.181148\n",
       "1552      kawhi -1.107103\n",
       "1655     lebron -1.040217\n",
       "1606     lakers -1.017407\n",
       "4128       suns -0.922338\n",
       "1602      kyrie -0.919873\n",
       "655    clippers -0.915033\n",
       "590     celtics -0.852854\n",
       "1325       heat -0.837985\n",
       "4615    wiggins -0.836937\n",
       "3965   shooting -0.819899\n",
       "4323   tomorrow -0.815295\n",
       "432        best -0.790431\n",
       "4061  standings -0.789408\n",
       "4479   warriors -0.788092\n",
       "3800    rockets -0.769363\n",
       "2693    players -0.754065\n",
       "4095    stephen -0.734748\n",
       "4356       trae -0.723040\n",
       "1761      magic -0.713835\n",
       "1751       luka -0.700755\n",
       "816      defeat -0.690686\n",
       "475     boucher -0.674514\n",
       "4092      steph -0.669743\n",
       "4279      three -0.646407\n",
       "319       ankle -0.641633\n",
       "883      doncic -0.631908\n",
       "1232     gobert -0.628672\n",
       "...         ...       ...\n",
       "3304        qbs  0.787700\n",
       "1946        nfc  0.805414\n",
       "4124     sunday  0.812041\n",
       "1510       jets  0.846684\n",
       "4971      yates  0.867641\n",
       "2087   patriots  0.869207\n",
       "3867     saints  0.870453\n",
       "1464    jackson  0.876538\n",
       "2064       pass  0.884494\n",
       "3329       rams  0.892749\n",
       "4342  touchdown  0.896536\n",
       "517      browns  0.907230\n",
       "261        adam  0.924217\n",
       "4492    week 10  0.958793\n",
       "428     bengals  0.959206\n",
       "406       bears  0.960658\n",
       "1016    falcons  0.963667\n",
       "4635     wilson  0.973541\n",
       "4449    vikings  1.030040\n",
       "876    dolphins  1.076661\n",
       "3902   seahawks  1.129144\n",
       "618      chiefs  1.187715\n",
       "4167         td  1.230251\n",
       "3428     ravens  1.250317\n",
       "4087   steelers  1.307518\n",
       "1213     giants  1.372776\n",
       "4949      yards  1.398403\n",
       "3293         qb  1.435948\n",
       "193       49ers  1.449540\n",
       "4491       week  1.476017\n",
       "\n",
       "[5000 rows x 2 columns]"
      ]
     },
     "execution_count": 50,
     "metadata": {},
     "output_type": "execute_result"
    }
   ],
   "source": [
    "coef_list = lr.coef_.tolist()\n",
    "coef_list = coef_list[0]\n",
    "\n",
    "coef_df = pd.DataFrame({'features' : vectorizer.get_feature_names(),\n",
    "                       'coefs' : coef_list})\n",
    "\n",
    "coef_df.sort_values(by = ['coefs'])"
   ]
  },
  {
   "cell_type": "markdown",
   "metadata": {},
   "source": [
    "### Decision Tree"
   ]
  },
  {
   "cell_type": "code",
   "execution_count": 51,
   "metadata": {
    "ExecuteTime": {
     "end_time": "2019-11-13T14:48:52.302655Z",
     "start_time": "2019-11-13T14:48:52.255803Z"
    }
   },
   "outputs": [],
   "source": [
    "from sklearn.tree import DecisionTreeClassifier"
   ]
  },
  {
   "cell_type": "code",
   "execution_count": 52,
   "metadata": {
    "ExecuteTime": {
     "end_time": "2019-11-13T14:48:52.979167Z",
     "start_time": "2019-11-13T14:48:52.976797Z"
    }
   },
   "outputs": [],
   "source": [
    "tree = DecisionTreeClassifier()"
   ]
  },
  {
   "cell_type": "code",
   "execution_count": 53,
   "metadata": {
    "ExecuteTime": {
     "end_time": "2019-11-13T14:48:55.773856Z",
     "start_time": "2019-11-13T14:48:53.592600Z"
    }
   },
   "outputs": [
    {
     "data": {
      "text/plain": [
       "DecisionTreeClassifier(class_weight=None, criterion='gini', max_depth=None,\n",
       "                       max_features=None, max_leaf_nodes=None,\n",
       "                       min_impurity_decrease=0.0, min_impurity_split=None,\n",
       "                       min_samples_leaf=1, min_samples_split=2,\n",
       "                       min_weight_fraction_leaf=0.0, presort=False,\n",
       "                       random_state=None, splitter='best')"
      ]
     },
     "execution_count": 53,
     "metadata": {},
     "output_type": "execute_result"
    }
   ],
   "source": [
    "tree.fit(train_data_features, y_train)"
   ]
  },
  {
   "cell_type": "code",
   "execution_count": 54,
   "metadata": {
    "ExecuteTime": {
     "end_time": "2019-11-13T14:48:55.795814Z",
     "start_time": "2019-11-13T14:48:55.775764Z"
    }
   },
   "outputs": [
    {
     "data": {
      "text/plain": [
       "0.9984"
      ]
     },
     "execution_count": 54,
     "metadata": {},
     "output_type": "execute_result"
    }
   ],
   "source": [
    "tree.score(train_data_features, y_train)"
   ]
  },
  {
   "cell_type": "code",
   "execution_count": 55,
   "metadata": {
    "ExecuteTime": {
     "end_time": "2019-11-13T14:48:55.802625Z",
     "start_time": "2019-11-13T14:48:55.797654Z"
    }
   },
   "outputs": [
    {
     "data": {
      "text/plain": [
       "0.815347721822542"
      ]
     },
     "execution_count": 55,
     "metadata": {},
     "output_type": "execute_result"
    }
   ],
   "source": [
    "tree.score(test_data_features, y_test)"
   ]
  },
  {
   "cell_type": "markdown",
   "metadata": {},
   "source": [
    "### Random Forest"
   ]
  },
  {
   "cell_type": "code",
   "execution_count": 56,
   "metadata": {
    "ExecuteTime": {
     "end_time": "2019-11-13T14:48:59.583620Z",
     "start_time": "2019-11-13T14:48:59.567331Z"
    }
   },
   "outputs": [],
   "source": [
    "from sklearn.ensemble import RandomForestClassifier"
   ]
  },
  {
   "cell_type": "code",
   "execution_count": 57,
   "metadata": {
    "ExecuteTime": {
     "end_time": "2019-11-13T14:49:00.050014Z",
     "start_time": "2019-11-13T14:49:00.047549Z"
    }
   },
   "outputs": [],
   "source": [
    "forest = RandomForestClassifier(n_estimators = 100)"
   ]
  },
  {
   "cell_type": "code",
   "execution_count": 58,
   "metadata": {
    "ExecuteTime": {
     "end_time": "2019-11-13T14:49:03.160789Z",
     "start_time": "2019-11-13T14:49:00.553582Z"
    }
   },
   "outputs": [
    {
     "data": {
      "text/plain": [
       "RandomForestClassifier(bootstrap=True, class_weight=None, criterion='gini',\n",
       "                       max_depth=None, max_features='auto', max_leaf_nodes=None,\n",
       "                       min_impurity_decrease=0.0, min_impurity_split=None,\n",
       "                       min_samples_leaf=1, min_samples_split=2,\n",
       "                       min_weight_fraction_leaf=0.0, n_estimators=100,\n",
       "                       n_jobs=None, oob_score=False, random_state=None,\n",
       "                       verbose=0, warm_start=False)"
      ]
     },
     "execution_count": 58,
     "metadata": {},
     "output_type": "execute_result"
    }
   ],
   "source": [
    "forest.fit(train_data_features, y_train)"
   ]
  },
  {
   "cell_type": "code",
   "execution_count": 59,
   "metadata": {
    "ExecuteTime": {
     "end_time": "2019-11-13T14:49:03.237068Z",
     "start_time": "2019-11-13T14:49:03.162560Z"
    }
   },
   "outputs": [
    {
     "data": {
      "text/plain": [
       "0.9984"
      ]
     },
     "execution_count": 59,
     "metadata": {},
     "output_type": "execute_result"
    }
   ],
   "source": [
    "forest.score(train_data_features, y_train)"
   ]
  },
  {
   "cell_type": "code",
   "execution_count": 60,
   "metadata": {
    "ExecuteTime": {
     "end_time": "2019-11-13T14:49:03.269437Z",
     "start_time": "2019-11-13T14:49:03.238959Z"
    }
   },
   "outputs": [
    {
     "data": {
      "text/plain": [
       "0.8776978417266187"
      ]
     },
     "execution_count": 60,
     "metadata": {},
     "output_type": "execute_result"
    }
   ],
   "source": [
    "forest.score(test_data_features, y_test)"
   ]
  },
  {
   "cell_type": "markdown",
   "metadata": {},
   "source": [
    "###  Matrix on Logistic Regression"
   ]
  },
  {
   "cell_type": "code",
   "execution_count": 61,
   "metadata": {
    "ExecuteTime": {
     "end_time": "2019-11-13T14:49:08.139739Z",
     "start_time": "2019-11-13T14:49:08.137413Z"
    }
   },
   "outputs": [],
   "source": [
    "from sklearn.metrics import confusion_matrix"
   ]
  },
  {
   "cell_type": "code",
   "execution_count": 62,
   "metadata": {
    "ExecuteTime": {
     "end_time": "2019-11-13T14:49:08.746324Z",
     "start_time": "2019-11-13T14:49:08.743801Z"
    }
   },
   "outputs": [],
   "source": [
    "y_pred = lr.predict(test_data_features)"
   ]
  },
  {
   "cell_type": "code",
   "execution_count": 63,
   "metadata": {
    "ExecuteTime": {
     "end_time": "2019-11-13T14:49:09.285023Z",
     "start_time": "2019-11-13T14:49:09.278176Z"
    }
   },
   "outputs": [],
   "source": [
    "cm = confusion_matrix(y_test, y_pred)"
   ]
  },
  {
   "cell_type": "code",
   "execution_count": 64,
   "metadata": {
    "ExecuteTime": {
     "end_time": "2019-11-13T14:49:09.964019Z",
     "start_time": "2019-11-13T14:49:09.960631Z"
    }
   },
   "outputs": [],
   "source": [
    "cm_df = pd.DataFrame(cm,\n",
    "                    columns=['predict_neg', 'predict_pos'],\n",
    "                    index = ['actual_neg', 'actual_pos'])"
   ]
  },
  {
   "cell_type": "code",
   "execution_count": 65,
   "metadata": {
    "ExecuteTime": {
     "end_time": "2019-11-13T14:49:10.585923Z",
     "start_time": "2019-11-13T14:49:10.580698Z"
    }
   },
   "outputs": [
    {
     "data": {
      "text/html": [
       "<div>\n",
       "<style scoped>\n",
       "    .dataframe tbody tr th:only-of-type {\n",
       "        vertical-align: middle;\n",
       "    }\n",
       "\n",
       "    .dataframe tbody tr th {\n",
       "        vertical-align: top;\n",
       "    }\n",
       "\n",
       "    .dataframe thead th {\n",
       "        text-align: right;\n",
       "    }\n",
       "</style>\n",
       "<table border=\"1\" class=\"dataframe\">\n",
       "  <thead>\n",
       "    <tr style=\"text-align: right;\">\n",
       "      <th></th>\n",
       "      <th>predict_neg</th>\n",
       "      <th>predict_pos</th>\n",
       "    </tr>\n",
       "  </thead>\n",
       "  <tbody>\n",
       "    <tr>\n",
       "      <th>actual_neg</th>\n",
       "      <td>178</td>\n",
       "      <td>16</td>\n",
       "    </tr>\n",
       "    <tr>\n",
       "      <th>actual_pos</th>\n",
       "      <td>21</td>\n",
       "      <td>202</td>\n",
       "    </tr>\n",
       "  </tbody>\n",
       "</table>\n",
       "</div>"
      ],
      "text/plain": [
       "            predict_neg  predict_pos\n",
       "actual_neg          178           16\n",
       "actual_pos           21          202"
      ]
     },
     "execution_count": 65,
     "metadata": {},
     "output_type": "execute_result"
    }
   ],
   "source": [
    "cm_df"
   ]
  },
  {
   "cell_type": "markdown",
   "metadata": {},
   "source": [
    "## Checking where our model failed"
   ]
  },
  {
   "cell_type": "code",
   "execution_count": 66,
   "metadata": {
    "ExecuteTime": {
     "end_time": "2019-11-13T14:49:15.634508Z",
     "start_time": "2019-11-13T14:49:15.631367Z"
    }
   },
   "outputs": [],
   "source": [
    "comparison_df = pd.DataFrame({'y_actual' : y_test,\n",
    "             'y_predicted' : y_pred})"
   ]
  },
  {
   "cell_type": "code",
   "execution_count": 67,
   "metadata": {
    "ExecuteTime": {
     "end_time": "2019-11-13T14:49:16.203284Z",
     "start_time": "2019-11-13T14:49:16.197656Z"
    }
   },
   "outputs": [],
   "source": [
    "mismatch_df = comparison_df[comparison_df['y_actual'] != comparison_df['y_predicted']]"
   ]
  },
  {
   "cell_type": "code",
   "execution_count": 68,
   "metadata": {
    "ExecuteTime": {
     "end_time": "2019-11-13T14:49:16.681880Z",
     "start_time": "2019-11-13T14:49:16.674528Z"
    }
   },
   "outputs": [
    {
     "name": "stderr",
     "output_type": "stream",
     "text": [
      "//anaconda3/lib/python3.7/site-packages/ipykernel_launcher.py:1: FutureWarning: Sorting because non-concatenation axis is not aligned. A future version\n",
      "of pandas will change to not sort by default.\n",
      "\n",
      "To accept the future behavior, pass 'sort=False'.\n",
      "\n",
      "To retain the current behavior and silence the warning, pass 'sort=True'.\n",
      "\n",
      "  \"\"\"Entry point for launching an IPython kernel.\n"
     ]
    }
   ],
   "source": [
    "mismatch2_df = pd.concat([mismatch_df, X_test], axis = 1)"
   ]
  },
  {
   "cell_type": "code",
   "execution_count": 69,
   "metadata": {
    "ExecuteTime": {
     "end_time": "2019-11-13T14:49:17.517830Z",
     "start_time": "2019-11-13T14:49:17.512827Z"
    }
   },
   "outputs": [],
   "source": [
    "# All incorrect predictions with titles\n",
    "\n",
    "mismatches = mismatch2_df.dropna()"
   ]
  },
  {
   "cell_type": "code",
   "execution_count": 70,
   "metadata": {
    "ExecuteTime": {
     "end_time": "2019-11-13T14:49:18.162971Z",
     "start_time": "2019-11-13T14:49:18.151669Z"
    },
    "scrolled": true
   },
   "outputs": [
    {
     "data": {
      "text/html": [
       "<div>\n",
       "<style scoped>\n",
       "    .dataframe tbody tr th:only-of-type {\n",
       "        vertical-align: middle;\n",
       "    }\n",
       "\n",
       "    .dataframe tbody tr th {\n",
       "        vertical-align: top;\n",
       "    }\n",
       "\n",
       "    .dataframe thead th {\n",
       "        text-align: right;\n",
       "    }\n",
       "</style>\n",
       "<table border=\"1\" class=\"dataframe\">\n",
       "  <thead>\n",
       "    <tr style=\"text-align: right;\">\n",
       "      <th></th>\n",
       "      <th>y_actual</th>\n",
       "      <th>y_predicted</th>\n",
       "      <th>title</th>\n",
       "    </tr>\n",
       "  </thead>\n",
       "  <tbody>\n",
       "    <tr>\n",
       "      <th>t3_duch6a</th>\n",
       "      <td>nba</td>\n",
       "      <td>nfl</td>\n",
       "      <td>which team records so far has been inflated due to soft schedule</td>\n",
       "    </tr>\n",
       "    <tr>\n",
       "      <th>t3_duhu9j</th>\n",
       "      <td>nba</td>\n",
       "      <td>nfl</td>\n",
       "      <td>agness pacers without turner bitadze lamb sumner and oladipo in orlando turner played some 4 on 4 this week but more time is needed to recover</td>\n",
       "    </tr>\n",
       "    <tr>\n",
       "      <th>t3_duidfw</th>\n",
       "      <td>nba</td>\n",
       "      <td>nfl</td>\n",
       "      <td>ham marvin bagley said there is still no timetable for his return but he s putting in work while recovering from a broken right thumb wednesday will be the 3 week mark of a 4 6 week injury window sounds like he s still 2 weeks out</td>\n",
       "    </tr>\n",
       "    <tr>\n",
       "      <th>t3_duix5v</th>\n",
       "      <td>nfl</td>\n",
       "      <td>nba</td>\n",
       "      <td>highlight robeh coleman punches the hall out of washington s hand for a rams turnover</td>\n",
       "    </tr>\n",
       "    <tr>\n",
       "      <th>t3_dujp31</th>\n",
       "      <td>nfl</td>\n",
       "      <td>nba</td>\n",
       "      <td>locker colts loyalty to the kicking goat vinatieri has them in a tough spot they ve fought their ass off this year but their margin for error is low and the poor kicking has them in a tough spot</td>\n",
       "    </tr>\n",
       "    <tr>\n",
       "      <th>t3_dumb3j</th>\n",
       "      <td>nfl</td>\n",
       "      <td>nba</td>\n",
       "      <td>for teams in the playoff hunt what s your team s biggest positional weakness</td>\n",
       "    </tr>\n",
       "    <tr>\n",
       "      <th>t3_dun573</th>\n",
       "      <td>nfl</td>\n",
       "      <td>nba</td>\n",
       "      <td>kimes dak was incredible tonight</td>\n",
       "    </tr>\n",
       "    <tr>\n",
       "      <th>t3_dun5r6</th>\n",
       "      <td>nba</td>\n",
       "      <td>nfl</td>\n",
       "      <td>nehm middleton just got kneed in my quad tried to run it off for a second tried to come back here the locker room get it stretched out and i just couldn t do it when i asked if he thought he d be out long he said no and that he was hopeful to be good to go in a couple days</td>\n",
       "    </tr>\n",
       "    <tr>\n",
       "      <th>t3_duuh5t</th>\n",
       "      <td>nfl</td>\n",
       "      <td>nba</td>\n",
       "      <td>nagler video this is great stuff from troyaikman</td>\n",
       "    </tr>\n",
       "    <tr>\n",
       "      <th>t3_duwxt4</th>\n",
       "      <td>nfl</td>\n",
       "      <td>nba</td>\n",
       "      <td>cam jordan at the end of the day we have to turn this tape on and get better asap there is no room for error there is no room for slacking today was not up to our standards and expectations</td>\n",
       "    </tr>\n",
       "    <tr>\n",
       "      <th>t3_dux480</th>\n",
       "      <td>nba</td>\n",
       "      <td>nfl</td>\n",
       "      <td>if you had to guess who do you think will be thought of as the top coaches in the league 10 or 15 years from now</td>\n",
       "    </tr>\n",
       "    <tr>\n",
       "      <th>t3_duxkrh</th>\n",
       "      <td>nfl</td>\n",
       "      <td>nba</td>\n",
       "      <td>texans jon weeks gives back on veterans day</td>\n",
       "    </tr>\n",
       "    <tr>\n",
       "      <th>t3_duxv47</th>\n",
       "      <td>nba</td>\n",
       "      <td>nfl</td>\n",
       "      <td>the top 10 of the 2014 nba draft was truly horrible</td>\n",
       "    </tr>\n",
       "    <tr>\n",
       "      <th>t3_duyyyf</th>\n",
       "      <td>nba</td>\n",
       "      <td>nfl</td>\n",
       "      <td>kirk goldsberry updated efficiency landscape</td>\n",
       "    </tr>\n",
       "    <tr>\n",
       "      <th>t3_duz7i2</th>\n",
       "      <td>nfl</td>\n",
       "      <td>nba</td>\n",
       "      <td>who is leading cpoty right now</td>\n",
       "    </tr>\n",
       "    <tr>\n",
       "      <th>t3_duzhlz</th>\n",
       "      <td>nba</td>\n",
       "      <td>nfl</td>\n",
       "      <td>which player today is most similar to penny hardaway</td>\n",
       "    </tr>\n",
       "    <tr>\n",
       "      <th>t3_duzwro</th>\n",
       "      <td>nfl</td>\n",
       "      <td>nba</td>\n",
       "      <td>does anyone where youtubers get angles for film study</td>\n",
       "    </tr>\n",
       "    <tr>\n",
       "      <th>t3_dv03u8</th>\n",
       "      <td>nfl</td>\n",
       "      <td>nba</td>\n",
       "      <td>pfc the oakland raiders worked out free agent db jermaine whitehead</td>\n",
       "    </tr>\n",
       "    <tr>\n",
       "      <th>t3_dv1hi1</th>\n",
       "      <td>nfl</td>\n",
       "      <td>nba</td>\n",
       "      <td>mcnabb it s hilarious to me that people think this video is worthy of jokes if you know about playing the position you would understand using your base and foundation is vital to your success as a passer there s a reason why his numbers are around the top</td>\n",
       "    </tr>\n",
       "    <tr>\n",
       "      <th>t3_dv2twe</th>\n",
       "      <td>nba</td>\n",
       "      <td>nfl</td>\n",
       "      <td>how bias are the home team announcers typically</td>\n",
       "    </tr>\n",
       "    <tr>\n",
       "      <th>t3_dv38g3</th>\n",
       "      <td>nfl</td>\n",
       "      <td>nba</td>\n",
       "      <td>give this man a pay raise out here trying to get back coach robert saleh</td>\n",
       "    </tr>\n",
       "    <tr>\n",
       "      <th>t3_dv471p</th>\n",
       "      <td>nfl</td>\n",
       "      <td>nba</td>\n",
       "      <td>who was the skinniest player in the nfl in the past 10 years</td>\n",
       "    </tr>\n",
       "    <tr>\n",
       "      <th>t3_dv4kq3</th>\n",
       "      <td>nfl</td>\n",
       "      <td>nba</td>\n",
       "      <td>highlight kittle loving what he sees</td>\n",
       "    </tr>\n",
       "    <tr>\n",
       "      <th>t3_dv4nks</th>\n",
       "      <td>nba</td>\n",
       "      <td>nfl</td>\n",
       "      <td>did dallas ultimately win the dwight powell trade</td>\n",
       "    </tr>\n",
       "    <tr>\n",
       "      <th>t3_dv4oeg</th>\n",
       "      <td>nba</td>\n",
       "      <td>nfl</td>\n",
       "      <td>highlight james harden turns a 4 point game into a 17 point game with a personal 13 0 run in the 4th quarter</td>\n",
       "    </tr>\n",
       "    <tr>\n",
       "      <th>t3_dv4zw8</th>\n",
       "      <td>nfl</td>\n",
       "      <td>nba</td>\n",
       "      <td>deaf nfl fans what is the most interesting thing you ve lipread when the tv shows players talking on the sidelines</td>\n",
       "    </tr>\n",
       "    <tr>\n",
       "      <th>t3_dv5ke6</th>\n",
       "      <td>nba</td>\n",
       "      <td>nfl</td>\n",
       "      <td>highlight now steve kerr is given a technical for disagreeing with the kick ball call</td>\n",
       "    </tr>\n",
       "    <tr>\n",
       "      <th>t3_dv5shg</th>\n",
       "      <td>nfl</td>\n",
       "      <td>nba</td>\n",
       "      <td>barrows mike mcglinchey on the state of the team i think we ll be fine i think we ll be absolutely fine we have the best in the business up top coaching us and he s as pissed off as anybody is</td>\n",
       "    </tr>\n",
       "    <tr>\n",
       "      <th>t3_dva38v</th>\n",
       "      <td>nfl</td>\n",
       "      <td>nba</td>\n",
       "      <td>official r nfl sidebar contest</td>\n",
       "    </tr>\n",
       "    <tr>\n",
       "      <th>t3_dvbvjf</th>\n",
       "      <td>nfl</td>\n",
       "      <td>nba</td>\n",
       "      <td>of the teams with 2 or less wins right now who is most likely to be holding the lombardi trophy in 5 years</td>\n",
       "    </tr>\n",
       "    <tr>\n",
       "      <th>t3_dvcf8m</th>\n",
       "      <td>nba</td>\n",
       "      <td>nfl</td>\n",
       "      <td>boston s 8 game win streak is the longest of kemba s career</td>\n",
       "    </tr>\n",
       "    <tr>\n",
       "      <th>t3_dvgxnq</th>\n",
       "      <td>nfl</td>\n",
       "      <td>nba</td>\n",
       "      <td>do you think teams are regretting they passed on dk metcalf</td>\n",
       "    </tr>\n",
       "    <tr>\n",
       "      <th>t3_dvjsqz</th>\n",
       "      <td>nba</td>\n",
       "      <td>nfl</td>\n",
       "      <td>6 way tie for 1st place in the west</td>\n",
       "    </tr>\n",
       "    <tr>\n",
       "      <th>t3_dvlixg</th>\n",
       "      <td>nfl</td>\n",
       "      <td>nba</td>\n",
       "      <td>parkerlewis ladies and gentlemen of twitter i present to you james richard garoppolo</td>\n",
       "    </tr>\n",
       "    <tr>\n",
       "      <th>t3_dvp0vb</th>\n",
       "      <td>nfl</td>\n",
       "      <td>nba</td>\n",
       "      <td>is it possible that the nfl combine would ever consider switching to all players having to wear pads during workouts</td>\n",
       "    </tr>\n",
       "    <tr>\n",
       "      <th>t3_dvp93l</th>\n",
       "      <td>nba</td>\n",
       "      <td>nfl</td>\n",
       "      <td>post up play by big men seems to be frowned on now and i miss some of it</td>\n",
       "    </tr>\n",
       "    <tr>\n",
       "      <th>t3_dvscah</th>\n",
       "      <td>nba</td>\n",
       "      <td>nfl</td>\n",
       "      <td>rasheed wallace left philly behind but he also brought a part of it with him during a 16 year nba career</td>\n",
       "    </tr>\n",
       "  </tbody>\n",
       "</table>\n",
       "</div>"
      ],
      "text/plain": [
       "          y_actual y_predicted  \\\n",
       "t3_duch6a      nba         nfl   \n",
       "t3_duhu9j      nba         nfl   \n",
       "t3_duidfw      nba         nfl   \n",
       "t3_duix5v      nfl         nba   \n",
       "t3_dujp31      nfl         nba   \n",
       "t3_dumb3j      nfl         nba   \n",
       "t3_dun573      nfl         nba   \n",
       "t3_dun5r6      nba         nfl   \n",
       "t3_duuh5t      nfl         nba   \n",
       "t3_duwxt4      nfl         nba   \n",
       "t3_dux480      nba         nfl   \n",
       "t3_duxkrh      nfl         nba   \n",
       "t3_duxv47      nba         nfl   \n",
       "t3_duyyyf      nba         nfl   \n",
       "t3_duz7i2      nfl         nba   \n",
       "t3_duzhlz      nba         nfl   \n",
       "t3_duzwro      nfl         nba   \n",
       "t3_dv03u8      nfl         nba   \n",
       "t3_dv1hi1      nfl         nba   \n",
       "t3_dv2twe      nba         nfl   \n",
       "t3_dv38g3      nfl         nba   \n",
       "t3_dv471p      nfl         nba   \n",
       "t3_dv4kq3      nfl         nba   \n",
       "t3_dv4nks      nba         nfl   \n",
       "t3_dv4oeg      nba         nfl   \n",
       "t3_dv4zw8      nfl         nba   \n",
       "t3_dv5ke6      nba         nfl   \n",
       "t3_dv5shg      nfl         nba   \n",
       "t3_dva38v      nfl         nba   \n",
       "t3_dvbvjf      nfl         nba   \n",
       "t3_dvcf8m      nba         nfl   \n",
       "t3_dvgxnq      nfl         nba   \n",
       "t3_dvjsqz      nba         nfl   \n",
       "t3_dvlixg      nfl         nba   \n",
       "t3_dvp0vb      nfl         nba   \n",
       "t3_dvp93l      nba         nfl   \n",
       "t3_dvscah      nba         nfl   \n",
       "\n",
       "                                                                                                                                                                                                                                                                                       title  \n",
       "t3_duch6a                                                                                                                                                                                                                   which team records so far has been inflated due to soft schedule  \n",
       "t3_duhu9j                                                                                                                                     agness pacers without turner bitadze lamb sumner and oladipo in orlando turner played some 4 on 4 this week but more time is needed to recover  \n",
       "t3_duidfw                                             ham marvin bagley said there is still no timetable for his return but he s putting in work while recovering from a broken right thumb wednesday will be the 3 week mark of a 4 6 week injury window sounds like he s still 2 weeks out  \n",
       "t3_duix5v                                                                                                                                                                                              highlight robeh coleman punches the hall out of washington s hand for a rams turnover  \n",
       "t3_dujp31                                                                                 locker colts loyalty to the kicking goat vinatieri has them in a tough spot they ve fought their ass off this year but their margin for error is low and the poor kicking has them in a tough spot  \n",
       "t3_dumb3j                                                                                                                                                                                                       for teams in the playoff hunt what s your team s biggest positional weakness  \n",
       "t3_dun573                                                                                                                                                                                                                                                   kimes dak was incredible tonight  \n",
       "t3_dun5r6  nehm middleton just got kneed in my quad tried to run it off for a second tried to come back here the locker room get it stretched out and i just couldn t do it when i asked if he thought he d be out long he said no and that he was hopeful to be good to go in a couple days  \n",
       "t3_duuh5t                                                                                                                                                                                                                                   nagler video this is great stuff from troyaikman  \n",
       "t3_duwxt4                                                                                      cam jordan at the end of the day we have to turn this tape on and get better asap there is no room for error there is no room for slacking today was not up to our standards and expectations  \n",
       "t3_dux480                                                                                                                                                                   if you had to guess who do you think will be thought of as the top coaches in the league 10 or 15 years from now  \n",
       "t3_duxkrh                                                                                                                                                                                                                                        texans jon weeks gives back on veterans day  \n",
       "t3_duxv47                                                                                                                                                                                                                                the top 10 of the 2014 nba draft was truly horrible  \n",
       "t3_duyyyf                                                                                                                                                                                                                                       kirk goldsberry updated efficiency landscape  \n",
       "t3_duz7i2                                                                                                                                                                                                                                                     who is leading cpoty right now  \n",
       "t3_duzhlz                                                                                                                                                                                                                               which player today is most similar to penny hardaway  \n",
       "t3_duzwro                                                                                                                                                                                                                              does anyone where youtubers get angles for film study  \n",
       "t3_dv03u8                                                                                                                                                                                                                pfc the oakland raiders worked out free agent db jermaine whitehead  \n",
       "t3_dv1hi1                    mcnabb it s hilarious to me that people think this video is worthy of jokes if you know about playing the position you would understand using your base and foundation is vital to your success as a passer there s a reason why his numbers are around the top  \n",
       "t3_dv2twe                                                                                                                                                                                                                                    how bias are the home team announcers typically  \n",
       "t3_dv38g3                                                                                                                                                                                                           give this man a pay raise out here trying to get back coach robert saleh  \n",
       "t3_dv471p                                                                                                                                                                                                                       who was the skinniest player in the nfl in the past 10 years  \n",
       "t3_dv4kq3                                                                                                                                                                                                                                               highlight kittle loving what he sees  \n",
       "t3_dv4nks                                                                                                                                                                                                                                  did dallas ultimately win the dwight powell trade  \n",
       "t3_dv4oeg                                                                                                                                                                       highlight james harden turns a 4 point game into a 17 point game with a personal 13 0 run in the 4th quarter  \n",
       "t3_dv4zw8                                                                                                                                                                 deaf nfl fans what is the most interesting thing you ve lipread when the tv shows players talking on the sidelines  \n",
       "t3_dv5ke6                                                                                                                                                                                              highlight now steve kerr is given a technical for disagreeing with the kick ball call  \n",
       "t3_dv5shg                                                                                   barrows mike mcglinchey on the state of the team i think we ll be fine i think we ll be absolutely fine we have the best in the business up top coaching us and he s as pissed off as anybody is  \n",
       "t3_dva38v                                                                                                                                                                                                                                                     official r nfl sidebar contest  \n",
       "t3_dvbvjf                                                                                                                                                                         of the teams with 2 or less wins right now who is most likely to be holding the lombardi trophy in 5 years  \n",
       "t3_dvcf8m                                                                                                                                                                                                                        boston s 8 game win streak is the longest of kemba s career  \n",
       "t3_dvgxnq                                                                                                                                                                                                                        do you think teams are regretting they passed on dk metcalf  \n",
       "t3_dvjsqz                                                                                                                                                                                                                                                6 way tie for 1st place in the west  \n",
       "t3_dvlixg                                                                                                                                                                                               parkerlewis ladies and gentlemen of twitter i present to you james richard garoppolo  \n",
       "t3_dvp0vb                                                                                                                                                               is it possible that the nfl combine would ever consider switching to all players having to wear pads during workouts  \n",
       "t3_dvp93l                                                                                                                                                                                                           post up play by big men seems to be frowned on now and i miss some of it  \n",
       "t3_dvscah                                                                                                                                                                           rasheed wallace left philly behind but he also brought a part of it with him during a 16 year nba career  "
      ]
     },
     "execution_count": 70,
     "metadata": {},
     "output_type": "execute_result"
    }
   ],
   "source": [
    "mismatches"
   ]
  },
  {
   "cell_type": "markdown",
   "metadata": {},
   "source": [
    "### Let's try TF-IDF"
   ]
  },
  {
   "cell_type": "markdown",
   "metadata": {},
   "source": [
    "Term Frequency / Inverse Document Frequency\n",
    "\n",
    "TF(w) = (Number of times term w appears in a document) / (Total number of terms in the document)\n",
    "\n",
    "IDF(w) = log_e(Total number of documents / Number of documents with term w in it)"
   ]
  },
  {
   "cell_type": "code",
   "execution_count": 71,
   "metadata": {
    "ExecuteTime": {
     "end_time": "2019-11-13T14:49:22.746384Z",
     "start_time": "2019-11-13T14:49:22.743539Z"
    }
   },
   "outputs": [],
   "source": [
    "tfidf_vec = TfidfVectorizer(analyzer=\"word\",\n",
    "                            tokenizer=None,\n",
    "                            preprocessor=None,\n",
    "                            stop_words=['nba', 'nfl', 'football', 'basketball'],\n",
    "                            max_features=5000,\n",
    "                            ngram_range=(1, 3))"
   ]
  },
  {
   "cell_type": "code",
   "execution_count": 72,
   "metadata": {
    "ExecuteTime": {
     "end_time": "2019-11-13T14:49:23.475634Z",
     "start_time": "2019-11-13T14:49:23.290174Z"
    }
   },
   "outputs": [
    {
     "data": {
      "text/plain": [
       "((1250, 5000), (417, 5000))"
      ]
     },
     "execution_count": 72,
     "metadata": {},
     "output_type": "execute_result"
    }
   ],
   "source": [
    "train_data_features = tfidf_vec.fit_transform(clean_train_data)\n",
    "\n",
    "test_data_features = tfidf_vec.transform(clean_test_data)\n",
    "\n",
    "train_data_features = train_data_features.toarray()\n",
    "\n",
    "train_data_features.shape, test_data_features.shape"
   ]
  },
  {
   "cell_type": "code",
   "execution_count": 73,
   "metadata": {
    "ExecuteTime": {
     "end_time": "2019-11-13T14:49:23.879499Z",
     "start_time": "2019-11-13T14:49:23.860158Z"
    }
   },
   "outputs": [
    {
     "name": "stderr",
     "output_type": "stream",
     "text": [
      "//anaconda3/lib/python3.7/site-packages/sklearn/linear_model/logistic.py:432: FutureWarning: Default solver will be changed to 'lbfgs' in 0.22. Specify a solver to silence this warning.\n",
      "  FutureWarning)\n"
     ]
    },
    {
     "data": {
      "text/plain": [
       "LogisticRegression(C=1.0, class_weight=None, dual=False, fit_intercept=True,\n",
       "                   intercept_scaling=1, l1_ratio=None, max_iter=100,\n",
       "                   multi_class='warn', n_jobs=None, penalty='l2',\n",
       "                   random_state=None, solver='warn', tol=0.0001, verbose=0,\n",
       "                   warm_start=False)"
      ]
     },
     "execution_count": 73,
     "metadata": {},
     "output_type": "execute_result"
    }
   ],
   "source": [
    "lr.fit(train_data_features, y_train)"
   ]
  },
  {
   "cell_type": "code",
   "execution_count": 74,
   "metadata": {
    "ExecuteTime": {
     "end_time": "2019-11-13T14:49:24.439336Z",
     "start_time": "2019-11-13T14:49:24.425491Z"
    }
   },
   "outputs": [
    {
     "data": {
      "text/plain": [
       "0.9816"
      ]
     },
     "execution_count": 74,
     "metadata": {},
     "output_type": "execute_result"
    }
   ],
   "source": [
    "lr.score(train_data_features, y_train)"
   ]
  },
  {
   "cell_type": "code",
   "execution_count": 75,
   "metadata": {
    "ExecuteTime": {
     "end_time": "2019-11-13T14:49:25.093956Z",
     "start_time": "2019-11-13T14:49:25.089323Z"
    }
   },
   "outputs": [
    {
     "data": {
      "text/plain": [
       "0.882494004796163"
      ]
     },
     "execution_count": 75,
     "metadata": {},
     "output_type": "execute_result"
    }
   ],
   "source": [
    "lr.score(test_data_features, y_test)"
   ]
  },
  {
   "cell_type": "markdown",
   "metadata": {},
   "source": [
    "### Let's try on some other subreddits"
   ]
  },
  {
   "cell_type": "code",
   "execution_count": 76,
   "metadata": {
    "ExecuteTime": {
     "end_time": "2019-11-13T14:49:28.323333Z",
     "start_time": "2019-11-13T14:49:28.319209Z"
    }
   },
   "outputs": [],
   "source": [
    "train = pd.concat([politics_test, conservative_test])"
   ]
  },
  {
   "cell_type": "code",
   "execution_count": 77,
   "metadata": {
    "ExecuteTime": {
     "end_time": "2019-11-13T14:49:28.766716Z",
     "start_time": "2019-11-13T14:49:28.761488Z"
    }
   },
   "outputs": [],
   "source": [
    "X = train[['title']]\n",
    "y = train['subreddit']"
   ]
  },
  {
   "cell_type": "code",
   "execution_count": null,
   "metadata": {},
   "outputs": [],
   "source": [
    "# politics_test = scrape_to_df(scraper_bike, 'https://www.reddit.com/r/politics.json')\n",
    "# conservative_test = scrape_to_df(scraper_bike, 'https://www.reddit.com/r/conservative.json')"
   ]
  },
  {
   "cell_type": "code",
   "execution_count": 78,
   "metadata": {
    "ExecuteTime": {
     "end_time": "2019-11-13T14:49:31.685347Z",
     "start_time": "2019-11-13T14:49:31.678119Z"
    }
   },
   "outputs": [],
   "source": [
    "X_train, X_test, y_train, y_test = train_test_split(X, y, random_state = 42, stratify = y)"
   ]
  },
  {
   "cell_type": "code",
   "execution_count": 79,
   "metadata": {
    "ExecuteTime": {
     "end_time": "2019-11-13T14:49:32.262982Z",
     "start_time": "2019-11-13T14:49:32.243792Z"
    }
   },
   "outputs": [],
   "source": [
    "politics_test = politics_test.drop(columns='selftext')\n",
    "conservative_test = conservative_test.drop(columns='selftext')\n",
    "\n",
    "train = pd.concat([politics_test, conservative_test])\n",
    "tokenizer = RegexpTokenizer(r'\\w+')\n",
    "\n",
    "train['title'] = train['title'].map(lambda x: tokenizer.tokenize(x.lower()))\n",
    "train['title'] = train['title'].map(lambda x: ' '.join(x))"
   ]
  },
  {
   "cell_type": "code",
   "execution_count": 80,
   "metadata": {
    "ExecuteTime": {
     "end_time": "2019-11-13T14:49:32.962867Z",
     "start_time": "2019-11-13T14:49:32.958866Z"
    }
   },
   "outputs": [],
   "source": [
    "# create our training data list - this is a list of strings, with each string being a post title\n",
    "\n",
    "clean_train_data = []\n",
    "\n",
    "for traindata in X_train['title']:\n",
    "    clean_train_data.append(traindata)\n",
    "    \n",
    "    \n",
    "# create test data list\n",
    "\n",
    "clean_test_data = []\n",
    "\n",
    "for testdata in X_test['title']:\n",
    "    clean_test_data.append(testdata)"
   ]
  },
  {
   "cell_type": "code",
   "execution_count": 81,
   "metadata": {
    "ExecuteTime": {
     "end_time": "2019-11-13T14:49:34.000354Z",
     "start_time": "2019-11-13T14:49:33.900420Z"
    }
   },
   "outputs": [],
   "source": [
    "vectorizer = CountVectorizer(analyzer=\"word\",\n",
    "                             tokenizer=None,\n",
    "                             preprocessor=None,\n",
    "                             stop_words='english',\n",
    "                             max_features=5000,\n",
    "                             ngram_range=(1, 3))\n",
    "\n",
    "train_data_features = vectorizer.fit_transform(clean_train_data)\n",
    "\n",
    "test_data_features = vectorizer.transform(clean_test_data)\n",
    "\n",
    "train_data_features = train_data_features.toarray()\n",
    "\n",
    "train_data_features.shape, test_data_features.shape\n",
    "\n",
    "vocab = vectorizer.get_feature_names()"
   ]
  },
  {
   "cell_type": "code",
   "execution_count": 90,
   "metadata": {
    "ExecuteTime": {
     "end_time": "2019-11-13T15:17:55.008013Z",
     "start_time": "2019-11-13T15:17:54.998147Z"
    }
   },
   "outputs": [
    {
     "data": {
      "text/plain": [
       "['000',\n",
       " '000 migrant',\n",
       " '000 migrant children',\n",
       " '000 scientists',\n",
       " '000 scientists just',\n",
       " '000 scottish',\n",
       " '000 scottish government',\n",
       " '10',\n",
       " '100',\n",
       " '11',\n",
       " '11 000',\n",
       " '11 000 scientists',\n",
       " '13',\n",
       " '14',\n",
       " '14 million',\n",
       " '14 million jobs',\n",
       " '14 term',\n",
       " '15',\n",
       " '15 gun',\n",
       " '15 gun maker',\n",
       " '16',\n",
       " '16b',\n",
       " '18',\n",
       " '1st',\n",
       " '20',\n",
       " '20 series',\n",
       " '20 series regular',\n",
       " '2015',\n",
       " '2016',\n",
       " '2017',\n",
       " '2018',\n",
       " '2019',\n",
       " '2020',\n",
       " '2020 democratic',\n",
       " '2020 democratic presidential',\n",
       " '2020 presidential',\n",
       " '2020 presidential campaign',\n",
       " '2020 presidential race',\n",
       " '2020 race',\n",
       " '2025',\n",
       " '21',\n",
       " '21 gun',\n",
       " '21 gun salute',\n",
       " '225',\n",
       " '225 000',\n",
       " '225 000 scottish',\n",
       " '234',\n",
       " '234 000',\n",
       " '25',\n",
       " '30th',\n",
       " '30th anniversary',\n",
       " '3d',\n",
       " '3d printed',\n",
       " '3d printed guns',\n",
       " '41',\n",
       " '41 county',\n",
       " '41 county seized',\n",
       " '470',\n",
       " '70',\n",
       " '70 000',\n",
       " '70 000 migrant',\n",
       " 'abc',\n",
       " 'abc insider',\n",
       " 'abc insider released',\n",
       " 'abc news',\n",
       " 'abc news video',\n",
       " 'abiding',\n",
       " 'able',\n",
       " 'aboard',\n",
       " 'aboard deep',\n",
       " 'aboard deep state',\n",
       " 'abortion',\n",
       " 'abortionist',\n",
       " 'abortions',\n",
       " 'abuse',\n",
       " 'abuse power',\n",
       " 'abusers',\n",
       " 'accept',\n",
       " 'access',\n",
       " 'accidentally',\n",
       " 'accomplishments',\n",
       " 'according',\n",
       " 'account',\n",
       " 'accused',\n",
       " 'accuses',\n",
       " 'act',\n",
       " 'acting',\n",
       " 'action',\n",
       " 'actions',\n",
       " 'actions ukraine',\n",
       " 'activist',\n",
       " 'activists',\n",
       " 'ad',\n",
       " 'adam',\n",
       " 'adam schiff',\n",
       " 'adam schiff trump',\n",
       " 'added',\n",
       " 'administration',\n",
       " 'administration defends',\n",
       " 'admits',\n",
       " 'ads',\n",
       " 'adviser',\n",
       " 'adviser stephen',\n",
       " 'adviser stephen miller',\n",
       " 'advocates',\n",
       " 'affairs',\n",
       " 'affirmative',\n",
       " 'affirmative action',\n",
       " 'afford',\n",
       " 'ag',\n",
       " 'age',\n",
       " 'agencies',\n",
       " 'agency',\n",
       " 'agenda',\n",
       " 'ahead',\n",
       " 'ahead public',\n",
       " 'ahead public impeachment',\n",
       " 'aid',\n",
       " 'aid ukraine',\n",
       " 'aide',\n",
       " 'aides',\n",
       " 'air',\n",
       " 'al',\n",
       " 'alabama',\n",
       " 'alabama game',\n",
       " 'alan',\n",
       " 'alan dershowitz',\n",
       " 'alex',\n",
       " 'alex vindman',\n",
       " 'alex vindman living',\n",
       " 'alexander',\n",
       " 'alexander vindman',\n",
       " 'alexandria',\n",
       " 'alexandria ocasio',\n",
       " 'alexandria ocasio cortez',\n",
       " 'alien',\n",
       " 'aliens',\n",
       " 'allegations',\n",
       " 'alleged',\n",
       " 'alleged whistleblower',\n",
       " 'alleged whistleblower aboard',\n",
       " 'allegedly',\n",
       " 'alleges',\n",
       " 'alleges trump',\n",
       " 'alleges trump ukraine',\n",
       " 'allow',\n",
       " 'allowed',\n",
       " 'allowing',\n",
       " 'allows',\n",
       " 'allows sandy',\n",
       " 'allows sandy hook',\n",
       " 'alt',\n",
       " 'alt right',\n",
       " 'alt right radical',\n",
       " 'amazon',\n",
       " 'ambassador',\n",
       " 'amendment',\n",
       " 'america',\n",
       " 'america election',\n",
       " 'american',\n",
       " 'american democracy',\n",
       " 'americans',\n",
       " 'americans say',\n",
       " 'amid',\n",
       " 'amp',\n",
       " 'amy',\n",
       " 'amy robach',\n",
       " 'analyst',\n",
       " 'andrew',\n",
       " 'andrew napolitano',\n",
       " 'angry',\n",
       " 'anniversary',\n",
       " 'anniversary fall',\n",
       " 'anniversary fall berlin',\n",
       " 'announce',\n",
       " 'announced',\n",
       " 'announces',\n",
       " 'announces run',\n",
       " 'anonymous',\n",
       " 'anonymous book',\n",
       " 'answer',\n",
       " 'anti',\n",
       " 'anti ice',\n",
       " 'anti immigrant',\n",
       " 'anti impeachment',\n",
       " 'anti trump',\n",
       " 'antifa',\n",
       " 'aoc',\n",
       " 'appeal',\n",
       " 'appearance',\n",
       " 'appears',\n",
       " 'applause',\n",
       " 'apple',\n",
       " 'appointed',\n",
       " 'appointed state',\n",
       " 'appointed state department',\n",
       " 'approval',\n",
       " 'ar',\n",
       " 'ar 15',\n",
       " 'ar 15 gun',\n",
       " 'arabia',\n",
       " 'arctic',\n",
       " 'arctic blast',\n",
       " 'aren',\n",
       " 'argue',\n",
       " 'argue trump',\n",
       " 'argument',\n",
       " 'argument impeachment',\n",
       " 'argument whistleblower',\n",
       " 'arguments',\n",
       " 'arizona',\n",
       " 'armed',\n",
       " 'army',\n",
       " 'arrested',\n",
       " 'articles',\n",
       " 'articles impeachment',\n",
       " 'ashley',\n",
       " 'ashley bianco',\n",
       " 'ask',\n",
       " 'asked',\n",
       " 'asking',\n",
       " 'asks',\n",
       " 'asset',\n",
       " 'associate',\n",
       " 'associate said',\n",
       " 'associate said discussed',\n",
       " 'asylum',\n",
       " 'asylum officer',\n",
       " 'asylum officer blasts',\n",
       " 'atlanta',\n",
       " 'attack',\n",
       " 'attacked',\n",
       " 'attacking',\n",
       " 'attacks',\n",
       " 'attempt',\n",
       " 'attorney',\n",
       " 'attorneys',\n",
       " 'auditioning',\n",
       " 'authorities',\n",
       " 'authorities horrified',\n",
       " 'authorities horrified woman',\n",
       " 'authority',\n",
       " 'awarded',\n",
       " 'away',\n",
       " 'awkward',\n",
       " 'babies',\n",
       " 'baby',\n",
       " 'baby meth',\n",
       " 'baby meth instead',\n",
       " 'baby trump',\n",
       " 'baby trump balloon',\n",
       " 'backed',\n",
       " 'backed forces',\n",
       " 'backed forces syria',\n",
       " 'backers',\n",
       " 'backers got',\n",
       " 'backers got huge',\n",
       " 'bad',\n",
       " 'bailout',\n",
       " 'bailout farmers',\n",
       " 'balloon',\n",
       " 'ballot',\n",
       " 'ballots',\n",
       " 'baltimore',\n",
       " 'ban',\n",
       " 'bank',\n",
       " 'banned',\n",
       " 'bannon',\n",
       " 'bannon says',\n",
       " 'bannon says pelosi',\n",
       " 'barack',\n",
       " 'barack obama',\n",
       " 'barr',\n",
       " 'based',\n",
       " 'battle',\n",
       " 'beats',\n",
       " 'begin',\n",
       " 'begins',\n",
       " 'behar',\n",
       " 'behavior',\n",
       " 'behavior question',\n",
       " 'behavior question fitness',\n",
       " 'beliefs',\n",
       " 'believe',\n",
       " 'ben',\n",
       " 'ben shapiro',\n",
       " 'berlin',\n",
       " 'berlin wall',\n",
       " 'bernie',\n",
       " 'bernie sanders',\n",
       " 'bernie sanders 2020',\n",
       " 'bernie sanders president',\n",
       " 'best',\n",
       " 'beto',\n",
       " 'betrayal',\n",
       " 'better',\n",
       " 'bevin',\n",
       " 'bevin good',\n",
       " 'bevin good years',\n",
       " 'bianco',\n",
       " 'bid',\n",
       " 'bid end',\n",
       " 'bid end daca',\n",
       " 'biden',\n",
       " 'biden ukraine',\n",
       " 'big',\n",
       " 'big deal',\n",
       " 'biggest',\n",
       " 'billion',\n",
       " 'billionaire',\n",
       " 'billionaires',\n",
       " 'bills',\n",
       " 'bipartisan',\n",
       " 'bipartisan consensus',\n",
       " 'black',\n",
       " 'black leaders',\n",
       " 'black leaders fight',\n",
       " 'black voters',\n",
       " 'blackface',\n",
       " 'blackouts',\n",
       " 'blacks',\n",
       " 'blame',\n",
       " 'blames',\n",
       " 'blast',\n",
       " 'blasts',\n",
       " 'blasts trump',\n",
       " 'blexit',\n",
       " 'block',\n",
       " 'blocked',\n",
       " 'bloomberg',\n",
       " 'bloomberg presidential',\n",
       " 'blow',\n",
       " 'blue',\n",
       " 'blueprints',\n",
       " 'blueprints 3d',\n",
       " 'blueprints 3d printed',\n",
       " 'bogus',\n",
       " 'bolivia',\n",
       " 'bolton',\n",
       " 'bombshell',\n",
       " 'bond',\n",
       " 'book',\n",
       " 'booker',\n",
       " 'booker kentucky',\n",
       " 'border',\n",
       " 'border crisis',\n",
       " 'border wall',\n",
       " 'boss',\n",
       " 'boudin',\n",
       " 'brace',\n",
       " 'brain',\n",
       " 'brain sucking',\n",
       " 'brain sucking device',\n",
       " 'break',\n",
       " 'breaking',\n",
       " 'breitbart',\n",
       " 'bribery',\n",
       " 'briefing',\n",
       " 'brilliant',\n",
       " 'bring',\n",
       " 'brought',\n",
       " 'bubble',\n",
       " 'buckley',\n",
       " 'buckley jr',\n",
       " 'building',\n",
       " 'building wall',\n",
       " 'bunch',\n",
       " 'burisma',\n",
       " 'burns',\n",
       " 'business',\n",
       " 'busy',\n",
       " 'buttigieg',\n",
       " 'buttigieg joins',\n",
       " 'buttigieg joins tier',\n",
       " 'buybacks',\n",
       " 'ca',\n",
       " 'calculated',\n",
       " 'calculated coup',\n",
       " 'california',\n",
       " 'calling',\n",
       " 'calls',\n",
       " 'calls impeachment',\n",
       " 'campaign',\n",
       " 'campus',\n",
       " 'canadian',\n",
       " 'cancel',\n",
       " 'cancel culture',\n",
       " 'cancelled',\n",
       " 'cancels',\n",
       " 'cancels 21',\n",
       " 'cancels 21 gun',\n",
       " 'candidate',\n",
       " 'candidates',\n",
       " 'candidates new',\n",
       " 'candidates new iowa',\n",
       " 'capitalism',\n",
       " 'car',\n",
       " 'care',\n",
       " 'carlson',\n",
       " 'carolina',\n",
       " 'cartel',\n",
       " 'cartels',\n",
       " 'carter',\n",
       " 'case',\n",
       " 'case trump',\n",
       " 'caucus',\n",
       " 'caucusgoers',\n",
       " 'cbs',\n",
       " 'cbs news',\n",
       " 'cease',\n",
       " 'cease desist',\n",
       " 'census',\n",
       " 'center',\n",
       " 'center security',\n",
       " 'center security policy',\n",
       " 'ceo',\n",
       " 'challenge',\n",
       " 'challenger',\n",
       " 'chance',\n",
       " 'chang',\n",
       " 'change',\n",
       " 'changed',\n",
       " 'changes',\n",
       " 'chants',\n",
       " 'chants impeach',\n",
       " 'characters',\n",
       " 'characters lgbtq',\n",
       " 'characters lgbtq 2025',\n",
       " 'charge',\n",
       " 'charged',\n",
       " 'charged murder',\n",
       " 'charity',\n",
       " 'charles',\n",
       " 'charles booker',\n",
       " 'charles booker kentucky',\n",
       " 'check',\n",
       " 'cheers',\n",
       " 'chesa',\n",
       " 'chesa boudin',\n",
       " 'chicago',\n",
       " 'chief',\n",
       " 'chief says',\n",
       " 'chief staff',\n",
       " 'child',\n",
       " 'children',\n",
       " 'children custody',\n",
       " 'children custody 2019',\n",
       " 'children held',\n",
       " 'chile',\n",
       " 'china',\n",
       " 'china tariffs',\n",
       " 'china trade',\n",
       " 'chinese',\n",
       " 'choice',\n",
       " 'chopping',\n",
       " 'chopping baby',\n",
       " 'christians',\n",
       " 'ciaramella',\n",
       " 'circuit',\n",
       " 'cited',\n",
       " 'cites',\n",
       " 'cities',\n",
       " 'citizens',\n",
       " 'citizenship',\n",
       " 'city',\n",
       " 'city proposal',\n",
       " 'civility',\n",
       " 'claim',\n",
       " 'claimed',\n",
       " 'claims',\n",
       " 'class',\n",
       " 'clear',\n",
       " 'clears',\n",
       " 'clears way',\n",
       " 'clears way newtown',\n",
       " 'climate',\n",
       " 'climate change',\n",
       " 'clinics',\n",
       " 'clinton',\n",
       " 'clinton impeachment',\n",
       " 'clinton says',\n",
       " 'close',\n",
       " 'close podcast',\n",
       " 'close podcast deal',\n",
       " 'closed',\n",
       " 'closer',\n",
       " 'club',\n",
       " 'cnn',\n",
       " 'cold',\n",
       " 'college',\n",
       " 'colored',\n",
       " 'colored pencils',\n",
       " 'combat',\n",
       " 'combating',\n",
       " 'combating white',\n",
       " 'combating white supremacy',\n",
       " 'come',\n",
       " 'comes',\n",
       " 'coming',\n",
       " 'comment',\n",
       " 'commentary',\n",
       " 'comments',\n",
       " 'committed',\n",
       " 'committee',\n",
       " 'common',\n",
       " 'communism',\n",
       " 'communist',\n",
       " 'community',\n",
       " 'community inspector',\n",
       " 'community inspector general',\n",
       " 'companies',\n",
       " 'complained',\n",
       " 'complaint',\n",
       " 'complaint alleges',\n",
       " 'complaint alleges trump',\n",
       " 'complaint filed',\n",
       " 'completely',\n",
       " 'concerned',\n",
       " 'concerns',\n",
       " 'condemning',\n",
       " 'conditions',\n",
       " 'confederate',\n",
       " 'confederate statues',\n",
       " 'confirmed',\n",
       " 'confirms',\n",
       " 'confirms medicare',\n",
       " 'confirms medicare plan',\n",
       " 'confiscating',\n",
       " 'confiscating guns',\n",
       " 'confiscating guns law',\n",
       " 'confiscation',\n",
       " 'conflict',\n",
       " 'congress',\n",
       " 'congressional',\n",
       " 'congressional seat',\n",
       " 'congressman',\n",
       " 'consensus',\n",
       " 'conservatism',\n",
       " 'conservative',\n",
       " 'conservative values',\n",
       " 'conservatives',\n",
       " 'consider',\n",
       " 'considered',\n",
       " 'considered firing',\n",
       " 'considered firing intelligence',\n",
       " 'considers',\n",
       " 'conspiracies',\n",
       " 'conspiracy',\n",
       " 'constitution',\n",
       " 'construction',\n",
       " 'contract',\n",
       " 'control',\n",
       " 'convicted',\n",
       " 'conway',\n",
       " 'cooper',\n",
       " 'cooper rolls',\n",
       " 'cooper rolls tape',\n",
       " 'cops',\n",
       " 'corporate',\n",
       " 'corporate perjury',\n",
       " 'corporate perjury law',\n",
       " 'corrupt',\n",
       " 'corruption',\n",
       " 'cortez',\n",
       " 'cortés',\n",
       " 'cost',\n",
       " 'couldn',\n",
       " 'couldn afford',\n",
       " 'coulter',\n",
       " 'council',\n",
       " 'count',\n",
       " 'countries',\n",
       " 'country',\n",
       " 'county',\n",
       " 'county seized',\n",
       " 'county seized property',\n",
       " 'coup',\n",
       " 'coup obama',\n",
       " 'coup obama phony',\n",
       " 'coup started',\n",
       " 'course',\n",
       " 'court',\n",
       " 'court allows',\n",
       " 'court allows sandy',\n",
       " 'court clears',\n",
       " 'court clears way',\n",
       " 'court decision',\n",
       " 'court justices',\n",
       " 'court rules',\n",
       " 'court rules suspicionless',\n",
       " 'court stop',\n",
       " 'court stop trump',\n",
       " 'court trump',\n",
       " 'cover',\n",
       " 'cover illegals',\n",
       " 'cover legal',\n",
       " 'cover legal bills',\n",
       " 'coverage',\n",
       " 'coverup',\n",
       " 'create',\n",
       " 'created',\n",
       " 'created 14',\n",
       " 'created 14 million',\n",
       " 'created fake',\n",
       " 'created fake time',\n",
       " 'credible',\n",
       " 'creepy',\n",
       " 'crime',\n",
       " 'crimes',\n",
       " 'criminal',\n",
       " 'criminals',\n",
       " 'crisis',\n",
       " 'criticize',\n",
       " 'critics',\n",
       " 'crowd',\n",
       " 'cuban',\n",
       " 'culture',\n",
       " 'cummings',\n",
       " 'cummings announces',\n",
       " 'cummings run',\n",
       " 'cummings widow',\n",
       " 'cure',\n",
       " 'custody',\n",
       " 'custody 2019',\n",
       " 'cut',\n",
       " 'cycling',\n",
       " 'da',\n",
       " 'daca',\n",
       " 'daca case',\n",
       " 'daca protesters',\n",
       " 'daca recipients',\n",
       " 'daca recipients hardened',\n",
       " 'daca supreme',\n",
       " 'daca supreme court',\n",
       " 'danger',\n",
       " 'dangerous',\n",
       " 'dares',\n",
       " 'darkness',\n",
       " 'daughter',\n",
       " 'day',\n",
       " 'day parade',\n",
       " 'days',\n",
       " 'dc',\n",
       " 'dead',\n",
       " 'deal',\n",
       " 'deal news',\n",
       " 'deal news outlet',\n",
       " 'deal ukraine',\n",
       " 'dealings',\n",
       " 'death',\n",
       " 'debrief',\n",
       " 'debrief kushner',\n",
       " 'debt',\n",
       " 'decision',\n",
       " 'decision end',\n",
       " 'decision end daca',\n",
       " 'decisions',\n",
       " 'deep',\n",
       " 'deep state',\n",
       " 'deep state coup',\n",
       " 'deep state exists',\n",
       " 'defeated',\n",
       " 'defend',\n",
       " 'defend trump',\n",
       " 'defender',\n",
       " 'defending',\n",
       " 'defends',\n",
       " 'defense',\n",
       " 'defense trump',\n",
       " 'defenses',\n",
       " 'defer',\n",
       " 'delay',\n",
       " 'dem',\n",
       " 'demand',\n",
       " 'demanding',\n",
       " 'demands',\n",
       " 'democracy',\n",
       " 'democracy dies',\n",
       " 'democracy dies darkness',\n",
       " 'democrat',\n",
       " 'democratic',\n",
       " 'democratic candidates',\n",
       " 'democratic presidential',\n",
       " 'democratic primary',\n",
       " 'democrats',\n",
       " 'democrats explain',\n",
       " 'democrats explain impeachment',\n",
       " 'democrats impeachment',\n",
       " 'democrats release',\n",
       " 'dems',\n",
       " 'denies',\n",
       " 'department',\n",
       " 'department official',\n",
       " 'depends',\n",
       " 'deportation',\n",
       " 'deportations',\n",
       " 'deported',\n",
       " 'deporting',\n",
       " 'deposition',\n",
       " 'depositions',\n",
       " 'dept',\n",
       " 'dershowitz',\n",
       " 'desantis',\n",
       " 'deserve',\n",
       " 'desist',\n",
       " 'despite',\n",
       " 'destroy',\n",
       " 'destroying',\n",
       " 'destroys',\n",
       " 'details',\n",
       " 'detained',\n",
       " 'device',\n",
       " 'dhs',\n",
       " 'dictators',\n",
       " 'did',\n",
       " 'didn',\n",
       " 'died',\n",
       " 'dies',\n",
       " 'dies darkness',\n",
       " 'digital',\n",
       " 'dim',\n",
       " 'dinner',\n",
       " 'dinosaur',\n",
       " 'diplomat',\n",
       " 'directed',\n",
       " 'directed freeze',\n",
       " 'directed freeze aid',\n",
       " 'dirt',\n",
       " 'disaster',\n",
       " 'discussed',\n",
       " 'discussed ukraine',\n",
       " 'discussed ukraine trump',\n",
       " 'discussion',\n",
       " 'dismisses',\n",
       " 'dismisses thanksgiving',\n",
       " 'dismisses thanksgiving problematic',\n",
       " 'dismisses trump',\n",
       " 'dismisses trump lawsuit',\n",
       " 'district',\n",
       " 'district attorney',\n",
       " 'dna',\n",
       " 'documents',\n",
       " 'does',\n",
       " 'doesn',\n",
       " 'dog',\n",
       " 'dog whistles',\n",
       " 'dog whistles lawless',\n",
       " 'doing',\n",
       " 'doj',\n",
       " 'domestic',\n",
       " 'don',\n",
       " 'don trump',\n",
       " 'don trump jr',\n",
       " 'donald',\n",
       " 'donald trump',\n",
       " 'donald trump firm',\n",
       " 'donald trump jr',\n",
       " 'donations',\n",
       " 'donor',\n",
       " 'donor dinner',\n",
       " 'double',\n",
       " 'drag',\n",
       " 'draws',\n",
       " 'dreamers',\n",
       " 'drive',\n",
       " 'dropped',\n",
       " 'drops',\n",
       " 'drops 2020',\n",
       " 'drops presidential',\n",
       " 'drug',\n",
       " 'drug legalization',\n",
       " 'drug legalization hugs',\n",
       " 'duckworth',\n",
       " 'dumb',\n",
       " 'dump',\n",
       " 'dump pence',\n",
       " 'dump pence haley',\n",
       " 'dumped',\n",
       " 'durham',\n",
       " 'early',\n",
       " 'early voting',\n",
       " 'earth',\n",
       " 'east',\n",
       " 'east germany',\n",
       " 'echoes',\n",
       " 'economic',\n",
       " 'economy',\n",
       " 'education',\n",
       " 'effort',\n",
       " 'elected',\n",
       " 'election',\n",
       " 'election results',\n",
       " 'elections',\n",
       " 'elijah',\n",
       " 'elijah cummings',\n",
       " 'elijah cummings run',\n",
       " 'elijah cummings widow',\n",
       " 'elites',\n",
       " 'elizabeth',\n",
       " 'elizabeth warren',\n",
       " 'elizabeth warren confirms',\n",
       " 'elizabeth warren wants',\n",
       " 'email',\n",
       " 'emails',\n",
       " 'emails breitbart',\n",
       " 'emails stephen',\n",
       " 'emails stephen miller',\n",
       " 'embellished',\n",
       " 'embellished resume',\n",
       " 'emergency',\n",
       " 'emphasizing',\n",
       " 'empire',\n",
       " 'employee',\n",
       " 'employees',\n",
       " 'end',\n",
       " 'end daca',\n",
       " 'endorsement',\n",
       " 'endorses',\n",
       " 'endorses bernie',\n",
       " 'endorses bernie sanders',\n",
       " 'ends',\n",
       " 'energy',\n",
       " 'enter',\n",
       " 'enter 2020',\n",
       " 'entire',\n",
       " 'epa',\n",
       " 'epstein',\n",
       " 'epstein coverup',\n",
       " 'epstein tape',\n",
       " 'epstein weinstein',\n",
       " 'epstein weinstein kavanaugh',\n",
       " 'erdogan',\n",
       " 'erdoğan',\n",
       " 'eric',\n",
       " 'eric ciaramella',\n",
       " 'eric holder',\n",
       " 'essential',\n",
       " 'essentially',\n",
       " 'europe',\n",
       " 'european',\n",
       " 'event',\n",
       " 'evidence',\n",
       " 'ex',\n",
       " 'ex felons',\n",
       " 'executive',\n",
       " 'exists',\n",
       " 'exists corrupt',\n",
       " 'expand',\n",
       " 'expect',\n",
       " 'expected',\n",
       " 'expert',\n",
       " 'experts',\n",
       " 'explain',\n",
       " 'explain impeachment',\n",
       " 'explain impeachment farce',\n",
       " 'expose',\n",
       " 'exposes',\n",
       " 'exxon',\n",
       " 'eyes',\n",
       " 'face',\n",
       " 'face limits',\n",
       " 'face limits power',\n",
       " 'facebook',\n",
       " 'facebook removes',\n",
       " 'faces',\n",
       " 'facing',\n",
       " 'fact',\n",
       " 'fail',\n",
       " 'failed',\n",
       " 'fails',\n",
       " 'failures',\n",
       " 'fair',\n",
       " 'fake',\n",
       " 'fake time',\n",
       " 'fake time cover',\n",
       " 'fake time magazine',\n",
       " 'faked',\n",
       " 'faked time',\n",
       " 'fall',\n",
       " 'fall berlin',\n",
       " 'fall berlin wall',\n",
       " 'falls',\n",
       " 'false',\n",
       " 'familiar',\n",
       " 'families',\n",
       " 'families sue',\n",
       " 'families sue ar',\n",
       " 'families sue remington',\n",
       " 'family',\n",
       " 'family idea',\n",
       " 'far',\n",
       " 'far left',\n",
       " 'far right',\n",
       " 'farce',\n",
       " 'farmers',\n",
       " 'fast',\n",
       " 'fbi',\n",
       " 'fear',\n",
       " 'fear trump',\n",
       " 'fears',\n",
       " 'federal',\n",
       " 'federal agencies',\n",
       " 'federal court',\n",
       " 'federal court rules',\n",
       " 'federal judge',\n",
       " 'feds',\n",
       " 'fellow',\n",
       " 'felons',\n",
       " 'female',\n",
       " 'feminist',\n",
       " 'field',\n",
       " 'field iowa',\n",
       " 'fight',\n",
       " 'fight conservative',\n",
       " 'fight conservative values',\n",
       " 'figures',\n",
       " 'file',\n",
       " 'filed',\n",
       " 'filled',\n",
       " 'film',\n",
       " 'finally',\n",
       " 'finding',\n",
       " 'finds',\n",
       " 'fired',\n",
       " 'fires',\n",
       " 'firing',\n",
       " 'firing intelligence',\n",
       " 'firing intelligence community',\n",
       " 'firm',\n",
       " 'firm pay',\n",
       " 'firm pay 225',\n",
       " 'fiscally',\n",
       " 'fitness',\n",
       " 'fitness office',\n",
       " 'fix',\n",
       " 'fled',\n",
       " 'fleeing',\n",
       " 'florida',\n",
       " 'flynn',\n",
       " 'focus',\n",
       " 'focus trump',\n",
       " 'follow',\n",
       " 'food',\n",
       " 'food holiday',\n",
       " 'food holiday mocks',\n",
       " 'forces',\n",
       " 'forces syria',\n",
       " 'foreign',\n",
       " 'foreign policy',\n",
       " 'forward',\n",
       " 'foundation',\n",
       " 'fox',\n",
       " 'fox news',\n",
       " 'fox news legal',\n",
       " 'francisco',\n",
       " 'francisco new',\n",
       " 'francisco new da',\n",
       " 'fraud',\n",
       " 'free',\n",
       " 'free speech',\n",
       " 'freedom',\n",
       " 'frees',\n",
       " 'freeze',\n",
       " 'freeze aid',\n",
       " 'freeze aid ukraine',\n",
       " 'friday',\n",
       " 'fumes',\n",
       " 'funded',\n",
       " 'funds',\n",
       " 'future',\n",
       " 'gabbard',\n",
       " 'game',\n",
       " 'gap',\n",
       " 'garbage',\n",
       " 'gas',\n",
       " 'gas deal',\n",
       " 'gas deal ukraine',\n",
       " 'gates',\n",
       " 'gates says',\n",
       " 'gave',\n",
       " 'gender',\n",
       " 'gender inclusive',\n",
       " 'general',\n",
       " 'george',\n",
       " 'george kent',\n",
       " 'germany',\n",
       " 'gets',\n",
       " 'getting',\n",
       " 'gingrich',\n",
       " 'girl',\n",
       " 'giuliani',\n",
       " 'giuliani associate',\n",
       " 'giuliani associate said',\n",
       " 'giuliani close',\n",
       " 'giuliani close podcast',\n",
       " 'gives',\n",
       " 'giving',\n",
       " 'glaad',\n",
       " 'glaad want',\n",
       " 'glaad want 20',\n",
       " ...]"
      ]
     },
     "execution_count": 90,
     "metadata": {},
     "output_type": "execute_result"
    }
   ],
   "source": [
    "vocab"
   ]
  },
  {
   "cell_type": "markdown",
   "metadata": {},
   "source": [
    "### Modeling"
   ]
  },
  {
   "cell_type": "code",
   "execution_count": 82,
   "metadata": {
    "ExecuteTime": {
     "end_time": "2019-11-13T14:49:38.961455Z",
     "start_time": "2019-11-13T14:49:38.958915Z"
    }
   },
   "outputs": [],
   "source": [
    "lr = LogisticRegression(penalty = 'l2')"
   ]
  },
  {
   "cell_type": "code",
   "execution_count": 83,
   "metadata": {
    "ExecuteTime": {
     "end_time": "2019-11-13T14:49:39.369616Z",
     "start_time": "2019-11-13T14:49:39.366141Z"
    }
   },
   "outputs": [
    {
     "data": {
      "text/plain": [
       "((1317, 5000), (1317,))"
      ]
     },
     "execution_count": 83,
     "metadata": {},
     "output_type": "execute_result"
    }
   ],
   "source": [
    "train_data_features.shape, y_train.shape"
   ]
  },
  {
   "cell_type": "code",
   "execution_count": 84,
   "metadata": {
    "ExecuteTime": {
     "end_time": "2019-11-13T14:49:39.848943Z",
     "start_time": "2019-11-13T14:49:39.766254Z"
    }
   },
   "outputs": [
    {
     "name": "stderr",
     "output_type": "stream",
     "text": [
      "//anaconda3/lib/python3.7/site-packages/sklearn/linear_model/logistic.py:432: FutureWarning: Default solver will be changed to 'lbfgs' in 0.22. Specify a solver to silence this warning.\n",
      "  FutureWarning)\n"
     ]
    },
    {
     "data": {
      "text/plain": [
       "0.9832953682611997"
      ]
     },
     "execution_count": 84,
     "metadata": {},
     "output_type": "execute_result"
    }
   ],
   "source": [
    "lr.fit(train_data_features, y_train)\n",
    "\n",
    "lr.score(train_data_features, y_train)"
   ]
  },
  {
   "cell_type": "code",
   "execution_count": 85,
   "metadata": {
    "ExecuteTime": {
     "end_time": "2019-11-13T14:49:40.335360Z",
     "start_time": "2019-11-13T14:49:40.330002Z"
    }
   },
   "outputs": [
    {
     "data": {
      "text/plain": [
       "0.759090909090909"
      ]
     },
     "execution_count": 85,
     "metadata": {},
     "output_type": "execute_result"
    }
   ],
   "source": [
    "lr.score(test_data_features, y_test)"
   ]
  },
  {
   "cell_type": "code",
   "execution_count": 86,
   "metadata": {
    "ExecuteTime": {
     "end_time": "2019-11-13T14:49:40.915359Z",
     "start_time": "2019-11-13T14:49:40.912321Z"
    }
   },
   "outputs": [],
   "source": [
    "coef_list = lr.coef_.tolist()\n",
    "\n",
    "coef_list = coef_list[0]"
   ]
  },
  {
   "cell_type": "code",
   "execution_count": 87,
   "metadata": {
    "ExecuteTime": {
     "end_time": "2019-11-13T14:49:41.447515Z",
     "start_time": "2019-11-13T14:49:41.428522Z"
    },
    "scrolled": true
   },
   "outputs": [
    {
     "data": {
      "text/html": [
       "<div>\n",
       "<style scoped>\n",
       "    .dataframe tbody tr th:only-of-type {\n",
       "        vertical-align: middle;\n",
       "    }\n",
       "\n",
       "    .dataframe tbody tr th {\n",
       "        vertical-align: top;\n",
       "    }\n",
       "\n",
       "    .dataframe thead th {\n",
       "        text-align: right;\n",
       "    }\n",
       "</style>\n",
       "<table border=\"1\" class=\"dataframe\">\n",
       "  <thead>\n",
       "    <tr style=\"text-align: right;\">\n",
       "      <th></th>\n",
       "      <th>features</th>\n",
       "      <th>coefs</th>\n",
       "    </tr>\n",
       "  </thead>\n",
       "  <tbody>\n",
       "    <tr>\n",
       "      <th>4911</th>\n",
       "      <td>whistleblower</td>\n",
       "      <td>-1.435943</td>\n",
       "    </tr>\n",
       "    <tr>\n",
       "      <th>246</th>\n",
       "      <td>baby</td>\n",
       "      <td>-1.063966</td>\n",
       "    </tr>\n",
       "    <tr>\n",
       "      <th>4331</th>\n",
       "      <td>schiff</td>\n",
       "      <td>-1.015560</td>\n",
       "    </tr>\n",
       "    <tr>\n",
       "      <th>750</th>\n",
       "      <td>don</td>\n",
       "      <td>-0.946161</td>\n",
       "    </tr>\n",
       "    <tr>\n",
       "      <th>123</th>\n",
       "      <td>alabama</td>\n",
       "      <td>-0.945555</td>\n",
       "    </tr>\n",
       "    <tr>\n",
       "      <th>61</th>\n",
       "      <td>abc</td>\n",
       "      <td>-0.924069</td>\n",
       "    </tr>\n",
       "    <tr>\n",
       "      <th>283</th>\n",
       "      <td>believe</td>\n",
       "      <td>-0.921617</td>\n",
       "    </tr>\n",
       "    <tr>\n",
       "      <th>540</th>\n",
       "      <td>conservatives</td>\n",
       "      <td>-0.917928</td>\n",
       "    </tr>\n",
       "    <tr>\n",
       "      <th>679</th>\n",
       "      <td>democrat</td>\n",
       "      <td>-0.869766</td>\n",
       "    </tr>\n",
       "    <tr>\n",
       "      <th>1305</th>\n",
       "      <td>jr</td>\n",
       "      <td>-0.858367</td>\n",
       "    </tr>\n",
       "    <tr>\n",
       "      <th>122</th>\n",
       "      <td>al</td>\n",
       "      <td>-0.856261</td>\n",
       "    </tr>\n",
       "    <tr>\n",
       "      <th>1411</th>\n",
       "      <td>liberal</td>\n",
       "      <td>-0.831371</td>\n",
       "    </tr>\n",
       "    <tr>\n",
       "      <th>1474</th>\n",
       "      <td>man</td>\n",
       "      <td>-0.829902</td>\n",
       "    </tr>\n",
       "    <tr>\n",
       "      <th>826</th>\n",
       "      <td>epstein</td>\n",
       "      <td>-0.820225</td>\n",
       "    </tr>\n",
       "    <tr>\n",
       "      <th>2489</th>\n",
       "      <td>obama</td>\n",
       "      <td>-0.803346</td>\n",
       "    </tr>\n",
       "    <tr>\n",
       "      <th>923</th>\n",
       "      <td>fired</td>\n",
       "      <td>-0.763473</td>\n",
       "    </tr>\n",
       "    <tr>\n",
       "      <th>4973</th>\n",
       "      <td>world</td>\n",
       "      <td>-0.763071</td>\n",
       "    </tr>\n",
       "    <tr>\n",
       "      <th>1194</th>\n",
       "      <td>immigration</td>\n",
       "      <td>-0.740984</td>\n",
       "    </tr>\n",
       "    <tr>\n",
       "      <th>1045</th>\n",
       "      <td>gun</td>\n",
       "      <td>-0.733401</td>\n",
       "    </tr>\n",
       "    <tr>\n",
       "      <th>4178</th>\n",
       "      <td>right</td>\n",
       "      <td>-0.731450</td>\n",
       "    </tr>\n",
       "    <tr>\n",
       "      <th>4636</th>\n",
       "      <td>tillerson</td>\n",
       "      <td>-0.700033</td>\n",
       "    </tr>\n",
       "    <tr>\n",
       "      <th>833</th>\n",
       "      <td>eric</td>\n",
       "      <td>-0.673676</td>\n",
       "    </tr>\n",
       "    <tr>\n",
       "      <th>1392</th>\n",
       "      <td>left</td>\n",
       "      <td>-0.673050</td>\n",
       "    </tr>\n",
       "    <tr>\n",
       "      <th>2444</th>\n",
       "      <td>numbers</td>\n",
       "      <td>-0.668144</td>\n",
       "    </tr>\n",
       "    <tr>\n",
       "      <th>1248</th>\n",
       "      <td>interesting</td>\n",
       "      <td>-0.666605</td>\n",
       "    </tr>\n",
       "    <tr>\n",
       "      <th>1347</th>\n",
       "      <td>labels</td>\n",
       "      <td>-0.665644</td>\n",
       "    </tr>\n",
       "    <tr>\n",
       "      <th>4721</th>\n",
       "      <td>trump jr</td>\n",
       "      <td>-0.664569</td>\n",
       "    </tr>\n",
       "    <tr>\n",
       "      <th>1472</th>\n",
       "      <td>makes</td>\n",
       "      <td>-0.661049</td>\n",
       "    </tr>\n",
       "    <tr>\n",
       "      <th>4473</th>\n",
       "      <td>staffer</td>\n",
       "      <td>-0.658588</td>\n",
       "    </tr>\n",
       "    <tr>\n",
       "      <th>4660</th>\n",
       "      <td>transparency</td>\n",
       "      <td>-0.658012</td>\n",
       "    </tr>\n",
       "    <tr>\n",
       "      <th>...</th>\n",
       "      <td>...</td>\n",
       "      <td>...</td>\n",
       "    </tr>\n",
       "    <tr>\n",
       "      <th>157</th>\n",
       "      <td>america</td>\n",
       "      <td>0.773342</td>\n",
       "    </tr>\n",
       "    <tr>\n",
       "      <th>533</th>\n",
       "      <td>congressional</td>\n",
       "      <td>0.773819</td>\n",
       "    </tr>\n",
       "    <tr>\n",
       "      <th>2592</th>\n",
       "      <td>official</td>\n",
       "      <td>0.774571</td>\n",
       "    </tr>\n",
       "    <tr>\n",
       "      <th>1373</th>\n",
       "      <td>lawsuit</td>\n",
       "      <td>0.775644</td>\n",
       "    </tr>\n",
       "    <tr>\n",
       "      <th>607</th>\n",
       "      <td>crime</td>\n",
       "      <td>0.782527</td>\n",
       "    </tr>\n",
       "    <tr>\n",
       "      <th>1415</th>\n",
       "      <td>lie</td>\n",
       "      <td>0.791651</td>\n",
       "    </tr>\n",
       "    <tr>\n",
       "      <th>4324</th>\n",
       "      <td>says</td>\n",
       "      <td>0.795100</td>\n",
       "    </tr>\n",
       "    <tr>\n",
       "      <th>2789</th>\n",
       "      <td>primary</td>\n",
       "      <td>0.797461</td>\n",
       "    </tr>\n",
       "    <tr>\n",
       "      <th>3200</th>\n",
       "      <td>race</td>\n",
       "      <td>0.808554</td>\n",
       "    </tr>\n",
       "    <tr>\n",
       "      <th>1258</th>\n",
       "      <td>iowa</td>\n",
       "      <td>0.810098</td>\n",
       "    </tr>\n",
       "    <tr>\n",
       "      <th>206</th>\n",
       "      <td>argument</td>\n",
       "      <td>0.817348</td>\n",
       "    </tr>\n",
       "    <tr>\n",
       "      <th>1485</th>\n",
       "      <td>matter</td>\n",
       "      <td>0.828604</td>\n",
       "    </tr>\n",
       "    <tr>\n",
       "      <th>912</th>\n",
       "      <td>fight</td>\n",
       "      <td>0.833744</td>\n",
       "    </tr>\n",
       "    <tr>\n",
       "      <th>2626</th>\n",
       "      <td>officials</td>\n",
       "      <td>0.856793</td>\n",
       "    </tr>\n",
       "    <tr>\n",
       "      <th>1949</th>\n",
       "      <td>mulvaney</td>\n",
       "      <td>0.859799</td>\n",
       "    </tr>\n",
       "    <tr>\n",
       "      <th>1038</th>\n",
       "      <td>group</td>\n",
       "      <td>0.873188</td>\n",
       "    </tr>\n",
       "    <tr>\n",
       "      <th>371</th>\n",
       "      <td>buttigieg</td>\n",
       "      <td>0.890815</td>\n",
       "    </tr>\n",
       "    <tr>\n",
       "      <th>338</th>\n",
       "      <td>bolton</td>\n",
       "      <td>0.908715</td>\n",
       "    </tr>\n",
       "    <tr>\n",
       "      <th>1306</th>\n",
       "      <td>judge</td>\n",
       "      <td>0.923831</td>\n",
       "    </tr>\n",
       "    <tr>\n",
       "      <th>4657</th>\n",
       "      <td>transcript</td>\n",
       "      <td>0.934936</td>\n",
       "    </tr>\n",
       "    <tr>\n",
       "      <th>4778</th>\n",
       "      <td>ukraine</td>\n",
       "      <td>0.959472</td>\n",
       "    </tr>\n",
       "    <tr>\n",
       "      <th>3844</th>\n",
       "      <td>republican</td>\n",
       "      <td>0.997071</td>\n",
       "    </tr>\n",
       "    <tr>\n",
       "      <th>532</th>\n",
       "      <td>congress</td>\n",
       "      <td>1.027394</td>\n",
       "    </tr>\n",
       "    <tr>\n",
       "      <th>644</th>\n",
       "      <td>deal</td>\n",
       "      <td>1.031394</td>\n",
       "    </tr>\n",
       "    <tr>\n",
       "      <th>1087</th>\n",
       "      <td>hearings</td>\n",
       "      <td>1.112216</td>\n",
       "    </tr>\n",
       "    <tr>\n",
       "      <th>831</th>\n",
       "      <td>erdogan</td>\n",
       "      <td>1.120954</td>\n",
       "    </tr>\n",
       "    <tr>\n",
       "      <th>4306</th>\n",
       "      <td>sanders</td>\n",
       "      <td>1.192334</td>\n",
       "    </tr>\n",
       "    <tr>\n",
       "      <th>990</th>\n",
       "      <td>giuliani</td>\n",
       "      <td>1.251547</td>\n",
       "    </tr>\n",
       "    <tr>\n",
       "      <th>1201</th>\n",
       "      <td>impeachment</td>\n",
       "      <td>1.279713</td>\n",
       "    </tr>\n",
       "    <tr>\n",
       "      <th>4674</th>\n",
       "      <td>trump</td>\n",
       "      <td>1.425576</td>\n",
       "    </tr>\n",
       "  </tbody>\n",
       "</table>\n",
       "<p>5000 rows × 2 columns</p>\n",
       "</div>"
      ],
      "text/plain": [
       "           features     coefs\n",
       "4911  whistleblower -1.435943\n",
       "246            baby -1.063966\n",
       "4331         schiff -1.015560\n",
       "750             don -0.946161\n",
       "123         alabama -0.945555\n",
       "61              abc -0.924069\n",
       "283         believe -0.921617\n",
       "540   conservatives -0.917928\n",
       "679        democrat -0.869766\n",
       "1305             jr -0.858367\n",
       "122              al -0.856261\n",
       "1411        liberal -0.831371\n",
       "1474            man -0.829902\n",
       "826         epstein -0.820225\n",
       "2489          obama -0.803346\n",
       "923           fired -0.763473\n",
       "4973          world -0.763071\n",
       "1194    immigration -0.740984\n",
       "1045            gun -0.733401\n",
       "4178          right -0.731450\n",
       "4636      tillerson -0.700033\n",
       "833            eric -0.673676\n",
       "1392           left -0.673050\n",
       "2444        numbers -0.668144\n",
       "1248    interesting -0.666605\n",
       "1347         labels -0.665644\n",
       "4721       trump jr -0.664569\n",
       "1472          makes -0.661049\n",
       "4473        staffer -0.658588\n",
       "4660   transparency -0.658012\n",
       "...             ...       ...\n",
       "157         america  0.773342\n",
       "533   congressional  0.773819\n",
       "2592       official  0.774571\n",
       "1373        lawsuit  0.775644\n",
       "607           crime  0.782527\n",
       "1415            lie  0.791651\n",
       "4324           says  0.795100\n",
       "2789        primary  0.797461\n",
       "3200           race  0.808554\n",
       "1258           iowa  0.810098\n",
       "206        argument  0.817348\n",
       "1485         matter  0.828604\n",
       "912           fight  0.833744\n",
       "2626      officials  0.856793\n",
       "1949       mulvaney  0.859799\n",
       "1038          group  0.873188\n",
       "371       buttigieg  0.890815\n",
       "338          bolton  0.908715\n",
       "1306          judge  0.923831\n",
       "4657     transcript  0.934936\n",
       "4778        ukraine  0.959472\n",
       "3844     republican  0.997071\n",
       "532        congress  1.027394\n",
       "644            deal  1.031394\n",
       "1087       hearings  1.112216\n",
       "831         erdogan  1.120954\n",
       "4306        sanders  1.192334\n",
       "990        giuliani  1.251547\n",
       "1201    impeachment  1.279713\n",
       "4674          trump  1.425576\n",
       "\n",
       "[5000 rows x 2 columns]"
      ]
     },
     "execution_count": 87,
     "metadata": {},
     "output_type": "execute_result"
    }
   ],
   "source": [
    "coef_df = pd.DataFrame({'features' : vectorizer.get_feature_names(),\n",
    "                       'coefs' : coef_list})\n",
    "\n",
    "coef_df.sort_values(by = ['coefs'])"
   ]
  },
  {
   "cell_type": "markdown",
   "metadata": {},
   "source": [
    "# Understanding word vectors"
   ]
  },
  {
   "cell_type": "markdown",
   "metadata": {},
   "source": [
    "... for, like, actual poets. By [Allison Parrish](http://www.decontextualize.com/)\n",
    "\n",
    "\n",
    "## Why word vectors?\n",
    "\n",
    "Poetry is, at its core, the art of identifying and manipulating linguistic similarity. I have discovered a truly marvelous proof of this, which this notebook is too narrow to contain. (By which I mean: I will elaborate on this some other time)"
   ]
  },
  {
   "cell_type": "markdown",
   "metadata": {},
   "source": [
    "## Animal similarity and simple linear algebra\n",
    "\n",
    "We'll begin by considering a small subset of English: words for animals. Our task is to be able to write computer programs to find similarities among these words and the creatures they designate. To do this, we might start by making a spreadsheet of some animals and their characteristics. For example:\n",
    "\n",
    "![Animal spreadsheet](http://static.decontextualize.com/snaps/animal-spreadsheet.png)\n",
    "\n",
    "This spreadsheet associates a handful of animals with two numbers: their cuteness and their size, both in a range from zero to one hundred. (The values themselves are simply based on my own judgment. Your taste in cuteness and evaluation of size may differ significantly from mine. As with all data, these data are simply a mirror reflection of the person who collected them.)\n",
    "\n",
    "These values give us everything we need to make determinations about which animals are similar (at least, similar in the properties that we've included in the data). Try to answer the following question: Which animal is most similar to a capybara? You could go through the values one by one and do the math to make that evaluation, but visualizing the data as points in 2-dimensional space makes finding the answer very intuitive:\n",
    "\n",
    "![Animal space](http://static.decontextualize.com/snaps/animal-space.png)\n",
    "\n",
    "The plot shows us that the closest animal to the capybara is the panda bear (again, in terms of its subjective size and cuteness). One way of calculating how \"far apart\" two points are is to find their *Euclidean distance*. (This is simply the length of the line that connects the two points.) For points in two dimensions, Euclidean distance can be calculated with the following Python function:"
   ]
  },
  {
   "cell_type": "code",
   "execution_count": 91,
   "metadata": {
    "ExecuteTime": {
     "end_time": "2019-11-13T15:30:03.497081Z",
     "start_time": "2019-11-13T15:30:03.494013Z"
    }
   },
   "outputs": [],
   "source": [
    "import numpy as np\n",
    "def distance2d(x1, y1, x2, y2):\n",
    "    return np.linalg.norm(np.array([x1, y1])-np.array([x2, y2]))"
   ]
  },
  {
   "cell_type": "markdown",
   "metadata": {},
   "source": [
    "So, the distance between \"capybara\" (70, 30) and \"panda\" (74, 40):"
   ]
  },
  {
   "cell_type": "code",
   "execution_count": 92,
   "metadata": {
    "ExecuteTime": {
     "end_time": "2019-11-13T15:30:04.463888Z",
     "start_time": "2019-11-13T15:30:04.460160Z"
    }
   },
   "outputs": [
    {
     "data": {
      "text/plain": [
       "11.180339887498949"
      ]
     },
     "execution_count": 92,
     "metadata": {},
     "output_type": "execute_result"
    }
   ],
   "source": [
    "distance2d(70, 30, 75, 40) # panda and capybara"
   ]
  },
  {
   "cell_type": "markdown",
   "metadata": {},
   "source": [
    "... is less than the distance between \"tarantula\" and \"elephant\":"
   ]
  },
  {
   "cell_type": "code",
   "execution_count": 93,
   "metadata": {
    "ExecuteTime": {
     "end_time": "2019-11-13T15:30:05.320307Z",
     "start_time": "2019-11-13T15:30:05.316665Z"
    }
   },
   "outputs": [
    {
     "data": {
      "text/plain": [
       "104.0096149401583"
      ]
     },
     "execution_count": 93,
     "metadata": {},
     "output_type": "execute_result"
    }
   ],
   "source": [
    "distance2d(8, 3, 65, 90) # tarantula and elephant"
   ]
  },
  {
   "cell_type": "markdown",
   "metadata": {},
   "source": [
    "Modeling animals in this way has a few other interesting properties. For example, you can pick an arbitrary point in \"animal space\" and then find the animal closest to that point. If you imagine an animal of size 25 and cuteness 30, you can easily look at the space to find the animal that most closely fits that description: the chicken.\n",
    "\n",
    "Reasoning visually, you can also answer questions like: what's halfway between a chicken and an elephant? Simply draw a line from \"elephant\" to \"chicken,\" mark off the midpoint and find the closest animal. (According to our chart, halfway between an elephant and a chicken is a horse.)\n",
    "\n",
    "You can also ask: what's the *difference* between a hamster and a tarantula? According to our plot, it's about seventy five units of cute (and a few units of size).\n",
    "\n",
    "The relationship of \"difference\" is an interesting one, because it allows us to reason about *analogous* relationships. In the chart below, I've drawn an arrow from \"tarantula\" to \"hamster\" (in blue):\n",
    "\n",
    "![Animal analogy](http://static.decontextualize.com/snaps/animal-space-analogy.png)\n",
    "\n",
    "You can understand this arrow as being the *relationship* between a tarantula and a hamster, in terms of their size and cuteness (i.e., hamsters and tarantulas are about the same size, but hamsters are much cuter). In the same diagram, I've also transposed this same arrow (this time in red) so that its origin point is \"chicken.\" The arrow ends closest to \"kitten.\" What we've discovered is that the animal that is about the same size as a chicken but much cuter is... a kitten. To put it in terms of an analogy:\n",
    "\n",
    "    Tarantulas are to hamsters as chickens are to kittens.\n",
    "    \n",
    "A sequence of numbers used to identify a point is called a *vector*, and the kind of math we've been doing so far is called *linear algebra.* (Linear algebra is surprisingly useful across many domains: It's the same kind of math you might do to, e.g., simulate the velocity and acceleration of a sprite in a video game.)\n",
    "\n",
    "A set of vectors that are all part of the same data set is often called a *vector space*. The vector space of animals in this section has two *dimensions*, by which I mean that each vector in the space has two numbers associated with it (i.e., two columns in the spreadsheet). The fact that this space has two dimensions just happens to make it easy to *visualize* the space by drawing a 2D plot. But most vector spaces you'll work with will have more than two dimensions—sometimes many hundreds. In those cases, it's more difficult to visualize the \"space,\" but the math works pretty much the same."
   ]
  },
  {
   "cell_type": "markdown",
   "metadata": {},
   "source": [
    "## Language with vectors: colors\n",
    "\n",
    "So far, so good. We have a system in place—albeit highly subjective—for talking about animals and the words used to name them. I want to talk about another vector space that has to do with language: the vector space of colors.\n",
    "\n",
    "Colors are often represented in computers as vectors with three dimensions: red, green, and blue. Just as with the animals in the previous section, we can use these vectors to answer questions like: which colors are similar? What's the most likely color name for an arbitrarily chosen set of values for red, green and blue? Given the names of two colors, what's the name of those colors' \"average\"?\n",
    "\n",
    "We'll be working with this [color data](https://github.com/dariusk/corpora/blob/master/data/colors/xkcd.json) from the [xkcd color survey](https://blog.xkcd.com/2010/05/03/color-survey-results/). The data relates a color name to the RGB value associated with that color. [Here's a page that shows what the colors look like](https://xkcd.com/color/rgb/). Download the color data and put it in the same directory as this notebook.\n",
    "\n",
    "A few notes before we proceed:\n",
    "\n",
    "* The linear algebra functions implemented below (`addv`, `meanv`, etc.) are slow, potentially inaccurate, and shouldn't be used for \"real\" code—I wrote them so beginner programmers can understand how these kinds of functions work behind the scenes. Use [numpy](http://www.numpy.org/) for fast and accurate math in Python.\n",
    "* If you're interested in perceptually accurate color math in Python, consider using the [colormath library](http://python-colormath.readthedocs.io/en/latest/).\n",
    "\n",
    "Now, import the `json` library and load the color data:"
   ]
  },
  {
   "cell_type": "code",
   "execution_count": 2,
   "metadata": {
    "ExecuteTime": {
     "end_time": "2019-11-17T00:25:58.524045Z",
     "start_time": "2019-11-17T00:25:58.521740Z"
    }
   },
   "outputs": [],
   "source": [
    "import requests"
   ]
  },
  {
   "cell_type": "code",
   "execution_count": 3,
   "metadata": {
    "ExecuteTime": {
     "end_time": "2019-11-17T00:25:59.070618Z",
     "start_time": "2019-11-17T00:25:58.962682Z"
    }
   },
   "outputs": [],
   "source": [
    "resp = requests.get('https://raw.githubusercontent.com/dariusk/corpora/master/data/colors/xkcd.json')\n",
    "color_data = resp.json()"
   ]
  },
  {
   "cell_type": "markdown",
   "metadata": {},
   "source": [
    "The following function converts colors from hex format (`#1a2b3c`) to a tuple of integers:"
   ]
  },
  {
   "cell_type": "code",
   "execution_count": 4,
   "metadata": {
    "ExecuteTime": {
     "end_time": "2019-11-17T00:25:59.866622Z",
     "start_time": "2019-11-17T00:25:59.863310Z"
    }
   },
   "outputs": [],
   "source": [
    "def hex_to_int(s):\n",
    "    return int(s[1:3], 16), int(s[3:5], 16), int(s[5:7], 16)"
   ]
  },
  {
   "cell_type": "markdown",
   "metadata": {},
   "source": [
    "And the following cell creates a dictionary and populates it with mappings from color names to RGB vectors for each color in the data:"
   ]
  },
  {
   "cell_type": "code",
   "execution_count": 5,
   "metadata": {
    "ExecuteTime": {
     "end_time": "2019-11-17T00:26:00.852324Z",
     "start_time": "2019-11-17T00:26:00.847492Z"
    }
   },
   "outputs": [],
   "source": [
    "colors = dict()\n",
    "for item in color_data['colors']:\n",
    "    colors[item[\"color\"]] = hex_to_int(item[\"hex\"])"
   ]
  },
  {
   "cell_type": "markdown",
   "metadata": {},
   "source": [
    "Testing it out:"
   ]
  },
  {
   "cell_type": "code",
   "execution_count": 7,
   "metadata": {
    "ExecuteTime": {
     "end_time": "2019-11-17T00:26:07.870374Z",
     "start_time": "2019-11-17T00:26:07.826164Z"
    }
   },
   "outputs": [
    {
     "data": {
      "text/plain": [
       "{'cloudy blue': (172, 194, 217),\n",
       " 'dark pastel green': (86, 174, 87),\n",
       " 'dust': (178, 153, 110),\n",
       " 'electric lime': (168, 255, 4),\n",
       " 'fresh green': (105, 216, 79),\n",
       " 'light eggplant': (137, 69, 133),\n",
       " 'nasty green': (112, 178, 63),\n",
       " 'really light blue': (212, 255, 255),\n",
       " 'tea': (101, 171, 124),\n",
       " 'warm purple': (149, 46, 143),\n",
       " 'yellowish tan': (252, 252, 129),\n",
       " 'cement': (165, 163, 145),\n",
       " 'dark grass green': (56, 128, 4),\n",
       " 'dusty teal': (76, 144, 133),\n",
       " 'grey teal': (94, 155, 138),\n",
       " 'macaroni and cheese': (239, 180, 53),\n",
       " 'pinkish tan': (217, 155, 130),\n",
       " 'spruce': (10, 95, 56),\n",
       " 'strong blue': (12, 6, 247),\n",
       " 'toxic green': (97, 222, 42),\n",
       " 'windows blue': (55, 120, 191),\n",
       " 'blue blue': (34, 66, 199),\n",
       " 'blue with a hint of purple': (83, 60, 198),\n",
       " 'booger': (155, 181, 60),\n",
       " 'bright sea green': (5, 255, 166),\n",
       " 'dark green blue': (31, 99, 87),\n",
       " 'deep turquoise': (1, 115, 116),\n",
       " 'green teal': (12, 181, 119),\n",
       " 'strong pink': (255, 7, 137),\n",
       " 'bland': (175, 168, 139),\n",
       " 'deep aqua': (8, 120, 127),\n",
       " 'lavender pink': (221, 133, 215),\n",
       " 'light moss green': (166, 200, 117),\n",
       " 'light seafoam green': (167, 255, 181),\n",
       " 'olive yellow': (194, 183, 9),\n",
       " 'pig pink': (231, 142, 165),\n",
       " 'deep lilac': (150, 110, 189),\n",
       " 'desert': (204, 173, 96),\n",
       " 'dusty lavender': (172, 134, 168),\n",
       " 'purpley grey': (148, 126, 148),\n",
       " 'purply': (152, 63, 178),\n",
       " 'candy pink': (255, 99, 233),\n",
       " 'light pastel green': (178, 251, 165),\n",
       " 'boring green': (99, 179, 101),\n",
       " 'kiwi green': (142, 229, 63),\n",
       " 'light grey green': (183, 225, 161),\n",
       " 'orange pink': (255, 111, 82),\n",
       " 'tea green': (189, 248, 163),\n",
       " 'very light brown': (211, 182, 131),\n",
       " 'egg shell': (255, 252, 196),\n",
       " 'eggplant purple': (67, 5, 65),\n",
       " 'powder pink': (255, 178, 208),\n",
       " 'reddish grey': (153, 117, 112),\n",
       " 'baby shit brown': (173, 144, 13),\n",
       " 'liliac': (196, 142, 253),\n",
       " 'stormy blue': (80, 123, 156),\n",
       " 'ugly brown': (125, 113, 3),\n",
       " 'custard': (255, 253, 120),\n",
       " 'darkish pink': (218, 70, 125),\n",
       " 'deep brown': (65, 2, 0),\n",
       " 'greenish beige': (201, 209, 121),\n",
       " 'manilla': (255, 250, 134),\n",
       " 'off blue': (86, 132, 174),\n",
       " 'battleship grey': (107, 124, 133),\n",
       " 'browny green': (111, 108, 10),\n",
       " 'bruise': (126, 64, 113),\n",
       " 'kelley green': (0, 147, 55),\n",
       " 'sickly yellow': (208, 228, 41),\n",
       " 'sunny yellow': (255, 249, 23),\n",
       " 'azul': (29, 93, 236),\n",
       " 'darkgreen': (5, 73, 7),\n",
       " 'green/yellow': (181, 206, 8),\n",
       " 'lichen': (143, 182, 123),\n",
       " 'light light green': (200, 255, 176),\n",
       " 'pale gold': (253, 222, 108),\n",
       " 'sun yellow': (255, 223, 34),\n",
       " 'tan green': (169, 190, 112),\n",
       " 'burple': (104, 50, 227),\n",
       " 'butterscotch': (253, 177, 71),\n",
       " 'toupe': (199, 172, 125),\n",
       " 'dark cream': (255, 243, 154),\n",
       " 'indian red': (133, 14, 4),\n",
       " 'light lavendar': (239, 192, 254),\n",
       " 'poison green': (64, 253, 20),\n",
       " 'baby puke green': (182, 196, 6),\n",
       " 'bright yellow green': (157, 255, 0),\n",
       " 'charcoal grey': (60, 65, 66),\n",
       " 'squash': (242, 171, 21),\n",
       " 'cinnamon': (172, 79, 6),\n",
       " 'light pea green': (196, 254, 130),\n",
       " 'radioactive green': (44, 250, 31),\n",
       " 'raw sienna': (154, 98, 0),\n",
       " 'baby purple': (202, 155, 247),\n",
       " 'cocoa': (135, 95, 66),\n",
       " 'light royal blue': (58, 46, 254),\n",
       " 'orangeish': (253, 141, 73),\n",
       " 'rust brown': (139, 49, 3),\n",
       " 'sand brown': (203, 165, 96),\n",
       " 'swamp': (105, 131, 57),\n",
       " 'tealish green': (12, 220, 115),\n",
       " 'burnt siena': (183, 82, 3),\n",
       " 'camo': (127, 143, 78),\n",
       " 'dusk blue': (38, 83, 141),\n",
       " 'fern': (99, 169, 80),\n",
       " 'old rose': (200, 127, 137),\n",
       " 'pale light green': (177, 252, 153),\n",
       " 'peachy pink': (255, 154, 138),\n",
       " 'rosy pink': (246, 104, 142),\n",
       " 'light bluish green': (118, 253, 168),\n",
       " 'light bright green': (83, 254, 92),\n",
       " 'light neon green': (78, 253, 84),\n",
       " 'light seafoam': (160, 254, 191),\n",
       " 'tiffany blue': (123, 242, 218),\n",
       " 'washed out green': (188, 245, 166),\n",
       " 'browny orange': (202, 107, 2),\n",
       " 'nice blue': (16, 122, 176),\n",
       " 'sapphire': (33, 56, 171),\n",
       " 'greyish teal': (113, 159, 145),\n",
       " 'orangey yellow': (253, 185, 21),\n",
       " 'parchment': (254, 252, 175),\n",
       " 'straw': (252, 246, 121),\n",
       " 'very dark brown': (29, 2, 0),\n",
       " 'terracota': (203, 104, 67),\n",
       " 'ugly blue': (49, 102, 138),\n",
       " 'clear blue': (36, 122, 253),\n",
       " 'creme': (255, 255, 182),\n",
       " 'foam green': (144, 253, 169),\n",
       " 'grey/green': (134, 161, 125),\n",
       " 'light gold': (253, 220, 92),\n",
       " 'seafoam blue': (120, 209, 182),\n",
       " 'topaz': (19, 187, 175),\n",
       " 'violet pink': (251, 95, 252),\n",
       " 'wintergreen': (32, 249, 134),\n",
       " 'yellow tan': (255, 227, 110),\n",
       " 'dark fuchsia': (157, 7, 89),\n",
       " 'indigo blue': (58, 24, 177),\n",
       " 'light yellowish green': (194, 255, 137),\n",
       " 'pale magenta': (215, 103, 173),\n",
       " 'rich purple': (114, 0, 88),\n",
       " 'sunflower yellow': (255, 218, 3),\n",
       " 'green/blue': (1, 192, 141),\n",
       " 'leather': (172, 116, 52),\n",
       " 'racing green': (1, 70, 0),\n",
       " 'vivid purple': (153, 0, 250),\n",
       " 'dark royal blue': (2, 6, 111),\n",
       " 'hazel': (142, 118, 24),\n",
       " 'muted pink': (209, 118, 143),\n",
       " 'booger green': (150, 180, 3),\n",
       " 'canary': (253, 255, 99),\n",
       " 'cool grey': (149, 163, 166),\n",
       " 'dark taupe': (127, 104, 78),\n",
       " 'darkish purple': (117, 25, 115),\n",
       " 'true green': (8, 148, 4),\n",
       " 'coral pink': (255, 97, 99),\n",
       " 'dark sage': (89, 133, 86),\n",
       " 'dark slate blue': (33, 71, 97),\n",
       " 'flat blue': (60, 115, 168),\n",
       " 'mushroom': (186, 158, 136),\n",
       " 'rich blue': (2, 27, 249),\n",
       " 'dirty purple': (115, 74, 101),\n",
       " 'greenblue': (35, 196, 139),\n",
       " 'icky green': (143, 174, 34),\n",
       " 'light khaki': (230, 242, 162),\n",
       " 'warm blue': (75, 87, 219),\n",
       " 'dark hot pink': (217, 1, 102),\n",
       " 'deep sea blue': (1, 84, 130),\n",
       " 'carmine': (157, 2, 22),\n",
       " 'dark yellow green': (114, 143, 2),\n",
       " 'pale peach': (255, 229, 173),\n",
       " 'plum purple': (78, 5, 80),\n",
       " 'golden rod': (249, 188, 8),\n",
       " 'neon red': (255, 7, 58),\n",
       " 'old pink': (199, 121, 134),\n",
       " 'very pale blue': (214, 255, 254),\n",
       " 'blood orange': (254, 75, 3),\n",
       " 'grapefruit': (253, 89, 86),\n",
       " 'sand yellow': (252, 225, 102),\n",
       " 'clay brown': (178, 113, 61),\n",
       " 'dark blue grey': (31, 59, 77),\n",
       " 'flat green': (105, 157, 76),\n",
       " 'light green blue': (86, 252, 162),\n",
       " 'warm pink': (251, 85, 129),\n",
       " 'dodger blue': (62, 130, 252),\n",
       " 'gross green': (160, 191, 22),\n",
       " 'ice': (214, 255, 250),\n",
       " 'metallic blue': (79, 115, 142),\n",
       " 'pale salmon': (255, 177, 154),\n",
       " 'sap green': (92, 139, 21),\n",
       " 'algae': (84, 172, 104),\n",
       " 'bluey grey': (137, 160, 176),\n",
       " 'greeny grey': (126, 160, 122),\n",
       " 'highlighter green': (27, 252, 6),\n",
       " 'light light blue': (202, 255, 251),\n",
       " 'light mint': (182, 255, 187),\n",
       " 'raw umber': (167, 94, 9),\n",
       " 'vivid blue': (21, 46, 255),\n",
       " 'deep lavender': (141, 94, 183),\n",
       " 'dull teal': (95, 158, 143),\n",
       " 'light greenish blue': (99, 247, 180),\n",
       " 'mud green': (96, 102, 2),\n",
       " 'pinky': (252, 134, 170),\n",
       " 'red wine': (140, 0, 52),\n",
       " 'shit green': (117, 128, 0),\n",
       " 'tan brown': (171, 126, 76),\n",
       " 'darkblue': (3, 7, 100),\n",
       " 'rosa': (254, 134, 164),\n",
       " 'lipstick': (213, 23, 78),\n",
       " 'pale mauve': (254, 208, 252),\n",
       " 'claret': (104, 0, 24),\n",
       " 'dandelion': (254, 223, 8),\n",
       " 'orangered': (254, 66, 15),\n",
       " 'poop green': (111, 124, 0),\n",
       " 'ruby': (202, 1, 71),\n",
       " 'dark': (27, 36, 49),\n",
       " 'greenish turquoise': (0, 251, 176),\n",
       " 'pastel red': (219, 88, 86),\n",
       " 'piss yellow': (221, 214, 24),\n",
       " 'bright cyan': (65, 253, 254),\n",
       " 'dark coral': (207, 82, 78),\n",
       " 'algae green': (33, 195, 111),\n",
       " 'darkish red': (169, 3, 8),\n",
       " 'reddy brown': (110, 16, 5),\n",
       " 'blush pink': (254, 130, 140),\n",
       " 'camouflage green': (75, 97, 19),\n",
       " 'lawn green': (77, 164, 9),\n",
       " 'putty': (190, 174, 138),\n",
       " 'vibrant blue': (3, 57, 248),\n",
       " 'dark sand': (168, 143, 89),\n",
       " 'purple/blue': (93, 33, 208),\n",
       " 'saffron': (254, 178, 9),\n",
       " 'twilight': (78, 81, 139),\n",
       " 'warm brown': (150, 78, 2),\n",
       " 'bluegrey': (133, 163, 178),\n",
       " 'bubble gum pink': (255, 105, 175),\n",
       " 'duck egg blue': (195, 251, 244),\n",
       " 'greenish cyan': (42, 254, 183),\n",
       " 'petrol': (0, 95, 106),\n",
       " 'royal': (12, 23, 147),\n",
       " 'butter': (255, 255, 129),\n",
       " 'dusty orange': (240, 131, 58),\n",
       " 'off yellow': (241, 243, 63),\n",
       " 'pale olive green': (177, 210, 123),\n",
       " 'orangish': (252, 130, 74),\n",
       " 'leaf': (113, 170, 52),\n",
       " 'light blue grey': (183, 201, 226),\n",
       " 'dried blood': (75, 1, 1),\n",
       " 'lightish purple': (165, 82, 230),\n",
       " 'rusty red': (175, 47, 13),\n",
       " 'lavender blue': (139, 136, 248),\n",
       " 'light grass green': (154, 247, 100),\n",
       " 'light mint green': (166, 251, 178),\n",
       " 'sunflower': (255, 197, 18),\n",
       " 'velvet': (117, 8, 81),\n",
       " 'brick orange': (193, 74, 9),\n",
       " 'lightish red': (254, 47, 74),\n",
       " 'pure blue': (2, 3, 226),\n",
       " 'twilight blue': (10, 67, 122),\n",
       " 'violet red': (165, 0, 85),\n",
       " 'yellowy brown': (174, 139, 12),\n",
       " 'carnation': (253, 121, 143),\n",
       " 'muddy yellow': (191, 172, 5),\n",
       " 'dark seafoam green': (62, 175, 118),\n",
       " 'deep rose': (199, 71, 103),\n",
       " 'dusty red': (185, 72, 78),\n",
       " 'grey/blue': (100, 125, 142),\n",
       " 'lemon lime': (191, 254, 40),\n",
       " 'purple/pink': (215, 37, 222),\n",
       " 'brown yellow': (178, 151, 5),\n",
       " 'purple brown': (103, 58, 63),\n",
       " 'wisteria': (168, 125, 194),\n",
       " 'banana yellow': (250, 254, 75),\n",
       " 'lipstick red': (192, 2, 47),\n",
       " 'water blue': (14, 135, 204),\n",
       " 'brown grey': (141, 132, 104),\n",
       " 'vibrant purple': (173, 3, 222),\n",
       " 'baby green': (140, 255, 158),\n",
       " 'barf green': (148, 172, 2),\n",
       " 'eggshell blue': (196, 255, 247),\n",
       " 'sandy yellow': (253, 238, 115),\n",
       " 'cool green': (51, 184, 100),\n",
       " 'pale': (255, 249, 208),\n",
       " 'blue/grey': (117, 141, 163),\n",
       " 'hot magenta': (245, 4, 201),\n",
       " 'greyblue': (119, 161, 181),\n",
       " 'purpley': (135, 86, 228),\n",
       " 'baby shit green': (136, 151, 23),\n",
       " 'brownish pink': (194, 126, 121),\n",
       " 'dark aquamarine': (1, 115, 113),\n",
       " 'diarrhea': (159, 131, 3),\n",
       " 'light mustard': (247, 213, 96),\n",
       " 'pale sky blue': (189, 246, 254),\n",
       " 'turtle green': (117, 184, 79),\n",
       " 'bright olive': (156, 187, 4),\n",
       " 'dark grey blue': (41, 70, 91),\n",
       " 'greeny brown': (105, 96, 6),\n",
       " 'lemon green': (173, 248, 2),\n",
       " 'light periwinkle': (193, 198, 252),\n",
       " 'seaweed green': (53, 173, 107),\n",
       " 'sunshine yellow': (255, 253, 55),\n",
       " 'ugly purple': (164, 66, 160),\n",
       " 'medium pink': (243, 97, 150),\n",
       " 'puke brown': (148, 119, 6),\n",
       " 'very light pink': (255, 244, 242),\n",
       " 'viridian': (30, 145, 103),\n",
       " 'bile': (181, 195, 6),\n",
       " 'faded yellow': (254, 255, 127),\n",
       " 'very pale green': (207, 253, 188),\n",
       " 'vibrant green': (10, 221, 8),\n",
       " 'bright lime': (135, 253, 5),\n",
       " 'spearmint': (30, 248, 118),\n",
       " 'light aquamarine': (123, 253, 199),\n",
       " 'light sage': (188, 236, 172),\n",
       " 'yellowgreen': (187, 249, 15),\n",
       " 'baby poo': (171, 144, 4),\n",
       " 'dark seafoam': (31, 181, 122),\n",
       " 'deep teal': (0, 85, 90),\n",
       " 'heather': (164, 132, 172),\n",
       " 'rust orange': (196, 85, 8),\n",
       " 'dirty blue': (63, 130, 157),\n",
       " 'fern green': (84, 141, 68),\n",
       " 'bright lilac': (201, 94, 251),\n",
       " 'weird green': (58, 229, 127),\n",
       " 'peacock blue': (1, 103, 149),\n",
       " 'avocado green': (135, 169, 34),\n",
       " 'faded orange': (240, 148, 77),\n",
       " 'grape purple': (93, 20, 81),\n",
       " 'hot green': (37, 255, 41),\n",
       " 'lime yellow': (208, 254, 29),\n",
       " 'mango': (255, 166, 43),\n",
       " 'shamrock': (1, 180, 76),\n",
       " 'bubblegum': (255, 108, 181),\n",
       " 'purplish brown': (107, 66, 71),\n",
       " 'vomit yellow': (199, 193, 12),\n",
       " 'pale cyan': (183, 255, 250),\n",
       " 'key lime': (174, 255, 110),\n",
       " 'tomato red': (236, 45, 1),\n",
       " 'lightgreen': (118, 255, 123),\n",
       " 'merlot': (115, 0, 57),\n",
       " 'night blue': (4, 3, 72),\n",
       " 'purpleish pink': (223, 78, 200),\n",
       " 'apple': (110, 203, 60),\n",
       " 'baby poop green': (143, 152, 5),\n",
       " 'green apple': (94, 220, 31),\n",
       " 'heliotrope': (217, 79, 245),\n",
       " 'yellow/green': (200, 253, 61),\n",
       " 'almost black': (7, 13, 13),\n",
       " 'cool blue': (73, 132, 184),\n",
       " 'leafy green': (81, 183, 59),\n",
       " 'mustard brown': (172, 126, 4),\n",
       " 'dusk': (78, 84, 129),\n",
       " 'dull brown': (135, 110, 75),\n",
       " 'frog green': (88, 188, 8),\n",
       " 'vivid green': (47, 239, 16),\n",
       " 'bright light green': (45, 254, 84),\n",
       " 'fluro green': (10, 255, 2),\n",
       " 'kiwi': (156, 239, 67),\n",
       " 'seaweed': (24, 209, 123),\n",
       " 'navy green': (53, 83, 10),\n",
       " 'ultramarine blue': (24, 5, 219),\n",
       " 'iris': (98, 88, 196),\n",
       " 'pastel orange': (255, 150, 79),\n",
       " 'yellowish orange': (255, 171, 15),\n",
       " 'perrywinkle': (143, 140, 231),\n",
       " 'tealish': (36, 188, 168),\n",
       " 'dark plum': (63, 1, 44),\n",
       " 'pear': (203, 248, 95),\n",
       " 'pinkish orange': (255, 114, 76),\n",
       " 'midnight purple': (40, 1, 55),\n",
       " 'light urple': (179, 111, 246),\n",
       " 'dark mint': (72, 192, 114),\n",
       " 'greenish tan': (188, 203, 122),\n",
       " 'light burgundy': (168, 65, 91),\n",
       " 'turquoise blue': (6, 177, 196),\n",
       " 'ugly pink': (205, 117, 132),\n",
       " 'sandy': (241, 218, 122),\n",
       " 'electric pink': (255, 4, 144),\n",
       " 'muted purple': (128, 91, 135),\n",
       " 'mid green': (80, 167, 71),\n",
       " 'greyish': (168, 164, 149),\n",
       " 'neon yellow': (207, 255, 4),\n",
       " 'banana': (255, 255, 126),\n",
       " 'carnation pink': (255, 127, 167),\n",
       " 'tomato': (239, 64, 38),\n",
       " 'sea': (60, 153, 146),\n",
       " 'muddy brown': (136, 104, 6),\n",
       " 'turquoise green': (4, 244, 137),\n",
       " 'buff': (254, 246, 158),\n",
       " 'fawn': (207, 175, 123),\n",
       " 'muted blue': (59, 113, 159),\n",
       " 'pale rose': (253, 193, 197),\n",
       " 'dark mint green': (32, 192, 115),\n",
       " 'amethyst': (155, 95, 192),\n",
       " 'blue/green': (15, 155, 142),\n",
       " 'chestnut': (116, 40, 2),\n",
       " 'sick green': (157, 185, 44),\n",
       " 'pea': (164, 191, 32),\n",
       " 'rusty orange': (205, 89, 9),\n",
       " 'stone': (173, 165, 135),\n",
       " 'rose red': (190, 1, 60),\n",
       " 'pale aqua': (184, 255, 235),\n",
       " 'deep orange': (220, 77, 1),\n",
       " 'earth': (162, 101, 62),\n",
       " 'mossy green': (99, 139, 39),\n",
       " 'grassy green': (65, 156, 3),\n",
       " 'pale lime green': (177, 255, 101),\n",
       " 'light grey blue': (157, 188, 212),\n",
       " 'pale grey': (253, 253, 254),\n",
       " 'asparagus': (119, 171, 86),\n",
       " 'blueberry': (70, 65, 150),\n",
       " 'purple red': (153, 1, 71),\n",
       " 'pale lime': (190, 253, 115),\n",
       " 'greenish teal': (50, 191, 132),\n",
       " 'caramel': (175, 111, 9),\n",
       " 'deep magenta': (160, 2, 92),\n",
       " 'light peach': (255, 216, 177),\n",
       " 'milk chocolate': (127, 78, 30),\n",
       " 'ocher': (191, 155, 12),\n",
       " 'off green': (107, 163, 83),\n",
       " 'purply pink': (240, 117, 230),\n",
       " 'lightblue': (123, 200, 246),\n",
       " 'dusky blue': (71, 95, 148),\n",
       " 'golden': (245, 191, 3),\n",
       " 'light beige': (255, 254, 182),\n",
       " 'butter yellow': (255, 253, 116),\n",
       " 'dusky purple': (137, 91, 123),\n",
       " 'french blue': (67, 107, 173),\n",
       " 'ugly yellow': (208, 193, 1),\n",
       " 'greeny yellow': (198, 248, 8),\n",
       " 'orangish red': (244, 54, 5),\n",
       " 'shamrock green': (2, 193, 77),\n",
       " 'orangish brown': (178, 95, 3),\n",
       " 'tree green': (42, 126, 25),\n",
       " 'deep violet': (73, 6, 72),\n",
       " 'gunmetal': (83, 98, 103),\n",
       " 'blue/purple': (90, 6, 239),\n",
       " 'cherry': (207, 2, 52),\n",
       " 'sandy brown': (196, 166, 97),\n",
       " 'warm grey': (151, 138, 132),\n",
       " 'dark indigo': (31, 9, 84),\n",
       " 'midnight': (3, 1, 45),\n",
       " 'bluey green': (43, 177, 121),\n",
       " 'grey pink': (195, 144, 155),\n",
       " 'soft purple': (166, 111, 181),\n",
       " 'blood': (119, 0, 1),\n",
       " 'brown red': (146, 43, 5),\n",
       " 'medium grey': (125, 127, 124),\n",
       " 'berry': (153, 15, 75),\n",
       " 'poo': (143, 115, 3),\n",
       " 'purpley pink': (200, 60, 185),\n",
       " 'light salmon': (254, 169, 147),\n",
       " 'snot': (172, 187, 13),\n",
       " 'easter purple': (192, 113, 254),\n",
       " 'light yellow green': (204, 253, 127),\n",
       " 'dark navy blue': (0, 2, 46),\n",
       " 'drab': (130, 131, 68),\n",
       " 'light rose': (255, 197, 203),\n",
       " 'rouge': (171, 18, 57),\n",
       " 'purplish red': (176, 5, 75),\n",
       " 'slime green': (153, 204, 4),\n",
       " 'baby poop': (147, 124, 0),\n",
       " 'irish green': (1, 149, 41),\n",
       " 'pink/purple': (239, 29, 231),\n",
       " 'dark navy': (0, 4, 53),\n",
       " 'greeny blue': (66, 179, 149),\n",
       " 'light plum': (157, 87, 131),\n",
       " 'pinkish grey': (200, 172, 169),\n",
       " 'dirty orange': (200, 118, 6),\n",
       " 'rust red': (170, 39, 4),\n",
       " 'pale lilac': (228, 203, 255),\n",
       " 'orangey red': (250, 66, 36),\n",
       " 'primary blue': (8, 4, 249),\n",
       " 'kermit green': (92, 178, 0),\n",
       " 'brownish purple': (118, 66, 78),\n",
       " 'murky green': (108, 122, 14),\n",
       " 'wheat': (251, 221, 126),\n",
       " 'very dark purple': (42, 1, 52),\n",
       " 'bottle green': (4, 74, 5),\n",
       " 'watermelon': (253, 70, 89),\n",
       " 'deep sky blue': (13, 117, 248),\n",
       " 'fire engine red': (254, 0, 2),\n",
       " 'yellow ochre': (203, 157, 6),\n",
       " 'pumpkin orange': (251, 125, 7),\n",
       " 'pale olive': (185, 204, 129),\n",
       " 'light lilac': (237, 200, 255),\n",
       " 'lightish green': (97, 225, 96),\n",
       " 'carolina blue': (138, 184, 254),\n",
       " 'mulberry': (146, 10, 78),\n",
       " 'shocking pink': (254, 2, 162),\n",
       " 'auburn': (154, 48, 1),\n",
       " 'bright lime green': (101, 254, 8),\n",
       " 'celadon': (190, 253, 183),\n",
       " 'pinkish brown': (177, 114, 97),\n",
       " 'poo brown': (136, 95, 1),\n",
       " 'bright sky blue': (2, 204, 254),\n",
       " 'celery': (193, 253, 149),\n",
       " 'dirt brown': (131, 101, 57),\n",
       " 'strawberry': (251, 41, 67),\n",
       " 'dark lime': (132, 183, 1),\n",
       " 'copper': (182, 99, 37),\n",
       " 'medium brown': (127, 81, 18),\n",
       " 'muted green': (95, 160, 82),\n",
       " \"robin's egg\": (109, 237, 253),\n",
       " 'bright aqua': (11, 249, 234),\n",
       " 'bright lavender': (199, 96, 255),\n",
       " 'ivory': (255, 255, 203),\n",
       " 'very light purple': (246, 206, 252),\n",
       " 'light navy': (21, 80, 132),\n",
       " 'pink red': (245, 5, 79),\n",
       " 'olive brown': (100, 84, 3),\n",
       " 'poop brown': (122, 89, 1),\n",
       " 'mustard green': (168, 181, 4),\n",
       " 'ocean green': (61, 153, 115),\n",
       " 'very dark blue': (0, 1, 51),\n",
       " 'dusty green': (118, 169, 115),\n",
       " 'light navy blue': (46, 90, 136),\n",
       " 'minty green': (11, 247, 125),\n",
       " 'adobe': (189, 108, 72),\n",
       " 'barney': (172, 29, 184),\n",
       " 'jade green': (43, 175, 106),\n",
       " 'bright light blue': (38, 247, 253),\n",
       " 'light lime': (174, 253, 108),\n",
       " 'dark khaki': (155, 143, 85),\n",
       " 'orange yellow': (255, 173, 1),\n",
       " 'ocre': (198, 156, 4),\n",
       " 'maize': (244, 208, 84),\n",
       " 'faded pink': (222, 157, 172),\n",
       " 'british racing green': (5, 72, 13),\n",
       " 'sandstone': (201, 174, 116),\n",
       " 'mud brown': (96, 70, 15),\n",
       " 'light sea green': (152, 246, 176),\n",
       " 'robin egg blue': (138, 241, 254),\n",
       " 'aqua marine': (46, 232, 187),\n",
       " 'dark sea green': (17, 135, 93),\n",
       " 'soft pink': (253, 176, 192),\n",
       " 'orangey brown': (177, 96, 2),\n",
       " 'cherry red': (247, 2, 42),\n",
       " 'burnt yellow': (213, 171, 9),\n",
       " 'brownish grey': (134, 119, 95),\n",
       " 'camel': (198, 159, 89),\n",
       " 'purplish grey': (122, 104, 127),\n",
       " 'marine': (4, 46, 96),\n",
       " 'greyish pink': (200, 141, 148),\n",
       " 'pale turquoise': (165, 251, 213),\n",
       " 'pastel yellow': (255, 254, 113),\n",
       " 'bluey purple': (98, 65, 199),\n",
       " 'canary yellow': (255, 254, 64),\n",
       " 'faded red': (211, 73, 78),\n",
       " 'sepia': (152, 94, 43),\n",
       " 'coffee': (166, 129, 76),\n",
       " 'bright magenta': (255, 8, 232),\n",
       " 'mocha': (157, 118, 81),\n",
       " 'ecru': (254, 255, 202),\n",
       " 'purpleish': (152, 86, 141),\n",
       " 'cranberry': (158, 0, 58),\n",
       " 'darkish green': (40, 124, 55),\n",
       " 'brown orange': (185, 105, 2),\n",
       " 'dusky rose': (186, 104, 115),\n",
       " 'melon': (255, 120, 85),\n",
       " 'sickly green': (148, 178, 28),\n",
       " 'silver': (197, 201, 199),\n",
       " 'purply blue': (102, 26, 238),\n",
       " 'purpleish blue': (97, 64, 239),\n",
       " 'hospital green': (155, 229, 170),\n",
       " 'shit brown': (123, 88, 4),\n",
       " 'mid blue': (39, 106, 179),\n",
       " 'amber': (254, 179, 8),\n",
       " 'easter green': (140, 253, 126),\n",
       " 'soft blue': (100, 136, 234),\n",
       " 'cerulean blue': (5, 110, 238),\n",
       " 'golden brown': (178, 122, 1),\n",
       " 'bright turquoise': (15, 254, 249),\n",
       " 'red pink': (250, 42, 85),\n",
       " 'red purple': (130, 7, 71),\n",
       " 'greyish brown': (122, 106, 79),\n",
       " 'vermillion': (244, 50, 12),\n",
       " 'russet': (161, 57, 5),\n",
       " 'steel grey': (111, 130, 138),\n",
       " 'lighter purple': (165, 90, 244),\n",
       " 'bright violet': (173, 10, 253),\n",
       " 'prussian blue': (0, 69, 119),\n",
       " 'slate green': (101, 141, 109),\n",
       " 'dirty pink': (202, 123, 128),\n",
       " 'dark blue green': (0, 82, 73),\n",
       " 'pine': (43, 93, 52),\n",
       " 'yellowy green': (191, 241, 40),\n",
       " 'dark gold': (181, 148, 16),\n",
       " 'bluish': (41, 118, 187),\n",
       " 'darkish blue': (1, 65, 130),\n",
       " 'dull red': (187, 63, 63),\n",
       " 'pinky red': (252, 38, 71),\n",
       " 'bronze': (168, 121, 0),\n",
       " 'pale teal': (130, 203, 178),\n",
       " 'military green': (102, 124, 62),\n",
       " 'barbie pink': (254, 70, 165),\n",
       " 'bubblegum pink': (254, 131, 204),\n",
       " 'pea soup green': (148, 166, 23),\n",
       " 'dark mustard': (168, 137, 5),\n",
       " 'shit': (127, 95, 0),\n",
       " 'medium purple': (158, 67, 162),\n",
       " 'very dark green': (6, 46, 3),\n",
       " 'dirt': (138, 110, 69),\n",
       " 'dusky pink': (204, 122, 139),\n",
       " 'red violet': (158, 1, 104),\n",
       " 'lemon yellow': (253, 255, 56),\n",
       " 'pistachio': (192, 250, 139),\n",
       " 'dull yellow': (238, 220, 91),\n",
       " 'dark lime green': (126, 189, 1),\n",
       " 'denim blue': (59, 91, 146),\n",
       " 'teal blue': (1, 136, 159),\n",
       " 'lightish blue': (61, 122, 253),\n",
       " 'purpley blue': (95, 52, 231),\n",
       " 'light indigo': (109, 90, 207),\n",
       " 'swamp green': (116, 133, 0),\n",
       " 'brown green': (112, 108, 17),\n",
       " 'dark maroon': (60, 0, 8),\n",
       " 'hot purple': (203, 0, 245),\n",
       " 'dark forest green': (0, 45, 4),\n",
       " 'faded blue': (101, 140, 187),\n",
       " 'drab green': (116, 149, 81),\n",
       " 'light lime green': (185, 255, 102),\n",
       " 'snot green': (157, 193, 0),\n",
       " 'yellowish': (250, 238, 102),\n",
       " 'light blue green': (126, 251, 179),\n",
       " 'bordeaux': (123, 0, 44),\n",
       " 'light mauve': (194, 146, 161),\n",
       " 'ocean': (1, 123, 146),\n",
       " 'marigold': (252, 192, 6),\n",
       " 'muddy green': (101, 116, 50),\n",
       " 'dull orange': (216, 134, 59),\n",
       " 'steel': (115, 133, 149),\n",
       " 'electric purple': (170, 35, 255),\n",
       " 'fluorescent green': (8, 255, 8),\n",
       " 'yellowish brown': (155, 122, 1),\n",
       " 'blush': (242, 158, 142),\n",
       " 'soft green': (111, 194, 118),\n",
       " 'bright orange': (255, 91, 0),\n",
       " 'lemon': (253, 255, 82),\n",
       " 'purple grey': (134, 111, 133),\n",
       " 'acid green': (143, 254, 9),\n",
       " 'pale lavender': (238, 207, 254),\n",
       " 'violet blue': (81, 10, 201),\n",
       " 'light forest green': (79, 145, 83),\n",
       " 'burnt red': (159, 35, 5),\n",
       " 'khaki green': (114, 134, 57),\n",
       " 'cerise': (222, 12, 98),\n",
       " 'faded purple': (145, 110, 153),\n",
       " 'apricot': (255, 177, 109),\n",
       " 'dark olive green': (60, 77, 3),\n",
       " 'grey brown': (127, 112, 83),\n",
       " 'green grey': (119, 146, 111),\n",
       " 'true blue': (1, 15, 204),\n",
       " 'pale violet': (206, 174, 250),\n",
       " 'periwinkle blue': (143, 153, 251),\n",
       " 'light sky blue': (198, 252, 255),\n",
       " 'blurple': (85, 57, 204),\n",
       " 'green brown': (84, 78, 3),\n",
       " 'bluegreen': (1, 122, 121),\n",
       " 'bright teal': (1, 249, 198),\n",
       " 'brownish yellow': (201, 176, 3),\n",
       " 'pea soup': (146, 153, 1),\n",
       " 'forest': (11, 85, 9),\n",
       " 'barney purple': (160, 4, 152),\n",
       " 'ultramarine': (32, 0, 177),\n",
       " 'purplish': (148, 86, 140),\n",
       " 'puke yellow': (194, 190, 14),\n",
       " 'bluish grey': (116, 139, 151),\n",
       " 'dark periwinkle': (102, 95, 209),\n",
       " 'dark lilac': (156, 109, 165),\n",
       " 'reddish': (196, 66, 64),\n",
       " 'light maroon': (162, 72, 87),\n",
       " 'dusty purple': (130, 95, 135),\n",
       " 'terra cotta': (201, 100, 59),\n",
       " 'avocado': (144, 177, 52),\n",
       " 'marine blue': (1, 56, 106),\n",
       " 'teal green': (37, 163, 111),\n",
       " 'slate grey': (89, 101, 109),\n",
       " 'lighter green': (117, 253, 99),\n",
       " 'electric green': (33, 252, 13),\n",
       " 'dusty blue': (90, 134, 173),\n",
       " 'golden yellow': (254, 198, 21),\n",
       " 'bright yellow': (255, 253, 1),\n",
       " 'light lavender': (223, 197, 254),\n",
       " 'umber': (178, 100, 0),\n",
       " 'poop': (127, 94, 0),\n",
       " 'dark peach': (222, 126, 93),\n",
       " 'jungle green': (4, 130, 67),\n",
       " 'eggshell': (255, 255, 212),\n",
       " 'denim': (59, 99, 140),\n",
       " 'yellow brown': (183, 148, 0),\n",
       " 'dull purple': (132, 89, 126),\n",
       " 'chocolate brown': (65, 25, 0),\n",
       " 'wine red': (123, 3, 35),\n",
       " 'neon blue': (4, 217, 255),\n",
       " 'dirty green': (102, 126, 44),\n",
       " 'light tan': (251, 238, 172),\n",
       " 'ice blue': (215, 255, 254),\n",
       " 'cadet blue': (78, 116, 150),\n",
       " 'dark mauve': (135, 76, 98),\n",
       " 'very light blue': (213, 255, 255),\n",
       " 'grey purple': (130, 109, 140),\n",
       " 'pastel pink': (255, 186, 205),\n",
       " 'very light green': (209, 255, 189),\n",
       " 'dark sky blue': (68, 142, 228),\n",
       " 'evergreen': (5, 71, 42),\n",
       " 'dull pink': (213, 134, 157),\n",
       " 'aubergine': (61, 7, 52),\n",
       " 'mahogany': (74, 1, 0),\n",
       " 'reddish orange': (248, 72, 28),\n",
       " 'deep green': (2, 89, 15),\n",
       " 'vomit green': (137, 162, 3),\n",
       " 'purple pink': (224, 63, 216),\n",
       " 'dusty pink': (213, 138, 148),\n",
       " 'faded green': (123, 178, 116),\n",
       " 'camo green': (82, 101, 37),\n",
       " 'pinky purple': (201, 76, 190),\n",
       " 'pink purple': (219, 75, 218),\n",
       " 'brownish red': (158, 54, 35),\n",
       " 'dark rose': (181, 72, 93),\n",
       " 'mud': (115, 92, 18),\n",
       " 'brownish': (156, 109, 87),\n",
       " 'emerald green': (2, 143, 30),\n",
       " 'pale brown': (177, 145, 110),\n",
       " 'dull blue': (73, 117, 156),\n",
       " 'burnt umber': (160, 69, 14),\n",
       " 'medium green': (57, 173, 72),\n",
       " 'clay': (182, 106, 80),\n",
       " 'light aqua': (140, 255, 219),\n",
       " 'light olive green': (164, 190, 92),\n",
       " 'brownish orange': (203, 119, 35),\n",
       " 'dark aqua': (5, 105, 107),\n",
       " 'purplish pink': (206, 93, 174),\n",
       " 'dark salmon': (200, 90, 83),\n",
       " 'greenish grey': (150, 174, 141),\n",
       " 'jade': (31, 167, 116),\n",
       " 'ugly green': (122, 151, 3),\n",
       " 'dark beige': (172, 147, 98),\n",
       " 'emerald': (1, 160, 73),\n",
       " 'pale red': (217, 84, 77),\n",
       " 'light magenta': (250, 95, 247),\n",
       " 'sky': (130, 202, 252),\n",
       " 'light cyan': (172, 255, 252),\n",
       " 'yellow orange': (252, 176, 1),\n",
       " 'reddish purple': (145, 9, 81),\n",
       " 'reddish pink': (254, 44, 84),\n",
       " 'orchid': (200, 117, 196),\n",
       " 'dirty yellow': (205, 197, 10),\n",
       " 'orange red': (253, 65, 30),\n",
       " 'deep red': (154, 2, 0),\n",
       " 'orange brown': (190, 100, 0),\n",
       " 'cobalt blue': (3, 10, 167),\n",
       " 'neon pink': (254, 1, 154),\n",
       " 'rose pink': (247, 135, 154),\n",
       " 'greyish purple': (136, 113, 145),\n",
       " 'raspberry': (176, 1, 73),\n",
       " 'aqua green': (18, 225, 147),\n",
       " 'salmon pink': (254, 123, 124),\n",
       " 'tangerine': (255, 148, 8),\n",
       " 'brownish green': (106, 110, 9),\n",
       " 'red brown': (139, 46, 22),\n",
       " 'greenish brown': (105, 97, 18),\n",
       " 'pumpkin': (225, 119, 1),\n",
       " 'pine green': (10, 72, 30),\n",
       " 'charcoal': (52, 56, 55),\n",
       " 'baby pink': (255, 183, 206),\n",
       " 'cornflower': (106, 121, 247),\n",
       " 'blue violet': (93, 6, 233),\n",
       " 'chocolate': (61, 28, 2),\n",
       " 'greyish green': (130, 166, 125),\n",
       " 'scarlet': (190, 1, 25),\n",
       " 'green yellow': (201, 255, 39),\n",
       " 'dark olive': (55, 62, 2),\n",
       " 'sienna': (169, 86, 30),\n",
       " 'pastel purple': (202, 160, 255),\n",
       " 'terracotta': (202, 102, 65),\n",
       " 'aqua blue': (2, 216, 233),\n",
       " 'sage green': (136, 179, 120),\n",
       " 'blood red': (152, 0, 2),\n",
       " 'deep pink': (203, 1, 98),\n",
       " 'grass': (92, 172, 45),\n",
       " 'moss': (118, 153, 88),\n",
       " 'pastel blue': (162, 191, 254),\n",
       " 'bluish green': (16, 166, 116),\n",
       " 'green blue': (6, 180, 139),\n",
       " 'dark tan': (175, 136, 74),\n",
       " 'greenish blue': (11, 139, 135),\n",
       " 'pale orange': (255, 167, 86),\n",
       " 'vomit': (162, 164, 21),\n",
       " 'forrest green': (21, 68, 6),\n",
       " 'dark lavender': (133, 103, 152),\n",
       " 'dark violet': (52, 1, 63),\n",
       " 'purple blue': (99, 45, 233),\n",
       " 'dark cyan': (10, 136, 138),\n",
       " 'olive drab': (111, 118, 50),\n",
       " 'pinkish': (212, 106, 126),\n",
       " 'cobalt': (30, 72, 143),\n",
       " 'neon purple': (188, 19, 254),\n",
       " 'light turquoise': (126, 244, 204),\n",
       " 'apple green': (118, 205, 38),\n",
       " 'dull green': (116, 166, 98),\n",
       " 'wine': (128, 1, 63),\n",
       " 'powder blue': (177, 209, 252),\n",
       " 'off white': (255, 255, 228),\n",
       " 'electric blue': (6, 82, 255),\n",
       " 'dark turquoise': (4, 92, 90),\n",
       " 'blue purple': (87, 41, 206),\n",
       " 'azure': (6, 154, 243),\n",
       " 'bright red': (255, 0, 13),\n",
       " 'pinkish red': (241, 12, 69),\n",
       " 'cornflower blue': (81, 112, 215),\n",
       " 'light olive': (172, 191, 105),\n",
       " 'grape': (108, 52, 97),\n",
       " 'greyish blue': (94, 129, 157),\n",
       " 'purplish blue': (96, 30, 249),\n",
       " 'yellowish green': (176, 221, 22),\n",
       " 'greenish yellow': (205, 253, 2),\n",
       " 'medium blue': (44, 111, 187),\n",
       " 'dusty rose': (192, 115, 122),\n",
       " 'light violet': (214, 180, 252),\n",
       " 'midnight blue': (2, 0, 53),\n",
       " 'bluish purple': (112, 59, 231),\n",
       " 'red orange': (253, 60, 6),\n",
       " 'dark magenta': (150, 0, 86),\n",
       " 'greenish': (64, 163, 104),\n",
       " 'ocean blue': (3, 113, 156),\n",
       " 'coral': (252, 90, 80),\n",
       " 'cream': (255, 255, 194),\n",
       " 'reddish brown': (127, 43, 10),\n",
       " 'burnt sienna': (176, 78, 15),\n",
       " 'brick': (160, 54, 35),\n",
       " 'sage': (135, 174, 115),\n",
       " 'grey green': (120, 155, 115),\n",
       " 'white': (255, 255, 255),\n",
       " \"robin's egg blue\": (152, 239, 249),\n",
       " 'moss green': (101, 139, 56),\n",
       " 'steel blue': (90, 125, 154),\n",
       " 'eggplant': (56, 8, 53),\n",
       " 'light yellow': (255, 254, 122),\n",
       " 'leaf green': (92, 169, 4),\n",
       " 'light grey': (216, 220, 214),\n",
       " 'puke': (165, 165, 2),\n",
       " 'pinkish purple': (214, 72, 215),\n",
       " 'sea blue': (4, 116, 149),\n",
       " 'pale purple': (183, 144, 212),\n",
       " 'slate blue': (91, 124, 153),\n",
       " 'blue grey': (96, 124, 142),\n",
       " 'hunter green': (11, 64, 8),\n",
       " 'fuchsia': (237, 13, 217),\n",
       " 'crimson': (140, 0, 15),\n",
       " 'pale yellow': (255, 255, 132),\n",
       " 'ochre': (191, 144, 5),\n",
       " 'mustard yellow': (210, 189, 10),\n",
       " 'light red': (255, 71, 76),\n",
       " 'cerulean': (4, 133, 209),\n",
       " 'pale pink': (255, 207, 220),\n",
       " 'deep blue': (4, 2, 115),\n",
       " 'rust': (168, 60, 9),\n",
       " 'light teal': (144, 228, 193),\n",
       " 'slate': (81, 101, 114),\n",
       " 'goldenrod': (250, 194, 5),\n",
       " 'dark yellow': (213, 182, 10),\n",
       " 'dark grey': (54, 55, 55),\n",
       " 'army green': (75, 93, 22),\n",
       " 'grey blue': (107, 139, 164),\n",
       " 'seafoam': (128, 249, 173),\n",
       " 'puce': (165, 126, 82),\n",
       " 'spring green': (169, 249, 113),\n",
       " 'dark orange': (198, 81, 2),\n",
       " 'sand': (226, 202, 118),\n",
       " 'pastel green': (176, 255, 157),\n",
       " 'mint': (159, 254, 176),\n",
       " 'light orange': (253, 170, 72),\n",
       " 'bright pink': (254, 1, 177),\n",
       " 'chartreuse': (193, 248, 10),\n",
       " 'deep purple': (54, 1, 63),\n",
       " 'dark brown': (52, 28, 2),\n",
       " 'taupe': (185, 162, 129),\n",
       " 'pea green': (142, 171, 18),\n",
       " 'puke green': (154, 174, 7),\n",
       " 'kelly green': (2, 171, 46),\n",
       " 'seafoam green': (122, 249, 171),\n",
       " 'blue green': (19, 126, 109),\n",
       " 'khaki': (170, 166, 98),\n",
       " 'burgundy': (97, 0, 35),\n",
       " 'dark teal': (1, 77, 78),\n",
       " 'brick red': (143, 20, 2),\n",
       " 'royal purple': (75, 0, 110),\n",
       " 'plum': (88, 15, 65),\n",
       " 'mint green': (143, 255, 159),\n",
       " 'gold': (219, 180, 12),\n",
       " 'baby blue': (162, 207, 254),\n",
       " 'yellow green': (192, 251, 45),\n",
       " 'bright purple': (190, 3, 253),\n",
       " 'dark red': (132, 0, 0),\n",
       " 'pale blue': (208, 254, 254),\n",
       " 'grass green': (63, 155, 11),\n",
       " 'navy': (1, 21, 62),\n",
       " 'aquamarine': (4, 216, 178),\n",
       " 'burnt orange': (192, 78, 1),\n",
       " 'neon green': (12, 255, 12),\n",
       " 'bright blue': (1, 101, 252),\n",
       " 'rose': (207, 98, 117),\n",
       " 'light pink': (255, 209, 223),\n",
       " 'mustard': (206, 179, 1),\n",
       " 'indigo': (56, 2, 130),\n",
       " 'lime': (170, 255, 50),\n",
       " 'sea green': (83, 252, 161),\n",
       " 'periwinkle': (142, 130, 254),\n",
       " 'dark pink': (203, 65, 107),\n",
       " 'olive green': (103, 122, 4),\n",
       " 'peach': (255, 176, 124),\n",
       " 'pale green': (199, 253, 181),\n",
       " 'light brown': (173, 129, 80),\n",
       " 'hot pink': (255, 2, 141),\n",
       " 'black': (0, 0, 0),\n",
       " 'lilac': (206, 162, 253),\n",
       " 'navy blue': (0, 17, 70),\n",
       " 'royal blue': (5, 4, 170),\n",
       " 'beige': (230, 218, 166),\n",
       " 'salmon': (255, 121, 108),\n",
       " 'olive': (110, 117, 14),\n",
       " 'maroon': (101, 0, 33),\n",
       " 'bright green': (1, 255, 7),\n",
       " 'dark purple': (53, 6, 62),\n",
       " 'mauve': (174, 113, 129),\n",
       " 'forest green': (6, 71, 12),\n",
       " 'aqua': (19, 234, 201),\n",
       " 'cyan': (0, 255, 255),\n",
       " 'tan': (209, 178, 111),\n",
       " 'dark blue': (0, 3, 91),\n",
       " 'lavender': (199, 159, 239),\n",
       " 'turquoise': (6, 194, 172),\n",
       " 'dark green': (3, 53, 0),\n",
       " 'violet': (154, 14, 234),\n",
       " 'light purple': (191, 119, 246),\n",
       " 'lime green': (137, 254, 5),\n",
       " 'grey': (146, 149, 145),\n",
       " 'sky blue': (117, 187, 253),\n",
       " 'yellow': (255, 255, 20),\n",
       " 'magenta': (194, 0, 120),\n",
       " 'light green': (150, 249, 123),\n",
       " 'orange': (249, 115, 6),\n",
       " 'teal': (2, 147, 134),\n",
       " 'light blue': (149, 208, 252),\n",
       " 'red': (229, 0, 0),\n",
       " 'brown': (101, 55, 0),\n",
       " 'pink': (255, 129, 192),\n",
       " 'blue': (3, 67, 223),\n",
       " 'green': (21, 176, 26),\n",
       " 'purple': (126, 30, 156)}"
      ]
     },
     "execution_count": 7,
     "metadata": {},
     "output_type": "execute_result"
    }
   ],
   "source": [
    "colors"
   ]
  },
  {
   "cell_type": "code",
   "execution_count": 6,
   "metadata": {
    "ExecuteTime": {
     "end_time": "2019-11-17T00:26:01.935877Z",
     "start_time": "2019-11-17T00:26:01.928059Z"
    }
   },
   "outputs": [
    {
     "data": {
      "text/plain": [
       "(110, 117, 14)"
      ]
     },
     "execution_count": 6,
     "metadata": {},
     "output_type": "execute_result"
    }
   ],
   "source": [
    "colors['olive']"
   ]
  },
  {
   "cell_type": "code",
   "execution_count": 123,
   "metadata": {
    "ExecuteTime": {
     "end_time": "2019-11-13T15:49:57.146024Z",
     "start_time": "2019-11-13T15:49:57.142779Z"
    }
   },
   "outputs": [
    {
     "data": {
      "text/plain": [
       "(229, 0, 0)"
      ]
     },
     "execution_count": 123,
     "metadata": {},
     "output_type": "execute_result"
    }
   ],
   "source": [
    "colors['red']"
   ]
  },
  {
   "cell_type": "code",
   "execution_count": 124,
   "metadata": {
    "ExecuteTime": {
     "end_time": "2019-11-13T15:49:57.650249Z",
     "start_time": "2019-11-13T15:49:57.646979Z"
    }
   },
   "outputs": [
    {
     "data": {
      "text/plain": [
       "(0, 0, 0)"
      ]
     },
     "execution_count": 124,
     "metadata": {},
     "output_type": "execute_result"
    }
   ],
   "source": [
    "colors['black']"
   ]
  },
  {
   "cell_type": "code",
   "execution_count": 125,
   "metadata": {
    "ExecuteTime": {
     "end_time": "2019-11-13T15:49:58.459892Z",
     "start_time": "2019-11-13T15:49:58.456120Z"
    }
   },
   "outputs": [
    {
     "data": {
      "text/plain": [
       "dict_keys(['cloudy blue', 'dark pastel green', 'dust', 'electric lime', 'fresh green', 'light eggplant', 'nasty green', 'really light blue', 'tea', 'warm purple', 'yellowish tan', 'cement', 'dark grass green', 'dusty teal', 'grey teal', 'macaroni and cheese', 'pinkish tan', 'spruce', 'strong blue', 'toxic green', 'windows blue', 'blue blue', 'blue with a hint of purple', 'booger', 'bright sea green', 'dark green blue', 'deep turquoise', 'green teal', 'strong pink', 'bland', 'deep aqua', 'lavender pink', 'light moss green', 'light seafoam green', 'olive yellow', 'pig pink', 'deep lilac', 'desert', 'dusty lavender', 'purpley grey', 'purply', 'candy pink', 'light pastel green', 'boring green', 'kiwi green', 'light grey green', 'orange pink', 'tea green', 'very light brown', 'egg shell', 'eggplant purple', 'powder pink', 'reddish grey', 'baby shit brown', 'liliac', 'stormy blue', 'ugly brown', 'custard', 'darkish pink', 'deep brown', 'greenish beige', 'manilla', 'off blue', 'battleship grey', 'browny green', 'bruise', 'kelley green', 'sickly yellow', 'sunny yellow', 'azul', 'darkgreen', 'green/yellow', 'lichen', 'light light green', 'pale gold', 'sun yellow', 'tan green', 'burple', 'butterscotch', 'toupe', 'dark cream', 'indian red', 'light lavendar', 'poison green', 'baby puke green', 'bright yellow green', 'charcoal grey', 'squash', 'cinnamon', 'light pea green', 'radioactive green', 'raw sienna', 'baby purple', 'cocoa', 'light royal blue', 'orangeish', 'rust brown', 'sand brown', 'swamp', 'tealish green', 'burnt siena', 'camo', 'dusk blue', 'fern', 'old rose', 'pale light green', 'peachy pink', 'rosy pink', 'light bluish green', 'light bright green', 'light neon green', 'light seafoam', 'tiffany blue', 'washed out green', 'browny orange', 'nice blue', 'sapphire', 'greyish teal', 'orangey yellow', 'parchment', 'straw', 'very dark brown', 'terracota', 'ugly blue', 'clear blue', 'creme', 'foam green', 'grey/green', 'light gold', 'seafoam blue', 'topaz', 'violet pink', 'wintergreen', 'yellow tan', 'dark fuchsia', 'indigo blue', 'light yellowish green', 'pale magenta', 'rich purple', 'sunflower yellow', 'green/blue', 'leather', 'racing green', 'vivid purple', 'dark royal blue', 'hazel', 'muted pink', 'booger green', 'canary', 'cool grey', 'dark taupe', 'darkish purple', 'true green', 'coral pink', 'dark sage', 'dark slate blue', 'flat blue', 'mushroom', 'rich blue', 'dirty purple', 'greenblue', 'icky green', 'light khaki', 'warm blue', 'dark hot pink', 'deep sea blue', 'carmine', 'dark yellow green', 'pale peach', 'plum purple', 'golden rod', 'neon red', 'old pink', 'very pale blue', 'blood orange', 'grapefruit', 'sand yellow', 'clay brown', 'dark blue grey', 'flat green', 'light green blue', 'warm pink', 'dodger blue', 'gross green', 'ice', 'metallic blue', 'pale salmon', 'sap green', 'algae', 'bluey grey', 'greeny grey', 'highlighter green', 'light light blue', 'light mint', 'raw umber', 'vivid blue', 'deep lavender', 'dull teal', 'light greenish blue', 'mud green', 'pinky', 'red wine', 'shit green', 'tan brown', 'darkblue', 'rosa', 'lipstick', 'pale mauve', 'claret', 'dandelion', 'orangered', 'poop green', 'ruby', 'dark', 'greenish turquoise', 'pastel red', 'piss yellow', 'bright cyan', 'dark coral', 'algae green', 'darkish red', 'reddy brown', 'blush pink', 'camouflage green', 'lawn green', 'putty', 'vibrant blue', 'dark sand', 'purple/blue', 'saffron', 'twilight', 'warm brown', 'bluegrey', 'bubble gum pink', 'duck egg blue', 'greenish cyan', 'petrol', 'royal', 'butter', 'dusty orange', 'off yellow', 'pale olive green', 'orangish', 'leaf', 'light blue grey', 'dried blood', 'lightish purple', 'rusty red', 'lavender blue', 'light grass green', 'light mint green', 'sunflower', 'velvet', 'brick orange', 'lightish red', 'pure blue', 'twilight blue', 'violet red', 'yellowy brown', 'carnation', 'muddy yellow', 'dark seafoam green', 'deep rose', 'dusty red', 'grey/blue', 'lemon lime', 'purple/pink', 'brown yellow', 'purple brown', 'wisteria', 'banana yellow', 'lipstick red', 'water blue', 'brown grey', 'vibrant purple', 'baby green', 'barf green', 'eggshell blue', 'sandy yellow', 'cool green', 'pale', 'blue/grey', 'hot magenta', 'greyblue', 'purpley', 'baby shit green', 'brownish pink', 'dark aquamarine', 'diarrhea', 'light mustard', 'pale sky blue', 'turtle green', 'bright olive', 'dark grey blue', 'greeny brown', 'lemon green', 'light periwinkle', 'seaweed green', 'sunshine yellow', 'ugly purple', 'medium pink', 'puke brown', 'very light pink', 'viridian', 'bile', 'faded yellow', 'very pale green', 'vibrant green', 'bright lime', 'spearmint', 'light aquamarine', 'light sage', 'yellowgreen', 'baby poo', 'dark seafoam', 'deep teal', 'heather', 'rust orange', 'dirty blue', 'fern green', 'bright lilac', 'weird green', 'peacock blue', 'avocado green', 'faded orange', 'grape purple', 'hot green', 'lime yellow', 'mango', 'shamrock', 'bubblegum', 'purplish brown', 'vomit yellow', 'pale cyan', 'key lime', 'tomato red', 'lightgreen', 'merlot', 'night blue', 'purpleish pink', 'apple', 'baby poop green', 'green apple', 'heliotrope', 'yellow/green', 'almost black', 'cool blue', 'leafy green', 'mustard brown', 'dusk', 'dull brown', 'frog green', 'vivid green', 'bright light green', 'fluro green', 'kiwi', 'seaweed', 'navy green', 'ultramarine blue', 'iris', 'pastel orange', 'yellowish orange', 'perrywinkle', 'tealish', 'dark plum', 'pear', 'pinkish orange', 'midnight purple', 'light urple', 'dark mint', 'greenish tan', 'light burgundy', 'turquoise blue', 'ugly pink', 'sandy', 'electric pink', 'muted purple', 'mid green', 'greyish', 'neon yellow', 'banana', 'carnation pink', 'tomato', 'sea', 'muddy brown', 'turquoise green', 'buff', 'fawn', 'muted blue', 'pale rose', 'dark mint green', 'amethyst', 'blue/green', 'chestnut', 'sick green', 'pea', 'rusty orange', 'stone', 'rose red', 'pale aqua', 'deep orange', 'earth', 'mossy green', 'grassy green', 'pale lime green', 'light grey blue', 'pale grey', 'asparagus', 'blueberry', 'purple red', 'pale lime', 'greenish teal', 'caramel', 'deep magenta', 'light peach', 'milk chocolate', 'ocher', 'off green', 'purply pink', 'lightblue', 'dusky blue', 'golden', 'light beige', 'butter yellow', 'dusky purple', 'french blue', 'ugly yellow', 'greeny yellow', 'orangish red', 'shamrock green', 'orangish brown', 'tree green', 'deep violet', 'gunmetal', 'blue/purple', 'cherry', 'sandy brown', 'warm grey', 'dark indigo', 'midnight', 'bluey green', 'grey pink', 'soft purple', 'blood', 'brown red', 'medium grey', 'berry', 'poo', 'purpley pink', 'light salmon', 'snot', 'easter purple', 'light yellow green', 'dark navy blue', 'drab', 'light rose', 'rouge', 'purplish red', 'slime green', 'baby poop', 'irish green', 'pink/purple', 'dark navy', 'greeny blue', 'light plum', 'pinkish grey', 'dirty orange', 'rust red', 'pale lilac', 'orangey red', 'primary blue', 'kermit green', 'brownish purple', 'murky green', 'wheat', 'very dark purple', 'bottle green', 'watermelon', 'deep sky blue', 'fire engine red', 'yellow ochre', 'pumpkin orange', 'pale olive', 'light lilac', 'lightish green', 'carolina blue', 'mulberry', 'shocking pink', 'auburn', 'bright lime green', 'celadon', 'pinkish brown', 'poo brown', 'bright sky blue', 'celery', 'dirt brown', 'strawberry', 'dark lime', 'copper', 'medium brown', 'muted green', \"robin's egg\", 'bright aqua', 'bright lavender', 'ivory', 'very light purple', 'light navy', 'pink red', 'olive brown', 'poop brown', 'mustard green', 'ocean green', 'very dark blue', 'dusty green', 'light navy blue', 'minty green', 'adobe', 'barney', 'jade green', 'bright light blue', 'light lime', 'dark khaki', 'orange yellow', 'ocre', 'maize', 'faded pink', 'british racing green', 'sandstone', 'mud brown', 'light sea green', 'robin egg blue', 'aqua marine', 'dark sea green', 'soft pink', 'orangey brown', 'cherry red', 'burnt yellow', 'brownish grey', 'camel', 'purplish grey', 'marine', 'greyish pink', 'pale turquoise', 'pastel yellow', 'bluey purple', 'canary yellow', 'faded red', 'sepia', 'coffee', 'bright magenta', 'mocha', 'ecru', 'purpleish', 'cranberry', 'darkish green', 'brown orange', 'dusky rose', 'melon', 'sickly green', 'silver', 'purply blue', 'purpleish blue', 'hospital green', 'shit brown', 'mid blue', 'amber', 'easter green', 'soft blue', 'cerulean blue', 'golden brown', 'bright turquoise', 'red pink', 'red purple', 'greyish brown', 'vermillion', 'russet', 'steel grey', 'lighter purple', 'bright violet', 'prussian blue', 'slate green', 'dirty pink', 'dark blue green', 'pine', 'yellowy green', 'dark gold', 'bluish', 'darkish blue', 'dull red', 'pinky red', 'bronze', 'pale teal', 'military green', 'barbie pink', 'bubblegum pink', 'pea soup green', 'dark mustard', 'shit', 'medium purple', 'very dark green', 'dirt', 'dusky pink', 'red violet', 'lemon yellow', 'pistachio', 'dull yellow', 'dark lime green', 'denim blue', 'teal blue', 'lightish blue', 'purpley blue', 'light indigo', 'swamp green', 'brown green', 'dark maroon', 'hot purple', 'dark forest green', 'faded blue', 'drab green', 'light lime green', 'snot green', 'yellowish', 'light blue green', 'bordeaux', 'light mauve', 'ocean', 'marigold', 'muddy green', 'dull orange', 'steel', 'electric purple', 'fluorescent green', 'yellowish brown', 'blush', 'soft green', 'bright orange', 'lemon', 'purple grey', 'acid green', 'pale lavender', 'violet blue', 'light forest green', 'burnt red', 'khaki green', 'cerise', 'faded purple', 'apricot', 'dark olive green', 'grey brown', 'green grey', 'true blue', 'pale violet', 'periwinkle blue', 'light sky blue', 'blurple', 'green brown', 'bluegreen', 'bright teal', 'brownish yellow', 'pea soup', 'forest', 'barney purple', 'ultramarine', 'purplish', 'puke yellow', 'bluish grey', 'dark periwinkle', 'dark lilac', 'reddish', 'light maroon', 'dusty purple', 'terra cotta', 'avocado', 'marine blue', 'teal green', 'slate grey', 'lighter green', 'electric green', 'dusty blue', 'golden yellow', 'bright yellow', 'light lavender', 'umber', 'poop', 'dark peach', 'jungle green', 'eggshell', 'denim', 'yellow brown', 'dull purple', 'chocolate brown', 'wine red', 'neon blue', 'dirty green', 'light tan', 'ice blue', 'cadet blue', 'dark mauve', 'very light blue', 'grey purple', 'pastel pink', 'very light green', 'dark sky blue', 'evergreen', 'dull pink', 'aubergine', 'mahogany', 'reddish orange', 'deep green', 'vomit green', 'purple pink', 'dusty pink', 'faded green', 'camo green', 'pinky purple', 'pink purple', 'brownish red', 'dark rose', 'mud', 'brownish', 'emerald green', 'pale brown', 'dull blue', 'burnt umber', 'medium green', 'clay', 'light aqua', 'light olive green', 'brownish orange', 'dark aqua', 'purplish pink', 'dark salmon', 'greenish grey', 'jade', 'ugly green', 'dark beige', 'emerald', 'pale red', 'light magenta', 'sky', 'light cyan', 'yellow orange', 'reddish purple', 'reddish pink', 'orchid', 'dirty yellow', 'orange red', 'deep red', 'orange brown', 'cobalt blue', 'neon pink', 'rose pink', 'greyish purple', 'raspberry', 'aqua green', 'salmon pink', 'tangerine', 'brownish green', 'red brown', 'greenish brown', 'pumpkin', 'pine green', 'charcoal', 'baby pink', 'cornflower', 'blue violet', 'chocolate', 'greyish green', 'scarlet', 'green yellow', 'dark olive', 'sienna', 'pastel purple', 'terracotta', 'aqua blue', 'sage green', 'blood red', 'deep pink', 'grass', 'moss', 'pastel blue', 'bluish green', 'green blue', 'dark tan', 'greenish blue', 'pale orange', 'vomit', 'forrest green', 'dark lavender', 'dark violet', 'purple blue', 'dark cyan', 'olive drab', 'pinkish', 'cobalt', 'neon purple', 'light turquoise', 'apple green', 'dull green', 'wine', 'powder blue', 'off white', 'electric blue', 'dark turquoise', 'blue purple', 'azure', 'bright red', 'pinkish red', 'cornflower blue', 'light olive', 'grape', 'greyish blue', 'purplish blue', 'yellowish green', 'greenish yellow', 'medium blue', 'dusty rose', 'light violet', 'midnight blue', 'bluish purple', 'red orange', 'dark magenta', 'greenish', 'ocean blue', 'coral', 'cream', 'reddish brown', 'burnt sienna', 'brick', 'sage', 'grey green', 'white', \"robin's egg blue\", 'moss green', 'steel blue', 'eggplant', 'light yellow', 'leaf green', 'light grey', 'puke', 'pinkish purple', 'sea blue', 'pale purple', 'slate blue', 'blue grey', 'hunter green', 'fuchsia', 'crimson', 'pale yellow', 'ochre', 'mustard yellow', 'light red', 'cerulean', 'pale pink', 'deep blue', 'rust', 'light teal', 'slate', 'goldenrod', 'dark yellow', 'dark grey', 'army green', 'grey blue', 'seafoam', 'puce', 'spring green', 'dark orange', 'sand', 'pastel green', 'mint', 'light orange', 'bright pink', 'chartreuse', 'deep purple', 'dark brown', 'taupe', 'pea green', 'puke green', 'kelly green', 'seafoam green', 'blue green', 'khaki', 'burgundy', 'dark teal', 'brick red', 'royal purple', 'plum', 'mint green', 'gold', 'baby blue', 'yellow green', 'bright purple', 'dark red', 'pale blue', 'grass green', 'navy', 'aquamarine', 'burnt orange', 'neon green', 'bright blue', 'rose', 'light pink', 'mustard', 'indigo', 'lime', 'sea green', 'periwinkle', 'dark pink', 'olive green', 'peach', 'pale green', 'light brown', 'hot pink', 'black', 'lilac', 'navy blue', 'royal blue', 'beige', 'salmon', 'olive', 'maroon', 'bright green', 'dark purple', 'mauve', 'forest green', 'aqua', 'cyan', 'tan', 'dark blue', 'lavender', 'turquoise', 'dark green', 'violet', 'light purple', 'lime green', 'grey', 'sky blue', 'yellow', 'magenta', 'light green', 'orange', 'teal', 'light blue', 'red', 'brown', 'pink', 'blue', 'green', 'purple'])"
      ]
     },
     "execution_count": 125,
     "metadata": {},
     "output_type": "execute_result"
    }
   ],
   "source": [
    "colors.keys()"
   ]
  },
  {
   "cell_type": "markdown",
   "metadata": {},
   "source": [
    "### Vector math\n",
    "\n",
    "Before we keep going, we'll need some functions for performing basic vector arithmetic. These functions will work with vectors in spaces of any number of dimensions.\n",
    "\n",
    "The first function returns the Euclidean distance between two points:"
   ]
  },
  {
   "cell_type": "code",
   "execution_count": 126,
   "metadata": {
    "ExecuteTime": {
     "end_time": "2019-11-13T15:50:01.938663Z",
     "start_time": "2019-11-13T15:50:01.934098Z"
    },
    "scrolled": true
   },
   "outputs": [
    {
     "data": {
      "text/plain": [
       "5.0990195135927845"
      ]
     },
     "execution_count": 126,
     "metadata": {},
     "output_type": "execute_result"
    }
   ],
   "source": [
    "import math\n",
    "def distance(coord1, coord2):\n",
    "    return np.linalg.norm(np.array(coord1)-np.array(coord2))\n",
    "distance([10, 1], [5, 2])"
   ]
  },
  {
   "cell_type": "code",
   "execution_count": 127,
   "metadata": {
    "ExecuteTime": {
     "end_time": "2019-11-13T15:50:02.771685Z",
     "start_time": "2019-11-13T15:50:02.767544Z"
    }
   },
   "outputs": [
    {
     "data": {
      "text/plain": [
       "5.0990195135927845"
      ]
     },
     "execution_count": 127,
     "metadata": {},
     "output_type": "execute_result"
    }
   ],
   "source": [
    "distance([10, 1, 200], [5, 2, 200])"
   ]
  },
  {
   "cell_type": "markdown",
   "metadata": {},
   "source": [
    "The `subtractv` function subtracts one vector from another:"
   ]
  },
  {
   "cell_type": "code",
   "execution_count": 128,
   "metadata": {
    "ExecuteTime": {
     "end_time": "2019-11-13T15:50:04.121506Z",
     "start_time": "2019-11-13T15:50:04.116987Z"
    }
   },
   "outputs": [
    {
     "data": {
      "text/plain": [
       "[5, -1]"
      ]
     },
     "execution_count": 128,
     "metadata": {},
     "output_type": "execute_result"
    }
   ],
   "source": [
    "def subtractv(coord1, coord2):\n",
    "    return list(np.array(coord1) - np.array(coord2))\n",
    "subtractv([10, 1], [5, 2])"
   ]
  },
  {
   "cell_type": "markdown",
   "metadata": {},
   "source": [
    "The `addv` vector adds two vectors together:"
   ]
  },
  {
   "cell_type": "code",
   "execution_count": 129,
   "metadata": {
    "ExecuteTime": {
     "end_time": "2019-11-13T15:50:06.257051Z",
     "start_time": "2019-11-13T15:50:06.252973Z"
    }
   },
   "outputs": [
    {
     "data": {
      "text/plain": [
       "[15, 3]"
      ]
     },
     "execution_count": 129,
     "metadata": {},
     "output_type": "execute_result"
    }
   ],
   "source": [
    "def addv(coord1, coord2):\n",
    "    return list(np.array(coord1) + np.array(coord2))\n",
    "addv([10, 1], [5, 2])"
   ]
  },
  {
   "cell_type": "markdown",
   "metadata": {},
   "source": [
    "And the `meanv` function takes a list of vectors and finds their mean or average:"
   ]
  },
  {
   "cell_type": "code",
   "execution_count": 130,
   "metadata": {
    "ExecuteTime": {
     "end_time": "2019-11-13T15:50:07.160782Z",
     "start_time": "2019-11-13T15:50:07.156442Z"
    }
   },
   "outputs": [
    {
     "data": {
      "text/plain": [
       "[2.0, 2.0]"
      ]
     },
     "execution_count": 130,
     "metadata": {},
     "output_type": "execute_result"
    }
   ],
   "source": [
    "def meanv(coords):\n",
    "    return list(np.mean(coords, axis=0))\n",
    "meanv([[0, 1], [2, 2], [4, 3]])"
   ]
  },
  {
   "cell_type": "markdown",
   "metadata": {},
   "source": [
    "Just as a test, the following cell shows that the distance from \"red\" to \"green\" is greater than the distance from \"red\" to \"pink\":"
   ]
  },
  {
   "cell_type": "code",
   "execution_count": 131,
   "metadata": {
    "ExecuteTime": {
     "end_time": "2019-11-13T15:50:08.169632Z",
     "start_time": "2019-11-13T15:50:08.165528Z"
    }
   },
   "outputs": [
    {
     "data": {
      "text/plain": [
       "True"
      ]
     },
     "execution_count": 131,
     "metadata": {},
     "output_type": "execute_result"
    }
   ],
   "source": [
    "distance(colors['red'], colors['green']) > distance(colors['red'], colors['pink'])"
   ]
  },
  {
   "cell_type": "markdown",
   "metadata": {},
   "source": [
    "### Finding the closest item\n",
    "\n",
    "Just as we wanted to find the animal that most closely matched an arbitrary point in cuteness/size space, we'll want to find the closest color name to an arbitrary point in RGB space. The easiest way to find the closest item to an arbitrary vector is simply to find the distance between the target vector and each item in the space, in turn, then sort the list from closest to farthest. The `closest()` function below does just that. By default, it returns a list of the ten closest items to the given vector.\n",
    "\n",
    "> Note: Calculating \"closest neighbors\" like this is fine for the examples in this notebook, but unmanageably slow for vector spaces of any appreciable size. As your vector space grows, you'll want to move to a faster solution, like SciPy's [kdtree](https://docs.scipy.org/doc/scipy-0.14.0/reference/generated/scipy.spatial.KDTree.html) or [Annoy](https://pypi.python.org/pypi/annoy)."
   ]
  },
  {
   "cell_type": "code",
   "execution_count": 132,
   "metadata": {
    "ExecuteTime": {
     "end_time": "2019-11-13T15:50:11.721466Z",
     "start_time": "2019-11-13T15:50:11.718549Z"
    }
   },
   "outputs": [],
   "source": [
    "def closest(space, coord, n=10):\n",
    "    return sorted(space.keys(), key=lambda x: distance(coord, space[x]))[:n]"
   ]
  },
  {
   "cell_type": "markdown",
   "metadata": {},
   "source": [
    "Testing it out, we can find the ten colors closest to \"red\":"
   ]
  },
  {
   "cell_type": "code",
   "execution_count": 133,
   "metadata": {
    "ExecuteTime": {
     "end_time": "2019-11-13T15:50:12.579380Z",
     "start_time": "2019-11-13T15:50:12.564898Z"
    }
   },
   "outputs": [
    {
     "data": {
      "text/plain": [
       "['white',\n",
       " 'pale grey',\n",
       " 'very light pink',\n",
       " 'off white',\n",
       " 'ice blue',\n",
       " 'very pale blue',\n",
       " 'ice',\n",
       " 'very light blue',\n",
       " 'really light blue',\n",
       " 'eggshell']"
      ]
     },
     "execution_count": 133,
     "metadata": {},
     "output_type": "execute_result"
    }
   ],
   "source": [
    "closest(colors, colors['white'])"
   ]
  },
  {
   "cell_type": "markdown",
   "metadata": {},
   "source": [
    "... or the ten colors closest to (150, 60, 150):"
   ]
  },
  {
   "cell_type": "code",
   "execution_count": 134,
   "metadata": {
    "ExecuteTime": {
     "end_time": "2019-11-13T15:50:14.407327Z",
     "start_time": "2019-11-13T15:50:14.394219Z"
    }
   },
   "outputs": [
    {
     "data": {
      "text/plain": [
       "['barbie pink',\n",
       " 'warm pink',\n",
       " 'medium pink',\n",
       " 'rosy pink',\n",
       " 'darkish pink',\n",
       " 'bubble gum pink',\n",
       " 'strong pink',\n",
       " 'electric pink',\n",
       " 'bubblegum',\n",
       " 'hot pink']"
      ]
     },
     "execution_count": 134,
     "metadata": {},
     "output_type": "execute_result"
    }
   ],
   "source": [
    "closest(colors, [255, 60, 150])"
   ]
  },
  {
   "cell_type": "markdown",
   "metadata": {},
   "source": [
    "### Color magic\n",
    "\n",
    "The magical part of representing words as vectors is that the vector operations we defined earlier appear to operate on language the same way they operate on numbers. For example, if we find the word closest to the vector resulting from subtracting \"red\" from \"purple,\" we get a series of \"blue\" colors:"
   ]
  },
  {
   "cell_type": "code",
   "execution_count": 141,
   "metadata": {
    "ExecuteTime": {
     "end_time": "2019-11-13T15:50:59.184682Z",
     "start_time": "2019-11-13T15:50:59.181251Z"
    }
   },
   "outputs": [
    {
     "data": {
      "text/plain": [
       "[-105, 146, -130]"
      ]
     },
     "execution_count": 141,
     "metadata": {},
     "output_type": "execute_result"
    }
   ],
   "source": [
    "subtractv(colors['green'], colors['purple'])"
   ]
  },
  {
   "cell_type": "code",
   "execution_count": 135,
   "metadata": {
    "ExecuteTime": {
     "end_time": "2019-11-13T15:50:16.731626Z",
     "start_time": "2019-11-13T15:50:16.716722Z"
    }
   },
   "outputs": [
    {
     "data": {
      "text/plain": [
       "['true green',\n",
       " 'racing green',\n",
       " 'bottle green',\n",
       " 'deep green',\n",
       " 'darkgreen',\n",
       " 'forest',\n",
       " 'emerald green',\n",
       " 'dark green',\n",
       " 'vibrant green',\n",
       " 'british racing green']"
      ]
     },
     "execution_count": 135,
     "metadata": {},
     "output_type": "execute_result"
    }
   ],
   "source": [
    "closest(colors, subtractv(colors['green'], colors['purple']))"
   ]
  },
  {
   "cell_type": "markdown",
   "metadata": {},
   "source": [
    "This matches our intuition about RGB colors, which is that purple is a combination of red and blue. Take away the red, and blue is all you have left.\n",
    "\n",
    "You can do something similar with addition. What's blue plus green?"
   ]
  },
  {
   "cell_type": "code",
   "execution_count": 140,
   "metadata": {
    "ExecuteTime": {
     "end_time": "2019-11-13T15:50:52.657120Z",
     "start_time": "2019-11-13T15:50:52.653524Z"
    }
   },
   "outputs": [
    {
     "data": {
      "text/plain": [
       "[24, 243, 249]"
      ]
     },
     "execution_count": 140,
     "metadata": {},
     "output_type": "execute_result"
    }
   ],
   "source": [
    "addv(colors['blue'], colors['green'])"
   ]
  },
  {
   "cell_type": "code",
   "execution_count": 136,
   "metadata": {
    "ExecuteTime": {
     "end_time": "2019-11-13T15:50:18.124120Z",
     "start_time": "2019-11-13T15:50:18.110169Z"
    }
   },
   "outputs": [
    {
     "data": {
      "text/plain": [
       "['bright turquoise',\n",
       " 'bright light blue',\n",
       " 'bright aqua',\n",
       " 'cyan',\n",
       " 'neon blue',\n",
       " 'aqua blue',\n",
       " 'bright cyan',\n",
       " 'bright sky blue',\n",
       " 'aqua',\n",
       " 'bright teal']"
      ]
     },
     "execution_count": 136,
     "metadata": {},
     "output_type": "execute_result"
    }
   ],
   "source": [
    "closest(colors, addv(colors['blue'], colors['green']))"
   ]
  },
  {
   "cell_type": "markdown",
   "metadata": {},
   "source": [
    "That's right, it's something like turquoise or cyan! What if we find the average of black and white? Predictably, we get gray:"
   ]
  },
  {
   "cell_type": "code",
   "execution_count": 137,
   "metadata": {
    "ExecuteTime": {
     "end_time": "2019-11-13T15:50:20.010482Z",
     "start_time": "2019-11-13T15:50:19.996112Z"
    }
   },
   "outputs": [
    {
     "data": {
      "text/plain": [
       "['medium grey',\n",
       " 'purple grey',\n",
       " 'steel grey',\n",
       " 'battleship grey',\n",
       " 'grey purple',\n",
       " 'purplish grey',\n",
       " 'greyish purple',\n",
       " 'steel',\n",
       " 'warm grey',\n",
       " 'green grey']"
      ]
     },
     "execution_count": 137,
     "metadata": {},
     "output_type": "execute_result"
    }
   ],
   "source": [
    "# the average of black and white: medium grey\n",
    "closest(colors, meanv([colors['black'], colors['white']]))"
   ]
  },
  {
   "cell_type": "markdown",
   "metadata": {},
   "source": [
    "Just as with the tarantula/hamster example from the previous section, we can use color vectors to reason about relationships between colors. In the cell below, finding the difference between \"pink\" and \"red\" then adding it to \"blue\" seems to give us a list of colors that are to blue what pink is to red (i.e., a slightly lighter, less saturated shade):"
   ]
  },
  {
   "cell_type": "code",
   "execution_count": 142,
   "metadata": {
    "ExecuteTime": {
     "end_time": "2019-11-13T15:52:23.622631Z",
     "start_time": "2019-11-13T15:52:23.608486Z"
    }
   },
   "outputs": [
    {
     "data": {
      "text/plain": [
       "['neon blue',\n",
       " 'bright sky blue',\n",
       " 'bright light blue',\n",
       " 'cyan',\n",
       " 'bright cyan',\n",
       " 'bright turquoise',\n",
       " 'clear blue',\n",
       " 'azure',\n",
       " 'dodger blue',\n",
       " 'lightish blue']"
      ]
     },
     "execution_count": 142,
     "metadata": {},
     "output_type": "execute_result"
    }
   ],
   "source": [
    "# an analogy: pink is to red as X is to blue\n",
    "pink_to_red = subtractv(colors['pink'], colors['red'])\n",
    "closest(colors, addv(pink_to_red, colors['blue']))"
   ]
  },
  {
   "cell_type": "markdown",
   "metadata": {},
   "source": [
    "Another example of color analogies: Navy is to blue as true green/dark grass green is to green:"
   ]
  },
  {
   "cell_type": "code",
   "execution_count": 139,
   "metadata": {
    "ExecuteTime": {
     "end_time": "2019-11-13T15:50:22.929045Z",
     "start_time": "2019-11-13T15:50:22.914386Z"
    }
   },
   "outputs": [
    {
     "data": {
      "text/plain": [
       "['true green',\n",
       " 'dark grass green',\n",
       " 'grassy green',\n",
       " 'racing green',\n",
       " 'forest',\n",
       " 'bottle green',\n",
       " 'dark olive green',\n",
       " 'darkgreen',\n",
       " 'forrest green',\n",
       " 'grass green']"
      ]
     },
     "execution_count": 139,
     "metadata": {},
     "output_type": "execute_result"
    }
   ],
   "source": [
    "# another example: \n",
    "navy_to_blue = subtractv(colors['navy'], colors['blue'])\n",
    "closest(colors, addv(navy_to_blue, colors['green']))"
   ]
  },
  {
   "cell_type": "markdown",
   "metadata": {},
   "source": [
    "The examples above are fairly simple from a mathematical perspective but nevertheless *feel* magical: they're demonstrating that it's possible to use math to reason about how people use language."
   ]
  },
  {
   "cell_type": "markdown",
   "metadata": {},
   "source": [
    "### Interlude: A Love Poem That Loses Its Way"
   ]
  },
  {
   "cell_type": "code",
   "execution_count": 118,
   "metadata": {
    "ExecuteTime": {
     "end_time": "2019-11-13T15:40:41.996622Z",
     "start_time": "2019-11-13T15:40:41.754816Z"
    }
   },
   "outputs": [
    {
     "name": "stdout",
     "output_type": "stream",
     "text": [
      "Roses are red, violets are blue\n",
      "Roses are fuchsia, violets are racing green\n",
      "Roses are pink/purple, violets are darkgreen\n",
      "Roses are fuchsia, violets are evergreen\n",
      "Roses are cherry red, violets are darkgreen\n",
      "Roses are fire engine red, violets are prussian blue\n",
      "Roses are hot pink, violets are bottle green\n",
      "Roses are shocking pink, violets are evergreen\n",
      "Roses are neon pink, violets are darkgreen\n",
      "Roses are bright pink, violets are pine green\n",
      "Roses are neon red, violets are bottle green\n",
      "Roses are electric pink, violets are evergreen\n",
      "Roses are neon pink, violets are dark teal\n",
      "Roses are fire engine red, violets are dark blue green\n"
     ]
    }
   ],
   "source": [
    "import random\n",
    "red = colors['red']\n",
    "blue = colors['blue']\n",
    "for i in range(14):\n",
    "    rednames = closest(colors, red)\n",
    "    bluenames = closest(colors, blue)\n",
    "    print(f\"Roses are {rednames[0]}, violets are {bluenames[0]}\")\n",
    "    red = colors[random.choice(rednames[1:])]\n",
    "    blue = colors[random.choice(bluenames[1:])]"
   ]
  },
  {
   "cell_type": "markdown",
   "metadata": {},
   "source": [
    "### Doing bad digital humanities with color vectors\n",
    "\n",
    "With the tools above in hand, we can start using our vectorized knowledge of language toward academic ends. In the following example, I'm going to calculate the average color of Bram Stoker's *Dracula*.\n",
    "\n",
    "First, we'll load [spaCy](https://spacy.io/):"
   ]
  },
  {
   "cell_type": "code",
   "execution_count": 143,
   "metadata": {
    "ExecuteTime": {
     "end_time": "2019-11-13T15:55:55.605658Z",
     "start_time": "2019-11-13T15:55:34.090772Z"
    }
   },
   "outputs": [
    {
     "name": "stdout",
     "output_type": "stream",
     "text": [
      "Collecting package metadata (current_repodata.json): done\n",
      "Solving environment: / ^C\n",
      "failed with initial frozen solve. Retrying with flexible solve.\n",
      "\n",
      "CondaError: KeyboardInterrupt\n",
      "\n"
     ]
    }
   ],
   "source": [
    "#!pip install spacy"
   ]
  },
  {
   "cell_type": "code",
   "execution_count": 119,
   "metadata": {
    "ExecuteTime": {
     "end_time": "2019-11-13T15:40:43.172284Z",
     "start_time": "2019-11-13T15:40:43.162874Z"
    }
   },
   "outputs": [
    {
     "ename": "ModuleNotFoundError",
     "evalue": "No module named 'spacy'",
     "output_type": "error",
     "traceback": [
      "\u001b[0;31m---------------------------------------------------------------------------\u001b[0m",
      "\u001b[0;31mModuleNotFoundError\u001b[0m                       Traceback (most recent call last)",
      "\u001b[0;32m<ipython-input-119-e4c801bd61f2>\u001b[0m in \u001b[0;36m<module>\u001b[0;34m\u001b[0m\n\u001b[0;32m----> 1\u001b[0;31m \u001b[0;32mimport\u001b[0m \u001b[0mspacy\u001b[0m\u001b[0;34m\u001b[0m\u001b[0;34m\u001b[0m\u001b[0m\n\u001b[0m\u001b[1;32m      2\u001b[0m \u001b[0mnlp\u001b[0m \u001b[0;34m=\u001b[0m \u001b[0mspacy\u001b[0m\u001b[0;34m.\u001b[0m\u001b[0mload\u001b[0m\u001b[0;34m(\u001b[0m\u001b[0;34m'en_core_web_sm'\u001b[0m\u001b[0;34m)\u001b[0m\u001b[0;34m\u001b[0m\u001b[0;34m\u001b[0m\u001b[0m\n",
      "\u001b[0;31mModuleNotFoundError\u001b[0m: No module named 'spacy'"
     ]
    }
   ],
   "source": [
    "import spacy\n",
    "nlp = spacy.load('en_core_web_sm')"
   ]
  },
  {
   "cell_type": "markdown",
   "metadata": {},
   "source": [
    "To calculate the average color, we'll follow these steps:\n",
    "\n",
    "1. Parse the text into words\n",
    "2. Check every word to see if it names a color in our vector space. If it does, add it to a list of vectors.\n",
    "3. Find the average of that list of vectors.\n",
    "4. Find the color(s) closest to that average vector.\n",
    "\n",
    "The following cell performs steps 1-3:"
   ]
  },
  {
   "cell_type": "code",
   "execution_count": null,
   "metadata": {},
   "outputs": [],
   "source": [
    "resp = requests.get('http://www.gutenberg.org/cache/epub/345/pg345.txt')\n",
    "dracula = nlp(resp.text)\n",
    "# use word.lower_ to normalize case\n",
    "drac_colors = [colors[word.lower_] for word in dracula if word.lower_ in colors]\n",
    "avg_color = meanv(drac_colors)\n",
    "print(avg_color)"
   ]
  },
  {
   "cell_type": "markdown",
   "metadata": {},
   "source": [
    "Now, we'll pass the averaged color vector to the `closest()` function, yielding... well, it's just a brown mush, which is kinda what you'd expect from adding a bunch of colors together willy-nilly."
   ]
  },
  {
   "cell_type": "code",
   "execution_count": null,
   "metadata": {},
   "outputs": [],
   "source": [
    "closest(colors, avg_color)"
   ]
  },
  {
   "cell_type": "markdown",
   "metadata": {},
   "source": [
    "On the other hand, here's what we get when we average the colors of Charlotte Perkins Gilman's classic *The Yellow Wallpaper*. The result definitely reflects the content of the story, so maybe we're on to something here."
   ]
  },
  {
   "cell_type": "code",
   "execution_count": null,
   "metadata": {},
   "outputs": [],
   "source": [
    "resp = requests.get('http://www.gutenberg.org/cache/epub/1952/pg1952.txt')\n",
    "yellow = nlp(resp.text)\n",
    "wallpaper_colors = [colors[word.lower_] for word in yellow if word.lower_ in colors]\n",
    "avg_color = meanv(wallpaper_colors)\n",
    "closest(colors, avg_color)"
   ]
  },
  {
   "cell_type": "markdown",
   "metadata": {},
   "source": [
    "Exercise for the reader: Use the vector arithmetic functions to rewrite a text, making it...\n",
    "\n",
    "* more blue (i.e., add `colors['blue']` to each occurrence of a color word); or\n",
    "* more light (i.e., add `colors['white']` to each occurrence of a color word); or\n",
    "* darker (i.e., attenuate each color. You might need to write a vector multiplication function to do this one right.)"
   ]
  },
  {
   "cell_type": "markdown",
   "metadata": {},
   "source": [
    "## Distributional semantics\n",
    "\n",
    "In the previous section, the examples are interesting because of a simple fact: colors that we think of as similar are \"closer\" to each other in RGB vector space. In our color vector space, or in our animal cuteness/size space, you can think of the words identified by vectors close to each other as being *synonyms*, in a sense: they sort of \"mean\" the same thing. They're also, for many purposes, *functionally identical*. Think of this in terms of writing, say, a search engine. If someone searches for \"mauve trousers,\" then it's probably also okay to show them results for, say,"
   ]
  },
  {
   "cell_type": "code",
   "execution_count": null,
   "metadata": {},
   "outputs": [],
   "source": [
    "for cname in closest(colors, colors['mauve']):\n",
    "    print(cname, \"trousers\")"
   ]
  },
  {
   "cell_type": "markdown",
   "metadata": {},
   "source": [
    "That's all well and good for color words, which intuitively seem to exist in a multidimensional continuum of perception, and for our animal space, where we've written out the vectors ahead of time. But what about... arbitrary words? Is it possible to create a vector space for all English words that has this same \"closer in space is closer in meaning\" property?\n",
    "\n",
    "To answer that, we have to back up a bit and ask the question: what does *meaning* mean? No one really knows, but one theory popular among computational linguists, computer scientists and other people who make search engines is the [Distributional Hypothesis](https://en.wikipedia.org/wiki/Distributional_semantics), which states that:\n",
    "\n",
    "    Linguistic items with similar distributions have similar meanings.\n",
    "    \n",
    "What's meant by \"similar distributions\" is *similar contexts*. Take for example the following sentences:\n",
    "\n",
    "    It was really cold yesterday.\n",
    "    It will be really warm today, though.\n",
    "    It'll be really hot tomorrow!\n",
    "    Will it be really cool Tuesday?\n",
    "    \n",
    "According to the Distributional Hypothesis, the words `cold`, `warm`, `hot` and `cool` must be related in some way (i.e., be close in meaning) because they occur in a similar context, i.e., between the word \"really\" and a word indicating a particular day. (Likewise, the words `yesterday`, `today`, `tomorrow` and `Tuesday` must be related, since they occur in the context of a word indicating a temperature.)\n",
    "\n",
    "In other words, according to the Distributional Hypothesis, a word's meaning is just a big list of all the contexts it occurs in. Two words are closer in meaning if they share contexts."
   ]
  },
  {
   "cell_type": "markdown",
   "metadata": {},
   "source": [
    "## Word vectors by counting contexts\n",
    "\n",
    "So how do we turn this insight from the Distributional Hypothesis into a system for creating general-purpose vectors that capture the meaning of words? Maybe you can see where I'm going with this. What if we made a *really big* spreadsheet that had one column for every context for every word in a given source text. Let's use a small source text to begin with, such as this excerpt from Dickens:\n",
    "\n",
    "    It was the best of times, it was the worst of times.\n",
    "\n",
    "Such a spreadsheet might look something like this:\n",
    "\n",
    "![dickens contexts](http://static.decontextualize.com/snaps/best-of-times.png)\n",
    "\n",
    "The spreadsheet has one column for every possible context, and one row for every word. The values in each cell correspond with how many times the word occurs in the given context. The numbers in the columns constitute that word's vector, i.e., the vector for the word `of` is\n",
    "\n",
    "    [0, 0, 0, 0, 1, 0, 0, 0, 1, 0]\n",
    "    \n",
    "Because there are ten possible contexts, this is a ten dimensional space! It might be strange to think of it, but you can do vector arithmetic on vectors with ten dimensions just as easily as you can on vectors with two or three dimensions, and you could use the same distance formula that we defined earlier to get useful information about which vectors in this space are similar to each other. In particular, the vectors for `best` and `worst` are actually the same (a distance of zero), since they occur only in the same context (`the ___ of`):\n",
    "\n",
    "    [0, 0, 0, 1, 0, 0, 0, 0, 0, 0]\n",
    "    \n",
    "Of course, the conventional way of thinking about \"best\" and \"worst\" is that they're *antonyms*, not *synonyms*. But they're also clearly two words of the same kind, with related meanings (through opposition), a fact that is captured by this distributional model.\n",
    "\n",
    "### Contexts and dimensionality\n",
    "\n",
    "Of course, in a corpus of any reasonable size, there will be many thousands if not many millions of possible contexts. It's difficult enough working with a vector space of ten dimensions, let alone a vector space of a million dimensions! It turns out, though, that many of the dimensions end up being superfluous and can either be eliminated or combined with other dimensions without significantly affecting the predictive power of the resulting vectors. The process of getting rid of superfluous dimensions in a vector space is called [dimensionality reduction](https://en.wikipedia.org/wiki/Dimensionality_reduction), and most implementations of count-based word vectors make use of dimensionality reduction so that the resulting vector space has a reasonable number of dimensions (say, 100—300, depending on the corpus and application).\n",
    "\n",
    "The question of how to identify a \"context\" is itself very difficult to answer. In the toy example above, we've said that a \"context\" is just the word that precedes and the word that follows. Depending on your implementation of this procedure, though, you might want a context with a bigger \"window\" (e.g., two words before and after), or a non-contiguous window (skip a word before and after the given word). You might exclude certain \"function\" words like \"the\" and \"of\" when determining a word's context, or you might [lemmatize](https://en.wikipedia.org/wiki/Lemmatisation) the words before you begin your analysis, so two occurrences with different \"forms\" of the same word count as the same context. These are all questions open to research and debate, and different implementations of procedures for creating count-based word vectors make different decisions on this issue.\n",
    "\n",
    "### GloVe vectors\n",
    "\n",
    "But you don't have to create your own word vectors from scratch! Many researchers have made downloadable databases of pre-trained vectors. One such project is Stanford's [Global Vectors for Word Representation (GloVe)](https://nlp.stanford.edu/projects/glove/). These 300-dimensional vectors are included with spaCy, and they're the vectors we'll be using for the rest of this tutorial."
   ]
  },
  {
   "cell_type": "markdown",
   "metadata": {},
   "source": [
    "## Word vectors in spaCy\n",
    "\n",
    "Okay, let's have some fun with real word vectors. We're going to use the GloVe vectors that come with spaCy to creatively analyze and manipulate the text of Bram Stoker's *Dracula*. First, make sure you've got `spacy` imported:"
   ]
  },
  {
   "cell_type": "code",
   "execution_count": null,
   "metadata": {},
   "outputs": [],
   "source": [
    "dracula[560]"
   ]
  },
  {
   "cell_type": "code",
   "execution_count": null,
   "metadata": {},
   "outputs": [],
   "source": [
    "_.vector"
   ]
  },
  {
   "cell_type": "code",
   "execution_count": null,
   "metadata": {},
   "outputs": [],
   "source": [
    "# previously we've used the _sm model, which doesn't include all vectors.\n",
    "# !pip3 install https://github.com/explosion/spacy-models/releases/download/en_core_web_lg-2.2.0/en_core_web_lg-2.2.0.tar.gz\n",
    "import en_core_web_lg\n",
    "nlp = en_core_web_lg.load()"
   ]
  },
  {
   "cell_type": "code",
   "execution_count": null,
   "metadata": {},
   "outputs": [],
   "source": [
    "resp = requests.get('http://www.gutenberg.org/cache/epub/345/pg345.txt')\n",
    "dracula = nlp(resp.text)\n"
   ]
  },
  {
   "cell_type": "markdown",
   "metadata": {},
   "source": [
    "And the cell below creates a list of unique words (or tokens) in the text, as a list of strings."
   ]
  },
  {
   "cell_type": "code",
   "execution_count": null,
   "metadata": {},
   "outputs": [],
   "source": [
    "# all of the words in the text file\n",
    "tokens = list(set([w.text for w in dracula if w.is_alpha]))"
   ]
  },
  {
   "cell_type": "markdown",
   "metadata": {},
   "source": [
    "You can see the vector of any word in spaCy's vocabulary using the `vocab` attribute, like so:"
   ]
  },
  {
   "cell_type": "code",
   "execution_count": null,
   "metadata": {
    "scrolled": true
   },
   "outputs": [],
   "source": [
    "nlp.vocab['alligator'].vector"
   ]
  },
  {
   "cell_type": "markdown",
   "metadata": {},
   "source": [
    "For the sake of convenience, the following function gets the vector of a given string from spaCy's vocabulary:"
   ]
  },
  {
   "cell_type": "code",
   "execution_count": null,
   "metadata": {},
   "outputs": [],
   "source": [
    "def vec(s):\n",
    "    return nlp.vocab[s].vector"
   ]
  },
  {
   "cell_type": "markdown",
   "metadata": {},
   "source": [
    "### Cosine similarity and finding closest neighbors\n",
    "\n",
    "The cell below defines a function `cosine()`, which returns the [cosine similarity](https://en.wikipedia.org/wiki/Cosine_similarity) of two vectors. Cosine similarity is another way of determining how similar two vectors are, which is more suited to high-dimensional spaces. [See the Encyclopedia of Distances for more information and even more ways of determining vector similarity.](http://www.uco.es/users/ma1fegan/Comunes/asignaturas/vision/Encyclopedia-of-distances-2009.pdf)"
   ]
  },
  {
   "cell_type": "code",
   "execution_count": null,
   "metadata": {},
   "outputs": [],
   "source": [
    "from sklearn.metrics.pairwise import cosine_similarity"
   ]
  },
  {
   "cell_type": "markdown",
   "metadata": {},
   "source": [
    "The following cell shows that the cosine similarity between `dog` and `puppy` is larger than the similarity between `trousers` and `octopus`, thereby demonstrating that the vectors are working how we expect them to:"
   ]
  },
  {
   "cell_type": "code",
   "execution_count": null,
   "metadata": {},
   "outputs": [],
   "source": [
    "(cosine_similarity(vec('dog').reshape(1, -1), vec('puppy').reshape(1, -1))[0][0] > \n",
    "    cosine_similarity(vec('trousers').reshape(1, -1), vec('octopus').reshape(1, -1))[0][0])"
   ]
  },
  {
   "cell_type": "markdown",
   "metadata": {},
   "source": [
    "The following cell defines a function that iterates through a list of tokens and returns the token whose vector is most similar to a given vector."
   ]
  },
  {
   "cell_type": "code",
   "execution_count": null,
   "metadata": {},
   "outputs": [],
   "source": [
    "def spacy_closest(token_list, vec_to_check, n=10):\n",
    "    return sorted(token_list,\n",
    "                  key=lambda x: cosine_similarity(vec_to_check.reshape(1, -1), vec(x))[0][0],\n",
    "                  reverse=True)[:n]"
   ]
  },
  {
   "cell_type": "markdown",
   "metadata": {},
   "source": [
    "Using this function, we can get a list of synonyms, or words closest in meaning (or distribution, depending on how you look at it), to any arbitrary word in spaCy's vocabulary. In the following example, we're finding the words in *Dracula* closest to \"basketball\":"
   ]
  },
  {
   "cell_type": "code",
   "execution_count": null,
   "metadata": {
    "scrolled": true
   },
   "outputs": [],
   "source": [
    "# what's the closest equivalent of basketball?\n",
    "spacy_closest(tokens, vec(\"basketball\"))"
   ]
  },
  {
   "cell_type": "markdown",
   "metadata": {},
   "source": [
    "### Fun with spaCy, Dracula, and vector arithmetic\n",
    "\n",
    "Now we can start doing vector arithmetic and finding the closest words to the resulting vectors. For example, what word is closest to the halfway point between day and night?"
   ]
  },
  {
   "cell_type": "code",
   "execution_count": null,
   "metadata": {},
   "outputs": [],
   "source": [
    "# halfway between day and night\n",
    "spacy_closest(tokens, meanv([vec(\"day\"), vec(\"night\")]))"
   ]
  },
  {
   "cell_type": "markdown",
   "metadata": {},
   "source": [
    "Variations of `night` and `day` are still closest, but after that we get words like `evening` and `morning`, which are indeed halfway between day and night!"
   ]
  },
  {
   "cell_type": "markdown",
   "metadata": {},
   "source": [
    "Here are the closest words in _Dracula_ to \"wine\":"
   ]
  },
  {
   "cell_type": "code",
   "execution_count": null,
   "metadata": {},
   "outputs": [],
   "source": [
    "spacy_closest(tokens, vec(\"wine\"))"
   ]
  },
  {
   "cell_type": "markdown",
   "metadata": {},
   "source": [
    "If you subtract \"alcohol\" from \"wine\" and find the closest words to the resulting vector, you're left with simply a lovely dinner:"
   ]
  },
  {
   "cell_type": "code",
   "execution_count": null,
   "metadata": {},
   "outputs": [],
   "source": [
    "spacy_closest(tokens, subtractv(vec(\"wine\"), vec(\"alcohol\")))"
   ]
  },
  {
   "cell_type": "markdown",
   "metadata": {},
   "source": [
    "The closest words to \"water\":"
   ]
  },
  {
   "cell_type": "code",
   "execution_count": null,
   "metadata": {},
   "outputs": [],
   "source": [
    "spacy_closest(tokens, vec(\"water\"))"
   ]
  },
  {
   "cell_type": "markdown",
   "metadata": {},
   "source": [
    "But if you add \"frozen\" to \"water,\" you get \"ice\":"
   ]
  },
  {
   "cell_type": "code",
   "execution_count": null,
   "metadata": {},
   "outputs": [],
   "source": [
    "spacy_closest(tokens, addv(vec(\"water\"), vec(\"frozen\")))"
   ]
  },
  {
   "cell_type": "markdown",
   "metadata": {},
   "source": [
    "You can even do analogies! For example, the words most similar to \"grass\":"
   ]
  },
  {
   "cell_type": "code",
   "execution_count": null,
   "metadata": {
    "scrolled": true
   },
   "outputs": [],
   "source": [
    "spacy_closest(tokens, vec(\"grass\"))"
   ]
  },
  {
   "cell_type": "markdown",
   "metadata": {},
   "source": [
    "If you take the difference of \"blue\" and \"sky\" and add it to grass, you get the analogous word (\"green\"):"
   ]
  },
  {
   "cell_type": "code",
   "execution_count": null,
   "metadata": {
    "scrolled": true
   },
   "outputs": [],
   "source": [
    "# analogy: blue is to sky as X is to grass\n",
    "blue_to_sky = subtractv(vec(\"blue\"), vec(\"sky\"))\n",
    "spacy_closest(tokens, addv(blue_to_sky, vec(\"grass\")))"
   ]
  },
  {
   "cell_type": "markdown",
   "metadata": {},
   "source": [
    "## Sentence similarity"
   ]
  },
  {
   "cell_type": "markdown",
   "metadata": {},
   "source": [
    "To get the vector for a sentence, we simply average its component vectors, like so:"
   ]
  },
  {
   "cell_type": "code",
   "execution_count": null,
   "metadata": {},
   "outputs": [],
   "source": [
    "def sentvec(s):\n",
    "    sent = nlp(s)\n",
    "    return meanv([w.vector for w in sent])"
   ]
  },
  {
   "cell_type": "markdown",
   "metadata": {},
   "source": [
    "Let's find the sentence in our text file that is closest in \"meaning\" to an arbitrary input sentence. First, we'll get the list of sentences:"
   ]
  },
  {
   "cell_type": "code",
   "execution_count": null,
   "metadata": {},
   "outputs": [],
   "source": [
    "sentences = list(doc.sents)"
   ]
  },
  {
   "cell_type": "markdown",
   "metadata": {},
   "source": [
    "The following function takes a list of sentences from a spaCy parse and compares them to an input sentence, sorting them by cosine similarity."
   ]
  },
  {
   "cell_type": "code",
   "execution_count": null,
   "metadata": {},
   "outputs": [],
   "source": [
    "def spacy_closest_sent(space, input_str, n=10):\n",
    "    input_vec = sentvec(input_str)\n",
    "    return sorted(space,\n",
    "                  key=lambda x: cosine_similarity(np.array(sentvec(str(x))).reshape(1, -1), np.array(input_vec).reshape(1, -1))[0][0],\n",
    "                  reverse=True)[:n]"
   ]
  },
  {
   "cell_type": "markdown",
   "metadata": {},
   "source": [
    "Here are the sentences in *Dracula* closest in meaning to \"My favorite food is strawberry ice cream.\" (Extra linebreaks are present because we didn't strip them out when we originally read in the source text.)"
   ]
  },
  {
   "cell_type": "code",
   "execution_count": null,
   "metadata": {},
   "outputs": [],
   "source": [
    "for sent in spacy_closest_sent(sentences, \"My favorite food is strawberry ice cream.\"):\n",
    "    print(sent.text)\n",
    "    print(\"---\")"
   ]
  },
  {
   "cell_type": "markdown",
   "metadata": {},
   "source": [
    "## Further resources\n",
    "\n",
    "* [Word2vec](https://en.wikipedia.org/wiki/Word2vec) is another procedure for producing word vectors which uses a predictive approach rather than a context-counting approach. [This paper](http://clic.cimec.unitn.it/marco/publications/acl2014/baroni-etal-countpredict-acl2014.pdf) compares and contrasts the two approaches. (Spoiler: it's kind of a wash.)\n",
    "* If you want to train your own word vectors on a particular corpus, the popular Python library [gensim](https://radimrehurek.com/gensim/) has an implementation of Word2Vec that is relatively easy to use. [There's a good tutorial here.](https://rare-technologies.com/word2vec-tutorial/)\n",
    "* When you're working with vector spaces with high dimensionality and millions of vectors, iterating through your entire space calculating cosine similarities can be a drag. I use [Annoy](https://pypi.python.org/pypi/annoy) to make these calculations faster, and you should consider using it too."
   ]
  }
 ],
 "metadata": {
  "kernelspec": {
   "display_name": "Python 3",
   "language": "python",
   "name": "python3"
  },
  "language_info": {
   "codemirror_mode": {
    "name": "ipython",
    "version": 3
   },
   "file_extension": ".py",
   "mimetype": "text/x-python",
   "name": "python",
   "nbconvert_exporter": "python",
   "pygments_lexer": "ipython3",
   "version": "3.7.3"
  },
  "toc": {
   "base_numbering": 1,
   "nav_menu": {},
   "number_sections": true,
   "sideBar": true,
   "skip_h1_title": false,
   "title_cell": "Table of Contents",
   "title_sidebar": "Contents",
   "toc_cell": false,
   "toc_position": {},
   "toc_section_display": true,
   "toc_window_display": false
  }
 },
 "nbformat": 4,
 "nbformat_minor": 4
}
