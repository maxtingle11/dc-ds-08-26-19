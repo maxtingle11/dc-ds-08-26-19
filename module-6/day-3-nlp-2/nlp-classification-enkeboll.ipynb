{
 "cells": [
  {
   "cell_type": "code",
   "execution_count": 1,
   "metadata": {},
   "outputs": [],
   "source": [
    "import re\n",
    "import time\n",
    "\n",
    "import numpy as np\n",
    "import pandas as pd\n",
    "import requests"
   ]
  },
  {
   "cell_type": "code",
   "execution_count": 2,
   "metadata": {},
   "outputs": [],
   "source": [
    "# !pip3 install progressbar2\n",
    "from progressbar import progressbar"
   ]
  },
  {
   "cell_type": "markdown",
   "metadata": {},
   "source": [
    "## Scraping"
   ]
  },
  {
   "cell_type": "markdown",
   "metadata": {},
   "source": [
    "### Scraping Functions"
   ]
  },
  {
   "cell_type": "code",
   "execution_count": 3,
   "metadata": {},
   "outputs": [],
   "source": [
    "# function to scrape reddit page (takes a reddit .json url)\n",
    "# returns posts \n",
    "\n",
    "def scraper_bike(url):\n",
    "    headers = {'User-Agent' : 'override this bad boy!'}\n",
    "    posts = []\n",
    "    after = {}\n",
    "\n",
    "    for page in progressbar(range(40)):\n",
    "        params = {'after': after}\n",
    "        pagepull = requests.get(url=url, params=params, headers=headers)\n",
    "        page_dict = pagepull.json()\n",
    "        posts.extend(page_dict['data']['children'])\n",
    "        after = page_dict['data']['after']\n",
    "        time.sleep(.2)\n",
    "        \n",
    "    return posts"
   ]
  },
  {
   "cell_type": "code",
   "execution_count": 4,
   "metadata": {},
   "outputs": [],
   "source": [
    "# function to convert posts to DataFrame - won't allow duplicate posts since unique id 'name' is set as index\n",
    "# Extract: name (as index) and subreddit, selftext, title (as columns)\n",
    "\n",
    "def posts_to_df(post_list):\n",
    "    i = 0\n",
    "    post_dict = {}\n",
    "    \n",
    "    for post in post_list:\n",
    "        ind = post_list[i]['data']\n",
    "        post_dict[ind['name']] = [ind['subreddit'], ind['title'], ind['selftext']]\n",
    "        i += 1\n",
    "\n",
    "    df_name = pd.DataFrame(post_dict)\n",
    "    df_name = df_name.T\n",
    "    df_name.columns = ['subreddit', 'title', 'selftext']\n",
    "    \n",
    "    return df_name"
   ]
  },
  {
   "cell_type": "code",
   "execution_count": 5,
   "metadata": {},
   "outputs": [],
   "source": [
    "# takes scraper function and url - outputs dataframe\n",
    "\n",
    "def scrape_to_df(scrape_func, url):\n",
    "    \n",
    "    return posts_to_df(scrape_func(url))"
   ]
  },
  {
   "cell_type": "code",
   "execution_count": 6,
   "metadata": {},
   "outputs": [],
   "source": [
    "#### If you want to scrape repeatedly over time and add to a csv\n",
    "# scrape, import csv, concat, drop duplicate, and output to csv\n",
    "# takes in scraper function, url, csv filename to import, csv filename to output\n",
    "# Outputs - Concatenated DataFrame as csv\n",
    "\n",
    "def scrape_add(scrape_func, url, import_file, export_file):\n",
    "    scrape_df = posts_to_df(scrape_func(url))\n",
    "    imported_df = pd.read_csv(import_file, index_col = 'Unnamed: 0')\n",
    "    concat_df = pd.concat([imported_df, scrape_df])\n",
    "    concat_df = concat_df[~concat_df.index.duplicated(keep='first')]\n",
    "    concat_df.to_csv(export_file)"
   ]
  },
  {
   "cell_type": "markdown",
   "metadata": {},
   "source": [
    "### Run Scrape"
   ]
  },
  {
   "cell_type": "code",
   "execution_count": 7,
   "metadata": {},
   "outputs": [
    {
     "name": "stderr",
     "output_type": "stream",
     "text": [
      "100% (40 of 40) |########################| Elapsed Time: 0:00:24 Time:  0:00:24\n",
      "100% (40 of 40) |########################| Elapsed Time: 0:00:26 Time:  0:00:26\n"
     ]
    }
   ],
   "source": [
    "# You can also put in any 2 subreddits in as the URL and get results for those\n",
    "\n",
    "nfltest = scrape_to_df(scraper_bike, 'https://www.reddit.com/r/nfl.json')\n",
    "nbatest = scrape_to_df(scraper_bike, 'https://www.reddit.com/r/nba.json')"
   ]
  },
  {
   "cell_type": "code",
   "execution_count": 8,
   "metadata": {},
   "outputs": [
    {
     "name": "stderr",
     "output_type": "stream",
     "text": [
      "100% (40 of 40) |########################| Elapsed Time: 0:00:27 Time:  0:00:27\n",
      "100% (40 of 40) |########################| Elapsed Time: 0:00:25 Time:  0:00:25\n"
     ]
    }
   ],
   "source": [
    "politics_test = scrape_to_df(scraper_bike, 'https://www.reddit.com/r/politics.json')\n",
    "conservative_test = scrape_to_df(scraper_bike, 'https://www.reddit.com/r/conservative.json')"
   ]
  },
  {
   "cell_type": "code",
   "execution_count": 9,
   "metadata": {},
   "outputs": [
    {
     "data": {
      "text/plain": [
       "(774, 3)"
      ]
     },
     "execution_count": 9,
     "metadata": {},
     "output_type": "execute_result"
    }
   ],
   "source": [
    "nbatest.shape"
   ]
  },
  {
   "cell_type": "code",
   "execution_count": 10,
   "metadata": {},
   "outputs": [
    {
     "data": {
      "text/plain": [
       "(892, 3)"
      ]
     },
     "execution_count": 10,
     "metadata": {},
     "output_type": "execute_result"
    }
   ],
   "source": [
    "nfltest.shape"
   ]
  },
  {
   "cell_type": "markdown",
   "metadata": {},
   "source": [
    "##### These scrape_add functions add to already built csvs"
   ]
  },
  {
   "cell_type": "code",
   "execution_count": null,
   "metadata": {},
   "outputs": [],
   "source": [
    "# scrape_add(scraper_bike, 'https://www.reddit.com/r/CollegeBasketball/new.json', 'NCAA_Posts_Update2.csv', 'NCAA_Posts_Update3.csv')\n",
    "# scrape_add(scraper_bike, 'https://www.reddit.com/r/AskScience/new.json', 'AskSci_Posts_Update2.csv', 'AskSci_Posts_Update3.csv')\n",
    "# scrape_add(scraper_bike, 'https://www.reddit.com/r/nba/new.json', 'NBA_Posts_Update2.csv', 'NBA_Posts_Update3.csv')\n",
    "# scrape_add(scraper_bike, 'https://www.reddit.com/r/nfl/new.json', 'NFL_Posts_Update2.csv', 'NFL_Posts_Update3.csv')"
   ]
  },
  {
   "cell_type": "markdown",
   "metadata": {},
   "source": [
    "### Data Cleaning / Preprocessing"
   ]
  },
  {
   "cell_type": "code",
   "execution_count": 11,
   "metadata": {},
   "outputs": [],
   "source": [
    "import nltk\n",
    "from nltk.stem import WordNetLemmatizer\n",
    "from nltk.tokenize import RegexpTokenizer, sent_tokenize\n",
    "from nltk.corpus import stopwords\n",
    "from sklearn.feature_extraction.text import CountVectorizer, TfidfVectorizer\n",
    "\n",
    "pd.set_option('max_colwidth', 300)"
   ]
  },
  {
   "cell_type": "code",
   "execution_count": 12,
   "metadata": {},
   "outputs": [
    {
     "data": {
      "text/html": [
       "<div>\n",
       "<style scoped>\n",
       "    .dataframe tbody tr th:only-of-type {\n",
       "        vertical-align: middle;\n",
       "    }\n",
       "\n",
       "    .dataframe tbody tr th {\n",
       "        vertical-align: top;\n",
       "    }\n",
       "\n",
       "    .dataframe thead th {\n",
       "        text-align: right;\n",
       "    }\n",
       "</style>\n",
       "<table border=\"1\" class=\"dataframe\">\n",
       "  <thead>\n",
       "    <tr style=\"text-align: right;\">\n",
       "      <th></th>\n",
       "      <th>subreddit</th>\n",
       "      <th>title</th>\n",
       "      <th>selftext</th>\n",
       "    </tr>\n",
       "  </thead>\n",
       "  <tbody>\n",
       "    <tr>\n",
       "      <th>t3_dva38v</th>\n",
       "      <td>nfl</td>\n",
       "      <td>Official /r/NFL Sidebar contest</td>\n",
       "      <td>Hey there folks!\\n\\nHappy Tuesday to everyone! Did you see any good games this week? Did anything stand out and you think it should be highlighted with a nice write up on our side bar?\\n\\nIf so, give us a hand and write something up! Maybe include a picture. Keep it polite (no fan base attacks p...</td>\n",
       "    </tr>\n",
       "    <tr>\n",
       "      <th>t3_dvfdhm</th>\n",
       "      <td>nfl</td>\n",
       "      <td>Official Week 10 R/NFL Power Rankings</td>\n",
       "      <td>Make sure you're sitting down, and check for yourself if you don't believe me, but we're already at the double-digit mark for gameweeks in the football season. That's right folks, it's already time for the **Week 10 Official r/nfl Power Rankings**! It's amazing how fast time flies; three months ...</td>\n",
       "    </tr>\n",
       "    <tr>\n",
       "      <th>t3_dvhdmh</th>\n",
       "      <td>nfl</td>\n",
       "      <td>[Schefter] NFL clubs were informed today that a private workout will be held for Colin Kaepernick on Saturday in Atlanta. Session will include on-field work and an interview. All clubs are invited to attend, and video of both the workout and interview will be made available to clubs.</td>\n",
       "      <td></td>\n",
       "    </tr>\n",
       "    <tr>\n",
       "      <th>t3_dvi5xb</th>\n",
       "      <td>nfl</td>\n",
       "      <td>[Schefter] NFL has flexed the Week 12 Packers-49ers game to Sunday Night Football on NBC.</td>\n",
       "      <td></td>\n",
       "    </tr>\n",
       "    <tr>\n",
       "      <th>t3_dvrvvy</th>\n",
       "      <td>nfl</td>\n",
       "      <td>[Falcons] YEAH, YOUNGHOE! 👉 @YoungHoeKoo has been named NFC Special Teams Player of the Week!</td>\n",
       "      <td></td>\n",
       "    </tr>\n",
       "  </tbody>\n",
       "</table>\n",
       "</div>"
      ],
      "text/plain": [
       "          subreddit  \\\n",
       "t3_dva38v       nfl   \n",
       "t3_dvfdhm       nfl   \n",
       "t3_dvhdmh       nfl   \n",
       "t3_dvi5xb       nfl   \n",
       "t3_dvrvvy       nfl   \n",
       "\n",
       "                                                                                                                                                                                                                                                                                                  title  \\\n",
       "t3_dva38v                                                                                                                                                                                                                                                               Official /r/NFL Sidebar contest   \n",
       "t3_dvfdhm                                                                                                                                                                                                                                                         Official Week 10 R/NFL Power Rankings   \n",
       "t3_dvhdmh  [Schefter] NFL clubs were informed today that a private workout will be held for Colin Kaepernick on Saturday in Atlanta. Session will include on-field work and an interview. All clubs are invited to attend, and video of both the workout and interview will be made available to clubs.   \n",
       "t3_dvi5xb                                                                                                                                                                                                     [Schefter] NFL has flexed the Week 12 Packers-49ers game to Sunday Night Football on NBC.   \n",
       "t3_dvrvvy                                                                                                                                                                                                 [Falcons] YEAH, YOUNGHOE! 👉 @YoungHoeKoo has been named NFC Special Teams Player of the Week!   \n",
       "\n",
       "                                                                                                                                                                                                                                                                                                              selftext  \n",
       "t3_dva38v  Hey there folks!\\n\\nHappy Tuesday to everyone! Did you see any good games this week? Did anything stand out and you think it should be highlighted with a nice write up on our side bar?\\n\\nIf so, give us a hand and write something up! Maybe include a picture. Keep it polite (no fan base attacks p...  \n",
       "t3_dvfdhm  Make sure you're sitting down, and check for yourself if you don't believe me, but we're already at the double-digit mark for gameweeks in the football season. That's right folks, it's already time for the **Week 10 Official r/nfl Power Rankings**! It's amazing how fast time flies; three months ...  \n",
       "t3_dvhdmh                                                                                                                                                                                                                                                                                                               \n",
       "t3_dvi5xb                                                                                                                                                                                                                                                                                                               \n",
       "t3_dvrvvy                                                                                                                                                                                                                                                                                                               "
      ]
     },
     "execution_count": 12,
     "metadata": {},
     "output_type": "execute_result"
    }
   ],
   "source": [
    "nfltest.head()"
   ]
  },
  {
   "cell_type": "code",
   "execution_count": 13,
   "metadata": {},
   "outputs": [],
   "source": [
    "# drop column\n",
    "\n",
    "nfltest = nfltest.drop(columns='selftext')\n",
    "nbatest = nbatest.drop(columns='selftext')"
   ]
  },
  {
   "cell_type": "code",
   "execution_count": 14,
   "metadata": {},
   "outputs": [],
   "source": [
    "# merge subreddit data\n",
    "\n",
    "train = pd.concat([nfltest, nbatest])"
   ]
  },
  {
   "cell_type": "code",
   "execution_count": 15,
   "metadata": {},
   "outputs": [
    {
     "data": {
      "text/html": [
       "<div>\n",
       "<style scoped>\n",
       "    .dataframe tbody tr th:only-of-type {\n",
       "        vertical-align: middle;\n",
       "    }\n",
       "\n",
       "    .dataframe tbody tr th {\n",
       "        vertical-align: top;\n",
       "    }\n",
       "\n",
       "    .dataframe thead th {\n",
       "        text-align: right;\n",
       "    }\n",
       "</style>\n",
       "<table border=\"1\" class=\"dataframe\">\n",
       "  <thead>\n",
       "    <tr style=\"text-align: right;\">\n",
       "      <th></th>\n",
       "      <th>subreddit</th>\n",
       "      <th>title</th>\n",
       "    </tr>\n",
       "  </thead>\n",
       "  <tbody>\n",
       "    <tr>\n",
       "      <th>t3_dva38v</th>\n",
       "      <td>nfl</td>\n",
       "      <td>Official /r/NFL Sidebar contest</td>\n",
       "    </tr>\n",
       "    <tr>\n",
       "      <th>t3_dvfdhm</th>\n",
       "      <td>nfl</td>\n",
       "      <td>Official Week 10 R/NFL Power Rankings</td>\n",
       "    </tr>\n",
       "    <tr>\n",
       "      <th>t3_dvhdmh</th>\n",
       "      <td>nfl</td>\n",
       "      <td>[Schefter] NFL clubs were informed today that a private workout will be held for Colin Kaepernick on Saturday in Atlanta. Session will include on-field work and an interview. All clubs are invited to attend, and video of both the workout and interview will be made available to clubs.</td>\n",
       "    </tr>\n",
       "    <tr>\n",
       "      <th>t3_dvi5xb</th>\n",
       "      <td>nfl</td>\n",
       "      <td>[Schefter] NFL has flexed the Week 12 Packers-49ers game to Sunday Night Football on NBC.</td>\n",
       "    </tr>\n",
       "    <tr>\n",
       "      <th>t3_dvrvvy</th>\n",
       "      <td>nfl</td>\n",
       "      <td>[Falcons] YEAH, YOUNGHOE! 👉 @YoungHoeKoo has been named NFC Special Teams Player of the Week!</td>\n",
       "    </tr>\n",
       "    <tr>\n",
       "      <th>t3_dvhocr</th>\n",
       "      <td>nfl</td>\n",
       "      <td>Rapaport: Cam Newton would accept trade to Chicago Bears</td>\n",
       "    </tr>\n",
       "    <tr>\n",
       "      <th>t3_dvnxdw</th>\n",
       "      <td>nfl</td>\n",
       "      <td>[Josh Houtz] Andy Dalton says he was benched because they \"had to think about the draft\"</td>\n",
       "    </tr>\n",
       "    <tr>\n",
       "      <th>t3_dvjqtm</th>\n",
       "      <td>nfl</td>\n",
       "      <td>[Colin K] I’m just getting word from my representatives that the NFL league office reached out to them about a workout in Atlanta on Saturday. I’ve been in shape and ready for this for 3 years, can’t wait to see the head coaches and GMs on Saturday.</td>\n",
       "    </tr>\n",
       "    <tr>\n",
       "      <th>t3_dvc1wv</th>\n",
       "      <td>nfl</td>\n",
       "      <td>Seahawks drop in CBS power rankings after defeating 8-0 Niners</td>\n",
       "    </tr>\n",
       "    <tr>\n",
       "      <th>t3_dvrgg3</th>\n",
       "      <td>nfl</td>\n",
       "      <td>The 2019 ESPN Playoff Machine is live</td>\n",
       "    </tr>\n",
       "    <tr>\n",
       "      <th>t3_dvgzjt</th>\n",
       "      <td>nfl</td>\n",
       "      <td>5’6” Tarik Cohen complains about towels on the top shelf at 0:32</td>\n",
       "    </tr>\n",
       "    <tr>\n",
       "      <th>t3_dvrucj</th>\n",
       "      <td>nfl</td>\n",
       "      <td>[NFL] The AFC and NFC Offensive Players of the week are Lamar Jackson and Dalvin Cook</td>\n",
       "    </tr>\n",
       "    <tr>\n",
       "      <th>t3_dvhnsx</th>\n",
       "      <td>nfl</td>\n",
       "      <td>[Siciliano] Geno Smith say, \"Do the math.\" : A coin toss is more likely to land on heads in OT if it lands on tails for the opening kickoff.</td>\n",
       "    </tr>\n",
       "    <tr>\n",
       "      <th>t3_dvlzov</th>\n",
       "      <td>nfl</td>\n",
       "      <td>[Keysor] On Derrick Henry’s touchdown run, the Chiefs only had 10 men on the field</td>\n",
       "    </tr>\n",
       "    <tr>\n",
       "      <th>t3_dvhuuq</th>\n",
       "      <td>nfl</td>\n",
       "      <td>[Lombardi] Kyle Shanahan was very stern talking about the 49ers WRs today. Said point blank that passes off the hands should be caught. Then on Dante Pettis: “He’s had his opportunities. The more he doesn’t take advantage of his opportunities, the less opportunities he gets.\"</td>\n",
       "    </tr>\n",
       "    <tr>\n",
       "      <th>t3_dveqwt</th>\n",
       "      <td>nfl</td>\n",
       "      <td>In 2010, the Steelers final WR depth chart was Hines Ward, Antonio Brown, Mike Wallace, Emmanuel Sanders, Antwaan Randle El and Arnaz Battle</td>\n",
       "    </tr>\n",
       "    <tr>\n",
       "      <th>t3_dvkqtj</th>\n",
       "      <td>nfl</td>\n",
       "      <td>The Indianapolis Colts have won the AFC East more recently than the Buffalo Bills have. What are some other hard to believe yet true facts about the NFL?</td>\n",
       "    </tr>\n",
       "    <tr>\n",
       "      <th>t3_dvi5zv</th>\n",
       "      <td>nfl</td>\n",
       "      <td>Top 5 PFF edge rusher grades: Watt, Bosa, Graham, Watt, Bosa</td>\n",
       "    </tr>\n",
       "    <tr>\n",
       "      <th>t3_dvdlih</th>\n",
       "      <td>nfl</td>\n",
       "      <td>[Dunlap] I thought Sean McVay was reportedly going to change football forever. Keep in mind Mike Tomlin just beat him with: - a backup QB - a retooled offensive line - no running game</td>\n",
       "    </tr>\n",
       "    <tr>\n",
       "      <th>t3_dvbafm</th>\n",
       "      <td>nfl</td>\n",
       "      <td>[Schefter] Buccaneers released former first-round pick Vernon Hargreaves, per source.</td>\n",
       "    </tr>\n",
       "    <tr>\n",
       "      <th>t3_dvp4ts</th>\n",
       "      <td>nfl</td>\n",
       "      <td>Ex-Bears coach John Fox wanted different QB in draft over Mitch Trubisky</td>\n",
       "    </tr>\n",
       "    <tr>\n",
       "      <th>t3_dvqxs8</th>\n",
       "      <td>nfl</td>\n",
       "      <td>Which player or staff member are you surprised is still employed?</td>\n",
       "    </tr>\n",
       "    <tr>\n",
       "      <th>t3_dvc470</th>\n",
       "      <td>nfl</td>\n",
       "      <td>[Schefter] Seahawks’ WR Tyler Lockett spent the night in a Bay Area Hosptial with a lower leg injury that Seattle HC Pete Carroll said Is “a pretty severe situation right now.”</td>\n",
       "    </tr>\n",
       "    <tr>\n",
       "      <th>t3_dvdwrx</th>\n",
       "      <td>nfl</td>\n",
       "      <td>[Jenkins] Jamaal Williams: \"I ain't gonna lie to you. Halfway through your question, I stopped listening.\"</td>\n",
       "    </tr>\n",
       "    <tr>\n",
       "      <th>t3_dvoj92</th>\n",
       "      <td>nfl</td>\n",
       "      <td>On this day in 2005, Jon Gruden goes for 2 and the win rather than OT to cap off a wild 36-35 Tampa Bay win against Washington</td>\n",
       "    </tr>\n",
       "    <tr>\n",
       "      <th>t3_dvrt6a</th>\n",
       "      <td>nfl</td>\n",
       "      <td>Jamal Adams Named AFC Defensive Player of the Week</td>\n",
       "    </tr>\n",
       "    <tr>\n",
       "      <th>t3_dvc8a3</th>\n",
       "      <td>nfl</td>\n",
       "      <td>Just wanted to wish Al Michaels a happy 75th birthday today</td>\n",
       "    </tr>\n",
       "    <tr>\n",
       "      <th>t3_dvr0ej</th>\n",
       "      <td>nfl</td>\n",
       "      <td>[NFL Matchup on ESPN]Through Week 10 of the NFL, here are the top play-action QBs according to passer rating.</td>\n",
       "    </tr>\n",
       "    <tr>\n",
       "      <th>t3_dvo64h</th>\n",
       "      <td>nfl</td>\n",
       "      <td>[Madson] Seattle's drives that didn't start with a 49ers turnover: 7 punts, 3 fumbles, 2 field goals, 1 interception</td>\n",
       "    </tr>\n",
       "    <tr>\n",
       "      <th>t3_dvlimi</th>\n",
       "      <td>nfl</td>\n",
       "      <td>[Silva] #Ravens OC Greg Roman deserves to be 2020’s No. 1 HC candidate: Longtime elite run-game designer, Tailors offense to fit personnel rather than forcing “mah scheme”, Overseen Kap, Tyrod, Lamar career years, Forward-thinking hire exposed to edges analytics provide in Baltimore</td>\n",
       "    </tr>\n",
       "    <tr>\n",
       "      <th>...</th>\n",
       "      <td>...</td>\n",
       "      <td>...</td>\n",
       "    </tr>\n",
       "    <tr>\n",
       "      <th>t3_du5td5</th>\n",
       "      <td>nba</td>\n",
       "      <td>[Highlight] DLo with the buzzer beater long three at the end of Q3 to tie the game!</td>\n",
       "    </tr>\n",
       "    <tr>\n",
       "      <th>t3_dv4t4t</th>\n",
       "      <td>nba</td>\n",
       "      <td>Would you like to see fans storm the court after an upset like in college basketball?</td>\n",
       "    </tr>\n",
       "    <tr>\n",
       "      <th>t3_dulb4g</th>\n",
       "      <td>nba</td>\n",
       "      <td>Are the Magic a playoff team?</td>\n",
       "    </tr>\n",
       "    <tr>\n",
       "      <th>t3_dug9fz</th>\n",
       "      <td>nba</td>\n",
       "      <td>Who’s your favorite “Bottom of the Rotation” guy that never ended up making it in the league?</td>\n",
       "    </tr>\n",
       "    <tr>\n",
       "      <th>t3_du4gin</th>\n",
       "      <td>nba</td>\n",
       "      <td>[Highlight] Robert \"Timelord\" Williams with an insane block on a three, leads the break and gets a hockey assist for a Javonte Green slam!</td>\n",
       "    </tr>\n",
       "    <tr>\n",
       "      <th>t3_dv01bd</th>\n",
       "      <td>nba</td>\n",
       "      <td>Who are the best NBA players you would take Luka over?</td>\n",
       "    </tr>\n",
       "    <tr>\n",
       "      <th>t3_du94kt</th>\n",
       "      <td>nba</td>\n",
       "      <td>Jaylen Brown Full Highlights 2019.11.09 Celtics vs Spurs - 30 Pts, 7 Rebs, 3 Asts</td>\n",
       "    </tr>\n",
       "    <tr>\n",
       "      <th>t3_du66em</th>\n",
       "      <td>nba</td>\n",
       "      <td>[Post game thread] The Oklahoma City Thunder(4-5) Defeat the Golden State Warriors(2-8) by a score of 114-108</td>\n",
       "    </tr>\n",
       "    <tr>\n",
       "      <th>t3_dug1x6</th>\n",
       "      <td>nba</td>\n",
       "      <td>GAME THREAD: Denver Nuggets (6-2) @ Minnesota Timberwolves (5-3) - (November 10, 2019)</td>\n",
       "    </tr>\n",
       "    <tr>\n",
       "      <th>t3_du0daa</th>\n",
       "      <td>nba</td>\n",
       "      <td>[PelicansPR] Brandon Ingram becomes the second player in #NBA history to score over 200 points while shooting over .500 from the field and .400 from three-point range in their first eight games with a team, joining Kevin Durant, who did it with Golden State in 2016</td>\n",
       "    </tr>\n",
       "    <tr>\n",
       "      <th>t3_dv4gxo</th>\n",
       "      <td>nba</td>\n",
       "      <td>Clippers stole Kawhi and marketing material from the Raptors</td>\n",
       "    </tr>\n",
       "    <tr>\n",
       "      <th>t3_dufo4h</th>\n",
       "      <td>nba</td>\n",
       "      <td>Which rules from the Euroleague would you like NBA to implement?</td>\n",
       "    </tr>\n",
       "    <tr>\n",
       "      <th>t3_dui6lu</th>\n",
       "      <td>nba</td>\n",
       "      <td>GAME THREAD: Charlotte Hornets (4-5) @ Philadelphia 76ers (5-3) - (November 10, 2019)</td>\n",
       "    </tr>\n",
       "    <tr>\n",
       "      <th>t3_du2fcc</th>\n",
       "      <td>nba</td>\n",
       "      <td>Paul George on Kawhi Leonard - “Everything is true about his makeup. He works hard, he’s a great teammate, great locker room guy. He actually does talk and he’s a fun guy. The legend is true.”</td>\n",
       "    </tr>\n",
       "    <tr>\n",
       "      <th>t3_dudqan</th>\n",
       "      <td>nba</td>\n",
       "      <td>Veteran Taj Gibson Joins Kevin Knox and Mitchell Robinson for Delta Road Bites</td>\n",
       "    </tr>\n",
       "    <tr>\n",
       "      <th>t3_du3gb5</th>\n",
       "      <td>nba</td>\n",
       "      <td>[Highlight] Gordon Hayward leaves the game after taking a hit from LaMarcus Aldridge on the screen</td>\n",
       "    </tr>\n",
       "    <tr>\n",
       "      <th>t3_duuarb</th>\n",
       "      <td>nba</td>\n",
       "      <td>What happens if a rookie plays entire games with no rest?</td>\n",
       "    </tr>\n",
       "    <tr>\n",
       "      <th>t3_dv3ys3</th>\n",
       "      <td>nba</td>\n",
       "      <td>Anyone not a fan of Kawhi Leonard?</td>\n",
       "    </tr>\n",
       "    <tr>\n",
       "      <th>t3_dupepv</th>\n",
       "      <td>nba</td>\n",
       "      <td>If you are a fan of a playoff contender, would you trade your teams third best player for DeMar Derozan?</td>\n",
       "    </tr>\n",
       "    <tr>\n",
       "      <th>t3_dugu3r</th>\n",
       "      <td>nba</td>\n",
       "      <td>[Velasquez] Kyle Korver is listed as out for the Bucks tonight with a head contusion.</td>\n",
       "    </tr>\n",
       "    <tr>\n",
       "      <th>t3_du55i9</th>\n",
       "      <td>nba</td>\n",
       "      <td>[Highlight] Hamidou Diallo hammers it down over Chriss!</td>\n",
       "    </tr>\n",
       "    <tr>\n",
       "      <th>t3_du97u0</th>\n",
       "      <td>nba</td>\n",
       "      <td>Why did Kobe Bryant only take 3 shots in the 2nd half of 2006 WCQF game 7?</td>\n",
       "    </tr>\n",
       "    <tr>\n",
       "      <th>t3_dukezk</th>\n",
       "      <td>nba</td>\n",
       "      <td>Stats NBA.com endpoints not working?</td>\n",
       "    </tr>\n",
       "    <tr>\n",
       "      <th>t3_du69ug</th>\n",
       "      <td>nba</td>\n",
       "      <td>James Harden casually drops 42/10/9 on the Bulls.</td>\n",
       "    </tr>\n",
       "    <tr>\n",
       "      <th>t3_duc9f8</th>\n",
       "      <td>nba</td>\n",
       "      <td>Trae Young vs. De'Aaron Fox was asked a few times over the offseason. Has Trae shown enough for your opinion to change any?</td>\n",
       "    </tr>\n",
       "    <tr>\n",
       "      <th>t3_du6rrk</th>\n",
       "      <td>nba</td>\n",
       "      <td>Raptor players share memories of Kawhi ahead of LA reunion</td>\n",
       "    </tr>\n",
       "    <tr>\n",
       "      <th>t3_du66po</th>\n",
       "      <td>nba</td>\n",
       "      <td>[FreeDawkins] Luka Doncic Full Highlights 2019.11.09 Mavs vs Grizzlies - 24 Pts, 14 Rebs, 8 Asts</td>\n",
       "    </tr>\n",
       "    <tr>\n",
       "      <th>t3_du3uwt</th>\n",
       "      <td>nba</td>\n",
       "      <td>[Highlight] Robert \"Timelord\" Williams goes high and throws down the inbound alley oop from Smart</td>\n",
       "    </tr>\n",
       "    <tr>\n",
       "      <th>t3_dv1jae</th>\n",
       "      <td>nba</td>\n",
       "      <td>Can someone explain what PG has done to be regularly ranked ahead of Kyrie?</td>\n",
       "    </tr>\n",
       "    <tr>\n",
       "      <th>t3_du5uk6</th>\n",
       "      <td>nba</td>\n",
       "      <td>[Post Game Thread] The New Orleans Pelicans (2-7) defeat the Charlotte Hornets (4-5) 115-110 behind 25 points from Brandon Ingram.</td>\n",
       "    </tr>\n",
       "  </tbody>\n",
       "</table>\n",
       "<p>1666 rows × 2 columns</p>\n",
       "</div>"
      ],
      "text/plain": [
       "          subreddit  \\\n",
       "t3_dva38v       nfl   \n",
       "t3_dvfdhm       nfl   \n",
       "t3_dvhdmh       nfl   \n",
       "t3_dvi5xb       nfl   \n",
       "t3_dvrvvy       nfl   \n",
       "t3_dvhocr       nfl   \n",
       "t3_dvnxdw       nfl   \n",
       "t3_dvjqtm       nfl   \n",
       "t3_dvc1wv       nfl   \n",
       "t3_dvrgg3       nfl   \n",
       "t3_dvgzjt       nfl   \n",
       "t3_dvrucj       nfl   \n",
       "t3_dvhnsx       nfl   \n",
       "t3_dvlzov       nfl   \n",
       "t3_dvhuuq       nfl   \n",
       "t3_dveqwt       nfl   \n",
       "t3_dvkqtj       nfl   \n",
       "t3_dvi5zv       nfl   \n",
       "t3_dvdlih       nfl   \n",
       "t3_dvbafm       nfl   \n",
       "t3_dvp4ts       nfl   \n",
       "t3_dvqxs8       nfl   \n",
       "t3_dvc470       nfl   \n",
       "t3_dvdwrx       nfl   \n",
       "t3_dvoj92       nfl   \n",
       "t3_dvrt6a       nfl   \n",
       "t3_dvc8a3       nfl   \n",
       "t3_dvr0ej       nfl   \n",
       "t3_dvo64h       nfl   \n",
       "t3_dvlimi       nfl   \n",
       "...             ...   \n",
       "t3_du5td5       nba   \n",
       "t3_dv4t4t       nba   \n",
       "t3_dulb4g       nba   \n",
       "t3_dug9fz       nba   \n",
       "t3_du4gin       nba   \n",
       "t3_dv01bd       nba   \n",
       "t3_du94kt       nba   \n",
       "t3_du66em       nba   \n",
       "t3_dug1x6       nba   \n",
       "t3_du0daa       nba   \n",
       "t3_dv4gxo       nba   \n",
       "t3_dufo4h       nba   \n",
       "t3_dui6lu       nba   \n",
       "t3_du2fcc       nba   \n",
       "t3_dudqan       nba   \n",
       "t3_du3gb5       nba   \n",
       "t3_duuarb       nba   \n",
       "t3_dv3ys3       nba   \n",
       "t3_dupepv       nba   \n",
       "t3_dugu3r       nba   \n",
       "t3_du55i9       nba   \n",
       "t3_du97u0       nba   \n",
       "t3_dukezk       nba   \n",
       "t3_du69ug       nba   \n",
       "t3_duc9f8       nba   \n",
       "t3_du6rrk       nba   \n",
       "t3_du66po       nba   \n",
       "t3_du3uwt       nba   \n",
       "t3_dv1jae       nba   \n",
       "t3_du5uk6       nba   \n",
       "\n",
       "                                                                                                                                                                                                                                                                                                  title  \n",
       "t3_dva38v                                                                                                                                                                                                                                                               Official /r/NFL Sidebar contest  \n",
       "t3_dvfdhm                                                                                                                                                                                                                                                         Official Week 10 R/NFL Power Rankings  \n",
       "t3_dvhdmh  [Schefter] NFL clubs were informed today that a private workout will be held for Colin Kaepernick on Saturday in Atlanta. Session will include on-field work and an interview. All clubs are invited to attend, and video of both the workout and interview will be made available to clubs.  \n",
       "t3_dvi5xb                                                                                                                                                                                                     [Schefter] NFL has flexed the Week 12 Packers-49ers game to Sunday Night Football on NBC.  \n",
       "t3_dvrvvy                                                                                                                                                                                                 [Falcons] YEAH, YOUNGHOE! 👉 @YoungHoeKoo has been named NFC Special Teams Player of the Week!  \n",
       "t3_dvhocr                                                                                                                                                                                                                                      Rapaport: Cam Newton would accept trade to Chicago Bears  \n",
       "t3_dvnxdw                                                                                                                                                                                                      [Josh Houtz] Andy Dalton says he was benched because they \"had to think about the draft\"  \n",
       "t3_dvjqtm                                     [Colin K] I’m just getting word from my representatives that the NFL league office reached out to them about a workout in Atlanta on Saturday. I’ve been in shape and ready for this for 3 years, can’t wait to see the head coaches and GMs on Saturday.  \n",
       "t3_dvc1wv                                                                                                                                                                                                                                Seahawks drop in CBS power rankings after defeating 8-0 Niners  \n",
       "t3_dvrgg3                                                                                                                                                                                                                                                         The 2019 ESPN Playoff Machine is live  \n",
       "t3_dvgzjt                                                                                                                                                                                                                              5’6” Tarik Cohen complains about towels on the top shelf at 0:32  \n",
       "t3_dvrucj                                                                                                                                                                                                         [NFL] The AFC and NFC Offensive Players of the week are Lamar Jackson and Dalvin Cook  \n",
       "t3_dvhnsx                                                                                                                                                  [Siciliano] Geno Smith say, \"Do the math.\" : A coin toss is more likely to land on heads in OT if it lands on tails for the opening kickoff.  \n",
       "t3_dvlzov                                                                                                                                                                                                            [Keysor] On Derrick Henry’s touchdown run, the Chiefs only had 10 men on the field  \n",
       "t3_dvhuuq          [Lombardi] Kyle Shanahan was very stern talking about the 49ers WRs today. Said point blank that passes off the hands should be caught. Then on Dante Pettis: “He’s had his opportunities. The more he doesn’t take advantage of his opportunities, the less opportunities he gets.\"  \n",
       "t3_dveqwt                                                                                                                                                  In 2010, the Steelers final WR depth chart was Hines Ward, Antonio Brown, Mike Wallace, Emmanuel Sanders, Antwaan Randle El and Arnaz Battle  \n",
       "t3_dvkqtj                                                                                                                                     The Indianapolis Colts have won the AFC East more recently than the Buffalo Bills have. What are some other hard to believe yet true facts about the NFL?  \n",
       "t3_dvi5zv                                                                                                                                                                                                                                  Top 5 PFF edge rusher grades: Watt, Bosa, Graham, Watt, Bosa  \n",
       "t3_dvdlih                                                                                                       [Dunlap] I thought Sean McVay was reportedly going to change football forever. Keep in mind Mike Tomlin just beat him with: - a backup QB - a retooled offensive line - no running game  \n",
       "t3_dvbafm                                                                                                                                                                                                         [Schefter] Buccaneers released former first-round pick Vernon Hargreaves, per source.  \n",
       "t3_dvp4ts                                                                                                                                                                                                                      Ex-Bears coach John Fox wanted different QB in draft over Mitch Trubisky  \n",
       "t3_dvqxs8                                                                                                                                                                                                                             Which player or staff member are you surprised is still employed?  \n",
       "t3_dvc470                                                                                                              [Schefter] Seahawks’ WR Tyler Lockett spent the night in a Bay Area Hosptial with a lower leg injury that Seattle HC Pete Carroll said Is “a pretty severe situation right now.”  \n",
       "t3_dvdwrx                                                                                                                                                                                    [Jenkins] Jamaal Williams: \"I ain't gonna lie to you. Halfway through your question, I stopped listening.\"  \n",
       "t3_dvoj92                                                                                                                                                                On this day in 2005, Jon Gruden goes for 2 and the win rather than OT to cap off a wild 36-35 Tampa Bay win against Washington  \n",
       "t3_dvrt6a                                                                                                                                                                                                                                            Jamal Adams Named AFC Defensive Player of the Week  \n",
       "t3_dvc8a3                                                                                                                                                                                                                                   Just wanted to wish Al Michaels a happy 75th birthday today  \n",
       "t3_dvr0ej                                                                                                                                                                                 [NFL Matchup on ESPN]Through Week 10 of the NFL, here are the top play-action QBs according to passer rating.  \n",
       "t3_dvo64h                                                                                                                                                                          [Madson] Seattle's drives that didn't start with a 49ers turnover: 7 punts, 3 fumbles, 2 field goals, 1 interception  \n",
       "t3_dvlimi   [Silva] #Ravens OC Greg Roman deserves to be 2020’s No. 1 HC candidate: Longtime elite run-game designer, Tailors offense to fit personnel rather than forcing “mah scheme”, Overseen Kap, Tyrod, Lamar career years, Forward-thinking hire exposed to edges analytics provide in Baltimore  \n",
       "...                                                                                                                                                                                                                                                                                                 ...  \n",
       "t3_du5td5                                                                                                                                                                                                           [Highlight] DLo with the buzzer beater long three at the end of Q3 to tie the game!  \n",
       "t3_dv4t4t                                                                                                                                                                                                         Would you like to see fans storm the court after an upset like in college basketball?  \n",
       "t3_dulb4g                                                                                                                                                                                                                                                                 Are the Magic a playoff team?  \n",
       "t3_dug9fz                                                                                                                                                                                                 Who’s your favorite “Bottom of the Rotation” guy that never ended up making it in the league?  \n",
       "t3_du4gin                                                                                                                                                    [Highlight] Robert \"Timelord\" Williams with an insane block on a three, leads the break and gets a hockey assist for a Javonte Green slam!  \n",
       "t3_dv01bd                                                                                                                                                                                                                                        Who are the best NBA players you would take Luka over?  \n",
       "t3_du94kt                                                                                                                                                                                                             Jaylen Brown Full Highlights 2019.11.09 Celtics vs Spurs - 30 Pts, 7 Rebs, 3 Asts  \n",
       "t3_du66em                                                                                                                                                                                 [Post game thread] The Oklahoma City Thunder(4-5) Defeat the Golden State Warriors(2-8) by a score of 114-108  \n",
       "t3_dug1x6                                                                                                                                                                                                        GAME THREAD: Denver Nuggets (6-2) @ Minnesota Timberwolves (5-3) - (November 10, 2019)  \n",
       "t3_du0daa                     [PelicansPR] Brandon Ingram becomes the second player in #NBA history to score over 200 points while shooting over .500 from the field and .400 from three-point range in their first eight games with a team, joining Kevin Durant, who did it with Golden State in 2016  \n",
       "t3_dv4gxo                                                                                                                                                                                                                                  Clippers stole Kawhi and marketing material from the Raptors  \n",
       "t3_dufo4h                                                                                                                                                                                                                              Which rules from the Euroleague would you like NBA to implement?  \n",
       "t3_dui6lu                                                                                                                                                                                                         GAME THREAD: Charlotte Hornets (4-5) @ Philadelphia 76ers (5-3) - (November 10, 2019)  \n",
       "t3_du2fcc                                                                                              Paul George on Kawhi Leonard - “Everything is true about his makeup. He works hard, he’s a great teammate, great locker room guy. He actually does talk and he’s a fun guy. The legend is true.”  \n",
       "t3_dudqan                                                                                                                                                                                                                Veteran Taj Gibson Joins Kevin Knox and Mitchell Robinson for Delta Road Bites  \n",
       "t3_du3gb5                                                                                                                                                                                            [Highlight] Gordon Hayward leaves the game after taking a hit from LaMarcus Aldridge on the screen  \n",
       "t3_duuarb                                                                                                                                                                                                                                     What happens if a rookie plays entire games with no rest?  \n",
       "t3_dv3ys3                                                                                                                                                                                                                                                            Anyone not a fan of Kawhi Leonard?  \n",
       "t3_dupepv                                                                                                                                                                                      If you are a fan of a playoff contender, would you trade your teams third best player for DeMar Derozan?  \n",
       "t3_dugu3r                                                                                                                                                                                                         [Velasquez] Kyle Korver is listed as out for the Bucks tonight with a head contusion.  \n",
       "t3_du55i9                                                                                                                                                                                                                                       [Highlight] Hamidou Diallo hammers it down over Chriss!  \n",
       "t3_du97u0                                                                                                                                                                                                                    Why did Kobe Bryant only take 3 shots in the 2nd half of 2006 WCQF game 7?  \n",
       "t3_dukezk                                                                                                                                                                                                                                                          Stats NBA.com endpoints not working?  \n",
       "t3_du69ug                                                                                                                                                                                                                                             James Harden casually drops 42/10/9 on the Bulls.  \n",
       "t3_duc9f8                                                                                                                                                                   Trae Young vs. De'Aaron Fox was asked a few times over the offseason. Has Trae shown enough for your opinion to change any?  \n",
       "t3_du6rrk                                                                                                                                                                                                                                    Raptor players share memories of Kawhi ahead of LA reunion  \n",
       "t3_du66po                                                                                                                                                                                              [FreeDawkins] Luka Doncic Full Highlights 2019.11.09 Mavs vs Grizzlies - 24 Pts, 14 Rebs, 8 Asts  \n",
       "t3_du3uwt                                                                                                                                                                                             [Highlight] Robert \"Timelord\" Williams goes high and throws down the inbound alley oop from Smart  \n",
       "t3_dv1jae                                                                                                                                                                                                                   Can someone explain what PG has done to be regularly ranked ahead of Kyrie?  \n",
       "t3_du5uk6                                                                                                                                                            [Post Game Thread] The New Orleans Pelicans (2-7) defeat the Charlotte Hornets (4-5) 115-110 behind 25 points from Brandon Ingram.  \n",
       "\n",
       "[1666 rows x 2 columns]"
      ]
     },
     "execution_count": 15,
     "metadata": {},
     "output_type": "execute_result"
    }
   ],
   "source": [
    "train"
   ]
  },
  {
   "cell_type": "markdown",
   "metadata": {},
   "source": [
    "##### Tokenize (grab only word characters)"
   ]
  },
  {
   "cell_type": "code",
   "execution_count": 16,
   "metadata": {},
   "outputs": [],
   "source": [
    "word_tokenizer = RegexpTokenizer(r'\\w+')"
   ]
  },
  {
   "cell_type": "code",
   "execution_count": 17,
   "metadata": {},
   "outputs": [],
   "source": [
    "train['title'] = train['title'].map(lambda x: word_tokenizer.tokenize(x.lower()))"
   ]
  },
  {
   "cell_type": "code",
   "execution_count": 18,
   "metadata": {},
   "outputs": [],
   "source": [
    "# rejoin list of tokenized words into single string for each row\n",
    "\n",
    "train['title'] = train['title'].map(lambda x: ' '.join(x))"
   ]
  },
  {
   "cell_type": "code",
   "execution_count": 19,
   "metadata": {},
   "outputs": [
    {
     "data": {
      "text/plain": [
       "t3_dva38v                                                                                                                                                                                                                                                            official r nfl sidebar contest\n",
       "t3_dvfdhm                                                                                                                                                                                                                                                     official week 10 r nfl power rankings\n",
       "t3_dvhdmh    schefter nfl clubs were informed today that a private workout will be held for colin kaepernick on saturday in atlanta session will include on field work and an interview all clubs are invited to attend and video of both the workout and interview will be made available to clubs\n",
       "t3_dvi5xb                                                                                                                                                                                                    schefter nfl has flexed the week 12 packers 49ers game to sunday night football on nbc\n",
       "t3_dvrvvy                                                                                                                                                                                                     falcons yeah younghoe younghoekoo has been named nfc special teams player of the week\n",
       "Name: title, dtype: object"
      ]
     },
     "execution_count": 19,
     "metadata": {},
     "output_type": "execute_result"
    }
   ],
   "source": [
    "train['title'][0:5]"
   ]
  },
  {
   "cell_type": "code",
   "execution_count": 20,
   "metadata": {},
   "outputs": [
    {
     "data": {
      "text/plain": [
       "t3_dva38v                                                                                                                                                                                                                                                            official r nfl sidebar contest\n",
       "t3_dvfdhm                                                                                                                                                                                                                                                     official week 10 r nfl power rankings\n",
       "t3_dvhdmh    schefter nfl clubs were informed today that a private workout will be held for colin kaepernick on saturday in atlanta session will include on field work and an interview all clubs are invited to attend and video of both the workout and interview will be made available to clubs\n",
       "t3_dvi5xb                                                                                                                                                                                                    schefter nfl has flexed the week 12 packers 49ers game to sunday night football on nbc\n",
       "t3_dvrvvy                                                                                                                                                                                                     falcons yeah younghoe younghoekoo has been named nfc special teams player of the week\n",
       "Name: title, dtype: object"
      ]
     },
     "execution_count": 20,
     "metadata": {},
     "output_type": "execute_result"
    }
   ],
   "source": [
    "train['title'][0:5]"
   ]
  },
  {
   "cell_type": "markdown",
   "metadata": {},
   "source": [
    "### Train test split and converting series to list of strings then to array"
   ]
  },
  {
   "cell_type": "code",
   "execution_count": 21,
   "metadata": {},
   "outputs": [],
   "source": [
    "X = train[['title']]\n",
    "y = train['subreddit']"
   ]
  },
  {
   "cell_type": "code",
   "execution_count": 22,
   "metadata": {},
   "outputs": [],
   "source": [
    "from sklearn.model_selection import train_test_split\n",
    "\n",
    "X_train, X_test, y_train, y_test = train_test_split(X,\n",
    "                                                    y,\n",
    "                                                    test_size=.25,\n",
    "                                                    random_state=42,\n",
    "                                                    stratify=y)"
   ]
  },
  {
   "cell_type": "code",
   "execution_count": 23,
   "metadata": {},
   "outputs": [
    {
     "data": {
      "text/plain": [
       "nfl    0.535414\n",
       "nba    0.464586\n",
       "Name: subreddit, dtype: float64"
      ]
     },
     "execution_count": 23,
     "metadata": {},
     "output_type": "execute_result"
    }
   ],
   "source": [
    "# baseline is\n",
    "\n",
    "y.value_counts(normalize=True)"
   ]
  },
  {
   "cell_type": "code",
   "execution_count": 24,
   "metadata": {},
   "outputs": [],
   "source": [
    "# create our training data list - this is a list of strings, with each string being a post title\n",
    "\n",
    "clean_train_data = []\n",
    "\n",
    "for traindata in X_train['title']:\n",
    "    clean_train_data.append(traindata)"
   ]
  },
  {
   "cell_type": "code",
   "execution_count": 25,
   "metadata": {},
   "outputs": [
    {
     "data": {
      "text/plain": [
       "1249"
      ]
     },
     "execution_count": 25,
     "metadata": {},
     "output_type": "execute_result"
    }
   ],
   "source": [
    "len(clean_train_data)"
   ]
  },
  {
   "cell_type": "code",
   "execution_count": 26,
   "metadata": {},
   "outputs": [],
   "source": [
    "# create test data list\n",
    "\n",
    "clean_test_data = []\n",
    "\n",
    "for testdata in X_test['title']:\n",
    "    clean_test_data.append(testdata)"
   ]
  },
  {
   "cell_type": "code",
   "execution_count": 27,
   "metadata": {},
   "outputs": [
    {
     "data": {
      "text/plain": [
       "417"
      ]
     },
     "execution_count": 27,
     "metadata": {},
     "output_type": "execute_result"
    }
   ],
   "source": [
    "len(clean_test_data)"
   ]
  },
  {
   "cell_type": "code",
   "execution_count": 28,
   "metadata": {},
   "outputs": [
    {
     "data": {
      "text/plain": [
       "['charania houston fears guard eric gordon needs surgery on his knee that would sideline him at least one month league sources tell theathleticnba stadium gordon gathering more information today for final decision but leaning toward clean up procedure per sources',\n",
       " 'in the 1940 nfl championship the bears compiled 73 points against the redskins 0 points for the biggest blow out in nfl history it was also the last game that an nfl player bears player dick plasman played without a helmet although helmets were not required in the nfl until 1943',\n",
       " 'chargers travel to colorado to prepare for mnf game against chiefs in mexico city',\n",
       " 'the dtysfunctionalality of the hornets is multi layered and is unlikely to be fixed for several decades',\n",
       " 'game thread utah jazz 6 3 golden state warriors 2 8 november 12 2019',\n",
       " 'highlight dak s hail mary gets picked vikings win',\n",
       " 'grove baker mayfield after the bye week 73 111 65 7 705 yards 4 td 1 int not amazing but reports of his demise might ve been a little bit exaggerated',\n",
       " 'excluding garbage time the cavs are 8 7 with thompson on the floor and 22 6 with him off the largest differential in the league',\n",
       " 'highlight coach pop on tony parker s jersey retirement night tony i want to apologize for all the physical and mental abuse',\n",
       " 'oram lakers say anthony davis had x rays on his ribs tonight which came back negative he will be re evaluated tomorrow',\n",
       " 'game thread portland trail blazers 4 6 sacramento kings 3 6 november 13 2019',\n",
       " 'what is josh rosen s future in the nfl',\n",
       " 'can a starting lineup of the injured golden state warriors make the playoffs in the west',\n",
       " 'rodger sherman the winners amp losers of nfl week 10',\n",
       " 'highlight trae young from ridiculously deep for 3',\n",
       " 'karl anthony towns is live with a steamer on twitch playing call of duty and talking basketball',\n",
       " 'charles rogers death and the scrutiny of an athlete s public life',\n",
       " 'what if a punt hits the one yard line then bounces out past the endzone without actually touching it would the ball be on the 1 yard line or would it be a touchback',\n",
       " 'who are the best worst team specific commentating crews in the league',\n",
       " 'kirk cousins has 3 interceptions the only quarterback with less picks in the same amount of games is aaron rodgers with 2',\n",
       " 'nfl officiating al riveron breaks down the final play in kcvsten the ten player was not offside when the ball was snapped',\n",
       " 'highlight rubio drags three laker players into the paint which leads to a wide open saric three',\n",
       " 'game thread toronto raptors 7 2 los angeles clippers 6 3 november 12 2019',\n",
       " 'with just 7 weeks left to play the afc playoff picture is wide open',\n",
       " 'highlight cook runs right for the 1 yd td run on 4th down',\n",
       " 'the last time the sacramento kings franchise won the championship was in 1951 that s closer to the spanish american war than 2019',\n",
       " 'montrezl harrell calls raptors fans clowns on instagram',\n",
       " 'highlight peyton barber scores to put the bucs ahead',\n",
       " 'matt thomas in his seven games off the bench for the raptors so far this year 11 3 mpg has a ts of 955',\n",
       " 'playoff standings week 10 edition',\n",
       " 'seahawks 49ers top week 10 game ever on espn',\n",
       " 'highlight lamar jackson goes deep to marquise brown on the first play of the game',\n",
       " 'just got done watching the suns vs nets game and man',\n",
       " 'players whose production tanked after getting their big contract',\n",
       " 'tim reynolds griffin and rose out today x heat',\n",
       " 'highlight tristan thompson hits his 2nd career three',\n",
       " 'list of players averaging 25 points 4 rebounds 3 assists 1 block on 47 or better shooting',\n",
       " 'allen fumbles for a bills first down',\n",
       " 'oc highlight today is former steelers hb willie parker s 39th birthday here s every single td all 33 of them that the 2 time pro bowler scored in his nfl career including his 75 yarder against the seahawks at super bowl xl',\n",
       " 'dehner jr a frisbee dog with a 50 yard completion just elicited one of the loudest cheers of the year at paul brown stadium',\n",
       " 'luka doncic is a top 10 player in the nba the will chain show',\n",
       " 'highlight the dichotomy of westbrook badly airballs a jumper and then hits the circus shot on the next possession',\n",
       " 'eastern conference playoffs are looking to be more competitive than we most fans originally thought',\n",
       " 'giants sign corn elder waive evan brown',\n",
       " 'today is the first time since april 7th 2012 that the suns and lakers will play each other where both teams are over 500',\n",
       " 'peter king saquon barkley the 2018 nfl offensive rookie of the year averaged 2 77 inches per rush against the jets on sunday',\n",
       " 'nba power rankings week 4 sixers fall suns rise and l a at the top',\n",
       " 'highlight eat freak',\n",
       " 'schefter 49ers activated te garrett celek to the active roster from the reserve physically unable to perform list another sign that george kittle will not play tonight vs seattle',\n",
       " 'ira winderman nba marijuana policy treatment penalties disclosure',\n",
       " 'mitchell david trubisky against the lions today 16 23 173 yards 3 td 0 int 131 0 passer rating',\n",
       " 'friedell draymond says he s ready to play tonight vs jazz still has his finger taped but is feeling better',\n",
       " 'highlight kyrie misses the potential game winner',\n",
       " 'kristaps porzingis 4 points on 1 11 shooting from the field 1 4 from three 5 fouls and a 15 in 19 minutes all lowlights',\n",
       " 'wilson dolphins worked out linebacker jake carlock who was signed to practice squad',\n",
       " 'auman despite 30 27 win over arizona on sunday bucs have now fallen to no 32 in scoring defense 31 0 points game and no 32 in passing defense 298 9 yards game run defense is still no 1 in nfl at 77 8 yards game',\n",
       " 'why can t we have an atl den game thread',\n",
       " 'jabari parker full highlights 2019 11 10 hawks vs blazers 27 pts 11 rebs',\n",
       " 'lamar jackson joined ben roethlisberger 2007 as the only quarterbacks in nfl history to achieve a perfect passer rating in multiple games in the same season',\n",
       " 'schefter cowboys guard connor williams is scheduled to undergo arthroscopic knee surgery tuesday that will determine how much time he will miss per source',\n",
       " 'ian rapoport the definition of win win almost every player the dolphins traded this season has a 500 or better record on their new team while miami is more than happy with the picks only kenyan drake traded two weeks ago plays for a losing team via nflresearch',\n",
       " 'highlight dlo hits back to back to back threes',\n",
       " 'mike trudell anthony davis said it s important for him to play through pain ribs tonight shoulder of late it s tough for me to lead from the sidelines i know what our goal is',\n",
       " 'wyche i reported on nfl now that falcons assistant coach raheem morris told me that he called 3rd down and two minute defenses against the saints while jeff ulbrich called 1st and 2nd down defense ulbrich has done that since week 6 vs az this delegation is the plan moving forwards',\n",
       " 'rapoport falcons te austin hooper the nfl s leader at his position with 56 catches is getting an mri on a knee injury suffered sunday source said hooper is expected to miss some time but the mri will determine how much atlanta could be without devonta freeman amp hooper this week',\n",
       " 'mike conley donovan mitchell joe ingles and bojan bogdanovic shoot a combined 1 17 from three last night the jazz still won',\n",
       " 'is it time for the magic to move on from fournier and vucevic and possibly gordon',\n",
       " 'game thread houston rockets 6 3 new orleans pelicans 2 7 november 12 2019',\n",
       " 'what do you predict will be the major trades this year by the trade deadline',\n",
       " 'barrows kyle juzczyk said he was part of a five lead change game in baltimore he said today s loss was one of the most emotionally draining games i ve been a part of',\n",
       " 'post game thread the boston celtics 7 1 defeat the san antonio spurs 5 4 135 115 behind jaylen brown s 30 points 7 rebounds and 3 assists',\n",
       " 'backaftathis whenever minnesota plays in dallas i m reminded of the vikings cowboys 1977 nfc championship game when this dude was on fire in the stands literally on fire',\n",
       " 'highlight blake bortles fails to get a first down on 3rd and 2 after filling in for goff',\n",
       " 'palmer chiefs rb damian williams hasn t moved since we got into the locker room still fully in pads and staring straight ahead',\n",
       " 'at what point do we start talking about domantas sabonis as an all star this season',\n",
       " 'davante adams feeling more like himself',\n",
       " 'thought about kawhi s performance vs raptors',\n",
       " 'pft pass interference on the bucs on the last play of the game not called not reviewed what the hell',\n",
       " 'highlight packers halftime show does not go according to plan',\n",
       " 'schefter buccaneers released former first round pick vernon hargreaves per source',\n",
       " 'only two players in the top 50 ppg scorers this season are shooting under a 40 fg',\n",
       " 'rothstein the nfl is looking into how the lions handled the injury designation of quarterback matthew stafford a league source tells espn the investigation is standard when there are some questions about the report',\n",
       " 'need help with my stats assignment regarding stephen curry s 2018 2019 season',\n",
       " 'basketball teams in the world with the most trophies',\n",
       " '2019 state of the subs week 10',\n",
       " 'lewenberg danny green and kawhi leonard through 1 5 games of this reunion back to back vs the raptors 0 for 10 4 points 5 turnovers',\n",
       " 'highlight draymond green airballs a three',\n",
       " '49ers playcalling in ot was bad',\n",
       " 'the redskins eon their bye week nearly everything went right for their pursuit of the number one overall pick',\n",
       " 'orlando pr the 11 combined free throw attempts by both teams during tonight s game orlando 6 indiana 5 are the fewest in nbahistory nbastats',\n",
       " 'an injured raptors team held lebron to 13 pts on 5 15 shooting and kawhi to 12 pts on 2 11 shooting on b2b nights how did curry average 30ppg in the finals against them with kawhi dg lowry and ibaka',\n",
       " 'of the seahawks 8 wins this year so far 7 of them were by 7 points or less',\n",
       " 'rapoport saints cb marshon lattimore suffered a hamstring strain that has him considered week to week source said that s a tough loss his absence was felt quickly sunday when falcons wr julio jones went for a 54 yarder as soon as he exited',\n",
       " 'chris paul feels he got stabbed in the back with trade from rockets',\n",
       " 'schefter seahawks wr tyler lockett spent the night in a bay area hosptial with a lower leg injury that seattle hc pete carroll said is a pretty severe situation right now',\n",
       " 'coach s challenge data as of 11 7',\n",
       " 'terrell the superdome just recognized the oldest living wwii vet who is 110 years old and looks like he s having the time of his life today i want to hang out with him',\n",
       " 'la boston 2020 finals tell me why i m wrong',\n",
       " 'after 10 weeks here are the top 10 receivers by total intended air yards',\n",
       " 'game thread miami dolphins 1 7 at indianapolis colts 5 3',\n",
       " 'sarah spain i know it might not help the franchise long term but the coaches and players in miami should be pretty proud of themselves fighting amp winning despite front office moves',\n",
       " 'nfl reviewing detroit lions handling of matthew stafford injury report',\n",
       " 'the watt brothers won t let the bosa bros terrorize the league gridiron heights s4e11',\n",
       " 'fizdale we re two games out of the 8th seed',\n",
       " 'in the first 8 full games that trae young has played this season he is averaging 30 9 4 6 9 5 shooting 47 41 80',\n",
       " 'condotta shaquem griffin officially played 14 snaps last night in pass rush role after not playing any on defense all year will be interesting to see if that continues',\n",
       " 'steph currys greatest game',\n",
       " 'highlight alex caruso attacks baseline for the two hand slam',\n",
       " 'teacher posts to r miamidolphins to learn more about the team because a student is a fan the team sees and sets up a once and a lifetime experience',\n",
       " 'highlight cardinals fake punt',\n",
       " 'reiss scheduling note this is the week the nfl is expected to solidify the date time of the week 16 bills at patriots game among a handful of others around the league that week when the initial schedule was released the game was listed as tbd saturday 12 21 or sunday 12 22',\n",
       " 'highlight cmc scores from 3 yards out',\n",
       " 'kimes feel like broadcasts would benefit from analysts explaining why coaches go for two instead of just saying the analytics told them to like so rivera went for 2 to increase his chances of a win vs a tie and if they fail they know what they have to do on the next drive',\n",
       " 'mcintyre pete carroll on the end of the game you tell everyone we don t ever play for a tie ever seahawks',\n",
       " 'rovell this day in 1985 a broncos fan throws a snowball that hits 49ers holder matt cavanaugh who then can t handle the snap fg attempt is foiled broncos win 17 16 video in link',\n",
       " 'silva ravens oc greg roman deserves to be 2020 s no 1 hc candidate longtime elite run game designer tailors offense to fit personnel rather than forcing mah scheme overseen kap tyrod lamar career years forward thinking hire exposed to edges analytics provide in baltimore',\n",
       " 'kcp effectively has a 2 2m trade bonus this year if you were him which teams would you refuse to waive your no trade clause for',\n",
       " 'highlight jokic first dunk of the season',\n",
       " 'lamar vs deshaun has been hyped up this weekend but don t forget that this thursday will be the first edition of mayfield vs rudolph since bedlam in 2017 a 62 52 thriller',\n",
       " 'highlight norm and siakam locking down kawhi snet',\n",
       " 'paul george on kawhi leonard everything is true about his makeup he works hard he s a great teammate great locker room guy he actually does talk and he s a fun guy the legend is true',\n",
       " 'interesting stat of the top 10 passing qbs so far in week 10 9 of 10 teams lost their game',\n",
       " 'kirk goldsberry updated efficiency landscape',\n",
       " 'football perspective still can t believe the giants traded a 2020 3rd round pick for half a season of leonard williams in a year where the giants are going nowhere and if they give williams 10m per year that s even worse',\n",
       " 'kalu on blocked fg i felt like i jumped it perfectly',\n",
       " 'siciliano only 3 teams have had a lead in every game this year 49ers 8 0 chiefs 6 4 lions 3 5 1',\n",
       " 'o connor weird stat the nets have logged only five post ups this season they haven t made a basket on one yet the next closest team is the jazz with only 23 post ups',\n",
       " 'collin sexton tonight 31 points to beat his previous career high of 29',\n",
       " 'neubeck ben simmons and shake milton are both available tonight',\n",
       " 'ben mcadoo was fired during his second season with a record of 13 16 pat shurmur is now 7 19 in his second season',\n",
       " 'how can d lo fit in a lineup that also contains curry and klay',\n",
       " 'karl anthony towns is averaging more 3pa per game than trae young and making more of them',\n",
       " 'greif landry shamet left ankle will not return per the clippers',\n",
       " 'cody zeller 24 points full highlights 11 10 2019 downtobuck',\n",
       " 'michael thomas is pacing for the most receptions 152 and 5th most receiving yards 1 825 in a season',\n",
       " 'daryl morey was looking out for his career money just as much as the players so why',\n",
       " 'knicks press conference quotes',\n",
       " 'pelissero mark ingram and robert griffin iii say that package with the three heisman trophy winners in the backfield is called the heisman package',\n",
       " 'highlight fred vanvleet with a deep three',\n",
       " 'goon lakers have officially ruled out rajon rondo tonight',\n",
       " 'onion grizzled white bearded donald driver emerges from 7 year long lambeau leap',\n",
       " 'highlight paschall with a tough finish against gobert at the buzzer',\n",
       " 'baldwin so far i have lamar adding 22 0 expected points on 18 plays which is insane',\n",
       " 'pff rankings 2019 nfl quarterback rankings following week 10',\n",
       " '5 6 tarik cohen complains about towels on the top shelf at 0 32',\n",
       " 'kyrie loses baynes on the pick and roll then chastises levert',\n",
       " 'werder the cowboys played the saints without drew brees the packers without davonte adams and the vikings without adam thielen and lost them all',\n",
       " 'highlight baker hits higgins to take the lead late in the 4th',\n",
       " 'koreen anunoby will see an eye specialist tomorrow before raps leave la for portland nurse said both of his contacts were knocked out and he was bleeding from the gouge',\n",
       " 'jeff allen teams can get beat by anyone any week in the nfl majority of games are decided by 7 or less points that s why mistakes are so costly the teams that consistently win don t make many mistakes never get too high or low things change quickly',\n",
       " 'd lo s stats against the jazz 33 pts 8 ast 2 reb on 52 shooting and 56 from 3',\n",
       " 'stephen a smith the new york knicks were so embarrassing last night sanitation workers wouldn t have wanted to show up at madison square garden they couldn t take that smell',\n",
       " 'bleacherreport jalen ramsey said pregame that juju was no ab juju s response after getting the w via bepryor',\n",
       " 'neubeck sixers health updates for cleveland tomorrow ben simmons is questionable and will be evaluated in the am shake milton is doubtful and will also be evaluated in the am al horford is out for a planned rest day',\n",
       " 'what type of contract will hayward get after this season',\n",
       " 'espn teams that have spent years instructing players on the hazards of impulsive social media use were irritated to see an executive wreak havoc with a tweet his decision to delete the tweet signaled a lack of conviction if he felt his expression warranted the fallout then at least stand by it',\n",
       " 'football perspective jared goff last 16 games 362 608 63 1 4 256 yards 7 0 y a 17 td 16 int 79 2 passer rating 28 sacks 219 sack yards lost 5 75 any a 3 rushing tds 16 fumbles he s basically high volume mark sanchez',\n",
       " 'thorn this is an awesome play on a few different levels kirk adjusting his route amp finding the void in the defense kyler being aware of it amp finding him their chemistry devin white doing a really nice job in coverage and kirk s concentration to haul this in football is great',\n",
       " 'highlight gorgui dieng with a steal and goes coast to coast for the slam',\n",
       " 'cooper manning james bradberry and mario addison demonstrated how to properly sack a qb',\n",
       " 'how far would this all center team go',\n",
       " 'surprising stat of the day andy reid is now 1 8 against the tennessee titans',\n",
       " 'the cowboys are 34 12 when ezekiel elliott has a 10 yard carry they are 0 6 when he does not',\n",
       " 'siciliano you know who has the longest winning streak in the afc east the miami dolphins',\n",
       " 'jackson and the 1972 dolphins once again remain only nfl franchise to complete a regular season and postseason undefeated',\n",
       " 'cardinals chandler jones is the first player in cardshistory with 10 0 sacks in four consecutive seasons',\n",
       " 'recommendations for nba podcasts',\n",
       " 'cam newton panthers qb cam newton launches his own unique backpack brand titled the type ii c1n',\n",
       " 'who can gasol be traded for',\n",
       " 'charania boston celtics guard gordon hayward has suffered a fractured left hand',\n",
       " 'paul george has fresno state jersey retired with clippers on hand',\n",
       " 'haynes golden state warriors guard damion lee suffered a non displaced fracture in his right hand and will be sidelined for at least two weeks',\n",
       " 'has mcvay been overrated',\n",
       " 'highlight kevin porter jr puts randle into the blender and finishes in typical cavaliers fashion',\n",
       " 'jeremy roenick shares a ridiculous michael jordan gambling story',\n",
       " 'russell wilson uses harlem globetrotters as target practice',\n",
       " 'harden or durant who will go down in history as the better scorer',\n",
       " 'the eagles have not had a player rush for 100 yards in their last 42 games but have gone 28 14 in those games',\n",
       " 'rapoport falcons rb devonta freeman could be out about two weeks with a foot sprain source said so relatively minor though it s an injury that affects the toe more than the foot',\n",
       " 'highlight larry fitzgerald with a sensational one handed juggling sideline grab on 4th down',\n",
       " 'highlight trae young is pulling from miles deep in the mile high city',\n",
       " 'seahawks drop in cbs power rankings after defeating 8 0 niners',\n",
       " 'reuben frank whoever wins eagles cowboys dec 22 at the linc wins nfc east breakdown of remaining schedules',\n",
       " 'highlights nikola jokic 6 game winners clutch shots in last 12 months',\n",
       " 'discussion gary payton is the last guard to win dpoy 1996 will marcus smart follow suit',\n",
       " 'on this day in 2001 shaun alexander ran for a seahawks record 266 rushing yards',\n",
       " 'post game thread the toronto raptors 7 2 defeat and end the los angeles lakers 7 2 seven game streak 113 104',\n",
       " 'baker mayfield is the first qb this season to score 2 passing touchdowns against the buffalo bills defense',\n",
       " 'gilbert arenas drinks water blessed by rj s hand',\n",
       " 'nflmatchup these players have the most receiving yards from the slot position so far this season tdlockett12 leads the nfl heading into tonight s mnf game',\n",
       " 'barrows shanahan said lt joe staley has a finger fracture dislocation he could require surgery if that s the case staley could miss a couple of weeks',\n",
       " 'coby white in the 4th quarter 23 points on 8 9 shooting 7 threes',\n",
       " 'another player turning their career around jabari parker',\n",
       " 'nsfw bears danny trevathan s arm isn t supposed to bend this way detvschi',\n",
       " 'highlight okc with 8 points in 30 seconds to tie the game',\n",
       " 'has vinateri been the least valuable player in the nfl this year',\n",
       " 'who are your early mip candidates for this season',\n",
       " 'the mavs are scoring 101 2 points per 100 possessions with porzingis on the floor this season with porzingis off floor the mavs are scoring 125 7 points per 100 possessions',\n",
       " 'can we take a moment to appreciate how efficient brandon ingram has been so far',\n",
       " 'highlight daniel jones highlights 308 yard 4 td vs jets week 10',\n",
       " 'who s your pick for mvp russell wilson christian mccaffrey or lamar jackson',\n",
       " 'pft browns get first home win of season on november 10',\n",
       " 'espn my penalties are a f ing problem i am completely screwing the team titans ol taylor lewan went off on himself',\n",
       " 'total points in the clutch lt 5min 2019 20 1 kyrie irving 2 wiggins 3 jokic',\n",
       " 'clay the steelers started the season 0 3 which doesn t look as bad now when you consider it was ne sea and sf since then they are 5 1 with their only loss by 3 points to bal this is a pretty good team',\n",
       " 'cimini le veon bell ribs says he got banged up a little at the end of the game that s why he came out vows to play next week',\n",
       " 'highlight fitzpatrick recovers the ball fumbled by goff returning it back to the house for a steelers td',\n",
       " 'coby white erupts for 27 pts in 4th quarter',\n",
       " 'kendrick nunn full highlights 2019 11 12 heat vs pistons 20 pts 5 assists freedawkins',\n",
       " 'nate jones i ve said it many times but a handle is the key to unlocking a wing s game you can have all the explosiveness in the world but it means nothing if your ball handling isn t there',\n",
       " 'mcmullen patrick mahomes made the 25th start of his career on sunday here s where he ranks all time against every other player all time through 25 starts passing touchdowns first passing yards first completions first passer rating first',\n",
       " 'highlight pascal siakam blows past kuzma to put the raptors up double digits',\n",
       " 'who would you rather not have between luke walton and david fizdale',\n",
       " 'cp3 was on the latest episode of cold as balls with kevin hart talks about okc being traded and the banana boat',\n",
       " 'will rudy gobert ever be an all star',\n",
       " 'nfl week 11 early odds raiders open as double digit favorites for just the third time in 15 years',\n",
       " 'k c johnson jim boylen said lauri markkanen is fighting through a sore oblique and has been dealing with it for 2 weeks yesterday was first time team disclosed it',\n",
       " 'jeff eisenband 49ers and seahawks play each other again on the last day of the regular season could easily be for the no 1 seed',\n",
       " 'jurecki after not being targeted at all in the first seven games this season rookie wr andy isabella has been targeted six times in the last three games and has six receptions for 174 yards 29 0 avg and a td in that span',\n",
       " 'luka doncic full highlights 2019 11 11 mavs vs celtics 34 pts 9 asts 6 rebs freedawkins',\n",
       " 'carr garoppolo and bridgewater are the only qbs from the 2014 draft class that have started for their teams this year who would you build your franchise around if they were to be drafted today',\n",
       " 'hughes yards by the jets offense by drive 71 50 9 11 3 1 1 they ve completely imploded',\n",
       " 'pelissero the panthers are cutting veteran guard bryan witzmann source said he ll go on waivers',\n",
       " 'highlight chase mclaughlin s kick sends the game to overtime',\n",
       " 'wagner these are the rushers with gt 50 designed carries this season and positive mean epa per rush look at how lamar jackson is light years ahead of everyone else i guess running backs really don t matter after all',\n",
       " 'yates that s literally the first time d k metcalf has been outmuscled in his entire life',\n",
       " 'highlight luka doncic with a deep stepback three on jaylen brown',\n",
       " 'name your favourite players that are not on your fav team',\n",
       " 'if the nba wants to stop load management they should limit the number of teams getting into the playoffs',\n",
       " 'rank these players on who you would want to build a team around for the next 5 years trae ben simmons kat donovan mitchell',\n",
       " 'real lowkey alert luke kennard is averaging 18 4 4 in all 11 games this season',\n",
       " 'oc the phoenix suns lead the league in percentage of possessions up 20 or more points',\n",
       " 'brandt on this day in 1990 in what has become known as the body bag game eagles defense scores 3 tds in 28 14 win over washington before the game buddy ryan predicted the beating would be so bad they ll have to be carted off in body bags nine redskins were ko d from the game',\n",
       " 'landis just sat down w jets dc gregg williams he said he doesn t believe in rookie hazing but to keep things fun he makes rookies tell a joke every single day in front of the team said it s important his players know he has a lighthearted side along w his intensity',\n",
       " 'fox sports through 10 weeks russell wilson should be the overwhelming favorite for mvp the seattle seahawks have the best player in the league the player who is playing the best and the best qb in the league and that s russell wilson getnickwright',\n",
       " 'schneier daniel jones has 300 yards 4 tds 0 ints in 2 of his last 3 games is that common for rookie qbs in their first 8 games did it w o his top two targets three reserve ol and a run game whose rb who ran for 1 yard or fewer on 13 carries 1st time in 40 years this has happened',\n",
       " 'madson seattle s drives that didn t start with a 49ers turnover 7 punts 3 fumbles 2 field goals 1 interception',\n",
       " 'psa people need to consider starting to reevaluate d book',\n",
       " 'what happened to ezekiel elliott baldy breakdowns',\n",
       " 'highlight trae young s historic last three games 3 straight games with 30 pts and 10 ast at 21 years old',\n",
       " '7 min video of anthony davis discussing his lingering shoulder soreness',\n",
       " 'highlight penny fumbles the ball and buckner recovers for the 49ers on the first series of the 2nd half',\n",
       " 'pft saquon barkley today 13 carries one yard',\n",
       " 'eric bledsoe in the bucks 4 game west road trip 22 2 ppg 6 5 rpg 5 5 apg',\n",
       " 'volin turns out that deion branch troy brown and kevin faulk joined the patriots coaching staff this year as part of the bill walsh nfl diversity coaching fellowship program branch and faulk were with the team through training camp while brown has been with the team all season',\n",
       " 'camdasilva sean mcvay said jared goff didn t get hurt when blake bortles came in that play for bortles was part of the game plan',\n",
       " 'booth review week 10 sunday games',\n",
       " 'geno smith basically how the media works now a days clout chasing ruined the world',\n",
       " 'cherry picked stat only 3 times in nfl history has a player had a game with at least 250 passing yds and 1 td 25 rushing yds and 5 receiving yds john elway 1988 russell wilson 2014 and jeff driskel today driskel is the only one with a tackle as well',\n",
       " 'trae young full highlights 2019 11 10 hawks vs blazers 35 pts 10 asts 8 rebs freedawkins',\n",
       " 'trotter the browns are the first nfl team in 26 years to run six plays from an opponent s 2 yard line or closer on a possession without scoring per eliassports',\n",
       " 'palmer chiefs rt mitchell schwartz walked slowly to the sideline and was getting his left knee looked at on the next play martinis rankin who was filling for schwartz goes down with a right knee injury the cart is out for rankin',\n",
       " 'le veon bell says a trade was close and that his contract was a huge part of the talks',\n",
       " 'highlight quandre diggs with the interception off the tipped pass from bourne',\n",
       " 'goessling the cowboys saved the last spot in player introductions for the rally cat and listed its position as mvp',\n",
       " 'in toilet bowl games between the bottom 2 teams in the afc east and nfc east each team has exactly 1 win and 1 loss so far',\n",
       " 'is their a rivalry between the ravens and eagles',\n",
       " 'the spurs have had the 2nd easiest schedule in the league so far but are 5 5 to start the season',\n",
       " 'are there any pre 2001 game by game player stats sources',\n",
       " 'russell wilson has 22 touchdowns to just one interception this season wilson already has five games this season with a passer rating of 130 0 or higher one shy of the all time single season record of six games held jointly by aaron rodgers 2011 and tony romo 2014',\n",
       " 'why the hell do the refs dress in gray instead of a brighter color',\n",
       " 'rapoport owner arthur blank wanted to use the saints game as an important evaluation with a blowout road win dan quinn gets a reprieve',\n",
       " 'after shooting 6 45 from three yesterday against the nuggets the wolves shoot 8 10 in the first quarter in detroit',\n",
       " 'krisztal very exciting broncos fans as drew lock is stretching seriously he will he practicing for the first time since august',\n",
       " 'highlight amazing slow mo replay of cooper s tiptoe td grab',\n",
       " 'nfl update falcons hc dan quinn will no longer call plays on defense he s giving it up lb coach jeff ulbrich will call plays per jay glazer',\n",
       " 'highlight daniel jones hits darius slayton for a 39 yard touchdown on 4th down',\n",
       " 'yates the ravens are 10 5 favorites over the bengals today baltimore is the only active franchise that has never lost a game as a double digit favorite with a record of 33 0',\n",
       " 'rosenthal the rams offense had 15 drives 8 punts 4 turnovers 3 points 1 third down conversion',\n",
       " 'machota jason garrett you want to attack in different ways it s important for us to continue to run the ball in normal circumstances you d think we would give it to zeke a couple times second inside two yards we re going to make that first down which it didn t happen in this game',\n",
       " 'helmet cam',\n",
       " 'ravens we have placed dt daylon mack on injured reserve',\n",
       " 'jayson tatum has tied the nba record for the most 18 fga in a win with 1 or less fgm he s the only player since 1964 to lead his team in fga have 1 fgm and still win the game',\n",
       " 'it s november 12th 9 games into the season who had the boston celtics with the best record in the entire nba',\n",
       " 'knicks brass calls impromptu press conference throws david fizdale under the bus for team they built',\n",
       " 'sunday scaries hit hard eagles vs patriots 2015 week 13',\n",
       " 'if you had to choose which team has the best jersey ad patch',\n",
       " 'the clippers seem unstoppable',\n",
       " 'it s been said that after 10 games the standings are 90 accurate on who makes the playoffs going forward',\n",
       " 'what is the worst signature move in basketball',\n",
       " 'palmer redskins name dwayne haskins the starter for the rest of the season',\n",
       " 'highlight fitzpatrick doing it all for 6',\n",
       " 'd angelo dolphins are three games out of a wild card spot',\n",
       " 'krauser dalvin cook lost his 100 yard game after 2 runs for negative yardage on the vikings final drive his 97 yards tonight did move him up to 1st in the league in rushing yards at 991 cook also leads the league in yards from scrimmage at 1415',\n",
       " 'booth review week 10 mnf game',\n",
       " 'rap what a game the 49ers are no longer undefeated the seahawks take em down in overtime',\n",
       " 'do you think teams are regretting they passed on dk metcalf',\n",
       " 'the pittsburgh steelers are currently the 6 seed in the afc playoffs their remaining games are against the browns bengals browns cardinals bills jets and ravens',\n",
       " 'veteran taj gibson joins kevin knox and mitchell robinson for delta road bites',\n",
       " 'post game thread the atlanta hawks 4 6 defeat the denver nuggets 7 3 125 121 led by trae youngs 42 pts 11 asts 8 13 3pts',\n",
       " 'fraley lifted this from the john clayton show on 710 josh gordon knows who the real mvp is clayton asks him about going from cleveland to ne to seattle seems like in this part of my career i m trending upwards in quarterbacks',\n",
       " 'cbssports it s important for us to continue to try to run the ball jason garrett on the cowboys 4th quarter turnover on downs',\n",
       " 'highlight luka goes behind the back amp finds maxi for the 3 with the look away dime',\n",
       " 'a physical rivalry game seahawks vs 49ers 2013 week 14',\n",
       " 'watching draymond green play right now is all the evidence we need to definitively say that he is a system player',\n",
       " 'lowe a teammate stepped on fox s foot during practice sources say',\n",
       " 'luka doncic slapped by assistant coach',\n",
       " 'nfl research according to nextgenstats tre davious white shadowed odell beckham jr aligning on beckham for 53 of beckham s 63 snaps trewhite16 forced more incompletions 5 himself than he allowed receptions 4 to beckham on 11 targets in coverage per pff',\n",
       " 'highlight anthony davis gets the steal runs the court and finds cook for 3',\n",
       " 'teicher rb lesean mccoy is inactive today for the chiefs a healthy scratch',\n",
       " 'has this been the greatest any given sunday in a while',\n",
       " 'highlight jamal adams returns daniel jones fumble for a touchdown',\n",
       " 'lebron james scored 4 points and 1 field goal in the 2nd half vs the hobbled raptors',\n",
       " 'lamar jackson alone has almost the same yards per drive 33 0 as the entire seahawks offense 33 8',\n",
       " 'lane anthony davis asks for out holding his ribs',\n",
       " 'nick folk was ready to start a commercial real estate career then the patriots called',\n",
       " 'baldwin table of quarterback stats through week 10',\n",
       " 'the lakers are undefeated when kcp scores a point',\n",
       " 'r nfl poll after last night s incredible mnf game what do people think of the ot rules',\n",
       " 'the dallas mavericks are the only nba team that hasn t played the same 5 man lineup together for at least 30 minutes this season',\n",
       " 'post game thread led by coby white s franchise record 7 threes in the 4th the chicago bulls 4 7 defeat the new york knicks 2 9 120 102',\n",
       " 'why is donovan mitchell shooting fewer threes',\n",
       " 'which player today is most similar to penny hardaway',\n",
       " 'week 3 standings prediction based on pythagorean expectation',\n",
       " 'chiefs qb patrick mahomes broke 4 nfl records on sunday',\n",
       " 'highlight rudolph with an unreal td catch',\n",
       " 'matisse thybulle becomes only the 6th player in nba history to record 16 steals and 10 blocks in their first 9 nba games he also has the fewest minutes played among the group with 137 total minutes played followed by lionel hollins who played 273 minutes over his first 8 games',\n",
       " 'friedell draymond on the ejection i disagreed with that call and i m never going to be ok with another grown man telling me don t talk if you feel like you got the call wrong or right you don t tell me not to talk i m a grown man i got my own kids so that s what happened',\n",
       " 'zrebiec jackson on whether that was his best run of his career it don t matter we scored and move on',\n",
       " 'highlight dak escapes the sack scrambles turns his body and fires a 19 yd bullet to coop for the first down',\n",
       " 'interesting note the last 9 qbs to win mvp have also been on a team who snagged a top 2 seed in their conference i e a bye',\n",
       " 'kyle kuzma splits in his first 5 games 10 2 4 0 0 4 396 200 600',\n",
       " 'surrenderindex sea decided to punt to sf from the sea 45 on 4th amp 2 with 1 57 remaining in ot while tied 24 to 24 with a surrender index of 33 24 this punt ranks at the 99 2nd percentile of cowardly punts of the 2019 season and the 98th percentile of all punts since 2009',\n",
       " 'pacers finish the game with 5 free throws magic with 6 totalling with only nine 11 free throws shot this game',\n",
       " 'highlight hauschka misses his 5th straight from 50',\n",
       " 'highlight thybulle checks in then proceeds to block jordan clarkson s shot forcing the turnover',\n",
       " 'cbs spotted bengals fan wearing bungle for burrow paper bag over head',\n",
       " 'mcnabb it s hilarious to me that people think this video is worthy of jokes if you know about playing the position you would understand using your base and foundation is vital to your success as a passer there s a reason why his numbers are around the top',\n",
       " 'game thread atlanta hawks 3 6 denver nuggets 7 2 november 13 2019',\n",
       " 'merchant kawhi leonard will play against houston wednesday per clippers pr',\n",
       " 'werder cowboys owner jerry jones when asked if he questioned the two ezekiel elliott runs on decisive drive i m not going get into that sensitive work we d all like to have that back but you have to keep trying',\n",
       " 'lance mcalister the 2 18 stretch ties for the bengals worst 20 game run in franchise history 1992 finish 1 6 into 1993 1 12',\n",
       " '1 year of kyrie vs 2 years of trae who do you take',\n",
       " 'the giants have the most losses in the nfl since the start of the 2017 season',\n",
       " 'nfl research in 5 seasons with the texans jadeveon clowney never had multiple defensive touchdowns in a season with his interception return for a td in week 4 and his fumble return for a td tonight clowney has 2 tds in his first 10 games with the seahawks',\n",
       " 'knicks cavs fan who chanted fire dolan was escorted out of game',\n",
       " 'wojnarowski mills and perry answered questions for several minutes after embarrassing 108 87 loss to cavs prior to david fizdale news conference essentially management suggested effort and execution should be better that team is built for more success than it has experienced so far',\n",
       " 'wiederer and campbell why bears took trubisky in the 2017 draft over two superstars 10 chapter deep dive',\n",
       " 'highlight giannis airballs a free throw then eats his jersey',\n",
       " 'highlight siakam puts the spin move on beverley and then floats in the 1v2 layup after harrell comes in to help',\n",
       " 'rapoport it s an mcl sprain for austin hooper who will have a second opinion to determine how long he s out',\n",
       " 'life came at ryan finley fast in his first career start cincy jungle',\n",
       " 'the warriors injury curse tally 15 players injured in the last few months',\n",
       " 'highlight timelord checks in timelord throws down the big oop from kemba walker',\n",
       " 'since there are no more undefeated teams left this year fun fact the last undefeated team hasn t won the super bowl since 2006 but it happened 6 times in the 90 s',\n",
       " 'machota vikings de ifeadi odenigbo on if they were surprised to see the cowboys run on 3rd down late no we knew our film we knew on film that even in 2 minute drills they do run the ball they want to catch you slipping even if they don t have ideal personnel be ready for that',\n",
       " 'game thread denver nuggets 6 2 minnesota timberwolves 5 3 november 10 2019',\n",
       " 'jayson tatum finished monday 1 18 the 2nd worst shooting performance by a celtics player over the last 65 seasons min 15 fga it is also tied for the 2nd worst shooting percentage by any player in a win over the last 65 seasons min 15 fga',\n",
       " 'byron leftwich in his first full season as oc has the bucs 3rd in offensive points per game 27 3',\n",
       " 'yates the texans have waived ol dan skipper and re signed de joel heath per source',\n",
       " 'nba season summary and history',\n",
       " 'highlight trae young stepback 3 from deep',\n",
       " 'nick stauskas who moved to spain this season says that the defence in europe is a lot better than it is in the nba',\n",
       " 'jeff wallner bengals safety shawn williams was asked about the visiting fans chanting mvp for ravens qb lamar jackson he has my vote williams said',\n",
       " 'highlight the knicks bulls game turns into total chaos',\n",
       " 'it s pretty bizarre how little attention harden averaging 37 points per game is getting',\n",
       " 'quick stotts says rodney hood is out hassan whiteside will play and skal labissiere is being evaluated for tonight s game vs atlanta',\n",
       " 'in 457 touches this season marcus smart has committed only 8 turnovers he has forced 24 on the defensive end',\n",
       " 'if you could steal any 1 player non qb from a division rival who woud it be and why',\n",
       " 'reggie bullock has lost another family member',\n",
       " 'rapoport bengals te drew sample suffered a high ankle sprain during the loss to the ravens tests showed he ll have more done to determine how much time he ll miss but the second rounder is considered a candidate for injured reserve',\n",
       " 'thinking basketball video about devin booker last year',\n",
       " 'michael david smith lamar jackson has now started 16 regular season games one full season s worth his numbers in those games 260 for 413 63 complete 3 150 pass yards 7 6 yards per pass 20 td 8 int 225 carries 1 258 rushing yards 10 rush td',\n",
       " 'today is the 23rd anniversary of the oldest page you can find of nfl com a lot of the links still work and it is a surprisingly great read',\n",
       " 'what player on your team do you believe deserves more recognition this season',\n",
       " 'yates with adam vinatieri s recent struggles the colts worked out kickers elliot fry greg joseph mike nugent and nick rose',\n",
       " 'wojnarowski clippers guard landry shamet has avoided a significant injury an mri reveals shamet suffered a grade 2 high sprain on his left ankle league sources tell espn timeline for return to be determined',\n",
       " 'bill burr 7 years ago talking about nba officiating and why it s so hard to hold a lead in today s nba it s gotten even worse since then',\n",
       " 'highlight hamidou diallo hammers it down over chriss',\n",
       " 'machota ezekiel elliott on why he s not concerned about dallas not having a win over a team in the playoff picture i know what type of team we have we can be a really good team we just need to make sure we go out there and put that on the field there s a lot of football left',\n",
       " 'highlight devin booker goes one on one with kyrie irving',\n",
       " 'jaylen brown full highlights 2019 11 11 celtics vs mavs 25 pts 11 rebs 3 asts',\n",
       " 'what happens if a rookie plays entire games with no rest',\n",
       " 'brian burke nfl historical penalty rates by year',\n",
       " 'oc trends of the mip award or why andrew wiggins probably will not be the 2020 mip',\n",
       " 'd angelo russell is averaging career highs in ppg 26 3 fg 45 1 ts 56 9 ftr 287 ws 48 115 and ortg 113',\n",
       " 'vikings guard josh klein is out with a concussion that s his second of the season',\n",
       " 'thepatmcafeeshow will lamar jackson be mvp he is one of the only players who can make moves in the middle of the field and make a professional athlete fall on their face he makes this game look like child s play it ll obviously be a tight mvp race do you think jackson will take it',\n",
       " 'highlight michael thomas with an amazing grab and staying in bounds by his tippy toes in the red zone',\n",
       " 'brown news from mcmillan tonight pregame victor oladipo went full court today in practice with themadants for the first time since his injury back in january',\n",
       " 'game thread seattle seahawks 7 2 at san francisco 49ers 8 0',\n",
       " 'charania the pacers have assigned all star guard victor oladipo to g league affiliate fort wayne as oladipo continues to make good progress from knee injury per league sources allows oladipo to get practice run today no return timetable',\n",
       " 'fowler bengals rb gio bernard suffered a knee sprain in sunday s loss to the ravens per source he s not expected to miss significant time',\n",
       " 'former director of basketball research for milwaukee bucks players do not have gravity they are given gravity by their opposition',\n",
       " 'sources stephen a smith skip bayless poised to reunite on espn s first take in 2020',\n",
       " 'kyler murray s nextgenstats from week 10 vs buccaneers',\n",
       " 'highlight as tony parker s jersey is revealed the big 3 of the spurs are now immortalized in the rafters of at amp t center',\n",
       " 'why does every arena use old hip hop songs for their dancers',\n",
       " 'jenkins jamaal williams i ain t gonna lie to you halfway through your question i stopped listening',\n",
       " 'highlight ravens qb lamar jackson throws his third td pass today',\n",
       " 'does anyone where youtubers get angles for film study',\n",
       " 'rosenthal the depth of the 49ers defensive line is special they go 7 deep with quality and even their 7th guy jones can make plays',\n",
       " 'how many people arent loyal to a team but to the players',\n",
       " 'game of the week week 10 2019 no spoilers',\n",
       " 'post game thread carolina panthers 5 4 at green bay packers 8 2',\n",
       " 'defensive dvoa offensive dvoa week 10',\n",
       " 'highlight draymond green receives two technicals for excessive complaining he is ejected from the game',\n",
       " 'highlights andrew wiggins and karl anthony towns combines for 58 pts in win vs pistons freedawkins',\n",
       " 'highlight marcus peters gets his second pick 6 in his 3rd game with the ravens',\n",
       " 'does anybody know what happened to chandler parsons',\n",
       " 'hoopshype stephen a smith will reportedly be paid more than 300 nba players',\n",
       " 'lebron james says need for load management starts at aau level aau coaches couldn t give a damn about a kid',\n",
       " 'raanan pat shurmur asked of saquon barkley s one yard rushing it s very unusual of anyone of any caliber in any game',\n",
       " 'why does no one believe in the raptors this season',\n",
       " 'arians benched vernon hargreaves for lack of hustle',\n",
       " 'richard jefferson s perfect reaction to a story about nick young and a gilbert arenas',\n",
       " 'post game thread the milwaukee bucks 7 3 defeat the oklahoma city thunder 4 6 121 119',\n",
       " 'low vs high pick and roll',\n",
       " 'chan jimmy g doin the dak',\n",
       " 'who was the skinniest player in the nfl in the past 10 years',\n",
       " 'with their win today the pittsburgh steelers maintain their streak as the only team to win at least five games every year since the merger 50 years',\n",
       " 'if you were the warriors do you trade draymond or dlo',\n",
       " 'the nba s rise in ped suspensions explained',\n",
       " 'i don t understand why mj versus lebron for g o a t is considered to be all that close',\n",
       " 'nfl research kyler murray has 2 500 pass yards and 250 rush yards in his first 10 career starts he joins deshaun watson daunte culpepper and cam newton as the only players since 1950 to do so',\n",
       " 'lebron is averaging his lowest ppg 24 6 amp lowest fgm 8 9 since his rookie year is it due to adjustment to playing with ad or more difficulty for him to get easy points with his age',\n",
       " 'trae young after 10 games 28 0 pts 4 3 reb 8 7 ast 1 6 stl on 46 4 40 2 80 3 shooting 60 6ts',\n",
       " 'dehner and with that the dolphins are going to beat the colts bengals with a two game lead on miami and one game lead on washington for the top pick',\n",
       " 'pelissero the ravens are signing veteran nose tackle domata peko to a deal that will pay him 1 million for the rest of the season source said big money for the big man as baltimore stocks up for a playoff push',\n",
       " 'china s tencent halts nba live broadcas taiwan news',\n",
       " 'highlight mike conley hits from beyond half court to beat the buzzer',\n",
       " 'karl anthony towns is on pace to make 300 3 pointers this season and beat the record for most 3s made by a center in a single season by 113',\n",
       " 'anyone got a clip of the raptors announcers shit talking the knicks fo',\n",
       " 'brian schottenheimer deserves a lot of credit for last night s win',\n",
       " 'the new york knicks are currently shooting 65 1 from the free throw line no team has shot worse for an entire season in 50 years',\n",
       " 'gmfb nate burleson on lamar jackson i don t think we ve seen the best of lamar jackson one thing we don t talk about is his iq we talk about his legs we talk about his arm but for you to execute a game plan like this week in and week out he s going to be dominant long time',\n",
       " 'highlight damian lillard hits the go ahead shot late in the 4th',\n",
       " 'zrebiec here comes robert griffin iii so lamar jackson will finish with a perfect qb rating for the second time this season only other qb to have two in one season is ben roethlisberger',\n",
       " 'undisputed shannon gives kawhi leonard an f for his performance vs raptors last night',\n",
       " 'highlight tristan thompson attempts a 360 no scope 3 pointer from the logo with 4 seconds left on the shot clock',\n",
       " 'crazy trash how the rams jalen ramsey gets in people s heads',\n",
       " 'chris wesseling 2019 midseason all pro team',\n",
       " 'kimes dak was incredible tonight',\n",
       " 'the saints scored less than 10 points at home for the first time in drew brees era',\n",
       " 'lamar jackson s day is done after td pass to marquise brown the qb recorded his 2nd perfect game of the year',\n",
       " 'highlight trubisky gets his third touchdown of the day with a 24 yard pass to taylor gabriel',\n",
       " 'indianapolis colts induct dwight freeney into ring of honor',\n",
       " 'jason la canfora panthers ownership was unsure about another mega deal for cam newton even before these two injury filled years other teams will be calling about him in 2020',\n",
       " 'who is your mvp so far',\n",
       " 'can someone explain what pg has done to be regularly ranked ahead of kyrie',\n",
       " 'suek browns cb denzel ward in coverage this past sunday vs gobills pff 82 6 coverage grade 3 receptions on 10 targets 39 6 passer rating he has returned to 2018 form since returning from injury in week 8 you love to see it',\n",
       " 'are the magic a playoff team',\n",
       " 'will luka doncic lead the mavericks to the playoffs this year',\n",
       " 'highlight kyle kuzma with another three to put the lakers up 7',\n",
       " 'who would win in a 7 game series lebron and shooters or the best defenders',\n",
       " 'post game thread the los angeles clippers 7 3 defeat the toronto raptors 7 3 98 88 denying the defending champions the miracle back to back upsets',\n",
       " 'post game thread the los angeles lakers 8 2 defeat the phoenix suns 6 4 123 115',\n",
       " 'who are the best nba players you would take luka over',\n",
       " 'mcdonald week 10 and raiders chiefs even in the loss column just like everybody figured',\n",
       " 'highlight joe ingles half court lob to jeff green for the dunk',\n",
       " 'the broncos week 16 game against the detroit lions will kick off at 2 05 p m mt on sunday dec 22 the nfl announced tuesday',\n",
       " 'steelers depot juju on ramsey saying he s not ab he s right though i m not antonio brown i will never be antonio brown i am myself i m juju smith schuster i m not as good as him yet i think i still have time to proceed to get to his level but we re two totally different persons',\n",
       " 'mcclain a veterans day story to share with you when qb kenny stabler played for the houston oilers he didn t show for practice one day everyone was frantic he returned the next day when i asked him where he d been he said yesterday was veterans day i m a veteran so i took the day off',\n",
       " 'velasquez kyle korver is listed as out for the bucks tonight with a head contusion',\n",
       " 'post game thread the houston rockets 7 3 defeat the new orleans pelicans 3 8 122 116 behind james harden s 39 points',\n",
       " 'horton wolves without teague illness amp napier hamstring for 4th consecutive game blake griffin hamstring knee is expected to make his season debut tonight for pistons',\n",
       " 'highlight marcus peters 89 yard pick six to give the ravens a 28 3 lead',\n",
       " 'vacchiano a very angry looking john mara did not even look up at reporters looking to talk to him after this game as he left the locker room area',\n",
       " 'which players have been playing very poorly under the radar',\n",
       " 'on this day in 1995 the 49ers won 38 20 at dallas as 13 5 point underdogs despite playing without steve young elvis grbac was in the building',\n",
       " 'is wiggins an mip candidate',\n",
       " 'highlight amos tips it williams picks it',\n",
       " 'highlight kat comes off the screen and nails the corner 3 to tie the game after a huge comeback',\n",
       " 'aaron schatz here s an updated list of the best defenses by dvoa through 9 games 1985 2019 opponent adjustments are now at full strength',\n",
       " 'siciliano blake bortles at qb for the rams',\n",
       " 'mysportsupdate my goodness larry fitzgerald unreal',\n",
       " 'post game thread the phoenix suns 6 3 annihilate the brooklyn nets 4 5 138 112',\n",
       " 'filmroom how the ravens broke down the patriots defense',\n",
       " 'luka doncic finishes with 34 6 9 on 52 shooting with only 1 turnover',\n",
       " 'butker s blocked fg got me thinking how do nfl rules account for natural world interference in play',\n",
       " 'homistek every week devin bush predicts what the steelers defense will do in the upcoming game this week he predicted 2 interceptions and 4 sacks he s been correct 4 weeks in a row',\n",
       " 'two rookie quarterbacks kyler murray and daniel jones had 300 yard passing games the buffalo bills last had a 300 yard passer in week 16 2016 tyrod taylor did that in overtime they haven t had a 300 yard passing game since week 16 of 2014 by kyle orton one 300 yard passing game in 4 5 seasons',\n",
       " 'game thread brooklyn nets 4 4 phoenix suns 5 3 november 11 2019',\n",
       " 'minnesota vikings now 7 0 on turf and 0 3 on grass',\n",
       " 'yates cardinals qb kyler murray has now gone 177 passes without an interception the longest such streak by a rookie in nfl history',\n",
       " 'during a timeout in last night s game against the nets the jazz entertainment team attacked kyrie s personal beliefs in an attempt to throw off his game the second prompt in family feud was name something you know about the earth both jeff green and the fan gave the same response it s round',\n",
       " 'post game thread the memphis grizzlies 3 7 defeat the san antonio spurs 5 5 113 109',\n",
       " 'picture gif video highlights thread week 10 mnf',\n",
       " 'there are 7 teams in the nba with a 7 3 record which finishes with the best record which with the worst',\n",
       " 'which trade was worse the ramsey trade for the rams or the minkah trade for the dolphins',\n",
       " 'stephen a smith i will never defend fizdale more than i m about to do right now steve mills and scott perry are throwing him under the bus somebody s got to say it you don t do what they did yesterday unless you fired the man',\n",
       " 'jaylen brown tonight vs dallas 25 points 11 rebounds 3 assists 9 15 shooting 2 3 from 3 13 in the win',\n",
       " 'highlight trae young nutmegs will barton and hits the pull up mid range',\n",
       " 'stephen curry full press conference post surgery',\n",
       " 'boyle kj wright injured on the last play cody barton is in for him seahawks',\n",
       " 'oc what would your favorite nba player work if professional sports ceased to exist',\n",
       " 'what teams have the best home announcers',\n",
       " 'highlight quinn cook gets the lucky roll and the lucky bounce',\n",
       " 'players with career highs this season',\n",
       " 'after trading rb kenyan drake to the cardinals the dolphins are 2 0 while the cardinals have been 0 2 so far in the season the cincinnati bengals and kenyan drake are winless',\n",
       " 'highlight donovan mitchell in dunk contest mode again',\n",
       " 'game thread cleveland cavaliers 4 5 philadelphia 76ers 6 3 november 12 2019',\n",
       " 'which nba players can you say have a real fanbase',\n",
       " 'mussatto thunder lists steven adams as out tonight with a left knee contusion it s the same injury that caused him to miss two games last week',\n",
       " 'flashback to last season where a trade that would ve sent kelly oubre to the grizzlies was soon called off because two of their players had the same last name',\n",
       " 'pfc the oakland raiders worked out free agent db jermaine whitehead',\n",
       " 'brecheisen the dolphins have now played eight consecutive games with six or fewer penalties and 55 or fewer penalty yards miami has had 49 penalties accepted against them 2nd lowest in the nfl and sf has 47 but has yet to play this week 400 total penalty yards fewest in the nfl',\n",
       " 'what marcus morris trades do you like',\n",
       " 'bill simmons was right world cup helped the celtics massively',\n",
       " 'in your opinion which was the craziest stat line from last night',\n",
       " 'andrew wiggins has the fewest turnovers for those scoring above 25 points per game at 1 5 turnovers a game',\n",
       " 'rj barrett full highlights 2019 11 12 knicks vs bulls 21 pts 9 asts 6 rebs freedawkins',\n",
       " 'question from a new fan how are the raptors expected to play two la teams away on consecutive days and put up their best performance',\n",
       " 'josh rosen in at qb for miami',\n",
       " 'game thread detroit pistons 4 7 miami heat 6 3 november 12 2019',\n",
       " 'every 1 7 team prior to week 10 has progressed to 2 7 this week',\n",
       " 'mcintyre sherman and wilson exchanging jerseys post game',\n",
       " 'which nba teams will have cap space and be active in the 2020 free agency',\n",
       " 'kawhi leonard gets a career high 9 turnovers going 2 11 from the field and 0 4 from deep still finished with 12 points and a 12 on the back of 11 rebounds 9 assists and 3 steals',\n",
       " 'highlight prior to super bowl viii this advertisement for the pro football hall of fame aired it s animated it features talking footballs and a rant about the drop kick it s a musical and it s over 6 minutes long it s truly bizarre',\n",
       " 'elgazzar people are now chanting mvp for lamar jackson at paul brown stadium as the bengals trail 42 10 in the 3rd quarter',\n",
       " 'edwards iii detroit pistons starters tonight derrick rose luke kennard tony snel blake griffin and andre drummond',\n",
       " 'espn knicks brass not happy 10 games into season',\n",
       " 'espn stephen a and max argue if players in the 90s spent more energy playing defense in the 90s than today s nba players',\n",
       " 'br i got my joy back isaiah thomas trip to hell and back',\n",
       " 'thiry the rams run game remains a great mystery why oh why are you not using your 45 million back if he s healthy and has powered your team the last two seasons no not really gurley said when asked if he wanted ball more especially in 2nd half i m kind of used to it',\n",
       " 'highlight bengals qb ryan finley throws the first td pass of his nfl career',\n",
       " 'so far the seahawks have been part of two of the craziest primetime games of the 2019 season tnf against the rams and mnf against the 49ers their next three games are also all in primetime all against teams with winning records',\n",
       " 'kobe white had 7 3 s in the 4th quarter alone',\n",
       " 'rapoport sources lions qb matthew stafford hip back is not expected to play against the bears a surprise he s listed as questionable his streak of 136 straight starts is suddenly set to end',\n",
       " 'andy reid explains lesean mccoy s healthy scratch he s not getting any younger so it s important i manage him the right way as we go',\n",
       " 'cabot browns de olivier vernon and s eric murray both idle with their knee injuries today longshot for vernon to be ready for thursday night vs steelers and murray ruled out',\n",
       " 'maiocco emmanuel sanders ribs is out d j jones groin is out',\n",
       " 'best nba betting accounts on twitter',\n",
       " 'brinson might be wrong but sounded like browns fans cheered the false start on fourth down to stop freddie kitchens from going for it again',\n",
       " 'highlight andrew wiggins with a 4 point play',\n",
       " 'mavericks city edition jersey leak',\n",
       " 'stapleton some bye week perspective lamar jackson s first eight starts including playoffs 13 fumbles daniel jones first eight starts 12 fumbles jones biggest flaw can be fixed',\n",
       " 'the refs and seacaucus nj completely blew a replay call tonight in the wolves pistons game',\n",
       " 'yates ravens cb marcus peters has scored more td 3 than odell beckham jr david johnson robert woods zach ertz and george kittle this season',\n",
       " 'medina anthony davis diagnosed with a sore right shoulder and listed as probable for tomorrow s game in phoenix',\n",
       " 'this week s top r nfl highlight s',\n",
       " 'derrick henry in 3 career games against the chiefs 55 carries for 402 yards 7 3 yards per carry 5 touchdowns',\n",
       " 'top 5 defenders so far this season according to pipm',\n",
       " 'since their inception in 2015 the raptors g league team raptors 905 has produced or helped develop 7 nba rotation players currently in the league bruno caboclo pascal siakam jakob poeltl fred vanvleet norman powell delon wright and chris boucher',\n",
       " 'chiang what a crazy game win probability chart for sea vs sf',\n",
       " 'wide receivers pointing',\n",
       " 'yates browns goal to go sequence from the 1 yard line 1st amp goal incomplete pass penalty 1st amp g run for 1 yard 2nd amp g run for 1 yards 3rd amp g incomplete pass penalty 1st amp g run for 0 yards 2nd amp g incomplete pass 3rd amp g run for 0 yards 4th amp g run for 2 yards',\n",
       " 'recommend me some nba storylines',\n",
       " 'guillory pelicans announce lonzo ball right adductor strain will be out tomorrow against houston',\n",
       " 'what was the most embarrassing loss you personally felt with your nfl team losing',\n",
       " 'baldinger azcardinals on any given game that kliffkingsbury coaches there is a good chance that you will see something for the very first time innovation should never stop baldysbreakdowns',\n",
       " 'post game thread the philadelphia 76ers 7 3 defeat the cleveland cavaliers 4 6 98 97',\n",
       " 'through 9 games tampa bay has allowed only one 100 yard rusher chris carson 105 yards',\n",
       " 'at 9 losses on the season already golden state has matched their loss total from their 73 9 season 4 years ago',\n",
       " 'choate falcons credit raheem morris for more effective secondary play against saints',\n",
       " 'highlight deforest buckner recovers the seahawks fumble and brings it in for 6',\n",
       " 'saints returner deonte harris is the only player in the nfl with 200 yards on both punt returns and kick returns',\n",
       " '96 year old ww2 veteran pete dupré plays the national anthem on his harmonica before knicks game',\n",
       " 'what happened to bol bol',\n",
       " 'olson c j ham showing why they call him hammer in prime time last night might just be earning himself a trip to the pro bowl',\n",
       " 'highlight shaqtin a fool candidate jordan poole misses a completely wide open layup',\n",
       " 'highlight darius leonard picks off fitzpatrick',\n",
       " 'arnovitz league sources say the houston rockets has lost more than 7 million in revenue this season from cancelled chinese sponsorship agreements and nearly 20 million overall when terminated multiyear deals are calculated',\n",
       " 'highlight vikings cb mike hughes makes an incredible legal hit to force the incompletion',\n",
       " 'who is leading cpoty right now',\n",
       " 'knicks were outscored by 13 points in the 6 minutes dennis smith jr was on the floor including a 12 0 run to end the 1st quarter',\n",
       " 'dr oz wants to see sterling shepard s brain',\n",
       " 'after a 1 18 shooting night tatum was back at the auerbach center shooting',\n",
       " 'geno smith hails',\n",
       " 'which games do you think kawhi leonard will load manage this week and next',\n",
       " 'highlight trey lyles inbounds the ball to dejounte murray who steps out of bounds to inbound the ball to trey lyles',\n",
       " 'clippers mascot inexplicably gives 104 year old world war 2 veteran a wet willy during a ceremony in his honor at clippers game',\n",
       " 'hypothetical in a 10 year span which team would win more rings players are all in their primes in year 1',\n",
       " 'rachel to arenas what did he say to you when he notices that you wear the shoes that he wore that day jefferson please don t shoot me',\n",
       " 'rothstein matt patricia said we ll see as we go through the week as to whether or not matthew stafford will practice this week',\n",
       " 'donovan mitchell is averaging 24 6 5 1 4 3 on 48 1 fg and 45 5 3p',\n",
       " 'pff as a team the seahawks have the 29th ranked pass blocking grade 55 3 in the nfl on mnf tonight they ll be facing the team with the 2nd best pass rushing grade 84 3',\n",
       " 'jayson tatum and kristaps porzingis combined to shoot 2 29 tonight a whopping 6 8',\n",
       " 'quirky research on this date in 1991 the superdome superstructure caught on fire during the saints 49ers game',\n",
       " 'kacsmar fewest division games as an underdog since 2012 1 patriots 2 2 seahawks 10 including tonight 3 broncos 11 4 packers 12 5 chiefs 14',\n",
       " 'big 3 of mj lbj and shaq vs team b all in their primes who wins in a 7 game series',\n",
       " 'schefter nfl game in mexico city to be played on improved field at estadio azteca',\n",
       " 'highlight goff throws into double coverage joe haden gets the pick',\n",
       " 'ochoa jerry jones on 1053thefan on the report that dak prescott is getting the franchise tag he the reporter has no idea because i would be the only one that knows whether he s right or wrong and i can tell you he has no idea',\n",
       " 'dolan rams offense is broken the offensive line may be the main culprit since goff has zero second reaction ability their best lineman whitworth turns 38 in december and will be 41 by the next time the rams have a first round pick 2022',\n",
       " 'what in your opinion are the greatest nba tweets of all time',\n",
       " 'highlight luka doncic puts the moves on jayson tatum',\n",
       " 'rowntree mike hilton told us that he was covering rams top wr cooper kupp almost the entire game kupp had no catches and was targeted four times',\n",
       " 'discussion how important is coaching to a team s success',\n",
       " 'an interesting statistical quirk of the day according to espn rg3 rushed 0 times for 9 yards in today s win over the bengals',\n",
       " 'tony parker and other spurs legends in new heb commercial',\n",
       " 'matt mcmullen tyreek hill distributed holiday meals to more than 100 local families in need on monday this marked the third straight year that hill participated in this event around the holiday season',\n",
       " 'highlight nikola jokic puts the nuggets up 2 with 2 4 seconds to go in ot',\n",
       " 'nfl power rankings week 11 seahawks hit top 5 ravens at 2',\n",
       " 'highlight kyle rudolph with the second td catch of the night',\n",
       " 'tyler lockett taken to hospital following severe contusion to leg',\n",
       " 'wind malik beasley illness is questionable to return per the nuggets broadcast jamal murray just limped to denver s bench too',\n",
       " 'schefter jets dolphins and falcons each of whom entered week 10 with a 1 7 record all won sunday the bengals now have a decided lead in the race for the no 1 overall pick',\n",
       " 'butt saints rough the punter and ryan allen is now hurt allen is the team s fifth punter this season',\n",
       " 'after their 0 5 start the kings have gone 4 1 in their last five games',\n",
       " 'despite being 8 2 the packers rank 17th in total offense and 28th in total defense',\n",
       " 'highlight boucher ties it up with his 3rd triple of the game 3 for 3',\n",
       " 'randy moss s son thaddeus with amazing catch against stefon digg s brother trevon',\n",
       " 'what happened to steph curry s mentality to just take over games',\n",
       " 'pat mahomes and travis kelce take spanish classes with nfl méxico and sopitas road to mexico game',\n",
       " 'nahmad so apparently league sources have confirmed to others what i confirmed for you this morning dion waiters can t currently be waived without a buyout it s irrelevant anyway as i tried to explain he won t be waived anyway',\n",
       " 'post game thread the minnesota timberwolves beat the detroit pistons 120 114 behind andrew wiggins 33 6 5 and karl anthony town s 25 8 6',\n",
       " 'james harden full highlights 2019 11 11 rockets vs pelicans 39 pts 9 asts',\n",
       " 'lebron james in a renaissance style photo',\n",
       " 'raptors haven t lost in california since 2017',\n",
       " 'james harden has attempted as many free throws as the entire wizards team',\n",
       " 'clippers stole kawhi and marketing material from the raptors',\n",
       " 'highlight kj wright can t bring in the would be game ending interception',\n",
       " 'adrian petersons 2012 mvp year began with average running back play through the first 6 games adrian peterson ran for 499 yards with a 4 4 y a from that point on peterson ran for a total of 1598 yards with a 6 8 y a with a total of 2097 yards for the season being only 8 yards short of the record',\n",
       " 'wright a lot of gall for booger amp tess to say the moment was just too big for mclaughlin when he had just kicked a fg from the exact same distance with 01 left in regulation to put them in ot',\n",
       " 'weekend wrapup',\n",
       " 'does an nba content source like this exist',\n",
       " 'gregbeacham sean mcvay is being asked repeatedly and from multiple directions about why todd gurley got no action in the 4th quarter mcvay admits he wishes he had kept gurley in the game early in the 4th and he would do it differently if he had a do over',\n",
       " 'elway true hero s',\n",
       " 'the steelers amazingly are in the 6th seed',\n",
       " 'looking back at every dual threat qb to finish top 5 in mvp since 1990',\n",
       " 'highlight robeh coleman punches the hall out of washington s hand for a rams turnover',\n",
       " 'highlight korkmaz dumps it off to ben simmons in transition for the monster slam',\n",
       " 'post game thread the indiana pacers 6 4 defeat the orlando magic 3 7 109 102',\n",
       " 'underhill down by 14 points the saints are playing some patriots highlights on the screens',\n",
       " 'would a superstar like lebron kawhi giannis getting busted for ped use ruin their legacy',\n",
       " 'highlight request random shaqtin esque play by the knicks where hutchinson was on the ground and randle went flying',\n",
       " 'omfonweei loumerloni asked bill belichick about lack of praise for wr n keal harry from him and teammates and if it s unfair to read into it belichick long pause all i can do is answer the questions lou i can t tell you how to think that s your job patriots',\n",
       " 'raptor players share memories of kawhi ahead of la reunion',\n",
       " 'slater giants are 10 32 since the start of 2017 a 238 winning percentage that currently ranks as the second worst three year stretch in franchise history from 1974 76 giants went 10 32 from 1973 75 they went 9 32 1 a 226 win percentage that s their worst three year stretch',\n",
       " 'dempsey and now murray is headed to the locker room',\n",
       " 'if dolphins only get a middle of the road pick in the draft and miss out on a qb do you think they ll turn back to rosen potentially',\n",
       " 'nfl research in 5 seasons with the texans jadeveon clowney never had multiple defensive touchdowns in a season with his interception return for a td in week 4 and his fumble return for a td tonight clowney has 2 tds in his first 10 games with the seahawks',\n",
       " 'highlight dlo hits another one from downtown he has scored the last 16 points for the warriors',\n",
       " 'the sixers held the cavs scoreless for the last 5 minutes of the 4th',\n",
       " 'oc do you think your team is getting screwed over by the refs let s see which teams the officials have been favoring the most this season by the nba s own admission',\n",
       " 'since being traded to los angeles jalen ramsey has surrendered 14 completions on 17 targets for 202 yds and an nfl passer rating of 116 2 ramsey has also gotten his hand on just one ball all year week 2 against houston',\n",
       " 'highlight russell wilson with a huge third down run',\n",
       " 'condotta carroll says tyler lockett suffered a lower leg contusion that he is already being examined for off site caused a lot of swelling and has a compartment element to it that has to be looked at immediately',\n",
       " 'kleiman falcons announce they ll play a home game in the nfl international series next season',\n",
       " 'is al horford a good defender',\n",
       " 'locker colts loyalty to the kicking goat vinatieri has them in a tough spot they ve fought their ass off this year but their margin for error is low and the poor kicking has them in a tough spot',\n",
       " 'the celtics are legitimate title contenders',\n",
       " 'as of nov 7th coach s challenges only have a 35 overturn rate',\n",
       " 'game thread detroit lions 3 4 1 at chicago bears 3 5',\n",
       " 'if you had to predict the team that will knock your team out of the playoffs finals',\n",
       " 'players are shooting 26 from the field when defended by anthony davis',\n",
       " 'al sacco 49ers wr dante pettis currently ranks 199th out of 202 qualifying players in catch percentage at 45 8 he s been targeted 24 times and has 11 catches pettis 4 5 yards per target ranks 160th out of 164 eligible players at least 24 targets he has 101 yards on 24 targets',\n",
       " 'on this day 100 years ago college teammates sunshine gepford and roy adkins helped the decatur staleys now bears beat the taylorville independents who had shut out all but 3 teams since 1914 for the state title their college coach who was at the game kicked them off the team the next day',\n",
       " 'if you were a player would you rather be a part of an all time great offense or defense',\n",
       " 'parkerlewis ladies and gentlemen of twitter i present to you james richard garoppolo',\n",
       " 'what happens when an nba team has only 7 players available to start a game',\n",
       " 'deaf nfl fans what is the most interesting thing you ve lipread when the tv shows players talking on the sidelines',\n",
       " 'nba com brett brown q amp a i look at tobias as kind of my new j j i want him really hunting threes',\n",
       " 'highlights anfernee simons full highlights 2019 11 10 blazers vs hawks 20 pts 8 12 fgm freedawkins',\n",
       " 'highlight jason myers s kick hands the 49ers their first loss in ot',\n",
       " 'rapoport the raiders continue to search for help in the defensive backfield as they are working out former lions and seahawks db deshawn shead today source said',\n",
       " 'kemba finishes the night with 29 5 5 7 threes in the second half',\n",
       " 'game thread milwaukee bucks 6 3 oklahoma city thunder 4 5 november 10 2019',\n",
       " 'rapoport the eagles signed star g brandon brooks to a 4 year 54 2m extension source said that makes him the highest paid guard in the league he gets 30m guaranteed',\n",
       " 'schefter 49ers de ronald blair tore his acl during monday night s loss to seattle and is out for the season',\n",
       " 'highlight harden drains back to back threes to reach 9 3pm for the game',\n",
       " 'schefter safety jermaine whitehead who was waived by the browns last week after posting threatening tweets worked out for the raiders',\n",
       " 'hale jaxson hayes is questionable to return for the pelicansnba though after taking a shot to the ribs first half he s been even keeping heat on his ribs ever since wontbowdown',\n",
       " 'pff leonard williams did not have a box score performance but he graded at an elite 90 overall with 6 total pressures against his former team williams 78 6 pass rush grade is his best game grade since week 10 of 2017',\n",
       " 'highlight mitchell and conley hitting multiple triples at the end of q2 mitchell is 5 6 amp conley is 4 6 from downtown at halftime',\n",
       " 'with the bears win over the lions today the bears have now beaten the lions 100 times in their history',\n",
       " 'vikings 2019 nfc east champs',\n",
       " 'highlight jabari parker dunks over anfernee simons trae loves it',\n",
       " 'espn stats amp info the 1 7 falcons won the 1 7 jets won amp the 1 7 dolphins won this is the 5th week in the super bowl era excluding the strike shortened 1982 season where 3 teams with 1 win or fewer won in week 10 or later and the first time since week 10 in 2013',\n",
       " 'the day steph curry sent out his iconic tweet we will figure this thing out if it s the last thing we do we will figure it out the warriors had just lost on the road against the indiana pacers and fell to 2 and 5 rookie steph curry had 6 points and 4 assists on 3 7 shooting',\n",
       " '16 32 teams so far this season the jets phins steelers bengals giants redskins colts jags titans chiefs broncos lions bears saint falcons panthers are all teams who have had multiple starting quarterbacks through only 10 weeks',\n",
       " 'zillgitt in memo sent from nba president of league operation byron spruell to nba teams league clarifies that that load management is not an injury or an appropriate description of an injury under the injury reporting procedures 1 x',\n",
       " 'knicks president steve mills we re not happy with where we are',\n",
       " 'brett favre s 500th touchdown pass',\n",
       " '49ers cb k waun williams has forced 3 fumbles tonight he s just the second cb in nfl history to force 3 fumbles in a game alongside charles tillman',\n",
       " 'cam newton is considering surgery after all with hopes of being fully healthy in march it would be an 8 10 week recovery',\n",
       " 'steph curry on if he ever sends shoes to his haters not yet i might have to set up a service like that though might have to send them to mj',\n",
       " 'grantland the death of bob kalsu the only active nfl player to die while serving in vietnam',\n",
       " 'rosenthal taylor lewan has not been the same since that ped suspension',\n",
       " 'porzingis career stats per game versus celtics',\n",
       " 'vikings vikings qb room discusses things they are up and down on',\n",
       " 'seahawks vs 49ers week 17 has to be flexed',\n",
       " 'any external fans been watching danuel house thoughts',\n",
       " 'zac taylor on blowout loss to ravens we made some progress',\n",
       " 'sn_ohio higgins on game winning touchdown reception i juked the defender out of his shoes and i was ready for the red carpet',\n",
       " 'the indianapolis colts have won the afc east more recently than the buffalo bills have what are some other hard to believe yet true facts about the nfl',\n",
       " 'the 49ers had 5 dropped passes yesterday the atlanta falcons have only had 6 drops this whole season the missing top 2 49ers receiving options kittle and sanders have had 0 drops this whole season 1 drop resulted in a tipped pick a second saved by a dropped pick collapse from the depth',\n",
       " 'why aren t receivers taught to commit opi rather than let a db come down with a pick',\n",
       " 'tacko fall people in maine i noticed they re a little more like i don t know a lady wanted to take a picture and she just sat on my lap the other day they re just very friendly',\n",
       " 'the street breaking david levy is reportedly stepping down as ceo of the brooklyn nets',\n",
       " 'what is the most heartbreaking loss in nba history',\n",
       " 'highlight luka kicks marcus smart in the nuts and gets the and one',\n",
       " 'jurecki from week 4 to week 10 kyler murray attempted 211 consecutive passes without an interception surpassing derek carr 176 attempts in 2014 and dak prescott 176 in 2016 for the longest streak of consecutive pass attempts without an interception by a rookie quarterback in nfl history',\n",
       " 'baron davis s new brand',\n",
       " 'kaboly juju smith schuster on jalen ramsey matchup it was cool man he talks a lot he talks so much he said so many cuss words that i never heard of and i am 22 years old',\n",
       " 'nba com 9 best moments from tony parker s career',\n",
       " 'luka doncic full highlights 2019 11 11 mavs vs celtics 34 pts 9 asts 6 rebs',\n",
       " 'highlight ridiculous possession there s a lid on the clippers rim and the crowd lose their minds',\n",
       " 'aaron wilson texans will fuller who has been sidelined with hamstring strain at practice monday',\n",
       " 'which unexpected team is due for a major rebuild',\n",
       " 'would someone be willing to help me with team names for this',\n",
       " 'since vorp was tracked the average vorp for the league mvp is 7 38 there have been 3 times where a player has achieved a vorp of 7 0 or higher and didn t even make the all star selection',\n",
       " 'steph s promise to warriors fans came 10 years ago today',\n",
       " 'an interesting statistic i noticed while scrolling through previous champions is the dominance of california and texas in the western conference',\n",
       " 'hasan dalvin in dallas 86 receiving yards 109 after the catch 5 forced missed tackles 97 rushing yards 77 after contact 3 forced missed tackles 8 combined forced missed tackles',\n",
       " 'highlight believe in boucher chris boucher drills his second triple in three possessions',\n",
       " 'has anyone been keeping count of how many times anthony davis has gone to the locker room for an injury during games this season',\n",
       " 'the step back breaking down injury details for gordon hayward anthony davis de aaron fox and khris middleton including recovery teams and long term impacts',\n",
       " 'donovan mitchell and eric paschall friends since childhood exchanged jerseys after the game',\n",
       " 'how do nfl players communicate during games when it s so loud with coaches with each other etc',\n",
       " 'urban christian kirk now 5 catches for 123 yards and 2 td murray 20 for 27 for 262 yards and 2 tds',\n",
       " 'keysor on derrick henry s touchdown run the chiefs only had 10 men on the field',\n",
       " 'vikings eric kendricks is the best linebacker in the nfl in 2019',\n",
       " 'highlight best al michaels calls',\n",
       " 'eager the dallas cowboys are first in the nfl in yards per play offensively while zeke is posting a career low in yards per carry makes you wonder',\n",
       " 'tobias harris becomes the 5th player in league history to shoot 11 threes without a make',\n",
       " 'what happened to lebron s finishing at the rim',\n",
       " 'braylon edwards should ve been one of the greatest receivers of all time and here s why',\n",
       " 'spotrac with 7 sacks robert quinn just earned himself a bonus of nearly 880 000 from the cowboys bringing his 2019 pay near 8m still a great value for dallas',\n",
       " 'highlight did the clippers mascot just give a 104 year old d day veteran a wet willy',\n",
       " 'yates former bears rb mike davis has been claimed off of waivers by the panthers per source',\n",
       " 'caporoso the one overriding thing i d like to see an improvement on is ypa where darnold is ahead of only trubisky among eligible qbs this is the bottom 10 right now i blame some most of this on gase s horizontal offense though',\n",
       " 'post game thread kansas city chiefs 6 4 at tennessee titans 5 5',\n",
       " 'post game thread detroit lions 3 5 1 at chicago bears 4 5',\n",
       " 'afc v nfc division v division records',\n",
       " 'mark ingram is on track to be just the third 30 year old running back this decade to finish the season with 1 000 scrimmage yards and 10 tds a great year in an era where running backs are unceremoniously disposed of once they hit 30',\n",
       " 'looking for injury data from before 2009',\n",
       " 'nfl the afc and nfc offensive players of the week are lamar jackson and dalvin cook',\n",
       " 'talko tuesday',\n",
       " 'baldwin the seahawks had 43 early down pass attempts last week 66 of plays in the first half tonight they had 8 53',\n",
       " 'highlight michael thomas makes a beautiful toe tapping grab at the falcons five yard line',\n",
       " 'game thread minnesota timberwolves 5 4 detroit pistons 4 6 november 11 2019',\n",
       " 'daniel jones is the only rookie qb in history to have 300 passing yards and 4 passing tds multiple times in a rookie season',\n",
       " 'the opening schedule for the oklahoma city thunder is insane',\n",
       " 'what are some great qb doing non qb things moments',\n",
       " 'ravens wired at cincinnati this ain t no letdown',\n",
       " 'yates david johnson yikes',\n",
       " 'highlight an example of the nets awful defense tonight the suns break their defense with just 3 passes around the perimeter',\n",
       " 'jaylen brown had two 25 point games last season he has three in his first six games this season',\n",
       " 'adam schefter rams hc sean mcvay said wr brandin cooks and ot rob havenstein are out for week 11 while starting c brian allen is done for the season with an mcl injury',\n",
       " 'b r longtime qb coach burrow just has it you can t coach it you can t develop it baker has it gardner minshew has it burrow has better size than both and a much better arm than minshew',\n",
       " 'game thread los angeles rams 5 3 at pittsburgh steelers 4 4',\n",
       " 'what is darius garland s height so inconsistent',\n",
       " 'highlight ricky rubio shuts down kyrie forcing a turnover and leading to an open booker three on the other end',\n",
       " 'who wins in a series 08 09 magic or 18 19 bucks',\n",
       " 'how is luka a better rebounder than porzingis',\n",
       " 'what is the best nba nickname',\n",
       " 'nagler video this is great stuff from troyaikman',\n",
       " 'smith the bucs have the highest scoring two minute offense in the league and qb jameis winston is thriving in that situation',\n",
       " 'who s your favorite bottom of the rotation guy that never ended up making it in the league',\n",
       " 'highlight nick nurse wins his first coach s challenge of the season after previously going 0 for 6',\n",
       " 'thorn 4th amp 5 larry fitz acrobatic catch for the 1st best hands of all time certainly on the mt rushmore',\n",
       " 'post game thread the utah jazz 8 3 defeat the brooklyn nets 4 6 119 114',\n",
       " 'highlight greenlaw picks russ in the redzone',\n",
       " 'lebron might not be the greatest passer to find the open man but he might be the best at hitting the open man',\n",
       " 'rapoport the future of cam newton will be one of the most talked about stories of the offseason and the panthers qb is now considering foot surgery to make sure he s healthy for march',\n",
       " 'moser preston smith notched his 10th sack of the season and will be buying his defensive teammates rolex watches i couldn t have done it without them',\n",
       " 'post game thread miami dolphins 2 7 at indianapolis colts 5 4',\n",
       " 'pelissero 49ers rb matt breida will get a second opinion on the sprained ankle he aggravated in last night s loss to the seahawks source said doesn t sound like a bad injury but may miss some time to let it heal',\n",
       " 'what would be the best move for melo',\n",
       " 'yates the browns have waived lb malik jefferson who has appeared in all nine games this season playing mostly on special teams',\n",
       " 'game thread brooklyn nets 4 5 utah jazz 7 3 november 13 2019',\n",
       " 'is there a stat that tracks getting your own rebounds',\n",
       " 'the vikings are undefeated indoors during both the regular season and preseason but have only won 1 game outdoors giants',\n",
       " 'jets safety from lsu learns his broadway joe lesson',\n",
       " 'highlight jason myers makes it a 3 point game with 1 47',\n",
       " 'happy veterans day greatest soldier baller ever elgin baylor',\n",
       " 'baldwin team offense in table form seattle s passing offense is no 2 in success rate but because its wrs keep fumbling on completed passes only no 9 in epa play baltimore s offense is no 1 by a healthy margin',\n",
       " 'do you think jabari parker has a future as a jamal crawford type 6th man',\n",
       " 'game thread dallas mavericks 6 3 boston celtics 7 1 november 11 2019',\n",
       " 'highlight gallinari hits the 3 with giannis draped over him to tie the game late in the 4th',\n",
       " 'post game thread the oklahoma city thunder 4 5 defeat the golden state warriors 2 8 by a score of 114 108',\n",
       " 'aaron schatz based on average dvoa of opponent kansas city oakland and green bay all have winning records despite playing top 5 difficult schedules so far',\n",
       " 'highlight kat goes iso in the dying seconds of the 3rd quarter and hammers it in',\n",
       " 'highlight gerald mccoy devours jamaal williams in the backfield to close out the half',\n",
       " 'stephen a rants about the knicks they re straight trash they stink stephen a smith show',\n",
       " 'lebron on if the raptors were motivated from being shorthanded yeah but they still had championship players no matter if they re shorthanded they still got guys with championship dna and we don t take that lightly',\n",
       " 'patriots rumors robert kraft wants rob gronkowski to return for playoff run',\n",
       " 'highlight chris carson makes it a ten point game',\n",
       " 'customized nba sneakers',\n",
       " 'gambo i actually hate this cardinals defense i mean seriously one minute left and you let them drive the ball right down your throat no one made a play no pressure no pass break ups nothing just nothing',\n",
       " 'brinson browns just ran eight plays from the bills 2 yard line without sniffing a touchdown',\n",
       " 'jason otc not home to update the draft order but i believe it s now bengals dolphins redskins giants jets falcons as the top 6 if miami wins they should drop behind the jets',\n",
       " 'zrebiec ravens are working on a deal with veteran free agent dt domata peko per sources ravens tried to sign him earlier this season but couldn t agree on deal ravens thin up front with both michael pierce and daylon mack dealing with injuries',\n",
       " 'record watch lamar jackson needs only 337 more yards on the ground to break michael vick s single season qb record of 1 039',\n",
       " 'rothstein good news for the lions out of sunday they held the bears under 100 yards rushing which has been a problem most games this year bad news for the lions bears still had their 4th highest rushing day of the year and trubisky tied his season high in td passes in a game 3',\n",
       " 'highlight espn s russell wilson x up graphic',\n",
       " 'slater some news draymond green is trending toward a return tonight at home vs jazz he missed the last five games because of a torn ligament and small bone chip i ve been told in left index finger warriors listing green as probable',\n",
       " 'rossi if josh allen could hit a deep throw they win comfortably he can t do it',\n",
       " 'is sabonis better than turner',\n",
       " 'schefter george kittle is inactive but both ots joe staley and mike mcglinchey return for the 49ers',\n",
       " 'game thread baltimore ravens 6 2 at cincinnati bengals 0 8',\n",
       " 'stotts nba players to suffer grade 3 ankle sprains over the last few seasons include reggie jackson lonzo ball and matthew dellavedova average missed time 33 games',\n",
       " 'mike muscala leads all scorers in the okc vs mil game at the half 12 points',\n",
       " 'quirky research on this date in 1970 even the saints home scorer assumed they would lose after the lions kicked a go ahead field goal with 11 seconds left three plays later tom dempsey kicked the actual winning 63 yard field goal',\n",
       " 'highlight kevin huerter ties the game with 0 7 to go in the 4th',\n",
       " 'why are the suns so good now',\n",
       " 'most shocking nfl story we didn t find out about until years decades later',\n",
       " 'the celtics are the number 1 seed in the east and the lakers are the number 1 seed in the west',\n",
       " 'serious if you were a gm tasked with rebuilding a team which one of these players would you take',\n",
       " 'how long would a player be suspended for if they choke slammed a ref',\n",
       " 'rosenthal the chiefs had a 3rd and 2 ball on titans 24 yard line 5 point lead 1 42 left titans down to 1 to the chiefs lost by 3',\n",
       " 'anyone not a fan of kawhi leonard',\n",
       " 'slater it seems nothing has changed coming out of giants players only meeting before dallas game i wouldn t say that jabrill peppers said what then has changed peppers paused for a few seconds we re still losing so apparently he said as his voice trailed off',\n",
       " 'highlight spicy p dirty transition dunk tsn',\n",
       " 'serious next day thread post game discussion november 10 2019',\n",
       " 'wagoner 49ers coach kyle shanahan says wr emmanuel sanders has a rib injury and is considered day to day shanahan said he will likely be a game time decision',\n",
       " 'let s go raptors chant starts in the staples center',\n",
       " 'dulac steelers expecting rb james conner to return in cleveland thursday night via pittsburghpg',\n",
       " 'beardwell here are patrick mahomes numbers in his 8 career losses 62 2 645 yards 331 yards per game 25 tds 6 ints 108 rating the chiefs have allowed 36ppg in those 8 losses',\n",
       " 'pft jarvis landry has noticed that opposing defenses are assigning their top cb to follow obj and landry regards that as disrespect',\n",
       " 'klis rookie qb drew lock will practice tomorrow per source close to elway he would be designated to return within 21 days meaning he would have to be activated on 53 man roster no later than week 14 vs texans',\n",
       " 'klis brandon allen will start at least the next two games with rypien as the backup the way to bet is for the broncos to take the full 21 days before activating lock and then to serve as a backup to allen against the texans and at kansas city',\n",
       " 'i won t be blown away by james harden s stats until he starts averaging 40 paul pierce the jump',\n",
       " 'highlight rondae hollis jefferson plays some lockdown defense to get the ball and jamaal magloire is ecstatic',\n",
       " 'trae young vs de aaron fox was asked a few times over the offseason has trae shown enough for your opinion to change any',\n",
       " 'yates now a full season 16 games into his starting career lamar jackson has guided the ravens to 13 wins 260 of 413 63 3 150 passing yards 20 td 8 int 1 258 rushing yards 419 more than any other qb through 16 starts two games with a perfect passer rating',\n",
       " 'feigen rockets f danuel house is doubtful to play tomorrow the day to day',\n",
       " 'brian baldinger browns bakermayfield looked a lot like that rookie sensation we saw a year ago especially on the 10 82 game winning drive with a 3 game home stand and a quick tnf turnaround v steelers can the browns turn this around baldysbreakdowns',\n",
       " 'chan um this is not where the ball is supposed to go',\n",
       " 'week 16 saturday games hou tb at 1 00 buf ne at 4 30 lar sf at 8 15',\n",
       " 'kinsley the bengals run defense is on pace to be historically bad the 2008 lions gave up 172 1 rush yards per game the 2019 bengals have currently allowed 173 0 rush yards per game',\n",
       " 'most automatic first downs by team',\n",
       " 'barrows mike mcglinchey on the state of the team i think we ll be fine i think we ll be absolutely fine we have the best in the business up top coaching us and he s as pissed off as anybody is',\n",
       " 'rapoport after a troubling loss to the jets giants coach pat shurmur tells reporters i m not going to make any coaching changes hoping to just do it all better',\n",
       " 'voting is now open for the 2020 pro bowl',\n",
       " 'highlight mahomes jump pass to mecole hardman who turns on the burners for a td',\n",
       " '6moty dark horse candidates',\n",
       " '49ers inactives include kittle witherspoon',\n",
       " 'yates today marks the 22nd matchup between teams quarterbacked by matt ryan and drew brees surpassing dan marino amp jim kelly for the most ever in the super bowl era',\n",
       " 'highlight chase mclaughlin shanks the kick in ot',\n",
       " 'rosenthal craziest parts of that game 5 shanahan s ot clock management 4 clowney making 1 billion in free agency 3 ansah benched for shaquem griffin 2 russ having more turnovers in 4th qtr ot than his previous 39 quarters combined but helping his mvp case anyway 1 geno',\n",
       " 'palmer patrick mahomes returns to the field today after missing 2 games before the injury his s were on par with the ones he had last year when he won mvp the last player to win mvp after missing 2 or more games was steve mcnair in 2003',\n",
       " 'slater steph curry says he expects to return this season some time in early spring',\n",
       " 'with all the teams being 2 games away from each other how do you guys see the afc south ending',\n",
       " 'jaylen brown s stat line tonight 30 pts 7 rebs 3 assists 10 18 from field 9 10 free throws',\n",
       " 'jayson tatum has become the 3rd player since 1983 1984 to shoot 1 18 or worse joining chris bosh and robert covington',\n",
       " 'baltimore is the first team since 1970 to record a defensive touchdown of at least 65 yards in three consecutive games',\n",
       " 'former packers qb zeke bratkowski has passed away at the age of 88 bratkowski is a member of the packers hall of fame',\n",
       " 'vacchiano after offering an apology to giants fans wr golden tate says the only thing i can ask for right now is to be patient trust the process',\n",
       " 'lowe sacramento s de aaron fox suffered an apparent ankle sprain at practice today sources tell wojespn and me kings medical team is doing testing to determine the severity of the injury and if fox needs to miss any time sources say',\n",
       " 'rasheed wallace left philly behind but he also brought a part of it with him during a 16 year nba career',\n",
       " 'sam darnold vs daniel jones grading the quarterbacks on four key traits who won battle of new york',\n",
       " 'ranking nick bosa kyler murray and the rookie of the year contenders',\n",
       " 'in 2010 the steelers final wr depth chart was hines ward antonio brown mike wallace emmanuel sanders antwaan randle el and arnaz battle',\n",
       " 'oc despite their 4 6 record and the fact that they are currently a half game out of a playoff spot the charlotte hornets have trailed by double digits in all 10 of their games this season they are the only team in the nba to have done that this season',\n",
       " 'yates 2020 nfl draft order as of week 11 1 bengals 0 9 2 redskins 1 8 3 giants 2 8 4 dolphins 2 7 5 jets 2 7 6 falcons 2 7 7 browns 3 6 8 buccaneers 3 6 9 broncos 3 6 10 cardinals 3 6 1',\n",
       " 'ex colts punter holder pat mcafee talks adam vinatieri struggles he once told me he wants to retire when he feels like he is hurting the team and i wonder if he may feel like that after the past few weeks very interested to see what happens after the colts kicker workouts',\n",
       " 'football perspective since jared goff s offensive line has deteriorated his sack rate has notably improved his sack rate was 5 6 last year but is a career best 4 3 this year',\n",
       " 'would you like to see fans storm the court after an upset like in college basketball',\n",
       " 'serious next day thread post game discussion november 11 2019',\n",
       " 'atlanta falcons saints fans in our mentions right now',\n",
       " 'kleiman daniel jones has had 4 tds 0 int games in two of his past 3 games but he also fumbled 7 times including those that got returned for scores the giants haven t won since week 4 against the redskins',\n",
       " 'highlight garoppolo connects with kendrick bourne for the td',\n",
       " 'daily daniel jones needs 13 td passes in the final six games to break the rookie td passes record held by baker mayfield',\n",
       " 'does anyone find it crazy that the bookies tend to get the handicap lines just perfect',\n",
       " 'nfl officiating al riveron breaks down the final play of the titans chiefs game',\n",
       " '2019 week 11 playoff picture',\n",
       " 'highlight chris boucher picks up where he left off last night with a silky three',\n",
       " 'when your team is about to play the jazz do you feel confident worried or consider it a toss up',\n",
       " 'nfl research lamar jackson joins aaron rodgers 2019 and hof joe montana 1989 as the only players to record 3 pass td 1 rush td and a perfect passer rating with at least 15 completions in a single game in the super bowl era',\n",
       " 'russel westbrook is shooting a career worse from the 3point line at 21 and freethow 65 with a career worse assist turnover ratio 7 4 4 6 and ppg 21 6 why is there no discussion about his decline',\n",
       " 'hughes the wizards just held a press conference about corporate sponsorships in japan apparently scott brooks has become very popular in the country rui hachimura s fans have taken to him as the second biggest star of the wizards',\n",
       " 'danilo gallinari just scored 8 888 career points he wears the number 8 and was born on 8 8 1988',\n",
       " 't j watt now has 9 5 sacks 22 qb hits 4 forced fumbles 3 fumble recoveries and an interception is it time to throw him in dpoy conversation',\n",
       " 'through 100 seasons 1972 dolphins remain nfl s only perfect team',\n",
       " 'knicks players back david fizdale with coach on hot seat',\n",
       " 'whose your dark horse superbowl team',\n",
       " 'mike sando on twitter most 2019 wins over nfl teams that currently have winning records packers 5 ravens 3 49ers 3 seahawks 3 chiefs 3 saints 3 vikings 3',\n",
       " 'highlight gerald mccoy called for roughing the passer',\n",
       " 'trotter browns gm john dorsey put a rock in kareem hunt s locker sunday the meaning hunt always stay solid you have to stay solid as a rock this rock is not going to bend or break',\n",
       " 'football perspective jared goff s stats for last 16 games',\n",
       " 'charania timetable expected for eric gordon s absence from rockets lineup up to six weeks league sources tell theathleticnba stadium',\n",
       " 'post game thread the miami heat 7 3 defeat the detroit pistons 4 8 117 108',\n",
       " 'aaron schatz what a great day for baltimore not only a huge win but a big shocking last minute loss for kc and now a possible loss for ind give them much better odds for a first round bye',\n",
       " 'palmer chiefs travis kelce has now passed jason witten 5 965 for 4th most rec yds by a te in a player s first 7 seasons kelce also had 0 receiving yds his rookie season 2013',\n",
       " 'kristaps porzingis career boston 0 6 w l 29 fg 13 3p 13 ppg',\n",
       " 'michael thomas break the 1000 yrd mark in 9 games with 1027 averaging 114 yards a game',\n",
       " 'tobias harris is now shooting 21 7 from 3 this season and is shooting 31 from 3 since getting traded to the sixers last season should the sixers be worried about their new 180 million dollar man',\n",
       " 'espn russell wilson career games vs teams 8 games over 500 2014 cardinals win 2014 cardinals win 2015 cardinals win 2017 eagles win 2018 chiefs win 2019 49ers win',\n",
       " 'will brett brown be fired this year',\n",
       " 'minnesota shot 6 45 from 3pt 13 tonight and still lost by 2 in overtime',\n",
       " 'azcardinals first career pick alert congratulations byronmurphy video highlight of byron murphy picking off jamis winston',\n",
       " 'la canfora if there was any confusion about my item about jeff bezos s interest in purchasing an nfl team at the same time he is moving to dc this has nothing to do with the skins unrelated article did not imply it was related but just want to be totally clear skins not for sale',\n",
       " 'murray that was rashaad penny s first career fumble took 133 touches',\n",
       " 'week 11 complaint thread',\n",
       " 'guillory pelicans just announced that brandon ingram is late scratch tonight with right knee soreness it looked like it was giving him some trouble in warmups huge loss for the pels with harden and russ in town',\n",
       " 'giardi no one ever mentions ravens offensive coordinator greg roman as a head coaching candidate but might it be time he is calling the shots for the most efficient and explosive offense in the league yes lamar is great but roman gets a big assist',\n",
       " 'highlight beautiful heat ball movement leads to a meyers leonard hammer on andre drummond',\n",
       " 'highlight rajon rondo freezes the entire suns defense gets the easy scoop shot',\n",
       " 'whose line is it anyway wednesday r nfl edition',\n",
       " 'greg auman wild thing about draft order at top of nfl draft teams picking in the current top five bengals redskins giants dolphins jets still have six games against each other they have a combined seven wins right now will nearly double that off those games alone',\n",
       " 'woike nick nurse said kyle lowry thumb will be our for at least a couple weeks said serge ibaka ankle will be heading home to toronto called the ankle sprain pretty severe',\n",
       " 'it turns out the knicks suck at losing too',\n",
       " 'smola after christian kirk s 3 score explosion we re down to 3 wrs with 50 targets and 0 tds robert woods 71 targets davante adams 57 mike williams 57',\n",
       " 'renck bryce callahan is practicing he s testing his foot this week after seeing a specialist if doesn t respond soon will be candidate for ir stinks he s a terrific player when healthy',\n",
       " 'stevens drew lock will be one of denver s two players designated to return from ir but that doesn t mean he s guaranteed to be activated to the 53 man roster according to vic fangio',\n",
       " 'backaftathis the seahawks first game in san francisco was on 10 7 79 here s 38 year old marv albert calling a touchdown run by o j simpson of the 49ers seattle won 35 24 rookie head coach bill walsh is now 0 6 he ll be fine',\n",
       " 'how did michael jordan make the all star team in the 85 86',\n",
       " 'karalis brad stevens describes kemba s injury as whilplash but said he was in good spirits after the game',\n",
       " 'ravens radio announcer after second td two of the seven fans that showed up just got up and left the game the other five are wearing ravens jerseys',\n",
       " 'ron rivera on going for two it was purely analytics 100 percent the thing is if you get there and then you score at the end then you re kicking to win the game if you don t get it there you get an opportunity to go for two again',\n",
       " 'texans jon weeks gives back on veterans day',\n",
       " 'renck on drew lock he could have been practicing a few weeks ago problem is broncos not saying they are rebuilding if are you play young players they were trying to exhaust all options w flacco in trying to win so goals became parallel paths developing young qb trying to reach playoffs',\n",
       " 'rapoport the chiefs were cautious on patrick mahomes how cautious they had 4 different specialists from across the country examine the images they were unanimous mahomes was ready after 21 days the risk lowers greatly',\n",
       " 'highlight matt thomas lightning quick catch and shoot snet',\n",
       " 'allen robinson a very talented receiver has had to deal with blake bortles in his days at jacksonville and now mitchell trubisky as a bear that s one of the more unfortunate combinations for a receiver to have to go through',\n",
       " 'rovell 2 030 000 price that dion waiters will pay for episode relating to eating thc infused gummies first reported by andyslater an 830 000 loss in pay from 10 suspended games no chance to hit 1 2m bonus for playing in at least 70 games in a season according to iraheatbeat',\n",
       " 'who do you think is the better offensive player between trae and luka',\n",
       " 'cummings most receptions first 4 years of a career michael thomas 407 jarvis landry 400 anquan boldin 342 larry fitzgerald 330 a j green 329 the man has 7 games left in his 4th season',\n",
       " 'kyrie irving vs donovan mitchell epic duel highlights 2019 11 12 27 pts for kyrie 30 for spida',\n",
       " 'post game thread arizona cardinals 3 6 1 at tampa bay buccaneers 3 6',\n",
       " 'robert mays the rams offensive magic is gone their playoff hopes could disappear soon too',\n",
       " 'highlight bridges gets a steal oubre jr hits a 3 to end the half up 18 against the nets',\n",
       " 'winfield caris levert is out with a sprained right thumb in tomorrow s matchup against at utah',\n",
       " 'load management in the nba is an insult to the paying customer stephen a first take',\n",
       " 'raanan asked john mara after the loss if he wanted to stop and comment he never broke stride and exited the building clearly not happy with what is transpiring',\n",
       " 'bengals start 0 9 for the first time since 1994 the 90s bengals started 0 9 only two times',\n",
       " 'charania miami s dion waiters has been suspended 10 games without pay league sources tell theathleticnba stadium',\n",
       " 'not likely by any stretch but it isn t insane to think miami could run the table',\n",
       " 'cam newton would welcome opportunity to play with bears if it all worked out',\n",
       " 'which player or staff member are you surprised is still employed',\n",
       " 'power rankings week 4 celtics grab no 1 spot lakers rise and sixers fall nba com',\n",
       " 'what would it take to dump demar s contract',\n",
       " 'nine games into the season freddie kitchens has matched hue jackson s career wins as head coach of the cleveland browns',\n",
       " 'with the ravens up 49 10 against the cincinnati bengals in the 3rd quarter rg3 is warming up to come in at qb',\n",
       " 'nfl playoff scenarios with the cin loss cin becomes the first team this season to be knocked out of division title contention',\n",
       " 'nfl research mitchell trubisky had 3 pass td in the chicago bears win over the lions that is more pass td than he had in his previous 4 games combined',\n",
       " 'robert klemko that was nick bosa s 12th loss in a football game since ninth grade',\n",
       " 'experts hating on lamar jackson',\n",
       " 'did the suns take an unusually heavy amount of 3 s tonight',\n",
       " 'drew lock almost forgot how to put this thing on but boy did it feel good to be back out there broncoscountry',\n",
       " 'animated win probability chart every week 10 game',\n",
       " 'stats trevon wesco the jets 4th round rookie tight end had more rushing yards 2 than saquon barkley 1 today',\n",
       " 'arnovitz inside the nba s silent tension surrounding rockets gm daryl morey',\n",
       " 'schefter in response to idea that brown is not expected to play again this season drew rosenhaus said i m confident antonio will play again this season i believe the nfl should clear him after they interview him this week and i expect he will be signed shortly after that',\n",
       " 'who is the worst player on your team and how bad are they',\n",
       " 'yates the best passer rating when targeted this season min 40 targets 1 amari cooper 141 1 t 2 austin ekeler 136 5 t 3 tyler lockett 136 5 4 adam thielen 136 3 5 tyreek hill 125 8 6 austin hooper 121 9 7 aaron jones 121 7',\n",
       " 'karalis stevens says gordon hayward is currently at the doctor being evaluated if they decide on surgery they ll do it asap',\n",
       " 'tonight the san antonio spurs will have the jersey retirement ceremony for tony parker',\n",
       " 'highlights damian lillard full highlights 2019 11 10 blazers vs hawks 30 pts 7 rebs 6 asts freedawkins',\n",
       " 'highlight mpj throws it down',\n",
       " 'shook carroll wr tyler lockett s hospital stay precautionary the injury shouldn t be a problem for lockett in the future carroll added',\n",
       " 'kleiman patrick mahomes has lost his last 3 full starts',\n",
       " 'wojnarowski after missing 10 games to start the season detroit pistons forward blake griffin plans to make his season debut against minnesota on monday league sources tell espn',\n",
       " 'how would you define what a run first team is',\n",
       " 'pelissero wr deon cain cleared waivers and is signing back to the colts practice squad source said',\n",
       " 'ruiz realistically what would the rams get back if they shopped jared goff this offseason',\n",
       " 'highlight ad drives in for the slam the foul',\n",
       " 'bruce arians jameis winston has really good chance of new deal if he continues on current path',\n",
       " 'sikkema at bruce arians s very first press conference with the buccaneers he was asked a question about taking practice seriously and the effort from his players his answer you can t play hard you can t play here man of his word',\n",
       " 'smith from jasonlacanfora w us on foxsportsradio don t believe the jets saying they ll take their time on adam gase dude they lost to the dolphins they may lose to them again you only have to spend 2 hours in ny to know what the fan bases think of their head coaches',\n",
       " 'nfl power rankings combined week 10',\n",
       " 'shit the announcers say week 10',\n",
       " 'amazon founder jeff bezos interested in owning nfl team has strong support among current owners',\n",
       " 'name something about another team that you respect the hell out of',\n",
       " 'despite kats hot start andrew wiggins is leading the timberwolves in scoring this season',\n",
       " 'is derozan the most overrated player in raptors history',\n",
       " 'highlight siakam blocks lebron leading to the bucket',\n",
       " 'fo injury aftermath week 10',\n",
       " 'nick nurse on kawhi about february of last year i was like he s not playing to his full capabilities he s cruising to his 30 points a night i figured it could go one of two ways he was gonna cruise on out of here or he was going to flip a switch and try to win the whole damn thing',\n",
       " 'shook after kitchens partially explained callaway s absence monday telling reporters that he was benched as a punishment for an undisclosed issue kitchens said i don t know if he got the message or not but i m not wavering',\n",
       " 'great article on the influence rudy gobert has had on defense this year',\n",
       " 'how much is vanvleet going to get next off season',\n",
       " 'the checkdown jimmy g really hit the dak dance jimmyg_10 dakdancestoanything',\n",
       " 'highlight devin booker hits a deep three to put suns up 29 in the third quarter',\n",
       " 'vox tried to explain the nba and china issue',\n",
       " 'dickerson bears linebacker danny trevathan walking back to the locker room relays show trevathan suffered a gruesome left arm injury',\n",
       " 'charania celtics gordon hayward will miss six weeks after undergoing surgery on his broken left hand',\n",
       " 'which ringless nba superstar past and present would you build your team around player in their primes for a 10 year contract',\n",
       " 'game threads index daily discussion november 13 2019',\n",
       " 'odegard with that touchdown pass kyler murray 119 0 passed andy lee 118 8 for the best passer rating on the team in this game',\n",
       " 'kacsmar saints are no strangers to inexplicable losses but 26 9 at home to that defense and there were no missed fgs no fluky fumbles no tipped ints penalties weren t even that crippling that crap pass rush just destroyed brees unreal',\n",
       " 'nba expansion virginia fleet',\n",
       " 'isola dolan is plotting to take another run at toronto raptors president masai ujiri',\n",
       " 'is it possible to teach nba history or is it too subjective',\n",
       " 'freddie kitchens is the michael scott of the nfl',\n",
       " '1972 dolphins remain only perfect team in nfl s 100 years every team s best unbeaten start',\n",
       " 'kyler murray confirmed good',\n",
       " 'danny heifitz the cowboys just need to trust dak prescott',\n",
       " 'did the raptors reveal the blueprint for stopping kawhi leonard',\n",
       " 'would kristaps playing the 5 help the mavs out on defense and offense',\n",
       " 'has this been the most exciting week of the season so far',\n",
       " 'costello sam darnold said the jets still have a shot at the playoffs if they win out',\n",
       " 'post game thread the new orleans pelicans 2 7 defeat the charlotte hornets 4 5 115 110 behind 25 points from brandon ingram',\n",
       " 'when is the best time to buy nba tickets on ticketmaster to get the lowest possible price',\n",
       " 'pft giants have been outscored 48 9 since the black cat',\n",
       " 'similarities between doncic and harden s game',\n",
       " 'next gen stats even in the loss dak prescott consistently defied the odds against the vikings completing 6 5 of his attempts above expectation 5 of prescott s 10 most improbable completions of the season came in tonight s game including 3 to amari cooper',\n",
       " 'schefter matthew stafford had started 136 consecutive regular season games entering today the 6th longest streak for a qb in nfl history the last lions qb to start a game other than stafford was shaun hill in week 17 of the 2010 season when he beat the vikings 20 13',\n",
       " 'serious pick 3 of 5 to make the playoffs in the western conference',\n",
       " 'townsend hayward surgery started at 5 eastern per brad stevens',\n",
       " 'game thread atlanta hawks 3 5 portland trail blazers 3 6 november 11 2019',\n",
       " 'highlight chris boucher cuts inside and finishes past dwight howard',\n",
       " 'rap from nflgameday patriots owner robert kraft told rob gronkowski he wants him back for november december and the playoffs but the clock is ticking until the deadline of nov 30',\n",
       " 'walker crazy stat michael thomas just had his 400th reception ted ginn has 399 career receptions',\n",
       " 'highlights fred vanvleet with the cold blooded 3 from way downtown with 20 seconds on the shotclock',\n",
       " 'perloff that guy is tom brady he is going to be a remarkable nfl quarterback rich neuheisel on lsu qb joe burrow',\n",
       " 'as of right now the warriors are playing with an 8 man roster only 1 of the 8 played for the warriors last year',\n",
       " 'post game thread the indiana pacers 7 4 run the oklahoma city thunder 4 7 out of bankers life fieldhouse 111 85',\n",
       " 'who is most likely to get traded cp3 klove or dlo',\n",
       " 'highlight golden tate scores a 61 yard touchdown off wr screen',\n",
       " 'baldy browns introduce their version of the wing t formation and variations with bakermayfield nickchubb21 amp kareemhunt7 and it was uber effective i think the possibilities are endless and going to be a boost to this offense baldysbreakdowns https t co b3t4aub88w',\n",
       " 'l2m report incorrect missed call with 0 9 seconds remaining in overtime plumlee den makes contact to the body of okogie min during his shooting motion that affects his jump shot attempt',\n",
       " 'baldwin team defense in table form defense is noisy use responsibly',\n",
       " 'grialou kingsbury w paulcalvisi postgame it was when asked if it was a coach s decision not to play david johnson after the fumble azvstb',\n",
       " 'karalis enes kanter says he s been cleared for tonight',\n",
       " 'early in the season but who do you guys think will be in the running for mip this year',\n",
       " ...]"
      ]
     },
     "execution_count": 28,
     "metadata": {},
     "output_type": "execute_result"
    }
   ],
   "source": [
    "clean_train_data"
   ]
  },
  {
   "cell_type": "markdown",
   "metadata": {},
   "source": [
    "### Count Vectorizer"
   ]
  },
  {
   "cell_type": "code",
   "execution_count": 29,
   "metadata": {},
   "outputs": [],
   "source": [
    "# instantiate our CountVectorizer. This counts the number of appearances of all the words in our training data and\n",
    "# eliminates common english stop words. 5000 max features works well for our purposes (tested various numbers). Our\n",
    "# data is already preprocessed and tokenized manually earlier. ngram_range is 1,3, although all or nearly all our\n",
    "# features are single words\n",
    "\n",
    "vectorizer = CountVectorizer(analyzer=\"word\",\n",
    "                             tokenizer=None,\n",
    "                             preprocessor=None,\n",
    "                             stop_words='english',\n",
    "                             max_features=5000,\n",
    "                             ngram_range=(1, 3))"
   ]
  },
  {
   "cell_type": "code",
   "execution_count": 31,
   "metadata": {},
   "outputs": [],
   "source": [
    "# fit our training data and test data lists to our count_vectorizer\n",
    "\n",
    "train_data_features = vectorizer.fit_transform(clean_train_data)\n",
    "\n",
    "test_data_features = vectorizer.transform(clean_test_data)"
   ]
  },
  {
   "cell_type": "code",
   "execution_count": 32,
   "metadata": {},
   "outputs": [],
   "source": [
    "# convert to array\n",
    "\n",
    "train_data_features = train_data_features.toarray()"
   ]
  },
  {
   "cell_type": "code",
   "execution_count": 33,
   "metadata": {},
   "outputs": [
    {
     "data": {
      "text/plain": [
       "((1249, 5000), (417, 5000))"
      ]
     },
     "execution_count": 33,
     "metadata": {},
     "output_type": "execute_result"
    }
   ],
   "source": [
    "# check shapes\n",
    "\n",
    "train_data_features.shape, test_data_features.shape"
   ]
  },
  {
   "cell_type": "code",
   "execution_count": 35,
   "metadata": {},
   "outputs": [
    {
     "data": {
      "text/plain": [
       "array([[0, 0, 0, ..., 0, 0, 0],\n",
       "       [0, 0, 0, ..., 0, 0, 0],\n",
       "       [0, 0, 0, ..., 0, 0, 0],\n",
       "       [0, 0, 0, ..., 0, 0, 0],\n",
       "       [0, 0, 0, ..., 0, 0, 0]], dtype=int64)"
      ]
     },
     "execution_count": 35,
     "metadata": {},
     "output_type": "execute_result"
    }
   ],
   "source": [
    "train_data_features[:5]"
   ]
  },
  {
   "cell_type": "code",
   "execution_count": 36,
   "metadata": {
    "scrolled": true
   },
   "outputs": [],
   "source": [
    "# I wanted check that the features corpus was as expected - removed print statement for readability\n",
    "\n",
    "vocab = vectorizer.get_feature_names()"
   ]
  },
  {
   "cell_type": "code",
   "execution_count": 37,
   "metadata": {
    "scrolled": true
   },
   "outputs": [
    {
     "data": {
      "text/plain": [
       "['000',\n",
       " '09',\n",
       " '10',\n",
       " '10 2019',\n",
       " '10 32',\n",
       " '10 blazers',\n",
       " '10 blazers vs',\n",
       " '10 chapter',\n",
       " '10 game',\n",
       " '10 games',\n",
       " '10 games seahawks',\n",
       " '10 games season',\n",
       " '10 hawks',\n",
       " '10 hawks vs',\n",
       " '10 mnf',\n",
       " '10 nfl',\n",
       " '10 points',\n",
       " '10 suns',\n",
       " '10 suns vs',\n",
       " '10 teams',\n",
       " '10 weeks',\n",
       " '10 year',\n",
       " '10 years',\n",
       " '100',\n",
       " '100 possessions',\n",
       " '100 yard',\n",
       " '100 yards',\n",
       " '100 years',\n",
       " '1000',\n",
       " '101',\n",
       " '102',\n",
       " '104',\n",
       " '104 year',\n",
       " '104 year old',\n",
       " '107',\n",
       " '108',\n",
       " '108 87',\n",
       " '109',\n",
       " '10th',\n",
       " '11',\n",
       " '11 10',\n",
       " '11 10 blazers',\n",
       " '11 10 hawks',\n",
       " '11 10 suns',\n",
       " '11 11',\n",
       " '11 11 mavs',\n",
       " '11 12',\n",
       " '11 12 heat',\n",
       " '11 2019',\n",
       " '11 asts',\n",
       " '11 mavs',\n",
       " '11 mavs vs',\n",
       " '11 rebounds',\n",
       " '11 rebounds assists',\n",
       " '11 rebs',\n",
       " '11 shooting',\n",
       " '110',\n",
       " '111',\n",
       " '112',\n",
       " '113',\n",
       " '114',\n",
       " '115',\n",
       " '116',\n",
       " '117',\n",
       " '119',\n",
       " '12',\n",
       " '12 2019',\n",
       " '12 heat',\n",
       " '12 heat vs',\n",
       " '12 points',\n",
       " '120',\n",
       " '121',\n",
       " '122',\n",
       " '123',\n",
       " '125',\n",
       " '12th',\n",
       " '13',\n",
       " '13 2019',\n",
       " '13 carries',\n",
       " '13 points',\n",
       " '131',\n",
       " '136',\n",
       " '138',\n",
       " '14',\n",
       " '15',\n",
       " '15 fga',\n",
       " '15 shooting',\n",
       " '15 years',\n",
       " '150',\n",
       " '16',\n",
       " '16 games',\n",
       " '16 points',\n",
       " '17',\n",
       " '173',\n",
       " '176',\n",
       " '17th',\n",
       " '18',\n",
       " '19',\n",
       " '1950',\n",
       " '1970',\n",
       " '1972',\n",
       " '1972 dolphins',\n",
       " '1972 dolphins remain',\n",
       " '1983',\n",
       " '1984',\n",
       " '1985',\n",
       " '1988',\n",
       " '1990',\n",
       " '1st',\n",
       " '1st amp',\n",
       " '1st amp run',\n",
       " '20',\n",
       " '20 pts',\n",
       " '20 td',\n",
       " '20 td int',\n",
       " '20 yards',\n",
       " '20 yards downfield',\n",
       " '200',\n",
       " '2001',\n",
       " '2003',\n",
       " '2006',\n",
       " '2009',\n",
       " '2010',\n",
       " '2011',\n",
       " '2012',\n",
       " '2013',\n",
       " '2014',\n",
       " '2014 cardinals',\n",
       " '2014 cardinals win',\n",
       " '2015',\n",
       " '2016',\n",
       " '2017',\n",
       " '2018',\n",
       " '2019',\n",
       " '2019 11',\n",
       " '2019 11 10',\n",
       " '2019 11 11',\n",
       " '2019 11 12',\n",
       " '2019 nfl',\n",
       " '2019 season',\n",
       " '202',\n",
       " '2020',\n",
       " '21',\n",
       " '21 days',\n",
       " '22',\n",
       " '23',\n",
       " '24',\n",
       " '24 targets',\n",
       " '24 yard',\n",
       " '25',\n",
       " '25 points',\n",
       " '25 points rebounds',\n",
       " '25 ppg',\n",
       " '250',\n",
       " '258',\n",
       " '258 rushing',\n",
       " '258 rushing yards',\n",
       " '26',\n",
       " '260',\n",
       " '260 413',\n",
       " '260 413 63',\n",
       " '27',\n",
       " '27 pts',\n",
       " '28',\n",
       " '28 14',\n",
       " '29',\n",
       " '2m',\n",
       " '2nd',\n",
       " '2nd amp',\n",
       " '2nd half',\n",
       " '2nd worst',\n",
       " '2nd worst shooting',\n",
       " '30',\n",
       " '30 points',\n",
       " '30 pts',\n",
       " '30 pts rebs',\n",
       " '300',\n",
       " '300 yard',\n",
       " '300 yard passing',\n",
       " '31',\n",
       " '31 points',\n",
       " '32',\n",
       " '33',\n",
       " '34',\n",
       " '34 pts',\n",
       " '34 pts asts',\n",
       " '35',\n",
       " '38',\n",
       " '39',\n",
       " '3p',\n",
       " '3rd',\n",
       " '3rd amp',\n",
       " '3rd quarter',\n",
       " '40',\n",
       " '400',\n",
       " '41',\n",
       " '413',\n",
       " '413 63',\n",
       " '42',\n",
       " '42 pts']"
      ]
     },
     "execution_count": 37,
     "metadata": {},
     "output_type": "execute_result"
    }
   ],
   "source": [
    "vocab[0:200]"
   ]
  },
  {
   "cell_type": "markdown",
   "metadata": {},
   "source": [
    "## MODELING"
   ]
  },
  {
   "cell_type": "markdown",
   "metadata": {},
   "source": [
    "### Logistic Regression"
   ]
  },
  {
   "cell_type": "code",
   "execution_count": 38,
   "metadata": {},
   "outputs": [],
   "source": [
    "from sklearn.linear_model import LogisticRegression"
   ]
  },
  {
   "cell_type": "code",
   "execution_count": 39,
   "metadata": {},
   "outputs": [],
   "source": [
    "# fit logistic regression model\n",
    "\n",
    "lr = LogisticRegression(penalty='l2')"
   ]
  },
  {
   "cell_type": "code",
   "execution_count": 40,
   "metadata": {},
   "outputs": [
    {
     "data": {
      "text/plain": [
       "((1249, 5000), (1249,))"
      ]
     },
     "execution_count": 40,
     "metadata": {},
     "output_type": "execute_result"
    }
   ],
   "source": [
    "# shape check\n",
    "\n",
    "train_data_features.shape, y_train.shape"
   ]
  },
  {
   "cell_type": "code",
   "execution_count": 41,
   "metadata": {},
   "outputs": [
    {
     "name": "stderr",
     "output_type": "stream",
     "text": [
      "/usr/local/lib/python3.7/site-packages/sklearn/linear_model/logistic.py:432: FutureWarning: Default solver will be changed to 'lbfgs' in 0.22. Specify a solver to silence this warning.\n",
      "  FutureWarning)\n"
     ]
    },
    {
     "data": {
      "text/plain": [
       "LogisticRegression(C=1.0, class_weight=None, dual=False, fit_intercept=True,\n",
       "                   intercept_scaling=1, l1_ratio=None, max_iter=100,\n",
       "                   multi_class='warn', n_jobs=None, penalty='l2',\n",
       "                   random_state=None, solver='warn', tol=0.0001, verbose=0,\n",
       "                   warm_start=False)"
      ]
     },
     "execution_count": 41,
     "metadata": {},
     "output_type": "execute_result"
    }
   ],
   "source": [
    "lr.fit(train_data_features, y_train)"
   ]
  },
  {
   "cell_type": "code",
   "execution_count": 42,
   "metadata": {},
   "outputs": [
    {
     "data": {
      "text/plain": [
       "0.9991993594875901"
      ]
     },
     "execution_count": 42,
     "metadata": {},
     "output_type": "execute_result"
    }
   ],
   "source": [
    "lr.score(train_data_features, y_train)"
   ]
  },
  {
   "cell_type": "code",
   "execution_count": 43,
   "metadata": {},
   "outputs": [
    {
     "data": {
      "text/plain": [
       "0.9400479616306955"
      ]
     },
     "execution_count": 43,
     "metadata": {},
     "output_type": "execute_result"
    }
   ],
   "source": [
    "lr.score(test_data_features, y_test)"
   ]
  },
  {
   "cell_type": "markdown",
   "metadata": {},
   "source": [
    "### Feature comparison"
   ]
  },
  {
   "cell_type": "markdown",
   "metadata": {},
   "source": [
    "Creates a dataframe that matches features to coefficients"
   ]
  },
  {
   "cell_type": "code",
   "execution_count": 44,
   "metadata": {},
   "outputs": [],
   "source": [
    "coef_list = lr.coef_.tolist()"
   ]
  },
  {
   "cell_type": "code",
   "execution_count": 45,
   "metadata": {},
   "outputs": [],
   "source": [
    "coef_list = coef_list[0]"
   ]
  },
  {
   "cell_type": "code",
   "execution_count": 46,
   "metadata": {},
   "outputs": [],
   "source": [
    "coef_df = pd.DataFrame({'features': vectorizer.get_feature_names(),\n",
    "                        'coefs': coef_list})"
   ]
  },
  {
   "cell_type": "code",
   "execution_count": 47,
   "metadata": {
    "scrolled": true
   },
   "outputs": [
    {
     "data": {
      "text/html": [
       "<div>\n",
       "<style scoped>\n",
       "    .dataframe tbody tr th:only-of-type {\n",
       "        vertical-align: middle;\n",
       "    }\n",
       "\n",
       "    .dataframe tbody tr th {\n",
       "        vertical-align: top;\n",
       "    }\n",
       "\n",
       "    .dataframe thead th {\n",
       "        text-align: right;\n",
       "    }\n",
       "</style>\n",
       "<table border=\"1\" class=\"dataframe\">\n",
       "  <thead>\n",
       "    <tr style=\"text-align: right;\">\n",
       "      <th></th>\n",
       "      <th>features</th>\n",
       "      <th>coefs</th>\n",
       "    </tr>\n",
       "  </thead>\n",
       "  <tbody>\n",
       "    <tr>\n",
       "      <th>1871</th>\n",
       "      <td>nba</td>\n",
       "      <td>-2.443858</td>\n",
       "    </tr>\n",
       "    <tr>\n",
       "      <th>1522</th>\n",
       "      <td>knicks</td>\n",
       "      <td>-1.408794</td>\n",
       "    </tr>\n",
       "    <tr>\n",
       "      <th>3288</th>\n",
       "      <td>raptors</td>\n",
       "      <td>-1.315754</td>\n",
       "    </tr>\n",
       "    <tr>\n",
       "      <th>1573</th>\n",
       "      <td>lebron</td>\n",
       "      <td>-1.214959</td>\n",
       "    </tr>\n",
       "    <tr>\n",
       "      <th>1483</th>\n",
       "      <td>kawhi</td>\n",
       "      <td>-1.205320</td>\n",
       "    </tr>\n",
       "    <tr>\n",
       "      <th>4706</th>\n",
       "      <td>tonight</td>\n",
       "      <td>-1.186334</td>\n",
       "    </tr>\n",
       "    <tr>\n",
       "      <th>4527</th>\n",
       "      <td>suns</td>\n",
       "      <td>-0.974886</td>\n",
       "    </tr>\n",
       "    <tr>\n",
       "      <th>4854</th>\n",
       "      <td>warriors</td>\n",
       "      <td>-0.916840</td>\n",
       "    </tr>\n",
       "    <tr>\n",
       "      <th>409</th>\n",
       "      <td>basketball</td>\n",
       "      <td>-0.902750</td>\n",
       "    </tr>\n",
       "    <tr>\n",
       "      <th>649</th>\n",
       "      <td>clippers</td>\n",
       "      <td>-0.897251</td>\n",
       "    </tr>\n",
       "    <tr>\n",
       "      <th>1221</th>\n",
       "      <td>harden</td>\n",
       "      <td>-0.878593</td>\n",
       "    </tr>\n",
       "    <tr>\n",
       "      <th>4735</th>\n",
       "      <td>trae</td>\n",
       "      <td>-0.856830</td>\n",
       "    </tr>\n",
       "    <tr>\n",
       "      <th>2115</th>\n",
       "      <td>players</td>\n",
       "      <td>-0.845649</td>\n",
       "    </tr>\n",
       "    <tr>\n",
       "      <th>4473</th>\n",
       "      <td>standings</td>\n",
       "      <td>-0.827929</td>\n",
       "    </tr>\n",
       "    <tr>\n",
       "      <th>1540</th>\n",
       "      <td>kyrie</td>\n",
       "      <td>-0.818643</td>\n",
       "    </tr>\n",
       "    <tr>\n",
       "      <th>1545</th>\n",
       "      <td>lakers</td>\n",
       "      <td>-0.809865</td>\n",
       "    </tr>\n",
       "    <tr>\n",
       "      <th>1673</th>\n",
       "      <td>magic</td>\n",
       "      <td>-0.801885</td>\n",
       "    </tr>\n",
       "    <tr>\n",
       "      <th>1665</th>\n",
       "      <td>luka</td>\n",
       "      <td>-0.795318</td>\n",
       "    </tr>\n",
       "    <tr>\n",
       "      <th>4404</th>\n",
       "      <td>shooting</td>\n",
       "      <td>-0.765386</td>\n",
       "    </tr>\n",
       "    <tr>\n",
       "      <th>588</th>\n",
       "      <td>celtics</td>\n",
       "      <td>-0.738376</td>\n",
       "    </tr>\n",
       "    <tr>\n",
       "      <th>475</th>\n",
       "      <td>boucher</td>\n",
       "      <td>-0.715044</td>\n",
       "    </tr>\n",
       "    <tr>\n",
       "      <th>4233</th>\n",
       "      <td>rockets</td>\n",
       "      <td>-0.707033</td>\n",
       "    </tr>\n",
       "    <tr>\n",
       "      <th>4408</th>\n",
       "      <td>shot</td>\n",
       "      <td>-0.706865</td>\n",
       "    </tr>\n",
       "    <tr>\n",
       "      <th>4704</th>\n",
       "      <td>tomorrow</td>\n",
       "      <td>-0.698044</td>\n",
       "    </tr>\n",
       "    <tr>\n",
       "      <th>1243</th>\n",
       "      <td>heat</td>\n",
       "      <td>-0.687349</td>\n",
       "    </tr>\n",
       "    <tr>\n",
       "      <th>331</th>\n",
       "      <td>ankle</td>\n",
       "      <td>-0.667953</td>\n",
       "    </tr>\n",
       "    <tr>\n",
       "      <th>4501</th>\n",
       "      <td>steph</td>\n",
       "      <td>-0.667210</td>\n",
       "    </tr>\n",
       "    <tr>\n",
       "      <th>847</th>\n",
       "      <td>discussion</td>\n",
       "      <td>-0.665411</td>\n",
       "    </tr>\n",
       "    <tr>\n",
       "      <th>734</th>\n",
       "      <td>curry</td>\n",
       "      <td>-0.660973</td>\n",
       "    </tr>\n",
       "    <tr>\n",
       "      <th>772</th>\n",
       "      <td>davis</td>\n",
       "      <td>-0.658438</td>\n",
       "    </tr>\n",
       "    <tr>\n",
       "      <th>...</th>\n",
       "      <td>...</td>\n",
       "      <td>...</td>\n",
       "    </tr>\n",
       "    <tr>\n",
       "      <th>429</th>\n",
       "      <td>bengals</td>\n",
       "      <td>0.791579</td>\n",
       "    </tr>\n",
       "    <tr>\n",
       "      <th>2000</th>\n",
       "      <td>packers</td>\n",
       "      <td>0.793705</td>\n",
       "    </tr>\n",
       "    <tr>\n",
       "      <th>412</th>\n",
       "      <td>bears</td>\n",
       "      <td>0.827361</td>\n",
       "    </tr>\n",
       "    <tr>\n",
       "      <th>4975</th>\n",
       "      <td>yates</td>\n",
       "      <td>0.834505</td>\n",
       "    </tr>\n",
       "    <tr>\n",
       "      <th>555</th>\n",
       "      <td>cardinals</td>\n",
       "      <td>0.834776</td>\n",
       "    </tr>\n",
       "    <tr>\n",
       "      <th>2036</th>\n",
       "      <td>patriots</td>\n",
       "      <td>0.844983</td>\n",
       "    </tr>\n",
       "    <tr>\n",
       "      <th>4720</th>\n",
       "      <td>touchdown</td>\n",
       "      <td>0.864263</td>\n",
       "    </tr>\n",
       "    <tr>\n",
       "      <th>1546</th>\n",
       "      <td>lamar</td>\n",
       "      <td>0.873362</td>\n",
       "    </tr>\n",
       "    <tr>\n",
       "      <th>4299</th>\n",
       "      <td>saints</td>\n",
       "      <td>0.885357</td>\n",
       "    </tr>\n",
       "    <tr>\n",
       "      <th>1396</th>\n",
       "      <td>jackson</td>\n",
       "      <td>0.920299</td>\n",
       "    </tr>\n",
       "    <tr>\n",
       "      <th>4909</th>\n",
       "      <td>wilson</td>\n",
       "      <td>0.932710</td>\n",
       "    </tr>\n",
       "    <tr>\n",
       "      <th>2089</th>\n",
       "      <td>picks</td>\n",
       "      <td>0.945858</td>\n",
       "    </tr>\n",
       "    <tr>\n",
       "      <th>511</th>\n",
       "      <td>browns</td>\n",
       "      <td>0.953659</td>\n",
       "    </tr>\n",
       "    <tr>\n",
       "      <th>1142</th>\n",
       "      <td>giants</td>\n",
       "      <td>0.983352</td>\n",
       "    </tr>\n",
       "    <tr>\n",
       "      <th>4868</th>\n",
       "      <td>week 10</td>\n",
       "      <td>0.983449</td>\n",
       "    </tr>\n",
       "    <tr>\n",
       "      <th>4954</th>\n",
       "      <td>yard</td>\n",
       "      <td>0.995122</td>\n",
       "    </tr>\n",
       "    <tr>\n",
       "      <th>738</th>\n",
       "      <td>dak</td>\n",
       "      <td>1.011385</td>\n",
       "    </tr>\n",
       "    <tr>\n",
       "      <th>860</th>\n",
       "      <td>dolphins</td>\n",
       "      <td>1.035131</td>\n",
       "    </tr>\n",
       "    <tr>\n",
       "      <th>3121</th>\n",
       "      <td>rams</td>\n",
       "      <td>1.048040</td>\n",
       "    </tr>\n",
       "    <tr>\n",
       "      <th>4823</th>\n",
       "      <td>vikings</td>\n",
       "      <td>1.074773</td>\n",
       "    </tr>\n",
       "    <tr>\n",
       "      <th>3379</th>\n",
       "      <td>ravens</td>\n",
       "      <td>1.145782</td>\n",
       "    </tr>\n",
       "    <tr>\n",
       "      <th>618</th>\n",
       "      <td>chiefs</td>\n",
       "      <td>1.154121</td>\n",
       "    </tr>\n",
       "    <tr>\n",
       "      <th>4567</th>\n",
       "      <td>td</td>\n",
       "      <td>1.172184</td>\n",
       "    </tr>\n",
       "    <tr>\n",
       "      <th>2854</th>\n",
       "      <td>qb</td>\n",
       "      <td>1.200190</td>\n",
       "    </tr>\n",
       "    <tr>\n",
       "      <th>4497</th>\n",
       "      <td>steelers</td>\n",
       "      <td>1.253241</td>\n",
       "    </tr>\n",
       "    <tr>\n",
       "      <th>4338</th>\n",
       "      <td>seahawks</td>\n",
       "      <td>1.255318</td>\n",
       "    </tr>\n",
       "    <tr>\n",
       "      <th>4961</th>\n",
       "      <td>yards</td>\n",
       "      <td>1.326591</td>\n",
       "    </tr>\n",
       "    <tr>\n",
       "      <th>4867</th>\n",
       "      <td>week</td>\n",
       "      <td>1.374054</td>\n",
       "    </tr>\n",
       "    <tr>\n",
       "      <th>206</th>\n",
       "      <td>49ers</td>\n",
       "      <td>1.392858</td>\n",
       "    </tr>\n",
       "    <tr>\n",
       "      <th>1900</th>\n",
       "      <td>nfl</td>\n",
       "      <td>2.374162</td>\n",
       "    </tr>\n",
       "  </tbody>\n",
       "</table>\n",
       "<p>5000 rows × 2 columns</p>\n",
       "</div>"
      ],
      "text/plain": [
       "        features     coefs\n",
       "1871         nba -2.443858\n",
       "1522      knicks -1.408794\n",
       "3288     raptors -1.315754\n",
       "1573      lebron -1.214959\n",
       "1483       kawhi -1.205320\n",
       "4706     tonight -1.186334\n",
       "4527        suns -0.974886\n",
       "4854    warriors -0.916840\n",
       "409   basketball -0.902750\n",
       "649     clippers -0.897251\n",
       "1221      harden -0.878593\n",
       "4735        trae -0.856830\n",
       "2115     players -0.845649\n",
       "4473   standings -0.827929\n",
       "1540       kyrie -0.818643\n",
       "1545      lakers -0.809865\n",
       "1673       magic -0.801885\n",
       "1665        luka -0.795318\n",
       "4404    shooting -0.765386\n",
       "588      celtics -0.738376\n",
       "475      boucher -0.715044\n",
       "4233     rockets -0.707033\n",
       "4408        shot -0.706865\n",
       "4704    tomorrow -0.698044\n",
       "1243        heat -0.687349\n",
       "331        ankle -0.667953\n",
       "4501       steph -0.667210\n",
       "847   discussion -0.665411\n",
       "734        curry -0.660973\n",
       "772        davis -0.658438\n",
       "...          ...       ...\n",
       "429      bengals  0.791579\n",
       "2000     packers  0.793705\n",
       "412        bears  0.827361\n",
       "4975       yates  0.834505\n",
       "555    cardinals  0.834776\n",
       "2036    patriots  0.844983\n",
       "4720   touchdown  0.864263\n",
       "1546       lamar  0.873362\n",
       "4299      saints  0.885357\n",
       "1396     jackson  0.920299\n",
       "4909      wilson  0.932710\n",
       "2089       picks  0.945858\n",
       "511       browns  0.953659\n",
       "1142      giants  0.983352\n",
       "4868     week 10  0.983449\n",
       "4954        yard  0.995122\n",
       "738          dak  1.011385\n",
       "860     dolphins  1.035131\n",
       "3121        rams  1.048040\n",
       "4823     vikings  1.074773\n",
       "3379      ravens  1.145782\n",
       "618       chiefs  1.154121\n",
       "4567          td  1.172184\n",
       "2854          qb  1.200190\n",
       "4497    steelers  1.253241\n",
       "4338    seahawks  1.255318\n",
       "4961       yards  1.326591\n",
       "4867        week  1.374054\n",
       "206        49ers  1.392858\n",
       "1900         nfl  2.374162\n",
       "\n",
       "[5000 rows x 2 columns]"
      ]
     },
     "execution_count": 47,
     "metadata": {},
     "output_type": "execute_result"
    }
   ],
   "source": [
    "coef_df.sort_values(by = ['coefs'])"
   ]
  },
  {
   "cell_type": "markdown",
   "metadata": {},
   "source": [
    "### Let's throw out these unfair words and rerun"
   ]
  },
  {
   "cell_type": "code",
   "execution_count": 48,
   "metadata": {},
   "outputs": [],
   "source": [
    "stopwords = set(stopwords.words('english'))\n",
    "\n",
    "extra_stopwords = ['nba', 'basketball', 'football', 'nfl']\n",
    "\n",
    "stopwords.update(extra_stopwords)"
   ]
  },
  {
   "cell_type": "code",
   "execution_count": 49,
   "metadata": {},
   "outputs": [
    {
     "data": {
      "text/plain": [
       "((1249, 5000), (417, 5000))"
      ]
     },
     "execution_count": 49,
     "metadata": {},
     "output_type": "execute_result"
    }
   ],
   "source": [
    "vectorizer = CountVectorizer(analyzer=\"word\",\n",
    "                             tokenizer=None,\n",
    "                             preprocessor=None,\n",
    "                             stop_words=stopwords,\n",
    "                             max_features=5000,\n",
    "                             ngram_range=(1, 3))\n",
    "\n",
    "train_data_features = vectorizer.fit_transform(clean_train_data)\n",
    "\n",
    "test_data_features = vectorizer.transform(clean_test_data)\n",
    "\n",
    "train_data_features = train_data_features.toarray()\n",
    "\n",
    "train_data_features.shape, test_data_features.shape"
   ]
  },
  {
   "cell_type": "code",
   "execution_count": 50,
   "metadata": {},
   "outputs": [
    {
     "name": "stderr",
     "output_type": "stream",
     "text": [
      "/usr/local/lib/python3.7/site-packages/sklearn/linear_model/logistic.py:432: FutureWarning: Default solver will be changed to 'lbfgs' in 0.22. Specify a solver to silence this warning.\n",
      "  FutureWarning)\n"
     ]
    },
    {
     "data": {
      "text/plain": [
       "LogisticRegression(C=1.0, class_weight=None, dual=False, fit_intercept=True,\n",
       "                   intercept_scaling=1, l1_ratio=None, max_iter=100,\n",
       "                   multi_class='warn', n_jobs=None, penalty='l2',\n",
       "                   random_state=None, solver='warn', tol=0.0001, verbose=0,\n",
       "                   warm_start=False)"
      ]
     },
     "execution_count": 50,
     "metadata": {},
     "output_type": "execute_result"
    }
   ],
   "source": [
    "lr.fit(train_data_features, y_train)"
   ]
  },
  {
   "cell_type": "code",
   "execution_count": 51,
   "metadata": {},
   "outputs": [
    {
     "data": {
      "text/plain": [
       "0.9967974379503602"
      ]
     },
     "execution_count": 51,
     "metadata": {},
     "output_type": "execute_result"
    }
   ],
   "source": [
    "lr.score(train_data_features, y_train)"
   ]
  },
  {
   "cell_type": "code",
   "execution_count": 52,
   "metadata": {},
   "outputs": [
    {
     "data": {
      "text/plain": [
       "0.9232613908872902"
      ]
     },
     "execution_count": 52,
     "metadata": {},
     "output_type": "execute_result"
    }
   ],
   "source": [
    "lr.score(test_data_features, y_test)"
   ]
  },
  {
   "cell_type": "code",
   "execution_count": 53,
   "metadata": {
    "scrolled": true
   },
   "outputs": [
    {
     "data": {
      "text/html": [
       "<div>\n",
       "<style scoped>\n",
       "    .dataframe tbody tr th:only-of-type {\n",
       "        vertical-align: middle;\n",
       "    }\n",
       "\n",
       "    .dataframe tbody tr th {\n",
       "        vertical-align: top;\n",
       "    }\n",
       "\n",
       "    .dataframe thead th {\n",
       "        text-align: right;\n",
       "    }\n",
       "</style>\n",
       "<table border=\"1\" class=\"dataframe\">\n",
       "  <thead>\n",
       "    <tr style=\"text-align: right;\">\n",
       "      <th></th>\n",
       "      <th>features</th>\n",
       "      <th>coefs</th>\n",
       "    </tr>\n",
       "  </thead>\n",
       "  <tbody>\n",
       "    <tr>\n",
       "      <th>3198</th>\n",
       "      <td>raptors</td>\n",
       "      <td>-1.407541</td>\n",
       "    </tr>\n",
       "    <tr>\n",
       "      <th>1591</th>\n",
       "      <td>knicks</td>\n",
       "      <td>-1.400391</td>\n",
       "    </tr>\n",
       "    <tr>\n",
       "      <th>1551</th>\n",
       "      <td>kawhi</td>\n",
       "      <td>-1.198934</td>\n",
       "    </tr>\n",
       "    <tr>\n",
       "      <th>1659</th>\n",
       "      <td>lebron</td>\n",
       "      <td>-1.124009</td>\n",
       "    </tr>\n",
       "    <tr>\n",
       "      <th>4683</th>\n",
       "      <td>tonight</td>\n",
       "      <td>-1.047564</td>\n",
       "    </tr>\n",
       "    <tr>\n",
       "      <th>4492</th>\n",
       "      <td>suns</td>\n",
       "      <td>-1.017546</td>\n",
       "    </tr>\n",
       "    <tr>\n",
       "      <th>672</th>\n",
       "      <td>clippers</td>\n",
       "      <td>-0.898872</td>\n",
       "    </tr>\n",
       "    <tr>\n",
       "      <th>1294</th>\n",
       "      <td>harden</td>\n",
       "      <td>-0.891899</td>\n",
       "    </tr>\n",
       "    <tr>\n",
       "      <th>4839</th>\n",
       "      <td>warriors</td>\n",
       "      <td>-0.885257</td>\n",
       "    </tr>\n",
       "    <tr>\n",
       "      <th>4715</th>\n",
       "      <td>trae</td>\n",
       "      <td>-0.883421</td>\n",
       "    </tr>\n",
       "    <tr>\n",
       "      <th>1609</th>\n",
       "      <td>kyrie</td>\n",
       "      <td>-0.870650</td>\n",
       "    </tr>\n",
       "    <tr>\n",
       "      <th>1614</th>\n",
       "      <td>lakers</td>\n",
       "      <td>-0.850536</td>\n",
       "    </tr>\n",
       "    <tr>\n",
       "      <th>4434</th>\n",
       "      <td>standings</td>\n",
       "      <td>-0.849262</td>\n",
       "    </tr>\n",
       "    <tr>\n",
       "      <th>1752</th>\n",
       "      <td>luka</td>\n",
       "      <td>-0.819013</td>\n",
       "    </tr>\n",
       "    <tr>\n",
       "      <th>1761</th>\n",
       "      <td>magic</td>\n",
       "      <td>-0.809789</td>\n",
       "    </tr>\n",
       "    <tr>\n",
       "      <th>4352</th>\n",
       "      <td>shooting</td>\n",
       "      <td>-0.792293</td>\n",
       "    </tr>\n",
       "    <tr>\n",
       "      <th>611</th>\n",
       "      <td>celtics</td>\n",
       "      <td>-0.747580</td>\n",
       "    </tr>\n",
       "    <tr>\n",
       "      <th>4464</th>\n",
       "      <td>stephen</td>\n",
       "      <td>-0.719897</td>\n",
       "    </tr>\n",
       "    <tr>\n",
       "      <th>4356</th>\n",
       "      <td>shot</td>\n",
       "      <td>-0.705463</td>\n",
       "    </tr>\n",
       "    <tr>\n",
       "      <th>4681</th>\n",
       "      <td>tomorrow</td>\n",
       "      <td>-0.686792</td>\n",
       "    </tr>\n",
       "    <tr>\n",
       "      <th>1313</th>\n",
       "      <td>heat</td>\n",
       "      <td>-0.675831</td>\n",
       "    </tr>\n",
       "    <tr>\n",
       "      <th>1492</th>\n",
       "      <td>jazz</td>\n",
       "      <td>-0.667857</td>\n",
       "    </tr>\n",
       "    <tr>\n",
       "      <th>494</th>\n",
       "      <td>boucher</td>\n",
       "      <td>-0.666840</td>\n",
       "    </tr>\n",
       "    <tr>\n",
       "      <th>4889</th>\n",
       "      <td>wiggins</td>\n",
       "      <td>-0.664659</td>\n",
       "    </tr>\n",
       "    <tr>\n",
       "      <th>4000</th>\n",
       "      <td>rockets</td>\n",
       "      <td>-0.664224</td>\n",
       "    </tr>\n",
       "    <tr>\n",
       "      <th>451</th>\n",
       "      <td>best</td>\n",
       "      <td>-0.657330</td>\n",
       "    </tr>\n",
       "    <tr>\n",
       "      <th>4439</th>\n",
       "      <td>star</td>\n",
       "      <td>-0.650940</td>\n",
       "    </tr>\n",
       "    <tr>\n",
       "      <th>337</th>\n",
       "      <td>ankle</td>\n",
       "      <td>-0.644320</td>\n",
       "    </tr>\n",
       "    <tr>\n",
       "      <th>2054</th>\n",
       "      <td>parker</td>\n",
       "      <td>-0.641151</td>\n",
       "    </tr>\n",
       "    <tr>\n",
       "      <th>873</th>\n",
       "      <td>discussion</td>\n",
       "      <td>-0.639239</td>\n",
       "    </tr>\n",
       "    <tr>\n",
       "      <th>...</th>\n",
       "      <td>...</td>\n",
       "      <td>...</td>\n",
       "    </tr>\n",
       "    <tr>\n",
       "      <th>689</th>\n",
       "      <td>coaches</td>\n",
       "      <td>0.774692</td>\n",
       "    </tr>\n",
       "    <tr>\n",
       "      <th>578</th>\n",
       "      <td>cardinals</td>\n",
       "      <td>0.822909</td>\n",
       "    </tr>\n",
       "    <tr>\n",
       "      <th>1615</th>\n",
       "      <td>lamar</td>\n",
       "      <td>0.832090</td>\n",
       "    </tr>\n",
       "    <tr>\n",
       "      <th>4699</th>\n",
       "      <td>touchdown</td>\n",
       "      <td>0.855443</td>\n",
       "    </tr>\n",
       "    <tr>\n",
       "      <th>4886</th>\n",
       "      <td>whose</td>\n",
       "      <td>0.861487</td>\n",
       "    </tr>\n",
       "    <tr>\n",
       "      <th>3332</th>\n",
       "      <td>receivers</td>\n",
       "      <td>0.888354</td>\n",
       "    </tr>\n",
       "    <tr>\n",
       "      <th>425</th>\n",
       "      <td>bears</td>\n",
       "      <td>0.890060</td>\n",
       "    </tr>\n",
       "    <tr>\n",
       "      <th>530</th>\n",
       "      <td>browns</td>\n",
       "      <td>0.895122</td>\n",
       "    </tr>\n",
       "    <tr>\n",
       "      <th>4972</th>\n",
       "      <td>yates</td>\n",
       "      <td>0.898198</td>\n",
       "    </tr>\n",
       "    <tr>\n",
       "      <th>2085</th>\n",
       "      <td>patriots</td>\n",
       "      <td>0.909235</td>\n",
       "    </tr>\n",
       "    <tr>\n",
       "      <th>4242</th>\n",
       "      <td>saints</td>\n",
       "      <td>0.929021</td>\n",
       "    </tr>\n",
       "    <tr>\n",
       "      <th>4896</th>\n",
       "      <td>wilson</td>\n",
       "      <td>0.951709</td>\n",
       "    </tr>\n",
       "    <tr>\n",
       "      <th>1467</th>\n",
       "      <td>jackson</td>\n",
       "      <td>0.953143</td>\n",
       "    </tr>\n",
       "    <tr>\n",
       "      <th>4949</th>\n",
       "      <td>yard</td>\n",
       "      <td>0.955765</td>\n",
       "    </tr>\n",
       "    <tr>\n",
       "      <th>2149</th>\n",
       "      <td>picks</td>\n",
       "      <td>0.956319</td>\n",
       "    </tr>\n",
       "    <tr>\n",
       "      <th>3056</th>\n",
       "      <td>rams</td>\n",
       "      <td>0.976570</td>\n",
       "    </tr>\n",
       "    <tr>\n",
       "      <th>761</th>\n",
       "      <td>dak</td>\n",
       "      <td>1.048939</td>\n",
       "    </tr>\n",
       "    <tr>\n",
       "      <th>1210</th>\n",
       "      <td>giants</td>\n",
       "      <td>1.049584</td>\n",
       "    </tr>\n",
       "    <tr>\n",
       "      <th>881</th>\n",
       "      <td>dolphins</td>\n",
       "      <td>1.063461</td>\n",
       "    </tr>\n",
       "    <tr>\n",
       "      <th>4852</th>\n",
       "      <td>week 10</td>\n",
       "      <td>1.094262</td>\n",
       "    </tr>\n",
       "    <tr>\n",
       "      <th>641</th>\n",
       "      <td>chiefs</td>\n",
       "      <td>1.147831</td>\n",
       "    </tr>\n",
       "    <tr>\n",
       "      <th>4458</th>\n",
       "      <td>steelers</td>\n",
       "      <td>1.183404</td>\n",
       "    </tr>\n",
       "    <tr>\n",
       "      <th>4808</th>\n",
       "      <td>vikings</td>\n",
       "      <td>1.196940</td>\n",
       "    </tr>\n",
       "    <tr>\n",
       "      <th>4534</th>\n",
       "      <td>td</td>\n",
       "      <td>1.203381</td>\n",
       "    </tr>\n",
       "    <tr>\n",
       "      <th>4282</th>\n",
       "      <td>seahawks</td>\n",
       "      <td>1.217636</td>\n",
       "    </tr>\n",
       "    <tr>\n",
       "      <th>3206</th>\n",
       "      <td>ravens</td>\n",
       "      <td>1.240207</td>\n",
       "    </tr>\n",
       "    <tr>\n",
       "      <th>2789</th>\n",
       "      <td>qb</td>\n",
       "      <td>1.274232</td>\n",
       "    </tr>\n",
       "    <tr>\n",
       "      <th>4956</th>\n",
       "      <td>yards</td>\n",
       "      <td>1.396183</td>\n",
       "    </tr>\n",
       "    <tr>\n",
       "      <th>206</th>\n",
       "      <td>49ers</td>\n",
       "      <td>1.410060</td>\n",
       "    </tr>\n",
       "    <tr>\n",
       "      <th>4851</th>\n",
       "      <td>week</td>\n",
       "      <td>1.519302</td>\n",
       "    </tr>\n",
       "  </tbody>\n",
       "</table>\n",
       "<p>5000 rows × 2 columns</p>\n",
       "</div>"
      ],
      "text/plain": [
       "        features     coefs\n",
       "3198     raptors -1.407541\n",
       "1591      knicks -1.400391\n",
       "1551       kawhi -1.198934\n",
       "1659      lebron -1.124009\n",
       "4683     tonight -1.047564\n",
       "4492        suns -1.017546\n",
       "672     clippers -0.898872\n",
       "1294      harden -0.891899\n",
       "4839    warriors -0.885257\n",
       "4715        trae -0.883421\n",
       "1609       kyrie -0.870650\n",
       "1614      lakers -0.850536\n",
       "4434   standings -0.849262\n",
       "1752        luka -0.819013\n",
       "1761       magic -0.809789\n",
       "4352    shooting -0.792293\n",
       "611      celtics -0.747580\n",
       "4464     stephen -0.719897\n",
       "4356        shot -0.705463\n",
       "4681    tomorrow -0.686792\n",
       "1313        heat -0.675831\n",
       "1492        jazz -0.667857\n",
       "494      boucher -0.666840\n",
       "4889     wiggins -0.664659\n",
       "4000     rockets -0.664224\n",
       "451         best -0.657330\n",
       "4439        star -0.650940\n",
       "337        ankle -0.644320\n",
       "2054      parker -0.641151\n",
       "873   discussion -0.639239\n",
       "...          ...       ...\n",
       "689      coaches  0.774692\n",
       "578    cardinals  0.822909\n",
       "1615       lamar  0.832090\n",
       "4699   touchdown  0.855443\n",
       "4886       whose  0.861487\n",
       "3332   receivers  0.888354\n",
       "425        bears  0.890060\n",
       "530       browns  0.895122\n",
       "4972       yates  0.898198\n",
       "2085    patriots  0.909235\n",
       "4242      saints  0.929021\n",
       "4896      wilson  0.951709\n",
       "1467     jackson  0.953143\n",
       "4949        yard  0.955765\n",
       "2149       picks  0.956319\n",
       "3056        rams  0.976570\n",
       "761          dak  1.048939\n",
       "1210      giants  1.049584\n",
       "881     dolphins  1.063461\n",
       "4852     week 10  1.094262\n",
       "641       chiefs  1.147831\n",
       "4458    steelers  1.183404\n",
       "4808     vikings  1.196940\n",
       "4534          td  1.203381\n",
       "4282    seahawks  1.217636\n",
       "3206      ravens  1.240207\n",
       "2789          qb  1.274232\n",
       "4956       yards  1.396183\n",
       "206        49ers  1.410060\n",
       "4851        week  1.519302\n",
       "\n",
       "[5000 rows x 2 columns]"
      ]
     },
     "execution_count": 53,
     "metadata": {},
     "output_type": "execute_result"
    }
   ],
   "source": [
    "coef_list = lr.coef_.tolist()\n",
    "coef_list = coef_list[0]\n",
    "\n",
    "coef_df = pd.DataFrame({'features' : vectorizer.get_feature_names(),\n",
    "                       'coefs' : coef_list})\n",
    "\n",
    "coef_df.sort_values(by = ['coefs'])"
   ]
  },
  {
   "cell_type": "markdown",
   "metadata": {},
   "source": [
    "### Decision Tree"
   ]
  },
  {
   "cell_type": "code",
   "execution_count": 54,
   "metadata": {},
   "outputs": [],
   "source": [
    "from sklearn.tree import DecisionTreeClassifier"
   ]
  },
  {
   "cell_type": "code",
   "execution_count": 55,
   "metadata": {},
   "outputs": [],
   "source": [
    "tree = DecisionTreeClassifier()"
   ]
  },
  {
   "cell_type": "code",
   "execution_count": 56,
   "metadata": {},
   "outputs": [
    {
     "data": {
      "text/plain": [
       "DecisionTreeClassifier(class_weight=None, criterion='gini', max_depth=None,\n",
       "                       max_features=None, max_leaf_nodes=None,\n",
       "                       min_impurity_decrease=0.0, min_impurity_split=None,\n",
       "                       min_samples_leaf=1, min_samples_split=2,\n",
       "                       min_weight_fraction_leaf=0.0, presort=False,\n",
       "                       random_state=None, splitter='best')"
      ]
     },
     "execution_count": 56,
     "metadata": {},
     "output_type": "execute_result"
    }
   ],
   "source": [
    "tree.fit(train_data_features, y_train)"
   ]
  },
  {
   "cell_type": "code",
   "execution_count": 57,
   "metadata": {},
   "outputs": [
    {
     "data": {
      "text/plain": [
       "1.0"
      ]
     },
     "execution_count": 57,
     "metadata": {},
     "output_type": "execute_result"
    }
   ],
   "source": [
    "tree.score(train_data_features, y_train)"
   ]
  },
  {
   "cell_type": "code",
   "execution_count": 58,
   "metadata": {},
   "outputs": [
    {
     "data": {
      "text/plain": [
       "0.8273381294964028"
      ]
     },
     "execution_count": 58,
     "metadata": {},
     "output_type": "execute_result"
    }
   ],
   "source": [
    "tree.score(test_data_features, y_test)"
   ]
  },
  {
   "cell_type": "markdown",
   "metadata": {},
   "source": [
    "### Random Forest"
   ]
  },
  {
   "cell_type": "code",
   "execution_count": 59,
   "metadata": {},
   "outputs": [],
   "source": [
    "from sklearn.ensemble import RandomForestClassifier"
   ]
  },
  {
   "cell_type": "code",
   "execution_count": 60,
   "metadata": {},
   "outputs": [],
   "source": [
    "forest = RandomForestClassifier(n_estimators = 100)"
   ]
  },
  {
   "cell_type": "code",
   "execution_count": 61,
   "metadata": {},
   "outputs": [
    {
     "data": {
      "text/plain": [
       "RandomForestClassifier(bootstrap=True, class_weight=None, criterion='gini',\n",
       "                       max_depth=None, max_features='auto', max_leaf_nodes=None,\n",
       "                       min_impurity_decrease=0.0, min_impurity_split=None,\n",
       "                       min_samples_leaf=1, min_samples_split=2,\n",
       "                       min_weight_fraction_leaf=0.0, n_estimators=100,\n",
       "                       n_jobs=None, oob_score=False, random_state=None,\n",
       "                       verbose=0, warm_start=False)"
      ]
     },
     "execution_count": 61,
     "metadata": {},
     "output_type": "execute_result"
    }
   ],
   "source": [
    "forest.fit(train_data_features, y_train)"
   ]
  },
  {
   "cell_type": "code",
   "execution_count": 62,
   "metadata": {},
   "outputs": [
    {
     "data": {
      "text/plain": [
       "1.0"
      ]
     },
     "execution_count": 62,
     "metadata": {},
     "output_type": "execute_result"
    }
   ],
   "source": [
    "forest.score(train_data_features, y_train)"
   ]
  },
  {
   "cell_type": "code",
   "execution_count": 63,
   "metadata": {},
   "outputs": [
    {
     "data": {
      "text/plain": [
       "0.8848920863309353"
      ]
     },
     "execution_count": 63,
     "metadata": {},
     "output_type": "execute_result"
    }
   ],
   "source": [
    "forest.score(test_data_features, y_test)"
   ]
  },
  {
   "cell_type": "markdown",
   "metadata": {},
   "source": [
    "###  Matrix on Logistic Regression"
   ]
  },
  {
   "cell_type": "code",
   "execution_count": 64,
   "metadata": {},
   "outputs": [],
   "source": [
    "from sklearn.metrics import confusion_matrix"
   ]
  },
  {
   "cell_type": "code",
   "execution_count": 65,
   "metadata": {},
   "outputs": [],
   "source": [
    "y_pred = lr.predict(test_data_features)"
   ]
  },
  {
   "cell_type": "code",
   "execution_count": 66,
   "metadata": {},
   "outputs": [],
   "source": [
    "cm = confusion_matrix(y_test, y_pred)"
   ]
  },
  {
   "cell_type": "code",
   "execution_count": 67,
   "metadata": {},
   "outputs": [],
   "source": [
    "cm_df = pd.DataFrame(cm,\n",
    "                    columns=['predict_neg', 'predict_pos'],\n",
    "                    index = ['actual_neg', 'actual_pos'])"
   ]
  },
  {
   "cell_type": "code",
   "execution_count": 68,
   "metadata": {},
   "outputs": [
    {
     "data": {
      "text/html": [
       "<div>\n",
       "<style scoped>\n",
       "    .dataframe tbody tr th:only-of-type {\n",
       "        vertical-align: middle;\n",
       "    }\n",
       "\n",
       "    .dataframe tbody tr th {\n",
       "        vertical-align: top;\n",
       "    }\n",
       "\n",
       "    .dataframe thead th {\n",
       "        text-align: right;\n",
       "    }\n",
       "</style>\n",
       "<table border=\"1\" class=\"dataframe\">\n",
       "  <thead>\n",
       "    <tr style=\"text-align: right;\">\n",
       "      <th></th>\n",
       "      <th>predict_neg</th>\n",
       "      <th>predict_pos</th>\n",
       "    </tr>\n",
       "  </thead>\n",
       "  <tbody>\n",
       "    <tr>\n",
       "      <th>actual_neg</th>\n",
       "      <td>183</td>\n",
       "      <td>11</td>\n",
       "    </tr>\n",
       "    <tr>\n",
       "      <th>actual_pos</th>\n",
       "      <td>21</td>\n",
       "      <td>202</td>\n",
       "    </tr>\n",
       "  </tbody>\n",
       "</table>\n",
       "</div>"
      ],
      "text/plain": [
       "            predict_neg  predict_pos\n",
       "actual_neg          183           11\n",
       "actual_pos           21          202"
      ]
     },
     "execution_count": 68,
     "metadata": {},
     "output_type": "execute_result"
    }
   ],
   "source": [
    "cm_df"
   ]
  },
  {
   "cell_type": "markdown",
   "metadata": {},
   "source": [
    "## Checking where our model failed"
   ]
  },
  {
   "cell_type": "code",
   "execution_count": 69,
   "metadata": {},
   "outputs": [],
   "source": [
    "comparison_df = pd.DataFrame({'y_actual' : y_test,\n",
    "             'y_predicted' : y_pred})"
   ]
  },
  {
   "cell_type": "code",
   "execution_count": 70,
   "metadata": {},
   "outputs": [],
   "source": [
    "mismatch_df = comparison_df[comparison_df['y_actual'] != comparison_df['y_predicted']]"
   ]
  },
  {
   "cell_type": "code",
   "execution_count": 71,
   "metadata": {},
   "outputs": [
    {
     "name": "stderr",
     "output_type": "stream",
     "text": [
      "/usr/local/lib/python3.7/site-packages/ipykernel_launcher.py:1: FutureWarning: Sorting because non-concatenation axis is not aligned. A future version\n",
      "of pandas will change to not sort by default.\n",
      "\n",
      "To accept the future behavior, pass 'sort=False'.\n",
      "\n",
      "To retain the current behavior and silence the warning, pass 'sort=True'.\n",
      "\n",
      "  \"\"\"Entry point for launching an IPython kernel.\n"
     ]
    }
   ],
   "source": [
    "mismatch2_df = pd.concat([mismatch_df, X_test], axis = 1)"
   ]
  },
  {
   "cell_type": "code",
   "execution_count": 72,
   "metadata": {},
   "outputs": [],
   "source": [
    "# All incorrect predictions with titles\n",
    "\n",
    "mismatches = mismatch2_df.dropna()"
   ]
  },
  {
   "cell_type": "code",
   "execution_count": 73,
   "metadata": {
    "scrolled": true
   },
   "outputs": [
    {
     "data": {
      "text/html": [
       "<div>\n",
       "<style scoped>\n",
       "    .dataframe tbody tr th:only-of-type {\n",
       "        vertical-align: middle;\n",
       "    }\n",
       "\n",
       "    .dataframe tbody tr th {\n",
       "        vertical-align: top;\n",
       "    }\n",
       "\n",
       "    .dataframe thead th {\n",
       "        text-align: right;\n",
       "    }\n",
       "</style>\n",
       "<table border=\"1\" class=\"dataframe\">\n",
       "  <thead>\n",
       "    <tr style=\"text-align: right;\">\n",
       "      <th></th>\n",
       "      <th>y_actual</th>\n",
       "      <th>y_predicted</th>\n",
       "      <th>title</th>\n",
       "    </tr>\n",
       "  </thead>\n",
       "  <tbody>\n",
       "    <tr>\n",
       "      <th>t3_duhm72</th>\n",
       "      <td>nfl</td>\n",
       "      <td>nba</td>\n",
       "      <td>highlight he picked that steven parker just ripped it from him</td>\n",
       "    </tr>\n",
       "    <tr>\n",
       "      <th>t3_duhu9j</th>\n",
       "      <td>nba</td>\n",
       "      <td>nfl</td>\n",
       "      <td>agness pacers without turner bitadze lamb sumner and oladipo in orlando turner played some 4 on 4 this week but more time is needed to recover</td>\n",
       "    </tr>\n",
       "    <tr>\n",
       "      <th>t3_dui3ai</th>\n",
       "      <td>nfl</td>\n",
       "      <td>nba</td>\n",
       "      <td>highlight hoyer gets destroyered</td>\n",
       "    </tr>\n",
       "    <tr>\n",
       "      <th>t3_duidfw</th>\n",
       "      <td>nba</td>\n",
       "      <td>nfl</td>\n",
       "      <td>ham marvin bagley said there is still no timetable for his return but he s putting in work while recovering from a broken right thumb wednesday will be the 3 week mark of a 4 6 week injury window sounds like he s still 2 weeks out</td>\n",
       "    </tr>\n",
       "    <tr>\n",
       "      <th>t3_duj3ul</th>\n",
       "      <td>nfl</td>\n",
       "      <td>nba</td>\n",
       "      <td>jamal adams mood</td>\n",
       "    </tr>\n",
       "    <tr>\n",
       "      <th>t3_dukcoy</th>\n",
       "      <td>nfl</td>\n",
       "      <td>nba</td>\n",
       "      <td>highlight cmc is stopped at the goal line</td>\n",
       "    </tr>\n",
       "    <tr>\n",
       "      <th>t3_dumo5m</th>\n",
       "      <td>nfl</td>\n",
       "      <td>nba</td>\n",
       "      <td>the snf top gun segment was using the music from hot shots</td>\n",
       "    </tr>\n",
       "    <tr>\n",
       "      <th>t3_dun5r6</th>\n",
       "      <td>nba</td>\n",
       "      <td>nfl</td>\n",
       "      <td>nehm middleton just got kneed in my quad tried to run it off for a second tried to come back here the locker room get it stretched out and i just couldn t do it when i asked if he thought he d be out long he said no and that he was hopeful to be good to go in a couple days</td>\n",
       "    </tr>\n",
       "    <tr>\n",
       "      <th>t3_duuf2q</th>\n",
       "      <td>nfl</td>\n",
       "      <td>nba</td>\n",
       "      <td>what goes into creating nfl redzone</td>\n",
       "    </tr>\n",
       "    <tr>\n",
       "      <th>t3_duuhb3</th>\n",
       "      <td>nfl</td>\n",
       "      <td>nba</td>\n",
       "      <td>nfl what ifs</td>\n",
       "    </tr>\n",
       "    <tr>\n",
       "      <th>t3_duwmh0</th>\n",
       "      <td>nfl</td>\n",
       "      <td>nba</td>\n",
       "      <td>most penalized players in the league</td>\n",
       "    </tr>\n",
       "    <tr>\n",
       "      <th>t3_duwnz6</th>\n",
       "      <td>nfl</td>\n",
       "      <td>nba</td>\n",
       "      <td>odegard only six players in history have led the nfl in sacks and forced fumbles in the same season chanjones55 is vying to be the seventh currently tied 1st in sacks with 11 5 leads in ffs with 5</td>\n",
       "    </tr>\n",
       "    <tr>\n",
       "      <th>t3_duwxt4</th>\n",
       "      <td>nfl</td>\n",
       "      <td>nba</td>\n",
       "      <td>cam jordan at the end of the day we have to turn this tape on and get better asap there is no room for error there is no room for slacking today was not up to our standards and expectations</td>\n",
       "    </tr>\n",
       "    <tr>\n",
       "      <th>t3_dux480</th>\n",
       "      <td>nba</td>\n",
       "      <td>nfl</td>\n",
       "      <td>if you had to guess who do you think will be thought of as the top coaches in the league 10 or 15 years from now</td>\n",
       "    </tr>\n",
       "    <tr>\n",
       "      <th>t3_duxv47</th>\n",
       "      <td>nba</td>\n",
       "      <td>nfl</td>\n",
       "      <td>the top 10 of the 2014 nba draft was truly horrible</td>\n",
       "    </tr>\n",
       "    <tr>\n",
       "      <th>t3_duychd</th>\n",
       "      <td>nfl</td>\n",
       "      <td>nba</td>\n",
       "      <td>who are your top 10 qbs so far this season</td>\n",
       "    </tr>\n",
       "    <tr>\n",
       "      <th>t3_duz1db</th>\n",
       "      <td>nfl</td>\n",
       "      <td>nba</td>\n",
       "      <td>nfl salute to service 2019 commercialization</td>\n",
       "    </tr>\n",
       "    <tr>\n",
       "      <th>t3_dv1oks</th>\n",
       "      <td>nfl</td>\n",
       "      <td>nba</td>\n",
       "      <td>highlight nick bosa pregame workout</td>\n",
       "    </tr>\n",
       "    <tr>\n",
       "      <th>t3_dv2kut</th>\n",
       "      <td>nfl</td>\n",
       "      <td>nba</td>\n",
       "      <td>why does the league make a distinction between encroachment and a neutral zone infraction</td>\n",
       "    </tr>\n",
       "    <tr>\n",
       "      <th>t3_dv2twe</th>\n",
       "      <td>nba</td>\n",
       "      <td>nfl</td>\n",
       "      <td>how bias are the home team announcers typically</td>\n",
       "    </tr>\n",
       "    <tr>\n",
       "      <th>t3_dv4kq3</th>\n",
       "      <td>nfl</td>\n",
       "      <td>nba</td>\n",
       "      <td>highlight kittle loving what he sees</td>\n",
       "    </tr>\n",
       "    <tr>\n",
       "      <th>t3_dv4nks</th>\n",
       "      <td>nba</td>\n",
       "      <td>nfl</td>\n",
       "      <td>did dallas ultimately win the dwight powell trade</td>\n",
       "    </tr>\n",
       "    <tr>\n",
       "      <th>t3_dv5ke6</th>\n",
       "      <td>nba</td>\n",
       "      <td>nfl</td>\n",
       "      <td>highlight now steve kerr is given a technical for disagreeing with the kick ball call</td>\n",
       "    </tr>\n",
       "    <tr>\n",
       "      <th>t3_dva38v</th>\n",
       "      <td>nfl</td>\n",
       "      <td>nba</td>\n",
       "      <td>official r nfl sidebar contest</td>\n",
       "    </tr>\n",
       "    <tr>\n",
       "      <th>t3_dvbvjf</th>\n",
       "      <td>nfl</td>\n",
       "      <td>nba</td>\n",
       "      <td>of the teams with 2 or less wins right now who is most likely to be holding the lombardi trophy in 5 years</td>\n",
       "    </tr>\n",
       "    <tr>\n",
       "      <th>t3_dvbwqo</th>\n",
       "      <td>nfl</td>\n",
       "      <td>nba</td>\n",
       "      <td>crabbs lmao who is responsible for this exchange with flores</td>\n",
       "    </tr>\n",
       "    <tr>\n",
       "      <th>t3_dveeq4</th>\n",
       "      <td>nba</td>\n",
       "      <td>nfl</td>\n",
       "      <td>most least fun non playoff teams to watch over the last 10 years</td>\n",
       "    </tr>\n",
       "    <tr>\n",
       "      <th>t3_dvjz19</th>\n",
       "      <td>nba</td>\n",
       "      <td>nfl</td>\n",
       "      <td>nba all bench defense team</td>\n",
       "    </tr>\n",
       "    <tr>\n",
       "      <th>t3_dvn4gi</th>\n",
       "      <td>nfl</td>\n",
       "      <td>nba</td>\n",
       "      <td>who has been the worst 2019 fa signing this far</td>\n",
       "    </tr>\n",
       "    <tr>\n",
       "      <th>t3_dvp93l</th>\n",
       "      <td>nba</td>\n",
       "      <td>nfl</td>\n",
       "      <td>post up play by big men seems to be frowned on now and i miss some of it</td>\n",
       "    </tr>\n",
       "    <tr>\n",
       "      <th>t3_dvrgg3</th>\n",
       "      <td>nfl</td>\n",
       "      <td>nba</td>\n",
       "      <td>the 2019 espn playoff machine is live</td>\n",
       "    </tr>\n",
       "    <tr>\n",
       "      <th>t3_dvsiwx</th>\n",
       "      <td>nfl</td>\n",
       "      <td>nba</td>\n",
       "      <td>the rise and fall of one game wonder jonas gray</td>\n",
       "    </tr>\n",
       "  </tbody>\n",
       "</table>\n",
       "</div>"
      ],
      "text/plain": [
       "          y_actual y_predicted  \\\n",
       "t3_duhm72      nfl         nba   \n",
       "t3_duhu9j      nba         nfl   \n",
       "t3_dui3ai      nfl         nba   \n",
       "t3_duidfw      nba         nfl   \n",
       "t3_duj3ul      nfl         nba   \n",
       "t3_dukcoy      nfl         nba   \n",
       "t3_dumo5m      nfl         nba   \n",
       "t3_dun5r6      nba         nfl   \n",
       "t3_duuf2q      nfl         nba   \n",
       "t3_duuhb3      nfl         nba   \n",
       "t3_duwmh0      nfl         nba   \n",
       "t3_duwnz6      nfl         nba   \n",
       "t3_duwxt4      nfl         nba   \n",
       "t3_dux480      nba         nfl   \n",
       "t3_duxv47      nba         nfl   \n",
       "t3_duychd      nfl         nba   \n",
       "t3_duz1db      nfl         nba   \n",
       "t3_dv1oks      nfl         nba   \n",
       "t3_dv2kut      nfl         nba   \n",
       "t3_dv2twe      nba         nfl   \n",
       "t3_dv4kq3      nfl         nba   \n",
       "t3_dv4nks      nba         nfl   \n",
       "t3_dv5ke6      nba         nfl   \n",
       "t3_dva38v      nfl         nba   \n",
       "t3_dvbvjf      nfl         nba   \n",
       "t3_dvbwqo      nfl         nba   \n",
       "t3_dveeq4      nba         nfl   \n",
       "t3_dvjz19      nba         nfl   \n",
       "t3_dvn4gi      nfl         nba   \n",
       "t3_dvp93l      nba         nfl   \n",
       "t3_dvrgg3      nfl         nba   \n",
       "t3_dvsiwx      nfl         nba   \n",
       "\n",
       "                                                                                                                                                                                                                                                                                       title  \n",
       "t3_duhm72                                                                                                                                                                                                                     highlight he picked that steven parker just ripped it from him  \n",
       "t3_duhu9j                                                                                                                                     agness pacers without turner bitadze lamb sumner and oladipo in orlando turner played some 4 on 4 this week but more time is needed to recover  \n",
       "t3_dui3ai                                                                                                                                                                                                                                                   highlight hoyer gets destroyered  \n",
       "t3_duidfw                                             ham marvin bagley said there is still no timetable for his return but he s putting in work while recovering from a broken right thumb wednesday will be the 3 week mark of a 4 6 week injury window sounds like he s still 2 weeks out  \n",
       "t3_duj3ul                                                                                                                                                                                                                                                                   jamal adams mood  \n",
       "t3_dukcoy                                                                                                                                                                                                                                          highlight cmc is stopped at the goal line  \n",
       "t3_dumo5m                                                                                                                                                                                                                         the snf top gun segment was using the music from hot shots  \n",
       "t3_dun5r6  nehm middleton just got kneed in my quad tried to run it off for a second tried to come back here the locker room get it stretched out and i just couldn t do it when i asked if he thought he d be out long he said no and that he was hopeful to be good to go in a couple days  \n",
       "t3_duuf2q                                                                                                                                                                                                                                                what goes into creating nfl redzone  \n",
       "t3_duuhb3                                                                                                                                                                                                                                                                       nfl what ifs  \n",
       "t3_duwmh0                                                                                                                                                                                                                                               most penalized players in the league  \n",
       "t3_duwnz6                                                                               odegard only six players in history have led the nfl in sacks and forced fumbles in the same season chanjones55 is vying to be the seventh currently tied 1st in sacks with 11 5 leads in ffs with 5  \n",
       "t3_duwxt4                                                                                      cam jordan at the end of the day we have to turn this tape on and get better asap there is no room for error there is no room for slacking today was not up to our standards and expectations  \n",
       "t3_dux480                                                                                                                                                                   if you had to guess who do you think will be thought of as the top coaches in the league 10 or 15 years from now  \n",
       "t3_duxv47                                                                                                                                                                                                                                the top 10 of the 2014 nba draft was truly horrible  \n",
       "t3_duychd                                                                                                                                                                                                                                         who are your top 10 qbs so far this season  \n",
       "t3_duz1db                                                                                                                                                                                                                                       nfl salute to service 2019 commercialization  \n",
       "t3_dv1oks                                                                                                                                                                                                                                                highlight nick bosa pregame workout  \n",
       "t3_dv2kut                                                                                                                                                                                          why does the league make a distinction between encroachment and a neutral zone infraction  \n",
       "t3_dv2twe                                                                                                                                                                                                                                    how bias are the home team announcers typically  \n",
       "t3_dv4kq3                                                                                                                                                                                                                                               highlight kittle loving what he sees  \n",
       "t3_dv4nks                                                                                                                                                                                                                                  did dallas ultimately win the dwight powell trade  \n",
       "t3_dv5ke6                                                                                                                                                                                              highlight now steve kerr is given a technical for disagreeing with the kick ball call  \n",
       "t3_dva38v                                                                                                                                                                                                                                                     official r nfl sidebar contest  \n",
       "t3_dvbvjf                                                                                                                                                                         of the teams with 2 or less wins right now who is most likely to be holding the lombardi trophy in 5 years  \n",
       "t3_dvbwqo                                                                                                                                                                                                                       crabbs lmao who is responsible for this exchange with flores  \n",
       "t3_dveeq4                                                                                                                                                                                                                   most least fun non playoff teams to watch over the last 10 years  \n",
       "t3_dvjz19                                                                                                                                                                                                                                                         nba all bench defense team  \n",
       "t3_dvn4gi                                                                                                                                                                                                                                    who has been the worst 2019 fa signing this far  \n",
       "t3_dvp93l                                                                                                                                                                                                           post up play by big men seems to be frowned on now and i miss some of it  \n",
       "t3_dvrgg3                                                                                                                                                                                                                                              the 2019 espn playoff machine is live  \n",
       "t3_dvsiwx                                                                                                                                                                                                                                    the rise and fall of one game wonder jonas gray  "
      ]
     },
     "execution_count": 73,
     "metadata": {},
     "output_type": "execute_result"
    }
   ],
   "source": [
    "mismatches"
   ]
  },
  {
   "cell_type": "markdown",
   "metadata": {},
   "source": [
    "### Let's try TF-IDF"
   ]
  },
  {
   "cell_type": "markdown",
   "metadata": {},
   "source": [
    "Term Frequency / Inverse Document Frequency\n",
    "\n",
    "TF(w) = (Number of times term w appears in a document) / (Total number of terms in the document)\n",
    "\n",
    "IDF(w) = log_e(Total number of documents / Number of documents with term w in it)"
   ]
  },
  {
   "cell_type": "code",
   "execution_count": 76,
   "metadata": {},
   "outputs": [],
   "source": [
    "tfidf_vec = TfidfVectorizer(analyzer=\"word\",\n",
    "                            tokenizer=None,\n",
    "                            preprocessor=None,\n",
    "                            stop_words=stopwords,\n",
    "                            max_features=5000,\n",
    "                            ngram_range=(1, 3))"
   ]
  },
  {
   "cell_type": "code",
   "execution_count": 77,
   "metadata": {},
   "outputs": [
    {
     "data": {
      "text/plain": [
       "((1249, 5000), (417, 5000))"
      ]
     },
     "execution_count": 77,
     "metadata": {},
     "output_type": "execute_result"
    }
   ],
   "source": [
    "train_data_features = tfidf_vec.fit_transform(clean_train_data)\n",
    "\n",
    "test_data_features = tfidf_vec.transform(clean_test_data)\n",
    "\n",
    "train_data_features = train_data_features.toarray()\n",
    "\n",
    "train_data_features.shape, test_data_features.shape"
   ]
  },
  {
   "cell_type": "code",
   "execution_count": 78,
   "metadata": {},
   "outputs": [
    {
     "name": "stderr",
     "output_type": "stream",
     "text": [
      "/usr/local/lib/python3.7/site-packages/sklearn/linear_model/logistic.py:432: FutureWarning: Default solver will be changed to 'lbfgs' in 0.22. Specify a solver to silence this warning.\n",
      "  FutureWarning)\n"
     ]
    },
    {
     "data": {
      "text/plain": [
       "LogisticRegression(C=1.0, class_weight=None, dual=False, fit_intercept=True,\n",
       "                   intercept_scaling=1, l1_ratio=None, max_iter=100,\n",
       "                   multi_class='warn', n_jobs=None, penalty='l2',\n",
       "                   random_state=None, solver='warn', tol=0.0001, verbose=0,\n",
       "                   warm_start=False)"
      ]
     },
     "execution_count": 78,
     "metadata": {},
     "output_type": "execute_result"
    }
   ],
   "source": [
    "lr.fit(train_data_features, y_train)"
   ]
  },
  {
   "cell_type": "code",
   "execution_count": 79,
   "metadata": {},
   "outputs": [
    {
     "data": {
      "text/plain": [
       "0.9855884707766213"
      ]
     },
     "execution_count": 79,
     "metadata": {},
     "output_type": "execute_result"
    }
   ],
   "source": [
    "lr.score(train_data_features, y_train)"
   ]
  },
  {
   "cell_type": "code",
   "execution_count": 80,
   "metadata": {},
   "outputs": [
    {
     "data": {
      "text/plain": [
       "0.9112709832134293"
      ]
     },
     "execution_count": 80,
     "metadata": {},
     "output_type": "execute_result"
    }
   ],
   "source": [
    "lr.score(test_data_features, y_test)"
   ]
  },
  {
   "cell_type": "markdown",
   "metadata": {},
   "source": [
    "### Let's try on some other subreddits"
   ]
  },
  {
   "cell_type": "code",
   "execution_count": 81,
   "metadata": {},
   "outputs": [],
   "source": [
    "train = pd.concat([politics_test, conservative_test])"
   ]
  },
  {
   "cell_type": "code",
   "execution_count": 82,
   "metadata": {},
   "outputs": [],
   "source": [
    "X = train[['title']]\n",
    "y = train['subreddit']"
   ]
  },
  {
   "cell_type": "code",
   "execution_count": 83,
   "metadata": {},
   "outputs": [],
   "source": [
    "# politics_test = scrape_to_df(scraper_bike, 'https://www.reddit.com/r/politics.json')\n",
    "# conservative_test = scrape_to_df(scraper_bike, 'https://www.reddit.com/r/conservative.json')"
   ]
  },
  {
   "cell_type": "code",
   "execution_count": 84,
   "metadata": {},
   "outputs": [],
   "source": [
    "X_train, X_test, y_train, y_test = train_test_split(X, y, random_state = 42, stratify = y)"
   ]
  },
  {
   "cell_type": "code",
   "execution_count": 85,
   "metadata": {},
   "outputs": [],
   "source": [
    "politics_test = politics_test.drop(columns='selftext')\n",
    "conservative_test = conservative_test.drop(columns='selftext')\n",
    "\n",
    "train = pd.concat([politics_test, conservative_test])\n",
    "tokenizer = RegexpTokenizer(r'\\w+')\n",
    "\n",
    "train['title'] = train['title'].map(lambda x: tokenizer.tokenize(x.lower()))\n",
    "train['title'] = train['title'].map(lambda x: ' '.join(x))"
   ]
  },
  {
   "cell_type": "code",
   "execution_count": 86,
   "metadata": {},
   "outputs": [],
   "source": [
    "# create our training data list - this is a list of strings, with each string being a post title\n",
    "\n",
    "clean_train_data = []\n",
    "\n",
    "for traindata in X_train['title']:\n",
    "    clean_train_data.append(traindata)\n",
    "    \n",
    "    \n",
    "# create test data list\n",
    "\n",
    "clean_test_data = []\n",
    "\n",
    "for testdata in X_test['title']:\n",
    "    clean_test_data.append(testdata)"
   ]
  },
  {
   "cell_type": "code",
   "execution_count": 87,
   "metadata": {},
   "outputs": [],
   "source": [
    "vectorizer = CountVectorizer(analyzer=\"word\",\n",
    "                             tokenizer=None,\n",
    "                             preprocessor=None,\n",
    "                             stop_words='english',\n",
    "                             max_features=5000,\n",
    "                             ngram_range=(1, 3))\n",
    "\n",
    "train_data_features = vectorizer.fit_transform(clean_train_data)\n",
    "\n",
    "test_data_features = vectorizer.transform(clean_test_data)\n",
    "\n",
    "train_data_features = train_data_features.toarray()\n",
    "\n",
    "train_data_features.shape, test_data_features.shape\n",
    "\n",
    "vocab = vectorizer.get_feature_names()"
   ]
  },
  {
   "cell_type": "code",
   "execution_count": 95,
   "metadata": {},
   "outputs": [],
   "source": [
    "df = pd.DataFrame(train_data_features, columns=vocab)"
   ]
  },
  {
   "cell_type": "code",
   "execution_count": 98,
   "metadata": {},
   "outputs": [
    {
     "data": {
      "text/plain": [
       "419"
      ]
     },
     "execution_count": 98,
     "metadata": {},
     "output_type": "execute_result"
    }
   ],
   "source": [
    "df.trump.sum()"
   ]
  },
  {
   "cell_type": "code",
   "execution_count": 88,
   "metadata": {},
   "outputs": [
    {
     "data": {
      "text/plain": [
       "['000',\n",
       " '000 migrant',\n",
       " '000 migrant children',\n",
       " '000 scientists',\n",
       " '000 scientists just',\n",
       " '000 scottish',\n",
       " '000 scottish government',\n",
       " '10',\n",
       " '11',\n",
       " '11 000',\n",
       " '11 000 scientists',\n",
       " '14',\n",
       " '14 million',\n",
       " '14 million jobs',\n",
       " '15',\n",
       " '15 gun',\n",
       " '15 gun maker',\n",
       " '16',\n",
       " '16b',\n",
       " '18',\n",
       " '1st',\n",
       " '20',\n",
       " '20 series',\n",
       " '20 series regular',\n",
       " '2015',\n",
       " '2016',\n",
       " '2017',\n",
       " '2018',\n",
       " '2019',\n",
       " '2020',\n",
       " '2020 democratic',\n",
       " '2020 democratic presidential',\n",
       " '2020 presidential',\n",
       " '2020 presidential campaign',\n",
       " '2020 presidential race',\n",
       " '2025',\n",
       " '21',\n",
       " '21 gun',\n",
       " '21 gun salute',\n",
       " '225',\n",
       " '225 000',\n",
       " '225 000 scottish',\n",
       " '234',\n",
       " '234 000',\n",
       " '25',\n",
       " '30th',\n",
       " '30th anniversary',\n",
       " '3d',\n",
       " '3d printed',\n",
       " '3d printed guns',\n",
       " '40',\n",
       " '41',\n",
       " '41 county',\n",
       " '41 county seized',\n",
       " '470',\n",
       " '70',\n",
       " '70 000',\n",
       " '70 000 migrant',\n",
       " 'abc',\n",
       " 'abc insider',\n",
       " 'abc insider released',\n",
       " 'abc news',\n",
       " 'abc news video',\n",
       " 'abiding',\n",
       " 'able',\n",
       " 'aboard',\n",
       " 'aboard deep',\n",
       " 'aboard deep state',\n",
       " 'abortion',\n",
       " 'abortionist',\n",
       " 'abortions',\n",
       " 'abuse',\n",
       " 'abuse power',\n",
       " 'abusers',\n",
       " 'accept',\n",
       " 'access',\n",
       " 'accidentally',\n",
       " 'accomplishments',\n",
       " 'according',\n",
       " 'accused',\n",
       " 'accuses',\n",
       " 'act',\n",
       " 'acting',\n",
       " 'action',\n",
       " 'actions',\n",
       " 'actions ukraine',\n",
       " 'activist',\n",
       " 'activist eager',\n",
       " 'activist eager impeachment',\n",
       " 'activists',\n",
       " 'actually',\n",
       " 'ad',\n",
       " 'adam',\n",
       " 'adam schiff',\n",
       " 'adam schiff trump',\n",
       " 'added',\n",
       " 'administration',\n",
       " 'admits',\n",
       " 'ads',\n",
       " 'ads trump',\n",
       " 'adviser',\n",
       " 'adviser stephen',\n",
       " 'adviser stephen miller',\n",
       " 'advocates',\n",
       " 'affairs',\n",
       " 'affirmative',\n",
       " 'affirmative action',\n",
       " 'afford',\n",
       " 'ag',\n",
       " 'age',\n",
       " 'agencies',\n",
       " 'agency',\n",
       " 'agenda',\n",
       " 'ahead',\n",
       " 'ahead public',\n",
       " 'ahead public impeachment',\n",
       " 'aid',\n",
       " 'aid ukraine',\n",
       " 'aide',\n",
       " 'aides',\n",
       " 'air',\n",
       " 'al',\n",
       " 'alabama',\n",
       " 'alabama game',\n",
       " 'alan',\n",
       " 'alan dershowitz',\n",
       " 'alex',\n",
       " 'alex vindman',\n",
       " 'alex vindman living',\n",
       " 'alexander',\n",
       " 'alexander vindman',\n",
       " 'alien',\n",
       " 'aliens',\n",
       " 'allegations',\n",
       " 'alleged',\n",
       " 'alleged whistleblower',\n",
       " 'alleged whistleblower aboard',\n",
       " 'allegedly',\n",
       " 'alleges',\n",
       " 'alleges trump',\n",
       " 'alleges trump ukraine',\n",
       " 'allies',\n",
       " 'allow',\n",
       " 'allowed',\n",
       " 'allowing',\n",
       " 'allows',\n",
       " 'allows sandy',\n",
       " 'allows sandy hook',\n",
       " 'alt',\n",
       " 'alt right',\n",
       " 'alt right radical',\n",
       " 'amazon',\n",
       " 'ambassador',\n",
       " 'amendment',\n",
       " 'america',\n",
       " 'america election',\n",
       " 'american',\n",
       " 'american democracy',\n",
       " 'americans',\n",
       " 'americans say',\n",
       " 'amid',\n",
       " 'amp',\n",
       " 'amy',\n",
       " 'amy robach',\n",
       " 'analysis',\n",
       " 'analyst',\n",
       " 'analyst andrew',\n",
       " 'analyst andrew napolitano',\n",
       " 'andrew',\n",
       " 'andrew napolitano',\n",
       " 'angry',\n",
       " 'anniversary',\n",
       " 'announce',\n",
       " 'announced',\n",
       " 'announces',\n",
       " 'announces plans',\n",
       " 'announces retirement',\n",
       " 'announces run',\n",
       " 'anonymous',\n",
       " 'anonymous author',\n",
       " 'answer',\n",
       " 'anti',\n",
       " 'anti ice',\n",
       " 'anti impeachment',\n",
       " 'anti trump',\n",
       " 'antifa',\n",
       " 'aoc',\n",
       " 'appeal',\n",
       " 'appear',\n",
       " 'appearance',\n",
       " 'appears',\n",
       " 'applause',\n",
       " 'apple',\n",
       " 'appointed',\n",
       " 'appointed state',\n",
       " 'appointed state department',\n",
       " 'approval',\n",
       " 'ar',\n",
       " 'ar 15',\n",
       " 'ar 15 gun',\n",
       " 'arabia',\n",
       " 'arctic',\n",
       " 'arctic blast',\n",
       " 'aren',\n",
       " 'argue',\n",
       " 'argue trump',\n",
       " 'argument',\n",
       " 'argument whistleblower',\n",
       " 'arguments',\n",
       " 'arizona',\n",
       " 'armed',\n",
       " 'army',\n",
       " 'arrested',\n",
       " 'articles',\n",
       " 'articles impeachment',\n",
       " 'ashley',\n",
       " 'ashley bianco',\n",
       " 'ask',\n",
       " 'asked',\n",
       " 'asks',\n",
       " 'asset',\n",
       " 'associate',\n",
       " 'associate said',\n",
       " 'associate said discussed',\n",
       " 'asylum',\n",
       " 'asylum officer',\n",
       " 'asylum officer blasts',\n",
       " 'atlanta',\n",
       " 'attack',\n",
       " 'attacked',\n",
       " 'attacking',\n",
       " 'attacks',\n",
       " 'attempt',\n",
       " 'attorney',\n",
       " 'attorneys',\n",
       " 'auditioning',\n",
       " 'author',\n",
       " 'authorities',\n",
       " 'authorities horrified',\n",
       " 'authorities horrified woman',\n",
       " 'authority',\n",
       " 'away',\n",
       " 'awkward',\n",
       " 'babies',\n",
       " 'baby',\n",
       " 'baby meth',\n",
       " 'baby meth instead',\n",
       " 'baby trump',\n",
       " 'baby trump balloon',\n",
       " 'backed',\n",
       " 'backers',\n",
       " 'backers got',\n",
       " 'backers got huge',\n",
       " 'bad',\n",
       " 'bailout',\n",
       " 'bailout farmers',\n",
       " 'balloon',\n",
       " 'ballot',\n",
       " 'baltimore',\n",
       " 'ban',\n",
       " 'bank',\n",
       " 'banned',\n",
       " 'bannon',\n",
       " 'bannon says',\n",
       " 'bannon says pelosi',\n",
       " 'barack',\n",
       " 'barack obama',\n",
       " 'barr',\n",
       " 'based',\n",
       " 'battle',\n",
       " 'begin',\n",
       " 'begins',\n",
       " 'behar',\n",
       " 'behavior',\n",
       " 'beliefs',\n",
       " 'believe',\n",
       " 'ben',\n",
       " 'ben shapiro',\n",
       " 'berlin',\n",
       " 'berlin wall',\n",
       " 'bernie',\n",
       " 'bernie sanders',\n",
       " 'bernie sanders 2020',\n",
       " 'best',\n",
       " 'beto',\n",
       " 'betrayal',\n",
       " 'better',\n",
       " 'bevin',\n",
       " 'bevin good',\n",
       " 'bevin good years',\n",
       " 'bianco',\n",
       " 'bid',\n",
       " 'bid end',\n",
       " 'bid end daca',\n",
       " 'bid join',\n",
       " 'biden',\n",
       " 'biden dirt',\n",
       " 'biden ukraine',\n",
       " 'big',\n",
       " 'big deal',\n",
       " 'biggest',\n",
       " 'billion',\n",
       " 'billionaire',\n",
       " 'billionaires',\n",
       " 'bills',\n",
       " 'bipartisan',\n",
       " 'black',\n",
       " 'black leaders',\n",
       " 'black leaders fight',\n",
       " 'black voters',\n",
       " 'blackface',\n",
       " 'blackouts',\n",
       " 'blacks',\n",
       " 'blame',\n",
       " 'blames',\n",
       " 'blast',\n",
       " 'blasts',\n",
       " 'blasts trump',\n",
       " 'blexit',\n",
       " 'block',\n",
       " 'block house',\n",
       " 'blocked',\n",
       " 'bloomberg',\n",
       " 'bloomberg presidential',\n",
       " 'blow',\n",
       " 'blue',\n",
       " 'blueprints',\n",
       " 'blueprints 3d',\n",
       " 'blueprints 3d printed',\n",
       " 'bogus',\n",
       " 'bolivia',\n",
       " 'bolton',\n",
       " 'bombshell',\n",
       " 'bond',\n",
       " 'book',\n",
       " 'booker',\n",
       " 'booker kentucky',\n",
       " 'border',\n",
       " 'border crisis',\n",
       " 'boss',\n",
       " 'boudin',\n",
       " 'brain',\n",
       " 'brain sucking',\n",
       " 'brain sucking device',\n",
       " 'break',\n",
       " 'breaking',\n",
       " 'breitbart',\n",
       " 'bribery',\n",
       " 'brilliant',\n",
       " 'bring',\n",
       " 'bubble',\n",
       " 'buckley',\n",
       " 'buckley jr',\n",
       " 'building',\n",
       " 'building wall',\n",
       " 'burisma',\n",
       " 'burns',\n",
       " 'business',\n",
       " 'busy',\n",
       " 'buttigieg',\n",
       " 'buybacks',\n",
       " 'ca',\n",
       " 'calculated',\n",
       " 'calculated coup',\n",
       " 'california',\n",
       " 'calling',\n",
       " 'calls',\n",
       " 'calls impeachment',\n",
       " 'cameo',\n",
       " 'campaign',\n",
       " 'campus',\n",
       " 'canadian',\n",
       " 'cancel',\n",
       " 'cancel culture',\n",
       " 'cancelled',\n",
       " 'cancels',\n",
       " 'cancels 21',\n",
       " 'cancels 21 gun',\n",
       " 'candidate',\n",
       " 'candidates',\n",
       " 'candidates new',\n",
       " 'candidates new iowa',\n",
       " 'capitalism',\n",
       " 'car',\n",
       " 'care',\n",
       " 'carlson',\n",
       " 'carolina',\n",
       " 'cartel',\n",
       " 'cartels',\n",
       " 'carter',\n",
       " 'case',\n",
       " 'cash',\n",
       " 'cast',\n",
       " 'caucus',\n",
       " 'caucusgoers',\n",
       " 'cbs',\n",
       " 'cbs news',\n",
       " 'cease',\n",
       " 'cease desist',\n",
       " 'census',\n",
       " 'center',\n",
       " 'center security',\n",
       " 'center security policy',\n",
       " 'central',\n",
       " 'ceo',\n",
       " 'challenge',\n",
       " 'challenger',\n",
       " 'chang',\n",
       " 'change',\n",
       " 'changed',\n",
       " 'changes',\n",
       " 'chants',\n",
       " 'chants impeach',\n",
       " 'characters',\n",
       " 'characters lgbtq',\n",
       " 'characters lgbtq 2025',\n",
       " 'charged',\n",
       " 'charged murder',\n",
       " 'charges',\n",
       " 'charity',\n",
       " 'charles',\n",
       " 'charles booker',\n",
       " 'charles booker kentucky',\n",
       " 'check',\n",
       " 'cheers',\n",
       " 'chesa',\n",
       " 'chesa boudin',\n",
       " 'chicago',\n",
       " 'chief',\n",
       " 'chief staff',\n",
       " 'child',\n",
       " 'children',\n",
       " 'children held',\n",
       " 'chile',\n",
       " 'china',\n",
       " 'china tariffs',\n",
       " 'china trade',\n",
       " 'chinese',\n",
       " 'choice',\n",
       " 'chopping',\n",
       " 'chopping baby',\n",
       " 'christians',\n",
       " 'ciaramella',\n",
       " 'circuit',\n",
       " 'cited',\n",
       " 'cites',\n",
       " 'cities',\n",
       " 'citizens',\n",
       " 'citizenship',\n",
       " 'city',\n",
       " 'city proposal',\n",
       " 'civility',\n",
       " 'claim',\n",
       " 'claimed',\n",
       " 'claims',\n",
       " 'claims ivanka',\n",
       " 'claims ivanka created',\n",
       " 'class',\n",
       " 'clear',\n",
       " 'clears',\n",
       " 'clears way',\n",
       " 'clears way newtown',\n",
       " 'climate',\n",
       " 'climate change',\n",
       " 'clinics',\n",
       " 'clinton',\n",
       " 'clinton says',\n",
       " 'close',\n",
       " 'close podcast',\n",
       " 'close podcast deal',\n",
       " 'closer',\n",
       " 'club',\n",
       " 'cnn',\n",
       " 'cold',\n",
       " 'college',\n",
       " 'colored',\n",
       " 'colored pencils',\n",
       " 'com',\n",
       " 'combat',\n",
       " 'combating',\n",
       " 'combating white',\n",
       " 'combating white supremacy',\n",
       " 'come',\n",
       " 'comes',\n",
       " 'coming',\n",
       " 'comment',\n",
       " 'commentary',\n",
       " 'comments',\n",
       " 'committed',\n",
       " 'committee',\n",
       " 'committees',\n",
       " 'committees release',\n",
       " 'common',\n",
       " 'communism',\n",
       " 'communist',\n",
       " 'community',\n",
       " 'community inspector',\n",
       " 'community inspector general',\n",
       " 'companies',\n",
       " 'complained',\n",
       " 'complaint',\n",
       " 'complaint alleges',\n",
       " 'complaint alleges trump',\n",
       " 'complaint filed',\n",
       " 'completely',\n",
       " 'concerned',\n",
       " 'concerns',\n",
       " 'conditions',\n",
       " 'confederate',\n",
       " 'confirmed',\n",
       " 'confirms',\n",
       " 'confirms medicare',\n",
       " 'confirms medicare plan',\n",
       " 'confiscating',\n",
       " 'confiscating guns',\n",
       " 'confiscating guns law',\n",
       " 'confiscation',\n",
       " 'conflict',\n",
       " 'congress',\n",
       " 'congressional',\n",
       " 'congressional seat',\n",
       " 'congressman',\n",
       " 'conservatism',\n",
       " 'conservative',\n",
       " 'conservative values',\n",
       " 'conservatives',\n",
       " 'consider',\n",
       " 'considered',\n",
       " 'considered firing',\n",
       " 'considered firing intelligence',\n",
       " 'conspiracies',\n",
       " 'conspiracy',\n",
       " 'constitution',\n",
       " 'contract',\n",
       " 'control',\n",
       " 'convicted',\n",
       " 'cooper',\n",
       " 'cooperate',\n",
       " 'cops',\n",
       " 'corporate',\n",
       " 'corporate perjury',\n",
       " 'corporate perjury law',\n",
       " 'corrupt',\n",
       " 'corruption',\n",
       " 'cortez',\n",
       " 'cortés',\n",
       " 'cost',\n",
       " 'costs',\n",
       " 'couldn',\n",
       " 'couldn afford',\n",
       " 'coulter',\n",
       " 'count',\n",
       " 'countries',\n",
       " 'country',\n",
       " 'county',\n",
       " 'county seized',\n",
       " 'county seized property',\n",
       " 'coup',\n",
       " 'coup obama',\n",
       " 'coup obama phony',\n",
       " 'coup started',\n",
       " 'course',\n",
       " 'court',\n",
       " 'court allows',\n",
       " 'court allows sandy',\n",
       " 'court appears',\n",
       " 'court clears',\n",
       " 'court clears way',\n",
       " 'court decision',\n",
       " 'court justices',\n",
       " 'court rules',\n",
       " 'court rules suspicionless',\n",
       " 'court stop',\n",
       " 'court stop trump',\n",
       " 'court trump',\n",
       " 'cover',\n",
       " 'cover illegals',\n",
       " 'cover legal',\n",
       " 'cover legal bills',\n",
       " 'coverage',\n",
       " 'coverup',\n",
       " 'create',\n",
       " 'created',\n",
       " 'created 14',\n",
       " 'created 14 million',\n",
       " 'created fake',\n",
       " 'created fake time',\n",
       " 'credible',\n",
       " 'creepy',\n",
       " 'crime',\n",
       " 'crimes',\n",
       " 'criminal',\n",
       " 'criminals',\n",
       " 'crisis',\n",
       " 'criticize',\n",
       " 'critics',\n",
       " 'crowd',\n",
       " 'crowds',\n",
       " 'cuban',\n",
       " 'culture',\n",
       " 'cummings',\n",
       " 'cummings announces',\n",
       " 'cummings widow',\n",
       " 'cure',\n",
       " 'custody',\n",
       " 'custody 2019',\n",
       " 'cut',\n",
       " 'cuts',\n",
       " 'cycling',\n",
       " 'da',\n",
       " 'daca',\n",
       " 'daca case',\n",
       " 'daca protesters',\n",
       " 'daca recipients',\n",
       " 'daca recipients hardened',\n",
       " 'daca supreme',\n",
       " 'daca supreme court',\n",
       " 'danger',\n",
       " 'dangerous',\n",
       " 'dares',\n",
       " 'darkness',\n",
       " 'data',\n",
       " 'daughter',\n",
       " 'day',\n",
       " 'day parade',\n",
       " 'days',\n",
       " 'dc',\n",
       " 'dead',\n",
       " 'deal',\n",
       " 'deal news',\n",
       " 'deal news outlet',\n",
       " 'deal ukraine',\n",
       " 'dealings',\n",
       " 'death',\n",
       " 'debt',\n",
       " 'decision',\n",
       " 'decision end',\n",
       " 'decision end daca',\n",
       " 'declines',\n",
       " 'declines cooperate',\n",
       " 'deep',\n",
       " 'deep state',\n",
       " 'deep state coup',\n",
       " 'deep state exists',\n",
       " 'defeated',\n",
       " 'defend',\n",
       " 'defend trump',\n",
       " 'defender',\n",
       " 'defending',\n",
       " 'defends',\n",
       " 'defense',\n",
       " 'defense trump',\n",
       " 'defenses',\n",
       " 'defer',\n",
       " 'deficit',\n",
       " 'dem',\n",
       " 'dem ukraine',\n",
       " 'dem ukraine activist',\n",
       " 'demanding',\n",
       " 'demands',\n",
       " 'democracy',\n",
       " 'democracy dies',\n",
       " 'democracy dies darkness',\n",
       " 'democrat',\n",
       " 'democratic',\n",
       " 'democratic candidates',\n",
       " 'democratic presidential',\n",
       " 'democratic primary',\n",
       " 'democrats',\n",
       " 'democrats bolton',\n",
       " 'democrats explain',\n",
       " 'democrats explain impeachment',\n",
       " 'democrats impeachment',\n",
       " 'democrats release',\n",
       " 'dems',\n",
       " 'denies',\n",
       " 'department',\n",
       " 'department official',\n",
       " 'depend',\n",
       " 'depends',\n",
       " 'deportation',\n",
       " 'deportations',\n",
       " 'deported',\n",
       " 'deporting',\n",
       " 'deposition',\n",
       " 'depositions',\n",
       " 'dept',\n",
       " 'dershowitz',\n",
       " 'desantis',\n",
       " 'deserve',\n",
       " 'desist',\n",
       " 'despite',\n",
       " 'destroy',\n",
       " 'destroying',\n",
       " 'details',\n",
       " 'detained',\n",
       " 'device',\n",
       " 'dhs',\n",
       " 'dictators',\n",
       " 'did',\n",
       " 'didn',\n",
       " 'died',\n",
       " 'dies',\n",
       " 'dies darkness',\n",
       " 'different',\n",
       " 'digital',\n",
       " 'dinner',\n",
       " 'dinosaur',\n",
       " 'diplomat',\n",
       " 'diplomats',\n",
       " 'directed',\n",
       " 'directed freeze',\n",
       " 'directed freeze aid',\n",
       " 'dirt',\n",
       " 'disaster',\n",
       " 'discussed',\n",
       " 'discussed ukraine',\n",
       " 'discussed ukraine trump',\n",
       " 'discussion',\n",
       " 'dismisses',\n",
       " 'dismisses president',\n",
       " 'dismisses thanksgiving',\n",
       " 'dismisses thanksgiving problematic',\n",
       " 'dismisses trump',\n",
       " 'dismisses trump lawsuit',\n",
       " 'district',\n",
       " 'district attorney',\n",
       " 'divided',\n",
       " 'dna',\n",
       " 'document',\n",
       " 'documents',\n",
       " 'does',\n",
       " 'doesn',\n",
       " 'dog',\n",
       " 'doing',\n",
       " 'doj',\n",
       " 'don',\n",
       " 'don trump',\n",
       " 'don trump jr',\n",
       " 'donald',\n",
       " 'donald trump',\n",
       " 'donald trump firm',\n",
       " 'donald trump jr',\n",
       " 'donations',\n",
       " 'donor',\n",
       " 'donor dinner',\n",
       " 'double',\n",
       " 'drag',\n",
       " 'draws',\n",
       " 'dreamers',\n",
       " 'drive',\n",
       " 'dropped',\n",
       " 'drops',\n",
       " 'drug',\n",
       " 'drug legalization',\n",
       " 'drug legalization hugs',\n",
       " 'dumb',\n",
       " 'dump',\n",
       " 'durham',\n",
       " 'eager',\n",
       " 'eager impeachment',\n",
       " 'eager impeachment cameo',\n",
       " 'early',\n",
       " 'early voting',\n",
       " 'east',\n",
       " 'east germany',\n",
       " 'echo',\n",
       " 'echoes',\n",
       " 'economic',\n",
       " 'economy',\n",
       " 'education',\n",
       " 'effort',\n",
       " 'elected',\n",
       " 'election',\n",
       " 'election results',\n",
       " 'elections',\n",
       " 'elijah',\n",
       " 'elijah cummings',\n",
       " 'elijah cummings widow',\n",
       " 'elites',\n",
       " 'elizabeth',\n",
       " 'elizabeth warren',\n",
       " 'elizabeth warren confirms',\n",
       " 'elizabeth warren wants',\n",
       " 'email',\n",
       " 'emails',\n",
       " 'emails breitbart',\n",
       " 'emails stephen',\n",
       " 'emails stephen miller',\n",
       " 'embellished',\n",
       " 'embellished resume',\n",
       " 'emergency',\n",
       " 'emphasizing',\n",
       " 'employee',\n",
       " 'employees',\n",
       " 'end',\n",
       " 'end daca',\n",
       " 'ending',\n",
       " 'ends',\n",
       " 'energy',\n",
       " 'enter',\n",
       " 'enter 2020',\n",
       " 'entire',\n",
       " 'environmental',\n",
       " 'epa',\n",
       " 'epic',\n",
       " 'epstein',\n",
       " 'epstein coverup',\n",
       " 'epstein tape',\n",
       " 'epstein weinstein',\n",
       " 'epstein weinstein kavanaugh',\n",
       " 'erdogan',\n",
       " 'erdogan despite',\n",
       " 'erdoğan',\n",
       " 'eric',\n",
       " 'eric ciaramella',\n",
       " 'eric holder',\n",
       " 'essentially',\n",
       " 'europe',\n",
       " 'european',\n",
       " 'eve',\n",
       " 'event',\n",
       " 'evidence',\n",
       " 'ex',\n",
       " 'ex aide',\n",
       " 'ex felons',\n",
       " 'executive',\n",
       " 'executive privilege',\n",
       " 'exists',\n",
       " 'exists corrupt',\n",
       " 'exit',\n",
       " 'expand',\n",
       " 'expect',\n",
       " 'expected',\n",
       " 'expert',\n",
       " 'experts',\n",
       " 'explain',\n",
       " 'explain impeachment',\n",
       " 'explain impeachment farce',\n",
       " 'expose',\n",
       " 'exposes',\n",
       " 'exxon',\n",
       " 'eyes',\n",
       " 'face',\n",
       " 'face limits',\n",
       " 'face limits power',\n",
       " 'facebook',\n",
       " 'facebook removes',\n",
       " 'faces',\n",
       " 'facing',\n",
       " 'fact',\n",
       " 'fail',\n",
       " 'failed',\n",
       " 'fails',\n",
       " 'failures',\n",
       " 'fair',\n",
       " 'fake',\n",
       " 'fake time',\n",
       " 'fake time cover',\n",
       " 'fake time magazine',\n",
       " 'faked',\n",
       " 'faked time',\n",
       " 'fall',\n",
       " 'fall berlin',\n",
       " 'fall berlin wall',\n",
       " 'false',\n",
       " 'familiar',\n",
       " 'families',\n",
       " 'families sue',\n",
       " 'families sue ar',\n",
       " 'families sue remington',\n",
       " 'family',\n",
       " 'family idea',\n",
       " 'far',\n",
       " 'far left',\n",
       " 'far right',\n",
       " 'farce',\n",
       " 'farmers',\n",
       " 'fast',\n",
       " 'fbi',\n",
       " 'fear',\n",
       " 'fear trump',\n",
       " 'fears',\n",
       " 'fed',\n",
       " 'federal',\n",
       " 'federal court',\n",
       " 'federal court rules',\n",
       " 'federal judge',\n",
       " 'federal judge dismisses',\n",
       " 'feds',\n",
       " 'fellow',\n",
       " 'felons',\n",
       " 'female',\n",
       " 'feminist',\n",
       " 'fiction',\n",
       " 'field',\n",
       " 'field iowa',\n",
       " 'fight',\n",
       " 'fight conservative',\n",
       " 'fight conservative values',\n",
       " 'file',\n",
       " 'filed',\n",
       " 'filled',\n",
       " 'film',\n",
       " 'final',\n",
       " 'finally',\n",
       " 'financial',\n",
       " 'finding',\n",
       " 'finds',\n",
       " 'fired',\n",
       " 'fires',\n",
       " 'firing',\n",
       " 'firing intelligence',\n",
       " 'firing intelligence community',\n",
       " 'firm',\n",
       " 'firm pay',\n",
       " 'firm pay 225',\n",
       " 'fiscally',\n",
       " 'fitness',\n",
       " 'fitness office',\n",
       " 'fix',\n",
       " 'fled',\n",
       " 'fleeing',\n",
       " 'flip',\n",
       " 'florida',\n",
       " 'flynn',\n",
       " 'focus',\n",
       " 'focus trump',\n",
       " 'follow',\n",
       " 'food',\n",
       " 'food holiday',\n",
       " 'food holiday mocks',\n",
       " 'foreign',\n",
       " 'foreign policy',\n",
       " 'forward',\n",
       " 'fossil',\n",
       " 'fossil fuel',\n",
       " 'foundation',\n",
       " 'fox',\n",
       " 'fox news',\n",
       " 'fox news legal',\n",
       " 'francisco',\n",
       " 'francisco new',\n",
       " 'francisco new da',\n",
       " 'fraud',\n",
       " 'free',\n",
       " 'free speech',\n",
       " 'freedom',\n",
       " 'frees',\n",
       " 'freeze',\n",
       " 'freeze aid',\n",
       " 'freeze aid ukraine',\n",
       " 'friday',\n",
       " 'fuel',\n",
       " 'fumes',\n",
       " 'funds',\n",
       " 'future',\n",
       " 'gabbard',\n",
       " 'game',\n",
       " 'gap',\n",
       " 'gas',\n",
       " 'gas deal',\n",
       " 'gas deal ukraine',\n",
       " 'gates',\n",
       " 'gender',\n",
       " 'gender inclusive',\n",
       " 'general',\n",
       " 'george',\n",
       " 'george kent',\n",
       " 'germany',\n",
       " 'gets',\n",
       " 'getting',\n",
       " 'gift',\n",
       " 'gingrich',\n",
       " 'girl',\n",
       " 'giuliani',\n",
       " 'giuliani associate',\n",
       " 'giuliani associate said',\n",
       " 'giuliani close',\n",
       " 'giuliani close podcast',\n",
       " 'gives',\n",
       " 'giving',\n",
       " 'glaad',\n",
       " 'glaad want',\n",
       " 'glaad want 20',\n",
       " 'global',\n",
       " 'global warming',\n",
       " 'goes',\n",
       " 'going',\n",
       " 'gone',\n",
       " 'gonna',\n",
       " 'good',\n",
       " 'good years',\n",
       " 'good years likely',\n",
       " 'google',\n",
       " 'gop',\n",
       " 'gop group',\n",
       " 'gop impeachment',\n",
       " 'gop memo',\n",
       " 'gop rep',\n",
       " ...]"
      ]
     },
     "execution_count": 88,
     "metadata": {},
     "output_type": "execute_result"
    }
   ],
   "source": [
    "vocab"
   ]
  },
  {
   "cell_type": "markdown",
   "metadata": {},
   "source": [
    "### Modeling"
   ]
  },
  {
   "cell_type": "code",
   "execution_count": 89,
   "metadata": {},
   "outputs": [],
   "source": [
    "lr = LogisticRegression(penalty = 'l2')"
   ]
  },
  {
   "cell_type": "code",
   "execution_count": 90,
   "metadata": {},
   "outputs": [
    {
     "data": {
      "text/plain": [
       "((1315, 5000), (1315,))"
      ]
     },
     "execution_count": 90,
     "metadata": {},
     "output_type": "execute_result"
    }
   ],
   "source": [
    "train_data_features.shape, y_train.shape"
   ]
  },
  {
   "cell_type": "code",
   "execution_count": 91,
   "metadata": {},
   "outputs": [
    {
     "name": "stderr",
     "output_type": "stream",
     "text": [
      "/usr/local/lib/python3.7/site-packages/sklearn/linear_model/logistic.py:432: FutureWarning: Default solver will be changed to 'lbfgs' in 0.22. Specify a solver to silence this warning.\n",
      "  FutureWarning)\n"
     ]
    },
    {
     "data": {
      "text/plain": [
       "0.9832699619771863"
      ]
     },
     "execution_count": 91,
     "metadata": {},
     "output_type": "execute_result"
    }
   ],
   "source": [
    "lr.fit(train_data_features, y_train)\n",
    "\n",
    "lr.score(train_data_features, y_train)"
   ]
  },
  {
   "cell_type": "code",
   "execution_count": 92,
   "metadata": {},
   "outputs": [
    {
     "data": {
      "text/plain": [
       "0.7585421412300684"
      ]
     },
     "execution_count": 92,
     "metadata": {},
     "output_type": "execute_result"
    }
   ],
   "source": [
    "lr.score(test_data_features, y_test)"
   ]
  },
  {
   "cell_type": "code",
   "execution_count": 93,
   "metadata": {},
   "outputs": [],
   "source": [
    "coef_list = lr.coef_.tolist()\n",
    "\n",
    "coef_list = coef_list[0]"
   ]
  },
  {
   "cell_type": "code",
   "execution_count": 94,
   "metadata": {
    "scrolled": true
   },
   "outputs": [
    {
     "data": {
      "text/html": [
       "<div>\n",
       "<style scoped>\n",
       "    .dataframe tbody tr th:only-of-type {\n",
       "        vertical-align: middle;\n",
       "    }\n",
       "\n",
       "    .dataframe tbody tr th {\n",
       "        vertical-align: top;\n",
       "    }\n",
       "\n",
       "    .dataframe thead th {\n",
       "        text-align: right;\n",
       "    }\n",
       "</style>\n",
       "<table border=\"1\" class=\"dataframe\">\n",
       "  <thead>\n",
       "    <tr style=\"text-align: right;\">\n",
       "      <th></th>\n",
       "      <th>features</th>\n",
       "      <th>coefs</th>\n",
       "    </tr>\n",
       "  </thead>\n",
       "  <tbody>\n",
       "    <tr>\n",
       "      <th>4912</th>\n",
       "      <td>whistleblower</td>\n",
       "      <td>-1.215440</td>\n",
       "    </tr>\n",
       "    <tr>\n",
       "      <th>244</th>\n",
       "      <td>baby</td>\n",
       "      <td>-1.076546</td>\n",
       "    </tr>\n",
       "    <tr>\n",
       "      <th>275</th>\n",
       "      <td>believe</td>\n",
       "      <td>-1.006591</td>\n",
       "    </tr>\n",
       "    <tr>\n",
       "      <th>122</th>\n",
       "      <td>alabama</td>\n",
       "      <td>-0.976421</td>\n",
       "    </tr>\n",
       "    <tr>\n",
       "      <th>4358</th>\n",
       "      <td>schiff</td>\n",
       "      <td>-0.934338</td>\n",
       "    </tr>\n",
       "    <tr>\n",
       "      <th>4657</th>\n",
       "      <td>tillerson</td>\n",
       "      <td>-0.914885</td>\n",
       "    </tr>\n",
       "    <tr>\n",
       "      <th>58</th>\n",
       "      <td>abc</td>\n",
       "      <td>-0.896134</td>\n",
       "    </tr>\n",
       "    <tr>\n",
       "      <th>465</th>\n",
       "      <td>clinton</td>\n",
       "      <td>-0.893849</td>\n",
       "    </tr>\n",
       "    <tr>\n",
       "      <th>1286</th>\n",
       "      <td>jr</td>\n",
       "      <td>-0.850057</td>\n",
       "    </tr>\n",
       "    <tr>\n",
       "      <th>1458</th>\n",
       "      <td>man</td>\n",
       "      <td>-0.840227</td>\n",
       "    </tr>\n",
       "    <tr>\n",
       "      <th>121</th>\n",
       "      <td>al</td>\n",
       "      <td>-0.835479</td>\n",
       "    </tr>\n",
       "    <tr>\n",
       "      <th>674</th>\n",
       "      <td>dems</td>\n",
       "      <td>-0.830316</td>\n",
       "    </tr>\n",
       "    <tr>\n",
       "      <th>909</th>\n",
       "      <td>fired</td>\n",
       "      <td>-0.809245</td>\n",
       "    </tr>\n",
       "    <tr>\n",
       "      <th>1392</th>\n",
       "      <td>liberal</td>\n",
       "      <td>-0.801099</td>\n",
       "    </tr>\n",
       "    <tr>\n",
       "      <th>736</th>\n",
       "      <td>don</td>\n",
       "      <td>-0.790507</td>\n",
       "    </tr>\n",
       "    <tr>\n",
       "      <th>2328</th>\n",
       "      <td>obama</td>\n",
       "      <td>-0.785962</td>\n",
       "    </tr>\n",
       "    <tr>\n",
       "      <th>806</th>\n",
       "      <td>epstein</td>\n",
       "      <td>-0.773700</td>\n",
       "    </tr>\n",
       "    <tr>\n",
       "      <th>663</th>\n",
       "      <td>democrat</td>\n",
       "      <td>-0.770026</td>\n",
       "    </tr>\n",
       "    <tr>\n",
       "      <th>1371</th>\n",
       "      <td>left</td>\n",
       "      <td>-0.755680</td>\n",
       "    </tr>\n",
       "    <tr>\n",
       "      <th>4677</th>\n",
       "      <td>transparency</td>\n",
       "      <td>-0.715649</td>\n",
       "    </tr>\n",
       "    <tr>\n",
       "      <th>4506</th>\n",
       "      <td>state</td>\n",
       "      <td>-0.696035</td>\n",
       "    </tr>\n",
       "    <tr>\n",
       "      <th>1329</th>\n",
       "      <td>labels</td>\n",
       "      <td>-0.693469</td>\n",
       "    </tr>\n",
       "    <tr>\n",
       "      <th>814</th>\n",
       "      <td>eric</td>\n",
       "      <td>-0.693041</td>\n",
       "    </tr>\n",
       "    <tr>\n",
       "      <th>1232</th>\n",
       "      <td>interesting</td>\n",
       "      <td>-0.666046</td>\n",
       "    </tr>\n",
       "    <tr>\n",
       "      <th>4498</th>\n",
       "      <td>staffer</td>\n",
       "      <td>-0.661690</td>\n",
       "    </tr>\n",
       "    <tr>\n",
       "      <th>4289</th>\n",
       "      <td>robert</td>\n",
       "      <td>-0.661256</td>\n",
       "    </tr>\n",
       "    <tr>\n",
       "      <th>4734</th>\n",
       "      <td>trump jr</td>\n",
       "      <td>-0.652269</td>\n",
       "    </tr>\n",
       "    <tr>\n",
       "      <th>2904</th>\n",
       "      <td>presidency</td>\n",
       "      <td>-0.646439</td>\n",
       "    </tr>\n",
       "    <tr>\n",
       "      <th>1359</th>\n",
       "      <td>leader</td>\n",
       "      <td>-0.641920</td>\n",
       "    </tr>\n",
       "    <tr>\n",
       "      <th>1273</th>\n",
       "      <td>johnson</td>\n",
       "      <td>-0.631403</td>\n",
       "    </tr>\n",
       "    <tr>\n",
       "      <th>...</th>\n",
       "      <td>...</td>\n",
       "      <td>...</td>\n",
       "    </tr>\n",
       "    <tr>\n",
       "      <th>1211</th>\n",
       "      <td>inequality</td>\n",
       "      <td>0.720885</td>\n",
       "    </tr>\n",
       "    <tr>\n",
       "      <th>1470</th>\n",
       "      <td>matter</td>\n",
       "      <td>0.732574</td>\n",
       "    </tr>\n",
       "    <tr>\n",
       "      <th>1020</th>\n",
       "      <td>group</td>\n",
       "      <td>0.752558</td>\n",
       "    </tr>\n",
       "    <tr>\n",
       "      <th>4656</th>\n",
       "      <td>tied</td>\n",
       "      <td>0.755616</td>\n",
       "    </tr>\n",
       "    <tr>\n",
       "      <th>928</th>\n",
       "      <td>follow</td>\n",
       "      <td>0.759556</td>\n",
       "    </tr>\n",
       "    <tr>\n",
       "      <th>897</th>\n",
       "      <td>fight</td>\n",
       "      <td>0.763197</td>\n",
       "    </tr>\n",
       "    <tr>\n",
       "      <th>1396</th>\n",
       "      <td>lie</td>\n",
       "      <td>0.770926</td>\n",
       "    </tr>\n",
       "    <tr>\n",
       "      <th>4351</th>\n",
       "      <td>says</td>\n",
       "      <td>0.772574</td>\n",
       "    </tr>\n",
       "    <tr>\n",
       "      <th>4346</th>\n",
       "      <td>say</td>\n",
       "      <td>0.793613</td>\n",
       "    </tr>\n",
       "    <tr>\n",
       "      <th>206</th>\n",
       "      <td>argument</td>\n",
       "      <td>0.825916</td>\n",
       "    </tr>\n",
       "    <tr>\n",
       "      <th>1924</th>\n",
       "      <td>mulvaney</td>\n",
       "      <td>0.828440</td>\n",
       "    </tr>\n",
       "    <tr>\n",
       "      <th>4850</th>\n",
       "      <td>vote</td>\n",
       "      <td>0.839246</td>\n",
       "    </tr>\n",
       "    <tr>\n",
       "      <th>628</th>\n",
       "      <td>deal</td>\n",
       "      <td>0.851080</td>\n",
       "    </tr>\n",
       "    <tr>\n",
       "      <th>811</th>\n",
       "      <td>erdogan</td>\n",
       "      <td>0.877975</td>\n",
       "    </tr>\n",
       "    <tr>\n",
       "      <th>4783</th>\n",
       "      <td>ukraine</td>\n",
       "      <td>0.893910</td>\n",
       "    </tr>\n",
       "    <tr>\n",
       "      <th>331</th>\n",
       "      <td>bolton</td>\n",
       "      <td>0.904775</td>\n",
       "    </tr>\n",
       "    <tr>\n",
       "      <th>589</th>\n",
       "      <td>crime</td>\n",
       "      <td>0.918711</td>\n",
       "    </tr>\n",
       "    <tr>\n",
       "      <th>1241</th>\n",
       "      <td>iowa</td>\n",
       "      <td>0.918759</td>\n",
       "    </tr>\n",
       "    <tr>\n",
       "      <th>1320</th>\n",
       "      <td>king</td>\n",
       "      <td>0.928682</td>\n",
       "    </tr>\n",
       "    <tr>\n",
       "      <th>4674</th>\n",
       "      <td>transcript</td>\n",
       "      <td>0.937002</td>\n",
       "    </tr>\n",
       "    <tr>\n",
       "      <th>1351</th>\n",
       "      <td>lawsuit</td>\n",
       "      <td>0.954381</td>\n",
       "    </tr>\n",
       "    <tr>\n",
       "      <th>518</th>\n",
       "      <td>congress</td>\n",
       "      <td>1.014715</td>\n",
       "    </tr>\n",
       "    <tr>\n",
       "      <th>359</th>\n",
       "      <td>buttigieg</td>\n",
       "      <td>1.031736</td>\n",
       "    </tr>\n",
       "    <tr>\n",
       "      <th>975</th>\n",
       "      <td>giuliani</td>\n",
       "      <td>1.101673</td>\n",
       "    </tr>\n",
       "    <tr>\n",
       "      <th>3904</th>\n",
       "      <td>republican</td>\n",
       "      <td>1.129995</td>\n",
       "    </tr>\n",
       "    <tr>\n",
       "      <th>1287</th>\n",
       "      <td>judge</td>\n",
       "      <td>1.132213</td>\n",
       "    </tr>\n",
       "    <tr>\n",
       "      <th>1179</th>\n",
       "      <td>impeachment</td>\n",
       "      <td>1.161854</td>\n",
       "    </tr>\n",
       "    <tr>\n",
       "      <th>1061</th>\n",
       "      <td>hearings</td>\n",
       "      <td>1.191258</td>\n",
       "    </tr>\n",
       "    <tr>\n",
       "      <th>4688</th>\n",
       "      <td>trump</td>\n",
       "      <td>1.388466</td>\n",
       "    </tr>\n",
       "    <tr>\n",
       "      <th>4330</th>\n",
       "      <td>sanders</td>\n",
       "      <td>1.456385</td>\n",
       "    </tr>\n",
       "  </tbody>\n",
       "</table>\n",
       "<p>5000 rows × 2 columns</p>\n",
       "</div>"
      ],
      "text/plain": [
       "           features     coefs\n",
       "4912  whistleblower -1.215440\n",
       "244            baby -1.076546\n",
       "275         believe -1.006591\n",
       "122         alabama -0.976421\n",
       "4358         schiff -0.934338\n",
       "4657      tillerson -0.914885\n",
       "58              abc -0.896134\n",
       "465         clinton -0.893849\n",
       "1286             jr -0.850057\n",
       "1458            man -0.840227\n",
       "121              al -0.835479\n",
       "674            dems -0.830316\n",
       "909           fired -0.809245\n",
       "1392        liberal -0.801099\n",
       "736             don -0.790507\n",
       "2328          obama -0.785962\n",
       "806         epstein -0.773700\n",
       "663        democrat -0.770026\n",
       "1371           left -0.755680\n",
       "4677   transparency -0.715649\n",
       "4506          state -0.696035\n",
       "1329         labels -0.693469\n",
       "814            eric -0.693041\n",
       "1232    interesting -0.666046\n",
       "4498        staffer -0.661690\n",
       "4289         robert -0.661256\n",
       "4734       trump jr -0.652269\n",
       "2904     presidency -0.646439\n",
       "1359         leader -0.641920\n",
       "1273        johnson -0.631403\n",
       "...             ...       ...\n",
       "1211     inequality  0.720885\n",
       "1470         matter  0.732574\n",
       "1020          group  0.752558\n",
       "4656           tied  0.755616\n",
       "928          follow  0.759556\n",
       "897           fight  0.763197\n",
       "1396            lie  0.770926\n",
       "4351           says  0.772574\n",
       "4346            say  0.793613\n",
       "206        argument  0.825916\n",
       "1924       mulvaney  0.828440\n",
       "4850           vote  0.839246\n",
       "628            deal  0.851080\n",
       "811         erdogan  0.877975\n",
       "4783        ukraine  0.893910\n",
       "331          bolton  0.904775\n",
       "589           crime  0.918711\n",
       "1241           iowa  0.918759\n",
       "1320           king  0.928682\n",
       "4674     transcript  0.937002\n",
       "1351        lawsuit  0.954381\n",
       "518        congress  1.014715\n",
       "359       buttigieg  1.031736\n",
       "975        giuliani  1.101673\n",
       "3904     republican  1.129995\n",
       "1287          judge  1.132213\n",
       "1179    impeachment  1.161854\n",
       "1061       hearings  1.191258\n",
       "4688          trump  1.388466\n",
       "4330        sanders  1.456385\n",
       "\n",
       "[5000 rows x 2 columns]"
      ]
     },
     "execution_count": 94,
     "metadata": {},
     "output_type": "execute_result"
    }
   ],
   "source": [
    "coef_df = pd.DataFrame({'features' : vectorizer.get_feature_names(),\n",
    "                       'coefs' : coef_list})\n",
    "\n",
    "coef_df.sort_values(by = ['coefs'])"
   ]
  },
  {
   "cell_type": "markdown",
   "metadata": {},
   "source": [
    "# Understanding word vectors"
   ]
  },
  {
   "cell_type": "markdown",
   "metadata": {},
   "source": [
    "... for, like, actual poets. By [Allison Parrish](http://www.decontextualize.com/)\n",
    "\n",
    "\n",
    "## Why word vectors?\n",
    "\n",
    "Poetry is, at its core, the art of identifying and manipulating linguistic similarity. I have discovered a truly marvelous proof of this, which this notebook is too narrow to contain. (By which I mean: I will elaborate on this some other time)"
   ]
  },
  {
   "cell_type": "markdown",
   "metadata": {},
   "source": [
    "## Animal similarity and simple linear algebra\n",
    "\n",
    "We'll begin by considering a small subset of English: words for animals. Our task is to be able to write computer programs to find similarities among these words and the creatures they designate. To do this, we might start by making a spreadsheet of some animals and their characteristics. For example:\n",
    "\n",
    "![Animal spreadsheet](http://static.decontextualize.com/snaps/animal-spreadsheet.png)\n",
    "\n",
    "This spreadsheet associates a handful of animals with two numbers: their cuteness and their size, both in a range from zero to one hundred. (The values themselves are simply based on my own judgment. Your taste in cuteness and evaluation of size may differ significantly from mine. As with all data, these data are simply a mirror reflection of the person who collected them.)\n",
    "\n",
    "These values give us everything we need to make determinations about which animals are similar (at least, similar in the properties that we've included in the data). Try to answer the following question: Which animal is most similar to a capybara? You could go through the values one by one and do the math to make that evaluation, but visualizing the data as points in 2-dimensional space makes finding the answer very intuitive:\n",
    "\n",
    "![Animal space](http://static.decontextualize.com/snaps/animal-space.png)\n",
    "\n",
    "The plot shows us that the closest animal to the capybara is the panda bear (again, in terms of its subjective size and cuteness). One way of calculating how \"far apart\" two points are is to find their *Euclidean distance*. (This is simply the length of the line that connects the two points.) For points in two dimensions, Euclidean distance can be calculated with the following Python function:"
   ]
  },
  {
   "cell_type": "code",
   "execution_count": 99,
   "metadata": {},
   "outputs": [],
   "source": [
    "import numpy as np\n",
    "def distance2d(x1, y1, x2, y2):\n",
    "    return np.linalg.norm(np.array([x1, y1])-np.array([x2, y2]))"
   ]
  },
  {
   "cell_type": "markdown",
   "metadata": {},
   "source": [
    "So, the distance between \"capybara\" (70, 30) and \"panda\" (74, 40):"
   ]
  },
  {
   "cell_type": "code",
   "execution_count": 100,
   "metadata": {},
   "outputs": [
    {
     "data": {
      "text/plain": [
       "11.180339887498949"
      ]
     },
     "execution_count": 100,
     "metadata": {},
     "output_type": "execute_result"
    }
   ],
   "source": [
    "distance2d(70, 30, 75, 40) # panda and capybara"
   ]
  },
  {
   "cell_type": "markdown",
   "metadata": {},
   "source": [
    "... is less than the distance between \"tarantula\" and \"elephant\":"
   ]
  },
  {
   "cell_type": "code",
   "execution_count": 101,
   "metadata": {},
   "outputs": [
    {
     "data": {
      "text/plain": [
       "104.0096149401583"
      ]
     },
     "execution_count": 101,
     "metadata": {},
     "output_type": "execute_result"
    }
   ],
   "source": [
    "distance2d(8, 3, 65, 90) # tarantula and elephant"
   ]
  },
  {
   "cell_type": "markdown",
   "metadata": {},
   "source": [
    "Modeling animals in this way has a few other interesting properties. For example, you can pick an arbitrary point in \"animal space\" and then find the animal closest to that point. If you imagine an animal of size 25 and cuteness 30, you can easily look at the space to find the animal that most closely fits that description: the chicken.\n",
    "\n",
    "Reasoning visually, you can also answer questions like: what's halfway between a chicken and an elephant? Simply draw a line from \"elephant\" to \"chicken,\" mark off the midpoint and find the closest animal. (According to our chart, halfway between an elephant and a chicken is a horse.)\n",
    "\n",
    "You can also ask: what's the *difference* between a hamster and a tarantula? According to our plot, it's about seventy five units of cute (and a few units of size).\n",
    "\n",
    "The relationship of \"difference\" is an interesting one, because it allows us to reason about *analogous* relationships. In the chart below, I've drawn an arrow from \"tarantula\" to \"hamster\" (in blue):\n",
    "\n",
    "![Animal analogy](http://static.decontextualize.com/snaps/animal-space-analogy.png)\n",
    "\n",
    "You can understand this arrow as being the *relationship* between a tarantula and a hamster, in terms of their size and cuteness (i.e., hamsters and tarantulas are about the same size, but hamsters are much cuter). In the same diagram, I've also transposed this same arrow (this time in red) so that its origin point is \"chicken.\" The arrow ends closest to \"kitten.\" What we've discovered is that the animal that is about the same size as a chicken but much cuter is... a kitten. To put it in terms of an analogy:\n",
    "\n",
    "    Tarantulas are to hamsters as chickens are to kittens.\n",
    "    \n",
    "A sequence of numbers used to identify a point is called a *vector*, and the kind of math we've been doing so far is called *linear algebra.* (Linear algebra is surprisingly useful across many domains: It's the same kind of math you might do to, e.g., simulate the velocity and acceleration of a sprite in a video game.)\n",
    "\n",
    "A set of vectors that are all part of the same data set is often called a *vector space*. The vector space of animals in this section has two *dimensions*, by which I mean that each vector in the space has two numbers associated with it (i.e., two columns in the spreadsheet). The fact that this space has two dimensions just happens to make it easy to *visualize* the space by drawing a 2D plot. But most vector spaces you'll work with will have more than two dimensions—sometimes many hundreds. In those cases, it's more difficult to visualize the \"space,\" but the math works pretty much the same."
   ]
  },
  {
   "cell_type": "markdown",
   "metadata": {},
   "source": [
    "## Language with vectors: colors\n",
    "\n",
    "So far, so good. We have a system in place—albeit highly subjective—for talking about animals and the words used to name them. I want to talk about another vector space that has to do with language: the vector space of colors.\n",
    "\n",
    "Colors are often represented in computers as vectors with three dimensions: red, green, and blue. Just as with the animals in the previous section, we can use these vectors to answer questions like: which colors are similar? What's the most likely color name for an arbitrarily chosen set of values for red, green and blue? Given the names of two colors, what's the name of those colors' \"average\"?\n",
    "\n",
    "We'll be working with this [color data](https://github.com/dariusk/corpora/blob/master/data/colors/xkcd.json) from the [xkcd color survey](https://blog.xkcd.com/2010/05/03/color-survey-results/). The data relates a color name to the RGB value associated with that color. [Here's a page that shows what the colors look like](https://xkcd.com/color/rgb/). Download the color data and put it in the same directory as this notebook.\n",
    "\n",
    "A few notes before we proceed:\n",
    "\n",
    "* The linear algebra functions implemented below (`addv`, `meanv`, etc.) are slow, potentially inaccurate, and shouldn't be used for \"real\" code—I wrote them so beginner programmers can understand how these kinds of functions work behind the scenes. Use [numpy](http://www.numpy.org/) for fast and accurate math in Python.\n",
    "* If you're interested in perceptually accurate color math in Python, consider using the [colormath library](http://python-colormath.readthedocs.io/en/latest/).\n",
    "\n",
    "Now, import the `json` library and load the color data:"
   ]
  },
  {
   "cell_type": "code",
   "execution_count": 102,
   "metadata": {},
   "outputs": [],
   "source": [
    "import requests"
   ]
  },
  {
   "cell_type": "code",
   "execution_count": 103,
   "metadata": {},
   "outputs": [],
   "source": [
    "resp = requests.get('https://raw.githubusercontent.com/dariusk/corpora/master/data/colors/xkcd.json')\n",
    "color_data = resp.json()"
   ]
  },
  {
   "cell_type": "markdown",
   "metadata": {},
   "source": [
    "The following function converts colors from hex format (`#1a2b3c`) to a tuple of integers:"
   ]
  },
  {
   "cell_type": "code",
   "execution_count": 125,
   "metadata": {},
   "outputs": [],
   "source": [
    "def hex_to_int(s):\n",
    "    return int(s[1:3], 16), int(s[3:5], 16), int(s[5:7], 16)"
   ]
  },
  {
   "cell_type": "markdown",
   "metadata": {},
   "source": [
    "And the following cell creates a dictionary and populates it with mappings from color names to RGB vectors for each color in the data:"
   ]
  },
  {
   "cell_type": "code",
   "execution_count": 126,
   "metadata": {},
   "outputs": [],
   "source": [
    "colors = dict()\n",
    "for item in color_data['colors']:\n",
    "    colors[item[\"color\"]] = hex_to_int(item[\"hex\"])"
   ]
  },
  {
   "cell_type": "markdown",
   "metadata": {},
   "source": [
    "Testing it out:"
   ]
  },
  {
   "cell_type": "code",
   "execution_count": 127,
   "metadata": {},
   "outputs": [
    {
     "data": {
      "text/plain": [
       "(110, 117, 14)"
      ]
     },
     "execution_count": 127,
     "metadata": {},
     "output_type": "execute_result"
    }
   ],
   "source": [
    "colors['olive']"
   ]
  },
  {
   "cell_type": "code",
   "execution_count": 128,
   "metadata": {},
   "outputs": [
    {
     "data": {
      "text/plain": [
       "(229, 0, 0)"
      ]
     },
     "execution_count": 128,
     "metadata": {},
     "output_type": "execute_result"
    }
   ],
   "source": [
    "colors['red']"
   ]
  },
  {
   "cell_type": "code",
   "execution_count": 129,
   "metadata": {},
   "outputs": [
    {
     "data": {
      "text/plain": [
       "(0, 0, 0)"
      ]
     },
     "execution_count": 129,
     "metadata": {},
     "output_type": "execute_result"
    }
   ],
   "source": [
    "colors['black']"
   ]
  },
  {
   "cell_type": "code",
   "execution_count": 130,
   "metadata": {},
   "outputs": [
    {
     "data": {
      "text/plain": [
       "(3, 67, 223)"
      ]
     },
     "execution_count": 130,
     "metadata": {},
     "output_type": "execute_result"
    }
   ],
   "source": [
    "colors['blue']"
   ]
  },
  {
   "cell_type": "code",
   "execution_count": 109,
   "metadata": {},
   "outputs": [
    {
     "data": {
      "text/plain": [
       "dict_keys(['cloudy blue', 'dark pastel green', 'dust', 'electric lime', 'fresh green', 'light eggplant', 'nasty green', 'really light blue', 'tea', 'warm purple', 'yellowish tan', 'cement', 'dark grass green', 'dusty teal', 'grey teal', 'macaroni and cheese', 'pinkish tan', 'spruce', 'strong blue', 'toxic green', 'windows blue', 'blue blue', 'blue with a hint of purple', 'booger', 'bright sea green', 'dark green blue', 'deep turquoise', 'green teal', 'strong pink', 'bland', 'deep aqua', 'lavender pink', 'light moss green', 'light seafoam green', 'olive yellow', 'pig pink', 'deep lilac', 'desert', 'dusty lavender', 'purpley grey', 'purply', 'candy pink', 'light pastel green', 'boring green', 'kiwi green', 'light grey green', 'orange pink', 'tea green', 'very light brown', 'egg shell', 'eggplant purple', 'powder pink', 'reddish grey', 'baby shit brown', 'liliac', 'stormy blue', 'ugly brown', 'custard', 'darkish pink', 'deep brown', 'greenish beige', 'manilla', 'off blue', 'battleship grey', 'browny green', 'bruise', 'kelley green', 'sickly yellow', 'sunny yellow', 'azul', 'darkgreen', 'green/yellow', 'lichen', 'light light green', 'pale gold', 'sun yellow', 'tan green', 'burple', 'butterscotch', 'toupe', 'dark cream', 'indian red', 'light lavendar', 'poison green', 'baby puke green', 'bright yellow green', 'charcoal grey', 'squash', 'cinnamon', 'light pea green', 'radioactive green', 'raw sienna', 'baby purple', 'cocoa', 'light royal blue', 'orangeish', 'rust brown', 'sand brown', 'swamp', 'tealish green', 'burnt siena', 'camo', 'dusk blue', 'fern', 'old rose', 'pale light green', 'peachy pink', 'rosy pink', 'light bluish green', 'light bright green', 'light neon green', 'light seafoam', 'tiffany blue', 'washed out green', 'browny orange', 'nice blue', 'sapphire', 'greyish teal', 'orangey yellow', 'parchment', 'straw', 'very dark brown', 'terracota', 'ugly blue', 'clear blue', 'creme', 'foam green', 'grey/green', 'light gold', 'seafoam blue', 'topaz', 'violet pink', 'wintergreen', 'yellow tan', 'dark fuchsia', 'indigo blue', 'light yellowish green', 'pale magenta', 'rich purple', 'sunflower yellow', 'green/blue', 'leather', 'racing green', 'vivid purple', 'dark royal blue', 'hazel', 'muted pink', 'booger green', 'canary', 'cool grey', 'dark taupe', 'darkish purple', 'true green', 'coral pink', 'dark sage', 'dark slate blue', 'flat blue', 'mushroom', 'rich blue', 'dirty purple', 'greenblue', 'icky green', 'light khaki', 'warm blue', 'dark hot pink', 'deep sea blue', 'carmine', 'dark yellow green', 'pale peach', 'plum purple', 'golden rod', 'neon red', 'old pink', 'very pale blue', 'blood orange', 'grapefruit', 'sand yellow', 'clay brown', 'dark blue grey', 'flat green', 'light green blue', 'warm pink', 'dodger blue', 'gross green', 'ice', 'metallic blue', 'pale salmon', 'sap green', 'algae', 'bluey grey', 'greeny grey', 'highlighter green', 'light light blue', 'light mint', 'raw umber', 'vivid blue', 'deep lavender', 'dull teal', 'light greenish blue', 'mud green', 'pinky', 'red wine', 'shit green', 'tan brown', 'darkblue', 'rosa', 'lipstick', 'pale mauve', 'claret', 'dandelion', 'orangered', 'poop green', 'ruby', 'dark', 'greenish turquoise', 'pastel red', 'piss yellow', 'bright cyan', 'dark coral', 'algae green', 'darkish red', 'reddy brown', 'blush pink', 'camouflage green', 'lawn green', 'putty', 'vibrant blue', 'dark sand', 'purple/blue', 'saffron', 'twilight', 'warm brown', 'bluegrey', 'bubble gum pink', 'duck egg blue', 'greenish cyan', 'petrol', 'royal', 'butter', 'dusty orange', 'off yellow', 'pale olive green', 'orangish', 'leaf', 'light blue grey', 'dried blood', 'lightish purple', 'rusty red', 'lavender blue', 'light grass green', 'light mint green', 'sunflower', 'velvet', 'brick orange', 'lightish red', 'pure blue', 'twilight blue', 'violet red', 'yellowy brown', 'carnation', 'muddy yellow', 'dark seafoam green', 'deep rose', 'dusty red', 'grey/blue', 'lemon lime', 'purple/pink', 'brown yellow', 'purple brown', 'wisteria', 'banana yellow', 'lipstick red', 'water blue', 'brown grey', 'vibrant purple', 'baby green', 'barf green', 'eggshell blue', 'sandy yellow', 'cool green', 'pale', 'blue/grey', 'hot magenta', 'greyblue', 'purpley', 'baby shit green', 'brownish pink', 'dark aquamarine', 'diarrhea', 'light mustard', 'pale sky blue', 'turtle green', 'bright olive', 'dark grey blue', 'greeny brown', 'lemon green', 'light periwinkle', 'seaweed green', 'sunshine yellow', 'ugly purple', 'medium pink', 'puke brown', 'very light pink', 'viridian', 'bile', 'faded yellow', 'very pale green', 'vibrant green', 'bright lime', 'spearmint', 'light aquamarine', 'light sage', 'yellowgreen', 'baby poo', 'dark seafoam', 'deep teal', 'heather', 'rust orange', 'dirty blue', 'fern green', 'bright lilac', 'weird green', 'peacock blue', 'avocado green', 'faded orange', 'grape purple', 'hot green', 'lime yellow', 'mango', 'shamrock', 'bubblegum', 'purplish brown', 'vomit yellow', 'pale cyan', 'key lime', 'tomato red', 'lightgreen', 'merlot', 'night blue', 'purpleish pink', 'apple', 'baby poop green', 'green apple', 'heliotrope', 'yellow/green', 'almost black', 'cool blue', 'leafy green', 'mustard brown', 'dusk', 'dull brown', 'frog green', 'vivid green', 'bright light green', 'fluro green', 'kiwi', 'seaweed', 'navy green', 'ultramarine blue', 'iris', 'pastel orange', 'yellowish orange', 'perrywinkle', 'tealish', 'dark plum', 'pear', 'pinkish orange', 'midnight purple', 'light urple', 'dark mint', 'greenish tan', 'light burgundy', 'turquoise blue', 'ugly pink', 'sandy', 'electric pink', 'muted purple', 'mid green', 'greyish', 'neon yellow', 'banana', 'carnation pink', 'tomato', 'sea', 'muddy brown', 'turquoise green', 'buff', 'fawn', 'muted blue', 'pale rose', 'dark mint green', 'amethyst', 'blue/green', 'chestnut', 'sick green', 'pea', 'rusty orange', 'stone', 'rose red', 'pale aqua', 'deep orange', 'earth', 'mossy green', 'grassy green', 'pale lime green', 'light grey blue', 'pale grey', 'asparagus', 'blueberry', 'purple red', 'pale lime', 'greenish teal', 'caramel', 'deep magenta', 'light peach', 'milk chocolate', 'ocher', 'off green', 'purply pink', 'lightblue', 'dusky blue', 'golden', 'light beige', 'butter yellow', 'dusky purple', 'french blue', 'ugly yellow', 'greeny yellow', 'orangish red', 'shamrock green', 'orangish brown', 'tree green', 'deep violet', 'gunmetal', 'blue/purple', 'cherry', 'sandy brown', 'warm grey', 'dark indigo', 'midnight', 'bluey green', 'grey pink', 'soft purple', 'blood', 'brown red', 'medium grey', 'berry', 'poo', 'purpley pink', 'light salmon', 'snot', 'easter purple', 'light yellow green', 'dark navy blue', 'drab', 'light rose', 'rouge', 'purplish red', 'slime green', 'baby poop', 'irish green', 'pink/purple', 'dark navy', 'greeny blue', 'light plum', 'pinkish grey', 'dirty orange', 'rust red', 'pale lilac', 'orangey red', 'primary blue', 'kermit green', 'brownish purple', 'murky green', 'wheat', 'very dark purple', 'bottle green', 'watermelon', 'deep sky blue', 'fire engine red', 'yellow ochre', 'pumpkin orange', 'pale olive', 'light lilac', 'lightish green', 'carolina blue', 'mulberry', 'shocking pink', 'auburn', 'bright lime green', 'celadon', 'pinkish brown', 'poo brown', 'bright sky blue', 'celery', 'dirt brown', 'strawberry', 'dark lime', 'copper', 'medium brown', 'muted green', \"robin's egg\", 'bright aqua', 'bright lavender', 'ivory', 'very light purple', 'light navy', 'pink red', 'olive brown', 'poop brown', 'mustard green', 'ocean green', 'very dark blue', 'dusty green', 'light navy blue', 'minty green', 'adobe', 'barney', 'jade green', 'bright light blue', 'light lime', 'dark khaki', 'orange yellow', 'ocre', 'maize', 'faded pink', 'british racing green', 'sandstone', 'mud brown', 'light sea green', 'robin egg blue', 'aqua marine', 'dark sea green', 'soft pink', 'orangey brown', 'cherry red', 'burnt yellow', 'brownish grey', 'camel', 'purplish grey', 'marine', 'greyish pink', 'pale turquoise', 'pastel yellow', 'bluey purple', 'canary yellow', 'faded red', 'sepia', 'coffee', 'bright magenta', 'mocha', 'ecru', 'purpleish', 'cranberry', 'darkish green', 'brown orange', 'dusky rose', 'melon', 'sickly green', 'silver', 'purply blue', 'purpleish blue', 'hospital green', 'shit brown', 'mid blue', 'amber', 'easter green', 'soft blue', 'cerulean blue', 'golden brown', 'bright turquoise', 'red pink', 'red purple', 'greyish brown', 'vermillion', 'russet', 'steel grey', 'lighter purple', 'bright violet', 'prussian blue', 'slate green', 'dirty pink', 'dark blue green', 'pine', 'yellowy green', 'dark gold', 'bluish', 'darkish blue', 'dull red', 'pinky red', 'bronze', 'pale teal', 'military green', 'barbie pink', 'bubblegum pink', 'pea soup green', 'dark mustard', 'shit', 'medium purple', 'very dark green', 'dirt', 'dusky pink', 'red violet', 'lemon yellow', 'pistachio', 'dull yellow', 'dark lime green', 'denim blue', 'teal blue', 'lightish blue', 'purpley blue', 'light indigo', 'swamp green', 'brown green', 'dark maroon', 'hot purple', 'dark forest green', 'faded blue', 'drab green', 'light lime green', 'snot green', 'yellowish', 'light blue green', 'bordeaux', 'light mauve', 'ocean', 'marigold', 'muddy green', 'dull orange', 'steel', 'electric purple', 'fluorescent green', 'yellowish brown', 'blush', 'soft green', 'bright orange', 'lemon', 'purple grey', 'acid green', 'pale lavender', 'violet blue', 'light forest green', 'burnt red', 'khaki green', 'cerise', 'faded purple', 'apricot', 'dark olive green', 'grey brown', 'green grey', 'true blue', 'pale violet', 'periwinkle blue', 'light sky blue', 'blurple', 'green brown', 'bluegreen', 'bright teal', 'brownish yellow', 'pea soup', 'forest', 'barney purple', 'ultramarine', 'purplish', 'puke yellow', 'bluish grey', 'dark periwinkle', 'dark lilac', 'reddish', 'light maroon', 'dusty purple', 'terra cotta', 'avocado', 'marine blue', 'teal green', 'slate grey', 'lighter green', 'electric green', 'dusty blue', 'golden yellow', 'bright yellow', 'light lavender', 'umber', 'poop', 'dark peach', 'jungle green', 'eggshell', 'denim', 'yellow brown', 'dull purple', 'chocolate brown', 'wine red', 'neon blue', 'dirty green', 'light tan', 'ice blue', 'cadet blue', 'dark mauve', 'very light blue', 'grey purple', 'pastel pink', 'very light green', 'dark sky blue', 'evergreen', 'dull pink', 'aubergine', 'mahogany', 'reddish orange', 'deep green', 'vomit green', 'purple pink', 'dusty pink', 'faded green', 'camo green', 'pinky purple', 'pink purple', 'brownish red', 'dark rose', 'mud', 'brownish', 'emerald green', 'pale brown', 'dull blue', 'burnt umber', 'medium green', 'clay', 'light aqua', 'light olive green', 'brownish orange', 'dark aqua', 'purplish pink', 'dark salmon', 'greenish grey', 'jade', 'ugly green', 'dark beige', 'emerald', 'pale red', 'light magenta', 'sky', 'light cyan', 'yellow orange', 'reddish purple', 'reddish pink', 'orchid', 'dirty yellow', 'orange red', 'deep red', 'orange brown', 'cobalt blue', 'neon pink', 'rose pink', 'greyish purple', 'raspberry', 'aqua green', 'salmon pink', 'tangerine', 'brownish green', 'red brown', 'greenish brown', 'pumpkin', 'pine green', 'charcoal', 'baby pink', 'cornflower', 'blue violet', 'chocolate', 'greyish green', 'scarlet', 'green yellow', 'dark olive', 'sienna', 'pastel purple', 'terracotta', 'aqua blue', 'sage green', 'blood red', 'deep pink', 'grass', 'moss', 'pastel blue', 'bluish green', 'green blue', 'dark tan', 'greenish blue', 'pale orange', 'vomit', 'forrest green', 'dark lavender', 'dark violet', 'purple blue', 'dark cyan', 'olive drab', 'pinkish', 'cobalt', 'neon purple', 'light turquoise', 'apple green', 'dull green', 'wine', 'powder blue', 'off white', 'electric blue', 'dark turquoise', 'blue purple', 'azure', 'bright red', 'pinkish red', 'cornflower blue', 'light olive', 'grape', 'greyish blue', 'purplish blue', 'yellowish green', 'greenish yellow', 'medium blue', 'dusty rose', 'light violet', 'midnight blue', 'bluish purple', 'red orange', 'dark magenta', 'greenish', 'ocean blue', 'coral', 'cream', 'reddish brown', 'burnt sienna', 'brick', 'sage', 'grey green', 'white', \"robin's egg blue\", 'moss green', 'steel blue', 'eggplant', 'light yellow', 'leaf green', 'light grey', 'puke', 'pinkish purple', 'sea blue', 'pale purple', 'slate blue', 'blue grey', 'hunter green', 'fuchsia', 'crimson', 'pale yellow', 'ochre', 'mustard yellow', 'light red', 'cerulean', 'pale pink', 'deep blue', 'rust', 'light teal', 'slate', 'goldenrod', 'dark yellow', 'dark grey', 'army green', 'grey blue', 'seafoam', 'puce', 'spring green', 'dark orange', 'sand', 'pastel green', 'mint', 'light orange', 'bright pink', 'chartreuse', 'deep purple', 'dark brown', 'taupe', 'pea green', 'puke green', 'kelly green', 'seafoam green', 'blue green', 'khaki', 'burgundy', 'dark teal', 'brick red', 'royal purple', 'plum', 'mint green', 'gold', 'baby blue', 'yellow green', 'bright purple', 'dark red', 'pale blue', 'grass green', 'navy', 'aquamarine', 'burnt orange', 'neon green', 'bright blue', 'rose', 'light pink', 'mustard', 'indigo', 'lime', 'sea green', 'periwinkle', 'dark pink', 'olive green', 'peach', 'pale green', 'light brown', 'hot pink', 'black', 'lilac', 'navy blue', 'royal blue', 'beige', 'salmon', 'olive', 'maroon', 'bright green', 'dark purple', 'mauve', 'forest green', 'aqua', 'cyan', 'tan', 'dark blue', 'lavender', 'turquoise', 'dark green', 'violet', 'light purple', 'lime green', 'grey', 'sky blue', 'yellow', 'magenta', 'light green', 'orange', 'teal', 'light blue', 'red', 'brown', 'pink', 'blue', 'green', 'purple'])"
      ]
     },
     "execution_count": 109,
     "metadata": {},
     "output_type": "execute_result"
    }
   ],
   "source": [
    "colors.keys()"
   ]
  },
  {
   "cell_type": "markdown",
   "metadata": {},
   "source": [
    "### Vector math\n",
    "\n",
    "Before we keep going, we'll need some functions for performing basic vector arithmetic. These functions will work with vectors in spaces of any number of dimensions.\n",
    "\n",
    "The first function returns the Euclidean distance between two points:"
   ]
  },
  {
   "cell_type": "code",
   "execution_count": 111,
   "metadata": {
    "scrolled": true
   },
   "outputs": [
    {
     "data": {
      "text/plain": [
       "100.12991560967181"
      ]
     },
     "execution_count": 111,
     "metadata": {},
     "output_type": "execute_result"
    }
   ],
   "source": [
    "import math\n",
    "def distance(coord1, coord2):\n",
    "    return np.linalg.norm(np.array(coord1)-np.array(coord2))\n",
    "distance([10, 1, 200], [5, 2, 100])"
   ]
  },
  {
   "cell_type": "markdown",
   "metadata": {},
   "source": [
    "The `subtractv` function subtracts one vector from another:"
   ]
  },
  {
   "cell_type": "code",
   "execution_count": 112,
   "metadata": {},
   "outputs": [
    {
     "data": {
      "text/plain": [
       "[5, -1]"
      ]
     },
     "execution_count": 112,
     "metadata": {},
     "output_type": "execute_result"
    }
   ],
   "source": [
    "def subtractv(coord1, coord2):\n",
    "    return list(np.array(coord1) - np.array(coord2))\n",
    "subtractv([10, 1], [5, 2])"
   ]
  },
  {
   "cell_type": "markdown",
   "metadata": {},
   "source": [
    "The `addv` vector adds two vectors together:"
   ]
  },
  {
   "cell_type": "code",
   "execution_count": 113,
   "metadata": {},
   "outputs": [
    {
     "data": {
      "text/plain": [
       "[15, 3]"
      ]
     },
     "execution_count": 113,
     "metadata": {},
     "output_type": "execute_result"
    }
   ],
   "source": [
    "def addv(coord1, coord2):\n",
    "    return list(np.array(coord1) + np.array(coord2))\n",
    "addv([10, 1], [5, 2])"
   ]
  },
  {
   "cell_type": "markdown",
   "metadata": {},
   "source": [
    "And the `meanv` function takes a list of vectors and finds their mean or average:"
   ]
  },
  {
   "cell_type": "code",
   "execution_count": 114,
   "metadata": {},
   "outputs": [
    {
     "data": {
      "text/plain": [
       "[2.0, 2.0]"
      ]
     },
     "execution_count": 114,
     "metadata": {},
     "output_type": "execute_result"
    }
   ],
   "source": [
    "def meanv(coords):\n",
    "    return list(np.mean(coords, axis=0))\n",
    "meanv([[0, 1], [2, 2], [4, 3]])"
   ]
  },
  {
   "cell_type": "markdown",
   "metadata": {},
   "source": [
    "Just as a test, the following cell shows that the distance from \"red\" to \"green\" is greater than the distance from \"red\" to \"pink\":"
   ]
  },
  {
   "cell_type": "code",
   "execution_count": 115,
   "metadata": {},
   "outputs": [
    {
     "data": {
      "text/plain": [
       "True"
      ]
     },
     "execution_count": 115,
     "metadata": {},
     "output_type": "execute_result"
    }
   ],
   "source": [
    "distance(colors['red'], colors['green']) > distance(colors['red'], colors['pink'])"
   ]
  },
  {
   "cell_type": "markdown",
   "metadata": {},
   "source": [
    "### Finding the closest item\n",
    "\n",
    "Just as we wanted to find the animal that most closely matched an arbitrary point in cuteness/size space, we'll want to find the closest color name to an arbitrary point in RGB space. The easiest way to find the closest item to an arbitrary vector is simply to find the distance between the target vector and each item in the space, in turn, then sort the list from closest to farthest. The `closest()` function below does just that. By default, it returns a list of the ten closest items to the given vector.\n",
    "\n",
    "> Note: Calculating \"closest neighbors\" like this is fine for the examples in this notebook, but unmanageably slow for vector spaces of any appreciable size. As your vector space grows, you'll want to move to a faster solution, like SciPy's [kdtree](https://docs.scipy.org/doc/scipy-0.14.0/reference/generated/scipy.spatial.KDTree.html) or [Annoy](https://pypi.python.org/pypi/annoy)."
   ]
  },
  {
   "cell_type": "code",
   "execution_count": 131,
   "metadata": {},
   "outputs": [],
   "source": [
    "def closest(space, coord, n=10):\n",
    "    return sorted(space.keys(), key=lambda x: distance(coord, space[x]))[:n]"
   ]
  },
  {
   "cell_type": "markdown",
   "metadata": {},
   "source": [
    "Testing it out, we can find the ten colors closest to \"red\":"
   ]
  },
  {
   "cell_type": "code",
   "execution_count": 132,
   "metadata": {},
   "outputs": [
    {
     "data": {
      "text/plain": [
       "['white',\n",
       " 'pale grey',\n",
       " 'very light pink',\n",
       " 'off white',\n",
       " 'ice blue',\n",
       " 'very pale blue',\n",
       " 'ice',\n",
       " 'very light blue',\n",
       " 'really light blue',\n",
       " 'eggshell']"
      ]
     },
     "execution_count": 132,
     "metadata": {},
     "output_type": "execute_result"
    }
   ],
   "source": [
    "closest(colors, colors['white'])"
   ]
  },
  {
   "cell_type": "markdown",
   "metadata": {},
   "source": [
    "... or the ten colors closest to (150, 60, 150):"
   ]
  },
  {
   "cell_type": "code",
   "execution_count": 133,
   "metadata": {},
   "outputs": [
    {
     "data": {
      "text/plain": [
       "['warm purple',\n",
       " 'medium purple',\n",
       " 'ugly purple',\n",
       " 'light eggplant',\n",
       " 'purpleish',\n",
       " 'purplish',\n",
       " 'purply',\n",
       " 'light plum',\n",
       " 'purple',\n",
       " 'muted purple']"
      ]
     },
     "execution_count": 133,
     "metadata": {},
     "output_type": "execute_result"
    }
   ],
   "source": [
    "closest(colors, [150, 60, 150])"
   ]
  },
  {
   "cell_type": "markdown",
   "metadata": {},
   "source": [
    "### Color magic\n",
    "\n",
    "The magical part of representing words as vectors is that the vector operations we defined earlier appear to operate on language the same way they operate on numbers. For example, if we find the word closest to the vector resulting from subtracting \"red\" from \"purple,\" we get a series of \"blue\" colors:"
   ]
  },
  {
   "cell_type": "code",
   "execution_count": 134,
   "metadata": {},
   "outputs": [
    {
     "data": {
      "text/plain": [
       "[-105, 146, -130]"
      ]
     },
     "execution_count": 134,
     "metadata": {},
     "output_type": "execute_result"
    }
   ],
   "source": [
    "subtractv(colors['green'], colors['purple'])"
   ]
  },
  {
   "cell_type": "code",
   "execution_count": 135,
   "metadata": {},
   "outputs": [
    {
     "data": {
      "text/plain": [
       "['true green',\n",
       " 'racing green',\n",
       " 'bottle green',\n",
       " 'deep green',\n",
       " 'darkgreen',\n",
       " 'forest',\n",
       " 'emerald green',\n",
       " 'dark green',\n",
       " 'vibrant green',\n",
       " 'british racing green']"
      ]
     },
     "execution_count": 135,
     "metadata": {},
     "output_type": "execute_result"
    }
   ],
   "source": [
    "closest(colors, subtractv(colors['green'], colors['purple']))"
   ]
  },
  {
   "cell_type": "markdown",
   "metadata": {},
   "source": [
    "This matches our intuition about RGB colors, which is that purple is a combination of red and blue. Take away the red, and blue is all you have left.\n",
    "\n",
    "You can do something similar with addition. What's blue plus green?"
   ]
  },
  {
   "cell_type": "code",
   "execution_count": 136,
   "metadata": {},
   "outputs": [
    {
     "data": {
      "text/plain": [
       "[24, 243, 249]"
      ]
     },
     "execution_count": 136,
     "metadata": {},
     "output_type": "execute_result"
    }
   ],
   "source": [
    "addv(colors['blue'], colors['green'])"
   ]
  },
  {
   "cell_type": "code",
   "execution_count": 137,
   "metadata": {},
   "outputs": [
    {
     "data": {
      "text/plain": [
       "(3, 67, 223)"
      ]
     },
     "execution_count": 137,
     "metadata": {},
     "output_type": "execute_result"
    }
   ],
   "source": [
    "colors['blue']"
   ]
  },
  {
   "cell_type": "code",
   "execution_count": 138,
   "metadata": {},
   "outputs": [
    {
     "data": {
      "text/plain": [
       "['bright turquoise',\n",
       " 'bright light blue',\n",
       " 'bright aqua',\n",
       " 'cyan',\n",
       " 'neon blue',\n",
       " 'aqua blue',\n",
       " 'bright cyan',\n",
       " 'bright sky blue',\n",
       " 'aqua',\n",
       " 'bright teal']"
      ]
     },
     "execution_count": 138,
     "metadata": {},
     "output_type": "execute_result"
    }
   ],
   "source": [
    "closest(colors, addv(colors['blue'], colors['green']))"
   ]
  },
  {
   "cell_type": "markdown",
   "metadata": {},
   "source": [
    "That's right, it's something like turquoise or cyan! What if we find the average of black and white? Predictably, we get gray:"
   ]
  },
  {
   "cell_type": "code",
   "execution_count": 139,
   "metadata": {},
   "outputs": [
    {
     "data": {
      "text/plain": [
       "['medium grey',\n",
       " 'purple grey',\n",
       " 'steel grey',\n",
       " 'battleship grey',\n",
       " 'grey purple',\n",
       " 'purplish grey',\n",
       " 'greyish purple',\n",
       " 'steel',\n",
       " 'warm grey',\n",
       " 'green grey']"
      ]
     },
     "execution_count": 139,
     "metadata": {},
     "output_type": "execute_result"
    }
   ],
   "source": [
    "# the average of black and white: medium grey\n",
    "closest(colors, meanv([colors['black'], colors['white']]))"
   ]
  },
  {
   "cell_type": "markdown",
   "metadata": {},
   "source": [
    "Just as with the tarantula/hamster example from the previous section, we can use color vectors to reason about relationships between colors. In the cell below, finding the difference between \"pink\" and \"red\" then adding it to \"blue\" seems to give us a list of colors that are to blue what pink is to red (i.e., a slightly lighter, less saturated shade):"
   ]
  },
  {
   "cell_type": "code",
   "execution_count": 140,
   "metadata": {},
   "outputs": [
    {
     "data": {
      "text/plain": [
       "['neon blue',\n",
       " 'bright sky blue',\n",
       " 'bright light blue',\n",
       " 'cyan',\n",
       " 'bright cyan',\n",
       " 'bright turquoise',\n",
       " 'clear blue',\n",
       " 'azure',\n",
       " 'dodger blue',\n",
       " 'lightish blue']"
      ]
     },
     "execution_count": 140,
     "metadata": {},
     "output_type": "execute_result"
    }
   ],
   "source": [
    "# an analogy: pink is to red as X is to blue\n",
    "pink_to_red = subtractv(colors['pink'], colors['red'])\n",
    "closest(colors, addv(pink_to_red, colors['blue']))"
   ]
  },
  {
   "cell_type": "markdown",
   "metadata": {},
   "source": [
    "Another example of color analogies: Navy is to blue as true green/dark grass green is to green:"
   ]
  },
  {
   "cell_type": "code",
   "execution_count": 141,
   "metadata": {},
   "outputs": [
    {
     "data": {
      "text/plain": [
       "['true green',\n",
       " 'dark grass green',\n",
       " 'grassy green',\n",
       " 'racing green',\n",
       " 'forest',\n",
       " 'bottle green',\n",
       " 'dark olive green',\n",
       " 'darkgreen',\n",
       " 'forrest green',\n",
       " 'grass green']"
      ]
     },
     "execution_count": 141,
     "metadata": {},
     "output_type": "execute_result"
    }
   ],
   "source": [
    "# another example: \n",
    "navy_to_blue = subtractv(colors['navy'], colors['blue'])\n",
    "closest(colors, addv(navy_to_blue, colors['green']))"
   ]
  },
  {
   "cell_type": "markdown",
   "metadata": {},
   "source": [
    "The examples above are fairly simple from a mathematical perspective but nevertheless *feel* magical: they're demonstrating that it's possible to use math to reason about how people use language."
   ]
  },
  {
   "cell_type": "markdown",
   "metadata": {},
   "source": [
    "### Interlude: A Love Poem That Loses Its Way"
   ]
  },
  {
   "cell_type": "code",
   "execution_count": 142,
   "metadata": {},
   "outputs": [
    {
     "name": "stdout",
     "output_type": "stream",
     "text": [
      "Roses are red, violets are blue\n",
      "Roses are fire engine red, violets are bright blue\n",
      "Roses are bright red, violets are vibrant blue\n",
      "Roses are cherry red, violets are blue\n",
      "Roses are red, violets are cerulean blue\n",
      "Roses are cherry, violets are blue\n",
      "Roses are pinkish red, violets are electric blue\n",
      "Roses are pinky red, violets are deep sky blue\n",
      "Roses are pink red, violets are cerulean\n",
      "Roses are neon red, violets are azure\n",
      "Roses are strawberry, violets are bright sky blue\n",
      "Roses are pinkish red, violets are aqua blue\n",
      "Roses are cerise, violets are bright sky blue\n",
      "Roses are pink red, violets are turquoise blue\n"
     ]
    }
   ],
   "source": [
    "import random\n",
    "red = colors['red']\n",
    "blue = colors['blue']\n",
    "for i in range(14):\n",
    "    rednames = closest(colors, red)\n",
    "    bluenames = closest(colors, blue)\n",
    "    print(f\"Roses are {rednames[0]}, violets are {bluenames[0]}\")\n",
    "    red = colors[random.choice(rednames[1:])]\n",
    "    blue = colors[random.choice(bluenames[1:])]"
   ]
  },
  {
   "cell_type": "markdown",
   "metadata": {},
   "source": [
    "### Doing bad digital humanities with color vectors\n",
    "\n",
    "With the tools above in hand, we can start using our vectorized knowledge of language toward academic ends. In the following example, I'm going to calculate the average color of Bram Stoker's *Dracula*.\n",
    "\n",
    "First, we'll load [spaCy](https://spacy.io/):"
   ]
  },
  {
   "cell_type": "code",
   "execution_count": 143,
   "metadata": {},
   "outputs": [],
   "source": [
    "import spacy\n",
    "nlp = spacy.load('en_core_web_sm')"
   ]
  },
  {
   "cell_type": "markdown",
   "metadata": {},
   "source": [
    "To calculate the average color, we'll follow these steps:\n",
    "\n",
    "1. Parse the text into words\n",
    "2. Check every word to see if it names a color in our vector space. If it does, add it to a list of vectors.\n",
    "3. Find the average of that list of vectors.\n",
    "4. Find the color(s) closest to that average vector.\n",
    "\n",
    "The following cell performs steps 1-3:"
   ]
  },
  {
   "cell_type": "code",
   "execution_count": 144,
   "metadata": {},
   "outputs": [
    {
     "name": "stdout",
     "output_type": "stream",
     "text": [
      "[147.44839067702551, 113.65371809100999, 100.13540510543841]\n"
     ]
    }
   ],
   "source": [
    "resp = requests.get('http://www.gutenberg.org/cache/epub/345/pg345.txt')\n",
    "dracula = nlp(resp.text)\n",
    "# use word.lower_ to normalize case\n",
    "drac_colors = [colors[word.lower_] for word in dracula if word.lower_ in colors]\n",
    "avg_color = meanv(drac_colors)\n",
    "print(avg_color)"
   ]
  },
  {
   "cell_type": "markdown",
   "metadata": {},
   "source": [
    "Now, we'll pass the averaged color vector to the `closest()` function, yielding... well, it's just a brown mush, which is kinda what you'd expect from adding a bunch of colors together willy-nilly."
   ]
  },
  {
   "cell_type": "code",
   "execution_count": 145,
   "metadata": {},
   "outputs": [
    {
     "data": {
      "text/plain": [
       "['reddish grey',\n",
       " 'brownish grey',\n",
       " 'brownish',\n",
       " 'brown grey',\n",
       " 'mocha',\n",
       " 'grey brown',\n",
       " 'puce',\n",
       " 'dull brown',\n",
       " 'pinkish brown',\n",
       " 'dark taupe']"
      ]
     },
     "execution_count": 145,
     "metadata": {},
     "output_type": "execute_result"
    }
   ],
   "source": [
    "closest(colors, avg_color)"
   ]
  },
  {
   "cell_type": "markdown",
   "metadata": {},
   "source": [
    "On the other hand, here's what we get when we average the colors of Charlotte Perkins Gilman's classic *The Yellow Wallpaper*. The result definitely reflects the content of the story, so maybe we're on to something here."
   ]
  },
  {
   "cell_type": "code",
   "execution_count": 146,
   "metadata": {},
   "outputs": [
    {
     "data": {
      "text/plain": [
       "['sickly yellow',\n",
       " 'piss yellow',\n",
       " 'puke yellow',\n",
       " 'vomit yellow',\n",
       " 'dirty yellow',\n",
       " 'mustard yellow',\n",
       " 'dark yellow',\n",
       " 'olive yellow',\n",
       " 'macaroni and cheese',\n",
       " 'pea']"
      ]
     },
     "execution_count": 146,
     "metadata": {},
     "output_type": "execute_result"
    }
   ],
   "source": [
    "resp = requests.get('http://www.gutenberg.org/cache/epub/1952/pg1952.txt')\n",
    "yellow = nlp(resp.text)\n",
    "wallpaper_colors = [colors[word.lower_] for word in yellow if word.lower_ in colors]\n",
    "avg_color = meanv(wallpaper_colors)\n",
    "closest(colors, avg_color)"
   ]
  },
  {
   "cell_type": "markdown",
   "metadata": {},
   "source": [
    "Exercise for the reader: Use the vector arithmetic functions to rewrite a text, making it...\n",
    "\n",
    "* more blue (i.e., add `colors['blue']` to each occurrence of a color word); or\n",
    "* more light (i.e., add `colors['white']` to each occurrence of a color word); or\n",
    "* darker (i.e., attenuate each color. You might need to write a vector multiplication function to do this one right.)"
   ]
  },
  {
   "cell_type": "markdown",
   "metadata": {},
   "source": [
    "## Distributional semantics\n",
    "\n",
    "In the previous section, the examples are interesting because of a simple fact: colors that we think of as similar are \"closer\" to each other in RGB vector space. In our color vector space, or in our animal cuteness/size space, you can think of the words identified by vectors close to each other as being *synonyms*, in a sense: they sort of \"mean\" the same thing. They're also, for many purposes, *functionally identical*. Think of this in terms of writing, say, a search engine. If someone searches for \"mauve trousers,\" then it's probably also okay to show them results for, say,"
   ]
  },
  {
   "cell_type": "code",
   "execution_count": null,
   "metadata": {},
   "outputs": [],
   "source": [
    "for cname in closest(colors, colors['mauve']):\n",
    "    print(cname, \"trousers\")"
   ]
  },
  {
   "cell_type": "markdown",
   "metadata": {},
   "source": [
    "That's all well and good for color words, which intuitively seem to exist in a multidimensional continuum of perception, and for our animal space, where we've written out the vectors ahead of time. But what about... arbitrary words? Is it possible to create a vector space for all English words that has this same \"closer in space is closer in meaning\" property?\n",
    "\n",
    "To answer that, we have to back up a bit and ask the question: what does *meaning* mean? No one really knows, but one theory popular among computational linguists, computer scientists and other people who make search engines is the [Distributional Hypothesis](https://en.wikipedia.org/wiki/Distributional_semantics), which states that:\n",
    "\n",
    "    Linguistic items with similar distributions have similar meanings.\n",
    "    \n",
    "What's meant by \"similar distributions\" is *similar contexts*. Take for example the following sentences:\n",
    "\n",
    "    It was really cold yesterday.\n",
    "    It will be really warm today, though.\n",
    "    It'll be really hot tomorrow!\n",
    "    Will it be really cool Tuesday?\n",
    "    \n",
    "According to the Distributional Hypothesis, the words `cold`, `warm`, `hot` and `cool` must be related in some way (i.e., be close in meaning) because they occur in a similar context, i.e., between the word \"really\" and a word indicating a particular day. (Likewise, the words `yesterday`, `today`, `tomorrow` and `Tuesday` must be related, since they occur in the context of a word indicating a temperature.)\n",
    "\n",
    "In other words, according to the Distributional Hypothesis, a word's meaning is just a big list of all the contexts it occurs in. Two words are closer in meaning if they share contexts."
   ]
  },
  {
   "cell_type": "markdown",
   "metadata": {},
   "source": [
    "## Word vectors by counting contexts\n",
    "\n",
    "So how do we turn this insight from the Distributional Hypothesis into a system for creating general-purpose vectors that capture the meaning of words? Maybe you can see where I'm going with this. What if we made a *really big* spreadsheet that had one column for every context for every word in a given source text. Let's use a small source text to begin with, such as this excerpt from Dickens:\n",
    "\n",
    "    It was the best of times, it was the worst of times.\n",
    "\n",
    "Such a spreadsheet might look something like this:\n",
    "\n",
    "![dickens contexts](http://static.decontextualize.com/snaps/best-of-times.png)\n",
    "\n",
    "The spreadsheet has one column for every possible context, and one row for every word. The values in each cell correspond with how many times the word occurs in the given context. The numbers in the columns constitute that word's vector, i.e., the vector for the word `of` is\n",
    "\n",
    "    [0, 0, 0, 0, 1, 0, 0, 0, 1, 0]\n",
    "    \n",
    "Because there are ten possible contexts, this is a ten dimensional space! It might be strange to think of it, but you can do vector arithmetic on vectors with ten dimensions just as easily as you can on vectors with two or three dimensions, and you could use the same distance formula that we defined earlier to get useful information about which vectors in this space are similar to each other. In particular, the vectors for `best` and `worst` are actually the same (a distance of zero), since they occur only in the same context (`the ___ of`):\n",
    "\n",
    "    [0, 0, 0, 1, 0, 0, 0, 0, 0, 0]\n",
    "    \n",
    "Of course, the conventional way of thinking about \"best\" and \"worst\" is that they're *antonyms*, not *synonyms*. But they're also clearly two words of the same kind, with related meanings (through opposition), a fact that is captured by this distributional model.\n",
    "\n",
    "### Contexts and dimensionality\n",
    "\n",
    "Of course, in a corpus of any reasonable size, there will be many thousands if not many millions of possible contexts. It's difficult enough working with a vector space of ten dimensions, let alone a vector space of a million dimensions! It turns out, though, that many of the dimensions end up being superfluous and can either be eliminated or combined with other dimensions without significantly affecting the predictive power of the resulting vectors. The process of getting rid of superfluous dimensions in a vector space is called [dimensionality reduction](https://en.wikipedia.org/wiki/Dimensionality_reduction), and most implementations of count-based word vectors make use of dimensionality reduction so that the resulting vector space has a reasonable number of dimensions (say, 100—300, depending on the corpus and application).\n",
    "\n",
    "The question of how to identify a \"context\" is itself very difficult to answer. In the toy example above, we've said that a \"context\" is just the word that precedes and the word that follows. Depending on your implementation of this procedure, though, you might want a context with a bigger \"window\" (e.g., two words before and after), or a non-contiguous window (skip a word before and after the given word). You might exclude certain \"function\" words like \"the\" and \"of\" when determining a word's context, or you might [lemmatize](https://en.wikipedia.org/wiki/Lemmatisation) the words before you begin your analysis, so two occurrences with different \"forms\" of the same word count as the same context. These are all questions open to research and debate, and different implementations of procedures for creating count-based word vectors make different decisions on this issue.\n",
    "\n",
    "### GloVe vectors\n",
    "\n",
    "But you don't have to create your own word vectors from scratch! Many researchers have made downloadable databases of pre-trained vectors. One such project is Stanford's [Global Vectors for Word Representation (GloVe)](https://nlp.stanford.edu/projects/glove/). These 300-dimensional vectors are included with spaCy, and they're the vectors we'll be using for the rest of this tutorial."
   ]
  },
  {
   "cell_type": "markdown",
   "metadata": {},
   "source": [
    "## Word vectors in spaCy\n",
    "\n",
    "Okay, let's have some fun with real word vectors. We're going to use the GloVe vectors that come with spaCy to creatively analyze and manipulate the text of Bram Stoker's *Dracula*. First, make sure you've got `spacy` imported:"
   ]
  },
  {
   "cell_type": "code",
   "execution_count": 147,
   "metadata": {},
   "outputs": [
    {
     "data": {
      "text/plain": [
       "hour"
      ]
     },
     "execution_count": 147,
     "metadata": {},
     "output_type": "execute_result"
    }
   ],
   "source": [
    "dracula[560]"
   ]
  },
  {
   "cell_type": "code",
   "execution_count": 151,
   "metadata": {},
   "outputs": [
    {
     "data": {
      "text/plain": [
       "(96,)"
      ]
     },
     "execution_count": 151,
     "metadata": {},
     "output_type": "execute_result"
    }
   ],
   "source": [
    "dracula[560].vector.shape"
   ]
  },
  {
   "cell_type": "code",
   "execution_count": 156,
   "metadata": {},
   "outputs": [],
   "source": [
    "# previously we've used the _sm model, which doesn't include all vectors.\n",
    "# !pip3 install https://github.com/explosion/spacy-models/releases/download/en_core_web_lg-2.2.0/en_core_web_lg-2.2.0.tar.gz\n",
    "import en_core_web_lg\n",
    "nlp = en_core_web_lg.load()"
   ]
  },
  {
   "cell_type": "code",
   "execution_count": 157,
   "metadata": {},
   "outputs": [],
   "source": [
    "resp = requests.get('http://www.gutenberg.org/cache/epub/345/pg345.txt')\n",
    "dracula = nlp(resp.text)\n"
   ]
  },
  {
   "cell_type": "markdown",
   "metadata": {},
   "source": [
    "And the cell below creates a list of unique words (or tokens) in the text, as a list of strings."
   ]
  },
  {
   "cell_type": "code",
   "execution_count": 158,
   "metadata": {},
   "outputs": [],
   "source": [
    "# all of the words in the text file\n",
    "tokens = list(set([w.text for w in dracula if w.is_alpha]))"
   ]
  },
  {
   "cell_type": "markdown",
   "metadata": {},
   "source": [
    "You can see the vector of any word in spaCy's vocabulary using the `vocab` attribute, like so:"
   ]
  },
  {
   "cell_type": "code",
   "execution_count": 159,
   "metadata": {
    "scrolled": true
   },
   "outputs": [
    {
     "data": {
      "text/plain": [
       "array([-4.9304e-01,  1.2459e-01,  2.6142e-01,  3.8393e-02,  1.4018e-01,\n",
       "        5.7285e-01, -5.0449e-01,  1.5094e-01,  7.3356e-02,  2.3308e-01,\n",
       "       -1.6048e-01, -5.1184e-01, -1.4028e-01, -3.0110e-01, -4.3446e-01,\n",
       "       -2.8257e-02,  1.9100e-03,  6.5157e-01,  1.4855e-01, -3.7255e-01,\n",
       "       -4.6619e-01, -1.7223e-01, -5.1794e-01, -2.5453e-01, -2.6785e-01,\n",
       "       -6.7776e-02, -3.0085e-01, -3.3212e-01, -1.5862e-01, -1.2336e-01,\n",
       "       -3.8935e-01, -3.5551e-01, -3.6182e-01,  2.3197e-02, -1.7486e-01,\n",
       "        2.2345e-01,  6.7557e-01,  9.6939e-03, -9.5640e-02,  1.2073e-01,\n",
       "       -1.2016e-01, -1.6161e-01,  1.0661e-01, -4.5233e-01,  4.5991e-01,\n",
       "        1.0367e-02, -1.0842e-01, -3.6163e-01,  2.5105e-01,  9.5780e-03,\n",
       "       -6.1363e-01,  2.7494e-01,  2.1783e-01, -1.0663e-01, -9.5146e-03,\n",
       "        2.7570e-01,  2.5888e-02, -5.6749e-02,  6.7667e-03,  5.3735e-01,\n",
       "       -1.2224e-01,  8.8448e-02,  4.6094e-01,  4.6881e-02, -6.6557e-01,\n",
       "       -3.9493e-01,  2.7362e-01,  1.2302e-01,  2.8594e-01, -2.5274e-02,\n",
       "       -8.8458e-02, -6.5280e-01, -1.9723e-01,  2.4883e-01, -7.0509e-01,\n",
       "       -3.9357e-01,  2.1244e-01,  2.8522e-01, -1.3837e-01, -8.0399e-01,\n",
       "        4.0477e-01,  5.5522e-01,  1.3422e-01,  1.7541e-01, -2.4896e-01,\n",
       "       -3.7945e-02,  9.0174e-01,  5.7262e-01,  5.8552e-01, -2.7852e-02,\n",
       "       -3.7543e-01, -2.2329e-01, -1.7649e-01, -2.7149e-01, -1.4442e-01,\n",
       "        1.1173e-01, -7.5823e-01, -3.2636e-02,  3.8259e-01, -4.7711e-01,\n",
       "       -6.4061e-02,  7.7816e-01,  5.2918e-01, -8.8252e-02, -4.8766e-01,\n",
       "       -1.0542e+00, -1.7567e-01,  5.0561e-01, -3.2961e-01,  6.4652e-02,\n",
       "        1.6991e-01,  6.4564e-01, -1.1113e-01, -2.7329e-01,  4.5151e-01,\n",
       "        2.0905e-01,  5.5951e-01, -5.6235e-01,  6.4065e-01,  2.6138e-01,\n",
       "       -7.6238e-02, -5.7198e-01,  5.7286e-01, -6.4884e-01, -3.5580e-02,\n",
       "       -2.9065e-01, -2.3659e-01, -1.5837e-01, -3.8830e-01,  3.5099e-01,\n",
       "        1.2338e-01, -7.7062e-01, -3.2580e-01,  5.4685e-01,  9.9670e-02,\n",
       "       -1.7511e-01,  5.9578e-01,  5.7704e-02,  3.6616e-01,  7.9128e-02,\n",
       "       -2.1015e+00,  2.9241e-01,  1.6590e-01, -1.1812e-01,  3.6034e-01,\n",
       "        2.1378e-01, -3.8785e-02, -1.6689e-01,  2.5772e-01,  1.4423e-01,\n",
       "       -3.2560e-01, -4.9781e-01, -2.4736e-01, -4.5972e-01,  5.3241e-03,\n",
       "       -3.8934e-01, -5.6316e-01, -2.1875e-02,  4.6312e-01,  2.7124e-01,\n",
       "        8.2626e-02,  1.2798e-01, -1.7966e-01, -4.0142e-01,  3.9830e-01,\n",
       "        4.7246e-01, -1.7184e-02,  3.0340e-01,  7.2356e-01,  6.2398e-03,\n",
       "        1.1034e-01,  4.3798e-01, -1.8209e-01,  7.9000e-01, -8.2937e-01,\n",
       "       -2.5152e-01, -3.5818e-01,  1.9120e-01,  2.6807e-01, -4.8448e-02,\n",
       "        4.4986e-01, -1.9426e-01, -4.1831e-01, -4.7271e-01,  1.8365e-02,\n",
       "       -5.3575e-02,  2.0164e-01,  1.4613e-01, -5.2150e-01, -3.5136e-01,\n",
       "       -5.6628e-01,  5.6513e-01,  1.5970e-01,  4.9475e-01,  7.8591e-02,\n",
       "        5.8238e-01,  5.5110e-01,  4.7882e-01,  5.1979e-02, -5.8825e-01,\n",
       "       -3.1104e-01,  1.9566e-01, -3.4389e-01,  5.2565e-01,  2.7204e-01,\n",
       "       -1.9269e-01,  4.0240e-01,  3.5336e-01,  1.1571e-01, -1.7639e-01,\n",
       "        3.6528e-01,  4.7704e-01, -7.1949e-02, -2.3349e-01, -3.6303e-01,\n",
       "        1.8091e-01, -6.1703e-01,  1.0734e-01,  2.0010e-01,  4.5323e-02,\n",
       "       -1.4448e-01,  2.3747e-01, -1.0277e-01, -5.3455e-01,  1.3774e-01,\n",
       "       -2.1872e-01,  2.9646e-01,  8.5221e-01,  1.0667e-01,  8.3190e-02,\n",
       "        2.1841e-01, -2.0192e-01, -9.4416e-02,  1.7515e-01,  4.4191e-01,\n",
       "        5.8381e-01, -3.2412e-01, -2.3751e-01,  6.5186e-01,  3.9159e-01,\n",
       "        2.4443e-01, -6.5128e-01, -3.2916e-01, -5.9612e-01, -2.8962e-01,\n",
       "        1.2222e-01, -2.6307e-02,  1.1961e-01, -2.7490e-01,  2.4727e-01,\n",
       "       -1.0389e-01,  3.8307e-01, -5.0076e-01,  4.6286e-01,  4.6927e-01,\n",
       "       -3.5431e-01,  5.9146e-01,  2.0201e-01,  8.0544e-01,  2.7008e-01,\n",
       "       -5.9786e-02, -2.7738e-01, -2.3822e-01, -5.1769e-02,  2.1425e-01,\n",
       "        2.5170e-01,  1.8265e-01, -2.4323e-01, -3.2770e-01,  1.5040e-02,\n",
       "       -3.8119e-01, -5.2011e-02,  4.2345e-01,  6.3603e-01,  5.0159e-01,\n",
       "       -1.6942e-01, -2.3502e-01, -2.0667e-01, -9.0480e-02, -9.7789e-01,\n",
       "       -2.8939e-01,  2.2706e-01, -1.2613e-01,  4.4867e-02,  3.8184e-01,\n",
       "       -3.1982e-01, -1.4018e-01, -1.3953e-02, -4.4110e-01, -4.3323e-01,\n",
       "        4.6663e-01,  2.8850e-01, -8.1727e-01, -4.4984e-01,  8.9386e-02,\n",
       "        9.0084e-01, -5.8482e-02,  5.1920e-02,  1.5626e-02, -7.1096e-02],\n",
       "      dtype=float32)"
      ]
     },
     "execution_count": 159,
     "metadata": {},
     "output_type": "execute_result"
    }
   ],
   "source": [
    "nlp.vocab['alligator'].vector"
   ]
  },
  {
   "cell_type": "markdown",
   "metadata": {},
   "source": [
    "For the sake of convenience, the following function gets the vector of a given string from spaCy's vocabulary:"
   ]
  },
  {
   "cell_type": "code",
   "execution_count": 160,
   "metadata": {},
   "outputs": [],
   "source": [
    "def vec(s):\n",
    "    return nlp.vocab[s].vector"
   ]
  },
  {
   "cell_type": "markdown",
   "metadata": {},
   "source": [
    "### Cosine similarity and finding closest neighbors\n",
    "\n",
    "The cell below defines a function `cosine()`, which returns the [cosine similarity](https://en.wikipedia.org/wiki/Cosine_similarity) of two vectors. Cosine similarity is another way of determining how similar two vectors are, which is more suited to high-dimensional spaces. [See the Encyclopedia of Distances for more information and even more ways of determining vector similarity.](http://www.uco.es/users/ma1fegan/Comunes/asignaturas/vision/Encyclopedia-of-distances-2009.pdf)"
   ]
  },
  {
   "cell_type": "code",
   "execution_count": 161,
   "metadata": {},
   "outputs": [],
   "source": [
    "from sklearn.metrics.pairwise import cosine_similarity"
   ]
  },
  {
   "cell_type": "code",
   "execution_count": 212,
   "metadata": {},
   "outputs": [],
   "source": [
    "# Helper function for building cosine similarity\n",
    "def cos_sim(vec1, vec2):\n",
    "    if not isinstance(vec1, np.ndarray):\n",
    "        vec1 = np.asarray(vec1)\n",
    "    if not isinstance(vec2, np.ndarray):\n",
    "        vec2 = np.asarray(vec2)\n",
    "    return cosine_similarity(vec1.reshape(1, -1), vec2.reshape(1, -1))[0][0]"
   ]
  },
  {
   "cell_type": "markdown",
   "metadata": {},
   "source": [
    "The following cell shows that the cosine similarity between `dog` and `puppy` is larger than the similarity between `trousers` and `octopus`, thereby demonstrating that the vectors are working how we expect them to:"
   ]
  },
  {
   "cell_type": "code",
   "execution_count": 204,
   "metadata": {},
   "outputs": [
    {
     "data": {
      "text/plain": [
       "True"
      ]
     },
     "execution_count": 204,
     "metadata": {},
     "output_type": "execute_result"
    }
   ],
   "source": [
    "cos_sim(vec('dog'), vec('puppy')) > cos_sim(vec('trousers'), vec('octopus'))"
   ]
  },
  {
   "cell_type": "markdown",
   "metadata": {},
   "source": [
    "The following cell defines a function that iterates through a list of tokens and returns the token whose vector is most similar to a given vector."
   ]
  },
  {
   "cell_type": "code",
   "execution_count": 205,
   "metadata": {},
   "outputs": [],
   "source": [
    "def spacy_closest(token_list, vec_to_check, n=10):\n",
    "    return sorted(token_list,\n",
    "                  key=lambda x: cos_sim(vec_to_check, vec(x)),\n",
    "                  reverse=True)[:n]"
   ]
  },
  {
   "cell_type": "markdown",
   "metadata": {},
   "source": [
    "Using this function, we can get a list of synonyms, or words closest in meaning (or distribution, depending on how you look at it), to any arbitrary word in spaCy's vocabulary. In the following example, we're finding the words in *Dracula* closest to \"basketball\":"
   ]
  },
  {
   "cell_type": "code",
   "execution_count": 206,
   "metadata": {
    "scrolled": true
   },
   "outputs": [
    {
     "data": {
      "text/plain": [
       "['tennis',\n",
       " 'coach',\n",
       " 'game',\n",
       " 'teams',\n",
       " 'Junior',\n",
       " 'junior',\n",
       " 'Team',\n",
       " 'school',\n",
       " 'boys',\n",
       " 'leagues']"
      ]
     },
     "execution_count": 206,
     "metadata": {},
     "output_type": "execute_result"
    }
   ],
   "source": [
    "# what's the closest equivalent of basketball?\n",
    "spacy_closest(tokens, vec(\"basketball\"))"
   ]
  },
  {
   "cell_type": "markdown",
   "metadata": {},
   "source": [
    "### Fun with spaCy, Dracula, and vector arithmetic\n",
    "\n",
    "Now we can start doing vector arithmetic and finding the closest words to the resulting vectors. For example, what word is closest to the halfway point between day and night?"
   ]
  },
  {
   "cell_type": "code",
   "execution_count": 213,
   "metadata": {},
   "outputs": [
    {
     "data": {
      "text/plain": [
       "['night',\n",
       " 'Day',\n",
       " 'day',\n",
       " 'evening',\n",
       " 'Evening',\n",
       " 'Morning',\n",
       " 'morning',\n",
       " 'afternoon',\n",
       " 'Nights',\n",
       " 'nights']"
      ]
     },
     "execution_count": 213,
     "metadata": {},
     "output_type": "execute_result"
    }
   ],
   "source": [
    "# halfway between day and night\n",
    "spacy_closest(tokens, meanv([vec(\"day\"), vec(\"night\")]))"
   ]
  },
  {
   "cell_type": "markdown",
   "metadata": {},
   "source": [
    "Variations of `night` and `day` are still closest, but after that we get words like `evening` and `morning`, which are indeed halfway between day and night!"
   ]
  },
  {
   "cell_type": "markdown",
   "metadata": {},
   "source": [
    "Here are the closest words in _Dracula_ to \"wine\":"
   ]
  },
  {
   "cell_type": "code",
   "execution_count": 214,
   "metadata": {},
   "outputs": [
    {
     "data": {
      "text/plain": [
       "['wine',\n",
       " 'beer',\n",
       " 'bottle',\n",
       " 'Drink',\n",
       " 'drink',\n",
       " 'cellar',\n",
       " 'fruit',\n",
       " 'bottles',\n",
       " 'brandy',\n",
       " 'taste']"
      ]
     },
     "execution_count": 214,
     "metadata": {},
     "output_type": "execute_result"
    }
   ],
   "source": [
    "spacy_closest(tokens, vec(\"wine\"))"
   ]
  },
  {
   "cell_type": "markdown",
   "metadata": {},
   "source": [
    "If you subtract \"alcohol\" from \"wine\" and find the closest words to the resulting vector, you're left with simply a lovely dinner:"
   ]
  },
  {
   "cell_type": "code",
   "execution_count": 215,
   "metadata": {},
   "outputs": [
    {
     "data": {
      "text/plain": [
       "['wine',\n",
       " 'cellar',\n",
       " 'exquisite',\n",
       " 'fabulous',\n",
       " 'splendid',\n",
       " 'magnificent',\n",
       " 'delightful',\n",
       " 'dinner',\n",
       " 'Dinner',\n",
       " 'sparkling']"
      ]
     },
     "execution_count": 215,
     "metadata": {},
     "output_type": "execute_result"
    }
   ],
   "source": [
    "spacy_closest(tokens, subtractv(vec(\"wine\"), vec(\"alcohol\")))"
   ]
  },
  {
   "cell_type": "markdown",
   "metadata": {},
   "source": [
    "The closest words to \"water\":"
   ]
  },
  {
   "cell_type": "code",
   "execution_count": 216,
   "metadata": {},
   "outputs": [
    {
     "data": {
      "text/plain": [
       "['water',\n",
       " 'waters',\n",
       " 'Salt',\n",
       " 'salt',\n",
       " 'pond',\n",
       " 'dry',\n",
       " 'liquid',\n",
       " 'ocean',\n",
       " 'boiling',\n",
       " 'heat']"
      ]
     },
     "execution_count": 216,
     "metadata": {},
     "output_type": "execute_result"
    }
   ],
   "source": [
    "spacy_closest(tokens, vec(\"water\"))"
   ]
  },
  {
   "cell_type": "markdown",
   "metadata": {},
   "source": [
    "But if you add \"frozen\" to \"water,\" you get \"ice\":"
   ]
  },
  {
   "cell_type": "code",
   "execution_count": 217,
   "metadata": {},
   "outputs": [
    {
     "data": {
      "text/plain": [
       "['water',\n",
       " 'cold',\n",
       " 'ice',\n",
       " 'Salt',\n",
       " 'salt',\n",
       " 'dry',\n",
       " 'fresh',\n",
       " 'liquid',\n",
       " 'boiling',\n",
       " 'milk']"
      ]
     },
     "execution_count": 217,
     "metadata": {},
     "output_type": "execute_result"
    }
   ],
   "source": [
    "spacy_closest(tokens, addv(vec(\"water\"), vec(\"frozen\")))"
   ]
  },
  {
   "cell_type": "markdown",
   "metadata": {},
   "source": [
    "You can even do analogies! For example, the words most similar to \"grass\":"
   ]
  },
  {
   "cell_type": "code",
   "execution_count": 218,
   "metadata": {
    "scrolled": true
   },
   "outputs": [
    {
     "data": {
      "text/plain": [
       "['grass',\n",
       " 'lawn',\n",
       " 'trees',\n",
       " 'greens',\n",
       " 'grassy',\n",
       " 'GARDEN',\n",
       " 'garden',\n",
       " 'sand',\n",
       " 'foliage',\n",
       " 'tree']"
      ]
     },
     "execution_count": 218,
     "metadata": {},
     "output_type": "execute_result"
    }
   ],
   "source": [
    "spacy_closest(tokens, vec(\"grass\"))"
   ]
  },
  {
   "cell_type": "markdown",
   "metadata": {},
   "source": [
    "If you take the difference of \"blue\" and \"sky\" and add it to grass, you get the analogous word (\"green\"):"
   ]
  },
  {
   "cell_type": "code",
   "execution_count": 219,
   "metadata": {
    "scrolled": true
   },
   "outputs": [
    {
     "data": {
      "text/plain": [
       "['grass',\n",
       " 'Green',\n",
       " 'GREEN',\n",
       " 'green',\n",
       " 'yellow',\n",
       " 'Red',\n",
       " 'red',\n",
       " 'purple',\n",
       " 'lawn',\n",
       " 'pink']"
      ]
     },
     "execution_count": 219,
     "metadata": {},
     "output_type": "execute_result"
    }
   ],
   "source": [
    "# analogy: blue is to sky as X is to grass\n",
    "blue_to_sky = subtractv(vec(\"blue\"), vec(\"sky\"))\n",
    "spacy_closest(tokens, addv(blue_to_sky, vec(\"grass\")))"
   ]
  },
  {
   "cell_type": "markdown",
   "metadata": {},
   "source": [
    "## Sentence similarity"
   ]
  },
  {
   "cell_type": "markdown",
   "metadata": {},
   "source": [
    "To get the vector for a sentence, we simply average its component vectors, like so:"
   ]
  },
  {
   "cell_type": "code",
   "execution_count": 220,
   "metadata": {},
   "outputs": [],
   "source": [
    "def sentvec(s):\n",
    "    sent = nlp(s)\n",
    "    return meanv([w.vector for w in sent])"
   ]
  },
  {
   "cell_type": "markdown",
   "metadata": {},
   "source": [
    "Let's find the sentence in our text file that is closest in \"meaning\" to an arbitrary input sentence. First, we'll get the list of sentences:"
   ]
  },
  {
   "cell_type": "code",
   "execution_count": 222,
   "metadata": {},
   "outputs": [],
   "source": [
    "sentences = list(dracula.sents)"
   ]
  },
  {
   "cell_type": "markdown",
   "metadata": {},
   "source": [
    "The following function takes a list of sentences from a spaCy parse and compares them to an input sentence, sorting them by cosine similarity."
   ]
  },
  {
   "cell_type": "code",
   "execution_count": 224,
   "metadata": {},
   "outputs": [],
   "source": [
    "def spacy_closest_sent(space, input_str, n=10):\n",
    "    input_vec = sentvec(input_str)\n",
    "    return sorted(space,\n",
    "                  key=lambda x: cos_sim(np.array(sentvec(str(x))), input_vec),\n",
    "                  reverse=True)[:n]"
   ]
  },
  {
   "cell_type": "markdown",
   "metadata": {},
   "source": [
    "Here are the sentences in *Dracula* closest in meaning to \"My favorite food is strawberry ice cream.\" (Extra linebreaks are present because we didn't strip them out when we originally read in the source text.)"
   ]
  },
  {
   "cell_type": "code",
   "execution_count": 225,
   "metadata": {},
   "outputs": [
    {
     "name": "stdout",
     "output_type": "stream",
     "text": [
      "This, with some cheese\r\n",
      "and a salad and a bottle of old Tokay, of which I had two glasses, was\r\n",
      "my supper.\n",
      "---\n",
      "We get hot soup, or coffee, or tea; and\r\n",
      "off we go.\n",
      "---\n",
      "rather supper, a chicken done up some way with red pepper, which was\r\n",
      "very good but thirsty.\n",
      "---\n",
      "I got a cup of tea at the Aërated Bread Company\r\n",
      "and came down to Purfleet by the next train.\r\n",
      "\r\n",
      "\n",
      "---\n",
      "I dined on what they\r\n",
      "called \"robber steak\"--bits of bacon, onion, and beef, seasoned with red\r\n",
      "pepper, and strung on sticks and roasted over the fire, in the simple\r\n",
      "style of the London cat's meat!\n",
      "---\n",
      "There is not even a toilet glass on my\r\n",
      "table, and I had to get the little shaving glass from my bag before I\r\n",
      "could either shave or brush my hair.\n",
      "---\n",
      "There was everywhere a bewildering mass of fruit blossom--apple,\r\n",
      "plum, pear, cherry; and as we drove by I could see the green grass under\r\n",
      "the trees spangled with the fallen petals.\n",
      "---\n",
      "I\r\n",
      "saw it drip with the fresh blood!\n",
      "---\n",
      "Drink it off, like a good\r\n",
      "child.\n",
      "---\n",
      "I left Quincey lying down\r\n",
      "after having a glass of wine, and told the cook to get ready a good\r\n",
      "breakfast.\n",
      "---\n"
     ]
    }
   ],
   "source": [
    "for sent in spacy_closest_sent(sentences, \"My favorite food is strawberry ice cream.\"):\n",
    "    print(sent.text)\n",
    "    print(\"---\")"
   ]
  },
  {
   "cell_type": "markdown",
   "metadata": {},
   "source": [
    "## Further resources\n",
    "\n",
    "* [Word2vec](https://en.wikipedia.org/wiki/Word2vec) is another procedure for producing word vectors which uses a predictive approach rather than a context-counting approach. [This paper](http://clic.cimec.unitn.it/marco/publications/acl2014/baroni-etal-countpredict-acl2014.pdf) compares and contrasts the two approaches. (Spoiler: it's kind of a wash.)\n",
    "* If you want to train your own word vectors on a particular corpus, the popular Python library [gensim](https://radimrehurek.com/gensim/) has an implementation of Word2Vec that is relatively easy to use. [There's a good tutorial here.](https://rare-technologies.com/word2vec-tutorial/)\n",
    "* When you're working with vector spaces with high dimensionality and millions of vectors, iterating through your entire space calculating cosine similarities can be a drag. I use [Annoy](https://pypi.python.org/pypi/annoy) to make these calculations faster, and you should consider using it too."
   ]
  }
 ],
 "metadata": {
  "kernelspec": {
   "display_name": "Python 3",
   "language": "python",
   "name": "python3"
  },
  "language_info": {
   "codemirror_mode": {
    "name": "ipython",
    "version": 3
   },
   "file_extension": ".py",
   "mimetype": "text/x-python",
   "name": "python",
   "nbconvert_exporter": "python",
   "pygments_lexer": "ipython3",
   "version": "3.7.4"
  }
 },
 "nbformat": 4,
 "nbformat_minor": 4
}
