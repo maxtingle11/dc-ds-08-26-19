{
 "cells": [
  {
   "cell_type": "markdown",
   "metadata": {},
   "source": [
    "### Sampling Distributions\n",
    "\n",
    "_Statistical Inference__: The process of making inferences on __population parameters__ using __sampling statistics__.\n",
    "\n",
    "\n",
    "- Two facts on statistical inference: \n",
    "    - Population parameters are fixed and mostly unknown \n",
    "    - Sample statistics are known values for any given sample, but varies from sample to sample.\n",
    "    \n",
    "__sampling distribution__: The sampling distribution of a statistic is the probability distribution of that statistic.\n",
    "\n",
    "Let's see some examples of sampling distributions"
   ]
  },
  {
   "cell_type": "code",
   "execution_count": 1,
   "metadata": {},
   "outputs": [],
   "source": [
    "import numpy as np"
   ]
  },
  {
   "cell_type": "code",
   "execution_count": 2,
   "metadata": {},
   "outputs": [
    {
     "name": "stdout",
     "output_type": "stream",
     "text": [
      "Mean statistic of the sample X is 9.991612547851458\n"
     ]
    }
   ],
   "source": [
    "## Let's take a sample of 100 observations from a population\n",
    "## with normal distribution ~ N(0, 2)\n",
    "\n",
    "# Note that X is just a sample that constists of 100 observations\n",
    "X = np.random.normal(loc = 10, scale =2, size = 100)\n",
    "\n",
    "# Find mean of this sample\n",
    "\n",
    "x_bar = X.mean()\n",
    "\n",
    "print('Mean statistic of the sample X is {}'.format(x_bar))\n",
    "\n",
    "## Now let's try to understand the distribution of the sample means\n",
    "## That is to say if we take many samples from the same population\n",
    "## and calculate the statistic mean of this sample, what would be the \n",
    "## the distribution.\n",
    "\n",
    "\n",
    "## Let's take 1000 different population from the same population\n",
    "\n",
    "means_sample = []\n",
    "\n",
    "for i in range(10000):\n",
    "    \n",
    "    X = np.random.normal(loc = 10, scale =2, size = 100)\n",
    "    \n",
    "    means_sample.append(X.mean())"
   ]
  },
  {
   "cell_type": "code",
   "execution_count": 3,
   "metadata": {},
   "outputs": [],
   "source": [
    "## let's check the distribution of the sampling distribution of the mean\n",
    "\n",
    "import matplotlib.pyplot as plt\n",
    "import seaborn as sns\n",
    "\n",
    "sns.distplot(means_sample, norm_hist= True)\n",
    "plt.xlabel('Sample means')\n",
    "plt.ylabel('Probability densities')\n",
    "plt.tight_layout()"
   ]
  },
  {
   "cell_type": "markdown",
   "metadata": {},
   "source": [
    "The shape looks very 'normal'!\n",
    "\n",
    "- Also it looks like the mean of the sampling distribution of the means is close to 10 which is true population mean.\n",
    "\n",
    "- Recall that the population std was 2, what do you think about the std of the sampling distribution of the mean?"
   ]
  },
  {
   "cell_type": "code",
   "execution_count": 7,
   "metadata": {},
   "outputs": [
    {
     "name": "stdout",
     "output_type": "stream",
     "text": [
      "Note that the std of the mean_list 0.19945351877137063 not even close to the std of the population std 2\n"
     ]
    }
   ],
   "source": [
    "## let's find the standard deviation of the mean_list\n",
    "## we hope that this might be a good estimate for the true standard deviation of the sampling dist. of the mean.\n",
    "mean_sample_std = np.std(means_sample)\n",
    "(\n",
    "print('Note that the std of the mean_list {} not even close to the std of the population std 2'\n",
    "      .format(mean_sample_std))\n",
    ")"
   ]
  },
  {
   "cell_type": "markdown",
   "metadata": {},
   "source": [
    "In fact, we know that Central limit theorem (in fact in this scenerio we don't even need CLT but in general we do. Don't worry for this if you don't see why you don't need CLT) tell us that mean_sample_std should be close to $\\frac{\\sigma}{\\sqrt{n}}$ where $\\sigma$ is the population standard deviation ($\\sigma = 2$) and $n$ is the number of samples we used to create sampling distribution (n = 100). So according to CLT mean_sample should be close to $\\frac{2}{\\sqrt{100}} = \\frac{2}{10} = 0.2 \\approx 0.197$.\n",
    "\n",
    "- Note that we just checked the normality from the graph let's be sure that we reallt have a normal distribution by using qq-plots and np library.\n"
   ]
  },
  {
   "cell_type": "code",
   "execution_count": 8,
   "metadata": {},
   "outputs": [],
   "source": [
    "import statsmodels.api as sm"
   ]
  },
  {
   "cell_type": "code",
   "execution_count": 9,
   "metadata": {},
   "outputs": [
    {
     "data": {
      "image/png": "[encoded data removed]",
      "text/plain": [
       "<Figure size 432x288 with 1 Axes>"
      ]
     },
     "metadata": {
      "needs_background": "light"
     },
     "output_type": "display_data"
    }
   ],
   "source": [
    "## statsmodel ask us to give an array so we convert list to an np.array\n",
    "means = np.array(means_sample)\n",
    "\n",
    "sm.qqplot(means, line = 'r')\n",
    "\n",
    "plt.show()"
   ]
  },
  {
   "cell_type": "code",
   "execution_count": 10,
   "metadata": {},
   "outputs": [
    {
     "data": {
      "text/plain": [
       "NormaltestResult(statistic=0.9855546555821979, pvalue=0.6109272904504739)"
      ]
     },
     "execution_count": 10,
     "metadata": {},
     "output_type": "execute_result"
    }
   ],
   "source": [
    "from scipy.stats import stats\n",
    "## Note that the null hypotheses is H_0 = the sample has a normal distribution.\n",
    "## So you can interprett the pvalue of this method as the probability that this sample has \n",
    "## a normal distribution.\n",
    "stats.normaltest(means)"
   ]
  },
  {
   "cell_type": "code",
   "execution_count": 11,
   "metadata": {},
   "outputs": [],
   "source": [
    "## Let's take the samples from different populations with different distributions and check \n",
    "## whether the mean sampling distribution will still have normal distribution."
   ]
  },
  {
   "cell_type": "code",
   "execution_count": 17,
   "metadata": {},
   "outputs": [
    {
     "name": "stdout",
     "output_type": "stream",
     "text": [
      "Statistics=1.000, p=0.286\n",
      "Sample looks Gaussian (fail to reject H0)\n"
     ]
    },
    {
     "name": "stderr",
     "output_type": "stream",
     "text": [
      "//anaconda3/lib/python3.7/site-packages/scipy/stats/morestats.py:1660: UserWarning: p-value may not be accurate for N > 5000.\n",
      "  warnings.warn(\"p-value may not be accurate for N > 5000.\")\n"
     ]
    }
   ],
   "source": [
    "# Another test for normality\n",
    "from scipy.stats import shapiro\n",
    "# generate univariate observations\n",
    "# normality test\n",
    "stat, p = shapiro(means)\n",
    "print('Statistics=%.3f, p=%.3f' % (stat, p))\n",
    "# interpret\n",
    "alpha = 0.05\n",
    "if p > alpha:\n",
    "\tprint('Sample looks Gaussian (fail to reject H0)')\n",
    "else:\n",
    "\tprint('Sample does not look Gaussian (reject H0)')\n",
    "    \n",
    "## note the warning as you see as the sample increases the tests can detect even small departures from normality.\n",
    "## please check the wikipedia page for more details"
   ]
  },
  {
   "cell_type": "markdown",
   "metadata": {},
   "source": [
    "For more details of Shapiro test please check:\n",
    "\n",
    "[Scipy - documentation for Shapiro test](https://docs.scipy.org/doc/scipy/reference/generated/scipy.stats.shapiro.html)\n",
    "\n",
    "[Shapiro–Wilk test](https://en.wikipedia.org/wiki/Shapiro%E2%80%93Wilk_test)\n",
    "\n",
    "\n",
    "__Finally__ I want to get samples from a population with a distribution other than the normal distribution. With this I would like to emphasize that the sampling distribution of the mean is almost normal (with N($\\mu$, $\\frac{\\sigma}{\\sqrt{n}}$)) thanks to the CLT."
   ]
  },
  {
   "cell_type": "code",
   "execution_count": 25,
   "metadata": {},
   "outputs": [],
   "source": [
    "## consider the case where the samples come from a population with a chi-squared distribution\n",
    "\n",
    "\n",
    "X = np.random.chisquare(df = 1, size = 100)\n",
    "\n",
    "## mean of X with 1 degrees of freedom as above is 1 and the variance of a \n",
    "## chi_squared distribution with 1 (k) degrees of freedom is 2 (2k). So std = sqrt(2)\n",
    "## Again for more information please check wikipedia"
   ]
  },
  {
   "cell_type": "markdown",
   "metadata": {},
   "source": [
    "Note that $\\chi^{2}$ distribution has only one parameter which is degrees of freedom. For more information about this distribution please check\n",
    "\n",
    "[Chi-squared Distribution Wiki](https://en.wikipedia.org/wiki/Chi-squared_distribution)"
   ]
  },
  {
   "cell_type": "code",
   "execution_count": 19,
   "metadata": {},
   "outputs": [
    {
     "data": {
      "image/png": "[encoded data removed]",
      "text/plain": [
       "<Figure size 432x288 with 1 Axes>"
      ]
     },
     "metadata": {
      "needs_background": "light"
     },
     "output_type": "display_data"
    }
   ],
   "source": [
    "sns.distplot(X)\n",
    "plt.xlabel('values of $\\chi^{2} variable$')\n",
    "plt.ylabel('Probability Densities')\n",
    "plt.show()"
   ]
  },
  {
   "cell_type": "markdown",
   "metadata": {},
   "source": [
    "For the explanation of the yaxis of the seaborn.distplot\n",
    "\n",
    "please check:\n",
    "\n",
    "[stackoverflow - seaborn.distplot yaxis](https://stackoverflow.com/questions/51666784/what-is-y-axis-in-seaborn-distplot)"
   ]
  },
  {
   "cell_type": "code",
   "execution_count": 20,
   "metadata": {},
   "outputs": [],
   "source": [
    "means_sample = []\n",
    "\n",
    "for i in range(10000):\n",
    "    \n",
    "    X = np.random.chisquare(df = 1, size = 100)\n",
    "    \n",
    "    means_sample.append(X.mean())"
   ]
  },
  {
   "cell_type": "code",
   "execution_count": 29,
   "metadata": {},
   "outputs": [
    {
     "name": "stdout",
     "output_type": "stream",
     "text": [
      "mean:0.9976810854466991 and std 0.1416502771849181\n"
     ]
    },
    {
     "data": {
      "image/png": "[encoded data removed]",
      "text/plain": [
       "<Figure size 432x288 with 1 Axes>"
      ]
     },
     "metadata": {
      "needs_background": "light"
     },
     "output_type": "display_data"
    }
   ],
   "source": [
    "## let's check the distribution of the sampling distribution of the mean\n",
    "\n",
    "import matplotlib.pyplot as plt\n",
    "import seaborn as sns\n",
    "\n",
    "means = np.array(means_sample)\n",
    "print('mean:{} and std {}'.format(means.mean(), means.std()))\n",
    "sns.distplot(means, norm_hist= True)\n",
    "plt.xlabel('Sample means')\n",
    "plt.ylabel('Probability densities')\n",
    "plt.tight_layout()"
   ]
  },
  {
   "cell_type": "markdown",
   "metadata": {},
   "source": [
    "Note again that this looks pretty much like normal distribution. Recall that the population mean was 1 and here the mean of means_sample is 0.99768 which is very close to the true population mean. CLT tells us that the standard deviation of this sampling distribution should be $\\frac{\\sqrt{2}}{\\sqrt{100}} \\approx 0.1414$ and we have found that the standard deviation 0.1416 which very close to the theoric value."
   ]
  },
  {
   "cell_type": "code",
   "execution_count": 36,
   "metadata": {},
   "outputs": [
    {
     "data": {
      "image/png": "[encoded data removed]",
      "text/plain": [
       "<Figure size 432x288 with 1 Axes>"
      ]
     },
     "metadata": {
      "needs_background": "light"
     },
     "output_type": "display_data"
    }
   ],
   "source": [
    "## let's use scipy to test normality\n",
    "\n",
    "## statsmodel ask us to give an array so we convert list to an np.array\n",
    "\n",
    "sm.qqplot(means, line = 'r')\n",
    "\n",
    "plt.show()"
   ]
  },
  {
   "cell_type": "code",
   "execution_count": 35,
   "metadata": {},
   "outputs": [
    {
     "name": "stdout",
     "output_type": "stream",
     "text": [
      "Statistics=0.996, p=0.000\n",
      "Sample does not look Gaussian (reject H0)\n"
     ]
    }
   ],
   "source": [
    "# Another test for normality\n",
    "from scipy.stats import shapiro\n",
    "# generate univariate observations\n",
    "# normality test\n",
    "stat, p = shapiro(means)\n",
    "print('Statistics=%.3f, p=%.3f' % (stat, p))\n",
    "# interpret\n",
    "alpha = 0.05\n",
    "if p > alpha:\n",
    "\tprint('Sample looks Gaussian (fail to reject H0)')\n",
    "else:\n",
    "\tprint('Sample does not look Gaussian (reject H0)')\n",
    "    \n",
    "## note the warning as you see as the sample increases the tests can detect even small departures from normality.\n",
    "## please check the wikipedia page for more details\n",
    "## This is a great example of the need of effect size "
   ]
  },
  {
   "cell_type": "markdown",
   "metadata": {},
   "source": [
    "## Sampling Distribution of the Variance\n",
    "\n",
    "Finally, I would like to discuss the sampling distribution of the variance. \n",
    "\n",
    "Let $X_{1}, \\cdots , X_{n}$ be a random sample from a __normally__ distributed population with mean $\\mu$ and variance $\\sigma$. Then the quantity $\\frac{(n-1)S^{2}}{\\sigma^{2}}$ is a random variable whose distribution is described by a $\\chi^{2}$ distribution with $n-1$ degrees of freedom, where $S^{2}$ is the usual sample estimate of the population variance \n",
    "\n",
    "$$ S^{2} = \\frac{1}{n-1}\\sum\\limits_{i=1}^{n} \\big( X_{i} - \\bar{X}\\big)^{2}$$\n",
    "\n",
    "For more information please check the wikipedia:\n",
    "\n",
    "[Chi-squared Distribution](https://en.wikipedia.org/wiki/Chi-squared_distribution)\n",
    "\n",
    "\n",
    "Let's try to simulate this:\n"
   ]
  },
  {
   "cell_type": "code",
   "execution_count": 37,
   "metadata": {},
   "outputs": [],
   "source": [
    "## we get sample of size 5, from a normally distributed population with mu = 10, sigma = 3\n",
    "\n",
    "S_squared = np.random.normal(loc = 10, scale = 3, size = 5)"
   ]
  },
  {
   "cell_type": "code",
   "execution_count": 62,
   "metadata": {},
   "outputs": [],
   "source": [
    "## Let's get 1000 of such samples from the same population\n",
    "\n",
    "S_squared_list = []\n",
    "\n",
    "for i in range(10000):\n",
    "    \n",
    "    samples_from_normal = np.random.normal(loc = 10, scale =3, size = 5)\n",
    "    \n",
    "    S_squared_list.append(samples_from_normal.var(ddof = 1))"
   ]
  },
  {
   "cell_type": "markdown",
   "metadata": {},
   "source": [
    "According to the theory $\\frac{(n-1)S^{2}}{\\sigma^{2}}$ should have $\\chi^{2}$ distribution with 4 degrees of freedom. Note that in this case we stored $S^{2}$ in S_squared_list and $\\sigma = 3$ and $n= 5$"
   ]
  },
  {
   "cell_type": "code",
   "execution_count": 63,
   "metadata": {},
   "outputs": [],
   "source": [
    "n = 5\n",
    "sigma = 3"
   ]
  },
  {
   "cell_type": "code",
   "execution_count": 64,
   "metadata": {},
   "outputs": [],
   "source": [
    "new_S_squared = [((n-1)/(sigma**2))*S2 for S2 in S_squared_list]"
   ]
  },
  {
   "cell_type": "code",
   "execution_count": 65,
   "metadata": {},
   "outputs": [],
   "source": [
    "## convert list to np.array so that working with them is easier\n",
    "chi_squared = np.array(new_S_squared)"
   ]
  },
  {
   "cell_type": "code",
   "execution_count": 66,
   "metadata": {},
   "outputs": [
    {
     "data": {
      "image/png": "[encoded data removed]",
      "text/plain": [
       "<Figure size 432x288 with 1 Axes>"
      ]
     },
     "metadata": {
      "needs_background": "light"
     },
     "output_type": "display_data"
    }
   ],
   "source": [
    "sns.distplot(chi_squared, kde =True)\n",
    "plt.xlabel('Chi_squared')\n",
    "plt.ylabel('Probability_densities')\n",
    "plt.show()"
   ]
  },
  {
   "cell_type": "code",
   "execution_count": 67,
   "metadata": {},
   "outputs": [
    {
     "data": {
      "image/png": "[encoded data removed]",
      "text/plain": [
       "<Figure size 432x288 with 1 Axes>"
      ]
     },
     "metadata": {
      "needs_background": "light"
     },
     "output_type": "display_data"
    }
   ],
   "source": [
    "## Note that we get the above distribution from the sampling distribution of the variance \n",
    "## let's get another sample from a true chi_squared distribution to compare two results\n",
    "\n",
    "true_chi = np.random.chisquare(df = 4, size = 1000 )\n",
    "\n",
    "sns.distplot(true_chi)\n",
    "plt.xlabel('Sample from true Chi_squared')\n",
    "plt.ylabel('Probability_densities')\n",
    "plt.show()"
   ]
  },
  {
   "cell_type": "markdown",
   "metadata": {},
   "source": [
    "## Further Research\n",
    "\n",
    "As we discussed in the class, we can get a F-distribution from the ratio of two random variables with $\\chi^{2}$ distribution. So you can try to simulate this as we did above. Please let me know if you have any problems with this simulation."
   ]
  }
 ],
 "metadata": {
  "kernelspec": {
   "display_name": "Python 3",
   "language": "python",
   "name": "python3"
  },
  "language_info": {
   "codemirror_mode": {
    "name": "ipython",
    "version": 3
   },
   "file_extension": ".py",
   "mimetype": "text/x-python",
   "name": "python",
   "nbconvert_exporter": "python",
   "pygments_lexer": "ipython3",
   "version": "3.7.3"
  }
 },
 "nbformat": 4,
 "nbformat_minor": 2
}
