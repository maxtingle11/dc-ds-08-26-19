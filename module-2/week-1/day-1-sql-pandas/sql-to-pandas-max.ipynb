{
 "cells": [
  {
   "cell_type": "markdown",
   "metadata": {
    "slideshow": {
     "slide_type": "slide"
    }
   },
   "source": [
    "![sql](img/sql-logo.jpg)\n",
    "\n",
    "# A beginner's guide to databases, SQL, & using them with `pandas`"
   ]
  },
  {
   "cell_type": "markdown",
   "metadata": {
    "slideshow": {
     "slide_type": "slide"
    }
   },
   "source": [
    "**Scenario:** You are a data analyst for the Homeland Security, trying to create reports on the active airports world wide. The data you need to access is in a SQL database. YOu need to be able to query for the data in a database!"
   ]
  },
  {
   "cell_type": "markdown",
   "metadata": {
    "slideshow": {
     "slide_type": "slide"
    }
   },
   "source": [
    "## Learning goals:\n",
    "- Goal 1: Summarize the use case for sql in the data science skill set\n",
    "- Goal 2: Define key sql terminology\n",
    "- Goal 3: Get information about DB schema and table structure\n",
    "- Goal 4: Use basic SQL commands:\n",
    "    - Construct SQL queries\n",
    "    - Use JOIN to merge tables along logical columns\n",
    "    - Grouping Data with SQL\n",
    "- Goal 5: Query data from pandas dataframes using SQL\n",
    "- Goal 6: Convert SQL to pandas"
   ]
  },
  {
   "cell_type": "markdown",
   "metadata": {
    "slideshow": {
     "slide_type": "slide"
    }
   },
   "source": [
    "## Goal 1: Summarize\n",
    "\n",
    "[Netflix has a great article](https://medium.com/netflix-techblog/notebook-innovation-591ee3221233) describing three different data roles at their company, their different needs, and their toolsets.\n",
    "\n",
    "![netflix](img/netflix-data-roles.jpeg)\n",
    "\n",
    "Examining that graphic, SQL shows up as one of the tools of the _Data Engineer_ "
   ]
  },
  {
   "cell_type": "markdown",
   "metadata": {
    "slideshow": {
     "slide_type": "slide"
    }
   },
   "source": [
    "Data Engineers provide the essential data architecture services that make data science possible.\n",
    "\n",
    "![hierarchy](img/ai-hierachy.png)\n",
    "\n",
    "[Source: Monica Rogati’s fantastic Medium post “The AI Hierarchy of Needs”\n",
    "](https://hackernoon.com/the-ai-hierarchy-of-needs-18f111fcc007)"
   ]
  },
  {
   "cell_type": "markdown",
   "metadata": {
    "slideshow": {
     "slide_type": "slide"
    }
   },
   "source": [
    "![etl](img/etl.png)\n",
    "\n",
    "[img source: Jeff Hammerbacher’s slide from UC Berkeley CS 194 course ](https://bcourses.berkeley.edu/courses/1377158/pages/cs-194-16-introduction-to-data-science-fall-2015)"
   ]
  },
  {
   "cell_type": "markdown",
   "metadata": {
    "slideshow": {
     "slide_type": "slide"
    }
   },
   "source": [
    "### What is a Relational Database? \n",
    "\n",
    "![rdb](img/relational-dbms-model.png)\n",
    "[reference for image ](https://www.studytonight.com/dbms/database-model.php)"
   ]
  },
  {
   "cell_type": "markdown",
   "metadata": {
    "slideshow": {
     "slide_type": "slide"
    }
   },
   "source": [
    "### POPULAR RDBMS\n",
    "\n",
    "- SQLite\n",
    "- MySQL\n",
    "- PostgreSql\n",
    "- Oracle DB\n",
    "- SQL Server"
   ]
  },
  {
   "cell_type": "markdown",
   "metadata": {
    "slideshow": {
     "slide_type": "slide"
    }
   },
   "source": [
    "***\n",
    "## Goal 2: Database terminology\n",
    "\n",
    "### Relational Database Schema\n",
    "\n",
    "![schema](img/MySQL_Schema_Music_Example.png)\n",
    "\n",
    "[source of image](https://database.guide/what-is-a-database-schema/)"
   ]
  },
  {
   "cell_type": "markdown",
   "metadata": {},
   "source": [
    "ERD = Entity Relationship Diagram\n",
    "\n",
    "Key is similar to index\n",
    "\n",
    "cows foot (branches out 3) meaning there could be many albums tied to one genre or one artist might be tied to many albums\n",
    "\n",
    "one lines = 1 relationship\n",
    "the second line = a relationship must exist\n",
    "o = could be zero relationships on second line\n",
    "\n",
    "line vs crows feet"
   ]
  },
  {
   "cell_type": "markdown",
   "metadata": {
    "slideshow": {
     "slide_type": "slide"
    }
   },
   "source": [
    "### Table columns view\n",
    "<img src=\"img/columns.png\" width=650>"
   ]
  },
  {
   "cell_type": "markdown",
   "metadata": {
    "slideshow": {
     "slide_type": "slide"
    }
   },
   "source": [
    "### Terminology\n",
    "\n",
    "- Database - collection of tables, mysql might have multiple databses inside a main server\n",
    "data lake deals with unstructured data and typically longterm unstructured data storage, database deals withs structure data for production and operation, data warehouse is structured with purpose to perform analytics\n",
    "- Schema - describes tables, columns, and structure of given databas\n",
    "- Queries - writing SQL, how to get data out\n",
    "- Tables - data, like a building, you are not going to change too much (pks or column names), might add a column\n",
    "- Views - temporary table, updates if underlying tables are updated\n",
    "- Primary Keys - what defines a record in a row, by default are unique, can be multiple columns\n",
    "- Foreign Keys - relates pk of one table to a foreign key of another table\n",
    "- Indexes - not same as pandas, like index in back of book, makes lookups on specific columns faster, you would never change the index of a table\n",
    "- Functions & User Defined Functions (UDFs) - some are built in and you can define your own"
   ]
  },
  {
   "cell_type": "markdown",
   "metadata": {
    "slideshow": {
     "slide_type": "slide"
    }
   },
   "source": [
    "***\n",
    "### SQLite\n",
    "\n",
    "<img src=\"img/SQLite-Python.jpg\" width=650>\n",
    "\n",
    "\"SQLite is a C library that provides a lightweight disk-based database that doesn’t require a separate server process and allows accessing the database using a nonstandard variant of the SQL query language. Some applications can use SQLite for internal data storage. It’s also possible to prototype an application using SQLite and then port the code to a larger database such as PostgreSQL or Oracle.\" - [sqlite documentation](https://docs.python.org/2/library/sqlite3.html)\n",
    "\n"
   ]
  },
  {
   "cell_type": "markdown",
   "metadata": {
    "slideshow": {
     "slide_type": "slide"
    }
   },
   "source": [
    "## But what about connecting to database servers?\n",
    "\n",
    "To connect to other database types there are many different libraries:\n",
    "- Oracle: [cx_Oracle](https://oracle.github.io/python-cx_Oracle/)\n",
    "- MySQL: [MySQL-python](https://github.com/farcepest/MySQLdb1)\n",
    "- PostgreSQL: [Psycopg2](http://initd.org/psycopg/docs/)\n",
    "- Microsoft SQL Server: [pymssql](http://www.pymssql.org/en/stable/)\n",
    "\n",
    "These all implement [PEP 249: DB API v2](https://www.python.org/dev/peps/pep-0249/)"
   ]
  },
  {
   "cell_type": "markdown",
   "metadata": {
    "slideshow": {
     "slide_type": "slide"
    }
   },
   "source": [
    "***\n",
    "## Goal 3: Get going with sqlite!"
   ]
  },
  {
   "cell_type": "code",
   "execution_count": 2,
   "metadata": {
    "slideshow": {
     "slide_type": "fragment"
    }
   },
   "outputs": [],
   "source": [
    "import sqlite3"
   ]
  },
  {
   "cell_type": "markdown",
   "metadata": {
    "slideshow": {
     "slide_type": "slide"
    }
   },
   "source": [
    "#### Load a DB object with `connect` and `cursor`"
   ]
  },
  {
   "cell_type": "code",
   "execution_count": 3,
   "metadata": {
    "slideshow": {
     "slide_type": "fragment"
    }
   },
   "outputs": [],
   "source": [
    "con = sqlite3.connect('flights.db')\n",
    "cursor = con.cursor()"
   ]
  },
  {
   "cell_type": "code",
   "execution_count": 4,
   "metadata": {},
   "outputs": [
    {
     "data": {
      "text/plain": [
       "sqlite3.Connection"
      ]
     },
     "execution_count": 4,
     "metadata": {},
     "output_type": "execute_result"
    }
   ],
   "source": [
    "type(con)"
   ]
  },
  {
   "cell_type": "code",
   "execution_count": 5,
   "metadata": {},
   "outputs": [
    {
     "data": {
      "text/plain": [
       "sqlite3.Cursor"
      ]
     },
     "execution_count": 5,
     "metadata": {},
     "output_type": "execute_result"
    }
   ],
   "source": [
    "type(cursor)"
   ]
  },
  {
   "cell_type": "markdown",
   "metadata": {
    "slideshow": {
     "slide_type": "slide"
    }
   },
   "source": [
    "#### Use sqlite_master to find all the tables in the schema\n",
    "Get the schema of a database from a db in sqlite"
   ]
  },
  {
   "cell_type": "code",
   "execution_count": 6,
   "metadata": {},
   "outputs": [
    {
     "name": "stdout",
     "output_type": "stream",
     "text": [
      "[('airports',), ('airlines',), ('routes',)]\n"
     ]
    }
   ],
   "source": [
    "cursor.execute(\"SELECT name FROM sqlite_master WHERE type='table';\")\n",
    "print(cursor.fetchall()) #returns list of tuples "
   ]
  },
  {
   "cell_type": "code",
   "execution_count": 7,
   "metadata": {},
   "outputs": [
    {
     "data": {
      "text/plain": [
       "(('name', None, None, None, None, None, None),)"
      ]
     },
     "execution_count": 7,
     "metadata": {},
     "output_type": "execute_result"
    }
   ],
   "source": [
    "cursor.description"
   ]
  },
  {
   "cell_type": "code",
   "execution_count": 8,
   "metadata": {},
   "outputs": [
    {
     "name": "stdout",
     "output_type": "stream",
     "text": [
      "[('airports', 'table'), ('ix_airports_index', 'index'), ('airlines', 'table'), ('ix_airlines_index', 'index'), ('routes', 'table'), ('ix_routes_index', 'index')]\n"
     ]
    }
   ],
   "source": [
    "cursor.execute(\"SELECT name, type FROM sqlite_master;\")\n",
    "print(cursor.fetchall()) # also returns indexes on tables"
   ]
  },
  {
   "cell_type": "code",
   "execution_count": 9,
   "metadata": {},
   "outputs": [
    {
     "data": {
      "text/plain": [
       "(('name', None, None, None, None, None, None),\n",
       " ('type', None, None, None, None, None, None))"
      ]
     },
     "execution_count": 9,
     "metadata": {},
     "output_type": "execute_result"
    }
   ],
   "source": [
    "cursor.description"
   ]
  },
  {
   "cell_type": "code",
   "execution_count": 10,
   "metadata": {},
   "outputs": [
    {
     "name": "stdout",
     "output_type": "stream",
     "text": [
      "('table', 'airports', 'airports', 2, 'CREATE TABLE airports (\\n[index] INTEGER,\\n  [id] TEXT,\\n  [name] TEXT,\\n  [city] TEXT,\\n  [country] TEXT,\\n  [code] TEXT,\\n  [icao] TEXT,\\n  [latitude] TEXT,\\n  [longitude] TEXT,\\n  [altitude] TEXT,\\n  [offset] TEXT,\\n  [dst] TEXT,\\n  [timezone] TEXT\\n)')\n",
      "('index', 'ix_airports_index', 'airports', 3, 'CREATE INDEX ix_airports_index ON airports ([index])')\n",
      "('table', 'airlines', 'airlines', 945, 'CREATE TABLE airlines (\\n[index] INTEGER,\\n  [id] TEXT,\\n  [name] TEXT,\\n  [alias] TEXT,\\n  [iata] TEXT,\\n  [icao] TEXT,\\n  [callsign] TEXT,\\n  [country] TEXT,\\n  [active] TEXT\\n)')\n",
      "('index', 'ix_airlines_index', 'airlines', 946, 'CREATE INDEX ix_airlines_index ON airlines ([index])')\n",
      "('table', 'routes', 'routes', 1393, 'CREATE TABLE routes (\\n[index] INTEGER,\\n  [airline] TEXT,\\n  [airline_id] TEXT,\\n  [source] TEXT,\\n  [source_id] TEXT,\\n  [dest] TEXT,\\n  [dest_id] TEXT,\\n  [codeshare] TEXT,\\n  [stops] TEXT,\\n  [equipment] TEXT\\n)')\n",
      "('index', 'ix_routes_index', 'routes', 1394, 'CREATE INDEX ix_routes_index ON routes ([index])')\n"
     ]
    }
   ],
   "source": [
    "# Select all columns...\n",
    "cursor.execute(\"SELECT * FROM sqlite_master;\")\n",
    "results = cursor.fetchall()\n",
    "for res in results:\n",
    "    print(res)"
   ]
  },
  {
   "cell_type": "markdown",
   "metadata": {
    "slideshow": {
     "slide_type": "slide"
    }
   },
   "source": [
    "#### Get information about one table\n",
    "\n",
    "**A note about** `execute`<br>\n",
    "Each time you use it, you reset the value of cursor"
   ]
  },
  {
   "cell_type": "code",
   "execution_count": 11,
   "metadata": {},
   "outputs": [
    {
     "data": {
      "text/plain": [
       "(0,\n",
       " '1',\n",
       " 'Goroka',\n",
       " 'Goroka',\n",
       " 'Papua New Guinea',\n",
       " 'GKA',\n",
       " 'AYGA',\n",
       " '-6.081689',\n",
       " '145.391881',\n",
       " '5282',\n",
       " '10',\n",
       " 'U',\n",
       " 'Pacific/Port_Moresby')"
      ]
     },
     "execution_count": 11,
     "metadata": {},
     "output_type": "execute_result"
    }
   ],
   "source": [
    "cursor.execute(\"SELECT * FROM airports as a;\").fetchone()\n",
    "# in python you can only have one statement per execute use;\n",
    "# semicolon to rnf statement is common\n",
    "# cursor is where you are, when you run execute, cursor resets to top\n",
    "# as creates an alias / re-names"
   ]
  },
  {
   "cell_type": "code",
   "execution_count": 12,
   "metadata": {},
   "outputs": [
    {
     "data": {
      "text/plain": [
       "(0,\n",
       " '1',\n",
       " 'Goroka',\n",
       " 'Goroka',\n",
       " 'Papua New Guinea',\n",
       " 'GKA',\n",
       " 'AYGA',\n",
       " '-6.081689',\n",
       " '145.391881',\n",
       " '5282',\n",
       " '10',\n",
       " 'U',\n",
       " 'Pacific/Port_Moresby')"
      ]
     },
     "execution_count": 12,
     "metadata": {},
     "output_type": "execute_result"
    }
   ],
   "source": [
    "cursor.execute(\"SELECT * FROM airports as a limit 5\").fetchone()"
   ]
  },
  {
   "cell_type": "code",
   "execution_count": 13,
   "metadata": {},
   "outputs": [
    {
     "data": {
      "text/plain": [
       "(0,\n",
       " '1',\n",
       " 'Goroka',\n",
       " 'Goroka',\n",
       " 'Papua New Guinea',\n",
       " 'GKA',\n",
       " 'AYGA',\n",
       " '-6.081689',\n",
       " '145.391881',\n",
       " '5282',\n",
       " '10',\n",
       " 'U',\n",
       " 'Pacific/Port_Moresby')"
      ]
     },
     "execution_count": 13,
     "metadata": {},
     "output_type": "execute_result"
    }
   ],
   "source": [
    "cursor.execute(\"SELECT * FROM airports\").fetchone()"
   ]
  },
  {
   "cell_type": "code",
   "execution_count": 14,
   "metadata": {},
   "outputs": [
    {
     "data": {
      "text/plain": [
       "(1,\n",
       " '2',\n",
       " 'Madang',\n",
       " 'Madang',\n",
       " 'Papua New Guinea',\n",
       " 'MAG',\n",
       " 'AYMD',\n",
       " '-5.207083',\n",
       " '145.7887',\n",
       " '20',\n",
       " '10',\n",
       " 'U',\n",
       " 'Pacific/Port_Moresby')"
      ]
     },
     "execution_count": 14,
     "metadata": {},
     "output_type": "execute_result"
    }
   ],
   "source": [
    "cursor.fetchone()"
   ]
  },
  {
   "cell_type": "code",
   "execution_count": 15,
   "metadata": {},
   "outputs": [
    {
     "data": {
      "text/plain": [
       "[(2,\n",
       "  '3',\n",
       "  'Mount Hagen',\n",
       "  'Mount Hagen',\n",
       "  'Papua New Guinea',\n",
       "  'HGU',\n",
       "  'AYMH',\n",
       "  '-5.826789',\n",
       "  '144.295861',\n",
       "  '5388',\n",
       "  '10',\n",
       "  'U',\n",
       "  'Pacific/Port_Moresby'),\n",
       " (3,\n",
       "  '4',\n",
       "  'Nadzab',\n",
       "  'Nadzab',\n",
       "  'Papua New Guinea',\n",
       "  'LAE',\n",
       "  'AYNZ',\n",
       "  '-6.569828',\n",
       "  '146.726242',\n",
       "  '239',\n",
       "  '10',\n",
       "  'U',\n",
       "  'Pacific/Port_Moresby'),\n",
       " (4,\n",
       "  '5',\n",
       "  'Port Moresby Jacksons Intl',\n",
       "  'Port Moresby',\n",
       "  'Papua New Guinea',\n",
       "  'POM',\n",
       "  'AYPY',\n",
       "  '-9.443383',\n",
       "  '147.22005',\n",
       "  '146',\n",
       "  '10',\n",
       "  'U',\n",
       "  'Pacific/Port_Moresby'),\n",
       " (5,\n",
       "  '6',\n",
       "  'Wewak Intl',\n",
       "  'Wewak',\n",
       "  'Papua New Guinea',\n",
       "  'WWK',\n",
       "  'AYWK',\n",
       "  '-3.583828',\n",
       "  '143.669186',\n",
       "  '19',\n",
       "  '10',\n",
       "  'U',\n",
       "  'Pacific/Port_Moresby')]"
      ]
     },
     "execution_count": 15,
     "metadata": {},
     "output_type": "execute_result"
    }
   ],
   "source": [
    "cursor.fetchmany(4)"
   ]
  },
  {
   "cell_type": "markdown",
   "metadata": {
    "slideshow": {
     "slide_type": "slide"
    }
   },
   "source": [
    "#### Use description"
   ]
  },
  {
   "cell_type": "code",
   "execution_count": 16,
   "metadata": {
    "slideshow": {
     "slide_type": "fragment"
    }
   },
   "outputs": [
    {
     "data": {
      "text/plain": [
       "(('index', None, None, None, None, None, None),\n",
       " ('id', None, None, None, None, None, None),\n",
       " ('name', None, None, None, None, None, None),\n",
       " ('city', None, None, None, None, None, None),\n",
       " ('country', None, None, None, None, None, None),\n",
       " ('code', None, None, None, None, None, None),\n",
       " ('icao', None, None, None, None, None, None),\n",
       " ('latitude', None, None, None, None, None, None),\n",
       " ('longitude', None, None, None, None, None, None),\n",
       " ('altitude', None, None, None, None, None, None),\n",
       " ('offset', None, None, None, None, None, None),\n",
       " ('dst', None, None, None, None, None, None),\n",
       " ('timezone', None, None, None, None, None, None))"
      ]
     },
     "execution_count": 16,
     "metadata": {},
     "output_type": "execute_result"
    }
   ],
   "source": [
    "cursor.description"
   ]
  },
  {
   "cell_type": "markdown",
   "metadata": {
    "slideshow": {
     "slide_type": "slide"
    }
   },
   "source": [
    "#### Or use `Pragma`\n",
    "`Pragma` tool [link here](https://www.sqlite.org/pragma.html#pragma_table_info)\n",
    "\n",
    "**output**<br>\n",
    "`(column id, column name, data type, whether or not the column can be NULL, and the default value for the column)`"
   ]
  },
  {
   "cell_type": "code",
   "execution_count": 17,
   "metadata": {
    "slideshow": {
     "slide_type": "slide"
    }
   },
   "outputs": [
    {
     "name": "stdout",
     "output_type": "stream",
     "text": [
      "(0, 'index', 'INTEGER', 0, None, 0)\n",
      "(1, 'id', 'TEXT', 0, None, 0)\n",
      "(2, 'name', 'TEXT', 0, None, 0)\n",
      "(3, 'city', 'TEXT', 0, None, 0)\n",
      "(4, 'country', 'TEXT', 0, None, 0)\n",
      "(5, 'code', 'TEXT', 0, None, 0)\n",
      "(6, 'icao', 'TEXT', 0, None, 0)\n",
      "(7, 'latitude', 'TEXT', 0, None, 0)\n",
      "(8, 'longitude', 'TEXT', 0, None, 0)\n",
      "(9, 'altitude', 'TEXT', 0, None, 0)\n",
      "(10, 'offset', 'TEXT', 0, None, 0)\n",
      "(11, 'dst', 'TEXT', 0, None, 0)\n",
      "(12, 'timezone', 'TEXT', 0, None, 0)\n"
     ]
    }
   ],
   "source": [
    "cursor.execute(\"PRAGMA table_info(airports)\")\n",
    "info = cursor.fetchall()\n",
    "print(*info, sep = \"\\n\") \n",
    "\n",
    "# star means unpack, says thr result of a list, tunrd it into infor"
   ]
  },
  {
   "cell_type": "code",
   "execution_count": 18,
   "metadata": {},
   "outputs": [
    {
     "name": "stdout",
     "output_type": "stream",
     "text": [
      "1 2\n"
     ]
    }
   ],
   "source": [
    "mylist = [1, 2]\n",
    "print(mylist[0],mylist[1])"
   ]
  },
  {
   "cell_type": "code",
   "execution_count": 19,
   "metadata": {},
   "outputs": [
    {
     "name": "stdout",
     "output_type": "stream",
     "text": [
      "1\n",
      "2\n"
     ]
    }
   ],
   "source": [
    "mylist = [1, 2]\n",
    "print(*mylist, sep = \"\\n\")"
   ]
  },
  {
   "cell_type": "markdown",
   "metadata": {},
   "source": [
    "** unpack is same concept but for dictionaries (unpacks key and values)"
   ]
  },
  {
   "cell_type": "markdown",
   "metadata": {
    "slideshow": {
     "slide_type": "slide"
    }
   },
   "source": [
    "#### Making fetch happen\n",
    "\n",
    "`.fetchall()` is how you get the query results out of the object.\n",
    "\n",
    "You can also `.fetchone()` or `.fetchmany()`"
   ]
  },
  {
   "cell_type": "markdown",
   "metadata": {
    "slideshow": {
     "slide_type": "slide"
    }
   },
   "source": [
    "**Task:** Get the descriptive data for airlines and routes tables"
   ]
  },
  {
   "cell_type": "code",
   "execution_count": 20,
   "metadata": {},
   "outputs": [
    {
     "name": "stdout",
     "output_type": "stream",
     "text": [
      "(0, 'index', 'INTEGER', 0, None, 0)\n",
      "(1, 'id', 'TEXT', 0, None, 0)\n",
      "(2, 'name', 'TEXT', 0, None, 0)\n",
      "(3, 'alias', 'TEXT', 0, None, 0)\n",
      "(4, 'iata', 'TEXT', 0, None, 0)\n",
      "(5, 'icao', 'TEXT', 0, None, 0)\n",
      "(6, 'callsign', 'TEXT', 0, None, 0)\n",
      "(7, 'country', 'TEXT', 0, None, 0)\n",
      "(8, 'active', 'TEXT', 0, None, 0)\n"
     ]
    }
   ],
   "source": [
    "cursor.execute(\"PRAGMA table_info(airlines)\")\n",
    "info = cursor.fetchall()\n",
    "print(*info, sep = \"\\n\")"
   ]
  },
  {
   "cell_type": "code",
   "execution_count": 21,
   "metadata": {},
   "outputs": [
    {
     "name": "stdout",
     "output_type": "stream",
     "text": [
      "(0, 'index', 'INTEGER', 0, None, 0)\n",
      "(1, 'airline', 'TEXT', 0, None, 0)\n",
      "(2, 'airline_id', 'TEXT', 0, None, 0)\n",
      "(3, 'source', 'TEXT', 0, None, 0)\n",
      "(4, 'source_id', 'TEXT', 0, None, 0)\n",
      "(5, 'dest', 'TEXT', 0, None, 0)\n",
      "(6, 'dest_id', 'TEXT', 0, None, 0)\n",
      "(7, 'codeshare', 'TEXT', 0, None, 0)\n",
      "(8, 'stops', 'TEXT', 0, None, 0)\n",
      "(9, 'equipment', 'TEXT', 0, None, 0)\n"
     ]
    }
   ],
   "source": [
    "cursor.execute(\"PRAGMA table_info(routes)\")\n",
    "info = cursor.fetchall()\n",
    "print(*info, sep = \"\\n\")"
   ]
  },
  {
   "cell_type": "code",
   "execution_count": 22,
   "metadata": {},
   "outputs": [
    {
     "name": "stdout",
     "output_type": "stream",
     "text": [
      "(6048,)\n"
     ]
    }
   ],
   "source": [
    "# how many rows in airlines\n",
    "cursor.execute(\"SELECT count(*) FROM airlines;\")\n",
    "info = cursor.fetchall()\n",
    "print(*info, sep = \"\\n\")"
   ]
  },
  {
   "cell_type": "code",
   "execution_count": 23,
   "metadata": {},
   "outputs": [
    {
     "data": {
      "text/plain": [
       "(('count(*)', None, None, None, None, None, None),)"
      ]
     },
     "execution_count": 23,
     "metadata": {},
     "output_type": "execute_result"
    }
   ],
   "source": [
    "cursor.description"
   ]
  },
  {
   "cell_type": "code",
   "execution_count": 24,
   "metadata": {},
   "outputs": [
    {
     "name": "stdout",
     "output_type": "stream",
     "text": [
      "(6048,)\n"
     ]
    }
   ],
   "source": [
    "# Re-name to airline_count\n",
    "cursor.execute(\"SELECT count(*) airline_count FROM airlines;\")\n",
    "info = cursor.fetchall()\n",
    "print(*info, sep = \"\\n\")"
   ]
  },
  {
   "cell_type": "code",
   "execution_count": 25,
   "metadata": {},
   "outputs": [
    {
     "data": {
      "text/plain": [
       "(('airline_count', None, None, None, None, None, None),)"
      ]
     },
     "execution_count": 25,
     "metadata": {},
     "output_type": "execute_result"
    }
   ],
   "source": [
    "cursor.description"
   ]
  },
  {
   "cell_type": "markdown",
   "metadata": {
    "slideshow": {
     "slide_type": "slide"
    }
   },
   "source": [
    "***\n",
    "## Goal 4: Use basic SQL commands \n",
    "- Construct SQL queries\n",
    "- Use JOIN to merge tables along logical columns\n",
    "- Grouping Data with SQL"
   ]
  },
  {
   "cell_type": "markdown",
   "metadata": {
    "slideshow": {
     "slide_type": "slide"
    }
   },
   "source": [
    "### Construct SQL queries"
   ]
  },
  {
   "cell_type": "markdown",
   "metadata": {
    "slideshow": {
     "slide_type": "fragment"
    }
   },
   "source": [
    "**Select** - column names"
   ]
  },
  {
   "cell_type": "markdown",
   "metadata": {
    "slideshow": {
     "slide_type": "fragment"
    }
   },
   "source": [
    "**From** - table"
   ]
  },
  {
   "cell_type": "markdown",
   "metadata": {},
   "source": [
    "**Join**"
   ]
  },
  {
   "cell_type": "markdown",
   "metadata": {
    "slideshow": {
     "slide_type": "fragment"
    }
   },
   "source": [
    "**Where** - filters"
   ]
  },
  {
   "cell_type": "markdown",
   "metadata": {},
   "source": [
    "**GroupBy**"
   ]
  },
  {
   "cell_type": "markdown",
   "metadata": {
    "slideshow": {
     "slide_type": "fragment"
    }
   },
   "source": [
    "**Order by**"
   ]
  },
  {
   "cell_type": "markdown",
   "metadata": {
    "slideshow": {
     "slide_type": "fragment"
    }
   },
   "source": [
    "**Limit** - number of rows to return"
   ]
  },
  {
   "cell_type": "markdown",
   "metadata": {
    "slideshow": {
     "slide_type": "slide"
    }
   },
   "source": [
    "#### Options for each:"
   ]
  },
  {
   "cell_type": "markdown",
   "metadata": {
    "slideshow": {
     "slide_type": "fragment"
    }
   },
   "source": [
    "**Select**:  `distinct`, using `as` to rename columns, single number aggregates"
   ]
  },
  {
   "cell_type": "markdown",
   "metadata": {
    "slideshow": {
     "slide_type": "fragment"
    }
   },
   "source": [
    "**From:** also uses aliasing with `as`"
   ]
  },
  {
   "cell_type": "markdown",
   "metadata": {
    "slideshow": {
     "slide_type": "fragment"
    }
   },
   "source": [
    "**Where**: equals is only one `=`, `between`, `in`, wildcards `%`, `AND`, `OR`, `NOT`"
   ]
  },
  {
   "cell_type": "markdown",
   "metadata": {
    "slideshow": {
     "slide_type": "fragment"
    }
   },
   "source": [
    "**Order by**: `asc`(default) and `desc`"
   ]
  },
  {
   "cell_type": "markdown",
   "metadata": {
    "slideshow": {
     "slide_type": "fragment"
    }
   },
   "source": [
    "**Limit**:  #"
   ]
  },
  {
   "cell_type": "markdown",
   "metadata": {
    "slideshow": {
     "slide_type": "slide"
    }
   },
   "source": [
    "**Task**: \n",
    "- Select only active airlines in the UK from the airlines table\n",
    "- Select the unique list of countries with airports"
   ]
  },
  {
   "cell_type": "code",
   "execution_count": 26,
   "metadata": {},
   "outputs": [
    {
     "data": {
      "text/plain": [
       "[('Astraeus',),\n",
       " ('Air Southwest',),\n",
       " ('Aurigny Air Services',),\n",
       " ('Air Wales',),\n",
       " ('AD Aviation',)]"
      ]
     },
     "execution_count": 26,
     "metadata": {},
     "output_type": "execute_result"
    }
   ],
   "source": [
    "cursor.execute(\"\"\"\n",
    "SELECT name\n",
    "FROM airlines\n",
    "WHERE active = 'Y'\n",
    "  AND country = 'United Kingdom';\n",
    "\"\"\")\n",
    "cursor.fetchmany(5)"
   ]
  },
  {
   "cell_type": "code",
   "execution_count": 27,
   "metadata": {},
   "outputs": [
    {
     "data": {
      "text/plain": [
       "[(0, 'index', 'INTEGER', 0, None, 0),\n",
       " (1, 'id', 'TEXT', 0, None, 0),\n",
       " (2, 'name', 'TEXT', 0, None, 0),\n",
       " (3, 'city', 'TEXT', 0, None, 0),\n",
       " (4, 'country', 'TEXT', 0, None, 0),\n",
       " (5, 'code', 'TEXT', 0, None, 0),\n",
       " (6, 'icao', 'TEXT', 0, None, 0),\n",
       " (7, 'latitude', 'TEXT', 0, None, 0),\n",
       " (8, 'longitude', 'TEXT', 0, None, 0),\n",
       " (9, 'altitude', 'TEXT', 0, None, 0),\n",
       " (10, 'offset', 'TEXT', 0, None, 0),\n",
       " (11, 'dst', 'TEXT', 0, None, 0),\n",
       " (12, 'timezone', 'TEXT', 0, None, 0)]"
      ]
     },
     "execution_count": 27,
     "metadata": {},
     "output_type": "execute_result"
    }
   ],
   "source": [
    "cursor.execute(\"PRAGMA table_info(airports)\").fetchall()"
   ]
  },
  {
   "cell_type": "code",
   "execution_count": 28,
   "metadata": {},
   "outputs": [
    {
     "data": {
      "text/plain": [
       "[(0,\n",
       "  '1',\n",
       "  'Goroka',\n",
       "  'Goroka',\n",
       "  'Papua New Guinea',\n",
       "  'GKA',\n",
       "  'AYGA',\n",
       "  '-6.081689',\n",
       "  '145.391881',\n",
       "  '5282',\n",
       "  '10',\n",
       "  'U',\n",
       "  'Pacific/Port_Moresby'),\n",
       " (1,\n",
       "  '2',\n",
       "  'Madang',\n",
       "  'Madang',\n",
       "  'Papua New Guinea',\n",
       "  'MAG',\n",
       "  'AYMD',\n",
       "  '-5.207083',\n",
       "  '145.7887',\n",
       "  '20',\n",
       "  '10',\n",
       "  'U',\n",
       "  'Pacific/Port_Moresby'),\n",
       " (2,\n",
       "  '3',\n",
       "  'Mount Hagen',\n",
       "  'Mount Hagen',\n",
       "  'Papua New Guinea',\n",
       "  'HGU',\n",
       "  'AYMH',\n",
       "  '-5.826789',\n",
       "  '144.295861',\n",
       "  '5388',\n",
       "  '10',\n",
       "  'U',\n",
       "  'Pacific/Port_Moresby'),\n",
       " (3,\n",
       "  '4',\n",
       "  'Nadzab',\n",
       "  'Nadzab',\n",
       "  'Papua New Guinea',\n",
       "  'LAE',\n",
       "  'AYNZ',\n",
       "  '-6.569828',\n",
       "  '146.726242',\n",
       "  '239',\n",
       "  '10',\n",
       "  'U',\n",
       "  'Pacific/Port_Moresby'),\n",
       " (4,\n",
       "  '5',\n",
       "  'Port Moresby Jacksons Intl',\n",
       "  'Port Moresby',\n",
       "  'Papua New Guinea',\n",
       "  'POM',\n",
       "  'AYPY',\n",
       "  '-9.443383',\n",
       "  '147.22005',\n",
       "  '146',\n",
       "  '10',\n",
       "  'U',\n",
       "  'Pacific/Port_Moresby')]"
      ]
     },
     "execution_count": 28,
     "metadata": {},
     "output_type": "execute_result"
    }
   ],
   "source": [
    "cursor.execute(\"select * from airports limit 5\").fetchall()"
   ]
  },
  {
   "cell_type": "code",
   "execution_count": 29,
   "metadata": {},
   "outputs": [
    {
     "data": {
      "text/plain": [
       "[('Zimbabwe',),\n",
       " ('Zambia',),\n",
       " ('Yemen',),\n",
       " ('Western Sahara',),\n",
       " ('West Bank',),\n",
       " ('Wallis and Futuna',),\n",
       " ('Wake Island',),\n",
       " ('Virgin Islands',),\n",
       " ('Vietnam',),\n",
       " ('Venezuela',)]"
      ]
     },
     "execution_count": 29,
     "metadata": {},
     "output_type": "execute_result"
    }
   ],
   "source": [
    "cursor.execute(\"\"\"\n",
    "SELECT DISTINCT country\n",
    "FROM airports\n",
    "ORDER BY country DESC\n",
    "\"\"\").fetchmany(10)"
   ]
  },
  {
   "cell_type": "code",
   "execution_count": 30,
   "metadata": {},
   "outputs": [
    {
     "data": {
      "text/plain": [
       "[('Zimbabwe',),\n",
       " ('Zambia',),\n",
       " ('Yemen',),\n",
       " ('Western Sahara',),\n",
       " ('West Bank',),\n",
       " ('Wallis and Futuna',),\n",
       " ('Wake Island',),\n",
       " ('Virgin Islands',),\n",
       " ('Vietnam',),\n",
       " ('Venezuela',)]"
      ]
     },
     "execution_count": 30,
     "metadata": {},
     "output_type": "execute_result"
    }
   ],
   "source": [
    "cursor.execute(\"\"\"\n",
    "SELECT DISTINCT country\n",
    "FROM airports\n",
    "ORDER BY 1 DESC\n",
    "\"\"\").fetchmany(10)\n",
    "# called column 1 descending"
   ]
  },
  {
   "cell_type": "code",
   "execution_count": 31,
   "metadata": {},
   "outputs": [
    {
     "data": {
      "text/plain": [
       "[('United States', 1697),\n",
       " ('Canada', 435),\n",
       " ('Germany', 321),\n",
       " ('Australia', 263),\n",
       " ('Russia', 249),\n",
       " ('France', 233),\n",
       " ('China', 219),\n",
       " ('Brazil', 213),\n",
       " ('United Kingdom', 210),\n",
       " ('India', 140)]"
      ]
     },
     "execution_count": 31,
     "metadata": {},
     "output_type": "execute_result"
    }
   ],
   "source": [
    "#list of countries sorted by number of airports in that country\n",
    "cursor.execute(\"\"\"\n",
    "SELECT country, count(*) AS airport_count\n",
    "FROM airports\n",
    "GROUP BY country\n",
    "ORDER BY count(*) DESC\n",
    "\"\"\").fetchmany(10)"
   ]
  },
  {
   "cell_type": "code",
   "execution_count": 32,
   "metadata": {},
   "outputs": [
    {
     "data": {
      "text/plain": [
       "[('United States', 1697),\n",
       " ('Canada', 435),\n",
       " ('Germany', 321),\n",
       " ('Australia', 263),\n",
       " ('Russia', 249),\n",
       " ('France', 233),\n",
       " ('China', 219),\n",
       " ('Brazil', 213),\n",
       " ('United Kingdom', 210),\n",
       " ('India', 140)]"
      ]
     },
     "execution_count": 32,
     "metadata": {},
     "output_type": "execute_result"
    }
   ],
   "source": [
    "#list of countries sorted by number of airports in that country\n",
    "cursor.execute(\"\"\"\n",
    "SELECT country, count(*) AS airport_count\n",
    "FROM airports\n",
    "GROUP BY 1\n",
    "ORDER BY 2 DESC\n",
    "\"\"\").fetchmany(10)"
   ]
  },
  {
   "cell_type": "markdown",
   "metadata": {
    "slideshow": {
     "slide_type": "slide"
    }
   },
   "source": [
    "### SQL Joins"
   ]
  },
  {
   "cell_type": "markdown",
   "metadata": {
    "slideshow": {
     "slide_type": "fragment"
    }
   },
   "source": [
    "SQL joins can be used to both **add** data to a table and **remove** data from a table. "
   ]
  },
  {
   "cell_type": "markdown",
   "metadata": {
    "slideshow": {
     "slide_type": "fragment"
    }
   },
   "source": [
    "<img src=\"img/venn.png\" width=550>"
   ]
  },
  {
   "cell_type": "markdown",
   "metadata": {},
   "source": [
    "Inner, Left, and Full are the typical joins you will do."
   ]
  },
  {
   "cell_type": "markdown",
   "metadata": {
    "slideshow": {
     "slide_type": "slide"
    }
   },
   "source": [
    "**Task** Write a query that will join the latitude and longitude data from the airports table to the information on the routes table"
   ]
  },
  {
   "cell_type": "code",
   "execution_count": 33,
   "metadata": {
    "slideshow": {
     "slide_type": "skip"
    }
   },
   "outputs": [
    {
     "name": "stdout",
     "output_type": "stream",
     "text": [
      "('index', None, None, None, None, None, None)\n",
      "('id', None, None, None, None, None, None)\n",
      "('name', None, None, None, None, None, None)\n",
      "('city', None, None, None, None, None, None)\n",
      "('country', None, None, None, None, None, None)\n",
      "('code', None, None, None, None, None, None)\n",
      "('icao', None, None, None, None, None, None)\n",
      "('latitude', None, None, None, None, None, None)\n",
      "('longitude', None, None, None, None, None, None)\n",
      "('altitude', None, None, None, None, None, None)\n",
      "('offset', None, None, None, None, None, None)\n",
      "('dst', None, None, None, None, None, None)\n",
      "('timezone', None, None, None, None, None, None)\n"
     ]
    }
   ],
   "source": [
    "cursor.execute(\"\"\"\n",
    "SELECT *\n",
    "FROM airports\n",
    "\"\"\")\n",
    "print(*cursor.description, sep='\\n')"
   ]
  },
  {
   "cell_type": "code",
   "execution_count": 38,
   "metadata": {},
   "outputs": [
    {
     "name": "stdout",
     "output_type": "stream",
     "text": [
      "[('2965', '2990'), ('2966', '2990'), ('2966', '2962'), ('2968', '2990'), ('2968', '4078'), ('4029', '2990'), ('4029', '6969'), ('4029', '\\\\N'), ('4029', '6160'), ('6156', '2952')]\n"
     ]
    }
   ],
   "source": [
    "cursor.execute(\"\"\"\n",
    "SELECT source_id, dest_id\n",
    "FROM routes\n",
    "limit 10;\n",
    "\"\"\")\n",
    "print(cursor.fetchall(), sep='\\n')"
   ]
  },
  {
   "cell_type": "code",
   "execution_count": 41,
   "metadata": {
    "scrolled": true
   },
   "outputs": [
    {
     "name": "stdout",
     "output_type": "stream",
     "text": [
      "[(2886, '2965', 'Sochi', 'Sochi', 'Russia', 'AER', 'URSS', '43.449928', '39.956589', '89', '4', 'N', 'Europe/Moscow'), (2910, '2990', 'Kazan', 'Kazan', 'Russia', 'KZN', 'UWKD', '55.606186', '49.278728', '411', '4', 'N', 'Europe/Moscow')]\n"
     ]
    }
   ],
   "source": [
    "cursor.execute(\"\"\"\n",
    "SELECT *\n",
    "FROM airports\n",
    "where id IN ('2965', '2990')\n",
    "\"\"\")\n",
    "print(cursor.fetchall(), sep='\\n')"
   ]
  },
  {
   "cell_type": "code",
   "execution_count": 45,
   "metadata": {
    "scrolled": true
   },
   "outputs": [
    {
     "name": "stdout",
     "output_type": "stream",
     "text": [
      "[(0, '2B', '410', 'AER', '2965', 'KZN', '2990', None, '0', 'CR2', '43.449928', '39.956589', '55.606186', '49.278728')]\n"
     ]
    }
   ],
   "source": [
    "cursor.execute(\"\"\"\n",
    "SELECT\n",
    "  r.*,\n",
    "  a_source.latitude source_lat,\n",
    "  a_source.longitude source_lon,\n",
    "  a_dest.latitude dest_lat,\n",
    "  a_dest.longitude dest_lon\n",
    "  \n",
    "FROM routes r\n",
    "LEFT JOIN airports a_source ON r.source_id = a_source.id\n",
    "LEFT JOIN airports a_dest ON r.dest_id = a_dest.id\n",
    "\n",
    "limit 1\n",
    "\"\"\")\n",
    "print(cursor.fetchall(), sep='\\n')"
   ]
  },
  {
   "cell_type": "code",
   "execution_count": 46,
   "metadata": {},
   "outputs": [
    {
     "data": {
      "text/plain": [
       "(('index', None, None, None, None, None, None),\n",
       " ('airline', None, None, None, None, None, None),\n",
       " ('airline_id', None, None, None, None, None, None),\n",
       " ('source', None, None, None, None, None, None),\n",
       " ('source_id', None, None, None, None, None, None),\n",
       " ('dest', None, None, None, None, None, None),\n",
       " ('dest_id', None, None, None, None, None, None),\n",
       " ('codeshare', None, None, None, None, None, None),\n",
       " ('stops', None, None, None, None, None, None),\n",
       " ('equipment', None, None, None, None, None, None),\n",
       " ('source_lat', None, None, None, None, None, None),\n",
       " ('source_lon', None, None, None, None, None, None),\n",
       " ('dest_lat', None, None, None, None, None, None),\n",
       " ('dest_lon', None, None, None, None, None, None))"
      ]
     },
     "execution_count": 46,
     "metadata": {},
     "output_type": "execute_result"
    }
   ],
   "source": [
    "cursor.description"
   ]
  },
  {
   "cell_type": "markdown",
   "metadata": {
    "slideshow": {
     "slide_type": "slide"
    }
   },
   "source": [
    "### Grouping statements\n",
    "\n",
    "Combines `select` and `group by` when you want aggregates by values"
   ]
  },
  {
   "cell_type": "markdown",
   "metadata": {
    "slideshow": {
     "slide_type": "fragment"
    }
   },
   "source": [
    "`select` `min(x)` ... `max()`, `sum()`, etc"
   ]
  },
  {
   "cell_type": "markdown",
   "metadata": {
    "slideshow": {
     "slide_type": "fragment"
    }
   },
   "source": [
    "`group by x`"
   ]
  },
  {
   "cell_type": "markdown",
   "metadata": {
    "slideshow": {
     "slide_type": "slide"
    }
   },
   "source": [
    "**Task**<br>\n",
    "- Which countries have the highest amount of active airlines?\n",
    "- Which countries have the highest amount of inactive airlines?\n",
    "- What about airports by timezones?"
   ]
  },
  {
   "cell_type": "code",
   "execution_count": 47,
   "metadata": {
    "slideshow": {
     "slide_type": "skip"
    }
   },
   "outputs": [
    {
     "name": "stdout",
     "output_type": "stream",
     "text": [
      "('United States', 141)\n",
      "('Russia', 72)\n",
      "('United Kingdom', 40)\n",
      "('Germany', 37)\n",
      "('Canada', 34)\n"
     ]
    }
   ],
   "source": [
    "# Which countries have the highest amount of active airlines?\n",
    "cursor.execute(\"\"\"\n",
    "SELECT country, count(*) as airline_count\n",
    "FROM airlines\n",
    "WHERE active = 'Y'\n",
    "GROUP BY country\n",
    "ORDER BY airline_count DESC\n",
    "\n",
    "LIMIT 5\n",
    "\"\"\")\n",
    "print(*cursor.fetchall(), sep='\\n')"
   ]
  },
  {
   "cell_type": "code",
   "execution_count": 48,
   "metadata": {
    "slideshow": {
     "slide_type": "skip"
    }
   },
   "outputs": [
    {
     "name": "stdout",
     "output_type": "stream",
     "text": [
      "('United States', 939)\n",
      "('Mexico', 427)\n",
      "('United Kingdom', 367)\n",
      "('Canada', 284)\n",
      "('Russia', 158)\n"
     ]
    }
   ],
   "source": [
    "# Which countries have the highest amount of inactive airlines?\n",
    "cursor.execute(\"\"\"\n",
    "SELECT country, count(*) as airline_count\n",
    "FROM airlines\n",
    "WHERE active = 'N'\n",
    "GROUP BY country\n",
    "ORDER BY airline_count DESC\n",
    "\n",
    "LIMIT 5\"\"\")\n",
    "print(*cursor.fetchall(), sep='\\n')"
   ]
  },
  {
   "cell_type": "code",
   "execution_count": 56,
   "metadata": {
    "slideshow": {
     "slide_type": "skip"
    }
   },
   "outputs": [
    {
     "name": "stdout",
     "output_type": "stream",
     "text": [
      "('America/New_York', 628)\n",
      "('America/Chicago', 373)\n",
      "('Europe/Berlin', 319)\n",
      "('America/Anchorage', 258)\n",
      "('Europe/Paris', 232)\n"
     ]
    }
   ],
   "source": [
    "# What about airports by timezones?\n",
    "cursor.execute(\"\"\"\n",
    "SELECT timezone, count(*) as tz_count\n",
    "FROM airports\n",
    "GROUP BY timezone\n",
    "ORDER BY tz_count DESC\n",
    "LIMIT 5\n",
    "\"\"\")\n",
    "\n",
    "print(*cursor.fetchall(), sep='\\n')"
   ]
  },
  {
   "cell_type": "code",
   "execution_count": 57,
   "metadata": {},
   "outputs": [
    {
     "name": "stdout",
     "output_type": "stream",
     "text": [
      "('America/New_York', 628)\n",
      "('America/Chicago', 373)\n",
      "('Europe/Berlin', 319)\n",
      "('America/Anchorage', 258)\n",
      "('Europe/Paris', 232)\n"
     ]
    }
   ],
   "source": [
    "# What about airports by timezones? ALTERNATE way to do it\n",
    "cursor.execute(\"\"\"\n",
    "SELECT timezone, count(*) as tz_count\n",
    "FROM airports\n",
    "GROUP BY 1\n",
    "ORDER BY 2 DESC\n",
    "LIMIT 5\n",
    "\"\"\")\n",
    "\n",
    "print(*cursor.fetchall(), sep='\\n')"
   ]
  },
  {
   "cell_type": "code",
   "execution_count": null,
   "metadata": {},
   "outputs": [],
   "source": [
    "# It's always a good idea to close our connections when we're done\n",
    "cursor.close()\n",
    "con.close()"
   ]
  },
  {
   "cell_type": "markdown",
   "metadata": {
    "slideshow": {
     "slide_type": "slide"
    }
   },
   "source": [
    "## Goal 5: Using sql within pandas to filter\n",
    "\n",
    "`.query()`\n",
    "\n",
    "[query documentation](https://pandas.pydata.org/pandas-docs/stable/reference/api/pandas.DataFrame.query.html)"
   ]
  },
  {
   "cell_type": "code",
   "execution_count": 59,
   "metadata": {
    "slideshow": {
     "slide_type": "slide"
    }
   },
   "outputs": [
    {
     "data": {
      "text/plain": [
       "Animal ID           object\n",
       "Name                object\n",
       "DateTime            object\n",
       "MonthYear           object\n",
       "Date of Birth       object\n",
       "Outcome Type        object\n",
       "Outcome Subtype     object\n",
       "Animal Type         object\n",
       "Sex upon Outcome    object\n",
       "Age upon Outcome    object\n",
       "Breed               object\n",
       "Color               object\n",
       "dtype: object"
      ]
     },
     "execution_count": 59,
     "metadata": {},
     "output_type": "execute_result"
    }
   ],
   "source": [
    "# Get data for an example\n",
    "import pandas as pd\n",
    "shelter_data=pd.read_csv('https://data.austintexas.gov/api/views/9t4d-g238/rows.csv?accessType=DOWNLOAD')\n",
    "shelter_data.dtypes"
   ]
  },
  {
   "cell_type": "code",
   "execution_count": 60,
   "metadata": {
    "slideshow": {
     "slide_type": "slide"
    }
   },
   "outputs": [
    {
     "data": {
      "text/html": [
       "<div>\n",
       "<style scoped>\n",
       "    .dataframe tbody tr th:only-of-type {\n",
       "        vertical-align: middle;\n",
       "    }\n",
       "\n",
       "    .dataframe tbody tr th {\n",
       "        vertical-align: top;\n",
       "    }\n",
       "\n",
       "    .dataframe thead th {\n",
       "        text-align: right;\n",
       "    }\n",
       "</style>\n",
       "<table border=\"1\" class=\"dataframe\">\n",
       "  <thead>\n",
       "    <tr style=\"text-align: right;\">\n",
       "      <th></th>\n",
       "      <th>Animal ID</th>\n",
       "      <th>Name</th>\n",
       "      <th>DateTime</th>\n",
       "      <th>MonthYear</th>\n",
       "      <th>Date of Birth</th>\n",
       "      <th>Outcome Type</th>\n",
       "      <th>Outcome Subtype</th>\n",
       "      <th>Animal Type</th>\n",
       "      <th>Sex upon Outcome</th>\n",
       "      <th>Age upon Outcome</th>\n",
       "      <th>Breed</th>\n",
       "      <th>Color</th>\n",
       "    </tr>\n",
       "  </thead>\n",
       "  <tbody>\n",
       "    <tr>\n",
       "      <th>1146</th>\n",
       "      <td>A796351</td>\n",
       "      <td>Max</td>\n",
       "      <td>08/24/2019 12:03:00 PM</td>\n",
       "      <td>08/24/2019 12:03:00 PM</td>\n",
       "      <td>05/31/2010</td>\n",
       "      <td>Transfer</td>\n",
       "      <td>Partner</td>\n",
       "      <td>Cat</td>\n",
       "      <td>Neutered Male</td>\n",
       "      <td>9 years</td>\n",
       "      <td>Domestic Shorthair</td>\n",
       "      <td>Black/White</td>\n",
       "    </tr>\n",
       "    <tr>\n",
       "      <th>1174</th>\n",
       "      <td>A618405</td>\n",
       "      <td>Max</td>\n",
       "      <td>08/23/2019 06:38:00 PM</td>\n",
       "      <td>08/23/2019 06:38:00 PM</td>\n",
       "      <td>07/15/2010</td>\n",
       "      <td>Adoption</td>\n",
       "      <td>NaN</td>\n",
       "      <td>Dog</td>\n",
       "      <td>Neutered Male</td>\n",
       "      <td>9 years</td>\n",
       "      <td>American Pit Bull Terrier Mix</td>\n",
       "      <td>White/Blue</td>\n",
       "    </tr>\n",
       "    <tr>\n",
       "      <th>1224</th>\n",
       "      <td>A653408</td>\n",
       "      <td>Max</td>\n",
       "      <td>08/23/2019 11:33:00 AM</td>\n",
       "      <td>08/23/2019 11:33:00 AM</td>\n",
       "      <td>05/06/2009</td>\n",
       "      <td>Return to Owner</td>\n",
       "      <td>NaN</td>\n",
       "      <td>Dog</td>\n",
       "      <td>Neutered Male</td>\n",
       "      <td>10 years</td>\n",
       "      <td>American Bulldog Mix</td>\n",
       "      <td>White/Black</td>\n",
       "    </tr>\n",
       "    <tr>\n",
       "      <th>1371</th>\n",
       "      <td>A783700</td>\n",
       "      <td>Max</td>\n",
       "      <td>08/20/2019 06:36:00 PM</td>\n",
       "      <td>08/20/2019 06:36:00 PM</td>\n",
       "      <td>11/04/2017</td>\n",
       "      <td>Adoption</td>\n",
       "      <td>NaN</td>\n",
       "      <td>Dog</td>\n",
       "      <td>Neutered Male</td>\n",
       "      <td>1 year</td>\n",
       "      <td>Labrador Retriever Mix</td>\n",
       "      <td>Chocolate/White</td>\n",
       "    </tr>\n",
       "    <tr>\n",
       "      <th>2153</th>\n",
       "      <td>A744193</td>\n",
       "      <td>Max</td>\n",
       "      <td>08/08/2019 03:17:00 PM</td>\n",
       "      <td>08/08/2019 03:17:00 PM</td>\n",
       "      <td>09/27/2016</td>\n",
       "      <td>Adoption</td>\n",
       "      <td>Foster</td>\n",
       "      <td>Dog</td>\n",
       "      <td>Neutered Male</td>\n",
       "      <td>2 years</td>\n",
       "      <td>Cairn Terrier Mix</td>\n",
       "      <td>Tan/White</td>\n",
       "    </tr>\n",
       "    <tr>\n",
       "      <th>2199</th>\n",
       "      <td>A789119</td>\n",
       "      <td>Max</td>\n",
       "      <td>08/07/2019 06:56:00 PM</td>\n",
       "      <td>08/07/2019 06:56:00 PM</td>\n",
       "      <td>12/17/2014</td>\n",
       "      <td>Adoption</td>\n",
       "      <td>Foster</td>\n",
       "      <td>Dog</td>\n",
       "      <td>Neutered Male</td>\n",
       "      <td>4 years</td>\n",
       "      <td>Catahoula Mix</td>\n",
       "      <td>Red</td>\n",
       "    </tr>\n",
       "    <tr>\n",
       "      <th>2446</th>\n",
       "      <td>A801136</td>\n",
       "      <td>Max</td>\n",
       "      <td>08/04/2019 11:26:00 AM</td>\n",
       "      <td>08/04/2019 11:26:00 AM</td>\n",
       "      <td>03/22/2008</td>\n",
       "      <td>Rto-Adopt</td>\n",
       "      <td>NaN</td>\n",
       "      <td>Dog</td>\n",
       "      <td>Intact Male</td>\n",
       "      <td>11 years</td>\n",
       "      <td>Miniature Pinscher</td>\n",
       "      <td>Red</td>\n",
       "    </tr>\n",
       "    <tr>\n",
       "      <th>2622</th>\n",
       "      <td>A800872</td>\n",
       "      <td>Max</td>\n",
       "      <td>08/01/2019 04:37:00 PM</td>\n",
       "      <td>08/01/2019 04:37:00 PM</td>\n",
       "      <td>06/12/2019</td>\n",
       "      <td>Adoption</td>\n",
       "      <td>NaN</td>\n",
       "      <td>Dog</td>\n",
       "      <td>Neutered Male</td>\n",
       "      <td>1 month</td>\n",
       "      <td>German Shepherd Mix</td>\n",
       "      <td>Tan/Black</td>\n",
       "    </tr>\n",
       "    <tr>\n",
       "      <th>2780</th>\n",
       "      <td>A800791</td>\n",
       "      <td>Max</td>\n",
       "      <td>07/29/2019 06:07:00 PM</td>\n",
       "      <td>07/29/2019 06:07:00 PM</td>\n",
       "      <td>07/26/2017</td>\n",
       "      <td>Return to Owner</td>\n",
       "      <td>NaN</td>\n",
       "      <td>Dog</td>\n",
       "      <td>Intact Male</td>\n",
       "      <td>2 years</td>\n",
       "      <td>Pit Bull</td>\n",
       "      <td>Brown/White</td>\n",
       "    </tr>\n",
       "    <tr>\n",
       "      <th>2915</th>\n",
       "      <td>A788916</td>\n",
       "      <td>Max</td>\n",
       "      <td>07/27/2019 05:16:00 PM</td>\n",
       "      <td>07/27/2019 05:16:00 PM</td>\n",
       "      <td>11/26/2018</td>\n",
       "      <td>Return to Owner</td>\n",
       "      <td>NaN</td>\n",
       "      <td>Dog</td>\n",
       "      <td>Neutered Male</td>\n",
       "      <td>7 months</td>\n",
       "      <td>Pit Bull Mix</td>\n",
       "      <td>Brown Brindle/White</td>\n",
       "    </tr>\n",
       "    <tr>\n",
       "      <th>2942</th>\n",
       "      <td>A799870</td>\n",
       "      <td>Max</td>\n",
       "      <td>07/26/2019 07:17:00 PM</td>\n",
       "      <td>07/26/2019 07:17:00 PM</td>\n",
       "      <td>07/13/2017</td>\n",
       "      <td>Return to Owner</td>\n",
       "      <td>NaN</td>\n",
       "      <td>Dog</td>\n",
       "      <td>Intact Male</td>\n",
       "      <td>2 years</td>\n",
       "      <td>German Shepherd</td>\n",
       "      <td>Brown/Black</td>\n",
       "    </tr>\n",
       "    <tr>\n",
       "      <th>3832</th>\n",
       "      <td>A799881</td>\n",
       "      <td>Max</td>\n",
       "      <td>07/13/2019 02:33:00 PM</td>\n",
       "      <td>07/13/2019 02:33:00 PM</td>\n",
       "      <td>05/13/2019</td>\n",
       "      <td>Transfer</td>\n",
       "      <td>Partner</td>\n",
       "      <td>Dog</td>\n",
       "      <td>Intact Male</td>\n",
       "      <td>1 month</td>\n",
       "      <td>Yorkshire Terrier Mix</td>\n",
       "      <td>Brown/White</td>\n",
       "    </tr>\n",
       "    <tr>\n",
       "      <th>4200</th>\n",
       "      <td>A798950</td>\n",
       "      <td>Max</td>\n",
       "      <td>07/07/2019 01:31:00 PM</td>\n",
       "      <td>07/07/2019 01:31:00 PM</td>\n",
       "      <td>07/02/2017</td>\n",
       "      <td>Adoption</td>\n",
       "      <td>NaN</td>\n",
       "      <td>Dog</td>\n",
       "      <td>Neutered Male</td>\n",
       "      <td>2 years</td>\n",
       "      <td>American Bulldog</td>\n",
       "      <td>White/Blue</td>\n",
       "    </tr>\n",
       "    <tr>\n",
       "      <th>4349</th>\n",
       "      <td>A799025</td>\n",
       "      <td>Max</td>\n",
       "      <td>07/05/2019 11:13:00 AM</td>\n",
       "      <td>07/05/2019 11:13:00 AM</td>\n",
       "      <td>01/19/2019</td>\n",
       "      <td>Return to Owner</td>\n",
       "      <td>NaN</td>\n",
       "      <td>Dog</td>\n",
       "      <td>Neutered Male</td>\n",
       "      <td>5 months</td>\n",
       "      <td>German Shepherd Mix</td>\n",
       "      <td>Tan</td>\n",
       "    </tr>\n",
       "    <tr>\n",
       "      <th>4635</th>\n",
       "      <td>A798743</td>\n",
       "      <td>Max</td>\n",
       "      <td>06/30/2019 04:54:00 PM</td>\n",
       "      <td>06/30/2019 04:54:00 PM</td>\n",
       "      <td>10/29/2018</td>\n",
       "      <td>Return to Owner</td>\n",
       "      <td>NaN</td>\n",
       "      <td>Dog</td>\n",
       "      <td>Intact Male</td>\n",
       "      <td>8 months</td>\n",
       "      <td>Maltese/Miniature Poodle</td>\n",
       "      <td>White/Tan</td>\n",
       "    </tr>\n",
       "    <tr>\n",
       "      <th>5088</th>\n",
       "      <td>A700767</td>\n",
       "      <td>Max</td>\n",
       "      <td>06/25/2019 02:12:00 PM</td>\n",
       "      <td>06/25/2019 02:12:00 PM</td>\n",
       "      <td>04/19/2011</td>\n",
       "      <td>Return to Owner</td>\n",
       "      <td>NaN</td>\n",
       "      <td>Dog</td>\n",
       "      <td>Neutered Male</td>\n",
       "      <td>8 years</td>\n",
       "      <td>Labrador Retriever/Plott Hound</td>\n",
       "      <td>Brown Brindle/White</td>\n",
       "    </tr>\n",
       "    <tr>\n",
       "      <th>5398</th>\n",
       "      <td>A797355</td>\n",
       "      <td>Max</td>\n",
       "      <td>06/21/2019 06:39:00 PM</td>\n",
       "      <td>06/21/2019 06:39:00 PM</td>\n",
       "      <td>12/12/2017</td>\n",
       "      <td>Adoption</td>\n",
       "      <td>NaN</td>\n",
       "      <td>Dog</td>\n",
       "      <td>Neutered Male</td>\n",
       "      <td>1 year</td>\n",
       "      <td>Pit Bull Mix</td>\n",
       "      <td>Chocolate/White</td>\n",
       "    </tr>\n",
       "    <tr>\n",
       "      <th>5410</th>\n",
       "      <td>A797407</td>\n",
       "      <td>Max</td>\n",
       "      <td>06/21/2019 04:05:00 PM</td>\n",
       "      <td>06/21/2019 04:05:00 PM</td>\n",
       "      <td>03/13/2019</td>\n",
       "      <td>Adoption</td>\n",
       "      <td>NaN</td>\n",
       "      <td>Dog</td>\n",
       "      <td>Neutered Male</td>\n",
       "      <td>3 months</td>\n",
       "      <td>German Shepherd/Chinese Sharpei</td>\n",
       "      <td>Tricolor</td>\n",
       "    </tr>\n",
       "    <tr>\n",
       "      <th>5563</th>\n",
       "      <td>A797258</td>\n",
       "      <td>Max</td>\n",
       "      <td>06/19/2019 12:58:00 PM</td>\n",
       "      <td>06/19/2019 12:58:00 PM</td>\n",
       "      <td>02/11/2018</td>\n",
       "      <td>Transfer</td>\n",
       "      <td>Partner</td>\n",
       "      <td>Dog</td>\n",
       "      <td>Intact Male</td>\n",
       "      <td>1 year</td>\n",
       "      <td>Rottweiler Mix</td>\n",
       "      <td>Black/Tan</td>\n",
       "    </tr>\n",
       "    <tr>\n",
       "      <th>5632</th>\n",
       "      <td>A797814</td>\n",
       "      <td>Max</td>\n",
       "      <td>06/18/2019 12:52:00 PM</td>\n",
       "      <td>06/18/2019 12:52:00 PM</td>\n",
       "      <td>06/18/2017</td>\n",
       "      <td>Return to Owner</td>\n",
       "      <td>NaN</td>\n",
       "      <td>Dog</td>\n",
       "      <td>Intact Male</td>\n",
       "      <td>2 years</td>\n",
       "      <td>Pug</td>\n",
       "      <td>Tan/Black</td>\n",
       "    </tr>\n",
       "    <tr>\n",
       "      <th>5676</th>\n",
       "      <td>A797341</td>\n",
       "      <td>Max</td>\n",
       "      <td>06/17/2019 05:12:00 PM</td>\n",
       "      <td>06/17/2019 05:12:00 PM</td>\n",
       "      <td>03/12/2019</td>\n",
       "      <td>Adoption</td>\n",
       "      <td>NaN</td>\n",
       "      <td>Cat</td>\n",
       "      <td>Neutered Male</td>\n",
       "      <td>3 months</td>\n",
       "      <td>Domestic Shorthair</td>\n",
       "      <td>Cream Tabby/White</td>\n",
       "    </tr>\n",
       "    <tr>\n",
       "      <th>5895</th>\n",
       "      <td>A680607</td>\n",
       "      <td>Max</td>\n",
       "      <td>06/14/2019 11:50:00 AM</td>\n",
       "      <td>06/14/2019 11:50:00 AM</td>\n",
       "      <td>04/04/2014</td>\n",
       "      <td>Return to Owner</td>\n",
       "      <td>NaN</td>\n",
       "      <td>Dog</td>\n",
       "      <td>Neutered Male</td>\n",
       "      <td>5 years</td>\n",
       "      <td>Chihuahua Shorthair Mix</td>\n",
       "      <td>Tan/White</td>\n",
       "    </tr>\n",
       "    <tr>\n",
       "      <th>5961</th>\n",
       "      <td>A797339</td>\n",
       "      <td>Max</td>\n",
       "      <td>06/13/2019 11:39:00 AM</td>\n",
       "      <td>06/13/2019 11:39:00 AM</td>\n",
       "      <td>06/12/2017</td>\n",
       "      <td>Return to Owner</td>\n",
       "      <td>NaN</td>\n",
       "      <td>Dog</td>\n",
       "      <td>Intact Male</td>\n",
       "      <td>2 years</td>\n",
       "      <td>Welsh Terrier/Miniature Poodle</td>\n",
       "      <td>Tan/Gray</td>\n",
       "    </tr>\n",
       "    <tr>\n",
       "      <th>6200</th>\n",
       "      <td>A780200</td>\n",
       "      <td>Max</td>\n",
       "      <td>06/10/2019 10:53:00 AM</td>\n",
       "      <td>06/10/2019 10:53:00 AM</td>\n",
       "      <td>09/11/2014</td>\n",
       "      <td>Rto-Adopt</td>\n",
       "      <td>NaN</td>\n",
       "      <td>Dog</td>\n",
       "      <td>Neutered Male</td>\n",
       "      <td>4 years</td>\n",
       "      <td>German Shepherd Mix</td>\n",
       "      <td>Brown/Black</td>\n",
       "    </tr>\n",
       "    <tr>\n",
       "      <th>6224</th>\n",
       "      <td>A793073</td>\n",
       "      <td>Max</td>\n",
       "      <td>06/09/2019 05:52:00 PM</td>\n",
       "      <td>06/09/2019 05:52:00 PM</td>\n",
       "      <td>06/02/2018</td>\n",
       "      <td>Adoption</td>\n",
       "      <td>NaN</td>\n",
       "      <td>Dog</td>\n",
       "      <td>Neutered Male</td>\n",
       "      <td>1 year</td>\n",
       "      <td>Boxer Mix</td>\n",
       "      <td>Brown/Tricolor</td>\n",
       "    </tr>\n",
       "    <tr>\n",
       "      <th>6577</th>\n",
       "      <td>A744193</td>\n",
       "      <td>Max</td>\n",
       "      <td>06/04/2019 03:30:00 PM</td>\n",
       "      <td>06/04/2019 03:30:00 PM</td>\n",
       "      <td>09/27/2016</td>\n",
       "      <td>Adoption</td>\n",
       "      <td>NaN</td>\n",
       "      <td>Dog</td>\n",
       "      <td>Neutered Male</td>\n",
       "      <td>2 years</td>\n",
       "      <td>Cairn Terrier Mix</td>\n",
       "      <td>Tan/White</td>\n",
       "    </tr>\n",
       "    <tr>\n",
       "      <th>6640</th>\n",
       "      <td>A794951</td>\n",
       "      <td>Max</td>\n",
       "      <td>06/03/2019 07:30:00 PM</td>\n",
       "      <td>06/03/2019 07:30:00 PM</td>\n",
       "      <td>05/14/2017</td>\n",
       "      <td>Rto-Adopt</td>\n",
       "      <td>NaN</td>\n",
       "      <td>Dog</td>\n",
       "      <td>Intact Male</td>\n",
       "      <td>2 years</td>\n",
       "      <td>Labrador Retriever</td>\n",
       "      <td>Red</td>\n",
       "    </tr>\n",
       "    <tr>\n",
       "      <th>6799</th>\n",
       "      <td>A796351</td>\n",
       "      <td>Max</td>\n",
       "      <td>06/01/2019 04:18:00 PM</td>\n",
       "      <td>06/01/2019 04:18:00 PM</td>\n",
       "      <td>05/31/2010</td>\n",
       "      <td>Return to Owner</td>\n",
       "      <td>NaN</td>\n",
       "      <td>Cat</td>\n",
       "      <td>Neutered Male</td>\n",
       "      <td>9 years</td>\n",
       "      <td>Domestic Shorthair</td>\n",
       "      <td>Black/White</td>\n",
       "    </tr>\n",
       "    <tr>\n",
       "      <th>6930</th>\n",
       "      <td>A795976</td>\n",
       "      <td>Max</td>\n",
       "      <td>05/30/2019 11:20:00 AM</td>\n",
       "      <td>05/30/2019 11:20:00 AM</td>\n",
       "      <td>05/27/2008</td>\n",
       "      <td>Transfer</td>\n",
       "      <td>Partner</td>\n",
       "      <td>Dog</td>\n",
       "      <td>Neutered Male</td>\n",
       "      <td>11 years</td>\n",
       "      <td>Maltese</td>\n",
       "      <td>White</td>\n",
       "    </tr>\n",
       "    <tr>\n",
       "      <th>7430</th>\n",
       "      <td>A784016</td>\n",
       "      <td>Max</td>\n",
       "      <td>05/21/2019 03:13:00 PM</td>\n",
       "      <td>05/21/2019 03:13:00 PM</td>\n",
       "      <td>08/10/2018</td>\n",
       "      <td>Return to Owner</td>\n",
       "      <td>NaN</td>\n",
       "      <td>Dog</td>\n",
       "      <td>Intact Male</td>\n",
       "      <td>9 months</td>\n",
       "      <td>Staffordshire Mix</td>\n",
       "      <td>Brown Brindle/White</td>\n",
       "    </tr>\n",
       "    <tr>\n",
       "      <th>...</th>\n",
       "      <td>...</td>\n",
       "      <td>...</td>\n",
       "      <td>...</td>\n",
       "      <td>...</td>\n",
       "      <td>...</td>\n",
       "      <td>...</td>\n",
       "      <td>...</td>\n",
       "      <td>...</td>\n",
       "      <td>...</td>\n",
       "      <td>...</td>\n",
       "      <td>...</td>\n",
       "      <td>...</td>\n",
       "    </tr>\n",
       "    <tr>\n",
       "      <th>100829</th>\n",
       "      <td>A648236</td>\n",
       "      <td>Max</td>\n",
       "      <td>02/26/2014 04:50:00 PM</td>\n",
       "      <td>02/26/2014 04:50:00 PM</td>\n",
       "      <td>04/24/2012</td>\n",
       "      <td>Return to Owner</td>\n",
       "      <td>NaN</td>\n",
       "      <td>Dog</td>\n",
       "      <td>Neutered Male</td>\n",
       "      <td>1 year</td>\n",
       "      <td>Australian Cattle Dog Mix</td>\n",
       "      <td>Red Tick/White</td>\n",
       "    </tr>\n",
       "    <tr>\n",
       "      <th>101092</th>\n",
       "      <td>A673191</td>\n",
       "      <td>Max</td>\n",
       "      <td>02/20/2014 03:40:00 PM</td>\n",
       "      <td>02/20/2014 03:40:00 PM</td>\n",
       "      <td>02/19/2011</td>\n",
       "      <td>Euthanasia</td>\n",
       "      <td>Rabies Risk</td>\n",
       "      <td>Dog</td>\n",
       "      <td>Intact Male</td>\n",
       "      <td>3 years</td>\n",
       "      <td>Labrador Retriever Mix</td>\n",
       "      <td>Brown/White</td>\n",
       "    </tr>\n",
       "    <tr>\n",
       "      <th>101290</th>\n",
       "      <td>A671314</td>\n",
       "      <td>Max</td>\n",
       "      <td>02/16/2014 11:53:00 AM</td>\n",
       "      <td>02/16/2014 11:53:00 AM</td>\n",
       "      <td>03/22/2013</td>\n",
       "      <td>Adoption</td>\n",
       "      <td>NaN</td>\n",
       "      <td>Dog</td>\n",
       "      <td>Neutered Male</td>\n",
       "      <td>10 months</td>\n",
       "      <td>Collie Rough Mix</td>\n",
       "      <td>White/Black</td>\n",
       "    </tr>\n",
       "    <tr>\n",
       "      <th>101457</th>\n",
       "      <td>A672335</td>\n",
       "      <td>Max</td>\n",
       "      <td>02/11/2014 06:20:00 PM</td>\n",
       "      <td>02/11/2014 06:20:00 PM</td>\n",
       "      <td>02/08/2012</td>\n",
       "      <td>Return to Owner</td>\n",
       "      <td>NaN</td>\n",
       "      <td>Dog</td>\n",
       "      <td>Neutered Male</td>\n",
       "      <td>2 years</td>\n",
       "      <td>Chihuahua Shorthair Mix</td>\n",
       "      <td>Black/Tan</td>\n",
       "    </tr>\n",
       "    <tr>\n",
       "      <th>101754</th>\n",
       "      <td>A671503</td>\n",
       "      <td>Max</td>\n",
       "      <td>02/03/2014 06:11:00 PM</td>\n",
       "      <td>02/03/2014 06:11:00 PM</td>\n",
       "      <td>01/25/2012</td>\n",
       "      <td>Adoption</td>\n",
       "      <td>NaN</td>\n",
       "      <td>Dog</td>\n",
       "      <td>Neutered Male</td>\n",
       "      <td>2 years</td>\n",
       "      <td>Beagle/Dachshund</td>\n",
       "      <td>White/Brown</td>\n",
       "    </tr>\n",
       "    <tr>\n",
       "      <th>101797</th>\n",
       "      <td>A652954</td>\n",
       "      <td>Max</td>\n",
       "      <td>02/03/2014 11:40:00 AM</td>\n",
       "      <td>02/03/2014 11:40:00 AM</td>\n",
       "      <td>12/17/2012</td>\n",
       "      <td>Adoption</td>\n",
       "      <td>NaN</td>\n",
       "      <td>Dog</td>\n",
       "      <td>Neutered Male</td>\n",
       "      <td>1 year</td>\n",
       "      <td>German Shepherd/Labrador Retriever</td>\n",
       "      <td>Brown/Black</td>\n",
       "    </tr>\n",
       "    <tr>\n",
       "      <th>101828</th>\n",
       "      <td>A671583</td>\n",
       "      <td>Max</td>\n",
       "      <td>02/02/2014 02:59:00 PM</td>\n",
       "      <td>02/02/2014 02:59:00 PM</td>\n",
       "      <td>04/01/2013</td>\n",
       "      <td>Adoption</td>\n",
       "      <td>NaN</td>\n",
       "      <td>Dog</td>\n",
       "      <td>Neutered Male</td>\n",
       "      <td>10 months</td>\n",
       "      <td>Wire Hair Fox Terrier Mix</td>\n",
       "      <td>White/Black</td>\n",
       "    </tr>\n",
       "    <tr>\n",
       "      <th>101857</th>\n",
       "      <td>A671583</td>\n",
       "      <td>Max</td>\n",
       "      <td>02/01/2014 05:40:00 PM</td>\n",
       "      <td>02/01/2014 05:40:00 PM</td>\n",
       "      <td>04/01/2013</td>\n",
       "      <td>Adoption</td>\n",
       "      <td>NaN</td>\n",
       "      <td>Dog</td>\n",
       "      <td>Neutered Male</td>\n",
       "      <td>10 months</td>\n",
       "      <td>Wire Hair Fox Terrier Mix</td>\n",
       "      <td>White/Black</td>\n",
       "    </tr>\n",
       "    <tr>\n",
       "      <th>102547</th>\n",
       "      <td>A670802</td>\n",
       "      <td>Max</td>\n",
       "      <td>01/15/2014 06:53:00 PM</td>\n",
       "      <td>01/15/2014 06:53:00 PM</td>\n",
       "      <td>07/14/2010</td>\n",
       "      <td>Return to Owner</td>\n",
       "      <td>NaN</td>\n",
       "      <td>Dog</td>\n",
       "      <td>Neutered Male</td>\n",
       "      <td>3 years</td>\n",
       "      <td>Labrador Retriever Mix</td>\n",
       "      <td>Tan</td>\n",
       "    </tr>\n",
       "    <tr>\n",
       "      <th>102752</th>\n",
       "      <td>A665405</td>\n",
       "      <td>Max</td>\n",
       "      <td>01/10/2014 06:41:00 PM</td>\n",
       "      <td>01/10/2014 06:41:00 PM</td>\n",
       "      <td>06/17/2013</td>\n",
       "      <td>Adoption</td>\n",
       "      <td>NaN</td>\n",
       "      <td>Dog</td>\n",
       "      <td>Neutered Male</td>\n",
       "      <td>6 months</td>\n",
       "      <td>Labrador Retriever Mix</td>\n",
       "      <td>Black/White</td>\n",
       "    </tr>\n",
       "    <tr>\n",
       "      <th>102770</th>\n",
       "      <td>A648236</td>\n",
       "      <td>Max</td>\n",
       "      <td>01/10/2014 03:19:00 PM</td>\n",
       "      <td>01/10/2014 03:19:00 PM</td>\n",
       "      <td>04/24/2012</td>\n",
       "      <td>Return to Owner</td>\n",
       "      <td>NaN</td>\n",
       "      <td>Dog</td>\n",
       "      <td>Neutered Male</td>\n",
       "      <td>1 year</td>\n",
       "      <td>Australian Cattle Dog Mix</td>\n",
       "      <td>Red Tick/White</td>\n",
       "    </tr>\n",
       "    <tr>\n",
       "      <th>102826</th>\n",
       "      <td>A664369</td>\n",
       "      <td>Max</td>\n",
       "      <td>01/08/2014 07:19:00 PM</td>\n",
       "      <td>01/08/2014 07:19:00 PM</td>\n",
       "      <td>05/27/2013</td>\n",
       "      <td>Return to Owner</td>\n",
       "      <td>NaN</td>\n",
       "      <td>Dog</td>\n",
       "      <td>Neutered Male</td>\n",
       "      <td>7 months</td>\n",
       "      <td>Labrador Retriever/German Shepherd</td>\n",
       "      <td>Black</td>\n",
       "    </tr>\n",
       "    <tr>\n",
       "      <th>102932</th>\n",
       "      <td>A669946</td>\n",
       "      <td>Max</td>\n",
       "      <td>01/05/2014 06:11:00 PM</td>\n",
       "      <td>01/05/2014 06:11:00 PM</td>\n",
       "      <td>12/30/2012</td>\n",
       "      <td>Adoption</td>\n",
       "      <td>NaN</td>\n",
       "      <td>Dog</td>\n",
       "      <td>Neutered Male</td>\n",
       "      <td>1 year</td>\n",
       "      <td>Labrador Retriever Mix</td>\n",
       "      <td>Black</td>\n",
       "    </tr>\n",
       "    <tr>\n",
       "      <th>103184</th>\n",
       "      <td>A669266</td>\n",
       "      <td>Max</td>\n",
       "      <td>12/31/2013 04:51:00 PM</td>\n",
       "      <td>12/31/2013 04:51:00 PM</td>\n",
       "      <td>07/27/2013</td>\n",
       "      <td>Adoption</td>\n",
       "      <td>NaN</td>\n",
       "      <td>Dog</td>\n",
       "      <td>Neutered Male</td>\n",
       "      <td>5 months</td>\n",
       "      <td>Pit Bull Mix</td>\n",
       "      <td>White/Black Brindle</td>\n",
       "    </tr>\n",
       "    <tr>\n",
       "      <th>103599</th>\n",
       "      <td>A522774</td>\n",
       "      <td>Max</td>\n",
       "      <td>12/23/2013 04:45:00 PM</td>\n",
       "      <td>12/23/2013 04:45:00 PM</td>\n",
       "      <td>10/02/2006</td>\n",
       "      <td>Return to Owner</td>\n",
       "      <td>NaN</td>\n",
       "      <td>Dog</td>\n",
       "      <td>Neutered Male</td>\n",
       "      <td>7 years</td>\n",
       "      <td>Chihuahua Shorthair</td>\n",
       "      <td>Tricolor</td>\n",
       "    </tr>\n",
       "    <tr>\n",
       "      <th>103717</th>\n",
       "      <td>A669211</td>\n",
       "      <td>Max</td>\n",
       "      <td>12/21/2013 06:25:00 PM</td>\n",
       "      <td>12/21/2013 06:25:00 PM</td>\n",
       "      <td>12/17/2011</td>\n",
       "      <td>Adoption</td>\n",
       "      <td>NaN</td>\n",
       "      <td>Dog</td>\n",
       "      <td>Neutered Male</td>\n",
       "      <td>2 years</td>\n",
       "      <td>Chihuahua Shorthair Mix</td>\n",
       "      <td>White/Brown</td>\n",
       "    </tr>\n",
       "    <tr>\n",
       "      <th>103831</th>\n",
       "      <td>A669274</td>\n",
       "      <td>Max</td>\n",
       "      <td>12/19/2013 05:10:00 PM</td>\n",
       "      <td>12/19/2013 05:10:00 PM</td>\n",
       "      <td>12/17/2011</td>\n",
       "      <td>Return to Owner</td>\n",
       "      <td>NaN</td>\n",
       "      <td>Dog</td>\n",
       "      <td>Neutered Male</td>\n",
       "      <td>2 years</td>\n",
       "      <td>Cardigan Welsh Corgi Mix</td>\n",
       "      <td>White</td>\n",
       "    </tr>\n",
       "    <tr>\n",
       "      <th>104098</th>\n",
       "      <td>A590637</td>\n",
       "      <td>Max</td>\n",
       "      <td>12/14/2013 01:10:00 PM</td>\n",
       "      <td>12/14/2013 01:10:00 PM</td>\n",
       "      <td>12/21/2009</td>\n",
       "      <td>Adoption</td>\n",
       "      <td>NaN</td>\n",
       "      <td>Dog</td>\n",
       "      <td>Neutered Male</td>\n",
       "      <td>3 years</td>\n",
       "      <td>German Shepherd Mix</td>\n",
       "      <td>Tan/White</td>\n",
       "    </tr>\n",
       "    <tr>\n",
       "      <th>104143</th>\n",
       "      <td>A668634</td>\n",
       "      <td>Max</td>\n",
       "      <td>12/13/2013 12:10:00 PM</td>\n",
       "      <td>12/13/2013 12:10:00 PM</td>\n",
       "      <td>02/06/2013</td>\n",
       "      <td>Adoption</td>\n",
       "      <td>NaN</td>\n",
       "      <td>Dog</td>\n",
       "      <td>Neutered Male</td>\n",
       "      <td>10 months</td>\n",
       "      <td>Anatol Shepherd/Labrador Retriever</td>\n",
       "      <td>Brown Brindle/White</td>\n",
       "    </tr>\n",
       "    <tr>\n",
       "      <th>104336</th>\n",
       "      <td>A668750</td>\n",
       "      <td>Max</td>\n",
       "      <td>12/08/2013 06:13:00 PM</td>\n",
       "      <td>12/08/2013 06:13:00 PM</td>\n",
       "      <td>12/08/2011</td>\n",
       "      <td>Return to Owner</td>\n",
       "      <td>NaN</td>\n",
       "      <td>Dog</td>\n",
       "      <td>Neutered Male</td>\n",
       "      <td>2 years</td>\n",
       "      <td>Basset Hound Mix</td>\n",
       "      <td>Black/White</td>\n",
       "    </tr>\n",
       "    <tr>\n",
       "      <th>104376</th>\n",
       "      <td>A668202</td>\n",
       "      <td>Max</td>\n",
       "      <td>12/08/2013 01:01:00 PM</td>\n",
       "      <td>12/08/2013 01:01:00 PM</td>\n",
       "      <td>01/29/2013</td>\n",
       "      <td>Adoption</td>\n",
       "      <td>NaN</td>\n",
       "      <td>Dog</td>\n",
       "      <td>Neutered Male</td>\n",
       "      <td>10 months</td>\n",
       "      <td>German Shepherd Mix</td>\n",
       "      <td>Brown/White</td>\n",
       "    </tr>\n",
       "    <tr>\n",
       "      <th>105272</th>\n",
       "      <td>A661874</td>\n",
       "      <td>Max</td>\n",
       "      <td>11/17/2013 12:53:00 PM</td>\n",
       "      <td>11/17/2013 12:53:00 PM</td>\n",
       "      <td>06/15/2013</td>\n",
       "      <td>Transfer</td>\n",
       "      <td>Partner</td>\n",
       "      <td>Dog</td>\n",
       "      <td>Neutered Male</td>\n",
       "      <td>5 months</td>\n",
       "      <td>Miniature Schnauzer Mix</td>\n",
       "      <td>Black/White</td>\n",
       "    </tr>\n",
       "    <tr>\n",
       "      <th>105986</th>\n",
       "      <td>A605315</td>\n",
       "      <td>Max</td>\n",
       "      <td>11/02/2013 12:08:00 PM</td>\n",
       "      <td>11/02/2013 12:08:00 PM</td>\n",
       "      <td>01/06/2009</td>\n",
       "      <td>Return to Owner</td>\n",
       "      <td>NaN</td>\n",
       "      <td>Dog</td>\n",
       "      <td>Neutered Male</td>\n",
       "      <td>4 years</td>\n",
       "      <td>American Pit Bull Terrier</td>\n",
       "      <td>Black/White</td>\n",
       "    </tr>\n",
       "    <tr>\n",
       "      <th>106042</th>\n",
       "      <td>A665263</td>\n",
       "      <td>Max</td>\n",
       "      <td>11/01/2013 11:37:00 AM</td>\n",
       "      <td>11/01/2013 11:37:00 AM</td>\n",
       "      <td>07/31/2013</td>\n",
       "      <td>Adoption</td>\n",
       "      <td>NaN</td>\n",
       "      <td>Dog</td>\n",
       "      <td>Neutered Male</td>\n",
       "      <td>3 months</td>\n",
       "      <td>Labrador Retriever Mix</td>\n",
       "      <td>Black</td>\n",
       "    </tr>\n",
       "    <tr>\n",
       "      <th>106076</th>\n",
       "      <td>A665445</td>\n",
       "      <td>Max</td>\n",
       "      <td>10/31/2013 01:03:00 PM</td>\n",
       "      <td>10/31/2013 01:03:00 PM</td>\n",
       "      <td>06/18/2013</td>\n",
       "      <td>Adoption</td>\n",
       "      <td>NaN</td>\n",
       "      <td>Dog</td>\n",
       "      <td>Neutered Male</td>\n",
       "      <td>4 months</td>\n",
       "      <td>Labrador Retriever Mix</td>\n",
       "      <td>Brown/Black</td>\n",
       "    </tr>\n",
       "    <tr>\n",
       "      <th>106261</th>\n",
       "      <td>A664692</td>\n",
       "      <td>Max</td>\n",
       "      <td>10/27/2013 02:45:00 PM</td>\n",
       "      <td>10/27/2013 02:45:00 PM</td>\n",
       "      <td>10/07/2007</td>\n",
       "      <td>Transfer</td>\n",
       "      <td>Partner</td>\n",
       "      <td>Cat</td>\n",
       "      <td>Neutered Male</td>\n",
       "      <td>6 years</td>\n",
       "      <td>Russian Blue Mix</td>\n",
       "      <td>Blue</td>\n",
       "    </tr>\n",
       "    <tr>\n",
       "      <th>106290</th>\n",
       "      <td>A665743</td>\n",
       "      <td>Max</td>\n",
       "      <td>10/26/2013 06:38:00 PM</td>\n",
       "      <td>10/26/2013 06:38:00 PM</td>\n",
       "      <td>12/22/2012</td>\n",
       "      <td>Adoption</td>\n",
       "      <td>NaN</td>\n",
       "      <td>Dog</td>\n",
       "      <td>Neutered Male</td>\n",
       "      <td>10 months</td>\n",
       "      <td>Jack Russell Terrier/Chihuahua Shorthair</td>\n",
       "      <td>White/Brown</td>\n",
       "    </tr>\n",
       "    <tr>\n",
       "      <th>106536</th>\n",
       "      <td>A665405</td>\n",
       "      <td>Max</td>\n",
       "      <td>10/21/2013 04:59:00 PM</td>\n",
       "      <td>10/21/2013 04:59:00 PM</td>\n",
       "      <td>06/17/2013</td>\n",
       "      <td>Adoption</td>\n",
       "      <td>NaN</td>\n",
       "      <td>Dog</td>\n",
       "      <td>Neutered Male</td>\n",
       "      <td>4 months</td>\n",
       "      <td>Labrador Retriever Mix</td>\n",
       "      <td>Black/White</td>\n",
       "    </tr>\n",
       "    <tr>\n",
       "      <th>107065</th>\n",
       "      <td>A664369</td>\n",
       "      <td>Max</td>\n",
       "      <td>10/12/2013 06:00:00 PM</td>\n",
       "      <td>10/12/2013 06:00:00 PM</td>\n",
       "      <td>05/27/2013</td>\n",
       "      <td>Return to Owner</td>\n",
       "      <td>NaN</td>\n",
       "      <td>Dog</td>\n",
       "      <td>Neutered Male</td>\n",
       "      <td>4 months</td>\n",
       "      <td>Labrador Retriever/German Shepherd</td>\n",
       "      <td>Black</td>\n",
       "    </tr>\n",
       "    <tr>\n",
       "      <th>107073</th>\n",
       "      <td>A662933</td>\n",
       "      <td>Max</td>\n",
       "      <td>10/12/2013 05:13:00 PM</td>\n",
       "      <td>10/12/2013 05:13:00 PM</td>\n",
       "      <td>09/10/2006</td>\n",
       "      <td>Return to Owner</td>\n",
       "      <td>NaN</td>\n",
       "      <td>Dog</td>\n",
       "      <td>Neutered Male</td>\n",
       "      <td>7 years</td>\n",
       "      <td>Pug Mix</td>\n",
       "      <td>Brown/Black</td>\n",
       "    </tr>\n",
       "  </tbody>\n",
       "</table>\n",
       "<p>475 rows × 12 columns</p>\n",
       "</div>"
      ],
      "text/plain": [
       "       Animal ID Name                DateTime               MonthYear  \\\n",
       "1146     A796351  Max  08/24/2019 12:03:00 PM  08/24/2019 12:03:00 PM   \n",
       "1174     A618405  Max  08/23/2019 06:38:00 PM  08/23/2019 06:38:00 PM   \n",
       "1224     A653408  Max  08/23/2019 11:33:00 AM  08/23/2019 11:33:00 AM   \n",
       "1371     A783700  Max  08/20/2019 06:36:00 PM  08/20/2019 06:36:00 PM   \n",
       "2153     A744193  Max  08/08/2019 03:17:00 PM  08/08/2019 03:17:00 PM   \n",
       "2199     A789119  Max  08/07/2019 06:56:00 PM  08/07/2019 06:56:00 PM   \n",
       "2446     A801136  Max  08/04/2019 11:26:00 AM  08/04/2019 11:26:00 AM   \n",
       "2622     A800872  Max  08/01/2019 04:37:00 PM  08/01/2019 04:37:00 PM   \n",
       "2780     A800791  Max  07/29/2019 06:07:00 PM  07/29/2019 06:07:00 PM   \n",
       "2915     A788916  Max  07/27/2019 05:16:00 PM  07/27/2019 05:16:00 PM   \n",
       "2942     A799870  Max  07/26/2019 07:17:00 PM  07/26/2019 07:17:00 PM   \n",
       "3832     A799881  Max  07/13/2019 02:33:00 PM  07/13/2019 02:33:00 PM   \n",
       "4200     A798950  Max  07/07/2019 01:31:00 PM  07/07/2019 01:31:00 PM   \n",
       "4349     A799025  Max  07/05/2019 11:13:00 AM  07/05/2019 11:13:00 AM   \n",
       "4635     A798743  Max  06/30/2019 04:54:00 PM  06/30/2019 04:54:00 PM   \n",
       "5088     A700767  Max  06/25/2019 02:12:00 PM  06/25/2019 02:12:00 PM   \n",
       "5398     A797355  Max  06/21/2019 06:39:00 PM  06/21/2019 06:39:00 PM   \n",
       "5410     A797407  Max  06/21/2019 04:05:00 PM  06/21/2019 04:05:00 PM   \n",
       "5563     A797258  Max  06/19/2019 12:58:00 PM  06/19/2019 12:58:00 PM   \n",
       "5632     A797814  Max  06/18/2019 12:52:00 PM  06/18/2019 12:52:00 PM   \n",
       "5676     A797341  Max  06/17/2019 05:12:00 PM  06/17/2019 05:12:00 PM   \n",
       "5895     A680607  Max  06/14/2019 11:50:00 AM  06/14/2019 11:50:00 AM   \n",
       "5961     A797339  Max  06/13/2019 11:39:00 AM  06/13/2019 11:39:00 AM   \n",
       "6200     A780200  Max  06/10/2019 10:53:00 AM  06/10/2019 10:53:00 AM   \n",
       "6224     A793073  Max  06/09/2019 05:52:00 PM  06/09/2019 05:52:00 PM   \n",
       "6577     A744193  Max  06/04/2019 03:30:00 PM  06/04/2019 03:30:00 PM   \n",
       "6640     A794951  Max  06/03/2019 07:30:00 PM  06/03/2019 07:30:00 PM   \n",
       "6799     A796351  Max  06/01/2019 04:18:00 PM  06/01/2019 04:18:00 PM   \n",
       "6930     A795976  Max  05/30/2019 11:20:00 AM  05/30/2019 11:20:00 AM   \n",
       "7430     A784016  Max  05/21/2019 03:13:00 PM  05/21/2019 03:13:00 PM   \n",
       "...          ...  ...                     ...                     ...   \n",
       "100829   A648236  Max  02/26/2014 04:50:00 PM  02/26/2014 04:50:00 PM   \n",
       "101092   A673191  Max  02/20/2014 03:40:00 PM  02/20/2014 03:40:00 PM   \n",
       "101290   A671314  Max  02/16/2014 11:53:00 AM  02/16/2014 11:53:00 AM   \n",
       "101457   A672335  Max  02/11/2014 06:20:00 PM  02/11/2014 06:20:00 PM   \n",
       "101754   A671503  Max  02/03/2014 06:11:00 PM  02/03/2014 06:11:00 PM   \n",
       "101797   A652954  Max  02/03/2014 11:40:00 AM  02/03/2014 11:40:00 AM   \n",
       "101828   A671583  Max  02/02/2014 02:59:00 PM  02/02/2014 02:59:00 PM   \n",
       "101857   A671583  Max  02/01/2014 05:40:00 PM  02/01/2014 05:40:00 PM   \n",
       "102547   A670802  Max  01/15/2014 06:53:00 PM  01/15/2014 06:53:00 PM   \n",
       "102752   A665405  Max  01/10/2014 06:41:00 PM  01/10/2014 06:41:00 PM   \n",
       "102770   A648236  Max  01/10/2014 03:19:00 PM  01/10/2014 03:19:00 PM   \n",
       "102826   A664369  Max  01/08/2014 07:19:00 PM  01/08/2014 07:19:00 PM   \n",
       "102932   A669946  Max  01/05/2014 06:11:00 PM  01/05/2014 06:11:00 PM   \n",
       "103184   A669266  Max  12/31/2013 04:51:00 PM  12/31/2013 04:51:00 PM   \n",
       "103599   A522774  Max  12/23/2013 04:45:00 PM  12/23/2013 04:45:00 PM   \n",
       "103717   A669211  Max  12/21/2013 06:25:00 PM  12/21/2013 06:25:00 PM   \n",
       "103831   A669274  Max  12/19/2013 05:10:00 PM  12/19/2013 05:10:00 PM   \n",
       "104098   A590637  Max  12/14/2013 01:10:00 PM  12/14/2013 01:10:00 PM   \n",
       "104143   A668634  Max  12/13/2013 12:10:00 PM  12/13/2013 12:10:00 PM   \n",
       "104336   A668750  Max  12/08/2013 06:13:00 PM  12/08/2013 06:13:00 PM   \n",
       "104376   A668202  Max  12/08/2013 01:01:00 PM  12/08/2013 01:01:00 PM   \n",
       "105272   A661874  Max  11/17/2013 12:53:00 PM  11/17/2013 12:53:00 PM   \n",
       "105986   A605315  Max  11/02/2013 12:08:00 PM  11/02/2013 12:08:00 PM   \n",
       "106042   A665263  Max  11/01/2013 11:37:00 AM  11/01/2013 11:37:00 AM   \n",
       "106076   A665445  Max  10/31/2013 01:03:00 PM  10/31/2013 01:03:00 PM   \n",
       "106261   A664692  Max  10/27/2013 02:45:00 PM  10/27/2013 02:45:00 PM   \n",
       "106290   A665743  Max  10/26/2013 06:38:00 PM  10/26/2013 06:38:00 PM   \n",
       "106536   A665405  Max  10/21/2013 04:59:00 PM  10/21/2013 04:59:00 PM   \n",
       "107065   A664369  Max  10/12/2013 06:00:00 PM  10/12/2013 06:00:00 PM   \n",
       "107073   A662933  Max  10/12/2013 05:13:00 PM  10/12/2013 05:13:00 PM   \n",
       "\n",
       "       Date of Birth     Outcome Type Outcome Subtype Animal Type  \\\n",
       "1146      05/31/2010         Transfer         Partner         Cat   \n",
       "1174      07/15/2010         Adoption             NaN         Dog   \n",
       "1224      05/06/2009  Return to Owner             NaN         Dog   \n",
       "1371      11/04/2017         Adoption             NaN         Dog   \n",
       "2153      09/27/2016         Adoption          Foster         Dog   \n",
       "2199      12/17/2014         Adoption          Foster         Dog   \n",
       "2446      03/22/2008        Rto-Adopt             NaN         Dog   \n",
       "2622      06/12/2019         Adoption             NaN         Dog   \n",
       "2780      07/26/2017  Return to Owner             NaN         Dog   \n",
       "2915      11/26/2018  Return to Owner             NaN         Dog   \n",
       "2942      07/13/2017  Return to Owner             NaN         Dog   \n",
       "3832      05/13/2019         Transfer         Partner         Dog   \n",
       "4200      07/02/2017         Adoption             NaN         Dog   \n",
       "4349      01/19/2019  Return to Owner             NaN         Dog   \n",
       "4635      10/29/2018  Return to Owner             NaN         Dog   \n",
       "5088      04/19/2011  Return to Owner             NaN         Dog   \n",
       "5398      12/12/2017         Adoption             NaN         Dog   \n",
       "5410      03/13/2019         Adoption             NaN         Dog   \n",
       "5563      02/11/2018         Transfer         Partner         Dog   \n",
       "5632      06/18/2017  Return to Owner             NaN         Dog   \n",
       "5676      03/12/2019         Adoption             NaN         Cat   \n",
       "5895      04/04/2014  Return to Owner             NaN         Dog   \n",
       "5961      06/12/2017  Return to Owner             NaN         Dog   \n",
       "6200      09/11/2014        Rto-Adopt             NaN         Dog   \n",
       "6224      06/02/2018         Adoption             NaN         Dog   \n",
       "6577      09/27/2016         Adoption             NaN         Dog   \n",
       "6640      05/14/2017        Rto-Adopt             NaN         Dog   \n",
       "6799      05/31/2010  Return to Owner             NaN         Cat   \n",
       "6930      05/27/2008         Transfer         Partner         Dog   \n",
       "7430      08/10/2018  Return to Owner             NaN         Dog   \n",
       "...              ...              ...             ...         ...   \n",
       "100829    04/24/2012  Return to Owner             NaN         Dog   \n",
       "101092    02/19/2011       Euthanasia     Rabies Risk         Dog   \n",
       "101290    03/22/2013         Adoption             NaN         Dog   \n",
       "101457    02/08/2012  Return to Owner             NaN         Dog   \n",
       "101754    01/25/2012         Adoption             NaN         Dog   \n",
       "101797    12/17/2012         Adoption             NaN         Dog   \n",
       "101828    04/01/2013         Adoption             NaN         Dog   \n",
       "101857    04/01/2013         Adoption             NaN         Dog   \n",
       "102547    07/14/2010  Return to Owner             NaN         Dog   \n",
       "102752    06/17/2013         Adoption             NaN         Dog   \n",
       "102770    04/24/2012  Return to Owner             NaN         Dog   \n",
       "102826    05/27/2013  Return to Owner             NaN         Dog   \n",
       "102932    12/30/2012         Adoption             NaN         Dog   \n",
       "103184    07/27/2013         Adoption             NaN         Dog   \n",
       "103599    10/02/2006  Return to Owner             NaN         Dog   \n",
       "103717    12/17/2011         Adoption             NaN         Dog   \n",
       "103831    12/17/2011  Return to Owner             NaN         Dog   \n",
       "104098    12/21/2009         Adoption             NaN         Dog   \n",
       "104143    02/06/2013         Adoption             NaN         Dog   \n",
       "104336    12/08/2011  Return to Owner             NaN         Dog   \n",
       "104376    01/29/2013         Adoption             NaN         Dog   \n",
       "105272    06/15/2013         Transfer         Partner         Dog   \n",
       "105986    01/06/2009  Return to Owner             NaN         Dog   \n",
       "106042    07/31/2013         Adoption             NaN         Dog   \n",
       "106076    06/18/2013         Adoption             NaN         Dog   \n",
       "106261    10/07/2007         Transfer         Partner         Cat   \n",
       "106290    12/22/2012         Adoption             NaN         Dog   \n",
       "106536    06/17/2013         Adoption             NaN         Dog   \n",
       "107065    05/27/2013  Return to Owner             NaN         Dog   \n",
       "107073    09/10/2006  Return to Owner             NaN         Dog   \n",
       "\n",
       "       Sex upon Outcome Age upon Outcome  \\\n",
       "1146      Neutered Male          9 years   \n",
       "1174      Neutered Male          9 years   \n",
       "1224      Neutered Male         10 years   \n",
       "1371      Neutered Male           1 year   \n",
       "2153      Neutered Male          2 years   \n",
       "2199      Neutered Male          4 years   \n",
       "2446        Intact Male         11 years   \n",
       "2622      Neutered Male          1 month   \n",
       "2780        Intact Male          2 years   \n",
       "2915      Neutered Male         7 months   \n",
       "2942        Intact Male          2 years   \n",
       "3832        Intact Male          1 month   \n",
       "4200      Neutered Male          2 years   \n",
       "4349      Neutered Male         5 months   \n",
       "4635        Intact Male         8 months   \n",
       "5088      Neutered Male          8 years   \n",
       "5398      Neutered Male           1 year   \n",
       "5410      Neutered Male         3 months   \n",
       "5563        Intact Male           1 year   \n",
       "5632        Intact Male          2 years   \n",
       "5676      Neutered Male         3 months   \n",
       "5895      Neutered Male          5 years   \n",
       "5961        Intact Male          2 years   \n",
       "6200      Neutered Male          4 years   \n",
       "6224      Neutered Male           1 year   \n",
       "6577      Neutered Male          2 years   \n",
       "6640        Intact Male          2 years   \n",
       "6799      Neutered Male          9 years   \n",
       "6930      Neutered Male         11 years   \n",
       "7430        Intact Male         9 months   \n",
       "...                 ...              ...   \n",
       "100829    Neutered Male           1 year   \n",
       "101092      Intact Male          3 years   \n",
       "101290    Neutered Male        10 months   \n",
       "101457    Neutered Male          2 years   \n",
       "101754    Neutered Male          2 years   \n",
       "101797    Neutered Male           1 year   \n",
       "101828    Neutered Male        10 months   \n",
       "101857    Neutered Male        10 months   \n",
       "102547    Neutered Male          3 years   \n",
       "102752    Neutered Male         6 months   \n",
       "102770    Neutered Male           1 year   \n",
       "102826    Neutered Male         7 months   \n",
       "102932    Neutered Male           1 year   \n",
       "103184    Neutered Male         5 months   \n",
       "103599    Neutered Male          7 years   \n",
       "103717    Neutered Male          2 years   \n",
       "103831    Neutered Male          2 years   \n",
       "104098    Neutered Male          3 years   \n",
       "104143    Neutered Male        10 months   \n",
       "104336    Neutered Male          2 years   \n",
       "104376    Neutered Male        10 months   \n",
       "105272    Neutered Male         5 months   \n",
       "105986    Neutered Male          4 years   \n",
       "106042    Neutered Male         3 months   \n",
       "106076    Neutered Male         4 months   \n",
       "106261    Neutered Male          6 years   \n",
       "106290    Neutered Male        10 months   \n",
       "106536    Neutered Male         4 months   \n",
       "107065    Neutered Male         4 months   \n",
       "107073    Neutered Male          7 years   \n",
       "\n",
       "                                           Breed                Color  \n",
       "1146                          Domestic Shorthair          Black/White  \n",
       "1174               American Pit Bull Terrier Mix           White/Blue  \n",
       "1224                        American Bulldog Mix          White/Black  \n",
       "1371                      Labrador Retriever Mix      Chocolate/White  \n",
       "2153                           Cairn Terrier Mix            Tan/White  \n",
       "2199                               Catahoula Mix                  Red  \n",
       "2446                          Miniature Pinscher                  Red  \n",
       "2622                         German Shepherd Mix            Tan/Black  \n",
       "2780                                    Pit Bull          Brown/White  \n",
       "2915                                Pit Bull Mix  Brown Brindle/White  \n",
       "2942                             German Shepherd          Brown/Black  \n",
       "3832                       Yorkshire Terrier Mix          Brown/White  \n",
       "4200                            American Bulldog           White/Blue  \n",
       "4349                         German Shepherd Mix                  Tan  \n",
       "4635                    Maltese/Miniature Poodle            White/Tan  \n",
       "5088              Labrador Retriever/Plott Hound  Brown Brindle/White  \n",
       "5398                                Pit Bull Mix      Chocolate/White  \n",
       "5410             German Shepherd/Chinese Sharpei             Tricolor  \n",
       "5563                              Rottweiler Mix            Black/Tan  \n",
       "5632                                         Pug            Tan/Black  \n",
       "5676                          Domestic Shorthair    Cream Tabby/White  \n",
       "5895                     Chihuahua Shorthair Mix            Tan/White  \n",
       "5961              Welsh Terrier/Miniature Poodle             Tan/Gray  \n",
       "6200                         German Shepherd Mix          Brown/Black  \n",
       "6224                                   Boxer Mix       Brown/Tricolor  \n",
       "6577                           Cairn Terrier Mix            Tan/White  \n",
       "6640                          Labrador Retriever                  Red  \n",
       "6799                          Domestic Shorthair          Black/White  \n",
       "6930                                     Maltese                White  \n",
       "7430                           Staffordshire Mix  Brown Brindle/White  \n",
       "...                                          ...                  ...  \n",
       "100829                 Australian Cattle Dog Mix       Red Tick/White  \n",
       "101092                    Labrador Retriever Mix          Brown/White  \n",
       "101290                          Collie Rough Mix          White/Black  \n",
       "101457                   Chihuahua Shorthair Mix            Black/Tan  \n",
       "101754                          Beagle/Dachshund          White/Brown  \n",
       "101797        German Shepherd/Labrador Retriever          Brown/Black  \n",
       "101828                 Wire Hair Fox Terrier Mix          White/Black  \n",
       "101857                 Wire Hair Fox Terrier Mix          White/Black  \n",
       "102547                    Labrador Retriever Mix                  Tan  \n",
       "102752                    Labrador Retriever Mix          Black/White  \n",
       "102770                 Australian Cattle Dog Mix       Red Tick/White  \n",
       "102826        Labrador Retriever/German Shepherd                Black  \n",
       "102932                    Labrador Retriever Mix                Black  \n",
       "103184                              Pit Bull Mix  White/Black Brindle  \n",
       "103599                       Chihuahua Shorthair             Tricolor  \n",
       "103717                   Chihuahua Shorthair Mix          White/Brown  \n",
       "103831                  Cardigan Welsh Corgi Mix                White  \n",
       "104098                       German Shepherd Mix            Tan/White  \n",
       "104143        Anatol Shepherd/Labrador Retriever  Brown Brindle/White  \n",
       "104336                          Basset Hound Mix          Black/White  \n",
       "104376                       German Shepherd Mix          Brown/White  \n",
       "105272                   Miniature Schnauzer Mix          Black/White  \n",
       "105986                 American Pit Bull Terrier          Black/White  \n",
       "106042                    Labrador Retriever Mix                Black  \n",
       "106076                    Labrador Retriever Mix          Brown/Black  \n",
       "106261                          Russian Blue Mix                 Blue  \n",
       "106290  Jack Russell Terrier/Chihuahua Shorthair          White/Brown  \n",
       "106536                    Labrador Retriever Mix          Black/White  \n",
       "107065        Labrador Retriever/German Shepherd                Black  \n",
       "107073                                   Pug Mix          Brown/Black  \n",
       "\n",
       "[475 rows x 12 columns]"
      ]
     },
     "execution_count": 60,
     "metadata": {},
     "output_type": "execute_result"
    }
   ],
   "source": [
    "max_data = shelter_data.query('Name == \"Max\"') # More SQL Way\n",
    "max_data.head()\n",
    "#vs\n",
    "shelter_data[shelter_data['Name']==\"Max\"]"
   ]
  },
  {
   "cell_type": "code",
   "execution_count": 62,
   "metadata": {},
   "outputs": [
    {
     "data": {
      "text/html": [
       "<div>\n",
       "<style scoped>\n",
       "    .dataframe tbody tr th:only-of-type {\n",
       "        vertical-align: middle;\n",
       "    }\n",
       "\n",
       "    .dataframe tbody tr th {\n",
       "        vertical-align: top;\n",
       "    }\n",
       "\n",
       "    .dataframe thead th {\n",
       "        text-align: right;\n",
       "    }\n",
       "</style>\n",
       "<table border=\"1\" class=\"dataframe\">\n",
       "  <thead>\n",
       "    <tr style=\"text-align: right;\">\n",
       "      <th></th>\n",
       "      <th>Animal ID</th>\n",
       "      <th>Name</th>\n",
       "      <th>DateTime</th>\n",
       "      <th>MonthYear</th>\n",
       "      <th>Date of Birth</th>\n",
       "      <th>Outcome Type</th>\n",
       "      <th>Outcome Subtype</th>\n",
       "      <th>Animal Type</th>\n",
       "      <th>Sex upon Outcome</th>\n",
       "      <th>Age upon Outcome</th>\n",
       "      <th>Breed</th>\n",
       "      <th>Color</th>\n",
       "    </tr>\n",
       "  </thead>\n",
       "  <tbody>\n",
       "    <tr>\n",
       "      <th>5410</th>\n",
       "      <td>A797407</td>\n",
       "      <td>Max</td>\n",
       "      <td>06/21/2019 04:05:00 PM</td>\n",
       "      <td>06/21/2019 04:05:00 PM</td>\n",
       "      <td>03/13/2019</td>\n",
       "      <td>Adoption</td>\n",
       "      <td>NaN</td>\n",
       "      <td>Dog</td>\n",
       "      <td>Neutered Male</td>\n",
       "      <td>3 months</td>\n",
       "      <td>German Shepherd/Chinese Sharpei</td>\n",
       "      <td>Tricolor</td>\n",
       "    </tr>\n",
       "    <tr>\n",
       "      <th>9462</th>\n",
       "      <td>A787013</td>\n",
       "      <td>Max</td>\n",
       "      <td>04/12/2019 12:53:00 PM</td>\n",
       "      <td>04/12/2019 12:53:00 PM</td>\n",
       "      <td>10/26/2018</td>\n",
       "      <td>Transfer</td>\n",
       "      <td>Partner</td>\n",
       "      <td>Dog</td>\n",
       "      <td>Neutered Male</td>\n",
       "      <td>5 months</td>\n",
       "      <td>German Shepherd Mix</td>\n",
       "      <td>Tricolor</td>\n",
       "    </tr>\n",
       "    <tr>\n",
       "      <th>13500</th>\n",
       "      <td>A787013</td>\n",
       "      <td>Max</td>\n",
       "      <td>01/10/2019 06:22:00 PM</td>\n",
       "      <td>01/10/2019 06:22:00 PM</td>\n",
       "      <td>10/26/2018</td>\n",
       "      <td>Adoption</td>\n",
       "      <td>NaN</td>\n",
       "      <td>Dog</td>\n",
       "      <td>Neutered Male</td>\n",
       "      <td>2 months</td>\n",
       "      <td>German Shepherd Mix</td>\n",
       "      <td>Tricolor</td>\n",
       "    </tr>\n",
       "    <tr>\n",
       "      <th>35732</th>\n",
       "      <td>A756835</td>\n",
       "      <td>Max</td>\n",
       "      <td>09/10/2017 07:38:00 PM</td>\n",
       "      <td>09/10/2017 07:38:00 PM</td>\n",
       "      <td>08/26/2015</td>\n",
       "      <td>Return to Owner</td>\n",
       "      <td>NaN</td>\n",
       "      <td>Dog</td>\n",
       "      <td>Intact Male</td>\n",
       "      <td>2 years</td>\n",
       "      <td>Australian Shepherd Mix</td>\n",
       "      <td>Tricolor</td>\n",
       "    </tr>\n",
       "    <tr>\n",
       "      <th>40308</th>\n",
       "      <td>A742692</td>\n",
       "      <td>Max</td>\n",
       "      <td>06/20/2017 03:34:00 PM</td>\n",
       "      <td>06/20/2017 03:34:00 PM</td>\n",
       "      <td>10/01/2016</td>\n",
       "      <td>Transfer</td>\n",
       "      <td>Partner</td>\n",
       "      <td>Dog</td>\n",
       "      <td>Neutered Male</td>\n",
       "      <td>8 months</td>\n",
       "      <td>Australian Cattle Dog Mix</td>\n",
       "      <td>Tricolor</td>\n",
       "    </tr>\n",
       "  </tbody>\n",
       "</table>\n",
       "</div>"
      ],
      "text/plain": [
       "      Animal ID Name                DateTime               MonthYear  \\\n",
       "5410    A797407  Max  06/21/2019 04:05:00 PM  06/21/2019 04:05:00 PM   \n",
       "9462    A787013  Max  04/12/2019 12:53:00 PM  04/12/2019 12:53:00 PM   \n",
       "13500   A787013  Max  01/10/2019 06:22:00 PM  01/10/2019 06:22:00 PM   \n",
       "35732   A756835  Max  09/10/2017 07:38:00 PM  09/10/2017 07:38:00 PM   \n",
       "40308   A742692  Max  06/20/2017 03:34:00 PM  06/20/2017 03:34:00 PM   \n",
       "\n",
       "      Date of Birth     Outcome Type Outcome Subtype Animal Type  \\\n",
       "5410     03/13/2019         Adoption             NaN         Dog   \n",
       "9462     10/26/2018         Transfer         Partner         Dog   \n",
       "13500    10/26/2018         Adoption             NaN         Dog   \n",
       "35732    08/26/2015  Return to Owner             NaN         Dog   \n",
       "40308    10/01/2016         Transfer         Partner         Dog   \n",
       "\n",
       "      Sex upon Outcome Age upon Outcome                            Breed  \\\n",
       "5410     Neutered Male         3 months  German Shepherd/Chinese Sharpei   \n",
       "9462     Neutered Male         5 months              German Shepherd Mix   \n",
       "13500    Neutered Male         2 months              German Shepherd Mix   \n",
       "35732      Intact Male          2 years          Australian Shepherd Mix   \n",
       "40308    Neutered Male         8 months        Australian Cattle Dog Mix   \n",
       "\n",
       "          Color  \n",
       "5410   Tricolor  \n",
       "9462   Tricolor  \n",
       "13500  Tricolor  \n",
       "35732  Tricolor  \n",
       "40308  Tricolor  "
      ]
     },
     "execution_count": 62,
     "metadata": {},
     "output_type": "execute_result"
    }
   ],
   "source": [
    "max_data = shelter_data.query('Name == \"Max\" and Color == \"Tricolor\"')\n",
    "max_data.head()"
   ]
  },
  {
   "cell_type": "code",
   "execution_count": 63,
   "metadata": {
    "slideshow": {
     "slide_type": "slide"
    }
   },
   "outputs": [
    {
     "data": {
      "text/html": [
       "<div>\n",
       "<style scoped>\n",
       "    .dataframe tbody tr th:only-of-type {\n",
       "        vertical-align: middle;\n",
       "    }\n",
       "\n",
       "    .dataframe tbody tr th {\n",
       "        vertical-align: top;\n",
       "    }\n",
       "\n",
       "    .dataframe thead th {\n",
       "        text-align: right;\n",
       "    }\n",
       "</style>\n",
       "<table border=\"1\" class=\"dataframe\">\n",
       "  <thead>\n",
       "    <tr style=\"text-align: right;\">\n",
       "      <th></th>\n",
       "      <th>Animal ID</th>\n",
       "      <th>Name</th>\n",
       "      <th>DateTime</th>\n",
       "      <th>MonthYear</th>\n",
       "      <th>Date of Birth</th>\n",
       "      <th>Outcome Type</th>\n",
       "      <th>Outcome Subtype</th>\n",
       "      <th>animal_type</th>\n",
       "      <th>Sex upon Outcome</th>\n",
       "      <th>Age upon Outcome</th>\n",
       "      <th>Breed</th>\n",
       "      <th>Color</th>\n",
       "    </tr>\n",
       "  </thead>\n",
       "  <tbody>\n",
       "    <tr>\n",
       "      <th>1</th>\n",
       "      <td>A785262</td>\n",
       "      <td>Calvin</td>\n",
       "      <td>09/13/2019 12:38:00 PM</td>\n",
       "      <td>09/13/2019 12:38:00 PM</td>\n",
       "      <td>04/24/2018</td>\n",
       "      <td>Adoption</td>\n",
       "      <td>NaN</td>\n",
       "      <td>Dog</td>\n",
       "      <td>Neutered Male</td>\n",
       "      <td>1 year</td>\n",
       "      <td>Wire Hair Fox Terrier/Chihuahua Shorthair</td>\n",
       "      <td>Black/White</td>\n",
       "    </tr>\n",
       "    <tr>\n",
       "      <th>3</th>\n",
       "      <td>A803789</td>\n",
       "      <td>*Sticks</td>\n",
       "      <td>09/13/2019 12:08:00 PM</td>\n",
       "      <td>09/13/2019 12:08:00 PM</td>\n",
       "      <td>09/06/2017</td>\n",
       "      <td>Adoption</td>\n",
       "      <td>NaN</td>\n",
       "      <td>Dog</td>\n",
       "      <td>Spayed Female</td>\n",
       "      <td>2 years</td>\n",
       "      <td>Cairn Terrier</td>\n",
       "      <td>Tricolor</td>\n",
       "    </tr>\n",
       "    <tr>\n",
       "      <th>4</th>\n",
       "      <td>A783086</td>\n",
       "      <td>Pirate</td>\n",
       "      <td>09/13/2019 12:03:00 PM</td>\n",
       "      <td>09/13/2019 12:03:00 PM</td>\n",
       "      <td>10/25/2017</td>\n",
       "      <td>Adoption</td>\n",
       "      <td>Foster</td>\n",
       "      <td>Dog</td>\n",
       "      <td>Neutered Male</td>\n",
       "      <td>1 year</td>\n",
       "      <td>German Shepherd Mix</td>\n",
       "      <td>Brown/White</td>\n",
       "    </tr>\n",
       "    <tr>\n",
       "      <th>5</th>\n",
       "      <td>A801743</td>\n",
       "      <td>NaN</td>\n",
       "      <td>09/13/2019 12:03:00 PM</td>\n",
       "      <td>09/13/2019 12:03:00 PM</td>\n",
       "      <td>01/24/2010</td>\n",
       "      <td>Transfer</td>\n",
       "      <td>Partner</td>\n",
       "      <td>Dog</td>\n",
       "      <td>Neutered Male</td>\n",
       "      <td>9 years</td>\n",
       "      <td>Miniature Poodle/Lhasa Apso</td>\n",
       "      <td>Chocolate</td>\n",
       "    </tr>\n",
       "    <tr>\n",
       "      <th>6</th>\n",
       "      <td>A804083</td>\n",
       "      <td>NaN</td>\n",
       "      <td>09/13/2019 12:03:00 PM</td>\n",
       "      <td>09/13/2019 12:03:00 PM</td>\n",
       "      <td>09/10/2017</td>\n",
       "      <td>Transfer</td>\n",
       "      <td>Partner</td>\n",
       "      <td>Dog</td>\n",
       "      <td>Intact Female</td>\n",
       "      <td>NaN</td>\n",
       "      <td>Shih Tzu/Miniature Poodle</td>\n",
       "      <td>White</td>\n",
       "    </tr>\n",
       "  </tbody>\n",
       "</table>\n",
       "</div>"
      ],
      "text/plain": [
       "  Animal ID     Name                DateTime               MonthYear  \\\n",
       "1   A785262   Calvin  09/13/2019 12:38:00 PM  09/13/2019 12:38:00 PM   \n",
       "3   A803789  *Sticks  09/13/2019 12:08:00 PM  09/13/2019 12:08:00 PM   \n",
       "4   A783086   Pirate  09/13/2019 12:03:00 PM  09/13/2019 12:03:00 PM   \n",
       "5   A801743      NaN  09/13/2019 12:03:00 PM  09/13/2019 12:03:00 PM   \n",
       "6   A804083      NaN  09/13/2019 12:03:00 PM  09/13/2019 12:03:00 PM   \n",
       "\n",
       "  Date of Birth Outcome Type Outcome Subtype animal_type Sex upon Outcome  \\\n",
       "1    04/24/2018     Adoption             NaN         Dog    Neutered Male   \n",
       "3    09/06/2017     Adoption             NaN         Dog    Spayed Female   \n",
       "4    10/25/2017     Adoption          Foster         Dog    Neutered Male   \n",
       "5    01/24/2010     Transfer         Partner         Dog    Neutered Male   \n",
       "6    09/10/2017     Transfer         Partner         Dog    Intact Female   \n",
       "\n",
       "  Age upon Outcome                                      Breed        Color  \n",
       "1           1 year  Wire Hair Fox Terrier/Chihuahua Shorthair  Black/White  \n",
       "3          2 years                              Cairn Terrier     Tricolor  \n",
       "4           1 year                        German Shepherd Mix  Brown/White  \n",
       "5          9 years                Miniature Poodle/Lhasa Apso    Chocolate  \n",
       "6              NaN                  Shih Tzu/Miniature Poodle        White  "
      ]
     },
     "execution_count": 63,
     "metadata": {},
     "output_type": "execute_result"
    }
   ],
   "source": [
    "shelter_data.rename(index=str, columns={\"Animal Type\": \"animal_type\"}, inplace = True)\n",
    "test = shelter_data.query('animal_type == \"Dog\"')\n",
    "test.head()"
   ]
  },
  {
   "cell_type": "markdown",
   "metadata": {
    "slideshow": {
     "slide_type": "slide"
    }
   },
   "source": [
    "## Goal 6: Transfering from sqlite to pandas"
   ]
  },
  {
   "cell_type": "code",
   "execution_count": 64,
   "metadata": {
    "slideshow": {
     "slide_type": "fragment"
    }
   },
   "outputs": [
    {
     "data": {
      "text/html": [
       "<div>\n",
       "<style scoped>\n",
       "    .dataframe tbody tr th:only-of-type {\n",
       "        vertical-align: middle;\n",
       "    }\n",
       "\n",
       "    .dataframe tbody tr th {\n",
       "        vertical-align: top;\n",
       "    }\n",
       "\n",
       "    .dataframe thead th {\n",
       "        text-align: right;\n",
       "    }\n",
       "</style>\n",
       "<table border=\"1\" class=\"dataframe\">\n",
       "  <thead>\n",
       "    <tr style=\"text-align: right;\">\n",
       "      <th></th>\n",
       "      <th>index</th>\n",
       "      <th>id</th>\n",
       "      <th>name</th>\n",
       "      <th>city</th>\n",
       "      <th>country</th>\n",
       "      <th>code</th>\n",
       "      <th>icao</th>\n",
       "      <th>latitude</th>\n",
       "      <th>longitude</th>\n",
       "      <th>altitude</th>\n",
       "      <th>offset</th>\n",
       "      <th>dst</th>\n",
       "      <th>timezone</th>\n",
       "    </tr>\n",
       "  </thead>\n",
       "  <tbody>\n",
       "    <tr>\n",
       "      <th>0</th>\n",
       "      <td>0</td>\n",
       "      <td>1</td>\n",
       "      <td>Goroka</td>\n",
       "      <td>Goroka</td>\n",
       "      <td>Papua New Guinea</td>\n",
       "      <td>GKA</td>\n",
       "      <td>AYGA</td>\n",
       "      <td>-6.081689</td>\n",
       "      <td>145.391881</td>\n",
       "      <td>5282</td>\n",
       "      <td>10</td>\n",
       "      <td>U</td>\n",
       "      <td>Pacific/Port_Moresby</td>\n",
       "    </tr>\n",
       "    <tr>\n",
       "      <th>1</th>\n",
       "      <td>1</td>\n",
       "      <td>2</td>\n",
       "      <td>Madang</td>\n",
       "      <td>Madang</td>\n",
       "      <td>Papua New Guinea</td>\n",
       "      <td>MAG</td>\n",
       "      <td>AYMD</td>\n",
       "      <td>-5.207083</td>\n",
       "      <td>145.7887</td>\n",
       "      <td>20</td>\n",
       "      <td>10</td>\n",
       "      <td>U</td>\n",
       "      <td>Pacific/Port_Moresby</td>\n",
       "    </tr>\n",
       "    <tr>\n",
       "      <th>2</th>\n",
       "      <td>2</td>\n",
       "      <td>3</td>\n",
       "      <td>Mount Hagen</td>\n",
       "      <td>Mount Hagen</td>\n",
       "      <td>Papua New Guinea</td>\n",
       "      <td>HGU</td>\n",
       "      <td>AYMH</td>\n",
       "      <td>-5.826789</td>\n",
       "      <td>144.295861</td>\n",
       "      <td>5388</td>\n",
       "      <td>10</td>\n",
       "      <td>U</td>\n",
       "      <td>Pacific/Port_Moresby</td>\n",
       "    </tr>\n",
       "    <tr>\n",
       "      <th>3</th>\n",
       "      <td>3</td>\n",
       "      <td>4</td>\n",
       "      <td>Nadzab</td>\n",
       "      <td>Nadzab</td>\n",
       "      <td>Papua New Guinea</td>\n",
       "      <td>LAE</td>\n",
       "      <td>AYNZ</td>\n",
       "      <td>-6.569828</td>\n",
       "      <td>146.726242</td>\n",
       "      <td>239</td>\n",
       "      <td>10</td>\n",
       "      <td>U</td>\n",
       "      <td>Pacific/Port_Moresby</td>\n",
       "    </tr>\n",
       "    <tr>\n",
       "      <th>4</th>\n",
       "      <td>4</td>\n",
       "      <td>5</td>\n",
       "      <td>Port Moresby Jacksons Intl</td>\n",
       "      <td>Port Moresby</td>\n",
       "      <td>Papua New Guinea</td>\n",
       "      <td>POM</td>\n",
       "      <td>AYPY</td>\n",
       "      <td>-9.443383</td>\n",
       "      <td>147.22005</td>\n",
       "      <td>146</td>\n",
       "      <td>10</td>\n",
       "      <td>U</td>\n",
       "      <td>Pacific/Port_Moresby</td>\n",
       "    </tr>\n",
       "  </tbody>\n",
       "</table>\n",
       "</div>"
      ],
      "text/plain": [
       "   index id                        name          city           country code  \\\n",
       "0      0  1                      Goroka        Goroka  Papua New Guinea  GKA   \n",
       "1      1  2                      Madang        Madang  Papua New Guinea  MAG   \n",
       "2      2  3                 Mount Hagen   Mount Hagen  Papua New Guinea  HGU   \n",
       "3      3  4                      Nadzab        Nadzab  Papua New Guinea  LAE   \n",
       "4      4  5  Port Moresby Jacksons Intl  Port Moresby  Papua New Guinea  POM   \n",
       "\n",
       "   icao   latitude   longitude altitude offset dst              timezone  \n",
       "0  AYGA  -6.081689  145.391881     5282     10   U  Pacific/Port_Moresby  \n",
       "1  AYMD  -5.207083    145.7887       20     10   U  Pacific/Port_Moresby  \n",
       "2  AYMH  -5.826789  144.295861     5388     10   U  Pacific/Port_Moresby  \n",
       "3  AYNZ  -6.569828  146.726242      239     10   U  Pacific/Port_Moresby  \n",
       "4  AYPY  -9.443383   147.22005      146     10   U  Pacific/Port_Moresby  "
      ]
     },
     "execution_count": 64,
     "metadata": {},
     "output_type": "execute_result"
    }
   ],
   "source": [
    "pd_con = sqlite3.connect(\"flights.db\")\n",
    "df = pd.read_sql_query(\"select * from airports limit 5;\", pd_con)\n",
    "df"
   ]
  },
  {
   "cell_type": "markdown",
   "metadata": {
    "slideshow": {
     "slide_type": "slide"
    }
   },
   "source": [
    "**Task**: \n",
    "Convert one of the earlier queries in the lesson to a pandas data frame"
   ]
  },
  {
   "cell_type": "code",
   "execution_count": 65,
   "metadata": {},
   "outputs": [
    {
     "data": {
      "text/html": [
       "<div>\n",
       "<style scoped>\n",
       "    .dataframe tbody tr th:only-of-type {\n",
       "        vertical-align: middle;\n",
       "    }\n",
       "\n",
       "    .dataframe tbody tr th {\n",
       "        vertical-align: top;\n",
       "    }\n",
       "\n",
       "    .dataframe thead th {\n",
       "        text-align: right;\n",
       "    }\n",
       "</style>\n",
       "<table border=\"1\" class=\"dataframe\">\n",
       "  <thead>\n",
       "    <tr style=\"text-align: right;\">\n",
       "      <th></th>\n",
       "      <th>country</th>\n",
       "      <th>airline_count</th>\n",
       "    </tr>\n",
       "  </thead>\n",
       "  <tbody>\n",
       "    <tr>\n",
       "      <th>0</th>\n",
       "      <td>United States</td>\n",
       "      <td>939</td>\n",
       "    </tr>\n",
       "    <tr>\n",
       "      <th>1</th>\n",
       "      <td>Mexico</td>\n",
       "      <td>427</td>\n",
       "    </tr>\n",
       "    <tr>\n",
       "      <th>2</th>\n",
       "      <td>United Kingdom</td>\n",
       "      <td>367</td>\n",
       "    </tr>\n",
       "    <tr>\n",
       "      <th>3</th>\n",
       "      <td>Canada</td>\n",
       "      <td>284</td>\n",
       "    </tr>\n",
       "    <tr>\n",
       "      <th>4</th>\n",
       "      <td>Russia</td>\n",
       "      <td>158</td>\n",
       "    </tr>\n",
       "  </tbody>\n",
       "</table>\n",
       "</div>"
      ],
      "text/plain": [
       "          country  airline_count\n",
       "0   United States            939\n",
       "1          Mexico            427\n",
       "2  United Kingdom            367\n",
       "3          Canada            284\n",
       "4          Russia            158"
      ]
     },
     "execution_count": 65,
     "metadata": {},
     "output_type": "execute_result"
    }
   ],
   "source": [
    "# Which countries have the highest amount of active airports?\n",
    "df = pd.read_sql_query(\"\"\"\n",
    "SELECT country, count(*) as airline_count\n",
    "FROM airlines\n",
    "WHERE active = 'N'\n",
    "GROUP BY country\n",
    "ORDER BY airline_count DESC\n",
    "\n",
    "LIMIT 5\n",
    "\"\"\", pd_con)\n",
    "df"
   ]
  },
  {
   "cell_type": "code",
   "execution_count": 66,
   "metadata": {},
   "outputs": [],
   "source": [
    "pd_con.close()"
   ]
  },
  {
   "cell_type": "code",
   "execution_count": null,
   "metadata": {},
   "outputs": [],
   "source": []
  },
  {
   "cell_type": "markdown",
   "metadata": {
    "slideshow": {
     "slide_type": "slide"
    }
   },
   "source": [
    "## Integration\n",
    "\n",
    "The [Chinook database](https://github.com/lerocha/chinook-database) is a sample database, representing a digital media store.\n",
    "\n",
    "You need to create a query that can rank tracks in term of popularity.\n",
    "\n",
    "The name of the database is `Chinook_Sqlite.sqlite`"
   ]
  },
  {
   "cell_type": "markdown",
   "metadata": {
    "slideshow": {
     "slide_type": "slide"
    }
   },
   "source": [
    "Database information:<br>\n",
    "- How many tables are in the database?\n",
    "- What's the primary key of each table?\n",
    "- What foreign keys join the tables together?\n",
    "- If you had to draw a schema of how the tables are connected, what would it look like?"
   ]
  },
  {
   "cell_type": "markdown",
   "metadata": {
    "slideshow": {
     "slide_type": "slide"
    }
   },
   "source": [
    "To answer the question:<br>\n",
    "- What are the max and min dates in the Invoice table?\n",
    "- What tables would you need to answer \"what is your most popular track?\"\n",
    "- What values from each table?"
   ]
  },
  {
   "cell_type": "code",
   "execution_count": null,
   "metadata": {
    "slideshow": {
     "slide_type": "skip"
    }
   },
   "outputs": [],
   "source": [
    "conn = sqlite3.connect('Chinook_Sqlite.sqlite')\n",
    "cur = conn.cursor()"
   ]
  },
  {
   "cell_type": "code",
   "execution_count": null,
   "metadata": {},
   "outputs": [],
   "source": [
    "# How many tables are in the database?\n",
    "\n",
    "# your code here"
   ]
  },
  {
   "cell_type": "code",
   "execution_count": null,
   "metadata": {},
   "outputs": [],
   "source": [
    "# What's the primary key of each table?\n",
    "\n",
    "# your code here"
   ]
  },
  {
   "cell_type": "code",
   "execution_count": null,
   "metadata": {},
   "outputs": [],
   "source": [
    "# What foreign keys join the tables together?\n",
    "\n",
    "# your code here\n",
    "# hint: use \"PRAGMA foreign_key_list()\"\n"
   ]
  },
  {
   "cell_type": "code",
   "execution_count": null,
   "metadata": {},
   "outputs": [],
   "source": [
    "# What are the max and min dates in the Invoice table?\n",
    "cur.execute(\"\"\"\n",
    "-- your code here;\n",
    "\"\"\").fetchall()"
   ]
  },
  {
   "cell_type": "code",
   "execution_count": null,
   "metadata": {},
   "outputs": [],
   "source": [
    "# What tables would you need to answer \"what is your most popular track?\"\n"
   ]
  },
  {
   "cell_type": "code",
   "execution_count": null,
   "metadata": {},
   "outputs": [],
   "source": [
    "# What values from each table?\n"
   ]
  },
  {
   "cell_type": "code",
   "execution_count": null,
   "metadata": {},
   "outputs": [],
   "source": [
    "# Put it all together:\n",
    "# You need to create a query that can rank tracks in term of popularity.\n",
    "\n",
    "results = cur.execute(\"\"\"\n",
    "-- your code here;\n",
    "\"\"\").fetchall()\n",
    "\n",
    "print(*results, sep='\\n')"
   ]
  },
  {
   "cell_type": "code",
   "execution_count": null,
   "metadata": {},
   "outputs": [],
   "source": [
    "# Advanced: get the artist who sang the song!\n",
    "results = cur.execute(\"\"\"\n",
    "-- your code here;\n",
    "\"\"\").fetchall()\n",
    "\n",
    "print(*results, sep='\\n')"
   ]
  },
  {
   "cell_type": "markdown",
   "metadata": {
    "slideshow": {
     "slide_type": "slide"
    }
   },
   "source": [
    "## Reflection\n",
    "\n",
    "Please fill out today's [Exit Ticket](https://docs.google.com/forms/d/1dZg9MqBmLqJHWupgSBfvhicrVT1vyTejtaz3sXYsgGk/edit)!"
   ]
  }
 ],
 "metadata": {
  "kernelspec": {
   "display_name": "Python 3",
   "language": "python",
   "name": "python3"
  },
  "language_info": {
   "codemirror_mode": {
    "name": "ipython",
    "version": 3
   },
   "file_extension": ".py",
   "mimetype": "text/x-python",
   "name": "python",
   "nbconvert_exporter": "python",
   "pygments_lexer": "ipython3",
   "version": "3.7.3"
  },
  "varInspector": {
   "cols": {
    "lenName": 16,
    "lenType": 16,
    "lenVar": 40
   },
   "kernels_config": {
    "python": {
     "delete_cmd_postfix": "",
     "delete_cmd_prefix": "del ",
     "library": "var_list.py",
     "varRefreshCmd": "print(var_dic_list())"
    },
    "r": {
     "delete_cmd_postfix": ") ",
     "delete_cmd_prefix": "rm(",
     "library": "var_list.r",
     "varRefreshCmd": "cat(var_dic_list()) "
    }
   },
   "types_to_exclude": [
    "module",
    "function",
    "builtin_function_or_method",
    "instance",
    "_Feature"
   ],
   "window_display": false
  }
 },
 "nbformat": 4,
 "nbformat_minor": 2
}
