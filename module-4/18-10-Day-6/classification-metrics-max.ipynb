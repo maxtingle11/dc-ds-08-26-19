{
 "cells": [
  {
   "cell_type": "markdown",
   "metadata": {},
   "source": [
    "# Evaluating and Tuning a Binary Classification Model"
   ]
  },
  {
   "cell_type": "markdown",
   "metadata": {},
   "source": [
    "## Goals\n",
    "\n",
    "After this lesson, you should be able to:\n",
    "\n",
    "- Build and explain confusion matrices from a model output\n",
    "- Calculate various binary classification metrics\n",
    "- Explain the AUC/ROC curve, why it matters, and how to use it\n",
    "- Understand when and how to optimize a model for various metrics\n",
    "- Optimize a classification model based on costs"
   ]
  },
  {
   "cell_type": "markdown",
   "metadata": {},
   "source": [
    "### Category definitions - possible outcomes in binary classification\n",
    " \n",
    "#### - TP = True Positive (class 1 correctly classified as class 1) - e.g. Patient with cancer tests positive for cancer\n",
    "#### - TN = True Negative (class 0 correctly classified as class 0) - e.g. Patient without cancer tests negative for cancer\n",
    "#### - FP = False Positive (class 0 incorrectly classified as class 1) - e.g. Patient without cancer tests positive for cancer\n",
    "#### - FN = False Negative (class 1 incorrectly classified as class 0) - e.g. Patient with cancer tests negative for cancer"
   ]
  },
  {
   "cell_type": "markdown",
   "metadata": {},
   "source": [
    "### $$ \\text{Possible misclassifications} $$\n",
    "\n",
    "![Type 1 vs. Type 2 Error](images/type-1-type-2.jpg)\n",
    "\n",
    "## All the Binary Classification Metrics\n",
    "\n",
    "![classification metrics](./images/conf_matrix_classification_metrics.png)"
   ]
  },
  {
   "cell_type": "markdown",
   "metadata": {},
   "source": [
    "## Let's run a model and look at some metrics "
   ]
  },
  {
   "cell_type": "code",
   "execution_count": 1,
   "metadata": {},
   "outputs": [],
   "source": [
    "import numpy as np\n",
    "import pandas as pd\n",
    "from sklearn.linear_model import LogisticRegression\n",
    "from sklearn.metrics import confusion_matrix, classification_report\n",
    "from sklearn.model_selection import train_test_split\n",
    "from sklearn.model_selection import cross_validate\n",
    "from sklearn.model_selection import StratifiedKFold"
   ]
  },
  {
   "cell_type": "markdown",
   "metadata": {},
   "source": [
    "[Dataset info](https://archive.ics.uci.edu/ml/datasets/Heart+Disease)"
   ]
  },
  {
   "cell_type": "code",
   "execution_count": 2,
   "metadata": {},
   "outputs": [],
   "source": [
    "df = pd.read_csv('./data/heart.csv')\n",
    "df = pd.get_dummies(df, \n",
    "               columns = ['sex', 'cp', 'fbs', 'restecg', 'ca', 'slope', 'exang'], \n",
    "               drop_first= True) \n",
    "# drop first drops columns that would lead to milticollinearity"
   ]
  },
  {
   "cell_type": "code",
   "execution_count": 3,
   "metadata": {},
   "outputs": [
    {
     "data": {
      "text/html": [
       "<div>\n",
       "<style scoped>\n",
       "    .dataframe tbody tr th:only-of-type {\n",
       "        vertical-align: middle;\n",
       "    }\n",
       "\n",
       "    .dataframe tbody tr th {\n",
       "        vertical-align: top;\n",
       "    }\n",
       "\n",
       "    .dataframe thead th {\n",
       "        text-align: right;\n",
       "    }\n",
       "</style>\n",
       "<table border=\"1\" class=\"dataframe\">\n",
       "  <thead>\n",
       "    <tr style=\"text-align: right;\">\n",
       "      <th></th>\n",
       "      <th>age</th>\n",
       "      <th>trestbps</th>\n",
       "      <th>chol</th>\n",
       "      <th>thalach</th>\n",
       "      <th>oldpeak</th>\n",
       "      <th>thal</th>\n",
       "      <th>target</th>\n",
       "      <th>sex_1</th>\n",
       "      <th>cp_1</th>\n",
       "      <th>cp_2</th>\n",
       "      <th>...</th>\n",
       "      <th>fbs_1</th>\n",
       "      <th>restecg_1</th>\n",
       "      <th>restecg_2</th>\n",
       "      <th>ca_1</th>\n",
       "      <th>ca_2</th>\n",
       "      <th>ca_3</th>\n",
       "      <th>ca_4</th>\n",
       "      <th>slope_1</th>\n",
       "      <th>slope_2</th>\n",
       "      <th>exang_1</th>\n",
       "    </tr>\n",
       "  </thead>\n",
       "  <tbody>\n",
       "    <tr>\n",
       "      <th>0</th>\n",
       "      <td>63</td>\n",
       "      <td>145</td>\n",
       "      <td>233</td>\n",
       "      <td>150</td>\n",
       "      <td>2.3</td>\n",
       "      <td>1</td>\n",
       "      <td>1</td>\n",
       "      <td>1</td>\n",
       "      <td>0</td>\n",
       "      <td>0</td>\n",
       "      <td>...</td>\n",
       "      <td>1</td>\n",
       "      <td>0</td>\n",
       "      <td>0</td>\n",
       "      <td>0</td>\n",
       "      <td>0</td>\n",
       "      <td>0</td>\n",
       "      <td>0</td>\n",
       "      <td>0</td>\n",
       "      <td>0</td>\n",
       "      <td>0</td>\n",
       "    </tr>\n",
       "    <tr>\n",
       "      <th>1</th>\n",
       "      <td>37</td>\n",
       "      <td>130</td>\n",
       "      <td>250</td>\n",
       "      <td>187</td>\n",
       "      <td>3.5</td>\n",
       "      <td>2</td>\n",
       "      <td>1</td>\n",
       "      <td>1</td>\n",
       "      <td>0</td>\n",
       "      <td>1</td>\n",
       "      <td>...</td>\n",
       "      <td>0</td>\n",
       "      <td>1</td>\n",
       "      <td>0</td>\n",
       "      <td>0</td>\n",
       "      <td>0</td>\n",
       "      <td>0</td>\n",
       "      <td>0</td>\n",
       "      <td>0</td>\n",
       "      <td>0</td>\n",
       "      <td>0</td>\n",
       "    </tr>\n",
       "    <tr>\n",
       "      <th>2</th>\n",
       "      <td>41</td>\n",
       "      <td>130</td>\n",
       "      <td>204</td>\n",
       "      <td>172</td>\n",
       "      <td>1.4</td>\n",
       "      <td>2</td>\n",
       "      <td>1</td>\n",
       "      <td>0</td>\n",
       "      <td>1</td>\n",
       "      <td>0</td>\n",
       "      <td>...</td>\n",
       "      <td>0</td>\n",
       "      <td>0</td>\n",
       "      <td>0</td>\n",
       "      <td>0</td>\n",
       "      <td>0</td>\n",
       "      <td>0</td>\n",
       "      <td>0</td>\n",
       "      <td>0</td>\n",
       "      <td>1</td>\n",
       "      <td>0</td>\n",
       "    </tr>\n",
       "    <tr>\n",
       "      <th>3</th>\n",
       "      <td>56</td>\n",
       "      <td>120</td>\n",
       "      <td>236</td>\n",
       "      <td>178</td>\n",
       "      <td>0.8</td>\n",
       "      <td>2</td>\n",
       "      <td>1</td>\n",
       "      <td>1</td>\n",
       "      <td>1</td>\n",
       "      <td>0</td>\n",
       "      <td>...</td>\n",
       "      <td>0</td>\n",
       "      <td>1</td>\n",
       "      <td>0</td>\n",
       "      <td>0</td>\n",
       "      <td>0</td>\n",
       "      <td>0</td>\n",
       "      <td>0</td>\n",
       "      <td>0</td>\n",
       "      <td>1</td>\n",
       "      <td>0</td>\n",
       "    </tr>\n",
       "    <tr>\n",
       "      <th>4</th>\n",
       "      <td>57</td>\n",
       "      <td>120</td>\n",
       "      <td>354</td>\n",
       "      <td>163</td>\n",
       "      <td>0.6</td>\n",
       "      <td>2</td>\n",
       "      <td>1</td>\n",
       "      <td>0</td>\n",
       "      <td>0</td>\n",
       "      <td>0</td>\n",
       "      <td>...</td>\n",
       "      <td>0</td>\n",
       "      <td>1</td>\n",
       "      <td>0</td>\n",
       "      <td>0</td>\n",
       "      <td>0</td>\n",
       "      <td>0</td>\n",
       "      <td>0</td>\n",
       "      <td>0</td>\n",
       "      <td>1</td>\n",
       "      <td>1</td>\n",
       "    </tr>\n",
       "  </tbody>\n",
       "</table>\n",
       "<p>5 rows × 21 columns</p>\n",
       "</div>"
      ],
      "text/plain": [
       "   age  trestbps  chol  thalach  oldpeak  thal  target  sex_1  cp_1  cp_2  \\\n",
       "0   63       145   233      150      2.3     1       1      1     0     0   \n",
       "1   37       130   250      187      3.5     2       1      1     0     1   \n",
       "2   41       130   204      172      1.4     2       1      0     1     0   \n",
       "3   56       120   236      178      0.8     2       1      1     1     0   \n",
       "4   57       120   354      163      0.6     2       1      0     0     0   \n",
       "\n",
       "   ...  fbs_1  restecg_1  restecg_2  ca_1  ca_2  ca_3  ca_4  slope_1  slope_2  \\\n",
       "0  ...      1          0          0     0     0     0     0        0        0   \n",
       "1  ...      0          1          0     0     0     0     0        0        0   \n",
       "2  ...      0          0          0     0     0     0     0        0        1   \n",
       "3  ...      0          1          0     0     0     0     0        0        1   \n",
       "4  ...      0          1          0     0     0     0     0        0        1   \n",
       "\n",
       "   exang_1  \n",
       "0        0  \n",
       "1        0  \n",
       "2        0  \n",
       "3        0  \n",
       "4        1  \n",
       "\n",
       "[5 rows x 21 columns]"
      ]
     },
     "execution_count": 3,
     "metadata": {},
     "output_type": "execute_result"
    }
   ],
   "source": [
    "df.head()"
   ]
  },
  {
   "cell_type": "code",
   "execution_count": 4,
   "metadata": {},
   "outputs": [
    {
     "data": {
      "text/plain": [
       "1    0.544554\n",
       "0    0.455446\n",
       "Name: target, dtype: float64"
      ]
     },
     "execution_count": 4,
     "metadata": {},
     "output_type": "execute_result"
    }
   ],
   "source": [
    "df['target'].value_counts(normalize = True)\n",
    "#differences are not severe"
   ]
  },
  {
   "cell_type": "code",
   "execution_count": 7,
   "metadata": {},
   "outputs": [],
   "source": [
    "X = df.drop('target', axis = 1)\n",
    "y = df['target']\n",
    "X_train, X_test, y_train, y_test = train_test_split(X, y, random_state = 77, stratify = y, test_size = .2)\n",
    "#train-test splitting\n",
    "#stratify keeps ratios of y classes the same per each train-test group\n",
    "#test_size at .2 when you have lots of data, increase with smaller dataset"
   ]
  },
  {
   "cell_type": "markdown",
   "metadata": {},
   "source": [
    "**Data Leekage: when you incorporate test data when training your model with training data (DON'T TOUCH TEST DATA UNTIL END)**"
   ]
  },
  {
   "cell_type": "code",
   "execution_count": 9,
   "metadata": {},
   "outputs": [],
   "source": [
    "# DATA LEEKAGE\n",
    "from sklearn.preprocessing import StandardScaler"
   ]
  },
  {
   "cell_type": "code",
   "execution_count": 10,
   "metadata": {},
   "outputs": [],
   "source": [
    "# DATA LEEKAGE\n",
    "scaler = StandardScaler()"
   ]
  },
  {
   "cell_type": "code",
   "execution_count": 11,
   "metadata": {},
   "outputs": [
    {
     "data": {
      "text/plain": [
       "StandardScaler(copy=True, with_mean=True, with_std=True)"
      ]
     },
     "execution_count": 11,
     "metadata": {},
     "output_type": "execute_result"
    }
   ],
   "source": [
    "# DATA LEEKAGE\n",
    "scaler.fit(X_train)"
   ]
  },
  {
   "cell_type": "code",
   "execution_count": 12,
   "metadata": {},
   "outputs": [
    {
     "data": {
      "text/plain": [
       "array([[ 1.34728449, -0.67541714, -0.37271932, ...,  1.06845352,\n",
       "        -0.93593215,  1.42302495],\n",
       "       [-0.18035937, -0.10530571, -0.9949091 , ..., -0.93593215,\n",
       "        -0.93593215, -0.70272837],\n",
       "       [-1.59888581,  1.14893944, -0.4893799 , ..., -0.93593215,\n",
       "         1.06845352, -0.70272837],\n",
       "       ...,\n",
       "       [-0.07124195, -0.67541714,  0.19114017, ...,  1.06845352,\n",
       "        -0.93593215, -0.70272837],\n",
       "       [-2.14447291, -0.56139485, -1.09212625, ..., -0.93593215,\n",
       "         1.06845352, -0.70272837],\n",
       "       [ 0.14699289, -0.67541714, -1.07268282, ...,  1.06845352,\n",
       "        -0.93593215, -0.70272837]])"
      ]
     },
     "execution_count": 12,
     "metadata": {},
     "output_type": "execute_result"
    }
   ],
   "source": [
    "# DATA LEEKAGE\n",
    "scaler.transform(X_test)"
   ]
  },
  {
   "cell_type": "code",
   "execution_count": 14,
   "metadata": {},
   "outputs": [
    {
     "data": {
      "text/plain": [
       "(0.5454545454545454, 0.5409836065573771)"
      ]
     },
     "execution_count": 14,
     "metadata": {},
     "output_type": "execute_result"
    }
   ],
   "source": [
    "## Let's check number of 1 and 0 in both datasets\n",
    "y_train.mean(), y_test.mean()"
   ]
  },
  {
   "cell_type": "markdown",
   "metadata": {},
   "source": [
    "[Check sklearn for documentation of Logistic Regression](https://scikit-learn.org/stable/modules/generated/sklearn.linear_model.LogisticRegression.html)\n",
    "\n",
    "\n",
    "[For solvers](https://scikit-learn.org/stable/modules/linear_model.html#logistic-regression)"
   ]
  },
  {
   "cell_type": "code",
   "execution_count": 17,
   "metadata": {},
   "outputs": [
    {
     "data": {
      "text/plain": [
       "LogisticRegression(C=1000000000.0, class_weight=None, dual=False,\n",
       "                   fit_intercept=True, intercept_scaling=1, l1_ratio=None,\n",
       "                   max_iter=10000, multi_class='warn', n_jobs=None,\n",
       "                   penalty='l2', random_state=None, solver='newton-cg',\n",
       "                   tol=0.0001, verbose=0, warm_start=False)"
      ]
     },
     "execution_count": 17,
     "metadata": {},
     "output_type": "execute_result"
    }
   ],
   "source": [
    "## Let's go with the vanilla case - no regularization\n",
    "lr = LogisticRegression(C = 1e9, solver = 'newton-cg', max_iter=10000)\n",
    "lr.fit(X_train, y_train)\n",
    "\n",
    "# C is the inverse of lambda, small c penalizes coefficients"
   ]
  },
  {
   "cell_type": "code",
   "execution_count": 18,
   "metadata": {},
   "outputs": [
    {
     "data": {
      "text/plain": [
       "0.8801652892561983"
      ]
     },
     "execution_count": 18,
     "metadata": {},
     "output_type": "execute_result"
    }
   ],
   "source": [
    "lr.score(X_train, y_train)"
   ]
  },
  {
   "cell_type": "code",
   "execution_count": 19,
   "metadata": {
    "scrolled": true
   },
   "outputs": [
    {
     "name": "stdout",
     "output_type": "stream",
     "text": [
      "0.8801652892561983 0.8688524590163934\n"
     ]
    }
   ],
   "source": [
    "## What is this score?\n",
    "print(lr.score(X_train, y_train), lr.score(X_test, y_test))"
   ]
  },
  {
   "cell_type": "code",
   "execution_count": 20,
   "metadata": {},
   "outputs": [],
   "source": [
    "## Let's try one more time but this time with cross-validation\n",
    "\n",
    "#split into 10 stratified\n",
    "cv = StratifiedKFold(n_splits= 10, random_state=1019, shuffle=True)\n",
    "\n",
    "#pick sections to compare\n",
    "lr_vanilla = LogisticRegression(C = 1e9, \n",
    "                                solver = 'newton-cg',\n",
    "                                max_iter=1000)\n",
    "\n",
    "l2_reg = LogisticRegression(C = 1, \n",
    "                            solver = 'newton-cg',\n",
    "                            max_iter=1000)\n",
    "\n",
    "l1_reg = LogisticRegression(C = 1, \n",
    "                           solver= 'saga', \n",
    "                           penalty = 'l1',\n",
    "                            max_iter=1000)\n",
    "\n",
    "#cross validations (each has different methods)\n",
    "cv_vanilla = cross_validate(estimator=lr_vanilla, \n",
    "                            X = X_train, y = y_train,\n",
    "                            cv = cv, \n",
    "                            n_jobs=-1, \n",
    "                            return_estimator= True, \n",
    "                            return_train_score=True)\n",
    "\n",
    "cv_l2 = cross_validate(estimator=l2_reg, \n",
    "                    X = X_train, y = y_train,\n",
    "                    cv = cv, \n",
    "                    n_jobs=-1, \n",
    "                    return_estimator= True, \n",
    "                    return_train_score=True)\n",
    "\n",
    "cv_l1 = cross_validate(estimator=l1_reg, \n",
    "                    X = X_train, y = y_train,\n",
    "                    cv = cv, \n",
    "                    n_jobs=-1, \n",
    "                    return_estimator= True, \n",
    "                    return_train_score=True)\n",
    "\n",
    "# want the test and training scores to be close\n",
    "# don't want under or overfitted model"
   ]
  },
  {
   "cell_type": "code",
   "execution_count": 21,
   "metadata": {},
   "outputs": [],
   "source": [
    "vanilla_result = np.concatenate((cv_vanilla['train_score'].reshape(-1,1), \n",
    "                cv_vanilla['test_score'].reshape(-1,1)), axis=1)\n",
    "\n",
    "l2_result = np.concatenate((cv_l2['train_score'].reshape(-1,1), \n",
    "                cv_l2['test_score'].reshape(-1,1)), axis=1)\n",
    "\n",
    "l1_result = np.concatenate((cv_l1['train_score'].reshape(-1,1), \n",
    "                cv_l1['test_score'].reshape(-1,1)), axis=1)"
   ]
  },
  {
   "cell_type": "code",
   "execution_count": 22,
   "metadata": {},
   "outputs": [
    {
     "data": {
      "text/plain": [
       "array([[0.87096774, 0.88      ],\n",
       "       [0.87557604, 0.92      ],\n",
       "       [0.88073394, 0.83333333],\n",
       "       [0.8853211 , 0.75      ],\n",
       "       [0.88990826, 0.875     ],\n",
       "       [0.89449541, 0.79166667],\n",
       "       [0.89449541, 0.79166667],\n",
       "       [0.90366972, 0.83333333],\n",
       "       [0.8853211 , 0.79166667],\n",
       "       [0.88073394, 0.79166667]])"
      ]
     },
     "execution_count": 22,
     "metadata": {},
     "output_type": "execute_result"
    }
   ],
   "source": [
    "vanilla_result\n",
    "# seeing train vs test scores\n",
    "# this model is a little bit overfitted"
   ]
  },
  {
   "cell_type": "code",
   "execution_count": 23,
   "metadata": {},
   "outputs": [
    {
     "data": {
      "text/plain": [
       "array([[0.88940092, 0.88      ],\n",
       "       [0.86635945, 1.        ],\n",
       "       [0.87614679, 0.875     ],\n",
       "       [0.87614679, 0.875     ],\n",
       "       [0.88073394, 0.875     ],\n",
       "       [0.8853211 , 0.875     ],\n",
       "       [0.90366972, 0.70833333],\n",
       "       [0.90825688, 0.83333333],\n",
       "       [0.88073394, 0.83333333],\n",
       "       [0.8853211 , 0.83333333]])"
      ]
     },
     "execution_count": 23,
     "metadata": {},
     "output_type": "execute_result"
    }
   ],
   "source": [
    "l2_result"
   ]
  },
  {
   "cell_type": "code",
   "execution_count": 33,
   "metadata": {},
   "outputs": [
    {
     "data": {
      "text/plain": [
       "array([[0.7235023 , 0.64      ],\n",
       "       [0.69124424, 0.84      ],\n",
       "       [0.71100917, 0.70833333],\n",
       "       [0.72477064, 0.625     ],\n",
       "       [0.71100917, 0.75      ],\n",
       "       [0.7293578 , 0.66666667],\n",
       "       [0.71100917, 0.79166667],\n",
       "       [0.72018349, 0.625     ],\n",
       "       [0.71559633, 0.70833333],\n",
       "       [0.71559633, 0.70833333]])"
      ]
     },
     "execution_count": 33,
     "metadata": {},
     "output_type": "execute_result"
    }
   ],
   "source": [
    "l1_result"
   ]
  },
  {
   "cell_type": "code",
   "execution_count": 24,
   "metadata": {},
   "outputs": [
    {
     "name": "stdout",
     "output_type": "stream",
     "text": [
      "[0.88612227 0.82583333] [0.71532787 0.70633333] [0.88520906 0.85883333]\n"
     ]
    }
   ],
   "source": [
    "print(vanilla_result.mean(axis=0), l1_result.mean(axis=0), l2_result.mean(axis=0))"
   ]
  },
  {
   "cell_type": "code",
   "execution_count": 29,
   "metadata": {},
   "outputs": [
    {
     "name": "stdout",
     "output_type": "stream",
     "text": [
      "[0.00928817 0.04975077] [0.71532787 0.70633333] [0.88520906 0.85883333]\n"
     ]
    }
   ],
   "source": [
    "print(vanilla_result.std(axis=0), l1_result.mean(axis=0), l2_result.mean(axis=0))"
   ]
  },
  {
   "cell_type": "code",
   "execution_count": null,
   "metadata": {},
   "outputs": [],
   "source": [
    "#now choose highest mean possible, and least standard deviation"
   ]
  },
  {
   "cell_type": "code",
   "execution_count": 31,
   "metadata": {},
   "outputs": [
    {
     "data": {
      "text/plain": [
       "LogisticRegression(C=1, class_weight=None, dual=False, fit_intercept=True,\n",
       "                   intercept_scaling=1, l1_ratio=None, max_iter=1000,\n",
       "                   multi_class='warn', n_jobs=None, penalty='l2',\n",
       "                   random_state=None, solver='newton-cg', tol=0.0001, verbose=0,\n",
       "                   warm_start=False)"
      ]
     },
     "execution_count": 31,
     "metadata": {},
     "output_type": "execute_result"
    }
   ],
   "source": [
    "lr = cv_l2['estimator'][0]\n",
    "lr"
   ]
  },
  {
   "cell_type": "markdown",
   "metadata": {},
   "source": [
    "### The Default Measure (in most prebuilt models) - Accuracy\n",
    "\n",
    "$$ \\frac{(TP + TN)}{(TP + FP + TN + FN)} $$"
   ]
  },
  {
   "cell_type": "markdown",
   "metadata": {},
   "source": [
    "#### We got an accuracy score of .82, but what does that tell us? Just that 82% of the time we are correct, nothing about how we are correct or how we are wrong"
   ]
  },
  {
   "cell_type": "code",
   "execution_count": 26,
   "metadata": {},
   "outputs": [],
   "source": [
    "predictions = lr.predict(X_test)\n",
    "actual = y_test"
   ]
  },
  {
   "cell_type": "code",
   "execution_count": 27,
   "metadata": {},
   "outputs": [
    {
     "data": {
      "text/plain": [
       "array([[23,  5],\n",
       "       [ 5, 28]])"
      ]
     },
     "execution_count": 27,
     "metadata": {},
     "output_type": "execute_result"
    }
   ],
   "source": [
    "confusion_matrix(actual, predictions)"
   ]
  },
  {
   "cell_type": "markdown",
   "metadata": {},
   "source": [
    "#### My eyes!!!"
   ]
  },
  {
   "cell_type": "code",
   "execution_count": 28,
   "metadata": {},
   "outputs": [
    {
     "data": {
      "text/html": [
       "<div>\n",
       "<style scoped>\n",
       "    .dataframe tbody tr th:only-of-type {\n",
       "        vertical-align: middle;\n",
       "    }\n",
       "\n",
       "    .dataframe tbody tr th {\n",
       "        vertical-align: top;\n",
       "    }\n",
       "\n",
       "    .dataframe thead th {\n",
       "        text-align: right;\n",
       "    }\n",
       "</style>\n",
       "<table border=\"1\" class=\"dataframe\">\n",
       "  <thead>\n",
       "    <tr style=\"text-align: right;\">\n",
       "      <th></th>\n",
       "      <th>predicted 0</th>\n",
       "      <th>predicted 1</th>\n",
       "    </tr>\n",
       "  </thead>\n",
       "  <tbody>\n",
       "    <tr>\n",
       "      <th>actual 0</th>\n",
       "      <td>23</td>\n",
       "      <td>5</td>\n",
       "    </tr>\n",
       "    <tr>\n",
       "      <th>actual 1</th>\n",
       "      <td>5</td>\n",
       "      <td>28</td>\n",
       "    </tr>\n",
       "  </tbody>\n",
       "</table>\n",
       "</div>"
      ],
      "text/plain": [
       "          predicted 0  predicted 1\n",
       "actual 0           23            5\n",
       "actual 1            5           28"
      ]
     },
     "execution_count": 28,
     "metadata": {},
     "output_type": "execute_result"
    }
   ],
   "source": [
    "pd.DataFrame(confusion_matrix(actual, predictions), \n",
    "             columns = ['predicted 0', 'predicted 1'], \n",
    "             index = ['actual 0', 'actual 1'])"
   ]
  },
  {
   "cell_type": "markdown",
   "metadata": {},
   "source": [
    "#### We got more false negatives than false positives. What would we likely prefer in the case of this dataset?"
   ]
  },
  {
   "cell_type": "markdown",
   "metadata": {},
   "source": [
    "## Other metrics\n",
    "\n",
    "### Misclassification Rate\n",
    "#### $$ 1 - \\text{accuracy} $$ \n",
    "\n",
    "### $$ {OR} $$\n",
    "\n",
    "#### $$ \\frac{FP + FN}{TP + FP + TN + FN} $$"
   ]
  },
  {
   "cell_type": "markdown",
   "metadata": {},
   "source": [
    "### Sensitivity (AKA True Positive Rate, Recall, and Probability of Detection)\n",
    "\n",
    "$$ \\frac{TP}{TP + FN} $$"
   ]
  },
  {
   "cell_type": "markdown",
   "metadata": {},
   "source": [
    "### Specificity (AKA True Negative Rate)\n",
    "\n",
    "$$ \\frac{TN}{TN + FP} $$"
   ]
  },
  {
   "cell_type": "markdown",
   "metadata": {},
   "source": [
    "#### Which of these metrics would we want to optimize for in a heart disease detection algorithm?\n",
    "\n",
    "False Positives and False Negatives each have some cost associated with them."
   ]
  },
  {
   "cell_type": "markdown",
   "metadata": {},
   "source": [
    "### Let's figure out how to optimize!"
   ]
  },
  {
   "cell_type": "markdown",
   "metadata": {},
   "source": [
    "#### Remember that Logistic Regression gives probability predictions for each class, in addition to the final classification. By default, threshold for the prediction is set to 0.5, but we can adjust that threshold."
   ]
  },
  {
   "cell_type": "code",
   "execution_count": 34,
   "metadata": {},
   "outputs": [
    {
     "data": {
      "text/plain": [
       "array([1, 1, 1, 0, 0, 0, 1, 0, 1, 0, 1, 1, 1, 0, 0, 1, 0, 1, 1, 0, 0, 1,\n",
       "       0, 0, 1, 0, 0, 1, 0, 1, 1, 0, 1, 0, 1, 1, 1, 1, 1, 0, 0, 1, 0, 1,\n",
       "       1, 0, 0, 0, 1, 1, 1, 0, 1, 1, 1, 1, 0, 1, 0, 1, 0, 1, 1, 0, 0, 0,\n",
       "       1, 1, 1, 1, 0, 0, 1, 0, 1, 0, 0, 1, 0, 1, 0, 1, 0, 1, 0, 1, 1, 1,\n",
       "       1, 1, 1, 1, 1, 1, 0, 1, 1, 1, 0, 1, 0, 0, 1, 0, 1, 1, 0, 1, 1, 1,\n",
       "       1, 0, 0, 1, 0, 0, 0, 0, 0, 0, 0, 1, 0, 1, 1, 1, 0, 1, 0, 0, 1, 0,\n",
       "       1, 1, 1, 0, 1, 0, 1, 0, 0, 1, 1, 1, 0, 1, 0, 1, 0, 1, 1, 0, 1, 1,\n",
       "       1, 0, 0, 0, 1, 1, 1, 0, 0, 1, 0, 1, 1, 0, 1, 0, 1, 1, 0, 0, 1, 1,\n",
       "       0, 0, 1, 0, 0, 0, 1, 1, 0, 0, 1, 0, 1, 1, 0, 0, 0, 1, 1, 1, 1, 0,\n",
       "       1, 1, 0, 0, 0, 1, 0, 1, 1, 1, 0, 1, 0, 0, 1, 1, 1, 1, 1, 1, 1, 1,\n",
       "       1, 0, 1, 0, 0, 0, 1, 1, 1, 0, 0, 0, 1, 1, 1, 1, 1, 1, 0, 1, 0, 1])"
      ]
     },
     "execution_count": 34,
     "metadata": {},
     "output_type": "execute_result"
    }
   ],
   "source": [
    "lr.predict(X_train) #by default threshold is 0.5"
   ]
  },
  {
   "cell_type": "code",
   "execution_count": 35,
   "metadata": {},
   "outputs": [
    {
     "data": {
      "text/plain": [
       "array([[0.17493232, 0.82506768],\n",
       "       [0.27773932, 0.72226068],\n",
       "       [0.1290169 , 0.8709831 ],\n",
       "       [0.69685931, 0.30314069],\n",
       "       [0.88243363, 0.11756637],\n",
       "       [0.97778782, 0.02221218],\n",
       "       [0.00359941, 0.99640059],\n",
       "       [0.87952577, 0.12047423],\n",
       "       [0.10409419, 0.89590581],\n",
       "       [0.93669609, 0.06330391],\n",
       "       [0.06855957, 0.93144043],\n",
       "       [0.08878636, 0.91121364],\n",
       "       [0.14062478, 0.85937522],\n",
       "       [0.6518426 , 0.3481574 ],\n",
       "       [0.86481498, 0.13518502],\n",
       "       [0.09481083, 0.90518917],\n",
       "       [0.69572788, 0.30427212],\n",
       "       [0.26989101, 0.73010899],\n",
       "       [0.09016365, 0.90983635],\n",
       "       [0.97641471, 0.02358529],\n",
       "       [0.75887801, 0.24112199],\n",
       "       [0.03101708, 0.96898292],\n",
       "       [0.76193852, 0.23806148],\n",
       "       [0.96243299, 0.03756701],\n",
       "       [0.22368022, 0.77631978],\n",
       "       [0.8260458 , 0.1739542 ],\n",
       "       [0.99084672, 0.00915328],\n",
       "       [0.04541336, 0.95458664],\n",
       "       [0.79714276, 0.20285724],\n",
       "       [0.0097506 , 0.9902494 ],\n",
       "       [0.14793852, 0.85206148],\n",
       "       [0.99330069, 0.00669931],\n",
       "       [0.02324434, 0.97675566],\n",
       "       [0.73614127, 0.26385873],\n",
       "       [0.34900361, 0.65099639],\n",
       "       [0.21585996, 0.78414004],\n",
       "       [0.15876367, 0.84123633],\n",
       "       [0.2056276 , 0.7943724 ],\n",
       "       [0.31530476, 0.68469524],\n",
       "       [0.59903981, 0.40096019],\n",
       "       [0.52520669, 0.47479331],\n",
       "       [0.05692322, 0.94307678],\n",
       "       [0.90339016, 0.09660984],\n",
       "       [0.47234692, 0.52765308],\n",
       "       [0.03260864, 0.96739136],\n",
       "       [0.69749454, 0.30250546],\n",
       "       [0.90218065, 0.09781935],\n",
       "       [0.62182015, 0.37817985],\n",
       "       [0.26749354, 0.73250646],\n",
       "       [0.26934025, 0.73065975],\n",
       "       [0.45780121, 0.54219879],\n",
       "       [0.99400608, 0.00599392],\n",
       "       [0.16368421, 0.83631579],\n",
       "       [0.0885086 , 0.9114914 ],\n",
       "       [0.14494837, 0.85505163],\n",
       "       [0.04300287, 0.95699713],\n",
       "       [0.7538435 , 0.2461565 ],\n",
       "       [0.05358946, 0.94641054],\n",
       "       [0.9830709 , 0.0169291 ],\n",
       "       [0.01624556, 0.98375444],\n",
       "       [0.79579816, 0.20420184],\n",
       "       [0.23752586, 0.76247414],\n",
       "       [0.10669987, 0.89330013],\n",
       "       [0.96130249, 0.03869751],\n",
       "       [0.54507577, 0.45492423],\n",
       "       [0.92529487, 0.07470513],\n",
       "       [0.01236207, 0.98763793],\n",
       "       [0.02386375, 0.97613625],\n",
       "       [0.47388962, 0.52611038],\n",
       "       [0.47337846, 0.52662154],\n",
       "       [0.91475476, 0.08524524],\n",
       "       [0.9875039 , 0.0124961 ],\n",
       "       [0.41585594, 0.58414406],\n",
       "       [0.8858662 , 0.1141338 ],\n",
       "       [0.07240738, 0.92759262],\n",
       "       [0.99389232, 0.00610768],\n",
       "       [0.97838585, 0.02161415],\n",
       "       [0.08326477, 0.91673523],\n",
       "       [0.99019305, 0.00980695],\n",
       "       [0.14508554, 0.85491446],\n",
       "       [0.933027  , 0.066973  ],\n",
       "       [0.26680575, 0.73319425],\n",
       "       [0.98796853, 0.01203147],\n",
       "       [0.13330661, 0.86669339],\n",
       "       [0.72963108, 0.27036892],\n",
       "       [0.36352152, 0.63647848],\n",
       "       [0.29521151, 0.70478849],\n",
       "       [0.04285192, 0.95714808],\n",
       "       [0.03073307, 0.96926693],\n",
       "       [0.07759064, 0.92240936],\n",
       "       [0.1481747 , 0.8518253 ],\n",
       "       [0.3719171 , 0.6280829 ],\n",
       "       [0.1026184 , 0.8973816 ],\n",
       "       [0.25237935, 0.74762065],\n",
       "       [0.74756556, 0.25243444],\n",
       "       [0.34721758, 0.65278242],\n",
       "       [0.49008823, 0.50991177],\n",
       "       [0.01594556, 0.98405444],\n",
       "       [0.8385692 , 0.1614308 ],\n",
       "       [0.3449334 , 0.6550666 ],\n",
       "       [0.99403159, 0.00596841],\n",
       "       [0.54814393, 0.45185607],\n",
       "       [0.22059232, 0.77940768],\n",
       "       [0.58278956, 0.41721044],\n",
       "       [0.45056708, 0.54943292],\n",
       "       [0.21696743, 0.78303257],\n",
       "       [0.64440947, 0.35559053],\n",
       "       [0.05915225, 0.94084775],\n",
       "       [0.35045152, 0.64954848],\n",
       "       [0.03285764, 0.96714236],\n",
       "       [0.23559618, 0.76440382],\n",
       "       [0.8352572 , 0.1647428 ],\n",
       "       [0.9936332 , 0.0063668 ],\n",
       "       [0.04339782, 0.95660218],\n",
       "       [0.9871815 , 0.0128185 ],\n",
       "       [0.50071274, 0.49928726],\n",
       "       [0.96146129, 0.03853871],\n",
       "       [0.98241683, 0.01758317],\n",
       "       [0.96529667, 0.03470333],\n",
       "       [0.9543457 , 0.0456543 ],\n",
       "       [0.98988764, 0.01011236],\n",
       "       [0.0296513 , 0.9703487 ],\n",
       "       [0.8237415 , 0.1762585 ],\n",
       "       [0.49672012, 0.50327988],\n",
       "       [0.32267186, 0.67732814],\n",
       "       [0.38086701, 0.61913299],\n",
       "       [0.73236346, 0.26763654],\n",
       "       [0.10333631, 0.89666369],\n",
       "       [0.51882853, 0.48117147],\n",
       "       [0.93029236, 0.06970764],\n",
       "       [0.11212973, 0.88787027],\n",
       "       [0.98969215, 0.01030785],\n",
       "       [0.01427413, 0.98572587],\n",
       "       [0.03054274, 0.96945726],\n",
       "       [0.41900089, 0.58099911],\n",
       "       [0.98626613, 0.01373387],\n",
       "       [0.03231327, 0.96768673],\n",
       "       [0.94943405, 0.05056595],\n",
       "       [0.27790274, 0.72209726],\n",
       "       [0.97464661, 0.02535339],\n",
       "       [0.99684761, 0.00315239],\n",
       "       [0.08654393, 0.91345607],\n",
       "       [0.2532881 , 0.7467119 ],\n",
       "       [0.24753497, 0.75246503],\n",
       "       [0.50478041, 0.49521959],\n",
       "       [0.07621448, 0.92378552],\n",
       "       [0.92417495, 0.07582505],\n",
       "       [0.08951431, 0.91048569],\n",
       "       [0.94898997, 0.05101003],\n",
       "       [0.08705436, 0.91294564],\n",
       "       [0.42180067, 0.57819933],\n",
       "       [0.66759746, 0.33240254],\n",
       "       [0.04872916, 0.95127084],\n",
       "       [0.12277397, 0.87722603],\n",
       "       [0.03874241, 0.96125759],\n",
       "       [0.70921884, 0.29078116],\n",
       "       [0.9666955 , 0.0333045 ],\n",
       "       [0.94833311, 0.05166689],\n",
       "       [0.37066165, 0.62933835],\n",
       "       [0.01667359, 0.98332641],\n",
       "       [0.07658327, 0.92341673],\n",
       "       [0.73139905, 0.26860095],\n",
       "       [0.88896239, 0.11103761],\n",
       "       [0.06619091, 0.93380909],\n",
       "       [0.56753745, 0.43246255],\n",
       "       [0.03339025, 0.96660975],\n",
       "       [0.41445479, 0.58554521],\n",
       "       [0.96379353, 0.03620647],\n",
       "       [0.23520852, 0.76479148],\n",
       "       [0.98196325, 0.01803675],\n",
       "       [0.44975971, 0.55024029],\n",
       "       [0.20714717, 0.79285283],\n",
       "       [0.9851384 , 0.0148616 ],\n",
       "       [0.63183924, 0.36816076],\n",
       "       [0.26756307, 0.73243693],\n",
       "       [0.01488688, 0.98511312],\n",
       "       [0.73311266, 0.26688734],\n",
       "       [0.98036821, 0.01963179],\n",
       "       [0.26052466, 0.73947534],\n",
       "       [0.99315529, 0.00684471],\n",
       "       [0.968703  , 0.031297  ],\n",
       "       [0.90070099, 0.09929901],\n",
       "       [0.05363262, 0.94636738],\n",
       "       [0.41934802, 0.58065198],\n",
       "       [0.67654816, 0.32345184],\n",
       "       [0.79103429, 0.20896571],\n",
       "       [0.16075493, 0.83924507],\n",
       "       [0.93217235, 0.06782765],\n",
       "       [0.21107805, 0.78892195],\n",
       "       [0.05116004, 0.94883996],\n",
       "       [0.99259449, 0.00740551],\n",
       "       [0.63226117, 0.36773883],\n",
       "       [0.9751107 , 0.0248893 ],\n",
       "       [0.32592417, 0.67407583],\n",
       "       [0.06102584, 0.93897416],\n",
       "       [0.17665257, 0.82334743],\n",
       "       [0.059024  , 0.940976  ],\n",
       "       [0.93846218, 0.06153782],\n",
       "       [0.03221121, 0.96778879],\n",
       "       [0.05000739, 0.94999261],\n",
       "       [0.60058467, 0.39941533],\n",
       "       [0.71516627, 0.28483373],\n",
       "       [0.77528522, 0.22471478],\n",
       "       [0.04436054, 0.95563946],\n",
       "       [0.84372511, 0.15627489],\n",
       "       [0.0805306 , 0.9194694 ],\n",
       "       [0.05497105, 0.94502895],\n",
       "       [0.04096502, 0.95903498],\n",
       "       [0.9752474 , 0.0247526 ],\n",
       "       [0.12349274, 0.87650726],\n",
       "       [0.72462093, 0.27537907],\n",
       "       [0.90843193, 0.09156807],\n",
       "       [0.36678514, 0.63321486],\n",
       "       [0.30898537, 0.69101463],\n",
       "       [0.0321701 , 0.9678299 ],\n",
       "       [0.2182286 , 0.7817714 ],\n",
       "       [0.32384174, 0.67615826],\n",
       "       [0.44339224, 0.55660776],\n",
       "       [0.01045929, 0.98954071],\n",
       "       [0.04414113, 0.95585887],\n",
       "       [0.04894393, 0.95105607],\n",
       "       [0.66256384, 0.33743616],\n",
       "       [0.03071332, 0.96928668],\n",
       "       [0.58015313, 0.41984687],\n",
       "       [0.95599119, 0.04400881],\n",
       "       [0.54923364, 0.45076636],\n",
       "       [0.31430966, 0.68569034],\n",
       "       [0.36216277, 0.63783723],\n",
       "       [0.0494358 , 0.9505642 ],\n",
       "       [0.67870629, 0.32129371],\n",
       "       [0.98909414, 0.01090586],\n",
       "       [0.95601303, 0.04398697],\n",
       "       [0.00944011, 0.99055989],\n",
       "       [0.11793548, 0.88206452],\n",
       "       [0.06747877, 0.93252123],\n",
       "       [0.04400869, 0.95599131],\n",
       "       [0.01047907, 0.98952093],\n",
       "       [0.09033292, 0.90966708],\n",
       "       [0.65153262, 0.34846738],\n",
       "       [0.0638692 , 0.9361308 ],\n",
       "       [0.96621175, 0.03378825],\n",
       "       [0.27847387, 0.72152613]])"
      ]
     },
     "execution_count": 35,
     "metadata": {},
     "output_type": "execute_result"
    }
   ],
   "source": [
    "lr.predict_proba(X_train) #poabability not sick vs probability sick"
   ]
  },
  {
   "cell_type": "code",
   "execution_count": 36,
   "metadata": {},
   "outputs": [],
   "source": [
    "predicts = []\n",
    "for item in lr.predict_proba(X_train):\n",
    "    if item[0] <= .70: # you can play with this threshold\n",
    "        predicts.append(1)\n",
    "    else:\n",
    "        predicts.append(0)"
   ]
  },
  {
   "cell_type": "code",
   "execution_count": 37,
   "metadata": {},
   "outputs": [
    {
     "data": {
      "text/html": [
       "<div>\n",
       "<style scoped>\n",
       "    .dataframe tbody tr th:only-of-type {\n",
       "        vertical-align: middle;\n",
       "    }\n",
       "\n",
       "    .dataframe tbody tr th {\n",
       "        vertical-align: top;\n",
       "    }\n",
       "\n",
       "    .dataframe thead th {\n",
       "        text-align: right;\n",
       "    }\n",
       "</style>\n",
       "<table border=\"1\" class=\"dataframe\">\n",
       "  <thead>\n",
       "    <tr style=\"text-align: right;\">\n",
       "      <th></th>\n",
       "      <th>predicted 0</th>\n",
       "      <th>predicted 1</th>\n",
       "    </tr>\n",
       "  </thead>\n",
       "  <tbody>\n",
       "    <tr>\n",
       "      <th>actual 0</th>\n",
       "      <td>75</td>\n",
       "      <td>35</td>\n",
       "    </tr>\n",
       "    <tr>\n",
       "      <th>actual 1</th>\n",
       "      <td>5</td>\n",
       "      <td>127</td>\n",
       "    </tr>\n",
       "  </tbody>\n",
       "</table>\n",
       "</div>"
      ],
      "text/plain": [
       "          predicted 0  predicted 1\n",
       "actual 0           75           35\n",
       "actual 1            5          127"
      ]
     },
     "execution_count": 37,
     "metadata": {},
     "output_type": "execute_result"
    }
   ],
   "source": [
    "conf_matrix = pd.DataFrame(confusion_matrix(y_train, predicts),\n",
    "                           index = ['actual 0', 'actual 1'], \n",
    "                           columns = ['predicted 0', 'predicted 1'])\n",
    "conf_matrix"
   ]
  },
  {
   "cell_type": "code",
   "execution_count": 20,
   "metadata": {},
   "outputs": [
    {
     "data": {
      "text/plain": [
       "0.8157894736842105"
      ]
     },
     "execution_count": 20,
     "metadata": {},
     "output_type": "execute_result"
    }
   ],
   "source": [
    "## accuracy\n",
    "(conf_matrix['predicted 0'][0] + conf_matrix['predicted 1'][1]) / len(predicts)"
   ]
  },
  {
   "cell_type": "markdown",
   "metadata": {},
   "source": [
    "### The AUC / ROC curve (Area Under Curve of the Receiver Operating Characteristic)"
   ]
  },
  {
   "cell_type": "markdown",
   "metadata": {},
   "source": [
    "![a](images/pop-curve.png)"
   ]
  },
  {
   "cell_type": "code",
   "execution_count": 21,
   "metadata": {},
   "outputs": [],
   "source": [
    "import matplotlib.pyplot as plt"
   ]
  },
  {
   "cell_type": "code",
   "execution_count": 34,
   "metadata": {},
   "outputs": [
    {
     "data": {
      "image/png": "[encoded data removed]",
      "text/plain": [
       "<Figure size 720x576 with 1 Axes>"
      ]
     },
     "metadata": {
      "needs_background": "light"
     },
     "output_type": "display_data"
    }
   ],
   "source": [
    "x_list = []\n",
    "y_list = []\n",
    "\n",
    "for x in np.linspace(0, 1, 100):\n",
    "    \n",
    "    # Same predictions based on predict_proba thresholds\n",
    "    predicts = []\n",
    "    \n",
    "    for item in lr.predict_proba(X_test):\n",
    "        if item[0] <= x:\n",
    "            predicts.append(1)\n",
    "        else:\n",
    "            predicts.append(0)\n",
    "\n",
    "    conf_matrix = pd.DataFrame(confusion_matrix(y_test, predicts), index = ['actual 0', 'actual 1'], \n",
    "                     columns = ['predicted 0', 'predicted 1'])\n",
    "    \n",
    "    \n",
    "    # Assign TP, TN, FP, FN\n",
    "    true_positives = conf_matrix['predicted 1'][1]\n",
    "    true_negatives = conf_matrix['predicted 0'][0]\n",
    "    false_positives = conf_matrix['predicted 1'][0]\n",
    "    false_negatives = conf_matrix['predicted 0'][1]\n",
    "\n",
    "    \n",
    "    # Calculate Sensitivity and Specificity\n",
    "    sensitivity = true_positives / (true_positives + false_negatives)\n",
    "\n",
    "    specificity = true_negatives / (true_negatives + false_positives)\n",
    "    \n",
    "    \n",
    "    # Append to lists to graph\n",
    "    x_list.append(1 - specificity)\n",
    "\n",
    "    y_list.append(sensitivity)\n",
    "\n",
    "    \n",
    "# Plot ROC curve\n",
    "\n",
    "plt.figure(figsize = (10, 8))\n",
    "plt.title('ROC Curve', fontsize = 20)\n",
    "plt.xlabel('FP_rate', fontsize = 15)\n",
    "plt.ylabel('TP_rate', fontsize = 15)\n",
    "plt.xlim(-0.01, 1)\n",
    "plt.ylim(-0.01, 1)\n",
    "plt.plot(x_list, y_list);\n",
    "plt.plot([0, 1], [0, 1]);\n",
    "\n",
    "# x = 1 - specificity\n",
    "# y = sensitivity"
   ]
  },
  {
   "cell_type": "code",
   "execution_count": 23,
   "metadata": {},
   "outputs": [],
   "source": [
    "from sklearn.metrics import auc"
   ]
  },
  {
   "cell_type": "code",
   "execution_count": 24,
   "metadata": {},
   "outputs": [
    {
     "data": {
      "text/plain": [
       "0.9011698969792212"
      ]
     },
     "execution_count": 24,
     "metadata": {},
     "output_type": "execute_result"
    }
   ],
   "source": [
    "auc(x_list, y_list)"
   ]
  },
  {
   "cell_type": "markdown",
   "metadata": {},
   "source": [
    "### Let's add associated costs to our False Negatives and False Positives to our loop and minimize the cost\n",
    "This is the naive way to optimize, but works well - you could also create a closed form optimization function"
   ]
  },
  {
   "cell_type": "code",
   "execution_count": 25,
   "metadata": {},
   "outputs": [],
   "source": [
    "def my_eyes_cost_much(num_thres = 100, p_fp = 3, p_tn = 0.5, p_tp = 1, p_fn = 2):\n",
    "\n",
    "    _thres = []; tpr = [] ; fpr = [] ; cost = []\n",
    "\n",
    "    prediction = lr.predict_proba(X_test)\n",
    "\n",
    "    ## Different code for same objective to calculate metrics at thresholds\n",
    "    \n",
    "    for thres in np.linspace(0.01, 1, num_thres):\n",
    "        \n",
    "        _thres.append(thres)\n",
    "        predicts = np.zeros((prediction.shape[0], 1)) \n",
    "        predicts[np.where(prediction[:, 1] >= thres)] = 1\n",
    "\n",
    "        conf_matrix = confusion_matrix(y_test, predicts)\n",
    "\n",
    "        tp = conf_matrix[1, 1]\n",
    "        tn = conf_matrix[0, 0]\n",
    "        fp = conf_matrix[0, 1]\n",
    "        fn = conf_matrix[1, 0]\n",
    "\n",
    "        sensitivity = tp / (tp + fn)\n",
    "        tnr = specificity = tn / (tn + fp)\n",
    "        fnr = 1 - sensitivity\n",
    "\n",
    "        tpr.append(sensitivity)\n",
    "    \n",
    "        fpr.append(1 - specificity)\n",
    "        \n",
    "        # add a cost function (this involves domain knowledge)\n",
    "        \n",
    "        current_cost = (p_fp * fp) + (p_tn * tn) + (p_tp * tp) + (p_fn * fn)\n",
    "            \n",
    "        cost.append(current_cost)  \n",
    "\n",
    "    return fpr, tpr, cost, _thres"
   ]
  },
  {
   "cell_type": "code",
   "execution_count": 26,
   "metadata": {},
   "outputs": [],
   "source": [
    "fpr, tpr, cost, thres = my_eyes_cost_much(num_thres = 100, p_fp = 3, p_tn = 0.5, p_tp = 1, p_fn = 2)"
   ]
  },
  {
   "cell_type": "code",
   "execution_count": 41,
   "metadata": {},
   "outputs": [
    {
     "name": "stdout",
     "output_type": "stream",
     "text": [
      "(0.07246376811594202, 0.6867469879518072, 0.73)\n"
     ]
    }
   ],
   "source": [
    "cost_idx = np.argmin(cost)\n",
    "min_cost_threshold = fpr[cost_idx], tpr[cost_idx], thres[cost_idx]\n",
    "\n",
    "print(min_cost_threshold)"
   ]
  },
  {
   "cell_type": "code",
   "execution_count": 43,
   "metadata": {},
   "outputs": [
    {
     "data": {
      "text/plain": [
       "Text(0.13246376811594202, 0.6567469879518072, 'Threshold:0.73')"
      ]
     },
     "execution_count": 43,
     "metadata": {},
     "output_type": "execute_result"
    },
    {
     "data": {
      "image/png": "[encoded data removed]",
      "text/plain": [
       "<Figure size 720x576 with 1 Axes>"
      ]
     },
     "metadata": {
      "needs_background": "light"
     },
     "output_type": "display_data"
    }
   ],
   "source": [
    "ax = plt.figure(figsize = (10, 8))\n",
    "plt.title('ROC Curve', fontsize = 20)\n",
    "plt.xlabel('FP_rate (1 - specificity)', fontsize = 15)\n",
    "plt.ylabel('TP_rate (sensitivity)', fontsize = 15)\n",
    "plt.xlim(-.01, 1.01)\n",
    "plt.ylim(-.01, 1.01)\n",
    "plt.plot(fpr, tpr);\n",
    "plt.plot([0, 1], [0, 1]);\n",
    "plt.scatter(min_cost_threshold[0], min_cost_threshold[1], marker ='o', color = 'red', s=250)\n",
    "ax.text(min_cost_threshold[0] + 0.06, min_cost_threshold[1] - 0.03, 'Threshold:'+ str(round(min_cost_threshold[2], 2)))\n"
   ]
  },
  {
   "cell_type": "markdown",
   "metadata": {},
   "source": [
    "### Visualizing Threshold vs. Population Distribution"
   ]
  },
  {
   "cell_type": "code",
   "execution_count": 29,
   "metadata": {},
   "outputs": [],
   "source": [
    "import seaborn as sns"
   ]
  },
  {
   "cell_type": "code",
   "execution_count": 30,
   "metadata": {},
   "outputs": [
    {
     "data": {
      "text/plain": [
       "array([[0.01329378, 0.98670622],\n",
       "       [0.29154919, 0.70845081],\n",
       "       [0.34072097, 0.65927903],\n",
       "       [0.08327691, 0.91672309],\n",
       "       [0.82535108, 0.17464892]])"
      ]
     },
     "execution_count": 30,
     "metadata": {},
     "output_type": "execute_result"
    }
   ],
   "source": [
    "lr.predict_proba(X_test)[:5]"
   ]
  },
  {
   "cell_type": "code",
   "execution_count": 31,
   "metadata": {},
   "outputs": [
    {
     "data": {
      "text/plain": [
       "array([1, 1, 1, 1, 0])"
      ]
     },
     "execution_count": 31,
     "metadata": {},
     "output_type": "execute_result"
    }
   ],
   "source": [
    "lr.predict(X_test)[:5]"
   ]
  },
  {
   "cell_type": "code",
   "execution_count": 40,
   "metadata": {},
   "outputs": [],
   "source": [
    "# no_cancer_dist = []\n",
    "# cancer_dist = []\n",
    "\n",
    "# for item in lr.predict_proba(X_test):\n",
    "#     if item[0] <= .49:\n",
    "#         cancer_dist.append(item[0])\n",
    "#     else:\n",
    "#         no_cancer_dist.append(item[0])\n",
    "        \n",
    "# plt.figure(figsize = (10, 6))\n",
    "# plt.title('Distributions of Patients with and without Cancer')\n",
    "# plt.xlabel('Threshold', fontsize = 14)\n",
    "\n",
    "# sns.distplot(no_cancer_dist, bins = 15, color = 'red')\n",
    "# sns.distplot(cancer_dist, bins = 15, color = 'blue')\n",
    "# plt.legend(['no cancer dist', 'cancer dist']);"
   ]
  },
  {
   "cell_type": "markdown",
   "metadata": {},
   "source": [
    "### ROC curve vs Population Separation\n",
    "![a](images/pop-curve.png)"
   ]
  },
  {
   "cell_type": "markdown",
   "metadata": {},
   "source": [
    "![d](images/varying_dist_roc.png)"
   ]
  },
  {
   "cell_type": "markdown",
   "metadata": {},
   "source": []
  },
  {
   "cell_type": "markdown",
   "metadata": {},
   "source": [
    "### Precision (Positive Predictive Value)"
   ]
  },
  {
   "cell_type": "markdown",
   "metadata": {},
   "source": [
    "### $$ \\frac{TP}{TP + FP}  $$"
   ]
  },
  {
   "cell_type": "markdown",
   "metadata": {},
   "source": [
    "### F1 Score\n",
    "\n",
    "### $$ 2 * \\frac{\\text{Precision * Recall}}{\\text{Precision + Recall}} $$"
   ]
  }
 ],
 "metadata": {
  "kernelspec": {
   "display_name": "Python 3",
   "language": "python",
   "name": "python3"
  },
  "language_info": {
   "codemirror_mode": {
    "name": "ipython",
    "version": 3
   },
   "file_extension": ".py",
   "mimetype": "text/x-python",
   "name": "python",
   "nbconvert_exporter": "python",
   "pygments_lexer": "ipython3",
   "version": "3.7.3"
  },
  "toc": {
   "base_numbering": 1,
   "nav_menu": {},
   "number_sections": true,
   "sideBar": true,
   "skip_h1_title": false,
   "title_cell": "Table of Contents",
   "title_sidebar": "Contents",
   "toc_cell": false,
   "toc_position": {},
   "toc_section_display": true,
   "toc_window_display": false
  },
  "varInspector": {
   "cols": {
    "lenName": 16,
    "lenType": 16,
    "lenVar": 40
   },
   "kernels_config": {
    "python": {
     "delete_cmd_postfix": "",
     "delete_cmd_prefix": "del ",
     "library": "var_list.py",
     "varRefreshCmd": "print(var_dic_list())"
    },
    "r": {
     "delete_cmd_postfix": ") ",
     "delete_cmd_prefix": "rm(",
     "library": "var_list.r",
     "varRefreshCmd": "cat(var_dic_list()) "
    }
   },
   "types_to_exclude": [
    "module",
    "function",
    "builtin_function_or_method",
    "instance",
    "_Feature"
   ],
   "window_display": false
  }
 },
 "nbformat": 4,
 "nbformat_minor": 2
}
