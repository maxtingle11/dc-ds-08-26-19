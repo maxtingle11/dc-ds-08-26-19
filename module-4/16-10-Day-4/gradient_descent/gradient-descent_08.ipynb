{
 "cells": [
  {
   "cell_type": "markdown",
   "metadata": {
    "slideshow": {
     "slide_type": "slide"
    }
   },
   "source": [
    "### Linear Algebra, Calculus, and Gradient Descent\n",
    "\n",
    "#### Objectives\n",
    "* Use operations with vectors and matrices to solve systems of linear equations\n",
    "* Identify and describe of scalars, vectors,  matrices, using appropriate mathematical jargon\n",
    "* Set up and solve systems of linear equations with real life examples\n",
    "* Describe gradient descent in relation to slope, derivatives, and step size\n"
   ]
  },
  {
   "cell_type": "markdown",
   "metadata": {
    "slideshow": {
     "slide_type": "slide"
    }
   },
   "source": [
    "## Why Linear Algebra?\n",
    "\n",
    "Linear Algebra is the basis of many machine learning models.\n",
    "\n",
    "Data is usually already set up into a matrix by default!\n",
    "\n",
    "<img src= \"./resources/dataset.jpeg\">"
   ]
  },
  {
   "cell_type": "markdown",
   "metadata": {
    "slideshow": {
     "slide_type": "slide"
    }
   },
   "source": [
    "It can be used to model complicated things like language\n",
    "\n",
    "<img src = \"./resources/Word-Vectors.png\">"
   ]
  },
  {
   "cell_type": "markdown",
   "metadata": {
    "slideshow": {
     "slide_type": "slide"
    }
   },
   "source": [
    "Important for image compression and recognition\n",
    "\n",
    "<img src = \"./resources/images.gif\">"
   ]
  },
  {
   "cell_type": "markdown",
   "metadata": {},
   "source": [
    "### Group 1: using code to explain vectors and scalars"
   ]
  },
  {
   "cell_type": "code",
   "execution_count": 20,
   "metadata": {},
   "outputs": [],
   "source": [
    "import numpy as np"
   ]
  },
  {
   "cell_type": "markdown",
   "metadata": {},
   "source": [
    "<img src=\"https://github.com/learn-co-students/nyc-mhtn-ds-031119-lectures/raw/404d31eb8d11bc044187c99b487f4f46082e8f3c/Mod_3/LinAlgebra/resources/linal_types.png\" width=450>"
   ]
  },
  {
   "cell_type": "markdown",
   "metadata": {},
   "source": [
    "## Vectors\n",
    "\n",
    "An array with magnitude and direction. The coordinates of a vector represent where the tip of the vector would be if you travelled from the origin."
   ]
  },
  {
   "cell_type": "markdown",
   "metadata": {},
   "source": [
    "\n",
    "Operations with vectores\n",
    "Assume\n",
    "\n",
    "$ \\vec{v} = \\begin{bmatrix}v_{1} \\\\v_{2}\\end{bmatrix} $\n",
    "\n",
    "\n",
    "$ \\vec{w} = \\begin{bmatrix}w_{1} \\\\w_{2}\\end{bmatrix} $\n",
    "\n",
    "$ \\vec{v} + \\vec{w} = \\begin{bmatrix}v_{1} + w_{1} \\\\v_{2} + w_{2}\\end{bmatrix} $\n",
    "\n",
    "What is happening graphically? Let's look at an example:\n"
   ]
  },
  {
   "cell_type": "code",
   "execution_count": 21,
   "metadata": {},
   "outputs": [
    {
     "data": {
      "text/plain": [
       "array([5, 6])"
      ]
     },
     "execution_count": 21,
     "metadata": {},
     "output_type": "execute_result"
    }
   ],
   "source": [
    "import numpy as np\n",
    "v = np.array([2, 4])\n",
    "w = np.array([3, 2])\n",
    "v + w"
   ]
  },
  {
   "cell_type": "markdown",
   "metadata": {},
   "source": [
    "#### Scalars\n",
    "\n",
    "Have magnitude only. Can be multiplied by a vector or matrix to create a change in **scale** and/or direction.\n",
    "\n",
    "What scalars would you need to change the direction of a vector?"
   ]
  },
  {
   "cell_type": "code",
   "execution_count": 22,
   "metadata": {
    "scrolled": true
   },
   "outputs": [
    {
     "data": {
      "text/plain": [
       "array([ 8, 16])"
      ]
     },
     "execution_count": 22,
     "metadata": {},
     "output_type": "execute_result"
    }
   ],
   "source": [
    "v * 4"
   ]
  },
  {
   "cell_type": "markdown",
   "metadata": {},
   "source": [
    "### Group 2: Desmos to explore vectors and scalars\n",
    "\n",
    "[link to fun desmos interaction](https://www.desmos.com/calculator/yovo2ro9me)\n",
    "\n",
    "To capture the relationship between (*a, b*), to capture the _direction_ rather than the length, what mathematical concept would you use?"
   ]
  },
  {
   "cell_type": "markdown",
   "metadata": {},
   "source": [
    "### Group 3: Youtube vid\n",
    "\n",
    "[Link to good video on scalars and vectors](https://www.youtube.com/watch?v=fNk_zzaMoSs&list=PLZHQObOWTQDPD3MizzM2xVFitgF8hE_ab)"
   ]
  },
  {
   "cell_type": "markdown",
   "metadata": {},
   "source": [
    "## Slide break!"
   ]
  },
  {
   "cell_type": "markdown",
   "metadata": {},
   "source": [
    "[Gradient slide](https://www.youtube.com/watch?v=vWFjqgb-ylQ)"
   ]
  },
  {
   "cell_type": "markdown",
   "metadata": {},
   "source": [
    "**Good video on details of gradient decent**"
   ]
  },
  {
   "cell_type": "markdown",
   "metadata": {},
   "source": [
    "https://www.youtube.com/watch?v=sDv4f4s2SB8"
   ]
  },
  {
   "cell_type": "markdown",
   "metadata": {},
   "source": [
    "### Gradient Descent\n",
    "\n",
    "\n",
    "[slide deck!](https://docs.google.com/presentation/d/1i7FTqyjxWESFVYe6T5BYDzmqq0x7rI2c0va1Tn6WxbM/edit?usp=sharing)"
   ]
  },
  {
   "cell_type": "code",
   "execution_count": 23,
   "metadata": {},
   "outputs": [],
   "source": [
    "import pandas as pd\n",
    "import numpy as np\n",
    "from matplotlib import pyplot as plt\n",
    "import random\n",
    "import seaborn as sns"
   ]
  },
  {
   "cell_type": "code",
   "execution_count": 2,
   "metadata": {},
   "outputs": [
    {
     "data": {
      "text/plain": [
       "array([0., 0., 0., 0., 0., 0., 0., 0., 0., 0.])"
      ]
     },
     "execution_count": 2,
     "metadata": {},
     "output_type": "execute_result"
    }
   ],
   "source": [
    "numPoints=10\n",
    "np.zeros(shape=numPoints)"
   ]
  },
  {
   "cell_type": "code",
   "execution_count": 4,
   "metadata": {},
   "outputs": [],
   "source": [
    "def genData(numPoints, bias, variance):\n",
    "    x = np.zeros(shape=(numPoints, 2))\n",
    "    y = np.zeros(shape=numPoints)\n",
    "    # basically a straight line\n",
    "    for i in range(0, numPoints):\n",
    "        # bias feature\n",
    "        x[i][0] = 1\n",
    "        x[i][1] = i\n",
    "        # our target variable\n",
    "        y[i] = (i + bias) + random.uniform(0, 1) * variance\n",
    "    return x, y"
   ]
  },
  {
   "cell_type": "code",
   "execution_count": 5,
   "metadata": {},
   "outputs": [],
   "source": [
    "# gen 100 points with a bias of 25 and 10 variance as a bit of noise\n",
    "x, y = genData(100, 25, 25)\n",
    "m, n = np.shape(x)"
   ]
  },
  {
   "cell_type": "code",
   "execution_count": 30,
   "metadata": {},
   "outputs": [
    {
     "data": {
      "text/plain": [
       "<matplotlib.axes._subplots.AxesSubplot at 0x12c089630>"
      ]
     },
     "execution_count": 30,
     "metadata": {},
     "output_type": "execute_result"
    },
    {
     "data": {
      "image/png": "[encoded data removed]",
      "text/plain": [
       "<Figure size 432x288 with 1 Axes>"
      ]
     },
     "metadata": {
      "needs_background": "light"
     },
     "output_type": "display_data"
    }
   ],
   "source": [
    "sns.scatterplot(x=x[:, 1], y=y)"
   ]
  },
  {
   "cell_type": "code",
   "execution_count": 32,
   "metadata": {},
   "outputs": [
    {
     "data": {
      "text/plain": [
       "array([  1.90595185,   3.44021645,   4.97448105,   6.50874565,\n",
       "         8.04301025,   9.57727485,  11.11153945,  12.64580405,\n",
       "        14.18006865,  15.71433325,  17.24859785,  18.78286245,\n",
       "        20.31712705,  21.85139165,  23.38565625,  24.91992085,\n",
       "        26.45418545,  27.98845005,  29.52271465,  31.05697925,\n",
       "        32.59124385,  34.12550845,  35.65977305,  37.19403765,\n",
       "        38.72830225,  40.26256685,  41.79683145,  43.33109605,\n",
       "        44.86536065,  46.39962525,  47.93388985,  49.46815445,\n",
       "        51.00241905,  52.53668365,  54.07094825,  55.60521285,\n",
       "        57.13947745,  58.67374205,  60.20800665,  61.74227125,\n",
       "        63.27653585,  64.81080045,  66.34506505,  67.87932965,\n",
       "        69.41359425,  70.94785885,  72.48212345,  74.01638805,\n",
       "        75.55065265,  77.08491725,  78.61918185,  80.15344645,\n",
       "        81.68771105,  83.22197565,  84.75624025,  86.29050485,\n",
       "        87.82476945,  89.35903405,  90.89329865,  92.42756325,\n",
       "        93.96182785,  95.49609245,  97.03035705,  98.56462165,\n",
       "       100.09888625, 101.63315085, 103.16741545, 104.70168005,\n",
       "       106.23594465, 107.77020925, 109.30447385, 110.83873845,\n",
       "       112.37300305, 113.90726765, 115.44153225, 116.97579685,\n",
       "       118.51006145, 120.04432605, 121.57859065, 123.11285525,\n",
       "       124.64711985, 126.18138445, 127.71564905, 129.24991365,\n",
       "       130.78417825, 132.31844285, 133.85270745, 135.38697205,\n",
       "       136.92123665, 138.45550125, 139.98976585, 141.52403045,\n",
       "       143.05829505, 144.59255965, 146.12682425, 147.66108885,\n",
       "       149.19535345, 150.72961805, 152.26388265, 153.79814725])"
      ]
     },
     "execution_count": 32,
     "metadata": {},
     "output_type": "execute_result"
    }
   ],
   "source": [
    "x\n",
    "theta = np.array([1.90595185,1.5342646])\n",
    "np.dot(x, theta)"
   ]
  },
  {
   "cell_type": "code",
   "execution_count": 14,
   "metadata": {},
   "outputs": [],
   "source": [
    "def gradientDescent(x, y, theta, alpha, m, numIterations):\n",
    "    xTrans = x.transpose()\n",
    "    costs = []\n",
    "    for i in range(0, numIterations):\n",
    "        hypothesis = np.dot(x, theta)\n",
    "        loss = hypothesis - y\n",
    "        # avg cost per example (the 2 in 2*m doesn't really matter here.\n",
    "        # But to be consistent with the gradient, I include it)\n",
    "        cost = np.sum(loss ** 2) / (2 * m)\n",
    "        if i % (numIterations // 40) == 0:\n",
    "            print(\"Iteration %d | Cost: %f\" % (i, cost))\n",
    "            print(theta)\n",
    "        costs.append(cost)\n",
    "        # avg gradient per example\n",
    "        gradient = np.dot(xTrans, loss) / m\n",
    "        # update\n",
    "        theta = theta - alpha * gradient\n",
    "    sns.scatterplot(y=costs, x=[i for i in range(len(costs))])"
   ]
  },
  {
   "cell_type": "code",
   "execution_count": 25,
   "metadata": {},
   "outputs": [
    {
     "name": "stdout",
     "output_type": "stream",
     "text": [
      "Iteration 0 | Cost: 169.863573\n",
      "[1.90595185 1.5342646 ]\n",
      "Iteration 2500 | Cost: 152.846379\n",
      "[3.96317709 1.51026953]\n",
      "Iteration 5000 | Cost: 137.927905\n",
      "[5.89386827 1.48116139]\n",
      "Iteration 7500 | Cost: 124.786827\n",
      "[7.70590135 1.45384219]\n",
      "Iteration 10000 | Cost: 113.211384\n",
      "[9.40656892 1.42820201]\n",
      "Iteration 12500 | Cost: 103.015046\n",
      "[11.00271539  1.40413764]\n",
      "Iteration 15000 | Cost: 94.033505\n",
      "[12.50076449  1.38155224]\n",
      "Iteration 17500 | Cost: 86.122030\n",
      "[13.90674519  1.36035491]\n",
      "Iteration 20000 | Cost: 79.153132\n",
      "[15.22631591  1.34046035]\n",
      "Iteration 22500 | Cost: 73.014512\n",
      "[16.46478729  1.32178848]\n",
      "Iteration 25000 | Cost: 67.607252\n",
      "[17.62714363  1.30426417]\n",
      "Iteration 27500 | Cost: 62.844215\n",
      "[18.71806285  1.28781688]\n",
      "Iteration 30000 | Cost: 58.648649\n",
      "[19.74193541  1.27238042]\n",
      "Iteration 32500 | Cost: 54.952944\n",
      "[20.70288192  1.25789267]\n",
      "Iteration 35000 | Cost: 51.697549\n",
      "[21.60476975  1.24429532]\n",
      "Iteration 37500 | Cost: 48.830002\n",
      "[22.45122856  1.23153365]\n",
      "Iteration 40000 | Cost: 46.304097\n",
      "[23.24566498  1.2195563 ]\n",
      "Iteration 42500 | Cost: 44.079130\n",
      "[23.99127622  1.20831506]\n",
      "Iteration 45000 | Cost: 42.119246\n",
      "[24.69106305  1.19776469]\n",
      "Iteration 47500 | Cost: 40.392864\n",
      "[25.34784176  1.18786274]\n",
      "Iteration 50000 | Cost: 38.872164\n",
      "[25.9642556   1.17856935]\n",
      "Iteration 52500 | Cost: 37.532642\n",
      "[26.54278534  1.16984713]\n",
      "Iteration 55000 | Cost: 36.352710\n",
      "[27.08575929  1.16166096]\n",
      "Iteration 57500 | Cost: 35.313356\n",
      "[27.59536268  1.1539779 ]\n",
      "Iteration 60000 | Cost: 34.397832\n",
      "[28.07364642  1.14676703]\n",
      "Iteration 62500 | Cost: 33.591383\n",
      "[28.52253538  1.13999934]\n",
      "Iteration 65000 | Cost: 32.881016\n",
      "[28.94383613  1.13364758]\n",
      "Iteration 67500 | Cost: 32.255282\n",
      "[29.33924421  1.1276862 ]\n",
      "Iteration 70000 | Cost: 31.704098\n",
      "[29.71035096  1.12209119]\n",
      "Iteration 72500 | Cost: 31.218582\n",
      "[30.05864991  1.11684005]\n",
      "Iteration 75000 | Cost: 30.790911\n",
      "[30.3855428   1.11191163]\n",
      "Iteration 77500 | Cost: 30.414193\n",
      "[30.69234522  1.10728611]\n",
      "Iteration 80000 | Cost: 30.082358\n",
      "[30.98029191  1.10294487]\n",
      "Iteration 82500 | Cost: 29.790057\n",
      "[31.25054172  1.09887044]\n",
      "Iteration 85000 | Cost: 29.532582\n",
      "[31.50418228  1.09504642]\n",
      "Iteration 87500 | Cost: 29.305782\n",
      "[31.74223438  1.09145741]\n",
      "Iteration 90000 | Cost: 29.106003\n",
      "[31.96565607  1.08808899]\n",
      "Iteration 92500 | Cost: 28.930026\n",
      "[32.17534651  1.08492758]\n",
      "Iteration 95000 | Cost: 28.775015\n",
      "[32.37214961  1.08196047]\n",
      "Iteration 97500 | Cost: 28.638472\n",
      "[32.55685742  1.07917572]\n"
     ]
    },
    {
     "data": {
      "image/png": "[encoded data removed]",
      "text/plain": [
       "<Figure size 432x288 with 1 Axes>"
      ]
     },
     "metadata": {
      "needs_background": "light"
     },
     "output_type": "display_data"
    }
   ],
   "source": [
    "numIterations = 100000\n",
    "alpha = 0.0001\n",
    "theta = np.array([1.90595185,1.5342646])\n",
    "gradientDescent(x, y, theta, alpha, m, numIterations)"
   ]
  },
  {
   "cell_type": "code",
   "execution_count": null,
   "metadata": {},
   "outputs": [],
   "source": []
  }
 ],
 "metadata": {
  "kernelspec": {
   "display_name": "Python 3",
   "language": "python",
   "name": "python3"
  },
  "language_info": {
   "codemirror_mode": {
    "name": "ipython",
    "version": 3
   },
   "file_extension": ".py",
   "mimetype": "text/x-python",
   "name": "python",
   "nbconvert_exporter": "python",
   "pygments_lexer": "ipython3",
   "version": "3.7.3"
  }
 },
 "nbformat": 4,
 "nbformat_minor": 2
}
