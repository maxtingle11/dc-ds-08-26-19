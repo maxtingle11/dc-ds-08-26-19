{
 "cells": [
  {
   "cell_type": "markdown",
   "metadata": {},
   "source": [
    "## Problem 1\n",
    "\n",
    "Create a NumPy array of list(5,3,8,9,2)"
   ]
  },
  {
   "cell_type": "code",
   "execution_count": 2,
   "metadata": {},
   "outputs": [],
   "source": [
    "import numpy as np"
   ]
  },
  {
   "cell_type": "code",
   "execution_count": 3,
   "metadata": {},
   "outputs": [
    {
     "name": "stdout",
     "output_type": "stream",
     "text": [
      "[5 3 8 9 2]\n"
     ]
    }
   ],
   "source": [
    "my_array = np.array([5,3,8,9,2])\n",
    "print(my_array)"
   ]
  },
  {
   "cell_type": "code",
   "execution_count": 4,
   "metadata": {},
   "outputs": [
    {
     "data": {
      "text/plain": [
       "numpy.ndarray"
      ]
     },
     "execution_count": 4,
     "metadata": {},
     "output_type": "execute_result"
    }
   ],
   "source": [
    "type(my_array)"
   ]
  },
  {
   "cell_type": "markdown",
   "metadata": {},
   "source": [
    "## Problem 2\n",
    "\n",
    "Make a range of numbers using numpy where the numbers range between 0 and 130, but are incremented by 3.\n",
    "\n",
    "Expected Output:\n",
    "\n",
    "array( [ 0, 3, 6, 9, 12, 15, 18, 21, 24, 27, 30, 33, 36, 39, 42, 45, 48, 51, 54, 57, 60, 63, 66, 69, 72, 75,\n",
    "78, 81, 84, 87, 90, 93, 96, 99, 102, 105, 108, 111, 114,\n",
    "117, 120, 123, 126, 129]\n",
    "\n",
    "    )"
   ]
  },
  {
   "cell_type": "code",
   "execution_count": 43,
   "metadata": {},
   "outputs": [
    {
     "name": "stdout",
     "output_type": "stream",
     "text": [
      "[0, 3, 6, 9, 12, 15, 18, 21, 24, 27, 30, 33, 36, 39, 42, 45, 48, 51, 54, 57, 60, 63, 66, 69, 72, 75, 78, 81, 84, 87, 90, 93, 96, 99, 102, 105, 108, 111, 114, 117, 120, 123, 126, 129]\n"
     ]
    },
    {
     "data": {
      "text/plain": [
       "44"
      ]
     },
     "execution_count": 43,
     "metadata": {},
     "output_type": "execute_result"
    }
   ],
   "source": [
    "print(list(range(0, 130, 3)))\n",
    "\n",
    "len(list(range(0, 130, 3)))"
   ]
  },
  {
   "cell_type": "code",
   "execution_count": 46,
   "metadata": {},
   "outputs": [
    {
     "name": "stdout",
     "output_type": "stream",
     "text": [
      "[  0   3   6   9  12  15  18  21  24  27  30  33  36  39  42  45  48  51\n",
      "  54  57  60  63  66  69  72  75  78  81  84  87  90  93  96  99 102 105\n",
      " 108 111 114 117 120 123 126 129]\n"
     ]
    }
   ],
   "source": [
    "my_array2 = np.full(44, range(0, 130, 3))\n",
    "print(my_array2)"
   ]
  },
  {
   "cell_type": "code",
   "execution_count": 59,
   "metadata": {},
   "outputs": [
    {
     "data": {
      "text/plain": [
       "array([  0,   3,   6,   9,  12,  15,  18,  21,  24,  27,  30,  33,  36,\n",
       "        39,  42,  45,  48,  51,  54,  57,  60,  63,  66,  69,  72,  75,\n",
       "        78,  81,  84,  87,  90,  93,  96,  99, 102, 105, 108, 111, 114,\n",
       "       117, 120, 123, 126, 129])"
      ]
     },
     "execution_count": 59,
     "metadata": {},
     "output_type": "execute_result"
    }
   ],
   "source": [
    "np.arange(0,130,3)"
   ]
  },
  {
   "cell_type": "markdown",
   "metadata": {},
   "source": [
    "## Problem 3\n",
    "\n",
    "Make 8 lists of 5 elements containing a 1. for each element."
   ]
  },
  {
   "cell_type": "code",
   "execution_count": 16,
   "metadata": {},
   "outputs": [
    {
     "name": "stdout",
     "output_type": "stream",
     "text": [
      "[[1. 1. 1. 1. 1.]\n",
      " [1. 1. 1. 1. 1.]\n",
      " [1. 1. 1. 1. 1.]\n",
      " [1. 1. 1. 1. 1.]\n",
      " [1. 1. 1. 1. 1.]\n",
      " [1. 1. 1. 1. 1.]\n",
      " [1. 1. 1. 1. 1.]\n",
      " [1. 1. 1. 1. 1.]]\n"
     ]
    }
   ],
   "source": [
    "my_array3 = np.ones([8,5])\n",
    "print(my_array3)"
   ]
  },
  {
   "cell_type": "code",
   "execution_count": 60,
   "metadata": {},
   "outputs": [
    {
     "data": {
      "text/plain": [
       "array([[1., 1., 1., 1., 1.],\n",
       "       [1., 1., 1., 1., 1.],\n",
       "       [1., 1., 1., 1., 1.],\n",
       "       [1., 1., 1., 1., 1.],\n",
       "       [1., 1., 1., 1., 1.],\n",
       "       [1., 1., 1., 1., 1.],\n",
       "       [1., 1., 1., 1., 1.],\n",
       "       [1., 1., 1., 1., 1.]])"
      ]
     },
     "execution_count": 60,
     "metadata": {},
     "output_type": "execute_result"
    }
   ],
   "source": [
    "np.ones((8,5))"
   ]
  },
  {
   "cell_type": "markdown",
   "metadata": {},
   "source": [
    "\n",
    "Expected Output:\n",
    "\n",
    "array([\n",
    "\n",
    "   [1., 1., 1., 1., 1.],\\\n",
    "   [1., 1., 1., 1., 1.],\\\n",
    "   [1., 1., 1., 1., 1.],\\\n",
    "   [1., 1., 1., 1., 1.], \\   \n",
    "   [1., 1., 1., 1., 1.],\\\n",
    "   [1., 1., 1., 1., 1.],\\\n",
    "   [1., 1., 1., 1., 1.],\\\n",
    "   [1., 1., 1., 1., 1.]])"
   ]
  },
  {
   "cell_type": "markdown",
   "metadata": {},
   "source": [
    "## Problem 4\n",
    "\n",
    "Create an 8x8 identity matrix using strictly numpy. Use google to your advantage!"
   ]
  },
  {
   "cell_type": "code",
   "execution_count": 22,
   "metadata": {},
   "outputs": [
    {
     "name": "stdout",
     "output_type": "stream",
     "text": [
      "[[1. 0. 0. 0. 0. 0. 0. 0.]\n",
      " [0. 1. 0. 0. 0. 0. 0. 0.]\n",
      " [0. 0. 1. 0. 0. 0. 0. 0.]\n",
      " [0. 0. 0. 1. 0. 0. 0. 0.]\n",
      " [0. 0. 0. 0. 1. 0. 0. 0.]\n",
      " [0. 0. 0. 0. 0. 1. 0. 0.]\n",
      " [0. 0. 0. 0. 0. 0. 1. 0.]\n",
      " [0. 0. 0. 0. 0. 0. 0. 1.]]\n"
     ]
    }
   ],
   "source": [
    "my_array4 = np.eye(8)\n",
    "print(my_array4)"
   ]
  },
  {
   "cell_type": "markdown",
   "metadata": {},
   "source": [
    "Expected Output:\n",
    "\n",
    "array([\n",
    "\n",
    "   [1., 0., 0., 0., 0., 0., 0., 0.],\n",
    "   [0., 1., 0., 0., 0., 0., 0., 0.],\n",
    "   [0., 0., 1., 0., 0., 0., 0., 0.],\n",
    "   [0., 0., 0., 1., 0., 0., 0., 0.],\n",
    "   [0., 0., 0., 0., 1., 0., 0., 0.],\n",
    "   [0., 0., 0., 0., 0., 1., 0., 0.],\n",
    "   [0., 0., 0., 0., 0., 0., 1., 0.],\n",
    "   [0., 0., 0., 0., 0., 0., 0., 1.]])\n",
    "\n",
    "Now add up multiple 8x8 identity matrices so that the resulting matrix is still 8x8, but contains a diagonal of 9s"
   ]
  },
  {
   "cell_type": "code",
   "execution_count": 23,
   "metadata": {
    "scrolled": true
   },
   "outputs": [
    {
     "data": {
      "text/plain": [
       "array([[9., 0., 0., 0., 0., 0., 0., 0.],\n",
       "       [0., 9., 0., 0., 0., 0., 0., 0.],\n",
       "       [0., 0., 9., 0., 0., 0., 0., 0.],\n",
       "       [0., 0., 0., 9., 0., 0., 0., 0.],\n",
       "       [0., 0., 0., 0., 9., 0., 0., 0.],\n",
       "       [0., 0., 0., 0., 0., 9., 0., 0.],\n",
       "       [0., 0., 0., 0., 0., 0., 9., 0.],\n",
       "       [0., 0., 0., 0., 0., 0., 0., 9.]])"
      ]
     },
     "execution_count": 23,
     "metadata": {},
     "output_type": "execute_result"
    }
   ],
   "source": [
    "my_array4 * 9"
   ]
  },
  {
   "cell_type": "markdown",
   "metadata": {},
   "source": [
    "Expected Output:\n",
    "\n",
    "array([\n",
    "\n",
    "   [9., 0., 0., 0., 0., 0., 0., 0.],\n",
    "   [0., 9., 0., 0., 0., 0., 0., 0.],\n",
    "   [0., 0., 9., 0., 0., 0., 0., 0.],\n",
    "   [0., 0., 0., 9., 0., 0., 0., 0.],\n",
    "   [0., 0., 0., 0., 9., 0., 0., 0.],\n",
    "   [0., 0., 0., 0., 0., 9., 0., 0.],\n",
    "   [0., 0., 0., 0., 0., 0., 9., 0.],\n",
    "   [0., 0., 0., 0., 0., 0., 0., 9.]])\n",
    "\n",
    "\n",
    "## Discussion Section\n",
    "\n",
    "Cool Jupyter command: If you add a %time command at the top of a cell, it will show you how long your code block takes to run\n",
    "\n",
    "Try it out"
   ]
  },
  {
   "cell_type": "code",
   "execution_count": 24,
   "metadata": {},
   "outputs": [
    {
     "name": "stdout",
     "output_type": "stream",
     "text": [
      "CPU times: user 3 µs, sys: 1e+03 ns, total: 4 µs\n",
      "Wall time: 5.25 µs\n",
      "This is how long this code block takes to run^\n"
     ]
    }
   ],
   "source": [
    "%time\n",
    "\n",
    "print('This is how long this code block takes to run^')"
   ]
  },
  {
   "cell_type": "markdown",
   "metadata": {},
   "source": [
    "CPU times: user 3 µs, sys: 1 µs, total: 4 µs\n",
    "\n",
    "Wall time: 6.2 µs\n",
    "\n",
    "This is how long this code block takes to run^\n",
    "\n",
    "When we compare the runtime of a numpy array being iterated over vs. a regular Python list iterated by a for loop. We find that Numpy is actually faster to run. Discuss with your table why this is."
   ]
  },
  {
   "cell_type": "code",
   "execution_count": 55,
   "metadata": {},
   "outputs": [],
   "source": [
    "np_array = np.array([2, 6, 1, 9, 10, 3, 27, 50])"
   ]
  },
  {
   "cell_type": "code",
   "execution_count": 56,
   "metadata": {},
   "outputs": [
    {
     "name": "stdout",
     "output_type": "stream",
     "text": [
      "CPU times: user 3 µs, sys: 0 ns, total: 3 µs\n",
      "Wall time: 5.96 µs\n"
     ]
    },
    {
     "data": {
      "text/plain": [
       "(array([1, 3, 4]),)"
      ]
     },
     "execution_count": 56,
     "metadata": {},
     "output_type": "execute_result"
    }
   ],
   "source": [
    "%time\n",
    "index = np.where((np_array >= 5) & (np_array <= 10))\n",
    "index"
   ]
  },
  {
   "cell_type": "code",
   "execution_count": 57,
   "metadata": {},
   "outputs": [],
   "source": [
    "reg_array = [2, 6, 1, 9, 10, 3, 27, 50]"
   ]
  },
  {
   "cell_type": "code",
   "execution_count": 58,
   "metadata": {},
   "outputs": [
    {
     "name": "stdout",
     "output_type": "stream",
     "text": [
      "CPU times: user 2 µs, sys: 1e+03 ns, total: 3 µs\n",
      "Wall time: 4.77 µs\n",
      "1\n",
      "3\n",
      "4\n"
     ]
    }
   ],
   "source": [
    "%time\n",
    "for num in reg_array:\n",
    "    if (num >= 5) & (num <=10):\n",
    "        print(reg_array.index(num))"
   ]
  },
  {
   "cell_type": "code",
   "execution_count": null,
   "metadata": {},
   "outputs": [],
   "source": []
  }
 ],
 "metadata": {
  "kernelspec": {
   "display_name": "Python 3",
   "language": "python",
   "name": "python3"
  },
  "language_info": {
   "codemirror_mode": {
    "name": "ipython",
    "version": 3
   },
   "file_extension": ".py",
   "mimetype": "text/x-python",
   "name": "python",
   "nbconvert_exporter": "python",
   "pygments_lexer": "ipython3",
   "version": "3.7.3"
  }
 },
 "nbformat": 4,
 "nbformat_minor": 2
}
