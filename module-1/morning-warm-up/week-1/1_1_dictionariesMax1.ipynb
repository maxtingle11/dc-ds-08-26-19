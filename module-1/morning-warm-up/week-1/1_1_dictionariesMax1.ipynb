{
 "cells": [
  {
   "cell_type": "markdown",
   "metadata": {},
   "source": [
    "1. Create a dictionary where each object contains a list of one float (Age) and one string (Family name) (at least 5 objects)\n",
    "Example: {Charles: [23.4, \"Darwin\"], Alan: [42.5, \"Turing\"]}"
   ]
  },
  {
   "cell_type": "code",
   "execution_count": 33,
   "metadata": {},
   "outputs": [
    {
     "name": "stdout",
     "output_type": "stream",
     "text": [
      "{'Sam': [27.45, 'Smith'], 'Beyonce': [37.37, 'Knowles'], 'Lady': [33.21, 'Gaga'], 'Kim': [27.11, 'Petras'], 'Adam': [37.54, 'Lambert']}\n"
     ]
    }
   ],
   "source": [
    "people = {'Sam': [27.45, 'Smith'], 'Beyonce': [37.37, 'Knowles'], 'Lady': [33.21, 'Gaga'], 'Kim': [27.11, 'Petras'], 'Adam': [37.54, 'Lambert']}\n",
    "print(people)\n"
   ]
  },
  {
   "cell_type": "markdown",
   "metadata": {},
   "source": [
    "2. Delete one object from the dictionary"
   ]
  },
  {
   "cell_type": "code",
   "execution_count": 34,
   "metadata": {},
   "outputs": [
    {
     "name": "stdout",
     "output_type": "stream",
     "text": [
      "{'Sam': [27.45, 'Smith'], 'Beyonce': [37.37, 'Knowles'], 'Lady': [33.21, 'Gaga'], 'Kim': [27.11, 'Petras']}\n"
     ]
    }
   ],
   "source": [
    "del people[\"Adam\"]\n",
    "print(people)"
   ]
  },
  {
   "cell_type": "markdown",
   "metadata": {},
   "source": [
    "3. Replace the float number of one of your objects - we are changing a list entry inside a dictionary record! look at Darwin's new age\n",
    "Example: {Charles: [99.73, \"Darwin\"], Alan: [42.5, \"Turing\"]}"
   ]
  },
  {
   "cell_type": "code",
   "execution_count": 60,
   "metadata": {},
   "outputs": [
    {
     "name": "stdout",
     "output_type": "stream",
     "text": [
      "[34.33, 'Petras']\n"
     ]
    }
   ],
   "source": [
    "people['Kim'][0] = 34.33\n",
    "print(people['Kim'])"
   ]
  },
  {
   "cell_type": "markdown",
   "metadata": {},
   "source": [
    "4. write a for loop that goes through all records in the dictionary, prints the family name and assigns the float numbers into one merged list (see ages)\n",
    "ages = [23.4, 22.9, 552.9]"
   ]
  },
  {
   "cell_type": "code",
   "execution_count": 36,
   "metadata": {},
   "outputs": [
    {
     "name": "stdout",
     "output_type": "stream",
     "text": [
      "Smith\n",
      "Knowles\n",
      "Gaga\n",
      "Petras\n",
      "[27.45, 37.37, 33.21, 34.33]\n"
     ]
    }
   ],
   "source": [
    "ages = []\n",
    "for person in people:\n",
    "    print(people[person][1])\n",
    "    ages.append(people[person][0])\n",
    "\n",
    "print(ages)"
   ]
  },
  {
   "cell_type": "markdown",
   "metadata": {},
   "source": [
    "5. Download your notebbok as a .py (regular python script) save it somewhere you know"
   ]
  },
  {
   "cell_type": "markdown",
   "metadata": {},
   "source": [
    "6. Go to terminal, navigate to the folder where you have saved the script and execute it through the terminal\n",
    "use commands: cd\n",
    "python your_script.py\n",
    "\n",
    "[optional] Calculate with a for loop the median and mean of the ages list"
   ]
  },
  {
   "cell_type": "code",
   "execution_count": 62,
   "metadata": {},
   "outputs": [],
   "source": [
    "#SOLUTION\n",
    "summ = 0\n",
    "for i in range(len(ages)): \n",
    "    summ += ages[i]\n",
    "mean = summ / len(ages) \n",
    "\n",
    "ages = sorted(ages)\n",
    "for i in range(len(ages)): \n",
    "    if (((i + 1) / len(ages)) >= 0.5):\n",
    "        if(len(ages) % 2 == 0):\n",
    "            median = (ages[i-1] + ages[i]) / 2\n",
    "            break\n",
    "        else:\n",
    "            median = ages[i]\n",
    "            print(median)\n",
    "            break"
   ]
  },
  {
   "cell_type": "code",
   "execution_count": null,
   "metadata": {},
   "outputs": [],
   "source": []
  }
 ],
 "metadata": {
  "kernelspec": {
   "display_name": "Python 3",
   "language": "python",
   "name": "python3"
  },
  "language_info": {
   "codemirror_mode": {
    "name": "ipython",
    "version": 3
   },
   "file_extension": ".py",
   "mimetype": "text/x-python",
   "name": "python",
   "nbconvert_exporter": "python",
   "pygments_lexer": "ipython3",
   "version": "3.7.3"
  }
 },
 "nbformat": 4,
 "nbformat_minor": 2
}
